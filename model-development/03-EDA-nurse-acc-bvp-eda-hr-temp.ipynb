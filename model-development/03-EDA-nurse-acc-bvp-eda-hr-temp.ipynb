{
 "cells": [
  {
   "cell_type": "code",
   "execution_count": 139,
   "id": "eaa85061",
   "metadata": {},
   "outputs": [],
   "source": [
    "import pandas as pd\n",
    "# import sweetviz as sv\n",
    "import matplotlib.pyplot as plt\n",
    "import numpy as np\n",
    "from sklearn.model_selection import train_test_split\n",
    "import seaborn as sns\n",
    "#from pandas_profiling import ProfileReport"
   ]
  },
  {
   "cell_type": "code",
   "execution_count": 140,
   "id": "c2ceb686",
   "metadata": {},
   "outputs": [
    {
     "data": {
      "text/html": [
       "<style>.container { width:90% !important; }</style>"
      ],
      "text/plain": [
       "<IPython.core.display.HTML object>"
      ]
     },
     "metadata": {},
     "output_type": "display_data"
    }
   ],
   "source": [
    "from IPython.display import display, HTML\n",
    "display(HTML(\"<style>.container { width:90% !important; }</style>\"))"
   ]
  },
  {
   "cell_type": "markdown",
   "id": "9139520b",
   "metadata": {},
   "source": [
    "# 1. Description\n",
    "The data we have is from the nurse study and contains labled data (stress/no stress). The data contains data from differente sensors: ACC (accelerometer), BVP (blood volume pulse), EDA (electrodermal activity), HR (hear rate), TEMP (temperature). In the following, we look at the features created with the FLIRT (https://flirt.readthedocs.io/en/latest/) library (see other script).\n",
    "\n",
    "Note: there might be other potential features to be calculated on the raw data, for example via tsfresh (https://tsfresh.readthedocs.io/en/latest/index.html) or TSFEL (https://tsfel.readthedocs.io/en/latest/). However, FLIRT was specifically developed with the wrist sensor used in the two dataset used here, so we can reasonably expect it to produce meaningful features based on the available data."
   ]
  },
  {
   "cell_type": "markdown",
   "id": "15a9f250",
   "metadata": {},
   "source": [
    "# 2. Data Source"
   ]
  },
  {
   "cell_type": "code",
   "execution_count": 146,
   "id": "4a445cc5",
   "metadata": {},
   "outputs": [],
   "source": [
    "# load data - features calculated with Flirt with\n",
    "# window_length = 60 and\n",
    "# window_step_size = 10\n",
    "df = pd.read_parquet('data-input/flirt-nurse-acc-bvp-eda-hr-temp-60-10.parquet')"
   ]
  },
  {
   "cell_type": "code",
   "execution_count": 175,
   "id": "788a9096",
   "metadata": {},
   "outputs": [
    {
     "data": {
      "text/plain": [
       "(26654, 266)"
      ]
     },
     "execution_count": 175,
     "metadata": {},
     "output_type": "execute_result"
    }
   ],
   "source": [
    "df.shape"
   ]
  },
  {
   "cell_type": "code",
   "execution_count": 147,
   "id": "83931fc3",
   "metadata": {},
   "outputs": [
    {
     "data": {
      "text/html": [
       "<div>\n",
       "<style scoped>\n",
       "    .dataframe tbody tr th:only-of-type {\n",
       "        vertical-align: middle;\n",
       "    }\n",
       "\n",
       "    .dataframe tbody tr th {\n",
       "        vertical-align: top;\n",
       "    }\n",
       "\n",
       "    .dataframe thead th {\n",
       "        text-align: right;\n",
       "    }\n",
       "</style>\n",
       "<table border=\"1\" class=\"dataframe\">\n",
       "  <thead>\n",
       "    <tr style=\"text-align: right;\">\n",
       "      <th></th>\n",
       "      <th>bvp_BVP_mean</th>\n",
       "      <th>bvp_BVP_std</th>\n",
       "      <th>bvp_BVP_min</th>\n",
       "      <th>bvp_BVP_max</th>\n",
       "      <th>bvp_BVP_ptp</th>\n",
       "      <th>bvp_BVP_sum</th>\n",
       "      <th>bvp_BVP_energy</th>\n",
       "      <th>bvp_BVP_skewness</th>\n",
       "      <th>bvp_BVP_kurtosis</th>\n",
       "      <th>bvp_BVP_peaks</th>\n",
       "      <th>...</th>\n",
       "      <th>hr_l2_n_sign_changes</th>\n",
       "      <th>hr_l2_iqr</th>\n",
       "      <th>hr_l2_iqr_5_95</th>\n",
       "      <th>hr_l2_pct_5</th>\n",
       "      <th>hr_l2_pct_95</th>\n",
       "      <th>hr_l2_entropy</th>\n",
       "      <th>hr_l2_perm_entropy</th>\n",
       "      <th>hr_l2_svd_entropy</th>\n",
       "      <th>subject</th>\n",
       "      <th>label</th>\n",
       "    </tr>\n",
       "    <tr>\n",
       "      <th>datetime</th>\n",
       "      <th></th>\n",
       "      <th></th>\n",
       "      <th></th>\n",
       "      <th></th>\n",
       "      <th></th>\n",
       "      <th></th>\n",
       "      <th></th>\n",
       "      <th></th>\n",
       "      <th></th>\n",
       "      <th></th>\n",
       "      <th></th>\n",
       "      <th></th>\n",
       "      <th></th>\n",
       "      <th></th>\n",
       "      <th></th>\n",
       "      <th></th>\n",
       "      <th></th>\n",
       "      <th></th>\n",
       "      <th></th>\n",
       "      <th></th>\n",
       "      <th></th>\n",
       "    </tr>\n",
       "  </thead>\n",
       "  <tbody>\n",
       "    <tr>\n",
       "      <th>2020-07-08 08:31:00</th>\n",
       "      <td>0.376078</td>\n",
       "      <td>207.186980</td>\n",
       "      <td>-1336.28</td>\n",
       "      <td>1333.44</td>\n",
       "      <td>2669.72</td>\n",
       "      <td>1444.14</td>\n",
       "      <td>1.648381e+08</td>\n",
       "      <td>-0.210934</td>\n",
       "      <td>8.208982</td>\n",
       "      <td>174</td>\n",
       "      <td>...</td>\n",
       "      <td>0.0</td>\n",
       "      <td>16.1900</td>\n",
       "      <td>20.1850</td>\n",
       "      <td>78.669</td>\n",
       "      <td>98.8540</td>\n",
       "      <td>4.090539</td>\n",
       "      <td>0.537376</td>\n",
       "      <td>0.040885</td>\n",
       "      <td>15</td>\n",
       "      <td>1</td>\n",
       "    </tr>\n",
       "    <tr>\n",
       "      <th>2020-07-08 08:31:10</th>\n",
       "      <td>0.813401</td>\n",
       "      <td>205.085789</td>\n",
       "      <td>-1336.28</td>\n",
       "      <td>1470.89</td>\n",
       "      <td>2807.17</td>\n",
       "      <td>3123.46</td>\n",
       "      <td>1.615136e+08</td>\n",
       "      <td>0.453604</td>\n",
       "      <td>10.256058</td>\n",
       "      <td>172</td>\n",
       "      <td>...</td>\n",
       "      <td>0.0</td>\n",
       "      <td>11.9525</td>\n",
       "      <td>18.4160</td>\n",
       "      <td>78.669</td>\n",
       "      <td>97.0850</td>\n",
       "      <td>4.091445</td>\n",
       "      <td>0.879136</td>\n",
       "      <td>0.054576</td>\n",
       "      <td>15</td>\n",
       "      <td>1</td>\n",
       "    </tr>\n",
       "    <tr>\n",
       "      <th>2020-07-08 08:31:20</th>\n",
       "      <td>-1.458391</td>\n",
       "      <td>183.187930</td>\n",
       "      <td>-823.18</td>\n",
       "      <td>1470.89</td>\n",
       "      <td>2294.07</td>\n",
       "      <td>-5600.22</td>\n",
       "      <td>1.288702e+08</td>\n",
       "      <td>1.219684</td>\n",
       "      <td>12.753530</td>\n",
       "      <td>178</td>\n",
       "      <td>...</td>\n",
       "      <td>0.0</td>\n",
       "      <td>6.7350</td>\n",
       "      <td>14.3385</td>\n",
       "      <td>78.669</td>\n",
       "      <td>93.0075</td>\n",
       "      <td>4.092899</td>\n",
       "      <td>0.998001</td>\n",
       "      <td>0.068318</td>\n",
       "      <td>15</td>\n",
       "      <td>1</td>\n",
       "    </tr>\n",
       "  </tbody>\n",
       "</table>\n",
       "<p>3 rows × 266 columns</p>\n",
       "</div>"
      ],
      "text/plain": [
       "                     bvp_BVP_mean  bvp_BVP_std  bvp_BVP_min  bvp_BVP_max  \\\n",
       "datetime                                                                   \n",
       "2020-07-08 08:31:00      0.376078   207.186980     -1336.28      1333.44   \n",
       "2020-07-08 08:31:10      0.813401   205.085789     -1336.28      1470.89   \n",
       "2020-07-08 08:31:20     -1.458391   183.187930      -823.18      1470.89   \n",
       "\n",
       "                     bvp_BVP_ptp  bvp_BVP_sum  bvp_BVP_energy  \\\n",
       "datetime                                                        \n",
       "2020-07-08 08:31:00      2669.72      1444.14    1.648381e+08   \n",
       "2020-07-08 08:31:10      2807.17      3123.46    1.615136e+08   \n",
       "2020-07-08 08:31:20      2294.07     -5600.22    1.288702e+08   \n",
       "\n",
       "                     bvp_BVP_skewness  bvp_BVP_kurtosis  bvp_BVP_peaks  ...  \\\n",
       "datetime                                                                ...   \n",
       "2020-07-08 08:31:00         -0.210934          8.208982            174  ...   \n",
       "2020-07-08 08:31:10          0.453604         10.256058            172  ...   \n",
       "2020-07-08 08:31:20          1.219684         12.753530            178  ...   \n",
       "\n",
       "                     hr_l2_n_sign_changes  hr_l2_iqr  hr_l2_iqr_5_95  \\\n",
       "datetime                                                               \n",
       "2020-07-08 08:31:00                   0.0    16.1900         20.1850   \n",
       "2020-07-08 08:31:10                   0.0    11.9525         18.4160   \n",
       "2020-07-08 08:31:20                   0.0     6.7350         14.3385   \n",
       "\n",
       "                     hr_l2_pct_5  hr_l2_pct_95  hr_l2_entropy  \\\n",
       "datetime                                                        \n",
       "2020-07-08 08:31:00       78.669       98.8540       4.090539   \n",
       "2020-07-08 08:31:10       78.669       97.0850       4.091445   \n",
       "2020-07-08 08:31:20       78.669       93.0075       4.092899   \n",
       "\n",
       "                     hr_l2_perm_entropy  hr_l2_svd_entropy  subject  label  \n",
       "datetime                                                                    \n",
       "2020-07-08 08:31:00            0.537376           0.040885       15      1  \n",
       "2020-07-08 08:31:10            0.879136           0.054576       15      1  \n",
       "2020-07-08 08:31:20            0.998001           0.068318       15      1  \n",
       "\n",
       "[3 rows x 266 columns]"
      ]
     },
     "execution_count": 147,
     "metadata": {},
     "output_type": "execute_result"
    }
   ],
   "source": [
    "df.head(3)"
   ]
  },
  {
   "cell_type": "code",
   "execution_count": 148,
   "id": "a086ccef",
   "metadata": {},
   "outputs": [
    {
     "data": {
      "text/plain": [
       "0    266\n",
       "dtype: int64"
      ]
     },
     "execution_count": 148,
     "metadata": {},
     "output_type": "execute_result"
    }
   ],
   "source": [
    "# there are no missing values in the dataset\n",
    "df.isnull().sum().value_counts()"
   ]
  },
  {
   "cell_type": "code",
   "execution_count": 149,
   "id": "d9cf5543",
   "metadata": {},
   "outputs": [
    {
     "data": {
      "text/plain": [
       "83    4289\n",
       "E4    3516\n",
       "DF    2610\n",
       "7A    2566\n",
       "CE    1918\n",
       "BG    1901\n",
       "EG    1716\n",
       "6B    1612\n",
       "6D    1508\n",
       "5C    1432\n",
       "F5    1196\n",
       "94     830\n",
       "7E     690\n",
       "8B     586\n",
       "15     284\n",
       "Name: subject, dtype: int64"
      ]
     },
     "execution_count": 149,
     "metadata": {},
     "output_type": "execute_result"
    }
   ],
   "source": [
    "df['subject'].value_counts()"
   ]
  },
  {
   "cell_type": "code",
   "execution_count": 150,
   "id": "9c77b753",
   "metadata": {},
   "outputs": [
    {
     "data": {
      "text/plain": [
       "1    0.839274\n",
       "0    0.160726\n",
       "Name: label, dtype: float64"
      ]
     },
     "execution_count": 150,
     "metadata": {},
     "output_type": "execute_result"
    }
   ],
   "source": [
    "df['label'].value_counts(normalize=True)"
   ]
  },
  {
   "cell_type": "markdown",
   "id": "bd5ee305",
   "metadata": {},
   "source": [
    "# 3. Train-test split\n",
    "We perform the train-test split before we conduct EDA on the train set. Thus, we avoid data leakage from the test set."
   ]
  },
  {
   "cell_type": "code",
   "execution_count": 151,
   "id": "603026af",
   "metadata": {},
   "outputs": [],
   "source": [
    "X = df.drop(columns=['subject', 'label'])\n",
    "y = df[['label']]"
   ]
  },
  {
   "cell_type": "code",
   "execution_count": 152,
   "id": "687702e9",
   "metadata": {},
   "outputs": [],
   "source": [
    "X_train, X_test, y_train, y_test = train_test_split(X, y, test_size=0.2, random_state=0)"
   ]
  },
  {
   "cell_type": "code",
   "execution_count": 153,
   "id": "0346349d",
   "metadata": {},
   "outputs": [],
   "source": [
    "df_train= pd.concat([X_train, y_train], axis=1)"
   ]
  },
  {
   "cell_type": "markdown",
   "id": "11af7e6a",
   "metadata": {},
   "source": [
    "# 4. EDA"
   ]
  },
  {
   "cell_type": "markdown",
   "id": "c26ed9fc",
   "metadata": {},
   "source": [
    "## 4.1 Looking into data"
   ]
  },
  {
   "cell_type": "code",
   "execution_count": 154,
   "id": "c0493468",
   "metadata": {},
   "outputs": [
    {
     "data": {
      "text/plain": [
       "float64    224\n",
       "int32       30\n",
       "int64       11\n",
       "dtype: int64"
      ]
     },
     "execution_count": 154,
     "metadata": {},
     "output_type": "execute_result"
    }
   ],
   "source": [
    "# we do not have categorical features, only int (count) and float\n",
    "df_train.dtypes.value_counts()"
   ]
  },
  {
   "cell_type": "code",
   "execution_count": 156,
   "id": "1de8e083",
   "metadata": {},
   "outputs": [
    {
     "name": "stderr",
     "output_type": "stream",
     "text": [
      "c:\\Tools\\anaconda3\\envs\\base3\\lib\\site-packages\\numpy\\lib\\function_base.py:4009: RuntimeWarning: invalid value encountered in subtract\n",
      "  diff_b_a = subtract(b, a)\n",
      "c:\\Tools\\anaconda3\\envs\\base3\\lib\\site-packages\\numpy\\lib\\function_base.py:4009: RuntimeWarning: invalid value encountered in subtract\n",
      "  diff_b_a = subtract(b, a)\n",
      "c:\\Tools\\anaconda3\\envs\\base3\\lib\\site-packages\\numpy\\lib\\function_base.py:4009: RuntimeWarning: invalid value encountered in subtract\n",
      "  diff_b_a = subtract(b, a)\n",
      "c:\\Tools\\anaconda3\\envs\\base3\\lib\\site-packages\\numpy\\lib\\function_base.py:4009: RuntimeWarning: invalid value encountered in subtract\n",
      "  diff_b_a = subtract(b, a)\n"
     ]
    },
    {
     "data": {
      "text/html": [
       "<div>\n",
       "<style scoped>\n",
       "    .dataframe tbody tr th:only-of-type {\n",
       "        vertical-align: middle;\n",
       "    }\n",
       "\n",
       "    .dataframe tbody tr th {\n",
       "        vertical-align: top;\n",
       "    }\n",
       "\n",
       "    .dataframe thead th {\n",
       "        text-align: right;\n",
       "    }\n",
       "</style>\n",
       "<table border=\"1\" class=\"dataframe\">\n",
       "  <thead>\n",
       "    <tr style=\"text-align: right;\">\n",
       "      <th></th>\n",
       "      <th>bvp_BVP_mean</th>\n",
       "      <th>bvp_BVP_std</th>\n",
       "      <th>bvp_BVP_min</th>\n",
       "      <th>bvp_BVP_max</th>\n",
       "      <th>bvp_BVP_ptp</th>\n",
       "      <th>bvp_BVP_sum</th>\n",
       "      <th>bvp_BVP_energy</th>\n",
       "      <th>bvp_BVP_skewness</th>\n",
       "      <th>bvp_BVP_kurtosis</th>\n",
       "      <th>bvp_BVP_peaks</th>\n",
       "      <th>...</th>\n",
       "      <th>hr_l2_n_below_mean</th>\n",
       "      <th>hr_l2_n_sign_changes</th>\n",
       "      <th>hr_l2_iqr</th>\n",
       "      <th>hr_l2_iqr_5_95</th>\n",
       "      <th>hr_l2_pct_5</th>\n",
       "      <th>hr_l2_pct_95</th>\n",
       "      <th>hr_l2_entropy</th>\n",
       "      <th>hr_l2_perm_entropy</th>\n",
       "      <th>hr_l2_svd_entropy</th>\n",
       "      <th>label</th>\n",
       "    </tr>\n",
       "  </thead>\n",
       "  <tbody>\n",
       "    <tr>\n",
       "      <th>count</th>\n",
       "      <td>21323.000000</td>\n",
       "      <td>21323.000000</td>\n",
       "      <td>21323.000000</td>\n",
       "      <td>21323.000000</td>\n",
       "      <td>21323.000000</td>\n",
       "      <td>21323.000000</td>\n",
       "      <td>2.132300e+04</td>\n",
       "      <td>21323.000000</td>\n",
       "      <td>21323.000000</td>\n",
       "      <td>21323.000000</td>\n",
       "      <td>...</td>\n",
       "      <td>21323.000000</td>\n",
       "      <td>21323.0</td>\n",
       "      <td>21323.000000</td>\n",
       "      <td>21323.000000</td>\n",
       "      <td>21323.000000</td>\n",
       "      <td>21323.000000</td>\n",
       "      <td>21323.000000</td>\n",
       "      <td>21323.000000</td>\n",
       "      <td>21323.000000</td>\n",
       "      <td>21323.000000</td>\n",
       "    </tr>\n",
       "    <tr>\n",
       "      <th>mean</th>\n",
       "      <td>-0.000777</td>\n",
       "      <td>81.896289</td>\n",
       "      <td>-480.656962</td>\n",
       "      <td>441.288654</td>\n",
       "      <td>921.945616</td>\n",
       "      <td>-2.289911</td>\n",
       "      <td>3.888219e+07</td>\n",
       "      <td>-0.275215</td>\n",
       "      <td>9.714851</td>\n",
       "      <td>147.879942</td>\n",
       "      <td>...</td>\n",
       "      <td>29.690475</td>\n",
       "      <td>0.0</td>\n",
       "      <td>5.034220</td>\n",
       "      <td>8.901721</td>\n",
       "      <td>79.926363</td>\n",
       "      <td>88.828083</td>\n",
       "      <td>4.069301</td>\n",
       "      <td>0.693065</td>\n",
       "      <td>0.028639</td>\n",
       "      <td>0.838859</td>\n",
       "    </tr>\n",
       "    <tr>\n",
       "      <th>std</th>\n",
       "      <td>0.689915</td>\n",
       "      <td>60.261046</td>\n",
       "      <td>370.484900</td>\n",
       "      <td>347.764399</td>\n",
       "      <td>695.564727</td>\n",
       "      <td>2201.859181</td>\n",
       "      <td>5.544580e+07</td>\n",
       "      <td>0.982297</td>\n",
       "      <td>12.333167</td>\n",
       "      <td>38.255196</td>\n",
       "      <td>...</td>\n",
       "      <td>6.448868</td>\n",
       "      <td>0.0</td>\n",
       "      <td>4.774026</td>\n",
       "      <td>7.483727</td>\n",
       "      <td>12.146316</td>\n",
       "      <td>14.762834</td>\n",
       "      <td>0.164423</td>\n",
       "      <td>0.330956</td>\n",
       "      <td>0.014352</td>\n",
       "      <td>0.367669</td>\n",
       "    </tr>\n",
       "    <tr>\n",
       "      <th>min</th>\n",
       "      <td>-19.124290</td>\n",
       "      <td>2.391237</td>\n",
       "      <td>-3096.160000</td>\n",
       "      <td>7.680000</td>\n",
       "      <td>16.710000</td>\n",
       "      <td>-21276.770000</td>\n",
       "      <td>4.267821e+03</td>\n",
       "      <td>-10.078009</td>\n",
       "      <td>-1.214924</td>\n",
       "      <td>11.000000</td>\n",
       "      <td>...</td>\n",
       "      <td>3.000000</td>\n",
       "      <td>0.0</td>\n",
       "      <td>0.060000</td>\n",
       "      <td>0.100000</td>\n",
       "      <td>51.636500</td>\n",
       "      <td>53.937000</td>\n",
       "      <td>1.945893</td>\n",
       "      <td>-0.000000</td>\n",
       "      <td>0.001518</td>\n",
       "      <td>0.000000</td>\n",
       "    </tr>\n",
       "    <tr>\n",
       "      <th>25%</th>\n",
       "      <td>-0.154538</td>\n",
       "      <td>35.961048</td>\n",
       "      <td>-667.850000</td>\n",
       "      <td>192.485000</td>\n",
       "      <td>406.155000</td>\n",
       "      <td>-581.305000</td>\n",
       "      <td>4.857504e+06</td>\n",
       "      <td>-0.645942</td>\n",
       "      <td>3.209126</td>\n",
       "      <td>123.000000</td>\n",
       "      <td>...</td>\n",
       "      <td>26.000000</td>\n",
       "      <td>0.0</td>\n",
       "      <td>1.657500</td>\n",
       "      <td>3.539000</td>\n",
       "      <td>72.980000</td>\n",
       "      <td>79.324000</td>\n",
       "      <td>4.092998</td>\n",
       "      <td>0.537376</td>\n",
       "      <td>0.018573</td>\n",
       "      <td>1.000000</td>\n",
       "    </tr>\n",
       "    <tr>\n",
       "      <th>50%</th>\n",
       "      <td>-0.000911</td>\n",
       "      <td>63.184157</td>\n",
       "      <td>-381.270000</td>\n",
       "      <td>353.580000</td>\n",
       "      <td>749.170000</td>\n",
       "      <td>-3.490000</td>\n",
       "      <td>1.508862e+07</td>\n",
       "      <td>-0.239709</td>\n",
       "      <td>6.138227</td>\n",
       "      <td>146.000000</td>\n",
       "      <td>...</td>\n",
       "      <td>30.000000</td>\n",
       "      <td>0.0</td>\n",
       "      <td>3.490000</td>\n",
       "      <td>6.676000</td>\n",
       "      <td>78.522000</td>\n",
       "      <td>86.470000</td>\n",
       "      <td>4.093934</td>\n",
       "      <td>0.831474</td>\n",
       "      <td>0.026046</td>\n",
       "      <td>1.000000</td>\n",
       "    </tr>\n",
       "    <tr>\n",
       "      <th>75%</th>\n",
       "      <td>0.156691</td>\n",
       "      <td>114.524212</td>\n",
       "      <td>-205.970000</td>\n",
       "      <td>588.040000</td>\n",
       "      <td>1265.590000</td>\n",
       "      <td>590.590000</td>\n",
       "      <td>4.943861e+07</td>\n",
       "      <td>0.152924</td>\n",
       "      <td>11.628347</td>\n",
       "      <td>170.000000</td>\n",
       "      <td>...</td>\n",
       "      <td>34.000000</td>\n",
       "      <td>0.0</td>\n",
       "      <td>6.850000</td>\n",
       "      <td>11.999500</td>\n",
       "      <td>85.797500</td>\n",
       "      <td>95.822500</td>\n",
       "      <td>4.094230</td>\n",
       "      <td>0.962146</td>\n",
       "      <td>0.035681</td>\n",
       "      <td>1.000000</td>\n",
       "    </tr>\n",
       "    <tr>\n",
       "      <th>max</th>\n",
       "      <td>20.174836</td>\n",
       "      <td>468.793463</td>\n",
       "      <td>-8.270000</td>\n",
       "      <td>2506.460000</td>\n",
       "      <td>5525.440000</td>\n",
       "      <td>22740.860000</td>\n",
       "      <td>5.208890e+08</td>\n",
       "      <td>10.436767</td>\n",
       "      <td>172.777141</td>\n",
       "      <td>479.000000</td>\n",
       "      <td>...</td>\n",
       "      <td>51.000000</td>\n",
       "      <td>0.0</td>\n",
       "      <td>50.912500</td>\n",
       "      <td>80.008500</td>\n",
       "      <td>165.049000</td>\n",
       "      <td>179.871500</td>\n",
       "      <td>4.094344</td>\n",
       "      <td>1.000000</td>\n",
       "      <td>0.265936</td>\n",
       "      <td>1.000000</td>\n",
       "    </tr>\n",
       "  </tbody>\n",
       "</table>\n",
       "<p>8 rows × 265 columns</p>\n",
       "</div>"
      ],
      "text/plain": [
       "       bvp_BVP_mean   bvp_BVP_std   bvp_BVP_min   bvp_BVP_max   bvp_BVP_ptp  \\\n",
       "count  21323.000000  21323.000000  21323.000000  21323.000000  21323.000000   \n",
       "mean      -0.000777     81.896289   -480.656962    441.288654    921.945616   \n",
       "std        0.689915     60.261046    370.484900    347.764399    695.564727   \n",
       "min      -19.124290      2.391237  -3096.160000      7.680000     16.710000   \n",
       "25%       -0.154538     35.961048   -667.850000    192.485000    406.155000   \n",
       "50%       -0.000911     63.184157   -381.270000    353.580000    749.170000   \n",
       "75%        0.156691    114.524212   -205.970000    588.040000   1265.590000   \n",
       "max       20.174836    468.793463     -8.270000   2506.460000   5525.440000   \n",
       "\n",
       "        bvp_BVP_sum  bvp_BVP_energy  bvp_BVP_skewness  bvp_BVP_kurtosis  \\\n",
       "count  21323.000000    2.132300e+04      21323.000000      21323.000000   \n",
       "mean      -2.289911    3.888219e+07         -0.275215          9.714851   \n",
       "std     2201.859181    5.544580e+07          0.982297         12.333167   \n",
       "min   -21276.770000    4.267821e+03        -10.078009         -1.214924   \n",
       "25%     -581.305000    4.857504e+06         -0.645942          3.209126   \n",
       "50%       -3.490000    1.508862e+07         -0.239709          6.138227   \n",
       "75%      590.590000    4.943861e+07          0.152924         11.628347   \n",
       "max    22740.860000    5.208890e+08         10.436767        172.777141   \n",
       "\n",
       "       bvp_BVP_peaks  ...  hr_l2_n_below_mean  hr_l2_n_sign_changes  \\\n",
       "count   21323.000000  ...        21323.000000               21323.0   \n",
       "mean      147.879942  ...           29.690475                   0.0   \n",
       "std        38.255196  ...            6.448868                   0.0   \n",
       "min        11.000000  ...            3.000000                   0.0   \n",
       "25%       123.000000  ...           26.000000                   0.0   \n",
       "50%       146.000000  ...           30.000000                   0.0   \n",
       "75%       170.000000  ...           34.000000                   0.0   \n",
       "max       479.000000  ...           51.000000                   0.0   \n",
       "\n",
       "          hr_l2_iqr  hr_l2_iqr_5_95   hr_l2_pct_5  hr_l2_pct_95  \\\n",
       "count  21323.000000    21323.000000  21323.000000  21323.000000   \n",
       "mean       5.034220        8.901721     79.926363     88.828083   \n",
       "std        4.774026        7.483727     12.146316     14.762834   \n",
       "min        0.060000        0.100000     51.636500     53.937000   \n",
       "25%        1.657500        3.539000     72.980000     79.324000   \n",
       "50%        3.490000        6.676000     78.522000     86.470000   \n",
       "75%        6.850000       11.999500     85.797500     95.822500   \n",
       "max       50.912500       80.008500    165.049000    179.871500   \n",
       "\n",
       "       hr_l2_entropy  hr_l2_perm_entropy  hr_l2_svd_entropy         label  \n",
       "count   21323.000000        21323.000000       21323.000000  21323.000000  \n",
       "mean        4.069301            0.693065           0.028639      0.838859  \n",
       "std         0.164423            0.330956           0.014352      0.367669  \n",
       "min         1.945893           -0.000000           0.001518      0.000000  \n",
       "25%         4.092998            0.537376           0.018573      1.000000  \n",
       "50%         4.093934            0.831474           0.026046      1.000000  \n",
       "75%         4.094230            0.962146           0.035681      1.000000  \n",
       "max         4.094344            1.000000           0.265936      1.000000  \n",
       "\n",
       "[8 rows x 265 columns]"
      ]
     },
     "execution_count": 156,
     "metadata": {},
     "output_type": "execute_result"
    }
   ],
   "source": [
    "df_train.describe()"
   ]
  },
  {
   "cell_type": "code",
   "execution_count": 157,
   "id": "905f3e06",
   "metadata": {},
   "outputs": [],
   "source": [
    "# remove rows with only one value for each row\n",
    "#overall_length = len(df_train)\n",
    "columns = df_train.columns.tolist()\n",
    "constant_columns = []\n",
    "\n",
    "for c in columns:\n",
    "    unique_in_column = len(df_train[c].unique())\n",
    "    \n",
    "    #if unique_in_column/overall_length < 0.1 and c != 'label' and c != 'subject':\n",
    "    if unique_in_column == 1:\n",
    "        constant_columns.append(c)"
   ]
  },
  {
   "cell_type": "code",
   "execution_count": 158,
   "id": "c7ae3490",
   "metadata": {},
   "outputs": [
    {
     "data": {
      "text/plain": [
       "['bvp_BVP_entropy',\n",
       " 'acc_l2_n_sign_changes',\n",
       " 'temp_TEMP_n_sign_changes',\n",
       " 'temp_l2_n_sign_changes',\n",
       " 'hr_HR_n_sign_changes',\n",
       " 'hr_l2_n_sign_changes']"
      ]
     },
     "execution_count": 158,
     "metadata": {},
     "output_type": "execute_result"
    }
   ],
   "source": [
    "constant_columns"
   ]
  },
  {
   "cell_type": "code",
   "execution_count": 159,
   "id": "c1a6f2f3",
   "metadata": {},
   "outputs": [
    {
     "name": "stderr",
     "output_type": "stream",
     "text": [
      "c:\\Tools\\anaconda3\\envs\\base3\\lib\\site-packages\\numpy\\lib\\function_base.py:4009: RuntimeWarning: invalid value encountered in subtract\n",
      "  diff_b_a = subtract(b, a)\n",
      "c:\\Tools\\anaconda3\\envs\\base3\\lib\\site-packages\\numpy\\lib\\function_base.py:4009: RuntimeWarning: invalid value encountered in subtract\n",
      "  diff_b_a = subtract(b, a)\n",
      "c:\\Tools\\anaconda3\\envs\\base3\\lib\\site-packages\\numpy\\lib\\function_base.py:4009: RuntimeWarning: invalid value encountered in subtract\n",
      "  diff_b_a = subtract(b, a)\n",
      "c:\\Tools\\anaconda3\\envs\\base3\\lib\\site-packages\\numpy\\lib\\function_base.py:4009: RuntimeWarning: invalid value encountered in subtract\n",
      "  diff_b_a = subtract(b, a)\n",
      "c:\\Tools\\anaconda3\\envs\\base3\\lib\\site-packages\\numpy\\lib\\function_base.py:4009: RuntimeWarning: invalid value encountered in subtract\n",
      "  diff_b_a = subtract(b, a)\n",
      "c:\\Tools\\anaconda3\\envs\\base3\\lib\\site-packages\\numpy\\lib\\function_base.py:4009: RuntimeWarning: invalid value encountered in subtract\n",
      "  diff_b_a = subtract(b, a)\n",
      "c:\\Tools\\anaconda3\\envs\\base3\\lib\\site-packages\\numpy\\lib\\function_base.py:4009: RuntimeWarning: invalid value encountered in subtract\n",
      "  diff_b_a = subtract(b, a)\n",
      "c:\\Tools\\anaconda3\\envs\\base3\\lib\\site-packages\\numpy\\lib\\function_base.py:4009: RuntimeWarning: invalid value encountered in subtract\n",
      "  diff_b_a = subtract(b, a)\n"
     ]
    }
   ],
   "source": [
    "# remove rows where we cannot calculate sandard deviation of the column\n",
    "\n",
    "df_desc = df_train.describe()\n",
    "columns_describe = df_train.describe().columns.tolist()\n",
    "no_std_columns = []\n",
    "\n",
    "for c in columns:\n",
    "    std = df_desc[c]['std']\n",
    "\n",
    "    #if unique_in_column/overall_length < 0.1 and c != 'label' and c != 'subject':\n",
    "    if np.isnan(std):\n",
    "        no_std_columns.append(c)"
   ]
  },
  {
   "cell_type": "code",
   "execution_count": 160,
   "id": "618bb577",
   "metadata": {},
   "outputs": [
    {
     "data": {
      "text/plain": [
       "['bvp_BVP_entropy', 'acc_x_entropy', 'acc_y_entropy', 'acc_z_entropy']"
      ]
     },
     "execution_count": 160,
     "metadata": {},
     "output_type": "execute_result"
    }
   ],
   "source": [
    "no_std_columns"
   ]
  },
  {
   "cell_type": "code",
   "execution_count": 170,
   "id": "75bbf76c",
   "metadata": {},
   "outputs": [],
   "source": [
    "columns_to_drop = list((set(constant_columns).union(set(no_std_columns))))"
   ]
  },
  {
   "cell_type": "code",
   "execution_count": 171,
   "id": "304970b1",
   "metadata": {},
   "outputs": [
    {
     "data": {
      "text/plain": [
       "['acc_y_entropy',\n",
       " 'bvp_BVP_entropy',\n",
       " 'acc_z_entropy',\n",
       " 'hr_HR_n_sign_changes',\n",
       " 'hr_l2_n_sign_changes',\n",
       " 'temp_l2_n_sign_changes',\n",
       " 'acc_l2_n_sign_changes',\n",
       " 'acc_x_entropy',\n",
       " 'temp_TEMP_n_sign_changes']"
      ]
     },
     "execution_count": 171,
     "metadata": {},
     "output_type": "execute_result"
    }
   ],
   "source": [
    "columns_to_drop"
   ]
  },
  {
   "cell_type": "code",
   "execution_count": 172,
   "id": "733a6aac",
   "metadata": {},
   "outputs": [],
   "source": [
    "df_train = df_train.drop(columns=columns_to_drop)"
   ]
  },
  {
   "cell_type": "markdown",
   "id": "25dce44f",
   "metadata": {},
   "source": [
    "## 4.2 Correlations"
   ]
  },
  {
   "cell_type": "code",
   "execution_count": null,
   "id": "e8b70a4a",
   "metadata": {},
   "outputs": [],
   "source": [
    "plt.figure(figsize=(35, 35))\n",
    "corr = df_train.corr(method='spearman')\n",
    "heatmap = sns.heatmap(corr.sort_values(by='label', ascending=False),\n",
    "                      vmin=-1, vmax=1, annot=True, fmt='.1g', cmap='BrBG')\n",
    "heatmap.set_title('Features correlating with stress label', fontdict={'fontsize':15}, pad=16);"
   ]
  },
  {
   "cell_type": "markdown",
   "id": "5295b321",
   "metadata": {},
   "source": [
    "The image is really large, so we load a screenshot here\n",
    "![alt text](eda-nurse-acc-bvp-eda-hr-temp.jpg)"
   ]
  },
  {
   "cell_type": "markdown",
   "id": "bbb84a10",
   "metadata": {},
   "source": [
    "# 5. Documenting data lineage\n",
    "\n",
    "The dataset contains\n",
    "* BVP (blood volume pulse) sensor data in 64hz\n",
    "* ACC: accelerometer data (x, y, z values) in 32hz\n",
    "* EDA (electrodermal activity) in 4hz\n",
    "* HR (hear rate) in 1hz\n",
    "* TEMP (temperature) in 4hz\n",
    "\n",
    "The dataset is labeled (stress/no stress).\n",
    "\n",
    "Script ```01-extract-data-from-nurse-dataset``` downloads the nurse study dataset. It unzips all included files. From the raw data from the Empatica E4 wrist sensor, we use the devicely library (https://hpi-dhc.github.io/devicely/) for extracing the needed data and setting it in the correct timezone given in the publication about the data (https://www.nature.com/articles/s41597-022-01361-y). We look up the ground-truth labels and use the stress/no stress labels to label the sensor data. The results are stored as a parquet file.\n",
    "\n",
    "In script ```02-calculate-features```, we calculate features with the FLIRT library (https://flirt.readthedocs.io/en/latest/). In this notebook you're currently reading, we perform EDA. In the following steps, we might want to go back to feature calculation and calculate other/more features."
   ]
  },
  {
   "cell_type": "markdown",
   "id": "07c19870",
   "metadata": {},
   "source": [
    "# 6. Observations from EDA\n",
    "\n",
    "### Looking into the dataset\n",
    "* Given the windows size and step size, we have 26654 rows and 264 features.\n",
    "* We could also calculate feature via tsfresh and/or TSFEL; and we could try different parameters for window_length and window_step_size when using FLIRT.\n",
    "* There are no missing values.\n",
    "* We have 84% of positive cases (stress) and 16% of negative cases in our data - we have to account for this when building and evaluating the model, e.g., by using appropriate evaluation metrics for imbalanced data.\n",
    "* We do not have categorical variables, only numerical (count and float).\n",
    "\n",
    "* There are a some columns that we drop, because they either have have the same value for each row, or it is impossible to calculate the standard deviation on them:\n",
    "  * acc_y_entropy\n",
    "  * bvp_BVP_entropy\n",
    "  * acc_z_entropy\n",
    "  * hr_HR_n_sign_changes\n",
    "  * hr_l2_n_sign_changes\n",
    "  * temp_l2_n_sign_changes\n",
    "  * acc_l2_n_sign_changes\n",
    "  * acc_x_entropy\n",
    "  * temp_TEMP_n_sign_changes\n",
    "* The ranges of the values are quite far from each other - we should normalize/standardize.\n",
    "\n",
    "### Correlations\n",
    "* There are several correlated features. Because of the amount of features, we should apply an automated method for deciding which features to keep."
   ]
  }
 ],
 "metadata": {
  "kernelspec": {
   "display_name": "Python (stress01)",
   "language": "python",
   "name": "stress01"
  },
  "language_info": {
   "codemirror_mode": {
    "name": "ipython",
    "version": 3
   },
   "file_extension": ".py",
   "mimetype": "text/x-python",
   "name": "python",
   "nbconvert_exporter": "python",
   "pygments_lexer": "ipython3",
   "version": "3.10.8"
  },
  "vscode": {
   "interpreter": {
    "hash": "7faeafcdb7b1476f711d2dd1a59a238cf05b963035646615ec88d1898d9d931a"
   }
  }
 },
 "nbformat": 4,
 "nbformat_minor": 5
}
