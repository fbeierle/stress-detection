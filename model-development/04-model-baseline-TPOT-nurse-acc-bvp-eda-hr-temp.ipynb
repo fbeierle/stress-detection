{
 "cells": [
  {
   "cell_type": "code",
   "execution_count": 1,
   "id": "e40191e7",
   "metadata": {},
   "outputs": [],
   "source": [
    "import pandas as pd\n",
    "import numpy as np\n",
    "from sklearn.model_selection import GroupKFold\n",
    "from tpot import TPOTClassifier\n",
    "from sklearn.metrics import recall_score, precision_score, f1_score, confusion_matrix, roc_auc_score, average_precision_score, accuracy_score, ConfusionMatrixDisplay\n",
    "from sklearn.metrics import PrecisionRecallDisplay\n",
    "\n",
    "import utils"
   ]
  },
  {
   "cell_type": "markdown",
   "id": "fdee9240",
   "metadata": {},
   "source": [
    "# Read data and split it into train/test"
   ]
  },
  {
   "cell_type": "code",
   "execution_count": 2,
   "id": "fc13b39b",
   "metadata": {},
   "outputs": [],
   "source": [
    "def read_data_and_split(groups_considered):\n",
    "    '''\n",
    "    Read the data and splits it into train and test set. If groups_considered is set to False,\n",
    "    we split randomly, without considering which user a row of data is from - which will produce\n",
    "    misleading results, see interpretation at the bottom of this notebook.\n",
    "    '''\n",
    "    \n",
    "    df = pd.read_parquet('data-input/flirt-nurse-acc-bvp-eda-hr-temp-60-10.parquet')\n",
    "\n",
    "    # remove columns (see EDA)\n",
    "    columns_to_drop = ['acc_y_entropy',\n",
    "     'bvp_BVP_entropy',\n",
    "     'acc_z_entropy',\n",
    "     'hr_HR_n_sign_changes',\n",
    "     'hr_l2_n_sign_changes',\n",
    "     'temp_l2_n_sign_changes',\n",
    "     'acc_l2_n_sign_changes',\n",
    "     'acc_x_entropy',\n",
    "     'temp_TEMP_n_sign_changes']\n",
    "\n",
    "    df = df.drop(columns=columns_to_drop)\n",
    "\n",
    "    display(df['label'].value_counts())\n",
    "\n",
    "    # we need to favor the minority class, in this case: no stress\n",
    "    df['label'] = df['label'].replace({0:1, 1:0})\n",
    "\n",
    "    df.head(3)\n",
    "    \n",
    "    # split into train and test\n",
    "    df_train, df_test = utils.create_train_test(df, 5, 'subject', 'label')\n",
    "\n",
    "    X_train, y_train, groups_train = utils.split_df(df_train, 'subject', 'label')\n",
    "    X_test, y_test, groups_test = utils.split_df(df_test, 'subject', 'label')\n",
    "\n",
    "\n",
    "    # overwrite values without considereing groups if parameter is False\n",
    "    if not groups_considered:\n",
    "        # split into train and test\n",
    "        print('You are not considering groups - this will produce misleading results!')\n",
    "        df_train, df_test = utils.create_train_test_nogrp(df, 5, 'subject', 'label')\n",
    "\n",
    "        X_train, y_train = utils.split_df_nogrp(df_train, 'subject', 'label')\n",
    "        X_test, y_test = utils.split_df_nogrp(df_test, 'subject', 'label')\n",
    "\n",
    "\n",
    "    # remove correlated features from train\n",
    "    X_train, selected_features = utils.remove_correlated_features(X_train, 0.8)\n",
    "\n",
    "    # remove the same columns from test\n",
    "    X_test = X_test[selected_features]\n",
    "\n",
    "\n",
    "    # show statistics\n",
    "    display(X_train.shape)\n",
    "\n",
    "    display(X_train.columns)\n",
    "\n",
    "    # Check train and test set sizes\n",
    "    print('Percentage train set:', len(y_train)/(len(y_train)+len(y_test)))\n",
    "    print('Percentage test set:', len(y_test)/(len(y_train)+len(y_test)))\n",
    "\n",
    "    print('\\nClass distribution in train set: \\n', y_train['label'].value_counts(normalize=True), '\\n')\n",
    "\n",
    "    print('Class distribution in test set: \\n', y_test['label'].value_counts(normalize=True), '\\n')\n",
    "\n",
    "\n",
    "    # return\n",
    "    return X_train, y_train, groups_train, X_test, y_test, groups_test"
   ]
  },
  {
   "cell_type": "markdown",
   "id": "82789e2f",
   "metadata": {},
   "source": [
    "# TPOT - considering groups"
   ]
  },
  {
   "cell_type": "code",
   "execution_count": 3,
   "id": "97eb77fa",
   "metadata": {},
   "outputs": [
    {
     "data": {
      "text/plain": [
       "1    22370\n",
       "0     4284\n",
       "Name: label, dtype: int64"
      ]
     },
     "metadata": {},
     "output_type": "display_data"
    },
    {
     "data": {
      "text/plain": [
       "(21089, 81)"
      ]
     },
     "metadata": {},
     "output_type": "display_data"
    },
    {
     "data": {
      "text/plain": [
       "Index(['bvp_BVP_mean', 'bvp_BVP_std', 'bvp_BVP_skewness', 'bvp_BVP_kurtosis',\n",
       "       'bvp_BVP_peaks', 'bvp_BVP_n_above_mean', 'bvp_BVP_n_below_mean',\n",
       "       'bvp_BVP_perm_entropy', 'bvp_BVP_svd_entropy', 'bvp_l2_min',\n",
       "       'bvp_l2_n_above_mean', 'bvp_l2_n_below_mean', 'bvp_l2_n_sign_changes',\n",
       "       'bvp_l2_perm_entropy', 'acc_x_mean', 'acc_x_std', 'acc_x_min',\n",
       "       'acc_x_max', 'acc_x_energy', 'acc_x_skewness', 'acc_x_kurtosis',\n",
       "       'acc_x_peaks', 'acc_x_lineintegral', 'acc_x_n_above_mean',\n",
       "       'acc_x_n_sign_changes', 'acc_x_perm_entropy', 'acc_y_mean', 'acc_y_std',\n",
       "       'acc_y_min', 'acc_y_max', 'acc_y_energy', 'acc_y_skewness',\n",
       "       'acc_y_kurtosis', 'acc_y_peaks', 'acc_y_n_above_mean',\n",
       "       'acc_y_n_sign_changes', 'acc_y_svd_entropy', 'acc_z_mean', 'acc_z_std',\n",
       "       'acc_z_min', 'acc_z_max', 'acc_z_energy', 'acc_z_skewness',\n",
       "       'acc_z_kurtosis', 'acc_z_peaks', 'acc_z_n_above_mean',\n",
       "       'acc_z_n_sign_changes', 'acc_z_pct_95', 'acc_l2_mean',\n",
       "       'acc_l2_skewness', 'acc_l2_n_above_mean', 'acc_l2_n_below_mean',\n",
       "       'eda_EDA_mean', 'eda_EDA_std', 'eda_EDA_skewness', 'eda_EDA_kurtosis',\n",
       "       'eda_EDA_peaks', 'eda_EDA_n_above_mean', 'eda_EDA_n_below_mean',\n",
       "       'eda_EDA_n_sign_changes', 'eda_EDA_entropy', 'eda_EDA_perm_entropy',\n",
       "       'eda_EDA_svd_entropy', 'temp_TEMP_mean', 'temp_TEMP_std',\n",
       "       'temp_TEMP_sum', 'temp_TEMP_skewness', 'temp_TEMP_kurtosis',\n",
       "       'temp_TEMP_peaks', 'temp_TEMP_lineintegral', 'temp_TEMP_n_above_mean',\n",
       "       'temp_TEMP_n_below_mean', 'temp_TEMP_perm_entropy', 'hr_HR_mean',\n",
       "       'hr_HR_std', 'hr_HR_skewness', 'hr_HR_kurtosis', 'hr_HR_peaks',\n",
       "       'hr_HR_perm_entropy', 'hr_HR_svd_entropy', 'hr_l2_svd_entropy'],\n",
       "      dtype='object')"
      ]
     },
     "metadata": {},
     "output_type": "display_data"
    },
    {
     "name": "stdout",
     "output_type": "stream",
     "text": [
      "Percentage train set: 0.7912133263300067\n",
      "Percentage test set: 0.20878667366999323\n",
      "\n",
      "Class distribution in train set: \n",
      " 0    0.845133\n",
      "1    0.154867\n",
      "Name: label, dtype: float64 \n",
      "\n",
      "Class distribution in test set: \n",
      " 0    0.817071\n",
      "1    0.182929\n",
      "Name: label, dtype: float64 \n",
      "\n"
     ]
    }
   ],
   "source": [
    "X_train, y_train, groups_train, X_test, y_test, groups_test = read_data_and_split(True)"
   ]
  },
  {
   "cell_type": "code",
   "execution_count": 4,
   "id": "75efe53b",
   "metadata": {},
   "outputs": [],
   "source": [
    "tpot = TPOTClassifier(generations=1,\n",
    "                      population_size=5,\n",
    "                      scoring='f1',\n",
    "                      cv=2,\n",
    "                      n_jobs=-1,\n",
    "                      verbosity=3,\n",
    "                      random_state=0)"
   ]
  },
  {
   "cell_type": "code",
   "execution_count": 5,
   "id": "0b683c39",
   "metadata": {},
   "outputs": [
    {
     "name": "stdout",
     "output_type": "stream",
     "text": [
      "32 operators have been imported by TPOT.\n"
     ]
    },
    {
     "name": "stderr",
     "output_type": "stream",
     "text": [
      "C:\\Tools\\anaconda3\\envs\\stress01\\lib\\site-packages\\xgboost\\compat.py:36: FutureWarning: pandas.Int64Index is deprecated and will be removed from pandas in a future version. Use pandas.Index with the appropriate dtype instead.\n",
      "  from pandas import MultiIndex, Int64Index\n"
     ]
    },
    {
     "data": {
      "application/vnd.jupyter.widget-view+json": {
       "model_id": "010e3db174444adc9147101011016ba5",
       "version_major": 2,
       "version_minor": 0
      },
      "text/plain": [
       "Optimization Progress:   0%|          | 0/10 [00:00<?, ?pipeline/s]"
      ]
     },
     "metadata": {},
     "output_type": "display_data"
    },
    {
     "name": "stdout",
     "output_type": "stream",
     "text": [
      "Skipped pipeline #10 due to time out. Continuing to the next pipeline.\n",
      "\n",
      "Generation 1 - Current Pareto front scores:\n",
      "\n",
      "-1\t0.3697629482121799\tXGBClassifier(input_matrix, XGBClassifier__learning_rate=0.1, XGBClassifier__max_depth=2, XGBClassifier__min_child_weight=7, XGBClassifier__n_estimators=100, XGBClassifier__n_jobs=1, XGBClassifier__subsample=0.4, XGBClassifier__verbosity=0)\n",
      "CPU times: total: 1.61 s\n",
      "Wall time: 6min 27s\n"
     ]
    },
    {
     "data": {
      "text/plain": [
       "TPOTClassifier(cv=2, generations=1, n_jobs=-1, population_size=5,\n",
       "               random_state=0, scoring='f1', verbosity=3)"
      ]
     },
     "execution_count": 5,
     "metadata": {},
     "output_type": "execute_result"
    }
   ],
   "source": [
    "%%time\n",
    "tpot.fit(X_train, y_train.values.ravel(), groups=groups_train.values.ravel())"
   ]
  },
  {
   "cell_type": "code",
   "execution_count": 6,
   "id": "af59570f",
   "metadata": {},
   "outputs": [
    {
     "name": "stdout",
     "output_type": "stream",
     "text": [
      "TPOT score (F1) on test data: 0.00\n"
     ]
    }
   ],
   "source": [
    "print(f\"TPOT score (F1) on test data: {tpot.score(X_test, y_test.values.ravel()):.2f}\")"
   ]
  },
  {
   "cell_type": "code",
   "execution_count": 7,
   "id": "d96d2f7b",
   "metadata": {},
   "outputs": [],
   "source": [
    "y_test_predict = tpot.predict(X_test)\n",
    "y_test_predict_proba = tpot.predict_proba(X_test)[:,1]"
   ]
  },
  {
   "cell_type": "code",
   "execution_count": 8,
   "id": "c97ed7c7",
   "metadata": {},
   "outputs": [
    {
     "name": "stdout",
     "output_type": "stream",
     "text": [
      "accuracy: 0.8138364779874214\n",
      "precision: 0.0\n",
      "recall: 0.0\n",
      "f1_score: 0.0\n",
      "roc_auc: 0.4980206729711898\n",
      "Class distribution in test set: \n",
      " 0    0.817071\n",
      "1    0.182929\n",
      "Name: label, dtype: float64 \n",
      "\n",
      "average_precision: 0.17932449497728947\n"
     ]
    }
   ],
   "source": [
    "print('accuracy: '+str(accuracy_score(y_test, y_test_predict)))\n",
    "print('precision: '+str(precision_score(y_test, y_test_predict)))\n",
    "print('recall: '+str(recall_score(y_test, y_test_predict)))\n",
    "print('f1_score: '+str(f1_score(y_test, y_test_predict)))\n",
    "print('roc_auc: '+str(roc_auc_score(y_test, y_test_predict)))\n",
    "print('Class distribution in test set: \\n', y_test['label'].value_counts(normalize=True), '\\n')\n",
    "print('average_precision: '+str(average_precision_score(y_test, y_test_predict_proba)))"
   ]
  },
  {
   "cell_type": "code",
   "execution_count": 9,
   "id": "ec467ab5",
   "metadata": {},
   "outputs": [
    {
     "data": {
      "text/plain": [
       "array([[4529,   18],\n",
       "       [1018,    0]], dtype=int64)"
      ]
     },
     "execution_count": 9,
     "metadata": {},
     "output_type": "execute_result"
    }
   ],
   "source": [
    "confusion_matrix(y_test, y_test_predict)"
   ]
  },
  {
   "cell_type": "code",
   "execution_count": 10,
   "id": "7104c3f4",
   "metadata": {},
   "outputs": [
    {
     "name": "stdout",
     "output_type": "stream",
     "text": [
      "The baseline to beat is the percentage of positive cases: 0.1829290206648697\n"
     ]
    },
    {
     "data": {
      "image/png": "[encoded data removed]",
      "text/plain": [
       "<Figure size 640x480 with 1 Axes>"
      ]
     },
     "metadata": {},
     "output_type": "display_data"
    }
   ],
   "source": [
    "prd = PrecisionRecallDisplay.from_predictions(y_test, y_test_predict_proba, name='Model')\n",
    "_ = prd.ax_.set_title('2-class Precision-Recall curve')\n",
    "print('The baseline to beat is the percentage of positive cases:', y_test['label'].value_counts(normalize=True)[1])"
   ]
  },
  {
   "cell_type": "markdown",
   "id": "f3374cf5",
   "metadata": {},
   "source": [
    "# TPOT - NOT considering groups"
   ]
  },
  {
   "cell_type": "code",
   "execution_count": 11,
   "id": "4713850b",
   "metadata": {},
   "outputs": [
    {
     "data": {
      "text/plain": [
       "1    22370\n",
       "0     4284\n",
       "Name: label, dtype: int64"
      ]
     },
     "metadata": {},
     "output_type": "display_data"
    },
    {
     "name": "stdout",
     "output_type": "stream",
     "text": [
      "You are not considering groups - this will produce misleading results!\n"
     ]
    },
    {
     "data": {
      "text/plain": [
       "(21323, 82)"
      ]
     },
     "metadata": {},
     "output_type": "display_data"
    },
    {
     "data": {
      "text/plain": [
       "Index(['bvp_BVP_mean', 'bvp_BVP_std', 'bvp_BVP_skewness', 'bvp_BVP_kurtosis',\n",
       "       'bvp_BVP_peaks', 'bvp_BVP_n_above_mean', 'bvp_BVP_n_below_mean',\n",
       "       'bvp_BVP_perm_entropy', 'bvp_BVP_svd_entropy', 'bvp_l2_min',\n",
       "       'bvp_l2_n_above_mean', 'bvp_l2_n_below_mean', 'bvp_l2_n_sign_changes',\n",
       "       'bvp_l2_perm_entropy', 'acc_x_mean', 'acc_x_std', 'acc_x_min',\n",
       "       'acc_x_max', 'acc_x_energy', 'acc_x_skewness', 'acc_x_kurtosis',\n",
       "       'acc_x_peaks', 'acc_x_lineintegral', 'acc_x_n_above_mean',\n",
       "       'acc_x_n_sign_changes', 'acc_x_perm_entropy', 'acc_y_mean', 'acc_y_std',\n",
       "       'acc_y_min', 'acc_y_max', 'acc_y_energy', 'acc_y_skewness',\n",
       "       'acc_y_kurtosis', 'acc_y_peaks', 'acc_y_n_above_mean',\n",
       "       'acc_y_n_sign_changes', 'acc_y_pct_95', 'acc_y_svd_entropy',\n",
       "       'acc_z_mean', 'acc_z_std', 'acc_z_min', 'acc_z_max', 'acc_z_energy',\n",
       "       'acc_z_skewness', 'acc_z_kurtosis', 'acc_z_n_above_mean',\n",
       "       'acc_z_n_sign_changes', 'acc_z_pct_95', 'acc_l2_mean',\n",
       "       'acc_l2_skewness', 'acc_l2_peaks', 'acc_l2_n_above_mean',\n",
       "       'acc_l2_n_below_mean', 'eda_EDA_mean', 'eda_EDA_std',\n",
       "       'eda_EDA_skewness', 'eda_EDA_kurtosis', 'eda_EDA_peaks',\n",
       "       'eda_EDA_n_above_mean', 'eda_EDA_n_below_mean',\n",
       "       'eda_EDA_n_sign_changes', 'eda_EDA_entropy', 'eda_EDA_perm_entropy',\n",
       "       'eda_EDA_svd_entropy', 'temp_TEMP_mean', 'temp_TEMP_std',\n",
       "       'temp_TEMP_sum', 'temp_TEMP_skewness', 'temp_TEMP_kurtosis',\n",
       "       'temp_TEMP_peaks', 'temp_TEMP_lineintegral', 'temp_TEMP_n_above_mean',\n",
       "       'temp_TEMP_n_below_mean', 'temp_TEMP_perm_entropy', 'hr_HR_mean',\n",
       "       'hr_HR_std', 'hr_HR_skewness', 'hr_HR_kurtosis', 'hr_HR_peaks',\n",
       "       'hr_HR_perm_entropy', 'hr_HR_svd_entropy', 'hr_l2_svd_entropy'],\n",
       "      dtype='object')"
      ]
     },
     "metadata": {},
     "output_type": "display_data"
    },
    {
     "name": "stdout",
     "output_type": "stream",
     "text": [
      "Percentage train set: 0.799992496435807\n",
      "Percentage test set: 0.200007503564193\n",
      "\n",
      "Class distribution in train set: \n",
      " 0    0.838859\n",
      "1    0.161141\n",
      "Name: label, dtype: float64 \n",
      "\n",
      "Class distribution in test set: \n",
      " 0    0.84093\n",
      "1    0.15907\n",
      "Name: label, dtype: float64 \n",
      "\n"
     ]
    }
   ],
   "source": [
    "X_train, y_train, groups_train, X_test, y_test, groups_test = read_data_and_split(False)"
   ]
  },
  {
   "cell_type": "code",
   "execution_count": 12,
   "id": "7646e7c2",
   "metadata": {},
   "outputs": [],
   "source": [
    "tpot = TPOTClassifier(generations=1,\n",
    "                      population_size=5,\n",
    "                      scoring='f1',\n",
    "                      cv=2,\n",
    "                      n_jobs=-1,\n",
    "                      verbosity=3,\n",
    "                      random_state=0)"
   ]
  },
  {
   "cell_type": "code",
   "execution_count": 13,
   "id": "5556d08a",
   "metadata": {},
   "outputs": [
    {
     "name": "stdout",
     "output_type": "stream",
     "text": [
      "32 operators have been imported by TPOT.\n"
     ]
    },
    {
     "data": {
      "application/vnd.jupyter.widget-view+json": {
       "model_id": "24db545419b44ca1939d4474acfb317b",
       "version_major": 2,
       "version_minor": 0
      },
      "text/plain": [
       "Optimization Progress:   0%|          | 0/10 [00:00<?, ?pipeline/s]"
      ]
     },
     "metadata": {},
     "output_type": "display_data"
    },
    {
     "name": "stdout",
     "output_type": "stream",
     "text": [
      "Skipped pipeline #10 due to time out. Continuing to the next pipeline.\n",
      "\n",
      "Generation 1 - Current Pareto front scores:\n",
      "\n",
      "-1\t0.5738901167969361\tXGBClassifier(input_matrix, XGBClassifier__learning_rate=0.1, XGBClassifier__max_depth=2, XGBClassifier__min_child_weight=7, XGBClassifier__n_estimators=100, XGBClassifier__n_jobs=1, XGBClassifier__subsample=0.4, XGBClassifier__verbosity=0)\n",
      "\n",
      "-2\t0.88502565170968\tXGBClassifier(RandomForestClassifier(input_matrix, RandomForestClassifier__bootstrap=False, RandomForestClassifier__criterion=gini, RandomForestClassifier__max_features=0.5, RandomForestClassifier__min_samples_leaf=18, RandomForestClassifier__min_samples_split=11, RandomForestClassifier__n_estimators=100), XGBClassifier__learning_rate=0.1, XGBClassifier__max_depth=2, XGBClassifier__min_child_weight=7, XGBClassifier__n_estimators=100, XGBClassifier__n_jobs=1, XGBClassifier__subsample=0.4, XGBClassifier__verbosity=0)\n",
      "CPU times: total: 24 s\n",
      "Wall time: 8min 4s\n"
     ]
    },
    {
     "data": {
      "text/plain": [
       "TPOTClassifier(cv=2, generations=1, n_jobs=-1, population_size=5,\n",
       "               random_state=0, scoring='f1', verbosity=3)"
      ]
     },
     "execution_count": 13,
     "metadata": {},
     "output_type": "execute_result"
    }
   ],
   "source": [
    "%%time\n",
    "tpot.fit(X_train, y_train.values.ravel())"
   ]
  },
  {
   "cell_type": "code",
   "execution_count": 14,
   "id": "c141847d",
   "metadata": {},
   "outputs": [
    {
     "name": "stdout",
     "output_type": "stream",
     "text": [
      "TPOT score (F1) on test data: 0.94\n"
     ]
    },
    {
     "name": "stderr",
     "output_type": "stream",
     "text": [
      "C:\\Tools\\anaconda3\\envs\\stress01\\lib\\site-packages\\sklearn\\base.py:450: UserWarning: X does not have valid feature names, but RandomForestClassifier was fitted with feature names\n",
      "  warnings.warn(\n",
      "C:\\Tools\\anaconda3\\envs\\stress01\\lib\\site-packages\\sklearn\\base.py:450: UserWarning: X does not have valid feature names, but RandomForestClassifier was fitted with feature names\n",
      "  warnings.warn(\n"
     ]
    }
   ],
   "source": [
    "print(f\"TPOT score (F1) on test data: {tpot.score(X_test, y_test.values.ravel()):.2f}\")"
   ]
  },
  {
   "cell_type": "code",
   "execution_count": 15,
   "id": "85de1aa2",
   "metadata": {},
   "outputs": [
    {
     "name": "stderr",
     "output_type": "stream",
     "text": [
      "C:\\Tools\\anaconda3\\envs\\stress01\\lib\\site-packages\\sklearn\\base.py:450: UserWarning: X does not have valid feature names, but RandomForestClassifier was fitted with feature names\n",
      "  warnings.warn(\n",
      "C:\\Tools\\anaconda3\\envs\\stress01\\lib\\site-packages\\sklearn\\base.py:450: UserWarning: X does not have valid feature names, but RandomForestClassifier was fitted with feature names\n",
      "  warnings.warn(\n",
      "C:\\Tools\\anaconda3\\envs\\stress01\\lib\\site-packages\\sklearn\\base.py:450: UserWarning: X does not have valid feature names, but RandomForestClassifier was fitted with feature names\n",
      "  warnings.warn(\n",
      "C:\\Tools\\anaconda3\\envs\\stress01\\lib\\site-packages\\sklearn\\base.py:450: UserWarning: X does not have valid feature names, but RandomForestClassifier was fitted with feature names\n",
      "  warnings.warn(\n"
     ]
    }
   ],
   "source": [
    "y_test_predict = tpot.predict(X_test)\n",
    "y_test_predict_proba = tpot.predict_proba(X_test)[:,1]"
   ]
  },
  {
   "cell_type": "code",
   "execution_count": 16,
   "id": "8e72c38d",
   "metadata": {},
   "outputs": [
    {
     "name": "stdout",
     "output_type": "stream",
     "text": [
      "accuracy: 0.9825548677546426\n",
      "precision: 0.9553679131483716\n",
      "recall: 0.9339622641509434\n",
      "f1_score: 0.9445438282647586\n",
      "roc_auc: 0.9628544312055186\n",
      "Class distribution in test set: \n",
      " 0    0.84093\n",
      "1    0.15907\n",
      "Name: label, dtype: float64 \n",
      "\n",
      "average_precision: 0.9818740335619265\n"
     ]
    }
   ],
   "source": [
    "print('accuracy: '+str(accuracy_score(y_test, y_test_predict)))\n",
    "print('precision: '+str(precision_score(y_test, y_test_predict)))\n",
    "print('recall: '+str(recall_score(y_test, y_test_predict)))\n",
    "print('f1_score: '+str(f1_score(y_test, y_test_predict)))\n",
    "print('roc_auc: '+str(roc_auc_score(y_test, y_test_predict)))\n",
    "print('Class distribution in test set: \\n', y_test['label'].value_counts(normalize=True), '\\n')\n",
    "print('average_precision: '+str(average_precision_score(y_test, y_test_predict_proba)))"
   ]
  },
  {
   "cell_type": "code",
   "execution_count": 18,
   "id": "81cd44d0",
   "metadata": {},
   "outputs": [
    {
     "name": "stdout",
     "output_type": "stream",
     "text": [
      "The baseline to beat is the percentage of positive cases: 0.15906959294691428\n"
     ]
    },
    {
     "data": {
      "image/png": "[encoded data removed]",
      "text/plain": [
       "<Figure size 640x480 with 1 Axes>"
      ]
     },
     "metadata": {},
     "output_type": "display_data"
    }
   ],
   "source": [
    "prd = PrecisionRecallDisplay.from_predictions(y_test, y_test_predict_proba, name='Model')\n",
    "_ = prd.ax_.set_title('2-class Precision-Recall curve')\n",
    "print('The baseline to beat is the percentage of positive cases:', y_test['label'].value_counts(normalize=True)[1])"
   ]
  },
  {
   "cell_type": "markdown",
   "id": "a503a878",
   "metadata": {},
   "source": [
    "# Interpretation"
   ]
  },
  {
   "cell_type": "markdown",
   "id": "75ce21d6",
   "metadata": {},
   "source": [
    "I created a TPOT baseline model in this notebook.\n",
    "\n",
    "The data used was created with ```FLIRT``` with a ```window_size``` of ```60``` and a step size of ```10```.\n",
    "\n",
    "The data of each user is either in the train or in the test set. Internally, TPOT does a cross-validation with the training data, and again only uses the data of each user in either training or validation set. The results show that a prediction of a stress state does not seem possible at all and that the model is as good as random guessing. We can see this in the precision-recall-curve and the confusion matrix.\n",
    "\n",
    "As a means of comparison, I created a TPOT-pipeline that does NOT take care of putting one user in either train or test set. Now the model shows a good performance. But this is misleading: Using data from the same user in both train and test set does not evaluate how the model performs for new, unseen users. Furthermore, with a steps size of 10 and a windows size of 60, there will be a large overap between calculated features. If they end up in both train and test set, the perfomance is better because during training we saw almost identical data from almost identical situations. Such a model will not help in predicting stress on new users. The reason for the bad performance is likely the way the data was collected and labeled: In the paper about the dataset, it sounds like the labeling was done retroactively and for rather coarse time windows.\n",
    "\n",
    "Conclusion:\n",
    "We will proceed only with the WESAD dataset."
   ]
  }
 ],
 "metadata": {
  "kernelspec": {
   "display_name": "Python (stress01)",
   "language": "python",
   "name": "stress01"
  },
  "language_info": {
   "codemirror_mode": {
    "name": "ipython",
    "version": 3
   },
   "file_extension": ".py",
   "mimetype": "text/x-python",
   "name": "python",
   "nbconvert_exporter": "python",
   "pygments_lexer": "ipython3",
   "version": "3.10.8"
  },
  "vscode": {
   "interpreter": {
    "hash": "7faeafcdb7b1476f711d2dd1a59a238cf05b963035646615ec88d1898d9d931a"
   }
  }
 },
 "nbformat": 4,
 "nbformat_minor": 5
}
