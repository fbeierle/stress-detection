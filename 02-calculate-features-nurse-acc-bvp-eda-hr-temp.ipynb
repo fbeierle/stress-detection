{
 "cells": [
  {
   "cell_type": "code",
   "execution_count": 46,
   "id": "6504b31a",
   "metadata": {},
   "outputs": [],
   "source": [
    "import pandas as pd\n",
    "import numpy as np\n",
    "import flirt\n",
    "import os\n",
    "import jupyter\n",
    "import ipywidgets"
   ]
  },
  {
   "cell_type": "markdown",
   "id": "1bd9db47",
   "metadata": {},
   "source": [
    "# 1. Load WESAD and nurses dataset"
   ]
  },
  {
   "cell_type": "code",
   "execution_count": 47,
   "id": "971663d6",
   "metadata": {},
   "outputs": [
    {
     "data": {
      "text/html": [
       "<div>\n",
       "<style scoped>\n",
       "    .dataframe tbody tr th:only-of-type {\n",
       "        vertical-align: middle;\n",
       "    }\n",
       "\n",
       "    .dataframe tbody tr th {\n",
       "        vertical-align: top;\n",
       "    }\n",
       "\n",
       "    .dataframe thead th {\n",
       "        text-align: right;\n",
       "    }\n",
       "</style>\n",
       "<table border=\"1\" class=\"dataframe\">\n",
       "  <thead>\n",
       "    <tr style=\"text-align: right;\">\n",
       "      <th></th>\n",
       "      <th>x</th>\n",
       "      <th>y</th>\n",
       "      <th>z</th>\n",
       "      <th>BVP</th>\n",
       "      <th>EDA</th>\n",
       "      <th>HR</th>\n",
       "      <th>TEMP</th>\n",
       "      <th>label</th>\n",
       "      <th>subject</th>\n",
       "    </tr>\n",
       "  </thead>\n",
       "  <tbody>\n",
       "    <tr>\n",
       "      <th>2020-07-08 08:30:00.000000</th>\n",
       "      <td>-52.0</td>\n",
       "      <td>15.0</td>\n",
       "      <td>-35.0</td>\n",
       "      <td>18.47</td>\n",
       "      <td>5.773421</td>\n",
       "      <td>99.05</td>\n",
       "      <td>31.63</td>\n",
       "      <td>1</td>\n",
       "      <td>15</td>\n",
       "    </tr>\n",
       "    <tr>\n",
       "      <th>2020-07-08 08:30:00.015625</th>\n",
       "      <td>NaN</td>\n",
       "      <td>NaN</td>\n",
       "      <td>NaN</td>\n",
       "      <td>10.63</td>\n",
       "      <td>NaN</td>\n",
       "      <td>NaN</td>\n",
       "      <td>NaN</td>\n",
       "      <td>1</td>\n",
       "      <td>15</td>\n",
       "    </tr>\n",
       "    <tr>\n",
       "      <th>2020-07-08 08:30:00.031250</th>\n",
       "      <td>-52.0</td>\n",
       "      <td>15.0</td>\n",
       "      <td>-35.0</td>\n",
       "      <td>-0.95</td>\n",
       "      <td>NaN</td>\n",
       "      <td>NaN</td>\n",
       "      <td>NaN</td>\n",
       "      <td>1</td>\n",
       "      <td>15</td>\n",
       "    </tr>\n",
       "    <tr>\n",
       "      <th>2020-07-08 08:30:00.046875</th>\n",
       "      <td>NaN</td>\n",
       "      <td>NaN</td>\n",
       "      <td>NaN</td>\n",
       "      <td>-16.12</td>\n",
       "      <td>NaN</td>\n",
       "      <td>NaN</td>\n",
       "      <td>NaN</td>\n",
       "      <td>1</td>\n",
       "      <td>15</td>\n",
       "    </tr>\n",
       "    <tr>\n",
       "      <th>2020-07-08 08:30:00.062500</th>\n",
       "      <td>-52.0</td>\n",
       "      <td>15.0</td>\n",
       "      <td>-35.0</td>\n",
       "      <td>-33.68</td>\n",
       "      <td>NaN</td>\n",
       "      <td>NaN</td>\n",
       "      <td>NaN</td>\n",
       "      <td>1</td>\n",
       "      <td>15</td>\n",
       "    </tr>\n",
       "    <tr>\n",
       "      <th>...</th>\n",
       "      <td>...</td>\n",
       "      <td>...</td>\n",
       "      <td>...</td>\n",
       "      <td>...</td>\n",
       "      <td>...</td>\n",
       "      <td>...</td>\n",
       "      <td>...</td>\n",
       "      <td>...</td>\n",
       "      <td>...</td>\n",
       "    </tr>\n",
       "    <tr>\n",
       "      <th>2020-07-23 12:25:57.250000</th>\n",
       "      <td>NaN</td>\n",
       "      <td>NaN</td>\n",
       "      <td>NaN</td>\n",
       "      <td>NaN</td>\n",
       "      <td>0.129352</td>\n",
       "      <td>NaN</td>\n",
       "      <td>NaN</td>\n",
       "      <td>1</td>\n",
       "      <td>F5</td>\n",
       "    </tr>\n",
       "    <tr>\n",
       "      <th>2020-07-23 12:25:57.500000</th>\n",
       "      <td>NaN</td>\n",
       "      <td>NaN</td>\n",
       "      <td>NaN</td>\n",
       "      <td>NaN</td>\n",
       "      <td>0.125510</td>\n",
       "      <td>NaN</td>\n",
       "      <td>NaN</td>\n",
       "      <td>1</td>\n",
       "      <td>F5</td>\n",
       "    </tr>\n",
       "    <tr>\n",
       "      <th>2020-07-23 12:25:57.750000</th>\n",
       "      <td>NaN</td>\n",
       "      <td>NaN</td>\n",
       "      <td>NaN</td>\n",
       "      <td>NaN</td>\n",
       "      <td>0.119106</td>\n",
       "      <td>NaN</td>\n",
       "      <td>NaN</td>\n",
       "      <td>1</td>\n",
       "      <td>F5</td>\n",
       "    </tr>\n",
       "    <tr>\n",
       "      <th>2020-07-23 12:25:58.000000</th>\n",
       "      <td>NaN</td>\n",
       "      <td>NaN</td>\n",
       "      <td>NaN</td>\n",
       "      <td>NaN</td>\n",
       "      <td>0.116545</td>\n",
       "      <td>NaN</td>\n",
       "      <td>NaN</td>\n",
       "      <td>1</td>\n",
       "      <td>F5</td>\n",
       "    </tr>\n",
       "    <tr>\n",
       "      <th>2020-07-23 12:25:58.250000</th>\n",
       "      <td>NaN</td>\n",
       "      <td>NaN</td>\n",
       "      <td>NaN</td>\n",
       "      <td>NaN</td>\n",
       "      <td>0.121668</td>\n",
       "      <td>NaN</td>\n",
       "      <td>NaN</td>\n",
       "      <td>1</td>\n",
       "      <td>F5</td>\n",
       "    </tr>\n",
       "  </tbody>\n",
       "</table>\n",
       "<p>17087552 rows × 9 columns</p>\n",
       "</div>"
      ],
      "text/plain": [
       "                               x     y     z    BVP       EDA     HR   TEMP  \\\n",
       "2020-07-08 08:30:00.000000 -52.0  15.0 -35.0  18.47  5.773421  99.05  31.63   \n",
       "2020-07-08 08:30:00.015625   NaN   NaN   NaN  10.63       NaN    NaN    NaN   \n",
       "2020-07-08 08:30:00.031250 -52.0  15.0 -35.0  -0.95       NaN    NaN    NaN   \n",
       "2020-07-08 08:30:00.046875   NaN   NaN   NaN -16.12       NaN    NaN    NaN   \n",
       "2020-07-08 08:30:00.062500 -52.0  15.0 -35.0 -33.68       NaN    NaN    NaN   \n",
       "...                          ...   ...   ...    ...       ...    ...    ...   \n",
       "2020-07-23 12:25:57.250000   NaN   NaN   NaN    NaN  0.129352    NaN    NaN   \n",
       "2020-07-23 12:25:57.500000   NaN   NaN   NaN    NaN  0.125510    NaN    NaN   \n",
       "2020-07-23 12:25:57.750000   NaN   NaN   NaN    NaN  0.119106    NaN    NaN   \n",
       "2020-07-23 12:25:58.000000   NaN   NaN   NaN    NaN  0.116545    NaN    NaN   \n",
       "2020-07-23 12:25:58.250000   NaN   NaN   NaN    NaN  0.121668    NaN    NaN   \n",
       "\n",
       "                            label subject  \n",
       "2020-07-08 08:30:00.000000      1      15  \n",
       "2020-07-08 08:30:00.015625      1      15  \n",
       "2020-07-08 08:30:00.031250      1      15  \n",
       "2020-07-08 08:30:00.046875      1      15  \n",
       "2020-07-08 08:30:00.062500      1      15  \n",
       "...                           ...     ...  \n",
       "2020-07-23 12:25:57.250000      1      F5  \n",
       "2020-07-23 12:25:57.500000      1      F5  \n",
       "2020-07-23 12:25:57.750000      1      F5  \n",
       "2020-07-23 12:25:58.000000      1      F5  \n",
       "2020-07-23 12:25:58.250000      1      F5  \n",
       "\n",
       "[17087552 rows x 9 columns]"
      ]
     },
     "execution_count": 47,
     "metadata": {},
     "output_type": "execute_result"
    }
   ],
   "source": [
    "# load data\n",
    "df = pd.read_parquet('data-input/dataset_nurse_acc_bvp_eda_hr_temp.parquet')\n",
    "df"
   ]
  },
  {
   "cell_type": "code",
   "execution_count": 48,
   "id": "c09be153",
   "metadata": {},
   "outputs": [
    {
     "data": {
      "text/html": [
       "<div>\n",
       "<style scoped>\n",
       "    .dataframe tbody tr th:only-of-type {\n",
       "        vertical-align: middle;\n",
       "    }\n",
       "\n",
       "    .dataframe tbody tr th {\n",
       "        vertical-align: top;\n",
       "    }\n",
       "\n",
       "    .dataframe thead th {\n",
       "        text-align: right;\n",
       "    }\n",
       "</style>\n",
       "<table border=\"1\" class=\"dataframe\">\n",
       "  <thead>\n",
       "    <tr style=\"text-align: right;\">\n",
       "      <th></th>\n",
       "      <th>x</th>\n",
       "      <th>y</th>\n",
       "      <th>z</th>\n",
       "      <th>BVP</th>\n",
       "      <th>EDA</th>\n",
       "      <th>HR</th>\n",
       "      <th>TEMP</th>\n",
       "      <th>label</th>\n",
       "      <th>subject</th>\n",
       "      <th>groups</th>\n",
       "    </tr>\n",
       "  </thead>\n",
       "  <tbody>\n",
       "    <tr>\n",
       "      <th>2020-07-08 08:30:00.000000</th>\n",
       "      <td>-52.0</td>\n",
       "      <td>15.0</td>\n",
       "      <td>-35.0</td>\n",
       "      <td>18.47</td>\n",
       "      <td>5.773421</td>\n",
       "      <td>99.05</td>\n",
       "      <td>31.63</td>\n",
       "      <td>1</td>\n",
       "      <td>15</td>\n",
       "      <td>0</td>\n",
       "    </tr>\n",
       "    <tr>\n",
       "      <th>2020-07-08 08:30:00.015625</th>\n",
       "      <td>NaN</td>\n",
       "      <td>NaN</td>\n",
       "      <td>NaN</td>\n",
       "      <td>10.63</td>\n",
       "      <td>NaN</td>\n",
       "      <td>NaN</td>\n",
       "      <td>NaN</td>\n",
       "      <td>1</td>\n",
       "      <td>15</td>\n",
       "      <td>0</td>\n",
       "    </tr>\n",
       "    <tr>\n",
       "      <th>2020-07-08 08:30:00.031250</th>\n",
       "      <td>-52.0</td>\n",
       "      <td>15.0</td>\n",
       "      <td>-35.0</td>\n",
       "      <td>-0.95</td>\n",
       "      <td>NaN</td>\n",
       "      <td>NaN</td>\n",
       "      <td>NaN</td>\n",
       "      <td>1</td>\n",
       "      <td>15</td>\n",
       "      <td>0</td>\n",
       "    </tr>\n",
       "    <tr>\n",
       "      <th>2020-07-08 08:30:00.046875</th>\n",
       "      <td>NaN</td>\n",
       "      <td>NaN</td>\n",
       "      <td>NaN</td>\n",
       "      <td>-16.12</td>\n",
       "      <td>NaN</td>\n",
       "      <td>NaN</td>\n",
       "      <td>NaN</td>\n",
       "      <td>1</td>\n",
       "      <td>15</td>\n",
       "      <td>0</td>\n",
       "    </tr>\n",
       "    <tr>\n",
       "      <th>2020-07-08 08:30:00.062500</th>\n",
       "      <td>-52.0</td>\n",
       "      <td>15.0</td>\n",
       "      <td>-35.0</td>\n",
       "      <td>-33.68</td>\n",
       "      <td>NaN</td>\n",
       "      <td>NaN</td>\n",
       "      <td>NaN</td>\n",
       "      <td>1</td>\n",
       "      <td>15</td>\n",
       "      <td>0</td>\n",
       "    </tr>\n",
       "    <tr>\n",
       "      <th>...</th>\n",
       "      <td>...</td>\n",
       "      <td>...</td>\n",
       "      <td>...</td>\n",
       "      <td>...</td>\n",
       "      <td>...</td>\n",
       "      <td>...</td>\n",
       "      <td>...</td>\n",
       "      <td>...</td>\n",
       "      <td>...</td>\n",
       "      <td>...</td>\n",
       "    </tr>\n",
       "    <tr>\n",
       "      <th>2020-07-23 12:25:57.250000</th>\n",
       "      <td>NaN</td>\n",
       "      <td>NaN</td>\n",
       "      <td>NaN</td>\n",
       "      <td>NaN</td>\n",
       "      <td>0.129352</td>\n",
       "      <td>NaN</td>\n",
       "      <td>NaN</td>\n",
       "      <td>1</td>\n",
       "      <td>F5</td>\n",
       "      <td>161</td>\n",
       "    </tr>\n",
       "    <tr>\n",
       "      <th>2020-07-23 12:25:57.500000</th>\n",
       "      <td>NaN</td>\n",
       "      <td>NaN</td>\n",
       "      <td>NaN</td>\n",
       "      <td>NaN</td>\n",
       "      <td>0.125510</td>\n",
       "      <td>NaN</td>\n",
       "      <td>NaN</td>\n",
       "      <td>1</td>\n",
       "      <td>F5</td>\n",
       "      <td>161</td>\n",
       "    </tr>\n",
       "    <tr>\n",
       "      <th>2020-07-23 12:25:57.750000</th>\n",
       "      <td>NaN</td>\n",
       "      <td>NaN</td>\n",
       "      <td>NaN</td>\n",
       "      <td>NaN</td>\n",
       "      <td>0.119106</td>\n",
       "      <td>NaN</td>\n",
       "      <td>NaN</td>\n",
       "      <td>1</td>\n",
       "      <td>F5</td>\n",
       "      <td>161</td>\n",
       "    </tr>\n",
       "    <tr>\n",
       "      <th>2020-07-23 12:25:58.000000</th>\n",
       "      <td>NaN</td>\n",
       "      <td>NaN</td>\n",
       "      <td>NaN</td>\n",
       "      <td>NaN</td>\n",
       "      <td>0.116545</td>\n",
       "      <td>NaN</td>\n",
       "      <td>NaN</td>\n",
       "      <td>1</td>\n",
       "      <td>F5</td>\n",
       "      <td>161</td>\n",
       "    </tr>\n",
       "    <tr>\n",
       "      <th>2020-07-23 12:25:58.250000</th>\n",
       "      <td>NaN</td>\n",
       "      <td>NaN</td>\n",
       "      <td>NaN</td>\n",
       "      <td>NaN</td>\n",
       "      <td>0.121668</td>\n",
       "      <td>NaN</td>\n",
       "      <td>NaN</td>\n",
       "      <td>1</td>\n",
       "      <td>F5</td>\n",
       "      <td>161</td>\n",
       "    </tr>\n",
       "  </tbody>\n",
       "</table>\n",
       "<p>17087552 rows × 10 columns</p>\n",
       "</div>"
      ],
      "text/plain": [
       "                               x     y     z    BVP       EDA     HR   TEMP  \\\n",
       "2020-07-08 08:30:00.000000 -52.0  15.0 -35.0  18.47  5.773421  99.05  31.63   \n",
       "2020-07-08 08:30:00.015625   NaN   NaN   NaN  10.63       NaN    NaN    NaN   \n",
       "2020-07-08 08:30:00.031250 -52.0  15.0 -35.0  -0.95       NaN    NaN    NaN   \n",
       "2020-07-08 08:30:00.046875   NaN   NaN   NaN -16.12       NaN    NaN    NaN   \n",
       "2020-07-08 08:30:00.062500 -52.0  15.0 -35.0 -33.68       NaN    NaN    NaN   \n",
       "...                          ...   ...   ...    ...       ...    ...    ...   \n",
       "2020-07-23 12:25:57.250000   NaN   NaN   NaN    NaN  0.129352    NaN    NaN   \n",
       "2020-07-23 12:25:57.500000   NaN   NaN   NaN    NaN  0.125510    NaN    NaN   \n",
       "2020-07-23 12:25:57.750000   NaN   NaN   NaN    NaN  0.119106    NaN    NaN   \n",
       "2020-07-23 12:25:58.000000   NaN   NaN   NaN    NaN  0.116545    NaN    NaN   \n",
       "2020-07-23 12:25:58.250000   NaN   NaN   NaN    NaN  0.121668    NaN    NaN   \n",
       "\n",
       "                            label subject  groups  \n",
       "2020-07-08 08:30:00.000000      1      15       0  \n",
       "2020-07-08 08:30:00.015625      1      15       0  \n",
       "2020-07-08 08:30:00.031250      1      15       0  \n",
       "2020-07-08 08:30:00.046875      1      15       0  \n",
       "2020-07-08 08:30:00.062500      1      15       0  \n",
       "...                           ...     ...     ...  \n",
       "2020-07-23 12:25:57.250000      1      F5     161  \n",
       "2020-07-23 12:25:57.500000      1      F5     161  \n",
       "2020-07-23 12:25:57.750000      1      F5     161  \n",
       "2020-07-23 12:25:58.000000      1      F5     161  \n",
       "2020-07-23 12:25:58.250000      1      F5     161  \n",
       "\n",
       "[17087552 rows x 10 columns]"
      ]
     },
     "execution_count": 48,
     "metadata": {},
     "output_type": "execute_result"
    }
   ],
   "source": [
    "# split dfs when we encounter a timestamp break\n",
    "df['groups'] = (df.index.to_series().diff().dt.seconds > 1).cumsum()\n",
    "df"
   ]
  },
  {
   "cell_type": "code",
   "execution_count": 49,
   "id": "abb051ed",
   "metadata": {},
   "outputs": [],
   "source": [
    "# data cleaning\n",
    "\n",
    "clean_dfs = []\n",
    "\n",
    "df_chunk = np.nan\n",
    "\n",
    "# loop over groups\n",
    "for i in df['groups'].unique().tolist():\n",
    "    df_chunk = df[df['groups'] == i]\n",
    "    \n",
    "    # remove group if no valid HR, EDA, or TEMP\n",
    "    c1 = df_chunk['HR'].isnull().all()\n",
    "    c2 = df_chunk['EDA'].isnull().all()\n",
    "    c3 = df_chunk['TEMP'].isnull().all()\n",
    "\n",
    "    if c1 or c2 or c3:\n",
    "        continue\n",
    "\n",
    "    # remove rows with where BVP is NaN - 64hz\n",
    "    df_chunk = df_chunk[df_chunk['BVP'].notna()]\n",
    "\n",
    "    # remove rows where there are 2 or more consecutive x missing - 32hz\n",
    "    k = 2\n",
    "    i = df_chunk.x.isnull()\n",
    "    m = ~(df_chunk.groupby(i.ne(i.shift()).cumsum().values).x.transform('size').ge(k) & i)\n",
    "    df_chunk = df_chunk[m]\n",
    "\n",
    "    # remove rows where there are 16 or more  consecutive EDA missing - 4hz\n",
    "    k = 16\n",
    "    i = df_chunk.EDA.isnull()\n",
    "    m = ~(df_chunk.groupby(i.ne(i.shift()).cumsum().values).EDA.transform('size').ge(k) & i)\n",
    "    df_chunk = df_chunk[m]\n",
    "\n",
    "    # remove rows where there are 16 or more consecutive TEMP missing - 4hz\n",
    "    k = 16\n",
    "    i = df_chunk.TEMP.isnull()\n",
    "    m = ~(df_chunk.groupby(i.ne(i.shift()).cumsum().values).TEMP.transform('size').ge(k) & i)\n",
    "    df_chunk = df_chunk[m]\n",
    "\n",
    "    # remove rows where there are 64 or more consecutive HR missing - 1hz\n",
    "    k = 64\n",
    "    i = df_chunk.HR.isnull()\n",
    "    m = ~(df_chunk.groupby(i.ne(i.shift()).cumsum().values).HR.transform('size').ge(k) & i)\n",
    "    df_chunk = df_chunk[m]\n",
    "    \n",
    "    clean_dfs.append(df_chunk)\n",
    "\n",
    "df = pd.concat(clean_dfs)"
   ]
  },
  {
   "cell_type": "code",
   "execution_count": 50,
   "id": "09491517",
   "metadata": {},
   "outputs": [
    {
     "data": {
      "text/html": [
       "<div>\n",
       "<style scoped>\n",
       "    .dataframe tbody tr th:only-of-type {\n",
       "        vertical-align: middle;\n",
       "    }\n",
       "\n",
       "    .dataframe tbody tr th {\n",
       "        vertical-align: top;\n",
       "    }\n",
       "\n",
       "    .dataframe thead th {\n",
       "        text-align: right;\n",
       "    }\n",
       "</style>\n",
       "<table border=\"1\" class=\"dataframe\">\n",
       "  <thead>\n",
       "    <tr style=\"text-align: right;\">\n",
       "      <th></th>\n",
       "      <th>x</th>\n",
       "      <th>y</th>\n",
       "      <th>z</th>\n",
       "      <th>BVP</th>\n",
       "      <th>EDA</th>\n",
       "      <th>HR</th>\n",
       "      <th>TEMP</th>\n",
       "      <th>label</th>\n",
       "      <th>subject</th>\n",
       "      <th>groups</th>\n",
       "    </tr>\n",
       "  </thead>\n",
       "  <tbody>\n",
       "    <tr>\n",
       "      <th>2020-07-08 08:30:00.000000</th>\n",
       "      <td>-52.0</td>\n",
       "      <td>15.0</td>\n",
       "      <td>-35.0</td>\n",
       "      <td>18.47</td>\n",
       "      <td>5.773421</td>\n",
       "      <td>99.05</td>\n",
       "      <td>31.63</td>\n",
       "      <td>1</td>\n",
       "      <td>15</td>\n",
       "      <td>0</td>\n",
       "    </tr>\n",
       "    <tr>\n",
       "      <th>2020-07-08 08:30:00.015625</th>\n",
       "      <td>NaN</td>\n",
       "      <td>NaN</td>\n",
       "      <td>NaN</td>\n",
       "      <td>10.63</td>\n",
       "      <td>NaN</td>\n",
       "      <td>NaN</td>\n",
       "      <td>NaN</td>\n",
       "      <td>1</td>\n",
       "      <td>15</td>\n",
       "      <td>0</td>\n",
       "    </tr>\n",
       "    <tr>\n",
       "      <th>2020-07-08 08:30:00.031250</th>\n",
       "      <td>-52.0</td>\n",
       "      <td>15.0</td>\n",
       "      <td>-35.0</td>\n",
       "      <td>-0.95</td>\n",
       "      <td>NaN</td>\n",
       "      <td>NaN</td>\n",
       "      <td>NaN</td>\n",
       "      <td>1</td>\n",
       "      <td>15</td>\n",
       "      <td>0</td>\n",
       "    </tr>\n",
       "    <tr>\n",
       "      <th>2020-07-08 08:30:00.046875</th>\n",
       "      <td>NaN</td>\n",
       "      <td>NaN</td>\n",
       "      <td>NaN</td>\n",
       "      <td>-16.12</td>\n",
       "      <td>NaN</td>\n",
       "      <td>NaN</td>\n",
       "      <td>NaN</td>\n",
       "      <td>1</td>\n",
       "      <td>15</td>\n",
       "      <td>0</td>\n",
       "    </tr>\n",
       "    <tr>\n",
       "      <th>2020-07-08 08:30:00.062500</th>\n",
       "      <td>-52.0</td>\n",
       "      <td>15.0</td>\n",
       "      <td>-35.0</td>\n",
       "      <td>-33.68</td>\n",
       "      <td>NaN</td>\n",
       "      <td>NaN</td>\n",
       "      <td>NaN</td>\n",
       "      <td>1</td>\n",
       "      <td>15</td>\n",
       "      <td>0</td>\n",
       "    </tr>\n",
       "    <tr>\n",
       "      <th>...</th>\n",
       "      <td>...</td>\n",
       "      <td>...</td>\n",
       "      <td>...</td>\n",
       "      <td>...</td>\n",
       "      <td>...</td>\n",
       "      <td>...</td>\n",
       "      <td>...</td>\n",
       "      <td>...</td>\n",
       "      <td>...</td>\n",
       "      <td>...</td>\n",
       "    </tr>\n",
       "    <tr>\n",
       "      <th>2020-07-23 12:25:36.687500</th>\n",
       "      <td>-45.0</td>\n",
       "      <td>-38.0</td>\n",
       "      <td>27.0</td>\n",
       "      <td>28.30</td>\n",
       "      <td>NaN</td>\n",
       "      <td>NaN</td>\n",
       "      <td>NaN</td>\n",
       "      <td>1</td>\n",
       "      <td>F5</td>\n",
       "      <td>161</td>\n",
       "    </tr>\n",
       "    <tr>\n",
       "      <th>2020-07-23 12:25:36.703125</th>\n",
       "      <td>NaN</td>\n",
       "      <td>NaN</td>\n",
       "      <td>NaN</td>\n",
       "      <td>19.59</td>\n",
       "      <td>NaN</td>\n",
       "      <td>NaN</td>\n",
       "      <td>NaN</td>\n",
       "      <td>1</td>\n",
       "      <td>F5</td>\n",
       "      <td>161</td>\n",
       "    </tr>\n",
       "    <tr>\n",
       "      <th>2020-07-23 12:25:36.718750</th>\n",
       "      <td>-51.0</td>\n",
       "      <td>-52.0</td>\n",
       "      <td>23.0</td>\n",
       "      <td>9.46</td>\n",
       "      <td>NaN</td>\n",
       "      <td>NaN</td>\n",
       "      <td>NaN</td>\n",
       "      <td>1</td>\n",
       "      <td>F5</td>\n",
       "      <td>161</td>\n",
       "    </tr>\n",
       "    <tr>\n",
       "      <th>2020-07-23 12:25:36.734375</th>\n",
       "      <td>NaN</td>\n",
       "      <td>NaN</td>\n",
       "      <td>NaN</td>\n",
       "      <td>-0.96</td>\n",
       "      <td>NaN</td>\n",
       "      <td>NaN</td>\n",
       "      <td>NaN</td>\n",
       "      <td>1</td>\n",
       "      <td>F5</td>\n",
       "      <td>161</td>\n",
       "    </tr>\n",
       "    <tr>\n",
       "      <th>2020-07-23 12:25:36.750000</th>\n",
       "      <td>-56.0</td>\n",
       "      <td>-58.0</td>\n",
       "      <td>14.0</td>\n",
       "      <td>-10.40</td>\n",
       "      <td>0.107580</td>\n",
       "      <td>NaN</td>\n",
       "      <td>33.15</td>\n",
       "      <td>1</td>\n",
       "      <td>F5</td>\n",
       "      <td>161</td>\n",
       "    </tr>\n",
       "  </tbody>\n",
       "</table>\n",
       "<p>17074048 rows × 10 columns</p>\n",
       "</div>"
      ],
      "text/plain": [
       "                               x     y     z    BVP       EDA     HR   TEMP  \\\n",
       "2020-07-08 08:30:00.000000 -52.0  15.0 -35.0  18.47  5.773421  99.05  31.63   \n",
       "2020-07-08 08:30:00.015625   NaN   NaN   NaN  10.63       NaN    NaN    NaN   \n",
       "2020-07-08 08:30:00.031250 -52.0  15.0 -35.0  -0.95       NaN    NaN    NaN   \n",
       "2020-07-08 08:30:00.046875   NaN   NaN   NaN -16.12       NaN    NaN    NaN   \n",
       "2020-07-08 08:30:00.062500 -52.0  15.0 -35.0 -33.68       NaN    NaN    NaN   \n",
       "...                          ...   ...   ...    ...       ...    ...    ...   \n",
       "2020-07-23 12:25:36.687500 -45.0 -38.0  27.0  28.30       NaN    NaN    NaN   \n",
       "2020-07-23 12:25:36.703125   NaN   NaN   NaN  19.59       NaN    NaN    NaN   \n",
       "2020-07-23 12:25:36.718750 -51.0 -52.0  23.0   9.46       NaN    NaN    NaN   \n",
       "2020-07-23 12:25:36.734375   NaN   NaN   NaN  -0.96       NaN    NaN    NaN   \n",
       "2020-07-23 12:25:36.750000 -56.0 -58.0  14.0 -10.40  0.107580    NaN  33.15   \n",
       "\n",
       "                            label subject  groups  \n",
       "2020-07-08 08:30:00.000000      1      15       0  \n",
       "2020-07-08 08:30:00.015625      1      15       0  \n",
       "2020-07-08 08:30:00.031250      1      15       0  \n",
       "2020-07-08 08:30:00.046875      1      15       0  \n",
       "2020-07-08 08:30:00.062500      1      15       0  \n",
       "...                           ...     ...     ...  \n",
       "2020-07-23 12:25:36.687500      1      F5     161  \n",
       "2020-07-23 12:25:36.703125      1      F5     161  \n",
       "2020-07-23 12:25:36.718750      1      F5     161  \n",
       "2020-07-23 12:25:36.734375      1      F5     161  \n",
       "2020-07-23 12:25:36.750000      1      F5     161  \n",
       "\n",
       "[17074048 rows x 10 columns]"
      ]
     },
     "execution_count": 50,
     "metadata": {},
     "output_type": "execute_result"
    }
   ],
   "source": [
    "df"
   ]
  },
  {
   "cell_type": "markdown",
   "id": "b0e3cb61",
   "metadata": {},
   "source": [
    "# 2. Function for getting features from FLIRT"
   ]
  },
  {
   "cell_type": "code",
   "execution_count": 51,
   "id": "537cf957",
   "metadata": {},
   "outputs": [],
   "source": [
    "def get_features_inner(df, columns_list, prefix, window_length, window_step_size, frequency):\n",
    "    df = df[columns_list]\n",
    "    df = df.dropna()\n",
    "\n",
    "    features = flirt.get_acc_features(df,\n",
    "                                      window_length=window_length, \n",
    "                                      window_step_size=window_step_size,\n",
    "                                      data_frequency=frequency)\n",
    "    features = features.add_prefix(prefix)\n",
    "    return features"
   ]
  },
  {
   "cell_type": "code",
   "execution_count": 52,
   "id": "0c63214b",
   "metadata": {},
   "outputs": [],
   "source": [
    "def get_features(subject, label, data, window_length, window_step_size):\n",
    "\n",
    "    # we need to set a correct datetime index with 64hz, which is 15625000 nanoseconds,\n",
    "    # otherwise Flirt will create a wrong timeindex\n",
    "    #time_index = pd.date_range(start=0, periods=len(data), freq='15625000N')\n",
    "    #data = data.set_index(time_index)\n",
    "    \n",
    "    # calculate features\n",
    "    bvp_features = get_features_inner(data, ['BVP'], 'bvp_', window_length, window_step_size, 64)\n",
    "    acc_features = get_features_inner(data, ['x', 'y', 'z'], 'acc_', window_length, window_step_size, 32)\n",
    "    eda_features = get_features_inner(data, ['EDA'], 'eda_', window_length, window_step_size, 4)\n",
    "    temp_features = get_features_inner(data, ['TEMP'], 'temp_', window_length, window_step_size, 4)\n",
    "    hr_features = get_features_inner(data, ['HR'], 'hr_', window_length, window_step_size, 1)\n",
    "\n",
    "    # merge\n",
    "    res = pd.concat([bvp_features, acc_features, eda_features, temp_features, hr_features], axis=1)\n",
    "    \n",
    "    # add subject and label column\n",
    "    res['subject'] = subject\n",
    "    res['label'] = label\n",
    "\n",
    "    return res"
   ]
  },
  {
   "cell_type": "markdown",
   "id": "afd0b9d7",
   "metadata": {},
   "source": [
    "# 3. Calculate features for the whole dataset"
   ]
  },
  {
   "cell_type": "code",
   "execution_count": 53,
   "id": "0b03c7b8",
   "metadata": {},
   "outputs": [
    {
     "data": {
      "text/plain": [
       "(17074048, 10)"
      ]
     },
     "execution_count": 53,
     "metadata": {},
     "output_type": "execute_result"
    }
   ],
   "source": [
    "df.shape"
   ]
  },
  {
   "cell_type": "code",
   "execution_count": 54,
   "id": "41c20acc",
   "metadata": {},
   "outputs": [
    {
     "data": {
      "text/html": [
       "<div>\n",
       "<style scoped>\n",
       "    .dataframe tbody tr th:only-of-type {\n",
       "        vertical-align: middle;\n",
       "    }\n",
       "\n",
       "    .dataframe tbody tr th {\n",
       "        vertical-align: top;\n",
       "    }\n",
       "\n",
       "    .dataframe thead th {\n",
       "        text-align: right;\n",
       "    }\n",
       "</style>\n",
       "<table border=\"1\" class=\"dataframe\">\n",
       "  <thead>\n",
       "    <tr style=\"text-align: right;\">\n",
       "      <th></th>\n",
       "      <th>x</th>\n",
       "      <th>y</th>\n",
       "      <th>z</th>\n",
       "      <th>BVP</th>\n",
       "      <th>EDA</th>\n",
       "      <th>HR</th>\n",
       "      <th>TEMP</th>\n",
       "      <th>label</th>\n",
       "      <th>groups</th>\n",
       "    </tr>\n",
       "  </thead>\n",
       "  <tbody>\n",
       "    <tr>\n",
       "      <th>count</th>\n",
       "      <td>8.537105e+06</td>\n",
       "      <td>8.537105e+06</td>\n",
       "      <td>8.537105e+06</td>\n",
       "      <td>1.707405e+07</td>\n",
       "      <td>1.067279e+06</td>\n",
       "      <td>266924.000000</td>\n",
       "      <td>1.067279e+06</td>\n",
       "      <td>1.707405e+07</td>\n",
       "      <td>1.707405e+07</td>\n",
       "    </tr>\n",
       "    <tr>\n",
       "      <th>mean</th>\n",
       "      <td>-2.787857e+01</td>\n",
       "      <td>-8.684977e-01</td>\n",
       "      <td>2.380013e+01</td>\n",
       "      <td>-1.270045e-03</td>\n",
       "      <td>2.524590e+00</td>\n",
       "      <td>84.340621</td>\n",
       "      <td>3.213599e+01</td>\n",
       "      <td>8.393081e-01</td>\n",
       "      <td>8.118395e+01</td>\n",
       "    </tr>\n",
       "    <tr>\n",
       "      <th>std</th>\n",
       "      <td>3.223118e+01</td>\n",
       "      <td>3.215962e+01</td>\n",
       "      <td>2.938650e+01</td>\n",
       "      <td>1.015688e+02</td>\n",
       "      <td>4.792756e+00</td>\n",
       "      <td>13.904804</td>\n",
       "      <td>2.225368e+00</td>\n",
       "      <td>3.672465e-01</td>\n",
       "      <td>4.466536e+01</td>\n",
       "    </tr>\n",
       "    <tr>\n",
       "      <th>min</th>\n",
       "      <td>-1.280000e+02</td>\n",
       "      <td>-1.280000e+02</td>\n",
       "      <td>-1.280000e+02</td>\n",
       "      <td>-3.096160e+03</td>\n",
       "      <td>0.000000e+00</td>\n",
       "      <td>49.000000</td>\n",
       "      <td>2.347000e+01</td>\n",
       "      <td>0.000000e+00</td>\n",
       "      <td>0.000000e+00</td>\n",
       "    </tr>\n",
       "    <tr>\n",
       "      <th>25%</th>\n",
       "      <td>-5.200000e+01</td>\n",
       "      <td>-1.700000e+01</td>\n",
       "      <td>4.000000e+00</td>\n",
       "      <td>-2.071000e+01</td>\n",
       "      <td>1.447730e-01</td>\n",
       "      <td>75.870000</td>\n",
       "      <td>2.999000e+01</td>\n",
       "      <td>1.000000e+00</td>\n",
       "      <td>3.500000e+01</td>\n",
       "    </tr>\n",
       "    <tr>\n",
       "      <th>50%</th>\n",
       "      <td>-3.300000e+01</td>\n",
       "      <td>1.000000e+00</td>\n",
       "      <td>2.600000e+01</td>\n",
       "      <td>8.800000e-01</td>\n",
       "      <td>4.576470e-01</td>\n",
       "      <td>82.150000</td>\n",
       "      <td>3.263000e+01</td>\n",
       "      <td>1.000000e+00</td>\n",
       "      <td>8.200000e+01</td>\n",
       "    </tr>\n",
       "    <tr>\n",
       "      <th>75%</th>\n",
       "      <td>-1.400000e+01</td>\n",
       "      <td>1.500000e+01</td>\n",
       "      <td>5.000000e+01</td>\n",
       "      <td>2.184000e+01</td>\n",
       "      <td>2.378491e+00</td>\n",
       "      <td>91.030000</td>\n",
       "      <td>3.407000e+01</td>\n",
       "      <td>1.000000e+00</td>\n",
       "      <td>1.180000e+02</td>\n",
       "    </tr>\n",
       "    <tr>\n",
       "      <th>max</th>\n",
       "      <td>1.270000e+02</td>\n",
       "      <td>1.270000e+02</td>\n",
       "      <td>1.270000e+02</td>\n",
       "      <td>2.506460e+03</td>\n",
       "      <td>4.794970e+01</td>\n",
       "      <td>180.230000</td>\n",
       "      <td>3.705000e+01</td>\n",
       "      <td>1.000000e+00</td>\n",
       "      <td>1.610000e+02</td>\n",
       "    </tr>\n",
       "  </tbody>\n",
       "</table>\n",
       "</div>"
      ],
      "text/plain": [
       "                  x             y             z           BVP           EDA  \\\n",
       "count  8.537105e+06  8.537105e+06  8.537105e+06  1.707405e+07  1.067279e+06   \n",
       "mean  -2.787857e+01 -8.684977e-01  2.380013e+01 -1.270045e-03  2.524590e+00   \n",
       "std    3.223118e+01  3.215962e+01  2.938650e+01  1.015688e+02  4.792756e+00   \n",
       "min   -1.280000e+02 -1.280000e+02 -1.280000e+02 -3.096160e+03  0.000000e+00   \n",
       "25%   -5.200000e+01 -1.700000e+01  4.000000e+00 -2.071000e+01  1.447730e-01   \n",
       "50%   -3.300000e+01  1.000000e+00  2.600000e+01  8.800000e-01  4.576470e-01   \n",
       "75%   -1.400000e+01  1.500000e+01  5.000000e+01  2.184000e+01  2.378491e+00   \n",
       "max    1.270000e+02  1.270000e+02  1.270000e+02  2.506460e+03  4.794970e+01   \n",
       "\n",
       "                  HR          TEMP         label        groups  \n",
       "count  266924.000000  1.067279e+06  1.707405e+07  1.707405e+07  \n",
       "mean       84.340621  3.213599e+01  8.393081e-01  8.118395e+01  \n",
       "std        13.904804  2.225368e+00  3.672465e-01  4.466536e+01  \n",
       "min        49.000000  2.347000e+01  0.000000e+00  0.000000e+00  \n",
       "25%        75.870000  2.999000e+01  1.000000e+00  3.500000e+01  \n",
       "50%        82.150000  3.263000e+01  1.000000e+00  8.200000e+01  \n",
       "75%        91.030000  3.407000e+01  1.000000e+00  1.180000e+02  \n",
       "max       180.230000  3.705000e+01  1.000000e+00  1.610000e+02  "
      ]
     },
     "execution_count": 54,
     "metadata": {},
     "output_type": "execute_result"
    }
   ],
   "source": [
    "df.describe()"
   ]
  },
  {
   "cell_type": "code",
   "execution_count": 56,
   "id": "2249a7a7",
   "metadata": {},
   "outputs": [
    {
     "data": {
      "application/vnd.jupyter.widget-view+json": {
       "model_id": "de82d8f4d9e34b8b9a83d9493d6d0de1",
       "version_major": 2,
       "version_minor": 0
      },
      "text/plain": [
       "ACC features:   0%|          | 0/23 [00:00<?, ?it/s]"
      ]
     },
     "metadata": {},
     "output_type": "display_data"
    },
    {
     "name": "stdout",
     "output_type": "stream",
     "text": [
      "Unable to remove memmapped file\n"
     ]
    },
    {
     "data": {
      "application/vnd.jupyter.widget-view+json": {
       "model_id": "212a2e6593cf46b7bbab5faf18e03b02",
       "version_major": 2,
       "version_minor": 0
      },
      "text/plain": [
       "ACC features:   0%|          | 0/23 [00:00<?, ?it/s]"
      ]
     },
     "metadata": {},
     "output_type": "display_data"
    },
    {
     "name": "stdout",
     "output_type": "stream",
     "text": [
      "Unable to remove memmapped file\n"
     ]
    },
    {
     "data": {
      "application/vnd.jupyter.widget-view+json": {
       "model_id": "d6e1eafd6378457eb035f2f5150afe04",
       "version_major": 2,
       "version_minor": 0
      },
      "text/plain": [
       "ACC features:   0%|          | 0/23 [00:00<?, ?it/s]"
      ]
     },
     "metadata": {},
     "output_type": "display_data"
    },
    {
     "name": "stdout",
     "output_type": "stream",
     "text": [
      "Unable to remove memmapped file\n"
     ]
    },
    {
     "data": {
      "application/vnd.jupyter.widget-view+json": {
       "model_id": "4a956ecfda6c4cce8f34639ac7c40842",
       "version_major": 2,
       "version_minor": 0
      },
      "text/plain": [
       "ACC features:   0%|          | 0/23 [00:00<?, ?it/s]"
      ]
     },
     "metadata": {},
     "output_type": "display_data"
    },
    {
     "name": "stdout",
     "output_type": "stream",
     "text": [
      "Unable to remove memmapped file\n"
     ]
    },
    {
     "data": {
      "application/vnd.jupyter.widget-view+json": {
       "model_id": "410943ca14b142feafd29665dc6648cd",
       "version_major": 2,
       "version_minor": 0
      },
      "text/plain": [
       "ACC features:   0%|          | 0/23 [00:00<?, ?it/s]"
      ]
     },
     "metadata": {},
     "output_type": "display_data"
    },
    {
     "name": "stdout",
     "output_type": "stream",
     "text": [
      "Unable to remove memmapped file\n"
     ]
    },
    {
     "data": {
      "application/vnd.jupyter.widget-view+json": {
       "model_id": "db982b6d0d704ca48be3437c279a22a7",
       "version_major": 2,
       "version_minor": 0
      },
      "text/plain": [
       "ACC features:   0%|          | 0/54 [00:00<?, ?it/s]"
      ]
     },
     "metadata": {},
     "output_type": "display_data"
    },
    {
     "name": "stdout",
     "output_type": "stream",
     "text": [
      "Unable to remove memmapped file\n"
     ]
    },
    {
     "data": {
      "application/vnd.jupyter.widget-view+json": {
       "model_id": "7372018a41d24914a00cafecdcd2bf56",
       "version_major": 2,
       "version_minor": 0
      },
      "text/plain": [
       "ACC features:   0%|          | 0/54 [00:00<?, ?it/s]"
      ]
     },
     "metadata": {},
     "output_type": "display_data"
    },
    {
     "name": "stdout",
     "output_type": "stream",
     "text": [
      "Unable to remove memmapped file\n"
     ]
    },
    {
     "data": {
      "application/vnd.jupyter.widget-view+json": {
       "model_id": "1bd3bf1791f345418a82b9f6e3aeb1b0",
       "version_major": 2,
       "version_minor": 0
      },
      "text/plain": [
       "ACC features:   0%|          | 0/54 [00:00<?, ?it/s]"
      ]
     },
     "metadata": {},
     "output_type": "display_data"
    },
    {
     "name": "stdout",
     "output_type": "stream",
     "text": [
      "Unable to remove memmapped file\n"
     ]
    },
    {
     "data": {
      "application/vnd.jupyter.widget-view+json": {
       "model_id": "c69e909637584a86b5f0f73e769f1621",
       "version_major": 2,
       "version_minor": 0
      },
      "text/plain": [
       "ACC features:   0%|          | 0/54 [00:00<?, ?it/s]"
      ]
     },
     "metadata": {},
     "output_type": "display_data"
    },
    {
     "name": "stdout",
     "output_type": "stream",
     "text": [
      "Unable to remove memmapped file\n"
     ]
    },
    {
     "data": {
      "application/vnd.jupyter.widget-view+json": {
       "model_id": "741ee6dee463475385b44661a0d45a8e",
       "version_major": 2,
       "version_minor": 0
      },
      "text/plain": [
       "ACC features:   0%|          | 0/54 [00:00<?, ?it/s]"
      ]
     },
     "metadata": {},
     "output_type": "display_data"
    },
    {
     "name": "stdout",
     "output_type": "stream",
     "text": [
      "Unable to remove memmapped file\n"
     ]
    },
    {
     "data": {
      "application/vnd.jupyter.widget-view+json": {
       "model_id": "cdeee97ca4f049e686672a85edb1f54f",
       "version_major": 2,
       "version_minor": 0
      },
      "text/plain": [
       "ACC features:   0%|          | 0/66 [00:00<?, ?it/s]"
      ]
     },
     "metadata": {},
     "output_type": "display_data"
    },
    {
     "name": "stdout",
     "output_type": "stream",
     "text": [
      "Unable to remove memmapped file\n"
     ]
    },
    {
     "data": {
      "application/vnd.jupyter.widget-view+json": {
       "model_id": "95f47dabdc8741fda3b0e941dfacdd58",
       "version_major": 2,
       "version_minor": 0
      },
      "text/plain": [
       "ACC features:   0%|          | 0/66 [00:00<?, ?it/s]"
      ]
     },
     "metadata": {},
     "output_type": "display_data"
    },
    {
     "name": "stdout",
     "output_type": "stream",
     "text": [
      "Unable to remove memmapped file\n"
     ]
    },
    {
     "data": {
      "application/vnd.jupyter.widget-view+json": {
       "model_id": "19bb7c9955d842d4a1868f06864a7830",
       "version_major": 2,
       "version_minor": 0
      },
      "text/plain": [
       "ACC features:   0%|          | 0/66 [00:00<?, ?it/s]"
      ]
     },
     "metadata": {},
     "output_type": "display_data"
    },
    {
     "name": "stdout",
     "output_type": "stream",
     "text": [
      "Unable to remove memmapped file\n"
     ]
    },
    {
     "data": {
      "application/vnd.jupyter.widget-view+json": {
       "model_id": "b85475daac104b0db6f42c3e38dd2c6f",
       "version_major": 2,
       "version_minor": 0
      },
      "text/plain": [
       "ACC features:   0%|          | 0/66 [00:00<?, ?it/s]"
      ]
     },
     "metadata": {},
     "output_type": "display_data"
    },
    {
     "name": "stdout",
     "output_type": "stream",
     "text": [
      "Unable to remove memmapped file\n"
     ]
    },
    {
     "data": {
      "application/vnd.jupyter.widget-view+json": {
       "model_id": "18599f9e389a47888dcce9c1823af2c0",
       "version_major": 2,
       "version_minor": 0
      },
      "text/plain": [
       "ACC features:   0%|          | 0/66 [00:00<?, ?it/s]"
      ]
     },
     "metadata": {},
     "output_type": "display_data"
    },
    {
     "name": "stdout",
     "output_type": "stream",
     "text": [
      "Unable to remove memmapped file\n"
     ]
    },
    {
     "data": {
      "application/vnd.jupyter.widget-view+json": {
       "model_id": "066f1ddd4be5497abbb619500a90abf0",
       "version_major": 2,
       "version_minor": 0
      },
      "text/plain": [
       "ACC features:   0%|          | 0/42 [00:00<?, ?it/s]"
      ]
     },
     "metadata": {},
     "output_type": "display_data"
    },
    {
     "name": "stdout",
     "output_type": "stream",
     "text": [
      "Unable to remove memmapped file\n"
     ]
    },
    {
     "data": {
      "application/vnd.jupyter.widget-view+json": {
       "model_id": "35bcf9d36298414193f2e208405d652b",
       "version_major": 2,
       "version_minor": 0
      },
      "text/plain": [
       "ACC features:   0%|          | 0/42 [00:00<?, ?it/s]"
      ]
     },
     "metadata": {},
     "output_type": "display_data"
    },
    {
     "name": "stdout",
     "output_type": "stream",
     "text": [
      "Unable to remove memmapped file\n"
     ]
    },
    {
     "data": {
      "application/vnd.jupyter.widget-view+json": {
       "model_id": "346bf2a20f4f4ad58abf53fcf2794f03",
       "version_major": 2,
       "version_minor": 0
      },
      "text/plain": [
       "ACC features:   0%|          | 0/42 [00:00<?, ?it/s]"
      ]
     },
     "metadata": {},
     "output_type": "display_data"
    },
    {
     "name": "stdout",
     "output_type": "stream",
     "text": [
      "Unable to remove memmapped file\n"
     ]
    },
    {
     "data": {
      "application/vnd.jupyter.widget-view+json": {
       "model_id": "33d61013ab92479b8bc61ae75321ab64",
       "version_major": 2,
       "version_minor": 0
      },
      "text/plain": [
       "ACC features:   0%|          | 0/42 [00:00<?, ?it/s]"
      ]
     },
     "metadata": {},
     "output_type": "display_data"
    },
    {
     "name": "stdout",
     "output_type": "stream",
     "text": [
      "Unable to remove memmapped file\n"
     ]
    },
    {
     "data": {
      "application/vnd.jupyter.widget-view+json": {
       "model_id": "803fe00f9da445ab95d9b1136f15a4aa",
       "version_major": 2,
       "version_minor": 0
      },
      "text/plain": [
       "ACC features:   0%|          | 0/42 [00:00<?, ?it/s]"
      ]
     },
     "metadata": {},
     "output_type": "display_data"
    },
    {
     "name": "stdout",
     "output_type": "stream",
     "text": [
      "Unable to remove memmapped file\n"
     ]
    },
    {
     "data": {
      "application/vnd.jupyter.widget-view+json": {
       "model_id": "eb45c582db7643e39f5d3be8477bc706",
       "version_major": 2,
       "version_minor": 0
      },
      "text/plain": [
       "ACC features:   0%|          | 0/11 [00:00<?, ?it/s]"
      ]
     },
     "metadata": {},
     "output_type": "display_data"
    },
    {
     "name": "stdout",
     "output_type": "stream",
     "text": [
      "Unable to remove memmapped file\n"
     ]
    },
    {
     "data": {
      "application/vnd.jupyter.widget-view+json": {
       "model_id": "0851992f68284921b164586848004a6f",
       "version_major": 2,
       "version_minor": 0
      },
      "text/plain": [
       "ACC features:   0%|          | 0/11 [00:00<?, ?it/s]"
      ]
     },
     "metadata": {},
     "output_type": "display_data"
    },
    {
     "name": "stdout",
     "output_type": "stream",
     "text": [
      "Unable to remove memmapped file\n"
     ]
    },
    {
     "data": {
      "application/vnd.jupyter.widget-view+json": {
       "model_id": "4531029400354ab895ade36806bb513b",
       "version_major": 2,
       "version_minor": 0
      },
      "text/plain": [
       "ACC features:   0%|          | 0/11 [00:00<?, ?it/s]"
      ]
     },
     "metadata": {},
     "output_type": "display_data"
    },
    {
     "name": "stdout",
     "output_type": "stream",
     "text": [
      "Unable to remove memmapped file\n"
     ]
    },
    {
     "data": {
      "application/vnd.jupyter.widget-view+json": {
       "model_id": "1a88b53bdd03420080c46209ce982787",
       "version_major": 2,
       "version_minor": 0
      },
      "text/plain": [
       "ACC features:   0%|          | 0/11 [00:00<?, ?it/s]"
      ]
     },
     "metadata": {},
     "output_type": "display_data"
    },
    {
     "name": "stdout",
     "output_type": "stream",
     "text": [
      "Unable to remove memmapped file\n"
     ]
    },
    {
     "data": {
      "application/vnd.jupyter.widget-view+json": {
       "model_id": "9008ab22a2c64f48843abf09d6d73d29",
       "version_major": 2,
       "version_minor": 0
      },
      "text/plain": [
       "ACC features:   0%|          | 0/10 [00:00<?, ?it/s]"
      ]
     },
     "metadata": {},
     "output_type": "display_data"
    },
    {
     "name": "stdout",
     "output_type": "stream",
     "text": [
      "Unable to remove memmapped file\n"
     ]
    },
    {
     "data": {
      "application/vnd.jupyter.widget-view+json": {
       "model_id": "0d7fac2be3f54d989cb194a080fbdf5f",
       "version_major": 2,
       "version_minor": 0
      },
      "text/plain": [
       "ACC features:   0%|          | 0/26 [00:00<?, ?it/s]"
      ]
     },
     "metadata": {},
     "output_type": "display_data"
    },
    {
     "name": "stdout",
     "output_type": "stream",
     "text": [
      "Unable to remove memmapped file\n"
     ]
    },
    {
     "data": {
      "application/vnd.jupyter.widget-view+json": {
       "model_id": "f254b5a2fa944269a69a52501b9e0d2a",
       "version_major": 2,
       "version_minor": 0
      },
      "text/plain": [
       "ACC features:   0%|          | 0/26 [00:00<?, ?it/s]"
      ]
     },
     "metadata": {},
     "output_type": "display_data"
    },
    {
     "name": "stdout",
     "output_type": "stream",
     "text": [
      "Unable to remove memmapped file\n"
     ]
    },
    {
     "data": {
      "application/vnd.jupyter.widget-view+json": {
       "model_id": "c2caff8ef1d5484b899710c1966bb8ba",
       "version_major": 2,
       "version_minor": 0
      },
      "text/plain": [
       "ACC features:   0%|          | 0/26 [00:00<?, ?it/s]"
      ]
     },
     "metadata": {},
     "output_type": "display_data"
    },
    {
     "name": "stdout",
     "output_type": "stream",
     "text": [
      "Unable to remove memmapped file\n"
     ]
    },
    {
     "data": {
      "application/vnd.jupyter.widget-view+json": {
       "model_id": "c0d2953bb69e45e294e055ae0c815a53",
       "version_major": 2,
       "version_minor": 0
      },
      "text/plain": [
       "ACC features:   0%|          | 0/26 [00:00<?, ?it/s]"
      ]
     },
     "metadata": {},
     "output_type": "display_data"
    },
    {
     "name": "stdout",
     "output_type": "stream",
     "text": [
      "Unable to remove memmapped file\n"
     ]
    },
    {
     "data": {
      "application/vnd.jupyter.widget-view+json": {
       "model_id": "d73e8c7a8a804219a66826e4fda9a206",
       "version_major": 2,
       "version_minor": 0
      },
      "text/plain": [
       "ACC features:   0%|          | 0/26 [00:00<?, ?it/s]"
      ]
     },
     "metadata": {},
     "output_type": "display_data"
    },
    {
     "name": "stdout",
     "output_type": "stream",
     "text": [
      "Unable to remove memmapped file\n"
     ]
    },
    {
     "data": {
      "application/vnd.jupyter.widget-view+json": {
       "model_id": "d3398f0ec537415c8e4b3d282fe7e8ca",
       "version_major": 2,
       "version_minor": 0
      },
      "text/plain": [
       "ACC features:   0%|          | 0/4 [00:00<?, ?it/s]"
      ]
     },
     "metadata": {},
     "output_type": "display_data"
    },
    {
     "name": "stdout",
     "output_type": "stream",
     "text": [
      "Unable to remove memmapped file\n"
     ]
    },
    {
     "data": {
      "application/vnd.jupyter.widget-view+json": {
       "model_id": "a509e2d9a4f5473a915e5231522f6a16",
       "version_major": 2,
       "version_minor": 0
      },
      "text/plain": [
       "ACC features:   0%|          | 0/4 [00:00<?, ?it/s]"
      ]
     },
     "metadata": {},
     "output_type": "display_data"
    },
    {
     "name": "stdout",
     "output_type": "stream",
     "text": [
      "Unable to remove memmapped file\n"
     ]
    },
    {
     "data": {
      "application/vnd.jupyter.widget-view+json": {
       "model_id": "d8b1bb0b59234d4f8a1be0a3037508bf",
       "version_major": 2,
       "version_minor": 0
      },
      "text/plain": [
       "ACC features:   0%|          | 0/4 [00:00<?, ?it/s]"
      ]
     },
     "metadata": {},
     "output_type": "display_data"
    },
    {
     "name": "stdout",
     "output_type": "stream",
     "text": [
      "Unable to remove memmapped file\n"
     ]
    },
    {
     "data": {
      "application/vnd.jupyter.widget-view+json": {
       "model_id": "6f8d4436bed04613a9f9f851d698f94c",
       "version_major": 2,
       "version_minor": 0
      },
      "text/plain": [
       "ACC features:   0%|          | 0/4 [00:00<?, ?it/s]"
      ]
     },
     "metadata": {},
     "output_type": "display_data"
    },
    {
     "name": "stdout",
     "output_type": "stream",
     "text": [
      "Unable to remove memmapped file\n"
     ]
    },
    {
     "data": {
      "application/vnd.jupyter.widget-view+json": {
       "model_id": "34abf529b4e94e4c89f7f953473d92aa",
       "version_major": 2,
       "version_minor": 0
      },
      "text/plain": [
       "ACC features:   0%|          | 0/4 [00:00<?, ?it/s]"
      ]
     },
     "metadata": {},
     "output_type": "display_data"
    },
    {
     "name": "stdout",
     "output_type": "stream",
     "text": [
      "Unable to remove memmapped file\n"
     ]
    },
    {
     "data": {
      "application/vnd.jupyter.widget-view+json": {
       "model_id": "1e084fea019c496988ac9c25cf0990d2",
       "version_major": 2,
       "version_minor": 0
      },
      "text/plain": [
       "ACC features:   0%|          | 0/54 [00:00<?, ?it/s]"
      ]
     },
     "metadata": {},
     "output_type": "display_data"
    },
    {
     "name": "stdout",
     "output_type": "stream",
     "text": [
      "Unable to remove memmapped file\n"
     ]
    },
    {
     "data": {
      "application/vnd.jupyter.widget-view+json": {
       "model_id": "60a2f36eacad49c48693e01e6e5445e3",
       "version_major": 2,
       "version_minor": 0
      },
      "text/plain": [
       "ACC features:   0%|          | 0/54 [00:00<?, ?it/s]"
      ]
     },
     "metadata": {},
     "output_type": "display_data"
    },
    {
     "name": "stdout",
     "output_type": "stream",
     "text": [
      "Unable to remove memmapped file\n"
     ]
    },
    {
     "data": {
      "application/vnd.jupyter.widget-view+json": {
       "model_id": "c11652333e01469e8a8b3a0294ea600c",
       "version_major": 2,
       "version_minor": 0
      },
      "text/plain": [
       "ACC features:   0%|          | 0/54 [00:00<?, ?it/s]"
      ]
     },
     "metadata": {},
     "output_type": "display_data"
    },
    {
     "name": "stdout",
     "output_type": "stream",
     "text": [
      "Unable to remove memmapped file\n"
     ]
    },
    {
     "data": {
      "application/vnd.jupyter.widget-view+json": {
       "model_id": "1181e66699c44e11b96d7b4c8e39bdf2",
       "version_major": 2,
       "version_minor": 0
      },
      "text/plain": [
       "ACC features:   0%|          | 0/54 [00:00<?, ?it/s]"
      ]
     },
     "metadata": {},
     "output_type": "display_data"
    },
    {
     "name": "stdout",
     "output_type": "stream",
     "text": [
      "Unable to remove memmapped file\n"
     ]
    },
    {
     "data": {
      "application/vnd.jupyter.widget-view+json": {
       "model_id": "73b72e98ee9c4bc888a64ac3bd2a609c",
       "version_major": 2,
       "version_minor": 0
      },
      "text/plain": [
       "ACC features:   0%|          | 0/54 [00:00<?, ?it/s]"
      ]
     },
     "metadata": {},
     "output_type": "display_data"
    },
    {
     "name": "stdout",
     "output_type": "stream",
     "text": [
      "Unable to remove memmapped file\n"
     ]
    },
    {
     "data": {
      "application/vnd.jupyter.widget-view+json": {
       "model_id": "223c12bcf74c4d10859ce05529e3eade",
       "version_major": 2,
       "version_minor": 0
      },
      "text/plain": [
       "ACC features:   0%|          | 0/12 [00:00<?, ?it/s]"
      ]
     },
     "metadata": {},
     "output_type": "display_data"
    },
    {
     "name": "stdout",
     "output_type": "stream",
     "text": [
      "Unable to remove memmapped file\n"
     ]
    },
    {
     "data": {
      "application/vnd.jupyter.widget-view+json": {
       "model_id": "68f4c13356e34e54b03ac0916961ab3b",
       "version_major": 2,
       "version_minor": 0
      },
      "text/plain": [
       "ACC features:   0%|          | 0/12 [00:00<?, ?it/s]"
      ]
     },
     "metadata": {},
     "output_type": "display_data"
    },
    {
     "name": "stdout",
     "output_type": "stream",
     "text": [
      "Unable to remove memmapped file\n"
     ]
    },
    {
     "data": {
      "application/vnd.jupyter.widget-view+json": {
       "model_id": "be5229441b954d248f76db69ca7196d8",
       "version_major": 2,
       "version_minor": 0
      },
      "text/plain": [
       "ACC features:   0%|          | 0/12 [00:00<?, ?it/s]"
      ]
     },
     "metadata": {},
     "output_type": "display_data"
    },
    {
     "name": "stdout",
     "output_type": "stream",
     "text": [
      "Unable to remove memmapped file\n"
     ]
    },
    {
     "data": {
      "application/vnd.jupyter.widget-view+json": {
       "model_id": "4b64660707f44c8ba45f7a11958c1f82",
       "version_major": 2,
       "version_minor": 0
      },
      "text/plain": [
       "ACC features:   0%|          | 0/12 [00:00<?, ?it/s]"
      ]
     },
     "metadata": {},
     "output_type": "display_data"
    },
    {
     "name": "stdout",
     "output_type": "stream",
     "text": [
      "Unable to remove memmapped file\n"
     ]
    },
    {
     "data": {
      "application/vnd.jupyter.widget-view+json": {
       "model_id": "bf7af1a0501044a9835bbc8db7f01f60",
       "version_major": 2,
       "version_minor": 0
      },
      "text/plain": [
       "ACC features:   0%|          | 0/12 [00:00<?, ?it/s]"
      ]
     },
     "metadata": {},
     "output_type": "display_data"
    },
    {
     "name": "stdout",
     "output_type": "stream",
     "text": [
      "Unable to remove memmapped file\n"
     ]
    },
    {
     "data": {
      "application/vnd.jupyter.widget-view+json": {
       "model_id": "c180cedd788b4b11a81acfc918c27c1a",
       "version_major": 2,
       "version_minor": 0
      },
      "text/plain": [
       "ACC features:   0%|          | 0/625 [00:00<?, ?it/s]"
      ]
     },
     "metadata": {},
     "output_type": "display_data"
    },
    {
     "name": "stdout",
     "output_type": "stream",
     "text": [
      "Unable to remove memmapped file\n"
     ]
    },
    {
     "data": {
      "application/vnd.jupyter.widget-view+json": {
       "model_id": "b71ffc3891ae4481a494324a5cf4f5f2",
       "version_major": 2,
       "version_minor": 0
      },
      "text/plain": [
       "ACC features:   0%|          | 0/625 [00:00<?, ?it/s]"
      ]
     },
     "metadata": {},
     "output_type": "display_data"
    },
    {
     "name": "stdout",
     "output_type": "stream",
     "text": [
      "Unable to remove memmapped file\n"
     ]
    },
    {
     "data": {
      "application/vnd.jupyter.widget-view+json": {
       "model_id": "71b78cd87af44fe5bba771f1115d3a0e",
       "version_major": 2,
       "version_minor": 0
      },
      "text/plain": [
       "ACC features:   0%|          | 0/625 [00:00<?, ?it/s]"
      ]
     },
     "metadata": {},
     "output_type": "display_data"
    },
    {
     "name": "stdout",
     "output_type": "stream",
     "text": [
      "Unable to remove memmapped file\n"
     ]
    },
    {
     "data": {
      "application/vnd.jupyter.widget-view+json": {
       "model_id": "d32f45cd71de4f678643f2d336811939",
       "version_major": 2,
       "version_minor": 0
      },
      "text/plain": [
       "ACC features:   0%|          | 0/625 [00:00<?, ?it/s]"
      ]
     },
     "metadata": {},
     "output_type": "display_data"
    },
    {
     "name": "stdout",
     "output_type": "stream",
     "text": [
      "Unable to remove memmapped file\n"
     ]
    },
    {
     "data": {
      "application/vnd.jupyter.widget-view+json": {
       "model_id": "d3ba8b9cd4ba40918d7295a139fcbba3",
       "version_major": 2,
       "version_minor": 0
      },
      "text/plain": [
       "ACC features:   0%|          | 0/625 [00:00<?, ?it/s]"
      ]
     },
     "metadata": {},
     "output_type": "display_data"
    },
    {
     "name": "stdout",
     "output_type": "stream",
     "text": [
      "Unable to remove memmapped file\n"
     ]
    },
    {
     "data": {
      "application/vnd.jupyter.widget-view+json": {
       "model_id": "9c708d33eb8945699e42c0e86832b686",
       "version_major": 2,
       "version_minor": 0
      },
      "text/plain": [
       "ACC features:   0%|          | 0/456 [00:00<?, ?it/s]"
      ]
     },
     "metadata": {},
     "output_type": "display_data"
    },
    {
     "name": "stdout",
     "output_type": "stream",
     "text": [
      "Unable to remove memmapped file\n"
     ]
    },
    {
     "data": {
      "application/vnd.jupyter.widget-view+json": {
       "model_id": "9ba1255dab82487693d79119d08f47d6",
       "version_major": 2,
       "version_minor": 0
      },
      "text/plain": [
       "ACC features:   0%|          | 0/456 [00:00<?, ?it/s]"
      ]
     },
     "metadata": {},
     "output_type": "display_data"
    },
    {
     "name": "stdout",
     "output_type": "stream",
     "text": [
      "Unable to remove memmapped file\n"
     ]
    },
    {
     "data": {
      "application/vnd.jupyter.widget-view+json": {
       "model_id": "d4a5cd5350c3410685caaa38573ef939",
       "version_major": 2,
       "version_minor": 0
      },
      "text/plain": [
       "ACC features:   0%|          | 0/456 [00:00<?, ?it/s]"
      ]
     },
     "metadata": {},
     "output_type": "display_data"
    },
    {
     "name": "stdout",
     "output_type": "stream",
     "text": [
      "Unable to remove memmapped file\n"
     ]
    },
    {
     "data": {
      "application/vnd.jupyter.widget-view+json": {
       "model_id": "0da42cfeda0c4ba0a2a239477de4905a",
       "version_major": 2,
       "version_minor": 0
      },
      "text/plain": [
       "ACC features:   0%|          | 0/456 [00:00<?, ?it/s]"
      ]
     },
     "metadata": {},
     "output_type": "display_data"
    },
    {
     "name": "stdout",
     "output_type": "stream",
     "text": [
      "Unable to remove memmapped file\n"
     ]
    },
    {
     "data": {
      "application/vnd.jupyter.widget-view+json": {
       "model_id": "fbb165b6b8dc425dad2bdac2b6d3ecb1",
       "version_major": 2,
       "version_minor": 0
      },
      "text/plain": [
       "ACC features:   0%|          | 0/456 [00:00<?, ?it/s]"
      ]
     },
     "metadata": {},
     "output_type": "display_data"
    },
    {
     "name": "stdout",
     "output_type": "stream",
     "text": [
      "Unable to remove memmapped file\n"
     ]
    },
    {
     "data": {
      "application/vnd.jupyter.widget-view+json": {
       "model_id": "e0112d6f7618499196119f66262297d1",
       "version_major": 2,
       "version_minor": 0
      },
      "text/plain": [
       "ACC features:   0%|          | 0/138 [00:00<?, ?it/s]"
      ]
     },
     "metadata": {},
     "output_type": "display_data"
    },
    {
     "name": "stdout",
     "output_type": "stream",
     "text": [
      "Unable to remove memmapped file\n"
     ]
    },
    {
     "data": {
      "application/vnd.jupyter.widget-view+json": {
       "model_id": "ad4890fd14284c2ca259b22ff14c3dbd",
       "version_major": 2,
       "version_minor": 0
      },
      "text/plain": [
       "ACC features:   0%|          | 0/138 [00:00<?, ?it/s]"
      ]
     },
     "metadata": {},
     "output_type": "display_data"
    },
    {
     "name": "stdout",
     "output_type": "stream",
     "text": [
      "Unable to remove memmapped file\n"
     ]
    },
    {
     "data": {
      "application/vnd.jupyter.widget-view+json": {
       "model_id": "11bf8c30ba634f7796b2e140d23975d4",
       "version_major": 2,
       "version_minor": 0
      },
      "text/plain": [
       "ACC features:   0%|          | 0/138 [00:00<?, ?it/s]"
      ]
     },
     "metadata": {},
     "output_type": "display_data"
    },
    {
     "name": "stdout",
     "output_type": "stream",
     "text": [
      "Unable to remove memmapped file\n"
     ]
    },
    {
     "data": {
      "application/vnd.jupyter.widget-view+json": {
       "model_id": "915f8dde2daa4e709178b67cba773be0",
       "version_major": 2,
       "version_minor": 0
      },
      "text/plain": [
       "ACC features:   0%|          | 0/138 [00:00<?, ?it/s]"
      ]
     },
     "metadata": {},
     "output_type": "display_data"
    },
    {
     "name": "stdout",
     "output_type": "stream",
     "text": [
      "Unable to remove memmapped file\n"
     ]
    },
    {
     "data": {
      "application/vnd.jupyter.widget-view+json": {
       "model_id": "99326ef3b0d1459bb8e1570a24095086",
       "version_major": 2,
       "version_minor": 0
      },
      "text/plain": [
       "ACC features:   0%|          | 0/138 [00:00<?, ?it/s]"
      ]
     },
     "metadata": {},
     "output_type": "display_data"
    },
    {
     "name": "stdout",
     "output_type": "stream",
     "text": [
      "Unable to remove memmapped file\n"
     ]
    },
    {
     "data": {
      "application/vnd.jupyter.widget-view+json": {
       "model_id": "c7c185868bd44f6da551b06d1193a030",
       "version_major": 2,
       "version_minor": 0
      },
      "text/plain": [
       "ACC features:   0%|          | 0/48 [00:00<?, ?it/s]"
      ]
     },
     "metadata": {},
     "output_type": "display_data"
    },
    {
     "name": "stdout",
     "output_type": "stream",
     "text": [
      "Unable to remove memmapped file\n"
     ]
    },
    {
     "data": {
      "application/vnd.jupyter.widget-view+json": {
       "model_id": "0cdcaa497052432b84b20c902c05a7cb",
       "version_major": 2,
       "version_minor": 0
      },
      "text/plain": [
       "ACC features:   0%|          | 0/48 [00:00<?, ?it/s]"
      ]
     },
     "metadata": {},
     "output_type": "display_data"
    },
    {
     "name": "stdout",
     "output_type": "stream",
     "text": [
      "Unable to remove memmapped file\n"
     ]
    },
    {
     "data": {
      "application/vnd.jupyter.widget-view+json": {
       "model_id": "782ef04d3a1e41f19bdbd9b18d02ffa2",
       "version_major": 2,
       "version_minor": 0
      },
      "text/plain": [
       "ACC features:   0%|          | 0/48 [00:00<?, ?it/s]"
      ]
     },
     "metadata": {},
     "output_type": "display_data"
    },
    {
     "name": "stdout",
     "output_type": "stream",
     "text": [
      "Unable to remove memmapped file\n"
     ]
    },
    {
     "data": {
      "application/vnd.jupyter.widget-view+json": {
       "model_id": "302a2c80404e4d528037ca2782cf8249",
       "version_major": 2,
       "version_minor": 0
      },
      "text/plain": [
       "ACC features:   0%|          | 0/48 [00:00<?, ?it/s]"
      ]
     },
     "metadata": {},
     "output_type": "display_data"
    },
    {
     "name": "stdout",
     "output_type": "stream",
     "text": [
      "Unable to remove memmapped file\n"
     ]
    },
    {
     "data": {
      "application/vnd.jupyter.widget-view+json": {
       "model_id": "ce9e3c489ffe4eef9f427077e80135f3",
       "version_major": 2,
       "version_minor": 0
      },
      "text/plain": [
       "ACC features:   0%|          | 0/48 [00:00<?, ?it/s]"
      ]
     },
     "metadata": {},
     "output_type": "display_data"
    },
    {
     "name": "stdout",
     "output_type": "stream",
     "text": [
      "Unable to remove memmapped file\n"
     ]
    },
    {
     "data": {
      "application/vnd.jupyter.widget-view+json": {
       "model_id": "0ce835e03b4e45819ba9a48de9c94d89",
       "version_major": 2,
       "version_minor": 0
      },
      "text/plain": [
       "ACC features:   0%|          | 0/174 [00:00<?, ?it/s]"
      ]
     },
     "metadata": {},
     "output_type": "display_data"
    },
    {
     "name": "stdout",
     "output_type": "stream",
     "text": [
      "Unable to remove memmapped file\n"
     ]
    },
    {
     "data": {
      "application/vnd.jupyter.widget-view+json": {
       "model_id": "b29d8843ba1d4af5b6a28d1384846d53",
       "version_major": 2,
       "version_minor": 0
      },
      "text/plain": [
       "ACC features:   0%|          | 0/174 [00:00<?, ?it/s]"
      ]
     },
     "metadata": {},
     "output_type": "display_data"
    },
    {
     "name": "stdout",
     "output_type": "stream",
     "text": [
      "Unable to remove memmapped file\n"
     ]
    },
    {
     "data": {
      "application/vnd.jupyter.widget-view+json": {
       "model_id": "bf7c966b8cae4046a64587944c5e33e3",
       "version_major": 2,
       "version_minor": 0
      },
      "text/plain": [
       "ACC features:   0%|          | 0/174 [00:00<?, ?it/s]"
      ]
     },
     "metadata": {},
     "output_type": "display_data"
    },
    {
     "name": "stdout",
     "output_type": "stream",
     "text": [
      "Unable to remove memmapped file\n"
     ]
    },
    {
     "data": {
      "application/vnd.jupyter.widget-view+json": {
       "model_id": "6b59e00e8eec44519c70a0809c8ed4a2",
       "version_major": 2,
       "version_minor": 0
      },
      "text/plain": [
       "ACC features:   0%|          | 0/174 [00:00<?, ?it/s]"
      ]
     },
     "metadata": {},
     "output_type": "display_data"
    },
    {
     "name": "stdout",
     "output_type": "stream",
     "text": [
      "Unable to remove memmapped file\n"
     ]
    },
    {
     "data": {
      "application/vnd.jupyter.widget-view+json": {
       "model_id": "58b92df84bb94b8095bc799c1847f619",
       "version_major": 2,
       "version_minor": 0
      },
      "text/plain": [
       "ACC features:   0%|          | 0/174 [00:00<?, ?it/s]"
      ]
     },
     "metadata": {},
     "output_type": "display_data"
    },
    {
     "name": "stdout",
     "output_type": "stream",
     "text": [
      "Unable to remove memmapped file\n"
     ]
    },
    {
     "data": {
      "application/vnd.jupyter.widget-view+json": {
       "model_id": "ad2867ce5d3943cba4e84c9aa9448275",
       "version_major": 2,
       "version_minor": 0
      },
      "text/plain": [
       "ACC features:   0%|          | 0/80 [00:00<?, ?it/s]"
      ]
     },
     "metadata": {},
     "output_type": "display_data"
    },
    {
     "name": "stdout",
     "output_type": "stream",
     "text": [
      "Unable to remove memmapped file\n"
     ]
    },
    {
     "data": {
      "application/vnd.jupyter.widget-view+json": {
       "model_id": "cd36825508eb41768212fb4d48ae0fae",
       "version_major": 2,
       "version_minor": 0
      },
      "text/plain": [
       "ACC features:   0%|          | 0/80 [00:00<?, ?it/s]"
      ]
     },
     "metadata": {},
     "output_type": "display_data"
    },
    {
     "name": "stdout",
     "output_type": "stream",
     "text": [
      "Unable to remove memmapped file\n"
     ]
    },
    {
     "data": {
      "application/vnd.jupyter.widget-view+json": {
       "model_id": "efe24912eae7427c91286d6d481966e6",
       "version_major": 2,
       "version_minor": 0
      },
      "text/plain": [
       "ACC features:   0%|          | 0/80 [00:00<?, ?it/s]"
      ]
     },
     "metadata": {},
     "output_type": "display_data"
    },
    {
     "name": "stdout",
     "output_type": "stream",
     "text": [
      "Unable to remove memmapped file\n"
     ]
    },
    {
     "data": {
      "application/vnd.jupyter.widget-view+json": {
       "model_id": "f9dbff9f829e43feb302087996d2a491",
       "version_major": 2,
       "version_minor": 0
      },
      "text/plain": [
       "ACC features:   0%|          | 0/80 [00:00<?, ?it/s]"
      ]
     },
     "metadata": {},
     "output_type": "display_data"
    },
    {
     "name": "stdout",
     "output_type": "stream",
     "text": [
      "Unable to remove memmapped file\n"
     ]
    },
    {
     "data": {
      "application/vnd.jupyter.widget-view+json": {
       "model_id": "3d5598455e8047e5ab148a11db953246",
       "version_major": 2,
       "version_minor": 0
      },
      "text/plain": [
       "ACC features:   0%|          | 0/79 [00:00<?, ?it/s]"
      ]
     },
     "metadata": {},
     "output_type": "display_data"
    },
    {
     "name": "stdout",
     "output_type": "stream",
     "text": [
      "Unable to remove memmapped file\n"
     ]
    },
    {
     "data": {
      "application/vnd.jupyter.widget-view+json": {
       "model_id": "ad0cc64ee4a34b85a79642dfc6111de1",
       "version_major": 2,
       "version_minor": 0
      },
      "text/plain": [
       "ACC features:   0%|          | 0/72 [00:00<?, ?it/s]"
      ]
     },
     "metadata": {},
     "output_type": "display_data"
    },
    {
     "name": "stdout",
     "output_type": "stream",
     "text": [
      "Unable to remove memmapped file\n"
     ]
    },
    {
     "data": {
      "application/vnd.jupyter.widget-view+json": {
       "model_id": "7d960cd2c87547498ca4ff9f7aadd6f1",
       "version_major": 2,
       "version_minor": 0
      },
      "text/plain": [
       "ACC features:   0%|          | 0/72 [00:00<?, ?it/s]"
      ]
     },
     "metadata": {},
     "output_type": "display_data"
    },
    {
     "name": "stdout",
     "output_type": "stream",
     "text": [
      "Unable to remove memmapped file\n"
     ]
    },
    {
     "data": {
      "application/vnd.jupyter.widget-view+json": {
       "model_id": "a1adbd65353544aba25507940ecf8d84",
       "version_major": 2,
       "version_minor": 0
      },
      "text/plain": [
       "ACC features:   0%|          | 0/72 [00:00<?, ?it/s]"
      ]
     },
     "metadata": {},
     "output_type": "display_data"
    },
    {
     "name": "stdout",
     "output_type": "stream",
     "text": [
      "Unable to remove memmapped file\n"
     ]
    },
    {
     "data": {
      "application/vnd.jupyter.widget-view+json": {
       "model_id": "f50a83e488014d0ba3895717c2d5cd82",
       "version_major": 2,
       "version_minor": 0
      },
      "text/plain": [
       "ACC features:   0%|          | 0/72 [00:00<?, ?it/s]"
      ]
     },
     "metadata": {},
     "output_type": "display_data"
    },
    {
     "name": "stdout",
     "output_type": "stream",
     "text": [
      "Unable to remove memmapped file\n"
     ]
    },
    {
     "data": {
      "application/vnd.jupyter.widget-view+json": {
       "model_id": "52b4a76a8534491ba25de2aed3294ff9",
       "version_major": 2,
       "version_minor": 0
      },
      "text/plain": [
       "ACC features:   0%|          | 0/72 [00:00<?, ?it/s]"
      ]
     },
     "metadata": {},
     "output_type": "display_data"
    },
    {
     "name": "stdout",
     "output_type": "stream",
     "text": [
      "Unable to remove memmapped file\n"
     ]
    },
    {
     "data": {
      "application/vnd.jupyter.widget-view+json": {
       "model_id": "0168b1e52682414caa29c4d0885c4a4e",
       "version_major": 2,
       "version_minor": 0
      },
      "text/plain": [
       "ACC features:   0%|          | 0/60 [00:00<?, ?it/s]"
      ]
     },
     "metadata": {},
     "output_type": "display_data"
    },
    {
     "name": "stdout",
     "output_type": "stream",
     "text": [
      "Unable to remove memmapped file\n"
     ]
    },
    {
     "data": {
      "application/vnd.jupyter.widget-view+json": {
       "model_id": "1172069ed95043cfa181a7c8d524fbe0",
       "version_major": 2,
       "version_minor": 0
      },
      "text/plain": [
       "ACC features:   0%|          | 0/60 [00:00<?, ?it/s]"
      ]
     },
     "metadata": {},
     "output_type": "display_data"
    },
    {
     "name": "stdout",
     "output_type": "stream",
     "text": [
      "Unable to remove memmapped file\n"
     ]
    },
    {
     "data": {
      "application/vnd.jupyter.widget-view+json": {
       "model_id": "05f5962298c74b68bcb1d21569927ffe",
       "version_major": 2,
       "version_minor": 0
      },
      "text/plain": [
       "ACC features:   0%|          | 0/60 [00:00<?, ?it/s]"
      ]
     },
     "metadata": {},
     "output_type": "display_data"
    },
    {
     "name": "stdout",
     "output_type": "stream",
     "text": [
      "Unable to remove memmapped file\n"
     ]
    },
    {
     "data": {
      "application/vnd.jupyter.widget-view+json": {
       "model_id": "02a6faa82d604ccf9e806d3efeb672fd",
       "version_major": 2,
       "version_minor": 0
      },
      "text/plain": [
       "ACC features:   0%|          | 0/60 [00:00<?, ?it/s]"
      ]
     },
     "metadata": {},
     "output_type": "display_data"
    },
    {
     "name": "stdout",
     "output_type": "stream",
     "text": [
      "Unable to remove memmapped file\n"
     ]
    },
    {
     "data": {
      "application/vnd.jupyter.widget-view+json": {
       "model_id": "ba9ed720db644959874942c521c61d20",
       "version_major": 2,
       "version_minor": 0
      },
      "text/plain": [
       "ACC features:   0%|          | 0/60 [00:00<?, ?it/s]"
      ]
     },
     "metadata": {},
     "output_type": "display_data"
    },
    {
     "name": "stdout",
     "output_type": "stream",
     "text": [
      "Unable to remove memmapped file\n"
     ]
    },
    {
     "data": {
      "application/vnd.jupyter.widget-view+json": {
       "model_id": "602e5386398045b795f414f8ed5cb499",
       "version_major": 2,
       "version_minor": 0
      },
      "text/plain": [
       "ACC features:   0%|          | 0/54 [00:00<?, ?it/s]"
      ]
     },
     "metadata": {},
     "output_type": "display_data"
    },
    {
     "name": "stdout",
     "output_type": "stream",
     "text": [
      "Unable to remove memmapped file\n"
     ]
    },
    {
     "data": {
      "application/vnd.jupyter.widget-view+json": {
       "model_id": "3b8d78d629c3402aa935ca706f04bbd8",
       "version_major": 2,
       "version_minor": 0
      },
      "text/plain": [
       "ACC features:   0%|          | 0/54 [00:00<?, ?it/s]"
      ]
     },
     "metadata": {},
     "output_type": "display_data"
    },
    {
     "name": "stdout",
     "output_type": "stream",
     "text": [
      "Unable to remove memmapped file\n"
     ]
    },
    {
     "data": {
      "application/vnd.jupyter.widget-view+json": {
       "model_id": "d4c157e0a4a8472d95a91547216437bf",
       "version_major": 2,
       "version_minor": 0
      },
      "text/plain": [
       "ACC features:   0%|          | 0/54 [00:00<?, ?it/s]"
      ]
     },
     "metadata": {},
     "output_type": "display_data"
    },
    {
     "name": "stdout",
     "output_type": "stream",
     "text": [
      "Unable to remove memmapped file\n"
     ]
    },
    {
     "data": {
      "application/vnd.jupyter.widget-view+json": {
       "model_id": "4d5c0365893f48d7a3673a2651a612ca",
       "version_major": 2,
       "version_minor": 0
      },
      "text/plain": [
       "ACC features:   0%|          | 0/54 [00:00<?, ?it/s]"
      ]
     },
     "metadata": {},
     "output_type": "display_data"
    },
    {
     "name": "stdout",
     "output_type": "stream",
     "text": [
      "Unable to remove memmapped file\n"
     ]
    },
    {
     "data": {
      "application/vnd.jupyter.widget-view+json": {
       "model_id": "398b161e4ad14f61afc1f087ab4558c1",
       "version_major": 2,
       "version_minor": 0
      },
      "text/plain": [
       "ACC features:   0%|          | 0/54 [00:00<?, ?it/s]"
      ]
     },
     "metadata": {},
     "output_type": "display_data"
    },
    {
     "name": "stdout",
     "output_type": "stream",
     "text": [
      "Unable to remove memmapped file\n"
     ]
    },
    {
     "data": {
      "application/vnd.jupyter.widget-view+json": {
       "model_id": "db634950b45f4f119937ea2d1f6ae592",
       "version_major": 2,
       "version_minor": 0
      },
      "text/plain": [
       "ACC features:   0%|          | 0/99 [00:00<?, ?it/s]"
      ]
     },
     "metadata": {},
     "output_type": "display_data"
    },
    {
     "name": "stdout",
     "output_type": "stream",
     "text": [
      "Unable to remove memmapped file\n"
     ]
    },
    {
     "data": {
      "application/vnd.jupyter.widget-view+json": {
       "model_id": "f2b70e1e48cb4e459b5ca676bcec940e",
       "version_major": 2,
       "version_minor": 0
      },
      "text/plain": [
       "ACC features:   0%|          | 0/99 [00:00<?, ?it/s]"
      ]
     },
     "metadata": {},
     "output_type": "display_data"
    },
    {
     "name": "stdout",
     "output_type": "stream",
     "text": [
      "Unable to remove memmapped file\n"
     ]
    },
    {
     "data": {
      "application/vnd.jupyter.widget-view+json": {
       "model_id": "f515c38f7b594c8ba116cc6fcece8bcc",
       "version_major": 2,
       "version_minor": 0
      },
      "text/plain": [
       "ACC features:   0%|          | 0/99 [00:00<?, ?it/s]"
      ]
     },
     "metadata": {},
     "output_type": "display_data"
    },
    {
     "name": "stdout",
     "output_type": "stream",
     "text": [
      "Unable to remove memmapped file\n"
     ]
    },
    {
     "data": {
      "application/vnd.jupyter.widget-view+json": {
       "model_id": "805a1365771f4b3b9425950f20ba619e",
       "version_major": 2,
       "version_minor": 0
      },
      "text/plain": [
       "ACC features:   0%|          | 0/99 [00:00<?, ?it/s]"
      ]
     },
     "metadata": {},
     "output_type": "display_data"
    },
    {
     "name": "stdout",
     "output_type": "stream",
     "text": [
      "Unable to remove memmapped file\n"
     ]
    },
    {
     "data": {
      "application/vnd.jupyter.widget-view+json": {
       "model_id": "ed087c7386024c0691ec5cc32d94c9ff",
       "version_major": 2,
       "version_minor": 0
      },
      "text/plain": [
       "ACC features:   0%|          | 0/99 [00:00<?, ?it/s]"
      ]
     },
     "metadata": {},
     "output_type": "display_data"
    },
    {
     "name": "stdout",
     "output_type": "stream",
     "text": [
      "Unable to remove memmapped file\n"
     ]
    },
    {
     "data": {
      "application/vnd.jupyter.widget-view+json": {
       "model_id": "865bafc88e58400a8852032c789a5930",
       "version_major": 2,
       "version_minor": 0
      },
      "text/plain": [
       "ACC features:   0%|          | 0/222 [00:00<?, ?it/s]"
      ]
     },
     "metadata": {},
     "output_type": "display_data"
    },
    {
     "name": "stdout",
     "output_type": "stream",
     "text": [
      "Unable to remove memmapped file\n"
     ]
    },
    {
     "data": {
      "application/vnd.jupyter.widget-view+json": {
       "model_id": "fc48a210d8604fffa90366c164e20e01",
       "version_major": 2,
       "version_minor": 0
      },
      "text/plain": [
       "ACC features:   0%|          | 0/222 [00:00<?, ?it/s]"
      ]
     },
     "metadata": {},
     "output_type": "display_data"
    },
    {
     "name": "stdout",
     "output_type": "stream",
     "text": [
      "Unable to remove memmapped file\n"
     ]
    },
    {
     "data": {
      "application/vnd.jupyter.widget-view+json": {
       "model_id": "42013cdf9f64494fab43ae52d2f25f69",
       "version_major": 2,
       "version_minor": 0
      },
      "text/plain": [
       "ACC features:   0%|          | 0/222 [00:00<?, ?it/s]"
      ]
     },
     "metadata": {},
     "output_type": "display_data"
    },
    {
     "name": "stdout",
     "output_type": "stream",
     "text": [
      "Unable to remove memmapped file\n"
     ]
    },
    {
     "data": {
      "application/vnd.jupyter.widget-view+json": {
       "model_id": "eb6d19af5f184c21a98638332ece1a31",
       "version_major": 2,
       "version_minor": 0
      },
      "text/plain": [
       "ACC features:   0%|          | 0/222 [00:00<?, ?it/s]"
      ]
     },
     "metadata": {},
     "output_type": "display_data"
    },
    {
     "name": "stdout",
     "output_type": "stream",
     "text": [
      "Unable to remove memmapped file\n"
     ]
    },
    {
     "data": {
      "application/vnd.jupyter.widget-view+json": {
       "model_id": "50b8cce3992e4fffbf6f2896de21e48f",
       "version_major": 2,
       "version_minor": 0
      },
      "text/plain": [
       "ACC features:   0%|          | 0/222 [00:00<?, ?it/s]"
      ]
     },
     "metadata": {},
     "output_type": "display_data"
    },
    {
     "name": "stdout",
     "output_type": "stream",
     "text": [
      "Unable to remove memmapped file\n"
     ]
    },
    {
     "data": {
      "application/vnd.jupyter.widget-view+json": {
       "model_id": "c2001b6ad578447aa39215eaa9895ca2",
       "version_major": 2,
       "version_minor": 0
      },
      "text/plain": [
       "ACC features:   0%|          | 0/270 [00:00<?, ?it/s]"
      ]
     },
     "metadata": {},
     "output_type": "display_data"
    },
    {
     "name": "stdout",
     "output_type": "stream",
     "text": [
      "Unable to remove memmapped file\n"
     ]
    },
    {
     "data": {
      "application/vnd.jupyter.widget-view+json": {
       "model_id": "045662cffd3c48caa9dada45e74bb0bb",
       "version_major": 2,
       "version_minor": 0
      },
      "text/plain": [
       "ACC features:   0%|          | 0/270 [00:00<?, ?it/s]"
      ]
     },
     "metadata": {},
     "output_type": "display_data"
    },
    {
     "name": "stdout",
     "output_type": "stream",
     "text": [
      "Unable to remove memmapped file\n"
     ]
    },
    {
     "data": {
      "application/vnd.jupyter.widget-view+json": {
       "model_id": "d6ce2f698c1342b0be211e0315606b37",
       "version_major": 2,
       "version_minor": 0
      },
      "text/plain": [
       "ACC features:   0%|          | 0/270 [00:00<?, ?it/s]"
      ]
     },
     "metadata": {},
     "output_type": "display_data"
    },
    {
     "name": "stdout",
     "output_type": "stream",
     "text": [
      "Unable to remove memmapped file\n"
     ]
    },
    {
     "data": {
      "application/vnd.jupyter.widget-view+json": {
       "model_id": "47319057141b4dfd8c7ce38462300f3a",
       "version_major": 2,
       "version_minor": 0
      },
      "text/plain": [
       "ACC features:   0%|          | 0/270 [00:00<?, ?it/s]"
      ]
     },
     "metadata": {},
     "output_type": "display_data"
    },
    {
     "name": "stdout",
     "output_type": "stream",
     "text": [
      "Unable to remove memmapped file\n"
     ]
    },
    {
     "data": {
      "application/vnd.jupyter.widget-view+json": {
       "model_id": "49d1af3cc61c4fe2aae94e530aad4136",
       "version_major": 2,
       "version_minor": 0
      },
      "text/plain": [
       "ACC features:   0%|          | 0/270 [00:00<?, ?it/s]"
      ]
     },
     "metadata": {},
     "output_type": "display_data"
    },
    {
     "name": "stdout",
     "output_type": "stream",
     "text": [
      "Unable to remove memmapped file\n"
     ]
    },
    {
     "data": {
      "application/vnd.jupyter.widget-view+json": {
       "model_id": "db528806e9e44342804cae93d86f2608",
       "version_major": 2,
       "version_minor": 0
      },
      "text/plain": [
       "ACC features:   0%|          | 0/262 [00:00<?, ?it/s]"
      ]
     },
     "metadata": {},
     "output_type": "display_data"
    },
    {
     "name": "stdout",
     "output_type": "stream",
     "text": [
      "Unable to remove memmapped file\n"
     ]
    },
    {
     "data": {
      "application/vnd.jupyter.widget-view+json": {
       "model_id": "096d3d1eb30b47a8b55688f530834c55",
       "version_major": 2,
       "version_minor": 0
      },
      "text/plain": [
       "ACC features:   0%|          | 0/262 [00:00<?, ?it/s]"
      ]
     },
     "metadata": {},
     "output_type": "display_data"
    },
    {
     "name": "stdout",
     "output_type": "stream",
     "text": [
      "Unable to remove memmapped file\n"
     ]
    },
    {
     "data": {
      "application/vnd.jupyter.widget-view+json": {
       "model_id": "72dc7b06c9d14c8db07f184fd0551030",
       "version_major": 2,
       "version_minor": 0
      },
      "text/plain": [
       "ACC features:   0%|          | 0/262 [00:00<?, ?it/s]"
      ]
     },
     "metadata": {},
     "output_type": "display_data"
    },
    {
     "name": "stdout",
     "output_type": "stream",
     "text": [
      "Unable to remove memmapped file\n"
     ]
    },
    {
     "data": {
      "application/vnd.jupyter.widget-view+json": {
       "model_id": "802453a0ac3947d8b223efeec740fa53",
       "version_major": 2,
       "version_minor": 0
      },
      "text/plain": [
       "ACC features:   0%|          | 0/262 [00:00<?, ?it/s]"
      ]
     },
     "metadata": {},
     "output_type": "display_data"
    },
    {
     "name": "stdout",
     "output_type": "stream",
     "text": [
      "Unable to remove memmapped file\n"
     ]
    },
    {
     "data": {
      "application/vnd.jupyter.widget-view+json": {
       "model_id": "376164c126ee4a63976a302107ff8e7a",
       "version_major": 2,
       "version_minor": 0
      },
      "text/plain": [
       "ACC features:   0%|          | 0/262 [00:00<?, ?it/s]"
      ]
     },
     "metadata": {},
     "output_type": "display_data"
    },
    {
     "name": "stdout",
     "output_type": "stream",
     "text": [
      "Unable to remove memmapped file\n"
     ]
    },
    {
     "data": {
      "application/vnd.jupyter.widget-view+json": {
       "model_id": "e7d7fbda7e0143529efc5060a5ea3c7c",
       "version_major": 2,
       "version_minor": 0
      },
      "text/plain": [
       "ACC features:   0%|          | 0/286 [00:00<?, ?it/s]"
      ]
     },
     "metadata": {},
     "output_type": "display_data"
    },
    {
     "name": "stdout",
     "output_type": "stream",
     "text": [
      "Unable to remove memmapped file\n"
     ]
    },
    {
     "data": {
      "application/vnd.jupyter.widget-view+json": {
       "model_id": "18c8b81ff3d94beab8321db671ce7318",
       "version_major": 2,
       "version_minor": 0
      },
      "text/plain": [
       "ACC features:   0%|          | 0/286 [00:00<?, ?it/s]"
      ]
     },
     "metadata": {},
     "output_type": "display_data"
    },
    {
     "name": "stdout",
     "output_type": "stream",
     "text": [
      "Unable to remove memmapped file\n"
     ]
    },
    {
     "data": {
      "application/vnd.jupyter.widget-view+json": {
       "model_id": "2a030fdaeb2343e685d408f25df1806a",
       "version_major": 2,
       "version_minor": 0
      },
      "text/plain": [
       "ACC features:   0%|          | 0/286 [00:00<?, ?it/s]"
      ]
     },
     "metadata": {},
     "output_type": "display_data"
    },
    {
     "name": "stdout",
     "output_type": "stream",
     "text": [
      "Unable to remove memmapped file\n"
     ]
    },
    {
     "data": {
      "application/vnd.jupyter.widget-view+json": {
       "model_id": "2fcac771378f48b390e873495d5bb30b",
       "version_major": 2,
       "version_minor": 0
      },
      "text/plain": [
       "ACC features:   0%|          | 0/286 [00:00<?, ?it/s]"
      ]
     },
     "metadata": {},
     "output_type": "display_data"
    },
    {
     "name": "stdout",
     "output_type": "stream",
     "text": [
      "Unable to remove memmapped file\n"
     ]
    },
    {
     "data": {
      "application/vnd.jupyter.widget-view+json": {
       "model_id": "bb9ee491e2c244dc869c5b9b77392f23",
       "version_major": 2,
       "version_minor": 0
      },
      "text/plain": [
       "ACC features:   0%|          | 0/286 [00:00<?, ?it/s]"
      ]
     },
     "metadata": {},
     "output_type": "display_data"
    },
    {
     "name": "stdout",
     "output_type": "stream",
     "text": [
      "Unable to remove memmapped file\n"
     ]
    },
    {
     "data": {
      "application/vnd.jupyter.widget-view+json": {
       "model_id": "74ff9bae7073432198efd49b8305e481",
       "version_major": 2,
       "version_minor": 0
      },
      "text/plain": [
       "ACC features:   0%|          | 0/210 [00:00<?, ?it/s]"
      ]
     },
     "metadata": {},
     "output_type": "display_data"
    },
    {
     "name": "stdout",
     "output_type": "stream",
     "text": [
      "Unable to remove memmapped file\n"
     ]
    },
    {
     "data": {
      "application/vnd.jupyter.widget-view+json": {
       "model_id": "74512deb33dc4dc1acf6c4533ade0595",
       "version_major": 2,
       "version_minor": 0
      },
      "text/plain": [
       "ACC features:   0%|          | 0/210 [00:00<?, ?it/s]"
      ]
     },
     "metadata": {},
     "output_type": "display_data"
    },
    {
     "name": "stdout",
     "output_type": "stream",
     "text": [
      "Unable to remove memmapped file\n"
     ]
    },
    {
     "data": {
      "application/vnd.jupyter.widget-view+json": {
       "model_id": "18e54b94c3cd4f348af772e21d45ffee",
       "version_major": 2,
       "version_minor": 0
      },
      "text/plain": [
       "ACC features:   0%|          | 0/210 [00:00<?, ?it/s]"
      ]
     },
     "metadata": {},
     "output_type": "display_data"
    },
    {
     "name": "stdout",
     "output_type": "stream",
     "text": [
      "Unable to remove memmapped file\n"
     ]
    },
    {
     "data": {
      "application/vnd.jupyter.widget-view+json": {
       "model_id": "19692efd847646eea22ecd4e4ba858a2",
       "version_major": 2,
       "version_minor": 0
      },
      "text/plain": [
       "ACC features:   0%|          | 0/210 [00:00<?, ?it/s]"
      ]
     },
     "metadata": {},
     "output_type": "display_data"
    },
    {
     "name": "stdout",
     "output_type": "stream",
     "text": [
      "Unable to remove memmapped file\n"
     ]
    },
    {
     "data": {
      "application/vnd.jupyter.widget-view+json": {
       "model_id": "bf7b859eb77244e78818cfd334471009",
       "version_major": 2,
       "version_minor": 0
      },
      "text/plain": [
       "ACC features:   0%|          | 0/210 [00:00<?, ?it/s]"
      ]
     },
     "metadata": {},
     "output_type": "display_data"
    },
    {
     "name": "stdout",
     "output_type": "stream",
     "text": [
      "Unable to remove memmapped file\n"
     ]
    },
    {
     "data": {
      "application/vnd.jupyter.widget-view+json": {
       "model_id": "5d7257a000f644efb5ba3e98698e1a28",
       "version_major": 2,
       "version_minor": 0
      },
      "text/plain": [
       "ACC features:   0%|          | 0/210 [00:00<?, ?it/s]"
      ]
     },
     "metadata": {},
     "output_type": "display_data"
    },
    {
     "name": "stdout",
     "output_type": "stream",
     "text": [
      "Unable to remove memmapped file\n"
     ]
    },
    {
     "data": {
      "application/vnd.jupyter.widget-view+json": {
       "model_id": "5f0068df520c438bbc5c089ac0096bf0",
       "version_major": 2,
       "version_minor": 0
      },
      "text/plain": [
       "ACC features:   0%|          | 0/210 [00:00<?, ?it/s]"
      ]
     },
     "metadata": {},
     "output_type": "display_data"
    },
    {
     "name": "stdout",
     "output_type": "stream",
     "text": [
      "Unable to remove memmapped file\n"
     ]
    },
    {
     "data": {
      "application/vnd.jupyter.widget-view+json": {
       "model_id": "62ce60341fad4a8c813661b6b49c6fde",
       "version_major": 2,
       "version_minor": 0
      },
      "text/plain": [
       "ACC features:   0%|          | 0/210 [00:00<?, ?it/s]"
      ]
     },
     "metadata": {},
     "output_type": "display_data"
    },
    {
     "name": "stdout",
     "output_type": "stream",
     "text": [
      "Unable to remove memmapped file\n"
     ]
    },
    {
     "data": {
      "application/vnd.jupyter.widget-view+json": {
       "model_id": "2f7476a92eac4d1c9ca9e9e316a6e7a0",
       "version_major": 2,
       "version_minor": 0
      },
      "text/plain": [
       "ACC features:   0%|          | 0/210 [00:00<?, ?it/s]"
      ]
     },
     "metadata": {},
     "output_type": "display_data"
    },
    {
     "name": "stdout",
     "output_type": "stream",
     "text": [
      "Unable to remove memmapped file\n"
     ]
    },
    {
     "data": {
      "application/vnd.jupyter.widget-view+json": {
       "model_id": "36781df3f8ec4e4f9f6270cb589ed8ba",
       "version_major": 2,
       "version_minor": 0
      },
      "text/plain": [
       "ACC features:   0%|          | 0/210 [00:00<?, ?it/s]"
      ]
     },
     "metadata": {},
     "output_type": "display_data"
    },
    {
     "name": "stdout",
     "output_type": "stream",
     "text": [
      "Unable to remove memmapped file\n"
     ]
    },
    {
     "data": {
      "application/vnd.jupyter.widget-view+json": {
       "model_id": "020f476ebd86471ab83a0d8a117eadbc",
       "version_major": 2,
       "version_minor": 0
      },
      "text/plain": [
       "ACC features:   0%|          | 0/66 [00:00<?, ?it/s]"
      ]
     },
     "metadata": {},
     "output_type": "display_data"
    },
    {
     "name": "stdout",
     "output_type": "stream",
     "text": [
      "Unable to remove memmapped file\n"
     ]
    },
    {
     "data": {
      "application/vnd.jupyter.widget-view+json": {
       "model_id": "7456a9fc38f4463c8bb8641747577620",
       "version_major": 2,
       "version_minor": 0
      },
      "text/plain": [
       "ACC features:   0%|          | 0/66 [00:00<?, ?it/s]"
      ]
     },
     "metadata": {},
     "output_type": "display_data"
    },
    {
     "name": "stdout",
     "output_type": "stream",
     "text": [
      "Unable to remove memmapped file\n"
     ]
    },
    {
     "data": {
      "application/vnd.jupyter.widget-view+json": {
       "model_id": "99f3e4e34ca94cc9a16db81afc8e64a4",
       "version_major": 2,
       "version_minor": 0
      },
      "text/plain": [
       "ACC features:   0%|          | 0/66 [00:00<?, ?it/s]"
      ]
     },
     "metadata": {},
     "output_type": "display_data"
    },
    {
     "name": "stdout",
     "output_type": "stream",
     "text": [
      "Unable to remove memmapped file\n"
     ]
    },
    {
     "data": {
      "application/vnd.jupyter.widget-view+json": {
       "model_id": "25ad575caaa043bca11e0ec7019ef9f0",
       "version_major": 2,
       "version_minor": 0
      },
      "text/plain": [
       "ACC features:   0%|          | 0/66 [00:00<?, ?it/s]"
      ]
     },
     "metadata": {},
     "output_type": "display_data"
    },
    {
     "name": "stdout",
     "output_type": "stream",
     "text": [
      "Unable to remove memmapped file\n"
     ]
    },
    {
     "data": {
      "application/vnd.jupyter.widget-view+json": {
       "model_id": "502bb6ea5d6141b0ae5fe96260a3cc1c",
       "version_major": 2,
       "version_minor": 0
      },
      "text/plain": [
       "ACC features:   0%|          | 0/66 [00:00<?, ?it/s]"
      ]
     },
     "metadata": {},
     "output_type": "display_data"
    },
    {
     "name": "stdout",
     "output_type": "stream",
     "text": [
      "Unable to remove memmapped file\n"
     ]
    },
    {
     "data": {
      "application/vnd.jupyter.widget-view+json": {
       "model_id": "b6bd86d36d08479384041199bfd48b40",
       "version_major": 2,
       "version_minor": 0
      },
      "text/plain": [
       "ACC features:   0%|          | 0/1234 [00:00<?, ?it/s]"
      ]
     },
     "metadata": {},
     "output_type": "display_data"
    },
    {
     "name": "stdout",
     "output_type": "stream",
     "text": [
      "Unable to remove memmapped file\n"
     ]
    },
    {
     "data": {
      "application/vnd.jupyter.widget-view+json": {
       "model_id": "6ad206130fed40ce8dbab013eb40a13f",
       "version_major": 2,
       "version_minor": 0
      },
      "text/plain": [
       "ACC features:   0%|          | 0/1234 [00:00<?, ?it/s]"
      ]
     },
     "metadata": {},
     "output_type": "display_data"
    },
    {
     "name": "stdout",
     "output_type": "stream",
     "text": [
      "Unable to remove memmapped file\n"
     ]
    },
    {
     "data": {
      "application/vnd.jupyter.widget-view+json": {
       "model_id": "982fd4d95fd54314b4686819c10ea496",
       "version_major": 2,
       "version_minor": 0
      },
      "text/plain": [
       "ACC features:   0%|          | 0/1234 [00:00<?, ?it/s]"
      ]
     },
     "metadata": {},
     "output_type": "display_data"
    },
    {
     "name": "stdout",
     "output_type": "stream",
     "text": [
      "Unable to remove memmapped file\n"
     ]
    },
    {
     "data": {
      "application/vnd.jupyter.widget-view+json": {
       "model_id": "840a33263ffb43899866c8688a5be9ee",
       "version_major": 2,
       "version_minor": 0
      },
      "text/plain": [
       "ACC features:   0%|          | 0/1234 [00:00<?, ?it/s]"
      ]
     },
     "metadata": {},
     "output_type": "display_data"
    },
    {
     "name": "stdout",
     "output_type": "stream",
     "text": [
      "Unable to remove memmapped file\n"
     ]
    },
    {
     "data": {
      "application/vnd.jupyter.widget-view+json": {
       "model_id": "1728d20ea9f24313ac80ae3a88007ba2",
       "version_major": 2,
       "version_minor": 0
      },
      "text/plain": [
       "ACC features:   0%|          | 0/1234 [00:00<?, ?it/s]"
      ]
     },
     "metadata": {},
     "output_type": "display_data"
    },
    {
     "name": "stdout",
     "output_type": "stream",
     "text": [
      "Unable to remove memmapped file\n"
     ]
    },
    {
     "data": {
      "application/vnd.jupyter.widget-view+json": {
       "model_id": "0ba97478428245d599b856d41619ae8c",
       "version_major": 2,
       "version_minor": 0
      },
      "text/plain": [
       "ACC features:   0%|          | 0/66 [00:00<?, ?it/s]"
      ]
     },
     "metadata": {},
     "output_type": "display_data"
    },
    {
     "name": "stdout",
     "output_type": "stream",
     "text": [
      "Unable to remove memmapped file\n"
     ]
    },
    {
     "data": {
      "application/vnd.jupyter.widget-view+json": {
       "model_id": "8b54a51fc89a42a4aa8fc0c0bfc2bf06",
       "version_major": 2,
       "version_minor": 0
      },
      "text/plain": [
       "ACC features:   0%|          | 0/66 [00:00<?, ?it/s]"
      ]
     },
     "metadata": {},
     "output_type": "display_data"
    },
    {
     "name": "stdout",
     "output_type": "stream",
     "text": [
      "Unable to remove memmapped file\n"
     ]
    },
    {
     "data": {
      "application/vnd.jupyter.widget-view+json": {
       "model_id": "3638530f574b4940961d67e43f50b271",
       "version_major": 2,
       "version_minor": 0
      },
      "text/plain": [
       "ACC features:   0%|          | 0/66 [00:00<?, ?it/s]"
      ]
     },
     "metadata": {},
     "output_type": "display_data"
    },
    {
     "name": "stdout",
     "output_type": "stream",
     "text": [
      "Unable to remove memmapped file\n"
     ]
    },
    {
     "data": {
      "application/vnd.jupyter.widget-view+json": {
       "model_id": "6a39d0bcef4447f5895d2c1921a50338",
       "version_major": 2,
       "version_minor": 0
      },
      "text/plain": [
       "ACC features:   0%|          | 0/66 [00:00<?, ?it/s]"
      ]
     },
     "metadata": {},
     "output_type": "display_data"
    },
    {
     "name": "stdout",
     "output_type": "stream",
     "text": [
      "Unable to remove memmapped file\n"
     ]
    },
    {
     "data": {
      "application/vnd.jupyter.widget-view+json": {
       "model_id": "dbe21fdb6329462b9a759bac5588ab32",
       "version_major": 2,
       "version_minor": 0
      },
      "text/plain": [
       "ACC features:   0%|          | 0/66 [00:00<?, ?it/s]"
      ]
     },
     "metadata": {},
     "output_type": "display_data"
    },
    {
     "name": "stdout",
     "output_type": "stream",
     "text": [
      "Unable to remove memmapped file\n"
     ]
    },
    {
     "data": {
      "application/vnd.jupyter.widget-view+json": {
       "model_id": "b28424d5ed9442f8bec29babb87c21c8",
       "version_major": 2,
       "version_minor": 0
      },
      "text/plain": [
       "ACC features:   0%|          | 0/279 [00:00<?, ?it/s]"
      ]
     },
     "metadata": {},
     "output_type": "display_data"
    },
    {
     "name": "stdout",
     "output_type": "stream",
     "text": [
      "Unable to remove memmapped file\n"
     ]
    },
    {
     "data": {
      "application/vnd.jupyter.widget-view+json": {
       "model_id": "c5d41b05779c40ad81b0779a54b7fa64",
       "version_major": 2,
       "version_minor": 0
      },
      "text/plain": [
       "ACC features:   0%|          | 0/279 [00:00<?, ?it/s]"
      ]
     },
     "metadata": {},
     "output_type": "display_data"
    },
    {
     "name": "stdout",
     "output_type": "stream",
     "text": [
      "Unable to remove memmapped file\n"
     ]
    },
    {
     "data": {
      "application/vnd.jupyter.widget-view+json": {
       "model_id": "aced30f1eace4cd9bac5d44e10ada0f6",
       "version_major": 2,
       "version_minor": 0
      },
      "text/plain": [
       "ACC features:   0%|          | 0/279 [00:00<?, ?it/s]"
      ]
     },
     "metadata": {},
     "output_type": "display_data"
    },
    {
     "name": "stdout",
     "output_type": "stream",
     "text": [
      "Unable to remove memmapped file\n"
     ]
    },
    {
     "data": {
      "application/vnd.jupyter.widget-view+json": {
       "model_id": "d51082e85c5644c282257173ae6536da",
       "version_major": 2,
       "version_minor": 0
      },
      "text/plain": [
       "ACC features:   0%|          | 0/279 [00:00<?, ?it/s]"
      ]
     },
     "metadata": {},
     "output_type": "display_data"
    },
    {
     "name": "stdout",
     "output_type": "stream",
     "text": [
      "Unable to remove memmapped file\n"
     ]
    },
    {
     "data": {
      "application/vnd.jupyter.widget-view+json": {
       "model_id": "c1cc4249953c425d997c06054b14a38b",
       "version_major": 2,
       "version_minor": 0
      },
      "text/plain": [
       "ACC features:   0%|          | 0/279 [00:00<?, ?it/s]"
      ]
     },
     "metadata": {},
     "output_type": "display_data"
    },
    {
     "name": "stdout",
     "output_type": "stream",
     "text": [
      "Unable to remove memmapped file\n"
     ]
    },
    {
     "data": {
      "application/vnd.jupyter.widget-view+json": {
       "model_id": "a3303dff8b1e41a7865bdcb525f33455",
       "version_major": 2,
       "version_minor": 0
      },
      "text/plain": [
       "ACC features:   0%|          | 0/60 [00:00<?, ?it/s]"
      ]
     },
     "metadata": {},
     "output_type": "display_data"
    },
    {
     "name": "stdout",
     "output_type": "stream",
     "text": [
      "Unable to remove memmapped file\n"
     ]
    },
    {
     "data": {
      "application/vnd.jupyter.widget-view+json": {
       "model_id": "9973d738d02644ed83f4ccd8efaa51c7",
       "version_major": 2,
       "version_minor": 0
      },
      "text/plain": [
       "ACC features:   0%|          | 0/60 [00:00<?, ?it/s]"
      ]
     },
     "metadata": {},
     "output_type": "display_data"
    },
    {
     "name": "stdout",
     "output_type": "stream",
     "text": [
      "Unable to remove memmapped file\n"
     ]
    },
    {
     "data": {
      "application/vnd.jupyter.widget-view+json": {
       "model_id": "4a1ddd5422d842f787b7d91065805493",
       "version_major": 2,
       "version_minor": 0
      },
      "text/plain": [
       "ACC features:   0%|          | 0/60 [00:00<?, ?it/s]"
      ]
     },
     "metadata": {},
     "output_type": "display_data"
    },
    {
     "name": "stdout",
     "output_type": "stream",
     "text": [
      "Unable to remove memmapped file\n"
     ]
    },
    {
     "data": {
      "application/vnd.jupyter.widget-view+json": {
       "model_id": "b032251317414bcba37aae4db6b625b8",
       "version_major": 2,
       "version_minor": 0
      },
      "text/plain": [
       "ACC features:   0%|          | 0/60 [00:00<?, ?it/s]"
      ]
     },
     "metadata": {},
     "output_type": "display_data"
    },
    {
     "name": "stdout",
     "output_type": "stream",
     "text": [
      "Unable to remove memmapped file\n"
     ]
    },
    {
     "data": {
      "application/vnd.jupyter.widget-view+json": {
       "model_id": "e6ec190c861040139b7e09fdcb2bb37b",
       "version_major": 2,
       "version_minor": 0
      },
      "text/plain": [
       "ACC features:   0%|          | 0/60 [00:00<?, ?it/s]"
      ]
     },
     "metadata": {},
     "output_type": "display_data"
    },
    {
     "name": "stdout",
     "output_type": "stream",
     "text": [
      "Unable to remove memmapped file\n"
     ]
    },
    {
     "data": {
      "application/vnd.jupyter.widget-view+json": {
       "model_id": "860813cbae6643e1840b4a8c52a06e11",
       "version_major": 2,
       "version_minor": 0
      },
      "text/plain": [
       "ACC features:   0%|          | 0/246 [00:00<?, ?it/s]"
      ]
     },
     "metadata": {},
     "output_type": "display_data"
    },
    {
     "name": "stdout",
     "output_type": "stream",
     "text": [
      "Unable to remove memmapped file\n"
     ]
    },
    {
     "data": {
      "application/vnd.jupyter.widget-view+json": {
       "model_id": "abb36ff1c52542bfa5dbaed136fecb27",
       "version_major": 2,
       "version_minor": 0
      },
      "text/plain": [
       "ACC features:   0%|          | 0/246 [00:00<?, ?it/s]"
      ]
     },
     "metadata": {},
     "output_type": "display_data"
    },
    {
     "name": "stdout",
     "output_type": "stream",
     "text": [
      "Unable to remove memmapped file\n"
     ]
    },
    {
     "data": {
      "application/vnd.jupyter.widget-view+json": {
       "model_id": "d860c2390f9847e58121da9c604bade8",
       "version_major": 2,
       "version_minor": 0
      },
      "text/plain": [
       "ACC features:   0%|          | 0/246 [00:00<?, ?it/s]"
      ]
     },
     "metadata": {},
     "output_type": "display_data"
    },
    {
     "name": "stdout",
     "output_type": "stream",
     "text": [
      "Unable to remove memmapped file\n"
     ]
    },
    {
     "data": {
      "application/vnd.jupyter.widget-view+json": {
       "model_id": "b0ba3a64229e4d428f586b8ab9e3549e",
       "version_major": 2,
       "version_minor": 0
      },
      "text/plain": [
       "ACC features:   0%|          | 0/246 [00:00<?, ?it/s]"
      ]
     },
     "metadata": {},
     "output_type": "display_data"
    },
    {
     "name": "stdout",
     "output_type": "stream",
     "text": [
      "Unable to remove memmapped file\n"
     ]
    },
    {
     "data": {
      "application/vnd.jupyter.widget-view+json": {
       "model_id": "76aeafae58ce48d989c710819121b8ca",
       "version_major": 2,
       "version_minor": 0
      },
      "text/plain": [
       "ACC features:   0%|          | 0/246 [00:00<?, ?it/s]"
      ]
     },
     "metadata": {},
     "output_type": "display_data"
    },
    {
     "name": "stdout",
     "output_type": "stream",
     "text": [
      "Unable to remove memmapped file\n"
     ]
    },
    {
     "data": {
      "application/vnd.jupyter.widget-view+json": {
       "model_id": "39caccccecaa41ad89597311ff5a5f69",
       "version_major": 2,
       "version_minor": 0
      },
      "text/plain": [
       "ACC features:   0%|          | 0/192 [00:00<?, ?it/s]"
      ]
     },
     "metadata": {},
     "output_type": "display_data"
    },
    {
     "name": "stdout",
     "output_type": "stream",
     "text": [
      "Unable to remove memmapped file\n"
     ]
    },
    {
     "data": {
      "application/vnd.jupyter.widget-view+json": {
       "model_id": "5828e247cda048ed98b0f10e3593f506",
       "version_major": 2,
       "version_minor": 0
      },
      "text/plain": [
       "ACC features:   0%|          | 0/192 [00:00<?, ?it/s]"
      ]
     },
     "metadata": {},
     "output_type": "display_data"
    },
    {
     "name": "stdout",
     "output_type": "stream",
     "text": [
      "Unable to remove memmapped file\n"
     ]
    },
    {
     "data": {
      "application/vnd.jupyter.widget-view+json": {
       "model_id": "3522e0af1c874f768acc671f5f016bd8",
       "version_major": 2,
       "version_minor": 0
      },
      "text/plain": [
       "ACC features:   0%|          | 0/192 [00:00<?, ?it/s]"
      ]
     },
     "metadata": {},
     "output_type": "display_data"
    },
    {
     "name": "stdout",
     "output_type": "stream",
     "text": [
      "Unable to remove memmapped file\n"
     ]
    },
    {
     "data": {
      "application/vnd.jupyter.widget-view+json": {
       "model_id": "4972f0503a6b4c3c86e99635417ba320",
       "version_major": 2,
       "version_minor": 0
      },
      "text/plain": [
       "ACC features:   0%|          | 0/192 [00:00<?, ?it/s]"
      ]
     },
     "metadata": {},
     "output_type": "display_data"
    },
    {
     "name": "stdout",
     "output_type": "stream",
     "text": [
      "Unable to remove memmapped file\n"
     ]
    },
    {
     "data": {
      "application/vnd.jupyter.widget-view+json": {
       "model_id": "32c9b5e0819d46e7a96dbd8f584522e1",
       "version_major": 2,
       "version_minor": 0
      },
      "text/plain": [
       "ACC features:   0%|          | 0/192 [00:00<?, ?it/s]"
      ]
     },
     "metadata": {},
     "output_type": "display_data"
    },
    {
     "name": "stdout",
     "output_type": "stream",
     "text": [
      "Unable to remove memmapped file\n"
     ]
    },
    {
     "data": {
      "application/vnd.jupyter.widget-view+json": {
       "model_id": "f6c163587243480ea1b1e23b8ce9774b",
       "version_major": 2,
       "version_minor": 0
      },
      "text/plain": [
       "ACC features:   0%|          | 0/564 [00:00<?, ?it/s]"
      ]
     },
     "metadata": {},
     "output_type": "display_data"
    },
    {
     "name": "stdout",
     "output_type": "stream",
     "text": [
      "Unable to remove memmapped file\n"
     ]
    },
    {
     "data": {
      "application/vnd.jupyter.widget-view+json": {
       "model_id": "e963ba3dd4f9411c8b23be60ace425ad",
       "version_major": 2,
       "version_minor": 0
      },
      "text/plain": [
       "ACC features:   0%|          | 0/564 [00:00<?, ?it/s]"
      ]
     },
     "metadata": {},
     "output_type": "display_data"
    },
    {
     "name": "stdout",
     "output_type": "stream",
     "text": [
      "Unable to remove memmapped file\n"
     ]
    },
    {
     "data": {
      "application/vnd.jupyter.widget-view+json": {
       "model_id": "8b838fff8ae54788aec490b3ea83906b",
       "version_major": 2,
       "version_minor": 0
      },
      "text/plain": [
       "ACC features:   0%|          | 0/564 [00:00<?, ?it/s]"
      ]
     },
     "metadata": {},
     "output_type": "display_data"
    },
    {
     "name": "stdout",
     "output_type": "stream",
     "text": [
      "Unable to remove memmapped file\n"
     ]
    },
    {
     "data": {
      "application/vnd.jupyter.widget-view+json": {
       "model_id": "e91f5b90aadf421992a7cc711952bd74",
       "version_major": 2,
       "version_minor": 0
      },
      "text/plain": [
       "ACC features:   0%|          | 0/564 [00:00<?, ?it/s]"
      ]
     },
     "metadata": {},
     "output_type": "display_data"
    },
    {
     "name": "stdout",
     "output_type": "stream",
     "text": [
      "Unable to remove memmapped file\n"
     ]
    },
    {
     "data": {
      "application/vnd.jupyter.widget-view+json": {
       "model_id": "578e9c278408465fa4f1493162dc4040",
       "version_major": 2,
       "version_minor": 0
      },
      "text/plain": [
       "ACC features:   0%|          | 0/564 [00:00<?, ?it/s]"
      ]
     },
     "metadata": {},
     "output_type": "display_data"
    },
    {
     "name": "stdout",
     "output_type": "stream",
     "text": [
      "Unable to remove memmapped file\n"
     ]
    },
    {
     "data": {
      "application/vnd.jupyter.widget-view+json": {
       "model_id": "5fbb73f1314f43968fec139cae41f112",
       "version_major": 2,
       "version_minor": 0
      },
      "text/plain": [
       "ACC features:   0%|          | 0/90 [00:00<?, ?it/s]"
      ]
     },
     "metadata": {},
     "output_type": "display_data"
    },
    {
     "name": "stdout",
     "output_type": "stream",
     "text": [
      "Unable to remove memmapped file\n"
     ]
    },
    {
     "data": {
      "application/vnd.jupyter.widget-view+json": {
       "model_id": "8fe56ca37d7345849ce1220ae24c6ba8",
       "version_major": 2,
       "version_minor": 0
      },
      "text/plain": [
       "ACC features:   0%|          | 0/90 [00:00<?, ?it/s]"
      ]
     },
     "metadata": {},
     "output_type": "display_data"
    },
    {
     "name": "stdout",
     "output_type": "stream",
     "text": [
      "Unable to remove memmapped file\n"
     ]
    },
    {
     "data": {
      "application/vnd.jupyter.widget-view+json": {
       "model_id": "aba51644d80c4ffe810227cb01bc99cf",
       "version_major": 2,
       "version_minor": 0
      },
      "text/plain": [
       "ACC features:   0%|          | 0/90 [00:00<?, ?it/s]"
      ]
     },
     "metadata": {},
     "output_type": "display_data"
    },
    {
     "name": "stdout",
     "output_type": "stream",
     "text": [
      "Unable to remove memmapped file\n"
     ]
    },
    {
     "data": {
      "application/vnd.jupyter.widget-view+json": {
       "model_id": "e2b1346d6c99401fa49bdf64dbc8d6ea",
       "version_major": 2,
       "version_minor": 0
      },
      "text/plain": [
       "ACC features:   0%|          | 0/90 [00:00<?, ?it/s]"
      ]
     },
     "metadata": {},
     "output_type": "display_data"
    },
    {
     "name": "stdout",
     "output_type": "stream",
     "text": [
      "Unable to remove memmapped file\n"
     ]
    },
    {
     "data": {
      "application/vnd.jupyter.widget-view+json": {
       "model_id": "8732ec23838e434ea9300cbd7ec4d0a1",
       "version_major": 2,
       "version_minor": 0
      },
      "text/plain": [
       "ACC features:   0%|          | 0/90 [00:00<?, ?it/s]"
      ]
     },
     "metadata": {},
     "output_type": "display_data"
    },
    {
     "name": "stdout",
     "output_type": "stream",
     "text": [
      "Unable to remove memmapped file\n"
     ]
    },
    {
     "data": {
      "application/vnd.jupyter.widget-view+json": {
       "model_id": "c1d2057b163d4e4594aaf2d5b5d7a407",
       "version_major": 2,
       "version_minor": 0
      },
      "text/plain": [
       "ACC features:   0%|          | 0/240 [00:00<?, ?it/s]"
      ]
     },
     "metadata": {},
     "output_type": "display_data"
    },
    {
     "name": "stdout",
     "output_type": "stream",
     "text": [
      "Unable to remove memmapped file\n"
     ]
    },
    {
     "data": {
      "application/vnd.jupyter.widget-view+json": {
       "model_id": "69fae6d9a28c4b90a93f5d914d76926a",
       "version_major": 2,
       "version_minor": 0
      },
      "text/plain": [
       "ACC features:   0%|          | 0/240 [00:00<?, ?it/s]"
      ]
     },
     "metadata": {},
     "output_type": "display_data"
    },
    {
     "name": "stdout",
     "output_type": "stream",
     "text": [
      "Unable to remove memmapped file\n"
     ]
    },
    {
     "data": {
      "application/vnd.jupyter.widget-view+json": {
       "model_id": "3128b7d8ea4f424d9dbe37a7984f6a77",
       "version_major": 2,
       "version_minor": 0
      },
      "text/plain": [
       "ACC features:   0%|          | 0/240 [00:00<?, ?it/s]"
      ]
     },
     "metadata": {},
     "output_type": "display_data"
    },
    {
     "name": "stdout",
     "output_type": "stream",
     "text": [
      "Unable to remove memmapped file\n"
     ]
    },
    {
     "data": {
      "application/vnd.jupyter.widget-view+json": {
       "model_id": "a2bc8080005f46d2ab4dfc5e204d9b38",
       "version_major": 2,
       "version_minor": 0
      },
      "text/plain": [
       "ACC features:   0%|          | 0/240 [00:00<?, ?it/s]"
      ]
     },
     "metadata": {},
     "output_type": "display_data"
    },
    {
     "name": "stdout",
     "output_type": "stream",
     "text": [
      "Unable to remove memmapped file\n"
     ]
    },
    {
     "data": {
      "application/vnd.jupyter.widget-view+json": {
       "model_id": "006a29e05bbf441e99d9c19d0cb36bd9",
       "version_major": 2,
       "version_minor": 0
      },
      "text/plain": [
       "ACC features:   0%|          | 0/240 [00:00<?, ?it/s]"
      ]
     },
     "metadata": {},
     "output_type": "display_data"
    },
    {
     "name": "stdout",
     "output_type": "stream",
     "text": [
      "Unable to remove memmapped file\n"
     ]
    },
    {
     "data": {
      "application/vnd.jupyter.widget-view+json": {
       "model_id": "ae82c944aa3248ee8ae162f4d94e5408",
       "version_major": 2,
       "version_minor": 0
      },
      "text/plain": [
       "ACC features:   0%|          | 0/84 [00:00<?, ?it/s]"
      ]
     },
     "metadata": {},
     "output_type": "display_data"
    },
    {
     "name": "stdout",
     "output_type": "stream",
     "text": [
      "Unable to remove memmapped file\n"
     ]
    },
    {
     "data": {
      "application/vnd.jupyter.widget-view+json": {
       "model_id": "caf8bb5729064bcc9facb44877ac82f2",
       "version_major": 2,
       "version_minor": 0
      },
      "text/plain": [
       "ACC features:   0%|          | 0/84 [00:00<?, ?it/s]"
      ]
     },
     "metadata": {},
     "output_type": "display_data"
    },
    {
     "name": "stdout",
     "output_type": "stream",
     "text": [
      "Unable to remove memmapped file\n"
     ]
    },
    {
     "data": {
      "application/vnd.jupyter.widget-view+json": {
       "model_id": "fb87f9c06ab148dc9f4a306740468934",
       "version_major": 2,
       "version_minor": 0
      },
      "text/plain": [
       "ACC features:   0%|          | 0/84 [00:00<?, ?it/s]"
      ]
     },
     "metadata": {},
     "output_type": "display_data"
    },
    {
     "name": "stdout",
     "output_type": "stream",
     "text": [
      "Unable to remove memmapped file\n"
     ]
    },
    {
     "data": {
      "application/vnd.jupyter.widget-view+json": {
       "model_id": "9b68765cbdcf41e89d6d79cca75672f0",
       "version_major": 2,
       "version_minor": 0
      },
      "text/plain": [
       "ACC features:   0%|          | 0/84 [00:00<?, ?it/s]"
      ]
     },
     "metadata": {},
     "output_type": "display_data"
    },
    {
     "name": "stdout",
     "output_type": "stream",
     "text": [
      "Unable to remove memmapped file\n"
     ]
    },
    {
     "data": {
      "application/vnd.jupyter.widget-view+json": {
       "model_id": "af2faa0906a14e0586e4e068d3331821",
       "version_major": 2,
       "version_minor": 0
      },
      "text/plain": [
       "ACC features:   0%|          | 0/84 [00:00<?, ?it/s]"
      ]
     },
     "metadata": {},
     "output_type": "display_data"
    },
    {
     "name": "stdout",
     "output_type": "stream",
     "text": [
      "Unable to remove memmapped file\n"
     ]
    },
    {
     "data": {
      "application/vnd.jupyter.widget-view+json": {
       "model_id": "087624d77f86444daf8a6c6b60f98a95",
       "version_major": 2,
       "version_minor": 0
      },
      "text/plain": [
       "ACC features:   0%|          | 0/192 [00:00<?, ?it/s]"
      ]
     },
     "metadata": {},
     "output_type": "display_data"
    },
    {
     "name": "stdout",
     "output_type": "stream",
     "text": [
      "Unable to remove memmapped file\n"
     ]
    },
    {
     "data": {
      "application/vnd.jupyter.widget-view+json": {
       "model_id": "5c6e2f081359426bbe0a9b49424e4cb0",
       "version_major": 2,
       "version_minor": 0
      },
      "text/plain": [
       "ACC features:   0%|          | 0/192 [00:00<?, ?it/s]"
      ]
     },
     "metadata": {},
     "output_type": "display_data"
    },
    {
     "name": "stdout",
     "output_type": "stream",
     "text": [
      "Unable to remove memmapped file\n"
     ]
    },
    {
     "data": {
      "application/vnd.jupyter.widget-view+json": {
       "model_id": "a3b1b014776d4f10b88ad3d513697c94",
       "version_major": 2,
       "version_minor": 0
      },
      "text/plain": [
       "ACC features:   0%|          | 0/192 [00:00<?, ?it/s]"
      ]
     },
     "metadata": {},
     "output_type": "display_data"
    },
    {
     "name": "stdout",
     "output_type": "stream",
     "text": [
      "Unable to remove memmapped file\n"
     ]
    },
    {
     "data": {
      "application/vnd.jupyter.widget-view+json": {
       "model_id": "0d150065048b4fec86e4ad2a46c03df0",
       "version_major": 2,
       "version_minor": 0
      },
      "text/plain": [
       "ACC features:   0%|          | 0/192 [00:00<?, ?it/s]"
      ]
     },
     "metadata": {},
     "output_type": "display_data"
    },
    {
     "name": "stdout",
     "output_type": "stream",
     "text": [
      "Unable to remove memmapped file\n"
     ]
    },
    {
     "data": {
      "application/vnd.jupyter.widget-view+json": {
       "model_id": "135d228452d245758ac8c63a9ca5ca06",
       "version_major": 2,
       "version_minor": 0
      },
      "text/plain": [
       "ACC features:   0%|          | 0/192 [00:00<?, ?it/s]"
      ]
     },
     "metadata": {},
     "output_type": "display_data"
    },
    {
     "name": "stdout",
     "output_type": "stream",
     "text": [
      "Unable to remove memmapped file\n"
     ]
    },
    {
     "data": {
      "application/vnd.jupyter.widget-view+json": {
       "model_id": "16823cef36ba42de970910adab0eed55",
       "version_major": 2,
       "version_minor": 0
      },
      "text/plain": [
       "ACC features:   0%|          | 0/42 [00:00<?, ?it/s]"
      ]
     },
     "metadata": {},
     "output_type": "display_data"
    },
    {
     "name": "stdout",
     "output_type": "stream",
     "text": [
      "Unable to remove memmapped file\n"
     ]
    },
    {
     "data": {
      "application/vnd.jupyter.widget-view+json": {
       "model_id": "ef381d0c26a640f2805d9d52a7550955",
       "version_major": 2,
       "version_minor": 0
      },
      "text/plain": [
       "ACC features:   0%|          | 0/42 [00:00<?, ?it/s]"
      ]
     },
     "metadata": {},
     "output_type": "display_data"
    },
    {
     "name": "stdout",
     "output_type": "stream",
     "text": [
      "Unable to remove memmapped file\n"
     ]
    },
    {
     "data": {
      "application/vnd.jupyter.widget-view+json": {
       "model_id": "0c327a93c76d444f8af5b6c3709a7fc2",
       "version_major": 2,
       "version_minor": 0
      },
      "text/plain": [
       "ACC features:   0%|          | 0/42 [00:00<?, ?it/s]"
      ]
     },
     "metadata": {},
     "output_type": "display_data"
    },
    {
     "name": "stdout",
     "output_type": "stream",
     "text": [
      "Unable to remove memmapped file\n"
     ]
    },
    {
     "data": {
      "application/vnd.jupyter.widget-view+json": {
       "model_id": "a1a20355f34e475594ef0204cb93e9df",
       "version_major": 2,
       "version_minor": 0
      },
      "text/plain": [
       "ACC features:   0%|          | 0/42 [00:00<?, ?it/s]"
      ]
     },
     "metadata": {},
     "output_type": "display_data"
    },
    {
     "name": "stdout",
     "output_type": "stream",
     "text": [
      "Unable to remove memmapped file\n"
     ]
    },
    {
     "data": {
      "application/vnd.jupyter.widget-view+json": {
       "model_id": "5c04b0a40265400a9423077664a5c7cf",
       "version_major": 2,
       "version_minor": 0
      },
      "text/plain": [
       "ACC features:   0%|          | 0/42 [00:00<?, ?it/s]"
      ]
     },
     "metadata": {},
     "output_type": "display_data"
    },
    {
     "name": "stdout",
     "output_type": "stream",
     "text": [
      "Unable to remove memmapped file\n"
     ]
    },
    {
     "data": {
      "application/vnd.jupyter.widget-view+json": {
       "model_id": "8bf2f54089f24facbe82eead2d7568c9",
       "version_major": 2,
       "version_minor": 0
      },
      "text/plain": [
       "ACC features:   0%|          | 0/78 [00:00<?, ?it/s]"
      ]
     },
     "metadata": {},
     "output_type": "display_data"
    },
    {
     "name": "stdout",
     "output_type": "stream",
     "text": [
      "Unable to remove memmapped file\n"
     ]
    },
    {
     "data": {
      "application/vnd.jupyter.widget-view+json": {
       "model_id": "e0a0e0045d5344d48cc363dfa5150fc4",
       "version_major": 2,
       "version_minor": 0
      },
      "text/plain": [
       "ACC features:   0%|          | 0/78 [00:00<?, ?it/s]"
      ]
     },
     "metadata": {},
     "output_type": "display_data"
    },
    {
     "name": "stdout",
     "output_type": "stream",
     "text": [
      "Unable to remove memmapped file\n"
     ]
    },
    {
     "data": {
      "application/vnd.jupyter.widget-view+json": {
       "model_id": "025a816c81114cb89d312e07fa8332de",
       "version_major": 2,
       "version_minor": 0
      },
      "text/plain": [
       "ACC features:   0%|          | 0/78 [00:00<?, ?it/s]"
      ]
     },
     "metadata": {},
     "output_type": "display_data"
    },
    {
     "name": "stdout",
     "output_type": "stream",
     "text": [
      "Unable to remove memmapped file\n"
     ]
    },
    {
     "data": {
      "application/vnd.jupyter.widget-view+json": {
       "model_id": "877ed573a95d4973a1928dadb879c4b3",
       "version_major": 2,
       "version_minor": 0
      },
      "text/plain": [
       "ACC features:   0%|          | 0/78 [00:00<?, ?it/s]"
      ]
     },
     "metadata": {},
     "output_type": "display_data"
    },
    {
     "name": "stdout",
     "output_type": "stream",
     "text": [
      "Unable to remove memmapped file\n"
     ]
    },
    {
     "data": {
      "application/vnd.jupyter.widget-view+json": {
       "model_id": "d943ee1aadde475d967ea1913a5fa203",
       "version_major": 2,
       "version_minor": 0
      },
      "text/plain": [
       "ACC features:   0%|          | 0/78 [00:00<?, ?it/s]"
      ]
     },
     "metadata": {},
     "output_type": "display_data"
    },
    {
     "name": "stdout",
     "output_type": "stream",
     "text": [
      "Unable to remove memmapped file\n"
     ]
    },
    {
     "data": {
      "application/vnd.jupyter.widget-view+json": {
       "model_id": "d09731f759cc40819593b445f3ca2a52",
       "version_major": 2,
       "version_minor": 0
      },
      "text/plain": [
       "ACC features:   0%|          | 0/60 [00:00<?, ?it/s]"
      ]
     },
     "metadata": {},
     "output_type": "display_data"
    },
    {
     "name": "stdout",
     "output_type": "stream",
     "text": [
      "Unable to remove memmapped file\n"
     ]
    },
    {
     "data": {
      "application/vnd.jupyter.widget-view+json": {
       "model_id": "9b57f78f102143ffb1590e7936889482",
       "version_major": 2,
       "version_minor": 0
      },
      "text/plain": [
       "ACC features:   0%|          | 0/60 [00:00<?, ?it/s]"
      ]
     },
     "metadata": {},
     "output_type": "display_data"
    },
    {
     "name": "stdout",
     "output_type": "stream",
     "text": [
      "Unable to remove memmapped file\n"
     ]
    },
    {
     "data": {
      "application/vnd.jupyter.widget-view+json": {
       "model_id": "d5690a28696249eca49ab98ce2b08766",
       "version_major": 2,
       "version_minor": 0
      },
      "text/plain": [
       "ACC features:   0%|          | 0/60 [00:00<?, ?it/s]"
      ]
     },
     "metadata": {},
     "output_type": "display_data"
    },
    {
     "name": "stdout",
     "output_type": "stream",
     "text": [
      "Unable to remove memmapped file\n"
     ]
    },
    {
     "data": {
      "application/vnd.jupyter.widget-view+json": {
       "model_id": "96895d4a3b8b40f39d29f281ae953726",
       "version_major": 2,
       "version_minor": 0
      },
      "text/plain": [
       "ACC features:   0%|          | 0/60 [00:00<?, ?it/s]"
      ]
     },
     "metadata": {},
     "output_type": "display_data"
    },
    {
     "name": "stdout",
     "output_type": "stream",
     "text": [
      "Unable to remove memmapped file\n"
     ]
    },
    {
     "data": {
      "application/vnd.jupyter.widget-view+json": {
       "model_id": "c5b19b8afa6a45408b318d9e42889f37",
       "version_major": 2,
       "version_minor": 0
      },
      "text/plain": [
       "ACC features:   0%|          | 0/60 [00:00<?, ?it/s]"
      ]
     },
     "metadata": {},
     "output_type": "display_data"
    },
    {
     "name": "stdout",
     "output_type": "stream",
     "text": [
      "Unable to remove memmapped file\n"
     ]
    },
    {
     "data": {
      "application/vnd.jupyter.widget-view+json": {
       "model_id": "83cd27ced72e49d7bff8cebdb533bcbe",
       "version_major": 2,
       "version_minor": 0
      },
      "text/plain": [
       "ACC features:   0%|          | 0/54 [00:00<?, ?it/s]"
      ]
     },
     "metadata": {},
     "output_type": "display_data"
    },
    {
     "name": "stdout",
     "output_type": "stream",
     "text": [
      "Unable to remove memmapped file\n"
     ]
    },
    {
     "data": {
      "application/vnd.jupyter.widget-view+json": {
       "model_id": "b4259e333cf84139b385a3309a500d5d",
       "version_major": 2,
       "version_minor": 0
      },
      "text/plain": [
       "ACC features:   0%|          | 0/54 [00:00<?, ?it/s]"
      ]
     },
     "metadata": {},
     "output_type": "display_data"
    },
    {
     "name": "stdout",
     "output_type": "stream",
     "text": [
      "Unable to remove memmapped file\n"
     ]
    },
    {
     "data": {
      "application/vnd.jupyter.widget-view+json": {
       "model_id": "6c89e80d094f448b9ef01e02cfb250a9",
       "version_major": 2,
       "version_minor": 0
      },
      "text/plain": [
       "ACC features:   0%|          | 0/54 [00:00<?, ?it/s]"
      ]
     },
     "metadata": {},
     "output_type": "display_data"
    },
    {
     "name": "stdout",
     "output_type": "stream",
     "text": [
      "Unable to remove memmapped file\n"
     ]
    },
    {
     "data": {
      "application/vnd.jupyter.widget-view+json": {
       "model_id": "acc638edf2af45ec901b1bb9e5f3585b",
       "version_major": 2,
       "version_minor": 0
      },
      "text/plain": [
       "ACC features:   0%|          | 0/54 [00:00<?, ?it/s]"
      ]
     },
     "metadata": {},
     "output_type": "display_data"
    },
    {
     "name": "stdout",
     "output_type": "stream",
     "text": [
      "Unable to remove memmapped file\n"
     ]
    },
    {
     "data": {
      "application/vnd.jupyter.widget-view+json": {
       "model_id": "c1b3c9589d8c46bcb96ff6d111203ca4",
       "version_major": 2,
       "version_minor": 0
      },
      "text/plain": [
       "ACC features:   0%|          | 0/54 [00:00<?, ?it/s]"
      ]
     },
     "metadata": {},
     "output_type": "display_data"
    },
    {
     "name": "stdout",
     "output_type": "stream",
     "text": [
      "Unable to remove memmapped file\n"
     ]
    },
    {
     "data": {
      "application/vnd.jupyter.widget-view+json": {
       "model_id": "f06c0850b62b42eeaaa53ff814b62027",
       "version_major": 2,
       "version_minor": 0
      },
      "text/plain": [
       "ACC features:   0%|          | 0/36 [00:00<?, ?it/s]"
      ]
     },
     "metadata": {},
     "output_type": "display_data"
    },
    {
     "name": "stdout",
     "output_type": "stream",
     "text": [
      "Unable to remove memmapped file\n"
     ]
    },
    {
     "data": {
      "application/vnd.jupyter.widget-view+json": {
       "model_id": "ac41d91d5eb343d48f883e4caee2f531",
       "version_major": 2,
       "version_minor": 0
      },
      "text/plain": [
       "ACC features:   0%|          | 0/36 [00:00<?, ?it/s]"
      ]
     },
     "metadata": {},
     "output_type": "display_data"
    },
    {
     "name": "stdout",
     "output_type": "stream",
     "text": [
      "Unable to remove memmapped file\n"
     ]
    },
    {
     "data": {
      "application/vnd.jupyter.widget-view+json": {
       "model_id": "962f9302a72b447781f18b4c5c22f312",
       "version_major": 2,
       "version_minor": 0
      },
      "text/plain": [
       "ACC features:   0%|          | 0/36 [00:00<?, ?it/s]"
      ]
     },
     "metadata": {},
     "output_type": "display_data"
    },
    {
     "name": "stdout",
     "output_type": "stream",
     "text": [
      "Unable to remove memmapped file\n"
     ]
    },
    {
     "data": {
      "application/vnd.jupyter.widget-view+json": {
       "model_id": "2415857764ce4a518e82e7b66c6353eb",
       "version_major": 2,
       "version_minor": 0
      },
      "text/plain": [
       "ACC features:   0%|          | 0/36 [00:00<?, ?it/s]"
      ]
     },
     "metadata": {},
     "output_type": "display_data"
    },
    {
     "name": "stdout",
     "output_type": "stream",
     "text": [
      "Unable to remove memmapped file\n"
     ]
    },
    {
     "data": {
      "application/vnd.jupyter.widget-view+json": {
       "model_id": "037783de9b0c4fad955b42614a4c45b0",
       "version_major": 2,
       "version_minor": 0
      },
      "text/plain": [
       "ACC features:   0%|          | 0/36 [00:00<?, ?it/s]"
      ]
     },
     "metadata": {},
     "output_type": "display_data"
    },
    {
     "name": "stdout",
     "output_type": "stream",
     "text": [
      "Unable to remove memmapped file\n"
     ]
    },
    {
     "data": {
      "application/vnd.jupyter.widget-view+json": {
       "model_id": "9cf4de78f10b46fd88f64fcc5889acbc",
       "version_major": 2,
       "version_minor": 0
      },
      "text/plain": [
       "ACC features:   0%|          | 0/30 [00:00<?, ?it/s]"
      ]
     },
     "metadata": {},
     "output_type": "display_data"
    },
    {
     "name": "stdout",
     "output_type": "stream",
     "text": [
      "Unable to remove memmapped file\n"
     ]
    },
    {
     "data": {
      "application/vnd.jupyter.widget-view+json": {
       "model_id": "2b43a6a2a38a4dce854cb67c0cc7b739",
       "version_major": 2,
       "version_minor": 0
      },
      "text/plain": [
       "ACC features:   0%|          | 0/30 [00:00<?, ?it/s]"
      ]
     },
     "metadata": {},
     "output_type": "display_data"
    },
    {
     "name": "stdout",
     "output_type": "stream",
     "text": [
      "Unable to remove memmapped file\n"
     ]
    },
    {
     "data": {
      "application/vnd.jupyter.widget-view+json": {
       "model_id": "668dec6400244897b0c57634732b91ca",
       "version_major": 2,
       "version_minor": 0
      },
      "text/plain": [
       "ACC features:   0%|          | 0/30 [00:00<?, ?it/s]"
      ]
     },
     "metadata": {},
     "output_type": "display_data"
    },
    {
     "name": "stdout",
     "output_type": "stream",
     "text": [
      "Unable to remove memmapped file\n"
     ]
    },
    {
     "data": {
      "application/vnd.jupyter.widget-view+json": {
       "model_id": "588072b4dfd2486491dbdb2405539b12",
       "version_major": 2,
       "version_minor": 0
      },
      "text/plain": [
       "ACC features:   0%|          | 0/30 [00:00<?, ?it/s]"
      ]
     },
     "metadata": {},
     "output_type": "display_data"
    },
    {
     "name": "stdout",
     "output_type": "stream",
     "text": [
      "Unable to remove memmapped file\n"
     ]
    },
    {
     "data": {
      "application/vnd.jupyter.widget-view+json": {
       "model_id": "ec57ba224f864d8384ae16c6ad10b333",
       "version_major": 2,
       "version_minor": 0
      },
      "text/plain": [
       "ACC features:   0%|          | 0/30 [00:00<?, ?it/s]"
      ]
     },
     "metadata": {},
     "output_type": "display_data"
    },
    {
     "name": "stdout",
     "output_type": "stream",
     "text": [
      "Unable to remove memmapped file\n"
     ]
    },
    {
     "data": {
      "application/vnd.jupyter.widget-view+json": {
       "model_id": "d434074ef0a3439ca252aa02b9e8b0ed",
       "version_major": 2,
       "version_minor": 0
      },
      "text/plain": [
       "ACC features:   0%|          | 0/130 [00:00<?, ?it/s]"
      ]
     },
     "metadata": {},
     "output_type": "display_data"
    },
    {
     "name": "stdout",
     "output_type": "stream",
     "text": [
      "Unable to remove memmapped file\n"
     ]
    },
    {
     "data": {
      "application/vnd.jupyter.widget-view+json": {
       "model_id": "567390f75e58491aa900941240dee5ae",
       "version_major": 2,
       "version_minor": 0
      },
      "text/plain": [
       "ACC features:   0%|          | 0/130 [00:00<?, ?it/s]"
      ]
     },
     "metadata": {},
     "output_type": "display_data"
    },
    {
     "name": "stdout",
     "output_type": "stream",
     "text": [
      "Unable to remove memmapped file\n"
     ]
    },
    {
     "data": {
      "application/vnd.jupyter.widget-view+json": {
       "model_id": "35a8ddcd33e2414f80fe2bf83bf7a475",
       "version_major": 2,
       "version_minor": 0
      },
      "text/plain": [
       "ACC features:   0%|          | 0/130 [00:00<?, ?it/s]"
      ]
     },
     "metadata": {},
     "output_type": "display_data"
    },
    {
     "name": "stdout",
     "output_type": "stream",
     "text": [
      "Unable to remove memmapped file\n"
     ]
    },
    {
     "data": {
      "application/vnd.jupyter.widget-view+json": {
       "model_id": "62ebeb9f2f0443099c3e201d84deff72",
       "version_major": 2,
       "version_minor": 0
      },
      "text/plain": [
       "ACC features:   0%|          | 0/130 [00:00<?, ?it/s]"
      ]
     },
     "metadata": {},
     "output_type": "display_data"
    },
    {
     "name": "stdout",
     "output_type": "stream",
     "text": [
      "Unable to remove memmapped file\n"
     ]
    },
    {
     "data": {
      "application/vnd.jupyter.widget-view+json": {
       "model_id": "5a9764d2e2d446c3840927b298285e62",
       "version_major": 2,
       "version_minor": 0
      },
      "text/plain": [
       "ACC features:   0%|          | 0/130 [00:00<?, ?it/s]"
      ]
     },
     "metadata": {},
     "output_type": "display_data"
    },
    {
     "name": "stdout",
     "output_type": "stream",
     "text": [
      "Unable to remove memmapped file\n"
     ]
    },
    {
     "data": {
      "application/vnd.jupyter.widget-view+json": {
       "model_id": "bda1571197274c1e8ff3b0b714e4d872",
       "version_major": 2,
       "version_minor": 0
      },
      "text/plain": [
       "ACC features:   0%|          | 0/66 [00:00<?, ?it/s]"
      ]
     },
     "metadata": {},
     "output_type": "display_data"
    },
    {
     "name": "stdout",
     "output_type": "stream",
     "text": [
      "Unable to remove memmapped file\n"
     ]
    },
    {
     "data": {
      "application/vnd.jupyter.widget-view+json": {
       "model_id": "b9b45d41e32d4f8ca05463d8f1c0080d",
       "version_major": 2,
       "version_minor": 0
      },
      "text/plain": [
       "ACC features:   0%|          | 0/66 [00:00<?, ?it/s]"
      ]
     },
     "metadata": {},
     "output_type": "display_data"
    },
    {
     "name": "stdout",
     "output_type": "stream",
     "text": [
      "Unable to remove memmapped file\n"
     ]
    },
    {
     "data": {
      "application/vnd.jupyter.widget-view+json": {
       "model_id": "535d3d4ec07a4e458d4b3114f5bf8d7e",
       "version_major": 2,
       "version_minor": 0
      },
      "text/plain": [
       "ACC features:   0%|          | 0/66 [00:00<?, ?it/s]"
      ]
     },
     "metadata": {},
     "output_type": "display_data"
    },
    {
     "name": "stdout",
     "output_type": "stream",
     "text": [
      "Unable to remove memmapped file\n"
     ]
    },
    {
     "data": {
      "application/vnd.jupyter.widget-view+json": {
       "model_id": "d2e932f1119c4c28b6d1e6b2e474c4e4",
       "version_major": 2,
       "version_minor": 0
      },
      "text/plain": [
       "ACC features:   0%|          | 0/66 [00:00<?, ?it/s]"
      ]
     },
     "metadata": {},
     "output_type": "display_data"
    },
    {
     "name": "stdout",
     "output_type": "stream",
     "text": [
      "Unable to remove memmapped file\n"
     ]
    },
    {
     "data": {
      "application/vnd.jupyter.widget-view+json": {
       "model_id": "2d89024f562f4455968109e1392ff636",
       "version_major": 2,
       "version_minor": 0
      },
      "text/plain": [
       "ACC features:   0%|          | 0/66 [00:00<?, ?it/s]"
      ]
     },
     "metadata": {},
     "output_type": "display_data"
    },
    {
     "name": "stdout",
     "output_type": "stream",
     "text": [
      "Unable to remove memmapped file\n"
     ]
    },
    {
     "data": {
      "application/vnd.jupyter.widget-view+json": {
       "model_id": "521726873b8c41188a40692b091e81a6",
       "version_major": 2,
       "version_minor": 0
      },
      "text/plain": [
       "ACC features:   0%|          | 0/60 [00:00<?, ?it/s]"
      ]
     },
     "metadata": {},
     "output_type": "display_data"
    },
    {
     "name": "stdout",
     "output_type": "stream",
     "text": [
      "Unable to remove memmapped file\n"
     ]
    },
    {
     "data": {
      "application/vnd.jupyter.widget-view+json": {
       "model_id": "63afe3b50d3547199d9856ab0ec59986",
       "version_major": 2,
       "version_minor": 0
      },
      "text/plain": [
       "ACC features:   0%|          | 0/60 [00:00<?, ?it/s]"
      ]
     },
     "metadata": {},
     "output_type": "display_data"
    },
    {
     "name": "stdout",
     "output_type": "stream",
     "text": [
      "Unable to remove memmapped file\n"
     ]
    },
    {
     "data": {
      "application/vnd.jupyter.widget-view+json": {
       "model_id": "604a17f4434942e7af9eb23131142a42",
       "version_major": 2,
       "version_minor": 0
      },
      "text/plain": [
       "ACC features:   0%|          | 0/60 [00:00<?, ?it/s]"
      ]
     },
     "metadata": {},
     "output_type": "display_data"
    },
    {
     "name": "stdout",
     "output_type": "stream",
     "text": [
      "Unable to remove memmapped file\n"
     ]
    },
    {
     "data": {
      "application/vnd.jupyter.widget-view+json": {
       "model_id": "f99e42b82e744b72b6c76be52441c8df",
       "version_major": 2,
       "version_minor": 0
      },
      "text/plain": [
       "ACC features:   0%|          | 0/60 [00:00<?, ?it/s]"
      ]
     },
     "metadata": {},
     "output_type": "display_data"
    },
    {
     "name": "stdout",
     "output_type": "stream",
     "text": [
      "Unable to remove memmapped file\n"
     ]
    },
    {
     "data": {
      "application/vnd.jupyter.widget-view+json": {
       "model_id": "94c36999750040fa850dc738b0dde8ac",
       "version_major": 2,
       "version_minor": 0
      },
      "text/plain": [
       "ACC features:   0%|          | 0/59 [00:00<?, ?it/s]"
      ]
     },
     "metadata": {},
     "output_type": "display_data"
    },
    {
     "name": "stdout",
     "output_type": "stream",
     "text": [
      "Unable to remove memmapped file\n"
     ]
    },
    {
     "data": {
      "application/vnd.jupyter.widget-view+json": {
       "model_id": "043d577a840543a9b018ab6143f361d7",
       "version_major": 2,
       "version_minor": 0
      },
      "text/plain": [
       "ACC features:   0%|          | 0/102 [00:00<?, ?it/s]"
      ]
     },
     "metadata": {},
     "output_type": "display_data"
    },
    {
     "name": "stdout",
     "output_type": "stream",
     "text": [
      "Unable to remove memmapped file\n"
     ]
    },
    {
     "data": {
      "application/vnd.jupyter.widget-view+json": {
       "model_id": "7ea23746d8ba47808275a3d986f58e3a",
       "version_major": 2,
       "version_minor": 0
      },
      "text/plain": [
       "ACC features:   0%|          | 0/102 [00:00<?, ?it/s]"
      ]
     },
     "metadata": {},
     "output_type": "display_data"
    },
    {
     "name": "stdout",
     "output_type": "stream",
     "text": [
      "Unable to remove memmapped file\n"
     ]
    },
    {
     "data": {
      "application/vnd.jupyter.widget-view+json": {
       "model_id": "077d5c0e2579440d8588301d446c238b",
       "version_major": 2,
       "version_minor": 0
      },
      "text/plain": [
       "ACC features:   0%|          | 0/102 [00:00<?, ?it/s]"
      ]
     },
     "metadata": {},
     "output_type": "display_data"
    },
    {
     "name": "stdout",
     "output_type": "stream",
     "text": [
      "Unable to remove memmapped file\n"
     ]
    },
    {
     "data": {
      "application/vnd.jupyter.widget-view+json": {
       "model_id": "1f75f6e6546a4696824697fb610bef3c",
       "version_major": 2,
       "version_minor": 0
      },
      "text/plain": [
       "ACC features:   0%|          | 0/102 [00:00<?, ?it/s]"
      ]
     },
     "metadata": {},
     "output_type": "display_data"
    },
    {
     "name": "stdout",
     "output_type": "stream",
     "text": [
      "Unable to remove memmapped file\n"
     ]
    },
    {
     "data": {
      "application/vnd.jupyter.widget-view+json": {
       "model_id": "06a83c82a1f0401fb54eab12df2f0ca8",
       "version_major": 2,
       "version_minor": 0
      },
      "text/plain": [
       "ACC features:   0%|          | 0/102 [00:00<?, ?it/s]"
      ]
     },
     "metadata": {},
     "output_type": "display_data"
    },
    {
     "name": "stdout",
     "output_type": "stream",
     "text": [
      "Unable to remove memmapped file\n"
     ]
    },
    {
     "data": {
      "application/vnd.jupyter.widget-view+json": {
       "model_id": "80a45035fdde409b949b633bde755ae9",
       "version_major": 2,
       "version_minor": 0
      },
      "text/plain": [
       "ACC features:   0%|          | 0/18 [00:00<?, ?it/s]"
      ]
     },
     "metadata": {},
     "output_type": "display_data"
    },
    {
     "name": "stdout",
     "output_type": "stream",
     "text": [
      "Unable to remove memmapped file\n"
     ]
    },
    {
     "data": {
      "application/vnd.jupyter.widget-view+json": {
       "model_id": "8066e369993745eabe849220e46b5420",
       "version_major": 2,
       "version_minor": 0
      },
      "text/plain": [
       "ACC features:   0%|          | 0/18 [00:00<?, ?it/s]"
      ]
     },
     "metadata": {},
     "output_type": "display_data"
    },
    {
     "name": "stdout",
     "output_type": "stream",
     "text": [
      "Unable to remove memmapped file\n"
     ]
    },
    {
     "data": {
      "application/vnd.jupyter.widget-view+json": {
       "model_id": "880a472c5de54b4698fbb47914f77729",
       "version_major": 2,
       "version_minor": 0
      },
      "text/plain": [
       "ACC features:   0%|          | 0/18 [00:00<?, ?it/s]"
      ]
     },
     "metadata": {},
     "output_type": "display_data"
    },
    {
     "name": "stdout",
     "output_type": "stream",
     "text": [
      "Unable to remove memmapped file\n"
     ]
    },
    {
     "data": {
      "application/vnd.jupyter.widget-view+json": {
       "model_id": "3f46c3b429d845bc9b727d8ce498933a",
       "version_major": 2,
       "version_minor": 0
      },
      "text/plain": [
       "ACC features:   0%|          | 0/18 [00:00<?, ?it/s]"
      ]
     },
     "metadata": {},
     "output_type": "display_data"
    },
    {
     "name": "stdout",
     "output_type": "stream",
     "text": [
      "Unable to remove memmapped file\n"
     ]
    },
    {
     "data": {
      "application/vnd.jupyter.widget-view+json": {
       "model_id": "9b6dbce661844060b6f4900e05095e8e",
       "version_major": 2,
       "version_minor": 0
      },
      "text/plain": [
       "ACC features:   0%|          | 0/18 [00:00<?, ?it/s]"
      ]
     },
     "metadata": {},
     "output_type": "display_data"
    },
    {
     "name": "stdout",
     "output_type": "stream",
     "text": [
      "Unable to remove memmapped file\n"
     ]
    },
    {
     "data": {
      "application/vnd.jupyter.widget-view+json": {
       "model_id": "2f416c42b23a4a39ad4817980819119b",
       "version_major": 2,
       "version_minor": 0
      },
      "text/plain": [
       "ACC features:   0%|          | 0/60 [00:00<?, ?it/s]"
      ]
     },
     "metadata": {},
     "output_type": "display_data"
    },
    {
     "name": "stdout",
     "output_type": "stream",
     "text": [
      "Unable to remove memmapped file\n"
     ]
    },
    {
     "data": {
      "application/vnd.jupyter.widget-view+json": {
       "model_id": "1e3767214cfb4435a00d00ab7ea329b6",
       "version_major": 2,
       "version_minor": 0
      },
      "text/plain": [
       "ACC features:   0%|          | 0/60 [00:00<?, ?it/s]"
      ]
     },
     "metadata": {},
     "output_type": "display_data"
    },
    {
     "name": "stdout",
     "output_type": "stream",
     "text": [
      "Unable to remove memmapped file\n"
     ]
    },
    {
     "data": {
      "application/vnd.jupyter.widget-view+json": {
       "model_id": "a9dc6da7ba1445feb7b2ec7138f4d5fc",
       "version_major": 2,
       "version_minor": 0
      },
      "text/plain": [
       "ACC features:   0%|          | 0/60 [00:00<?, ?it/s]"
      ]
     },
     "metadata": {},
     "output_type": "display_data"
    },
    {
     "name": "stdout",
     "output_type": "stream",
     "text": [
      "Unable to remove memmapped file\n"
     ]
    },
    {
     "data": {
      "application/vnd.jupyter.widget-view+json": {
       "model_id": "cd01a175ffb545088a1d0f7bb043f8dc",
       "version_major": 2,
       "version_minor": 0
      },
      "text/plain": [
       "ACC features:   0%|          | 0/60 [00:00<?, ?it/s]"
      ]
     },
     "metadata": {},
     "output_type": "display_data"
    },
    {
     "name": "stdout",
     "output_type": "stream",
     "text": [
      "Unable to remove memmapped file\n"
     ]
    },
    {
     "data": {
      "application/vnd.jupyter.widget-view+json": {
       "model_id": "c568c5be5d96446c978fe4ffb77cb69e",
       "version_major": 2,
       "version_minor": 0
      },
      "text/plain": [
       "ACC features:   0%|          | 0/60 [00:00<?, ?it/s]"
      ]
     },
     "metadata": {},
     "output_type": "display_data"
    },
    {
     "name": "stdout",
     "output_type": "stream",
     "text": [
      "Unable to remove memmapped file\n"
     ]
    },
    {
     "data": {
      "application/vnd.jupyter.widget-view+json": {
       "model_id": "f58036abe895419c8d87791499732f47",
       "version_major": 2,
       "version_minor": 0
      },
      "text/plain": [
       "ACC features:   0%|          | 0/108 [00:00<?, ?it/s]"
      ]
     },
     "metadata": {},
     "output_type": "display_data"
    },
    {
     "name": "stdout",
     "output_type": "stream",
     "text": [
      "Unable to remove memmapped file\n"
     ]
    },
    {
     "data": {
      "application/vnd.jupyter.widget-view+json": {
       "model_id": "88f4676db6c54918aeed49961f417178",
       "version_major": 2,
       "version_minor": 0
      },
      "text/plain": [
       "ACC features:   0%|          | 0/108 [00:00<?, ?it/s]"
      ]
     },
     "metadata": {},
     "output_type": "display_data"
    },
    {
     "name": "stdout",
     "output_type": "stream",
     "text": [
      "Unable to remove memmapped file\n"
     ]
    },
    {
     "data": {
      "application/vnd.jupyter.widget-view+json": {
       "model_id": "37ef1908cab6464c9d2a8f81e4d95c54",
       "version_major": 2,
       "version_minor": 0
      },
      "text/plain": [
       "ACC features:   0%|          | 0/108 [00:00<?, ?it/s]"
      ]
     },
     "metadata": {},
     "output_type": "display_data"
    },
    {
     "name": "stdout",
     "output_type": "stream",
     "text": [
      "Unable to remove memmapped file\n"
     ]
    },
    {
     "data": {
      "application/vnd.jupyter.widget-view+json": {
       "model_id": "76f1bd9016294eb195230ac8a7cd5216",
       "version_major": 2,
       "version_minor": 0
      },
      "text/plain": [
       "ACC features:   0%|          | 0/108 [00:00<?, ?it/s]"
      ]
     },
     "metadata": {},
     "output_type": "display_data"
    },
    {
     "name": "stdout",
     "output_type": "stream",
     "text": [
      "Unable to remove memmapped file\n"
     ]
    },
    {
     "data": {
      "application/vnd.jupyter.widget-view+json": {
       "model_id": "6045862b24f04b63943e405a9dab68de",
       "version_major": 2,
       "version_minor": 0
      },
      "text/plain": [
       "ACC features:   0%|          | 0/108 [00:00<?, ?it/s]"
      ]
     },
     "metadata": {},
     "output_type": "display_data"
    },
    {
     "name": "stdout",
     "output_type": "stream",
     "text": [
      "Unable to remove memmapped file\n"
     ]
    },
    {
     "data": {
      "application/vnd.jupyter.widget-view+json": {
       "model_id": "7132c07edc6d49acbc9261b793436350",
       "version_major": 2,
       "version_minor": 0
      },
      "text/plain": [
       "ACC features:   0%|          | 0/62 [00:00<?, ?it/s]"
      ]
     },
     "metadata": {},
     "output_type": "display_data"
    },
    {
     "name": "stdout",
     "output_type": "stream",
     "text": [
      "Unable to remove memmapped file\n"
     ]
    },
    {
     "data": {
      "application/vnd.jupyter.widget-view+json": {
       "model_id": "0b21168197554ea899e2a526905f29d3",
       "version_major": 2,
       "version_minor": 0
      },
      "text/plain": [
       "ACC features:   0%|          | 0/62 [00:00<?, ?it/s]"
      ]
     },
     "metadata": {},
     "output_type": "display_data"
    },
    {
     "name": "stdout",
     "output_type": "stream",
     "text": [
      "Unable to remove memmapped file\n"
     ]
    },
    {
     "data": {
      "application/vnd.jupyter.widget-view+json": {
       "model_id": "2976b1eaaaeb4dc4980348b75cb795fe",
       "version_major": 2,
       "version_minor": 0
      },
      "text/plain": [
       "ACC features:   0%|          | 0/62 [00:00<?, ?it/s]"
      ]
     },
     "metadata": {},
     "output_type": "display_data"
    },
    {
     "name": "stdout",
     "output_type": "stream",
     "text": [
      "Unable to remove memmapped file\n"
     ]
    },
    {
     "data": {
      "application/vnd.jupyter.widget-view+json": {
       "model_id": "1f5db609e367428c88ba26e9cd76b0c3",
       "version_major": 2,
       "version_minor": 0
      },
      "text/plain": [
       "ACC features:   0%|          | 0/62 [00:00<?, ?it/s]"
      ]
     },
     "metadata": {},
     "output_type": "display_data"
    },
    {
     "name": "stdout",
     "output_type": "stream",
     "text": [
      "Unable to remove memmapped file\n"
     ]
    },
    {
     "data": {
      "application/vnd.jupyter.widget-view+json": {
       "model_id": "778a93a43dc8494d9b9b33fe5020d6b1",
       "version_major": 2,
       "version_minor": 0
      },
      "text/plain": [
       "ACC features:   0%|          | 0/62 [00:00<?, ?it/s]"
      ]
     },
     "metadata": {},
     "output_type": "display_data"
    },
    {
     "name": "stdout",
     "output_type": "stream",
     "text": [
      "Unable to remove memmapped file\n"
     ]
    },
    {
     "data": {
      "application/vnd.jupyter.widget-view+json": {
       "model_id": "36ac99d42941497bae206380488dd437",
       "version_major": 2,
       "version_minor": 0
      },
      "text/plain": [
       "ACC features:   0%|          | 0/156 [00:00<?, ?it/s]"
      ]
     },
     "metadata": {},
     "output_type": "display_data"
    },
    {
     "name": "stdout",
     "output_type": "stream",
     "text": [
      "Unable to remove memmapped file\n"
     ]
    },
    {
     "data": {
      "application/vnd.jupyter.widget-view+json": {
       "model_id": "fdb4017491fd4dd6a1a297c284089634",
       "version_major": 2,
       "version_minor": 0
      },
      "text/plain": [
       "ACC features:   0%|          | 0/156 [00:00<?, ?it/s]"
      ]
     },
     "metadata": {},
     "output_type": "display_data"
    },
    {
     "name": "stdout",
     "output_type": "stream",
     "text": [
      "Unable to remove memmapped file\n"
     ]
    },
    {
     "data": {
      "application/vnd.jupyter.widget-view+json": {
       "model_id": "8e74ecb3653447e683d9e0851e56d4ca",
       "version_major": 2,
       "version_minor": 0
      },
      "text/plain": [
       "ACC features:   0%|          | 0/156 [00:00<?, ?it/s]"
      ]
     },
     "metadata": {},
     "output_type": "display_data"
    },
    {
     "name": "stdout",
     "output_type": "stream",
     "text": [
      "Unable to remove memmapped file\n"
     ]
    },
    {
     "data": {
      "application/vnd.jupyter.widget-view+json": {
       "model_id": "9c2ddd17af774fa8a5d4d329f3d0685c",
       "version_major": 2,
       "version_minor": 0
      },
      "text/plain": [
       "ACC features:   0%|          | 0/156 [00:00<?, ?it/s]"
      ]
     },
     "metadata": {},
     "output_type": "display_data"
    },
    {
     "name": "stdout",
     "output_type": "stream",
     "text": [
      "Unable to remove memmapped file\n"
     ]
    },
    {
     "data": {
      "application/vnd.jupyter.widget-view+json": {
       "model_id": "187dd7ede76a4e80a557891d797c92c3",
       "version_major": 2,
       "version_minor": 0
      },
      "text/plain": [
       "ACC features:   0%|          | 0/156 [00:00<?, ?it/s]"
      ]
     },
     "metadata": {},
     "output_type": "display_data"
    },
    {
     "name": "stdout",
     "output_type": "stream",
     "text": [
      "Unable to remove memmapped file\n"
     ]
    },
    {
     "data": {
      "application/vnd.jupyter.widget-view+json": {
       "model_id": "6668cb8c83be46cfa16c220527c1cd70",
       "version_major": 2,
       "version_minor": 0
      },
      "text/plain": [
       "ACC features:   0%|          | 0/186 [00:00<?, ?it/s]"
      ]
     },
     "metadata": {},
     "output_type": "display_data"
    },
    {
     "name": "stdout",
     "output_type": "stream",
     "text": [
      "Unable to remove memmapped file\n"
     ]
    },
    {
     "data": {
      "application/vnd.jupyter.widget-view+json": {
       "model_id": "0f3055e7a15945559fd849a07b917d73",
       "version_major": 2,
       "version_minor": 0
      },
      "text/plain": [
       "ACC features:   0%|          | 0/186 [00:00<?, ?it/s]"
      ]
     },
     "metadata": {},
     "output_type": "display_data"
    },
    {
     "name": "stdout",
     "output_type": "stream",
     "text": [
      "Unable to remove memmapped file\n"
     ]
    },
    {
     "data": {
      "application/vnd.jupyter.widget-view+json": {
       "model_id": "03deb7b0c1a4439bb408c56be60934ab",
       "version_major": 2,
       "version_minor": 0
      },
      "text/plain": [
       "ACC features:   0%|          | 0/186 [00:00<?, ?it/s]"
      ]
     },
     "metadata": {},
     "output_type": "display_data"
    },
    {
     "name": "stdout",
     "output_type": "stream",
     "text": [
      "Unable to remove memmapped file\n"
     ]
    },
    {
     "data": {
      "application/vnd.jupyter.widget-view+json": {
       "model_id": "5a39ed64bc68460d9aa2a5f26859714a",
       "version_major": 2,
       "version_minor": 0
      },
      "text/plain": [
       "ACC features:   0%|          | 0/186 [00:00<?, ?it/s]"
      ]
     },
     "metadata": {},
     "output_type": "display_data"
    },
    {
     "name": "stdout",
     "output_type": "stream",
     "text": [
      "Unable to remove memmapped file\n"
     ]
    },
    {
     "data": {
      "application/vnd.jupyter.widget-view+json": {
       "model_id": "f57ae810d6024a16bdef6b1dac853de1",
       "version_major": 2,
       "version_minor": 0
      },
      "text/plain": [
       "ACC features:   0%|          | 0/186 [00:00<?, ?it/s]"
      ]
     },
     "metadata": {},
     "output_type": "display_data"
    },
    {
     "name": "stdout",
     "output_type": "stream",
     "text": [
      "Unable to remove memmapped file\n"
     ]
    },
    {
     "data": {
      "application/vnd.jupyter.widget-view+json": {
       "model_id": "394a2ef77ae44a76ad391e499a9dec13",
       "version_major": 2,
       "version_minor": 0
      },
      "text/plain": [
       "ACC features:   0%|          | 0/216 [00:00<?, ?it/s]"
      ]
     },
     "metadata": {},
     "output_type": "display_data"
    },
    {
     "name": "stdout",
     "output_type": "stream",
     "text": [
      "Unable to remove memmapped file\n"
     ]
    },
    {
     "data": {
      "application/vnd.jupyter.widget-view+json": {
       "model_id": "1bf224b60b644602bbb0dc4af679a360",
       "version_major": 2,
       "version_minor": 0
      },
      "text/plain": [
       "ACC features:   0%|          | 0/216 [00:00<?, ?it/s]"
      ]
     },
     "metadata": {},
     "output_type": "display_data"
    },
    {
     "name": "stdout",
     "output_type": "stream",
     "text": [
      "Unable to remove memmapped file\n"
     ]
    },
    {
     "data": {
      "application/vnd.jupyter.widget-view+json": {
       "model_id": "0c9c832eaa144d1f9d436f406027b65a",
       "version_major": 2,
       "version_minor": 0
      },
      "text/plain": [
       "ACC features:   0%|          | 0/216 [00:00<?, ?it/s]"
      ]
     },
     "metadata": {},
     "output_type": "display_data"
    },
    {
     "name": "stdout",
     "output_type": "stream",
     "text": [
      "Unable to remove memmapped file\n"
     ]
    },
    {
     "data": {
      "application/vnd.jupyter.widget-view+json": {
       "model_id": "05f4d0269c6d42c5ab575979ee1a272f",
       "version_major": 2,
       "version_minor": 0
      },
      "text/plain": [
       "ACC features:   0%|          | 0/216 [00:00<?, ?it/s]"
      ]
     },
     "metadata": {},
     "output_type": "display_data"
    },
    {
     "name": "stdout",
     "output_type": "stream",
     "text": [
      "Unable to remove memmapped file\n"
     ]
    },
    {
     "data": {
      "application/vnd.jupyter.widget-view+json": {
       "model_id": "b1fadb70b21541199c68b8b2a1bd17ed",
       "version_major": 2,
       "version_minor": 0
      },
      "text/plain": [
       "ACC features:   0%|          | 0/216 [00:00<?, ?it/s]"
      ]
     },
     "metadata": {},
     "output_type": "display_data"
    },
    {
     "name": "stdout",
     "output_type": "stream",
     "text": [
      "Unable to remove memmapped file\n"
     ]
    },
    {
     "data": {
      "application/vnd.jupyter.widget-view+json": {
       "model_id": "1515ec32cfdb42bbb7bce0054332ed22",
       "version_major": 2,
       "version_minor": 0
      },
      "text/plain": [
       "ACC features:   0%|          | 0/114 [00:00<?, ?it/s]"
      ]
     },
     "metadata": {},
     "output_type": "display_data"
    },
    {
     "name": "stdout",
     "output_type": "stream",
     "text": [
      "Unable to remove memmapped file\n"
     ]
    },
    {
     "data": {
      "application/vnd.jupyter.widget-view+json": {
       "model_id": "bfb335dfc494498cbfd14ca3b0f01ac9",
       "version_major": 2,
       "version_minor": 0
      },
      "text/plain": [
       "ACC features:   0%|          | 0/114 [00:00<?, ?it/s]"
      ]
     },
     "metadata": {},
     "output_type": "display_data"
    },
    {
     "name": "stdout",
     "output_type": "stream",
     "text": [
      "Unable to remove memmapped file\n"
     ]
    },
    {
     "data": {
      "application/vnd.jupyter.widget-view+json": {
       "model_id": "09bba5ac32894c37911b0365d55c72f8",
       "version_major": 2,
       "version_minor": 0
      },
      "text/plain": [
       "ACC features:   0%|          | 0/114 [00:00<?, ?it/s]"
      ]
     },
     "metadata": {},
     "output_type": "display_data"
    },
    {
     "name": "stdout",
     "output_type": "stream",
     "text": [
      "Unable to remove memmapped file\n"
     ]
    },
    {
     "data": {
      "application/vnd.jupyter.widget-view+json": {
       "model_id": "0a08de66815a453bba8bcebf915bea55",
       "version_major": 2,
       "version_minor": 0
      },
      "text/plain": [
       "ACC features:   0%|          | 0/114 [00:00<?, ?it/s]"
      ]
     },
     "metadata": {},
     "output_type": "display_data"
    },
    {
     "name": "stdout",
     "output_type": "stream",
     "text": [
      "Unable to remove memmapped file\n"
     ]
    },
    {
     "data": {
      "application/vnd.jupyter.widget-view+json": {
       "model_id": "a6f5ed8b076d423fbec4e6f1dfe290ff",
       "version_major": 2,
       "version_minor": 0
      },
      "text/plain": [
       "ACC features:   0%|          | 0/114 [00:00<?, ?it/s]"
      ]
     },
     "metadata": {},
     "output_type": "display_data"
    },
    {
     "name": "stdout",
     "output_type": "stream",
     "text": [
      "Unable to remove memmapped file\n"
     ]
    },
    {
     "data": {
      "application/vnd.jupyter.widget-view+json": {
       "model_id": "7e1afeecfbb14e67864e14f3c39577f4",
       "version_major": 2,
       "version_minor": 0
      },
      "text/plain": [
       "ACC features:   0%|          | 0/324 [00:00<?, ?it/s]"
      ]
     },
     "metadata": {},
     "output_type": "display_data"
    },
    {
     "name": "stdout",
     "output_type": "stream",
     "text": [
      "Unable to remove memmapped file\n"
     ]
    },
    {
     "data": {
      "application/vnd.jupyter.widget-view+json": {
       "model_id": "284f8b6c3f8f4b5ab4b248ec64c5e117",
       "version_major": 2,
       "version_minor": 0
      },
      "text/plain": [
       "ACC features:   0%|          | 0/324 [00:00<?, ?it/s]"
      ]
     },
     "metadata": {},
     "output_type": "display_data"
    },
    {
     "name": "stdout",
     "output_type": "stream",
     "text": [
      "Unable to remove memmapped file\n"
     ]
    },
    {
     "data": {
      "application/vnd.jupyter.widget-view+json": {
       "model_id": "1e2210c00220445eb0d039d13ff1bb9e",
       "version_major": 2,
       "version_minor": 0
      },
      "text/plain": [
       "ACC features:   0%|          | 0/324 [00:00<?, ?it/s]"
      ]
     },
     "metadata": {},
     "output_type": "display_data"
    },
    {
     "name": "stdout",
     "output_type": "stream",
     "text": [
      "Unable to remove memmapped file\n"
     ]
    },
    {
     "data": {
      "application/vnd.jupyter.widget-view+json": {
       "model_id": "efbcf64c6c664736872a85961eabcd05",
       "version_major": 2,
       "version_minor": 0
      },
      "text/plain": [
       "ACC features:   0%|          | 0/324 [00:00<?, ?it/s]"
      ]
     },
     "metadata": {},
     "output_type": "display_data"
    },
    {
     "name": "stdout",
     "output_type": "stream",
     "text": [
      "Unable to remove memmapped file\n"
     ]
    },
    {
     "data": {
      "application/vnd.jupyter.widget-view+json": {
       "model_id": "ecd04655bca0422fa0ba2ee0222c1797",
       "version_major": 2,
       "version_minor": 0
      },
      "text/plain": [
       "ACC features:   0%|          | 0/324 [00:00<?, ?it/s]"
      ]
     },
     "metadata": {},
     "output_type": "display_data"
    },
    {
     "name": "stdout",
     "output_type": "stream",
     "text": [
      "Unable to remove memmapped file\n"
     ]
    },
    {
     "data": {
      "application/vnd.jupyter.widget-view+json": {
       "model_id": "6bd87dfad98a4f769332358c4367df23",
       "version_major": 2,
       "version_minor": 0
      },
      "text/plain": [
       "ACC features:   0%|          | 0/120 [00:00<?, ?it/s]"
      ]
     },
     "metadata": {},
     "output_type": "display_data"
    },
    {
     "name": "stdout",
     "output_type": "stream",
     "text": [
      "Unable to remove memmapped file\n"
     ]
    },
    {
     "data": {
      "application/vnd.jupyter.widget-view+json": {
       "model_id": "1c3bbddaa4c04c8a8a595c276a8a5808",
       "version_major": 2,
       "version_minor": 0
      },
      "text/plain": [
       "ACC features:   0%|          | 0/120 [00:00<?, ?it/s]"
      ]
     },
     "metadata": {},
     "output_type": "display_data"
    },
    {
     "name": "stdout",
     "output_type": "stream",
     "text": [
      "Unable to remove memmapped file\n"
     ]
    },
    {
     "data": {
      "application/vnd.jupyter.widget-view+json": {
       "model_id": "9a1787d0ad61457db50d11cb9dca399c",
       "version_major": 2,
       "version_minor": 0
      },
      "text/plain": [
       "ACC features:   0%|          | 0/120 [00:00<?, ?it/s]"
      ]
     },
     "metadata": {},
     "output_type": "display_data"
    },
    {
     "name": "stdout",
     "output_type": "stream",
     "text": [
      "Unable to remove memmapped file\n"
     ]
    },
    {
     "data": {
      "application/vnd.jupyter.widget-view+json": {
       "model_id": "e14bbb92b287411ebb6497e046c146e8",
       "version_major": 2,
       "version_minor": 0
      },
      "text/plain": [
       "ACC features:   0%|          | 0/120 [00:00<?, ?it/s]"
      ]
     },
     "metadata": {},
     "output_type": "display_data"
    },
    {
     "name": "stdout",
     "output_type": "stream",
     "text": [
      "Unable to remove memmapped file\n"
     ]
    },
    {
     "data": {
      "application/vnd.jupyter.widget-view+json": {
       "model_id": "335dad47da19476aba6b8711cc898f5b",
       "version_major": 2,
       "version_minor": 0
      },
      "text/plain": [
       "ACC features:   0%|          | 0/120 [00:00<?, ?it/s]"
      ]
     },
     "metadata": {},
     "output_type": "display_data"
    },
    {
     "name": "stdout",
     "output_type": "stream",
     "text": [
      "Unable to remove memmapped file\n"
     ]
    },
    {
     "data": {
      "application/vnd.jupyter.widget-view+json": {
       "model_id": "80ce15e8e432441181800cbd60df207c",
       "version_major": 2,
       "version_minor": 0
      },
      "text/plain": [
       "ACC features:   0%|          | 0/210 [00:00<?, ?it/s]"
      ]
     },
     "metadata": {},
     "output_type": "display_data"
    },
    {
     "name": "stdout",
     "output_type": "stream",
     "text": [
      "Unable to remove memmapped file\n"
     ]
    },
    {
     "data": {
      "application/vnd.jupyter.widget-view+json": {
       "model_id": "7a32feaa37f7432d9537fd834c6565a1",
       "version_major": 2,
       "version_minor": 0
      },
      "text/plain": [
       "ACC features:   0%|          | 0/210 [00:00<?, ?it/s]"
      ]
     },
     "metadata": {},
     "output_type": "display_data"
    },
    {
     "name": "stdout",
     "output_type": "stream",
     "text": [
      "Unable to remove memmapped file\n"
     ]
    },
    {
     "data": {
      "application/vnd.jupyter.widget-view+json": {
       "model_id": "1e91b13512cf47afad821bec5585e39d",
       "version_major": 2,
       "version_minor": 0
      },
      "text/plain": [
       "ACC features:   0%|          | 0/210 [00:00<?, ?it/s]"
      ]
     },
     "metadata": {},
     "output_type": "display_data"
    },
    {
     "name": "stdout",
     "output_type": "stream",
     "text": [
      "Unable to remove memmapped file\n"
     ]
    },
    {
     "data": {
      "application/vnd.jupyter.widget-view+json": {
       "model_id": "20802584563444bc8d6ecc3779219bbc",
       "version_major": 2,
       "version_minor": 0
      },
      "text/plain": [
       "ACC features:   0%|          | 0/210 [00:00<?, ?it/s]"
      ]
     },
     "metadata": {},
     "output_type": "display_data"
    },
    {
     "name": "stdout",
     "output_type": "stream",
     "text": [
      "Unable to remove memmapped file\n"
     ]
    },
    {
     "data": {
      "application/vnd.jupyter.widget-view+json": {
       "model_id": "cb364897ba7c48809115f36299a84ba8",
       "version_major": 2,
       "version_minor": 0
      },
      "text/plain": [
       "ACC features:   0%|          | 0/210 [00:00<?, ?it/s]"
      ]
     },
     "metadata": {},
     "output_type": "display_data"
    },
    {
     "name": "stdout",
     "output_type": "stream",
     "text": [
      "Unable to remove memmapped file\n"
     ]
    },
    {
     "data": {
      "application/vnd.jupyter.widget-view+json": {
       "model_id": "861ac3d810d04577b436ff6ac555ac0e",
       "version_major": 2,
       "version_minor": 0
      },
      "text/plain": [
       "ACC features:   0%|          | 0/228 [00:00<?, ?it/s]"
      ]
     },
     "metadata": {},
     "output_type": "display_data"
    },
    {
     "name": "stdout",
     "output_type": "stream",
     "text": [
      "Unable to remove memmapped file\n"
     ]
    },
    {
     "data": {
      "application/vnd.jupyter.widget-view+json": {
       "model_id": "b53c52378e7247d5bdf9e9b0882d2bc8",
       "version_major": 2,
       "version_minor": 0
      },
      "text/plain": [
       "ACC features:   0%|          | 0/228 [00:00<?, ?it/s]"
      ]
     },
     "metadata": {},
     "output_type": "display_data"
    },
    {
     "name": "stdout",
     "output_type": "stream",
     "text": [
      "Unable to remove memmapped file\n"
     ]
    },
    {
     "data": {
      "application/vnd.jupyter.widget-view+json": {
       "model_id": "ff73f91898c14497ae2cf7895948bfab",
       "version_major": 2,
       "version_minor": 0
      },
      "text/plain": [
       "ACC features:   0%|          | 0/228 [00:00<?, ?it/s]"
      ]
     },
     "metadata": {},
     "output_type": "display_data"
    },
    {
     "name": "stdout",
     "output_type": "stream",
     "text": [
      "Unable to remove memmapped file\n"
     ]
    },
    {
     "data": {
      "application/vnd.jupyter.widget-view+json": {
       "model_id": "532fc2936d7d4abda0e3e8f5d927cee6",
       "version_major": 2,
       "version_minor": 0
      },
      "text/plain": [
       "ACC features:   0%|          | 0/228 [00:00<?, ?it/s]"
      ]
     },
     "metadata": {},
     "output_type": "display_data"
    },
    {
     "name": "stdout",
     "output_type": "stream",
     "text": [
      "Unable to remove memmapped file\n"
     ]
    },
    {
     "data": {
      "application/vnd.jupyter.widget-view+json": {
       "model_id": "b51e3182c6994882b99525fa6d13c0dc",
       "version_major": 2,
       "version_minor": 0
      },
      "text/plain": [
       "ACC features:   0%|          | 0/228 [00:00<?, ?it/s]"
      ]
     },
     "metadata": {},
     "output_type": "display_data"
    },
    {
     "name": "stdout",
     "output_type": "stream",
     "text": [
      "Unable to remove memmapped file\n"
     ]
    },
    {
     "data": {
      "application/vnd.jupyter.widget-view+json": {
       "model_id": "68b74cb40bd145abbdfd17e52d8af571",
       "version_major": 2,
       "version_minor": 0
      },
      "text/plain": [
       "ACC features:   0%|          | 0/114 [00:00<?, ?it/s]"
      ]
     },
     "metadata": {},
     "output_type": "display_data"
    },
    {
     "name": "stdout",
     "output_type": "stream",
     "text": [
      "Unable to remove memmapped file\n"
     ]
    },
    {
     "data": {
      "application/vnd.jupyter.widget-view+json": {
       "model_id": "97462bf2fb0c428f80ea86b2bf5a212e",
       "version_major": 2,
       "version_minor": 0
      },
      "text/plain": [
       "ACC features:   0%|          | 0/114 [00:00<?, ?it/s]"
      ]
     },
     "metadata": {},
     "output_type": "display_data"
    },
    {
     "name": "stdout",
     "output_type": "stream",
     "text": [
      "Unable to remove memmapped file\n"
     ]
    },
    {
     "data": {
      "application/vnd.jupyter.widget-view+json": {
       "model_id": "0dbcafe78c8c40a28a1b04da9eb496d3",
       "version_major": 2,
       "version_minor": 0
      },
      "text/plain": [
       "ACC features:   0%|          | 0/114 [00:00<?, ?it/s]"
      ]
     },
     "metadata": {},
     "output_type": "display_data"
    },
    {
     "name": "stdout",
     "output_type": "stream",
     "text": [
      "Unable to remove memmapped file\n"
     ]
    },
    {
     "data": {
      "application/vnd.jupyter.widget-view+json": {
       "model_id": "ff9078ee8eb84a668ddafce18a28fa8d",
       "version_major": 2,
       "version_minor": 0
      },
      "text/plain": [
       "ACC features:   0%|          | 0/114 [00:00<?, ?it/s]"
      ]
     },
     "metadata": {},
     "output_type": "display_data"
    },
    {
     "name": "stdout",
     "output_type": "stream",
     "text": [
      "Unable to remove memmapped file\n"
     ]
    },
    {
     "data": {
      "application/vnd.jupyter.widget-view+json": {
       "model_id": "d0c5b1017fd94760b324b4c1f2589d2b",
       "version_major": 2,
       "version_minor": 0
      },
      "text/plain": [
       "ACC features:   0%|          | 0/114 [00:00<?, ?it/s]"
      ]
     },
     "metadata": {},
     "output_type": "display_data"
    },
    {
     "name": "stdout",
     "output_type": "stream",
     "text": [
      "Unable to remove memmapped file\n"
     ]
    },
    {
     "data": {
      "application/vnd.jupyter.widget-view+json": {
       "model_id": "cf5d041adb9f4e86b42580c6593a0c8c",
       "version_major": 2,
       "version_minor": 0
      },
      "text/plain": [
       "ACC features:   0%|          | 0/42 [00:00<?, ?it/s]"
      ]
     },
     "metadata": {},
     "output_type": "display_data"
    },
    {
     "name": "stdout",
     "output_type": "stream",
     "text": [
      "Unable to remove memmapped file\n"
     ]
    },
    {
     "data": {
      "application/vnd.jupyter.widget-view+json": {
       "model_id": "ae9a70f673b44756aaf95a71aa563e91",
       "version_major": 2,
       "version_minor": 0
      },
      "text/plain": [
       "ACC features:   0%|          | 0/42 [00:00<?, ?it/s]"
      ]
     },
     "metadata": {},
     "output_type": "display_data"
    },
    {
     "name": "stdout",
     "output_type": "stream",
     "text": [
      "Unable to remove memmapped file\n"
     ]
    },
    {
     "data": {
      "application/vnd.jupyter.widget-view+json": {
       "model_id": "db805a1e3b39438bb871945bff0d9528",
       "version_major": 2,
       "version_minor": 0
      },
      "text/plain": [
       "ACC features:   0%|          | 0/42 [00:00<?, ?it/s]"
      ]
     },
     "metadata": {},
     "output_type": "display_data"
    },
    {
     "name": "stdout",
     "output_type": "stream",
     "text": [
      "Unable to remove memmapped file\n"
     ]
    },
    {
     "data": {
      "application/vnd.jupyter.widget-view+json": {
       "model_id": "dd8c1a6fde1b4512b0ef8b278bfb304d",
       "version_major": 2,
       "version_minor": 0
      },
      "text/plain": [
       "ACC features:   0%|          | 0/42 [00:00<?, ?it/s]"
      ]
     },
     "metadata": {},
     "output_type": "display_data"
    },
    {
     "name": "stdout",
     "output_type": "stream",
     "text": [
      "Unable to remove memmapped file\n"
     ]
    },
    {
     "data": {
      "application/vnd.jupyter.widget-view+json": {
       "model_id": "55ee00a7b89b4509b56b64312526bc9e",
       "version_major": 2,
       "version_minor": 0
      },
      "text/plain": [
       "ACC features:   0%|          | 0/42 [00:00<?, ?it/s]"
      ]
     },
     "metadata": {},
     "output_type": "display_data"
    },
    {
     "name": "stdout",
     "output_type": "stream",
     "text": [
      "Unable to remove memmapped file\n"
     ]
    },
    {
     "data": {
      "application/vnd.jupyter.widget-view+json": {
       "model_id": "b2a8af5a243d46e890c31a24efb471b1",
       "version_major": 2,
       "version_minor": 0
      },
      "text/plain": [
       "ACC features:   0%|          | 0/84 [00:00<?, ?it/s]"
      ]
     },
     "metadata": {},
     "output_type": "display_data"
    },
    {
     "name": "stdout",
     "output_type": "stream",
     "text": [
      "Unable to remove memmapped file\n"
     ]
    },
    {
     "data": {
      "application/vnd.jupyter.widget-view+json": {
       "model_id": "ab973f2457b140cdbdd761f8509cedb9",
       "version_major": 2,
       "version_minor": 0
      },
      "text/plain": [
       "ACC features:   0%|          | 0/84 [00:00<?, ?it/s]"
      ]
     },
     "metadata": {},
     "output_type": "display_data"
    },
    {
     "name": "stdout",
     "output_type": "stream",
     "text": [
      "Unable to remove memmapped file\n"
     ]
    },
    {
     "data": {
      "application/vnd.jupyter.widget-view+json": {
       "model_id": "597565a536a64e4abdf7581a6fc10919",
       "version_major": 2,
       "version_minor": 0
      },
      "text/plain": [
       "ACC features:   0%|          | 0/84 [00:00<?, ?it/s]"
      ]
     },
     "metadata": {},
     "output_type": "display_data"
    },
    {
     "name": "stdout",
     "output_type": "stream",
     "text": [
      "Unable to remove memmapped file\n"
     ]
    },
    {
     "data": {
      "application/vnd.jupyter.widget-view+json": {
       "model_id": "aa92f69f8d3c49b5a8deb4e0b316ebe7",
       "version_major": 2,
       "version_minor": 0
      },
      "text/plain": [
       "ACC features:   0%|          | 0/84 [00:00<?, ?it/s]"
      ]
     },
     "metadata": {},
     "output_type": "display_data"
    },
    {
     "name": "stdout",
     "output_type": "stream",
     "text": [
      "Unable to remove memmapped file\n"
     ]
    },
    {
     "data": {
      "application/vnd.jupyter.widget-view+json": {
       "model_id": "dc8b4c9350504d01b3f470b5513f4f83",
       "version_major": 2,
       "version_minor": 0
      },
      "text/plain": [
       "ACC features:   0%|          | 0/84 [00:00<?, ?it/s]"
      ]
     },
     "metadata": {},
     "output_type": "display_data"
    },
    {
     "name": "stdout",
     "output_type": "stream",
     "text": [
      "Unable to remove memmapped file\n"
     ]
    },
    {
     "data": {
      "application/vnd.jupyter.widget-view+json": {
       "model_id": "1bd63243680f48d98dbb97e6d2f80c93",
       "version_major": 2,
       "version_minor": 0
      },
      "text/plain": [
       "ACC features:   0%|          | 0/42 [00:00<?, ?it/s]"
      ]
     },
     "metadata": {},
     "output_type": "display_data"
    },
    {
     "name": "stdout",
     "output_type": "stream",
     "text": [
      "Unable to remove memmapped file\n"
     ]
    },
    {
     "data": {
      "application/vnd.jupyter.widget-view+json": {
       "model_id": "c4f0b6ced4604b3ba92d218916bddf08",
       "version_major": 2,
       "version_minor": 0
      },
      "text/plain": [
       "ACC features:   0%|          | 0/42 [00:00<?, ?it/s]"
      ]
     },
     "metadata": {},
     "output_type": "display_data"
    },
    {
     "name": "stdout",
     "output_type": "stream",
     "text": [
      "Unable to remove memmapped file\n"
     ]
    },
    {
     "data": {
      "application/vnd.jupyter.widget-view+json": {
       "model_id": "b3160cf4cfd94ea685d4f08739752ff8",
       "version_major": 2,
       "version_minor": 0
      },
      "text/plain": [
       "ACC features:   0%|          | 0/42 [00:00<?, ?it/s]"
      ]
     },
     "metadata": {},
     "output_type": "display_data"
    },
    {
     "name": "stdout",
     "output_type": "stream",
     "text": [
      "Unable to remove memmapped file\n"
     ]
    },
    {
     "data": {
      "application/vnd.jupyter.widget-view+json": {
       "model_id": "934b25eb1e7d4078b480650f2e17ea7f",
       "version_major": 2,
       "version_minor": 0
      },
      "text/plain": [
       "ACC features:   0%|          | 0/42 [00:00<?, ?it/s]"
      ]
     },
     "metadata": {},
     "output_type": "display_data"
    },
    {
     "name": "stdout",
     "output_type": "stream",
     "text": [
      "Unable to remove memmapped file\n"
     ]
    },
    {
     "data": {
      "application/vnd.jupyter.widget-view+json": {
       "model_id": "e2dc7db4eb454e6b84d8712fe3800fe1",
       "version_major": 2,
       "version_minor": 0
      },
      "text/plain": [
       "ACC features:   0%|          | 0/42 [00:00<?, ?it/s]"
      ]
     },
     "metadata": {},
     "output_type": "display_data"
    },
    {
     "name": "stdout",
     "output_type": "stream",
     "text": [
      "Unable to remove memmapped file\n"
     ]
    },
    {
     "data": {
      "application/vnd.jupyter.widget-view+json": {
       "model_id": "bad42ee01a9044ad8e24278cdec96879",
       "version_major": 2,
       "version_minor": 0
      },
      "text/plain": [
       "ACC features:   0%|          | 0/84 [00:00<?, ?it/s]"
      ]
     },
     "metadata": {},
     "output_type": "display_data"
    },
    {
     "name": "stdout",
     "output_type": "stream",
     "text": [
      "Unable to remove memmapped file\n"
     ]
    },
    {
     "data": {
      "application/vnd.jupyter.widget-view+json": {
       "model_id": "189fb3b774014dfca44dac696bb749ef",
       "version_major": 2,
       "version_minor": 0
      },
      "text/plain": [
       "ACC features:   0%|          | 0/84 [00:00<?, ?it/s]"
      ]
     },
     "metadata": {},
     "output_type": "display_data"
    },
    {
     "name": "stdout",
     "output_type": "stream",
     "text": [
      "Unable to remove memmapped file\n"
     ]
    },
    {
     "data": {
      "application/vnd.jupyter.widget-view+json": {
       "model_id": "61d0d11ef6fd4d4da8e7726b17cf69f9",
       "version_major": 2,
       "version_minor": 0
      },
      "text/plain": [
       "ACC features:   0%|          | 0/84 [00:00<?, ?it/s]"
      ]
     },
     "metadata": {},
     "output_type": "display_data"
    },
    {
     "name": "stdout",
     "output_type": "stream",
     "text": [
      "Unable to remove memmapped file\n"
     ]
    },
    {
     "data": {
      "application/vnd.jupyter.widget-view+json": {
       "model_id": "ef911db400c6433f962f06ab89811a6d",
       "version_major": 2,
       "version_minor": 0
      },
      "text/plain": [
       "ACC features:   0%|          | 0/84 [00:00<?, ?it/s]"
      ]
     },
     "metadata": {},
     "output_type": "display_data"
    },
    {
     "name": "stdout",
     "output_type": "stream",
     "text": [
      "Unable to remove memmapped file\n"
     ]
    },
    {
     "data": {
      "application/vnd.jupyter.widget-view+json": {
       "model_id": "d9e285d4c24b41ba9be72e8c8619040b",
       "version_major": 2,
       "version_minor": 0
      },
      "text/plain": [
       "ACC features:   0%|          | 0/84 [00:00<?, ?it/s]"
      ]
     },
     "metadata": {},
     "output_type": "display_data"
    },
    {
     "name": "stdout",
     "output_type": "stream",
     "text": [
      "Unable to remove memmapped file\n"
     ]
    },
    {
     "data": {
      "application/vnd.jupyter.widget-view+json": {
       "model_id": "49ed36225e8f4a0296000f526dafb01e",
       "version_major": 2,
       "version_minor": 0
      },
      "text/plain": [
       "ACC features:   0%|          | 0/276 [00:00<?, ?it/s]"
      ]
     },
     "metadata": {},
     "output_type": "display_data"
    },
    {
     "name": "stdout",
     "output_type": "stream",
     "text": [
      "Unable to remove memmapped file\n"
     ]
    },
    {
     "data": {
      "application/vnd.jupyter.widget-view+json": {
       "model_id": "0fd7ee31fc4c4eeb897a95db612fa460",
       "version_major": 2,
       "version_minor": 0
      },
      "text/plain": [
       "ACC features:   0%|          | 0/276 [00:00<?, ?it/s]"
      ]
     },
     "metadata": {},
     "output_type": "display_data"
    },
    {
     "name": "stdout",
     "output_type": "stream",
     "text": [
      "Unable to remove memmapped file\n"
     ]
    },
    {
     "data": {
      "application/vnd.jupyter.widget-view+json": {
       "model_id": "a87a48efcf7b4db2b3bbfcbc84e20e4d",
       "version_major": 2,
       "version_minor": 0
      },
      "text/plain": [
       "ACC features:   0%|          | 0/276 [00:00<?, ?it/s]"
      ]
     },
     "metadata": {},
     "output_type": "display_data"
    },
    {
     "name": "stdout",
     "output_type": "stream",
     "text": [
      "Unable to remove memmapped file\n"
     ]
    },
    {
     "data": {
      "application/vnd.jupyter.widget-view+json": {
       "model_id": "55fd0269c1fc4842a3b09a4e0384e9ad",
       "version_major": 2,
       "version_minor": 0
      },
      "text/plain": [
       "ACC features:   0%|          | 0/276 [00:00<?, ?it/s]"
      ]
     },
     "metadata": {},
     "output_type": "display_data"
    },
    {
     "name": "stdout",
     "output_type": "stream",
     "text": [
      "Unable to remove memmapped file\n"
     ]
    },
    {
     "data": {
      "application/vnd.jupyter.widget-view+json": {
       "model_id": "719e2a96b285457d92d937fa1e79cbd0",
       "version_major": 2,
       "version_minor": 0
      },
      "text/plain": [
       "ACC features:   0%|          | 0/276 [00:00<?, ?it/s]"
      ]
     },
     "metadata": {},
     "output_type": "display_data"
    },
    {
     "name": "stdout",
     "output_type": "stream",
     "text": [
      "Unable to remove memmapped file\n"
     ]
    },
    {
     "data": {
      "application/vnd.jupyter.widget-view+json": {
       "model_id": "044418f5e97646089db3dad45893fbd9",
       "version_major": 2,
       "version_minor": 0
      },
      "text/plain": [
       "ACC features:   0%|          | 0/642 [00:00<?, ?it/s]"
      ]
     },
     "metadata": {},
     "output_type": "display_data"
    },
    {
     "name": "stdout",
     "output_type": "stream",
     "text": [
      "Unable to remove memmapped file\n"
     ]
    },
    {
     "data": {
      "application/vnd.jupyter.widget-view+json": {
       "model_id": "2bc925eeca6646efa600b7cd33812aea",
       "version_major": 2,
       "version_minor": 0
      },
      "text/plain": [
       "ACC features:   0%|          | 0/642 [00:00<?, ?it/s]"
      ]
     },
     "metadata": {},
     "output_type": "display_data"
    },
    {
     "name": "stdout",
     "output_type": "stream",
     "text": [
      "Unable to remove memmapped file\n"
     ]
    },
    {
     "data": {
      "application/vnd.jupyter.widget-view+json": {
       "model_id": "a9ea8cb817c742a6af77a46340853824",
       "version_major": 2,
       "version_minor": 0
      },
      "text/plain": [
       "ACC features:   0%|          | 0/642 [00:00<?, ?it/s]"
      ]
     },
     "metadata": {},
     "output_type": "display_data"
    },
    {
     "name": "stdout",
     "output_type": "stream",
     "text": [
      "Unable to remove memmapped file\n"
     ]
    },
    {
     "data": {
      "application/vnd.jupyter.widget-view+json": {
       "model_id": "85c0e27e301b4b61b490988074d0cbf0",
       "version_major": 2,
       "version_minor": 0
      },
      "text/plain": [
       "ACC features:   0%|          | 0/642 [00:00<?, ?it/s]"
      ]
     },
     "metadata": {},
     "output_type": "display_data"
    },
    {
     "name": "stdout",
     "output_type": "stream",
     "text": [
      "Unable to remove memmapped file\n"
     ]
    },
    {
     "data": {
      "application/vnd.jupyter.widget-view+json": {
       "model_id": "693ff13bc2364be4af4d7bea184dd177",
       "version_major": 2,
       "version_minor": 0
      },
      "text/plain": [
       "ACC features:   0%|          | 0/642 [00:00<?, ?it/s]"
      ]
     },
     "metadata": {},
     "output_type": "display_data"
    },
    {
     "name": "stdout",
     "output_type": "stream",
     "text": [
      "Unable to remove memmapped file\n"
     ]
    },
    {
     "data": {
      "application/vnd.jupyter.widget-view+json": {
       "model_id": "5650daf846c54b53a46daa22cdc34db9",
       "version_major": 2,
       "version_minor": 0
      },
      "text/plain": [
       "ACC features:   0%|          | 0/510 [00:00<?, ?it/s]"
      ]
     },
     "metadata": {},
     "output_type": "display_data"
    },
    {
     "name": "stdout",
     "output_type": "stream",
     "text": [
      "Unable to remove memmapped file\n"
     ]
    },
    {
     "data": {
      "application/vnd.jupyter.widget-view+json": {
       "model_id": "5d797c1a284144a2afc7ee3412748d2e",
       "version_major": 2,
       "version_minor": 0
      },
      "text/plain": [
       "ACC features:   0%|          | 0/510 [00:00<?, ?it/s]"
      ]
     },
     "metadata": {},
     "output_type": "display_data"
    },
    {
     "name": "stdout",
     "output_type": "stream",
     "text": [
      "Unable to remove memmapped file\n"
     ]
    },
    {
     "data": {
      "application/vnd.jupyter.widget-view+json": {
       "model_id": "d228118f20024899a26858f280de8c99",
       "version_major": 2,
       "version_minor": 0
      },
      "text/plain": [
       "ACC features:   0%|          | 0/510 [00:00<?, ?it/s]"
      ]
     },
     "metadata": {},
     "output_type": "display_data"
    },
    {
     "name": "stdout",
     "output_type": "stream",
     "text": [
      "Unable to remove memmapped file\n"
     ]
    },
    {
     "data": {
      "application/vnd.jupyter.widget-view+json": {
       "model_id": "afc2cc1cea8c49ddb1dbbe207de600da",
       "version_major": 2,
       "version_minor": 0
      },
      "text/plain": [
       "ACC features:   0%|          | 0/510 [00:00<?, ?it/s]"
      ]
     },
     "metadata": {},
     "output_type": "display_data"
    },
    {
     "name": "stdout",
     "output_type": "stream",
     "text": [
      "Unable to remove memmapped file\n"
     ]
    },
    {
     "data": {
      "application/vnd.jupyter.widget-view+json": {
       "model_id": "4ff50b8f3dfc46fa84b9b3295f4916cf",
       "version_major": 2,
       "version_minor": 0
      },
      "text/plain": [
       "ACC features:   0%|          | 0/510 [00:00<?, ?it/s]"
      ]
     },
     "metadata": {},
     "output_type": "display_data"
    },
    {
     "name": "stdout",
     "output_type": "stream",
     "text": [
      "Unable to remove memmapped file\n"
     ]
    },
    {
     "data": {
      "application/vnd.jupyter.widget-view+json": {
       "model_id": "2f1a415e87ca4994b1aeb6905f10d33f",
       "version_major": 2,
       "version_minor": 0
      },
      "text/plain": [
       "ACC features:   0%|          | 0/84 [00:00<?, ?it/s]"
      ]
     },
     "metadata": {},
     "output_type": "display_data"
    },
    {
     "name": "stdout",
     "output_type": "stream",
     "text": [
      "Unable to remove memmapped file\n"
     ]
    },
    {
     "data": {
      "application/vnd.jupyter.widget-view+json": {
       "model_id": "51b3281dedfd4d85b02223d52f03b166",
       "version_major": 2,
       "version_minor": 0
      },
      "text/plain": [
       "ACC features:   0%|          | 0/84 [00:00<?, ?it/s]"
      ]
     },
     "metadata": {},
     "output_type": "display_data"
    },
    {
     "name": "stdout",
     "output_type": "stream",
     "text": [
      "Unable to remove memmapped file\n"
     ]
    },
    {
     "data": {
      "application/vnd.jupyter.widget-view+json": {
       "model_id": "46e4821922874c54aae3b5da7ebb0cfd",
       "version_major": 2,
       "version_minor": 0
      },
      "text/plain": [
       "ACC features:   0%|          | 0/84 [00:00<?, ?it/s]"
      ]
     },
     "metadata": {},
     "output_type": "display_data"
    },
    {
     "name": "stdout",
     "output_type": "stream",
     "text": [
      "Unable to remove memmapped file\n"
     ]
    },
    {
     "data": {
      "application/vnd.jupyter.widget-view+json": {
       "model_id": "73c4d1ac111a47ac9a9cf6a68e91f10f",
       "version_major": 2,
       "version_minor": 0
      },
      "text/plain": [
       "ACC features:   0%|          | 0/84 [00:00<?, ?it/s]"
      ]
     },
     "metadata": {},
     "output_type": "display_data"
    },
    {
     "name": "stdout",
     "output_type": "stream",
     "text": [
      "Unable to remove memmapped file\n"
     ]
    },
    {
     "data": {
      "application/vnd.jupyter.widget-view+json": {
       "model_id": "78640d3844f74a04a008f3fcd4e04615",
       "version_major": 2,
       "version_minor": 0
      },
      "text/plain": [
       "ACC features:   0%|          | 0/84 [00:00<?, ?it/s]"
      ]
     },
     "metadata": {},
     "output_type": "display_data"
    },
    {
     "name": "stdout",
     "output_type": "stream",
     "text": [
      "Unable to remove memmapped file\n"
     ]
    },
    {
     "data": {
      "application/vnd.jupyter.widget-view+json": {
       "model_id": "5c03b7145a7846dd9b9cec715bda3b8b",
       "version_major": 2,
       "version_minor": 0
      },
      "text/plain": [
       "ACC features:   0%|          | 0/114 [00:00<?, ?it/s]"
      ]
     },
     "metadata": {},
     "output_type": "display_data"
    },
    {
     "name": "stdout",
     "output_type": "stream",
     "text": [
      "Unable to remove memmapped file\n"
     ]
    },
    {
     "data": {
      "application/vnd.jupyter.widget-view+json": {
       "model_id": "82cced1e92c94bd1a229f4324af5b551",
       "version_major": 2,
       "version_minor": 0
      },
      "text/plain": [
       "ACC features:   0%|          | 0/114 [00:00<?, ?it/s]"
      ]
     },
     "metadata": {},
     "output_type": "display_data"
    },
    {
     "name": "stdout",
     "output_type": "stream",
     "text": [
      "Unable to remove memmapped file\n"
     ]
    },
    {
     "data": {
      "application/vnd.jupyter.widget-view+json": {
       "model_id": "b34c9471bbb64889a763fbb7062e9e58",
       "version_major": 2,
       "version_minor": 0
      },
      "text/plain": [
       "ACC features:   0%|          | 0/114 [00:00<?, ?it/s]"
      ]
     },
     "metadata": {},
     "output_type": "display_data"
    },
    {
     "name": "stdout",
     "output_type": "stream",
     "text": [
      "Unable to remove memmapped file\n"
     ]
    },
    {
     "data": {
      "application/vnd.jupyter.widget-view+json": {
       "model_id": "d376682fa55f4f48a89d9d717f98d6df",
       "version_major": 2,
       "version_minor": 0
      },
      "text/plain": [
       "ACC features:   0%|          | 0/114 [00:00<?, ?it/s]"
      ]
     },
     "metadata": {},
     "output_type": "display_data"
    },
    {
     "name": "stdout",
     "output_type": "stream",
     "text": [
      "Unable to remove memmapped file\n"
     ]
    },
    {
     "data": {
      "application/vnd.jupyter.widget-view+json": {
       "model_id": "d4a61215fc3f4e94891f311647d732f5",
       "version_major": 2,
       "version_minor": 0
      },
      "text/plain": [
       "ACC features:   0%|          | 0/114 [00:00<?, ?it/s]"
      ]
     },
     "metadata": {},
     "output_type": "display_data"
    },
    {
     "name": "stdout",
     "output_type": "stream",
     "text": [
      "Unable to remove memmapped file\n"
     ]
    },
    {
     "data": {
      "application/vnd.jupyter.widget-view+json": {
       "model_id": "efb8ebc1e2c04eaba87f900ad8f0ac81",
       "version_major": 2,
       "version_minor": 0
      },
      "text/plain": [
       "ACC features:   0%|          | 0/162 [00:00<?, ?it/s]"
      ]
     },
     "metadata": {},
     "output_type": "display_data"
    },
    {
     "name": "stdout",
     "output_type": "stream",
     "text": [
      "Unable to remove memmapped file\n"
     ]
    },
    {
     "data": {
      "application/vnd.jupyter.widget-view+json": {
       "model_id": "b8e63f47617e42279e62c31f99bb3e82",
       "version_major": 2,
       "version_minor": 0
      },
      "text/plain": [
       "ACC features:   0%|          | 0/162 [00:00<?, ?it/s]"
      ]
     },
     "metadata": {},
     "output_type": "display_data"
    },
    {
     "name": "stdout",
     "output_type": "stream",
     "text": [
      "Unable to remove memmapped file\n"
     ]
    },
    {
     "data": {
      "application/vnd.jupyter.widget-view+json": {
       "model_id": "4ce891f031d64690b826f40fc84b5787",
       "version_major": 2,
       "version_minor": 0
      },
      "text/plain": [
       "ACC features:   0%|          | 0/162 [00:00<?, ?it/s]"
      ]
     },
     "metadata": {},
     "output_type": "display_data"
    },
    {
     "name": "stdout",
     "output_type": "stream",
     "text": [
      "Unable to remove memmapped file\n"
     ]
    },
    {
     "data": {
      "application/vnd.jupyter.widget-view+json": {
       "model_id": "790b503f0391448583bb3d95bf36059d",
       "version_major": 2,
       "version_minor": 0
      },
      "text/plain": [
       "ACC features:   0%|          | 0/162 [00:00<?, ?it/s]"
      ]
     },
     "metadata": {},
     "output_type": "display_data"
    },
    {
     "name": "stdout",
     "output_type": "stream",
     "text": [
      "Unable to remove memmapped file\n"
     ]
    },
    {
     "data": {
      "application/vnd.jupyter.widget-view+json": {
       "model_id": "bbb50fac3ac84aa6aa8674f25ffab8cd",
       "version_major": 2,
       "version_minor": 0
      },
      "text/plain": [
       "ACC features:   0%|          | 0/162 [00:00<?, ?it/s]"
      ]
     },
     "metadata": {},
     "output_type": "display_data"
    },
    {
     "name": "stdout",
     "output_type": "stream",
     "text": [
      "Unable to remove memmapped file\n"
     ]
    },
    {
     "data": {
      "application/vnd.jupyter.widget-view+json": {
       "model_id": "24df03f30e524d96952be4bd7a422482",
       "version_major": 2,
       "version_minor": 0
      },
      "text/plain": [
       "ACC features:   0%|          | 0/270 [00:00<?, ?it/s]"
      ]
     },
     "metadata": {},
     "output_type": "display_data"
    },
    {
     "name": "stdout",
     "output_type": "stream",
     "text": [
      "Unable to remove memmapped file\n"
     ]
    },
    {
     "data": {
      "application/vnd.jupyter.widget-view+json": {
       "model_id": "6d1d25a924c949efad46d78d723300e2",
       "version_major": 2,
       "version_minor": 0
      },
      "text/plain": [
       "ACC features:   0%|          | 0/270 [00:00<?, ?it/s]"
      ]
     },
     "metadata": {},
     "output_type": "display_data"
    },
    {
     "name": "stdout",
     "output_type": "stream",
     "text": [
      "Unable to remove memmapped file\n"
     ]
    },
    {
     "data": {
      "application/vnd.jupyter.widget-view+json": {
       "model_id": "7cc5be32027142d8984bc071fb1ddea1",
       "version_major": 2,
       "version_minor": 0
      },
      "text/plain": [
       "ACC features:   0%|          | 0/270 [00:00<?, ?it/s]"
      ]
     },
     "metadata": {},
     "output_type": "display_data"
    },
    {
     "name": "stdout",
     "output_type": "stream",
     "text": [
      "Unable to remove memmapped file\n"
     ]
    },
    {
     "data": {
      "application/vnd.jupyter.widget-view+json": {
       "model_id": "eab7e5fc764f4c21bb1143020cf96ed5",
       "version_major": 2,
       "version_minor": 0
      },
      "text/plain": [
       "ACC features:   0%|          | 0/270 [00:00<?, ?it/s]"
      ]
     },
     "metadata": {},
     "output_type": "display_data"
    },
    {
     "name": "stdout",
     "output_type": "stream",
     "text": [
      "Unable to remove memmapped file\n"
     ]
    },
    {
     "data": {
      "application/vnd.jupyter.widget-view+json": {
       "model_id": "20093fb9a5144390bb59878658831de6",
       "version_major": 2,
       "version_minor": 0
      },
      "text/plain": [
       "ACC features:   0%|          | 0/270 [00:00<?, ?it/s]"
      ]
     },
     "metadata": {},
     "output_type": "display_data"
    },
    {
     "name": "stdout",
     "output_type": "stream",
     "text": [
      "Unable to remove memmapped file\n"
     ]
    },
    {
     "data": {
      "application/vnd.jupyter.widget-view+json": {
       "model_id": "fd8706af9f81480da0b171d162c8bdf8",
       "version_major": 2,
       "version_minor": 0
      },
      "text/plain": [
       "ACC features:   0%|          | 0/654 [00:00<?, ?it/s]"
      ]
     },
     "metadata": {},
     "output_type": "display_data"
    },
    {
     "name": "stdout",
     "output_type": "stream",
     "text": [
      "Unable to remove memmapped file\n"
     ]
    },
    {
     "data": {
      "application/vnd.jupyter.widget-view+json": {
       "model_id": "d43103d2ebd94b6aac3625ad62ffeb2a",
       "version_major": 2,
       "version_minor": 0
      },
      "text/plain": [
       "ACC features:   0%|          | 0/654 [00:00<?, ?it/s]"
      ]
     },
     "metadata": {},
     "output_type": "display_data"
    },
    {
     "name": "stdout",
     "output_type": "stream",
     "text": [
      "Unable to remove memmapped file\n"
     ]
    },
    {
     "data": {
      "application/vnd.jupyter.widget-view+json": {
       "model_id": "d3b170369f1045b5a40329e41a0a85c1",
       "version_major": 2,
       "version_minor": 0
      },
      "text/plain": [
       "ACC features:   0%|          | 0/654 [00:00<?, ?it/s]"
      ]
     },
     "metadata": {},
     "output_type": "display_data"
    },
    {
     "name": "stdout",
     "output_type": "stream",
     "text": [
      "Unable to remove memmapped file\n"
     ]
    },
    {
     "data": {
      "application/vnd.jupyter.widget-view+json": {
       "model_id": "807640f56cf54ab685c0cd11b823bc39",
       "version_major": 2,
       "version_minor": 0
      },
      "text/plain": [
       "ACC features:   0%|          | 0/654 [00:00<?, ?it/s]"
      ]
     },
     "metadata": {},
     "output_type": "display_data"
    },
    {
     "name": "stdout",
     "output_type": "stream",
     "text": [
      "Unable to remove memmapped file\n"
     ]
    },
    {
     "data": {
      "application/vnd.jupyter.widget-view+json": {
       "model_id": "d50408632744488cbfcfa7c876db2059",
       "version_major": 2,
       "version_minor": 0
      },
      "text/plain": [
       "ACC features:   0%|          | 0/654 [00:00<?, ?it/s]"
      ]
     },
     "metadata": {},
     "output_type": "display_data"
    },
    {
     "name": "stdout",
     "output_type": "stream",
     "text": [
      "Unable to remove memmapped file\n"
     ]
    },
    {
     "data": {
      "application/vnd.jupyter.widget-view+json": {
       "model_id": "e13de6abf1e3416c9f74da8d2429a426",
       "version_major": 2,
       "version_minor": 0
      },
      "text/plain": [
       "ACC features:   0%|          | 0/144 [00:00<?, ?it/s]"
      ]
     },
     "metadata": {},
     "output_type": "display_data"
    },
    {
     "name": "stdout",
     "output_type": "stream",
     "text": [
      "Unable to remove memmapped file\n"
     ]
    },
    {
     "data": {
      "application/vnd.jupyter.widget-view+json": {
       "model_id": "a4812b11b04e4e8ebb529cc383c10e0c",
       "version_major": 2,
       "version_minor": 0
      },
      "text/plain": [
       "ACC features:   0%|          | 0/144 [00:00<?, ?it/s]"
      ]
     },
     "metadata": {},
     "output_type": "display_data"
    },
    {
     "name": "stdout",
     "output_type": "stream",
     "text": [
      "Unable to remove memmapped file\n"
     ]
    },
    {
     "data": {
      "application/vnd.jupyter.widget-view+json": {
       "model_id": "1ba6907179a0439cb4418e38779d24d6",
       "version_major": 2,
       "version_minor": 0
      },
      "text/plain": [
       "ACC features:   0%|          | 0/144 [00:00<?, ?it/s]"
      ]
     },
     "metadata": {},
     "output_type": "display_data"
    },
    {
     "name": "stdout",
     "output_type": "stream",
     "text": [
      "Unable to remove memmapped file\n"
     ]
    },
    {
     "data": {
      "application/vnd.jupyter.widget-view+json": {
       "model_id": "6fa92ba37c1049c8a0f0c633a5c60bc3",
       "version_major": 2,
       "version_minor": 0
      },
      "text/plain": [
       "ACC features:   0%|          | 0/144 [00:00<?, ?it/s]"
      ]
     },
     "metadata": {},
     "output_type": "display_data"
    },
    {
     "name": "stdout",
     "output_type": "stream",
     "text": [
      "Unable to remove memmapped file\n"
     ]
    },
    {
     "data": {
      "application/vnd.jupyter.widget-view+json": {
       "model_id": "d2fa0262805a4edd861a0d6ad96e3060",
       "version_major": 2,
       "version_minor": 0
      },
      "text/plain": [
       "ACC features:   0%|          | 0/144 [00:00<?, ?it/s]"
      ]
     },
     "metadata": {},
     "output_type": "display_data"
    },
    {
     "name": "stdout",
     "output_type": "stream",
     "text": [
      "Unable to remove memmapped file\n"
     ]
    },
    {
     "data": {
      "application/vnd.jupyter.widget-view+json": {
       "model_id": "6fbab99686b5402e89ef3b2df853547f",
       "version_major": 2,
       "version_minor": 0
      },
      "text/plain": [
       "ACC features:   0%|          | 0/96 [00:00<?, ?it/s]"
      ]
     },
     "metadata": {},
     "output_type": "display_data"
    },
    {
     "name": "stdout",
     "output_type": "stream",
     "text": [
      "Unable to remove memmapped file\n"
     ]
    },
    {
     "data": {
      "application/vnd.jupyter.widget-view+json": {
       "model_id": "5470e5cfb5d64edcae31f4a2073417d6",
       "version_major": 2,
       "version_minor": 0
      },
      "text/plain": [
       "ACC features:   0%|          | 0/96 [00:00<?, ?it/s]"
      ]
     },
     "metadata": {},
     "output_type": "display_data"
    },
    {
     "name": "stdout",
     "output_type": "stream",
     "text": [
      "Unable to remove memmapped file\n"
     ]
    },
    {
     "data": {
      "application/vnd.jupyter.widget-view+json": {
       "model_id": "7e641a70cfa645d4be2d96615760610d",
       "version_major": 2,
       "version_minor": 0
      },
      "text/plain": [
       "ACC features:   0%|          | 0/96 [00:00<?, ?it/s]"
      ]
     },
     "metadata": {},
     "output_type": "display_data"
    },
    {
     "name": "stdout",
     "output_type": "stream",
     "text": [
      "Unable to remove memmapped file\n"
     ]
    },
    {
     "data": {
      "application/vnd.jupyter.widget-view+json": {
       "model_id": "0bd969c5fced45d085aed18a21652a78",
       "version_major": 2,
       "version_minor": 0
      },
      "text/plain": [
       "ACC features:   0%|          | 0/96 [00:00<?, ?it/s]"
      ]
     },
     "metadata": {},
     "output_type": "display_data"
    },
    {
     "name": "stdout",
     "output_type": "stream",
     "text": [
      "Unable to remove memmapped file\n"
     ]
    },
    {
     "data": {
      "application/vnd.jupyter.widget-view+json": {
       "model_id": "bcbfeff756a5421a9795bf033436ecba",
       "version_major": 2,
       "version_minor": 0
      },
      "text/plain": [
       "ACC features:   0%|          | 0/96 [00:00<?, ?it/s]"
      ]
     },
     "metadata": {},
     "output_type": "display_data"
    },
    {
     "name": "stdout",
     "output_type": "stream",
     "text": [
      "Unable to remove memmapped file\n"
     ]
    },
    {
     "data": {
      "application/vnd.jupyter.widget-view+json": {
       "model_id": "753e10716fb94fcca6ee1541f3889ee6",
       "version_major": 2,
       "version_minor": 0
      },
      "text/plain": [
       "ACC features:   0%|          | 0/42 [00:00<?, ?it/s]"
      ]
     },
     "metadata": {},
     "output_type": "display_data"
    },
    {
     "name": "stdout",
     "output_type": "stream",
     "text": [
      "Unable to remove memmapped file\n"
     ]
    },
    {
     "data": {
      "application/vnd.jupyter.widget-view+json": {
       "model_id": "19f86b7477e14fb2b74ac107b58a2876",
       "version_major": 2,
       "version_minor": 0
      },
      "text/plain": [
       "ACC features:   0%|          | 0/42 [00:00<?, ?it/s]"
      ]
     },
     "metadata": {},
     "output_type": "display_data"
    },
    {
     "name": "stdout",
     "output_type": "stream",
     "text": [
      "Unable to remove memmapped file\n"
     ]
    },
    {
     "data": {
      "application/vnd.jupyter.widget-view+json": {
       "model_id": "57d28bfb412b4b4da9b3279563a1973b",
       "version_major": 2,
       "version_minor": 0
      },
      "text/plain": [
       "ACC features:   0%|          | 0/42 [00:00<?, ?it/s]"
      ]
     },
     "metadata": {},
     "output_type": "display_data"
    },
    {
     "name": "stdout",
     "output_type": "stream",
     "text": [
      "Unable to remove memmapped file\n"
     ]
    },
    {
     "data": {
      "application/vnd.jupyter.widget-view+json": {
       "model_id": "13251ef3bcb942db8fb28cd047bac20b",
       "version_major": 2,
       "version_minor": 0
      },
      "text/plain": [
       "ACC features:   0%|          | 0/42 [00:00<?, ?it/s]"
      ]
     },
     "metadata": {},
     "output_type": "display_data"
    },
    {
     "name": "stdout",
     "output_type": "stream",
     "text": [
      "Unable to remove memmapped file\n"
     ]
    },
    {
     "data": {
      "application/vnd.jupyter.widget-view+json": {
       "model_id": "90006a2116b740c6a9b0a8979972f1c4",
       "version_major": 2,
       "version_minor": 0
      },
      "text/plain": [
       "ACC features:   0%|          | 0/42 [00:00<?, ?it/s]"
      ]
     },
     "metadata": {},
     "output_type": "display_data"
    },
    {
     "name": "stdout",
     "output_type": "stream",
     "text": [
      "Unable to remove memmapped file\n"
     ]
    },
    {
     "data": {
      "application/vnd.jupyter.widget-view+json": {
       "model_id": "5805e2e85b4e4d428ff58f99150b3674",
       "version_major": 2,
       "version_minor": 0
      },
      "text/plain": [
       "ACC features:   0%|          | 0/96 [00:00<?, ?it/s]"
      ]
     },
     "metadata": {},
     "output_type": "display_data"
    },
    {
     "name": "stdout",
     "output_type": "stream",
     "text": [
      "Unable to remove memmapped file\n"
     ]
    },
    {
     "data": {
      "application/vnd.jupyter.widget-view+json": {
       "model_id": "1cd2998fe1ac4e7e984c4f2f51e38d95",
       "version_major": 2,
       "version_minor": 0
      },
      "text/plain": [
       "ACC features:   0%|          | 0/96 [00:00<?, ?it/s]"
      ]
     },
     "metadata": {},
     "output_type": "display_data"
    },
    {
     "name": "stdout",
     "output_type": "stream",
     "text": [
      "Unable to remove memmapped file\n"
     ]
    },
    {
     "data": {
      "application/vnd.jupyter.widget-view+json": {
       "model_id": "8aabfcc9d3214678adb61a36158729eb",
       "version_major": 2,
       "version_minor": 0
      },
      "text/plain": [
       "ACC features:   0%|          | 0/96 [00:00<?, ?it/s]"
      ]
     },
     "metadata": {},
     "output_type": "display_data"
    },
    {
     "name": "stdout",
     "output_type": "stream",
     "text": [
      "Unable to remove memmapped file\n"
     ]
    },
    {
     "data": {
      "application/vnd.jupyter.widget-view+json": {
       "model_id": "814c4033b85e4199899c5a9e1388df66",
       "version_major": 2,
       "version_minor": 0
      },
      "text/plain": [
       "ACC features:   0%|          | 0/96 [00:00<?, ?it/s]"
      ]
     },
     "metadata": {},
     "output_type": "display_data"
    },
    {
     "name": "stdout",
     "output_type": "stream",
     "text": [
      "Unable to remove memmapped file\n"
     ]
    },
    {
     "data": {
      "application/vnd.jupyter.widget-view+json": {
       "model_id": "5d7d018f721242a09b920f0dd93865f2",
       "version_major": 2,
       "version_minor": 0
      },
      "text/plain": [
       "ACC features:   0%|          | 0/96 [00:00<?, ?it/s]"
      ]
     },
     "metadata": {},
     "output_type": "display_data"
    },
    {
     "name": "stdout",
     "output_type": "stream",
     "text": [
      "Unable to remove memmapped file\n"
     ]
    },
    {
     "data": {
      "application/vnd.jupyter.widget-view+json": {
       "model_id": "c60bd50df11148e98cd48ea476a71604",
       "version_major": 2,
       "version_minor": 0
      },
      "text/plain": [
       "ACC features:   0%|          | 0/78 [00:00<?, ?it/s]"
      ]
     },
     "metadata": {},
     "output_type": "display_data"
    },
    {
     "name": "stdout",
     "output_type": "stream",
     "text": [
      "Unable to remove memmapped file\n"
     ]
    },
    {
     "data": {
      "application/vnd.jupyter.widget-view+json": {
       "model_id": "3fdb932e658741e085a69b30f4375c58",
       "version_major": 2,
       "version_minor": 0
      },
      "text/plain": [
       "ACC features:   0%|          | 0/78 [00:00<?, ?it/s]"
      ]
     },
     "metadata": {},
     "output_type": "display_data"
    },
    {
     "name": "stdout",
     "output_type": "stream",
     "text": [
      "Unable to remove memmapped file\n"
     ]
    },
    {
     "data": {
      "application/vnd.jupyter.widget-view+json": {
       "model_id": "faba8f9d6e2a4985aec6ae01a7eeb509",
       "version_major": 2,
       "version_minor": 0
      },
      "text/plain": [
       "ACC features:   0%|          | 0/78 [00:00<?, ?it/s]"
      ]
     },
     "metadata": {},
     "output_type": "display_data"
    },
    {
     "name": "stdout",
     "output_type": "stream",
     "text": [
      "Unable to remove memmapped file\n"
     ]
    },
    {
     "data": {
      "application/vnd.jupyter.widget-view+json": {
       "model_id": "e1b4dddf8f974c1c9877c0d6107a8e01",
       "version_major": 2,
       "version_minor": 0
      },
      "text/plain": [
       "ACC features:   0%|          | 0/78 [00:00<?, ?it/s]"
      ]
     },
     "metadata": {},
     "output_type": "display_data"
    },
    {
     "name": "stdout",
     "output_type": "stream",
     "text": [
      "Unable to remove memmapped file\n"
     ]
    },
    {
     "data": {
      "application/vnd.jupyter.widget-view+json": {
       "model_id": "31b2838e5b6c436aa082a35e2335a9fd",
       "version_major": 2,
       "version_minor": 0
      },
      "text/plain": [
       "ACC features:   0%|          | 0/78 [00:00<?, ?it/s]"
      ]
     },
     "metadata": {},
     "output_type": "display_data"
    },
    {
     "name": "stdout",
     "output_type": "stream",
     "text": [
      "Unable to remove memmapped file\n"
     ]
    },
    {
     "data": {
      "application/vnd.jupyter.widget-view+json": {
       "model_id": "e78c7a03a61b4011b6760e5213efc8e5",
       "version_major": 2,
       "version_minor": 0
      },
      "text/plain": [
       "ACC features:   0%|          | 0/131 [00:00<?, ?it/s]"
      ]
     },
     "metadata": {},
     "output_type": "display_data"
    },
    {
     "name": "stdout",
     "output_type": "stream",
     "text": [
      "Unable to remove memmapped file\n"
     ]
    },
    {
     "data": {
      "application/vnd.jupyter.widget-view+json": {
       "model_id": "f6da8ab3fad248748d05d3f527a096c4",
       "version_major": 2,
       "version_minor": 0
      },
      "text/plain": [
       "ACC features:   0%|          | 0/131 [00:00<?, ?it/s]"
      ]
     },
     "metadata": {},
     "output_type": "display_data"
    },
    {
     "name": "stdout",
     "output_type": "stream",
     "text": [
      "Unable to remove memmapped file\n"
     ]
    },
    {
     "data": {
      "application/vnd.jupyter.widget-view+json": {
       "model_id": "4885a7d58c41434fb11ad091d4b75a8b",
       "version_major": 2,
       "version_minor": 0
      },
      "text/plain": [
       "ACC features:   0%|          | 0/131 [00:00<?, ?it/s]"
      ]
     },
     "metadata": {},
     "output_type": "display_data"
    },
    {
     "name": "stdout",
     "output_type": "stream",
     "text": [
      "Unable to remove memmapped file\n"
     ]
    },
    {
     "data": {
      "application/vnd.jupyter.widget-view+json": {
       "model_id": "b45af00bfa9542629e89cab6d589c71e",
       "version_major": 2,
       "version_minor": 0
      },
      "text/plain": [
       "ACC features:   0%|          | 0/131 [00:00<?, ?it/s]"
      ]
     },
     "metadata": {},
     "output_type": "display_data"
    },
    {
     "name": "stdout",
     "output_type": "stream",
     "text": [
      "Unable to remove memmapped file\n"
     ]
    },
    {
     "data": {
      "application/vnd.jupyter.widget-view+json": {
       "model_id": "8677e9c7ecc6486a815a2178dcf457f8",
       "version_major": 2,
       "version_minor": 0
      },
      "text/plain": [
       "ACC features:   0%|          | 0/131 [00:00<?, ?it/s]"
      ]
     },
     "metadata": {},
     "output_type": "display_data"
    },
    {
     "name": "stdout",
     "output_type": "stream",
     "text": [
      "Unable to remove memmapped file\n"
     ]
    },
    {
     "data": {
      "application/vnd.jupyter.widget-view+json": {
       "model_id": "f3018c11f3e64ef08f142931142bdbf1",
       "version_major": 2,
       "version_minor": 0
      },
      "text/plain": [
       "ACC features:   0%|          | 0/172 [00:00<?, ?it/s]"
      ]
     },
     "metadata": {},
     "output_type": "display_data"
    },
    {
     "name": "stdout",
     "output_type": "stream",
     "text": [
      "Unable to remove memmapped file\n"
     ]
    },
    {
     "data": {
      "application/vnd.jupyter.widget-view+json": {
       "model_id": "ac0b47fc6b5340d1b35b72c59d5cecbc",
       "version_major": 2,
       "version_minor": 0
      },
      "text/plain": [
       "ACC features:   0%|          | 0/172 [00:00<?, ?it/s]"
      ]
     },
     "metadata": {},
     "output_type": "display_data"
    },
    {
     "name": "stdout",
     "output_type": "stream",
     "text": [
      "Unable to remove memmapped file\n"
     ]
    },
    {
     "data": {
      "application/vnd.jupyter.widget-view+json": {
       "model_id": "9c969af1e2f7464cb02bbe79c203e7ae",
       "version_major": 2,
       "version_minor": 0
      },
      "text/plain": [
       "ACC features:   0%|          | 0/172 [00:00<?, ?it/s]"
      ]
     },
     "metadata": {},
     "output_type": "display_data"
    },
    {
     "name": "stdout",
     "output_type": "stream",
     "text": [
      "Unable to remove memmapped file\n"
     ]
    },
    {
     "data": {
      "application/vnd.jupyter.widget-view+json": {
       "model_id": "417c229e61bf450e8aaa6568a7abd5dd",
       "version_major": 2,
       "version_minor": 0
      },
      "text/plain": [
       "ACC features:   0%|          | 0/172 [00:00<?, ?it/s]"
      ]
     },
     "metadata": {},
     "output_type": "display_data"
    },
    {
     "name": "stdout",
     "output_type": "stream",
     "text": [
      "Unable to remove memmapped file\n"
     ]
    },
    {
     "data": {
      "application/vnd.jupyter.widget-view+json": {
       "model_id": "cd68980719754d268be1b7445055170e",
       "version_major": 2,
       "version_minor": 0
      },
      "text/plain": [
       "ACC features:   0%|          | 0/172 [00:00<?, ?it/s]"
      ]
     },
     "metadata": {},
     "output_type": "display_data"
    },
    {
     "name": "stdout",
     "output_type": "stream",
     "text": [
      "Unable to remove memmapped file\n"
     ]
    },
    {
     "data": {
      "application/vnd.jupyter.widget-view+json": {
       "model_id": "9530fd0e918c4de3a613fa9bb4d2d291",
       "version_major": 2,
       "version_minor": 0
      },
      "text/plain": [
       "ACC features:   0%|          | 0/48 [00:00<?, ?it/s]"
      ]
     },
     "metadata": {},
     "output_type": "display_data"
    },
    {
     "name": "stdout",
     "output_type": "stream",
     "text": [
      "Unable to remove memmapped file\n"
     ]
    },
    {
     "data": {
      "application/vnd.jupyter.widget-view+json": {
       "model_id": "a12dbae2e10040618e0f86e6776e0103",
       "version_major": 2,
       "version_minor": 0
      },
      "text/plain": [
       "ACC features:   0%|          | 0/48 [00:00<?, ?it/s]"
      ]
     },
     "metadata": {},
     "output_type": "display_data"
    },
    {
     "name": "stdout",
     "output_type": "stream",
     "text": [
      "Unable to remove memmapped file\n"
     ]
    },
    {
     "data": {
      "application/vnd.jupyter.widget-view+json": {
       "model_id": "ba9cc7cb445e411894db6a9f9cb97c73",
       "version_major": 2,
       "version_minor": 0
      },
      "text/plain": [
       "ACC features:   0%|          | 0/48 [00:00<?, ?it/s]"
      ]
     },
     "metadata": {},
     "output_type": "display_data"
    },
    {
     "name": "stdout",
     "output_type": "stream",
     "text": [
      "Unable to remove memmapped file\n"
     ]
    },
    {
     "data": {
      "application/vnd.jupyter.widget-view+json": {
       "model_id": "a9ea5bad712f4fcab72ed154464c44f0",
       "version_major": 2,
       "version_minor": 0
      },
      "text/plain": [
       "ACC features:   0%|          | 0/48 [00:00<?, ?it/s]"
      ]
     },
     "metadata": {},
     "output_type": "display_data"
    },
    {
     "name": "stdout",
     "output_type": "stream",
     "text": [
      "Unable to remove memmapped file\n"
     ]
    },
    {
     "data": {
      "application/vnd.jupyter.widget-view+json": {
       "model_id": "78bf8e87b5bf48339956af64c178fab3",
       "version_major": 2,
       "version_minor": 0
      },
      "text/plain": [
       "ACC features:   0%|          | 0/48 [00:00<?, ?it/s]"
      ]
     },
     "metadata": {},
     "output_type": "display_data"
    },
    {
     "name": "stdout",
     "output_type": "stream",
     "text": [
      "Unable to remove memmapped file\n"
     ]
    },
    {
     "data": {
      "application/vnd.jupyter.widget-view+json": {
       "model_id": "da4542a5a85c447297d129230a30527c",
       "version_major": 2,
       "version_minor": 0
      },
      "text/plain": [
       "ACC features:   0%|          | 0/72 [00:00<?, ?it/s]"
      ]
     },
     "metadata": {},
     "output_type": "display_data"
    },
    {
     "name": "stdout",
     "output_type": "stream",
     "text": [
      "Unable to remove memmapped file\n"
     ]
    },
    {
     "data": {
      "application/vnd.jupyter.widget-view+json": {
       "model_id": "25a23a7a8b9b49dba405da383f33dc65",
       "version_major": 2,
       "version_minor": 0
      },
      "text/plain": [
       "ACC features:   0%|          | 0/72 [00:00<?, ?it/s]"
      ]
     },
     "metadata": {},
     "output_type": "display_data"
    },
    {
     "name": "stdout",
     "output_type": "stream",
     "text": [
      "Unable to remove memmapped file\n"
     ]
    },
    {
     "data": {
      "application/vnd.jupyter.widget-view+json": {
       "model_id": "1168318d223b42aab52f99bf92f856fb",
       "version_major": 2,
       "version_minor": 0
      },
      "text/plain": [
       "ACC features:   0%|          | 0/72 [00:00<?, ?it/s]"
      ]
     },
     "metadata": {},
     "output_type": "display_data"
    },
    {
     "name": "stdout",
     "output_type": "stream",
     "text": [
      "Unable to remove memmapped file\n"
     ]
    },
    {
     "data": {
      "application/vnd.jupyter.widget-view+json": {
       "model_id": "ac833466fcbd41bda7c45536ba7bad4b",
       "version_major": 2,
       "version_minor": 0
      },
      "text/plain": [
       "ACC features:   0%|          | 0/72 [00:00<?, ?it/s]"
      ]
     },
     "metadata": {},
     "output_type": "display_data"
    },
    {
     "name": "stdout",
     "output_type": "stream",
     "text": [
      "Unable to remove memmapped file\n"
     ]
    },
    {
     "data": {
      "application/vnd.jupyter.widget-view+json": {
       "model_id": "6accb6f8d4ae4781b09e566d5edce377",
       "version_major": 2,
       "version_minor": 0
      },
      "text/plain": [
       "ACC features:   0%|          | 0/72 [00:00<?, ?it/s]"
      ]
     },
     "metadata": {},
     "output_type": "display_data"
    },
    {
     "name": "stdout",
     "output_type": "stream",
     "text": [
      "Unable to remove memmapped file\n"
     ]
    },
    {
     "data": {
      "application/vnd.jupyter.widget-view+json": {
       "model_id": "acae88e041e946869fdaa8f144b3c1ee",
       "version_major": 2,
       "version_minor": 0
      },
      "text/plain": [
       "ACC features:   0%|          | 0/49 [00:00<?, ?it/s]"
      ]
     },
     "metadata": {},
     "output_type": "display_data"
    },
    {
     "name": "stdout",
     "output_type": "stream",
     "text": [
      "Unable to remove memmapped file\n"
     ]
    },
    {
     "data": {
      "application/vnd.jupyter.widget-view+json": {
       "model_id": "af4d7b0447ba421e8f8cd22ed1f615ea",
       "version_major": 2,
       "version_minor": 0
      },
      "text/plain": [
       "ACC features:   0%|          | 0/49 [00:00<?, ?it/s]"
      ]
     },
     "metadata": {},
     "output_type": "display_data"
    },
    {
     "name": "stdout",
     "output_type": "stream",
     "text": [
      "Unable to remove memmapped file\n"
     ]
    },
    {
     "data": {
      "application/vnd.jupyter.widget-view+json": {
       "model_id": "9e4f81eaec484b1697fc850faa83bbf4",
       "version_major": 2,
       "version_minor": 0
      },
      "text/plain": [
       "ACC features:   0%|          | 0/49 [00:00<?, ?it/s]"
      ]
     },
     "metadata": {},
     "output_type": "display_data"
    },
    {
     "name": "stdout",
     "output_type": "stream",
     "text": [
      "Unable to remove memmapped file\n"
     ]
    },
    {
     "data": {
      "application/vnd.jupyter.widget-view+json": {
       "model_id": "b31d49ba8f8348548ae5e8467c17bc0b",
       "version_major": 2,
       "version_minor": 0
      },
      "text/plain": [
       "ACC features:   0%|          | 0/49 [00:00<?, ?it/s]"
      ]
     },
     "metadata": {},
     "output_type": "display_data"
    },
    {
     "name": "stdout",
     "output_type": "stream",
     "text": [
      "Unable to remove memmapped file\n"
     ]
    },
    {
     "data": {
      "application/vnd.jupyter.widget-view+json": {
       "model_id": "fadafca76dfe4291a4367d8f99786097",
       "version_major": 2,
       "version_minor": 0
      },
      "text/plain": [
       "ACC features:   0%|          | 0/49 [00:00<?, ?it/s]"
      ]
     },
     "metadata": {},
     "output_type": "display_data"
    },
    {
     "name": "stdout",
     "output_type": "stream",
     "text": [
      "Unable to remove memmapped file\n"
     ]
    },
    {
     "data": {
      "application/vnd.jupyter.widget-view+json": {
       "model_id": "10101f90ff7241c7ba2034a330d0ab9c",
       "version_major": 2,
       "version_minor": 0
      },
      "text/plain": [
       "ACC features:   0%|          | 0/43 [00:00<?, ?it/s]"
      ]
     },
     "metadata": {},
     "output_type": "display_data"
    },
    {
     "name": "stdout",
     "output_type": "stream",
     "text": [
      "Unable to remove memmapped file\n"
     ]
    },
    {
     "data": {
      "application/vnd.jupyter.widget-view+json": {
       "model_id": "cc7e317ce905464fa3b2e0d9e401d0e6",
       "version_major": 2,
       "version_minor": 0
      },
      "text/plain": [
       "ACC features:   0%|          | 0/43 [00:00<?, ?it/s]"
      ]
     },
     "metadata": {},
     "output_type": "display_data"
    },
    {
     "name": "stdout",
     "output_type": "stream",
     "text": [
      "Unable to remove memmapped file\n"
     ]
    },
    {
     "data": {
      "application/vnd.jupyter.widget-view+json": {
       "model_id": "97abcb0bd55c46ad86b4275125d8fd5c",
       "version_major": 2,
       "version_minor": 0
      },
      "text/plain": [
       "ACC features:   0%|          | 0/43 [00:00<?, ?it/s]"
      ]
     },
     "metadata": {},
     "output_type": "display_data"
    },
    {
     "name": "stdout",
     "output_type": "stream",
     "text": [
      "Unable to remove memmapped file\n"
     ]
    },
    {
     "data": {
      "application/vnd.jupyter.widget-view+json": {
       "model_id": "a444ed5015e74ad7b6590ac4ab6e79b4",
       "version_major": 2,
       "version_minor": 0
      },
      "text/plain": [
       "ACC features:   0%|          | 0/43 [00:00<?, ?it/s]"
      ]
     },
     "metadata": {},
     "output_type": "display_data"
    },
    {
     "name": "stdout",
     "output_type": "stream",
     "text": [
      "Unable to remove memmapped file\n"
     ]
    },
    {
     "data": {
      "application/vnd.jupyter.widget-view+json": {
       "model_id": "aa0847ae1b924e64955ea91b1e16b144",
       "version_major": 2,
       "version_minor": 0
      },
      "text/plain": [
       "ACC features:   0%|          | 0/43 [00:00<?, ?it/s]"
      ]
     },
     "metadata": {},
     "output_type": "display_data"
    },
    {
     "name": "stdout",
     "output_type": "stream",
     "text": [
      "Unable to remove memmapped file\n"
     ]
    },
    {
     "data": {
      "application/vnd.jupyter.widget-view+json": {
       "model_id": "f103931596cd4c15b7b0eaa7636b4582",
       "version_major": 2,
       "version_minor": 0
      },
      "text/plain": [
       "ACC features:   0%|          | 0/10 [00:00<?, ?it/s]"
      ]
     },
     "metadata": {},
     "output_type": "display_data"
    },
    {
     "name": "stdout",
     "output_type": "stream",
     "text": [
      "Unable to remove memmapped file\n"
     ]
    },
    {
     "data": {
      "application/vnd.jupyter.widget-view+json": {
       "model_id": "c7ea294812de4c7f8f0b1d2c62e9fcfc",
       "version_major": 2,
       "version_minor": 0
      },
      "text/plain": [
       "ACC features:   0%|          | 0/10 [00:00<?, ?it/s]"
      ]
     },
     "metadata": {},
     "output_type": "display_data"
    },
    {
     "name": "stdout",
     "output_type": "stream",
     "text": [
      "Unable to remove memmapped file\n"
     ]
    },
    {
     "data": {
      "application/vnd.jupyter.widget-view+json": {
       "model_id": "3b9836340f214ddf9d40dbf6240f33e3",
       "version_major": 2,
       "version_minor": 0
      },
      "text/plain": [
       "ACC features:   0%|          | 0/10 [00:00<?, ?it/s]"
      ]
     },
     "metadata": {},
     "output_type": "display_data"
    },
    {
     "name": "stdout",
     "output_type": "stream",
     "text": [
      "Unable to remove memmapped file\n"
     ]
    },
    {
     "data": {
      "application/vnd.jupyter.widget-view+json": {
       "model_id": "b914b5c220664996ab18fade19d82971",
       "version_major": 2,
       "version_minor": 0
      },
      "text/plain": [
       "ACC features:   0%|          | 0/10 [00:00<?, ?it/s]"
      ]
     },
     "metadata": {},
     "output_type": "display_data"
    },
    {
     "name": "stdout",
     "output_type": "stream",
     "text": [
      "Unable to remove memmapped file\n"
     ]
    },
    {
     "data": {
      "application/vnd.jupyter.widget-view+json": {
       "model_id": "c3985c833d714bedbdbdb1af09fd27ca",
       "version_major": 2,
       "version_minor": 0
      },
      "text/plain": [
       "ACC features:   0%|          | 0/10 [00:00<?, ?it/s]"
      ]
     },
     "metadata": {},
     "output_type": "display_data"
    },
    {
     "name": "stdout",
     "output_type": "stream",
     "text": [
      "Unable to remove memmapped file\n"
     ]
    },
    {
     "data": {
      "application/vnd.jupyter.widget-view+json": {
       "model_id": "bea1cfd6c38344628e4ce9d6015579e5",
       "version_major": 2,
       "version_minor": 0
      },
      "text/plain": [
       "ACC features:   0%|          | 0/24 [00:00<?, ?it/s]"
      ]
     },
     "metadata": {},
     "output_type": "display_data"
    },
    {
     "name": "stdout",
     "output_type": "stream",
     "text": [
      "Unable to remove memmapped file\n"
     ]
    },
    {
     "data": {
      "application/vnd.jupyter.widget-view+json": {
       "model_id": "502d1868f8e14a19bf468628bc6d57de",
       "version_major": 2,
       "version_minor": 0
      },
      "text/plain": [
       "ACC features:   0%|          | 0/24 [00:00<?, ?it/s]"
      ]
     },
     "metadata": {},
     "output_type": "display_data"
    },
    {
     "name": "stdout",
     "output_type": "stream",
     "text": [
      "Unable to remove memmapped file\n"
     ]
    },
    {
     "data": {
      "application/vnd.jupyter.widget-view+json": {
       "model_id": "ace14febefc54eb682096f336ea7345c",
       "version_major": 2,
       "version_minor": 0
      },
      "text/plain": [
       "ACC features:   0%|          | 0/24 [00:00<?, ?it/s]"
      ]
     },
     "metadata": {},
     "output_type": "display_data"
    },
    {
     "name": "stdout",
     "output_type": "stream",
     "text": [
      "Unable to remove memmapped file\n"
     ]
    },
    {
     "data": {
      "application/vnd.jupyter.widget-view+json": {
       "model_id": "9c42253184ea4fd3aecdb54b9e21ede3",
       "version_major": 2,
       "version_minor": 0
      },
      "text/plain": [
       "ACC features:   0%|          | 0/24 [00:00<?, ?it/s]"
      ]
     },
     "metadata": {},
     "output_type": "display_data"
    },
    {
     "name": "stdout",
     "output_type": "stream",
     "text": [
      "Unable to remove memmapped file\n"
     ]
    },
    {
     "data": {
      "application/vnd.jupyter.widget-view+json": {
       "model_id": "e1172c5f3851462ab4e8f9add2d4cbbd",
       "version_major": 2,
       "version_minor": 0
      },
      "text/plain": [
       "ACC features:   0%|          | 0/24 [00:00<?, ?it/s]"
      ]
     },
     "metadata": {},
     "output_type": "display_data"
    },
    {
     "name": "stdout",
     "output_type": "stream",
     "text": [
      "Unable to remove memmapped file\n"
     ]
    },
    {
     "data": {
      "application/vnd.jupyter.widget-view+json": {
       "model_id": "b7fa2da2594c45619b64eca50c797732",
       "version_major": 2,
       "version_minor": 0
      },
      "text/plain": [
       "ACC features:   0%|          | 0/143 [00:00<?, ?it/s]"
      ]
     },
     "metadata": {},
     "output_type": "display_data"
    },
    {
     "name": "stdout",
     "output_type": "stream",
     "text": [
      "Unable to remove memmapped file\n"
     ]
    },
    {
     "data": {
      "application/vnd.jupyter.widget-view+json": {
       "model_id": "85562d0d4b064a0a99d8b8d07c03c1a3",
       "version_major": 2,
       "version_minor": 0
      },
      "text/plain": [
       "ACC features:   0%|          | 0/143 [00:00<?, ?it/s]"
      ]
     },
     "metadata": {},
     "output_type": "display_data"
    },
    {
     "name": "stdout",
     "output_type": "stream",
     "text": [
      "Unable to remove memmapped file\n"
     ]
    },
    {
     "data": {
      "application/vnd.jupyter.widget-view+json": {
       "model_id": "603b533c3dd3414a92776431ab8d4aef",
       "version_major": 2,
       "version_minor": 0
      },
      "text/plain": [
       "ACC features:   0%|          | 0/143 [00:00<?, ?it/s]"
      ]
     },
     "metadata": {},
     "output_type": "display_data"
    },
    {
     "name": "stdout",
     "output_type": "stream",
     "text": [
      "Unable to remove memmapped file\n"
     ]
    },
    {
     "data": {
      "application/vnd.jupyter.widget-view+json": {
       "model_id": "d4c589daefeb4fe081baac0dafde9ede",
       "version_major": 2,
       "version_minor": 0
      },
      "text/plain": [
       "ACC features:   0%|          | 0/143 [00:00<?, ?it/s]"
      ]
     },
     "metadata": {},
     "output_type": "display_data"
    },
    {
     "name": "stdout",
     "output_type": "stream",
     "text": [
      "Unable to remove memmapped file\n"
     ]
    },
    {
     "data": {
      "application/vnd.jupyter.widget-view+json": {
       "model_id": "234fef15bbfb40639d00bdaf331f7338",
       "version_major": 2,
       "version_minor": 0
      },
      "text/plain": [
       "ACC features:   0%|          | 0/143 [00:00<?, ?it/s]"
      ]
     },
     "metadata": {},
     "output_type": "display_data"
    },
    {
     "name": "stdout",
     "output_type": "stream",
     "text": [
      "Unable to remove memmapped file\n"
     ]
    },
    {
     "data": {
      "application/vnd.jupyter.widget-view+json": {
       "model_id": "3eaeb44685184ca68d6fc35da8c9de19",
       "version_major": 2,
       "version_minor": 0
      },
      "text/plain": [
       "ACC features:   0%|          | 0/162 [00:00<?, ?it/s]"
      ]
     },
     "metadata": {},
     "output_type": "display_data"
    },
    {
     "name": "stdout",
     "output_type": "stream",
     "text": [
      "Unable to remove memmapped file\n"
     ]
    },
    {
     "data": {
      "application/vnd.jupyter.widget-view+json": {
       "model_id": "ef74f0d906894b4684d69a6b091d11b1",
       "version_major": 2,
       "version_minor": 0
      },
      "text/plain": [
       "ACC features:   0%|          | 0/162 [00:00<?, ?it/s]"
      ]
     },
     "metadata": {},
     "output_type": "display_data"
    },
    {
     "name": "stdout",
     "output_type": "stream",
     "text": [
      "Unable to remove memmapped file\n"
     ]
    },
    {
     "data": {
      "application/vnd.jupyter.widget-view+json": {
       "model_id": "e8c1d8bc2479477794ec48f1e33783d2",
       "version_major": 2,
       "version_minor": 0
      },
      "text/plain": [
       "ACC features:   0%|          | 0/162 [00:00<?, ?it/s]"
      ]
     },
     "metadata": {},
     "output_type": "display_data"
    },
    {
     "name": "stdout",
     "output_type": "stream",
     "text": [
      "Unable to remove memmapped file\n"
     ]
    },
    {
     "data": {
      "application/vnd.jupyter.widget-view+json": {
       "model_id": "3670b634e8af41dca5f743214a0b77e7",
       "version_major": 2,
       "version_minor": 0
      },
      "text/plain": [
       "ACC features:   0%|          | 0/162 [00:00<?, ?it/s]"
      ]
     },
     "metadata": {},
     "output_type": "display_data"
    },
    {
     "name": "stdout",
     "output_type": "stream",
     "text": [
      "Unable to remove memmapped file\n"
     ]
    },
    {
     "data": {
      "application/vnd.jupyter.widget-view+json": {
       "model_id": "943621cda7604694b1eaeb9de04123ae",
       "version_major": 2,
       "version_minor": 0
      },
      "text/plain": [
       "ACC features:   0%|          | 0/162 [00:00<?, ?it/s]"
      ]
     },
     "metadata": {},
     "output_type": "display_data"
    },
    {
     "name": "stdout",
     "output_type": "stream",
     "text": [
      "Unable to remove memmapped file\n"
     ]
    },
    {
     "data": {
      "application/vnd.jupyter.widget-view+json": {
       "model_id": "5742e802d0d049c48801cd3d118bc99e",
       "version_major": 2,
       "version_minor": 0
      },
      "text/plain": [
       "ACC features:   0%|          | 0/18 [00:00<?, ?it/s]"
      ]
     },
     "metadata": {},
     "output_type": "display_data"
    },
    {
     "name": "stdout",
     "output_type": "stream",
     "text": [
      "Unable to remove memmapped file\n"
     ]
    },
    {
     "data": {
      "application/vnd.jupyter.widget-view+json": {
       "model_id": "0e65855301c047df8c3fb44d595cc007",
       "version_major": 2,
       "version_minor": 0
      },
      "text/plain": [
       "ACC features:   0%|          | 0/18 [00:00<?, ?it/s]"
      ]
     },
     "metadata": {},
     "output_type": "display_data"
    },
    {
     "name": "stdout",
     "output_type": "stream",
     "text": [
      "Unable to remove memmapped file\n"
     ]
    },
    {
     "data": {
      "application/vnd.jupyter.widget-view+json": {
       "model_id": "87fbf9f4706c4998b0323bb90aa0b89b",
       "version_major": 2,
       "version_minor": 0
      },
      "text/plain": [
       "ACC features:   0%|          | 0/18 [00:00<?, ?it/s]"
      ]
     },
     "metadata": {},
     "output_type": "display_data"
    },
    {
     "name": "stdout",
     "output_type": "stream",
     "text": [
      "Unable to remove memmapped file\n"
     ]
    },
    {
     "data": {
      "application/vnd.jupyter.widget-view+json": {
       "model_id": "42879a4b0d2746b08e658a0b13aab4e7",
       "version_major": 2,
       "version_minor": 0
      },
      "text/plain": [
       "ACC features:   0%|          | 0/18 [00:00<?, ?it/s]"
      ]
     },
     "metadata": {},
     "output_type": "display_data"
    },
    {
     "name": "stdout",
     "output_type": "stream",
     "text": [
      "Unable to remove memmapped file\n"
     ]
    },
    {
     "data": {
      "application/vnd.jupyter.widget-view+json": {
       "model_id": "d07eb27b697e4d60a3a061d9cee854b1",
       "version_major": 2,
       "version_minor": 0
      },
      "text/plain": [
       "ACC features:   0%|          | 0/18 [00:00<?, ?it/s]"
      ]
     },
     "metadata": {},
     "output_type": "display_data"
    },
    {
     "name": "stdout",
     "output_type": "stream",
     "text": [
      "Unable to remove memmapped file\n"
     ]
    },
    {
     "data": {
      "application/vnd.jupyter.widget-view+json": {
       "model_id": "67595d94b0ff40d2a6c9ecf36d5efbe6",
       "version_major": 2,
       "version_minor": 0
      },
      "text/plain": [
       "ACC features:   0%|          | 0/24 [00:00<?, ?it/s]"
      ]
     },
     "metadata": {},
     "output_type": "display_data"
    },
    {
     "name": "stdout",
     "output_type": "stream",
     "text": [
      "Unable to remove memmapped file\n"
     ]
    },
    {
     "data": {
      "application/vnd.jupyter.widget-view+json": {
       "model_id": "ffdee9e0c9334d038b4770050c6e6309",
       "version_major": 2,
       "version_minor": 0
      },
      "text/plain": [
       "ACC features:   0%|          | 0/24 [00:00<?, ?it/s]"
      ]
     },
     "metadata": {},
     "output_type": "display_data"
    },
    {
     "name": "stdout",
     "output_type": "stream",
     "text": [
      "Unable to remove memmapped file\n"
     ]
    },
    {
     "data": {
      "application/vnd.jupyter.widget-view+json": {
       "model_id": "5e4c155fe30346fbb8e57c1ae4e0c000",
       "version_major": 2,
       "version_minor": 0
      },
      "text/plain": [
       "ACC features:   0%|          | 0/24 [00:00<?, ?it/s]"
      ]
     },
     "metadata": {},
     "output_type": "display_data"
    },
    {
     "name": "stdout",
     "output_type": "stream",
     "text": [
      "Unable to remove memmapped file\n"
     ]
    },
    {
     "data": {
      "application/vnd.jupyter.widget-view+json": {
       "model_id": "6a4d24588c8243a6925657ba6f2cacf1",
       "version_major": 2,
       "version_minor": 0
      },
      "text/plain": [
       "ACC features:   0%|          | 0/24 [00:00<?, ?it/s]"
      ]
     },
     "metadata": {},
     "output_type": "display_data"
    },
    {
     "name": "stdout",
     "output_type": "stream",
     "text": [
      "Unable to remove memmapped file\n"
     ]
    },
    {
     "data": {
      "application/vnd.jupyter.widget-view+json": {
       "model_id": "3cb40669872440a0845d983881a9da73",
       "version_major": 2,
       "version_minor": 0
      },
      "text/plain": [
       "ACC features:   0%|          | 0/24 [00:00<?, ?it/s]"
      ]
     },
     "metadata": {},
     "output_type": "display_data"
    },
    {
     "name": "stdout",
     "output_type": "stream",
     "text": [
      "Unable to remove memmapped file\n"
     ]
    },
    {
     "data": {
      "application/vnd.jupyter.widget-view+json": {
       "model_id": "55cf53581b364711bd5203a2133e830f",
       "version_major": 2,
       "version_minor": 0
      },
      "text/plain": [
       "ACC features:   0%|          | 0/12 [00:00<?, ?it/s]"
      ]
     },
     "metadata": {},
     "output_type": "display_data"
    },
    {
     "name": "stdout",
     "output_type": "stream",
     "text": [
      "Unable to remove memmapped file\n"
     ]
    },
    {
     "data": {
      "application/vnd.jupyter.widget-view+json": {
       "model_id": "4b76afe1bdb641769e0250f8fb3474cf",
       "version_major": 2,
       "version_minor": 0
      },
      "text/plain": [
       "ACC features:   0%|          | 0/12 [00:00<?, ?it/s]"
      ]
     },
     "metadata": {},
     "output_type": "display_data"
    },
    {
     "name": "stdout",
     "output_type": "stream",
     "text": [
      "Unable to remove memmapped file\n"
     ]
    },
    {
     "data": {
      "application/vnd.jupyter.widget-view+json": {
       "model_id": "6945358c4245413dbb85269f87caf1e1",
       "version_major": 2,
       "version_minor": 0
      },
      "text/plain": [
       "ACC features:   0%|          | 0/12 [00:00<?, ?it/s]"
      ]
     },
     "metadata": {},
     "output_type": "display_data"
    },
    {
     "name": "stdout",
     "output_type": "stream",
     "text": [
      "Unable to remove memmapped file\n"
     ]
    },
    {
     "data": {
      "application/vnd.jupyter.widget-view+json": {
       "model_id": "16e3a5e382e840bb84fdf775b0a598b3",
       "version_major": 2,
       "version_minor": 0
      },
      "text/plain": [
       "ACC features:   0%|          | 0/12 [00:00<?, ?it/s]"
      ]
     },
     "metadata": {},
     "output_type": "display_data"
    },
    {
     "name": "stdout",
     "output_type": "stream",
     "text": [
      "Unable to remove memmapped file\n"
     ]
    },
    {
     "data": {
      "application/vnd.jupyter.widget-view+json": {
       "model_id": "b3150ffb3ba34bf0b6d24acd81067c96",
       "version_major": 2,
       "version_minor": 0
      },
      "text/plain": [
       "ACC features:   0%|          | 0/12 [00:00<?, ?it/s]"
      ]
     },
     "metadata": {},
     "output_type": "display_data"
    },
    {
     "name": "stdout",
     "output_type": "stream",
     "text": [
      "Unable to remove memmapped file\n"
     ]
    },
    {
     "data": {
      "application/vnd.jupyter.widget-view+json": {
       "model_id": "b35f2a4325824e9cbfbe24bb27e45e9d",
       "version_major": 2,
       "version_minor": 0
      },
      "text/plain": [
       "ACC features:   0%|          | 0/56 [00:00<?, ?it/s]"
      ]
     },
     "metadata": {},
     "output_type": "display_data"
    },
    {
     "name": "stdout",
     "output_type": "stream",
     "text": [
      "Unable to remove memmapped file\n"
     ]
    },
    {
     "data": {
      "application/vnd.jupyter.widget-view+json": {
       "model_id": "32ac7b3eeefb4a54838721d39eb6c447",
       "version_major": 2,
       "version_minor": 0
      },
      "text/plain": [
       "ACC features:   0%|          | 0/56 [00:00<?, ?it/s]"
      ]
     },
     "metadata": {},
     "output_type": "display_data"
    },
    {
     "name": "stdout",
     "output_type": "stream",
     "text": [
      "Unable to remove memmapped file\n"
     ]
    },
    {
     "data": {
      "application/vnd.jupyter.widget-view+json": {
       "model_id": "665684ae98164a409355368f3a84dfbc",
       "version_major": 2,
       "version_minor": 0
      },
      "text/plain": [
       "ACC features:   0%|          | 0/56 [00:00<?, ?it/s]"
      ]
     },
     "metadata": {},
     "output_type": "display_data"
    },
    {
     "name": "stdout",
     "output_type": "stream",
     "text": [
      "Unable to remove memmapped file\n"
     ]
    },
    {
     "data": {
      "application/vnd.jupyter.widget-view+json": {
       "model_id": "a84204d66e2e4bbe87e84745827afbf6",
       "version_major": 2,
       "version_minor": 0
      },
      "text/plain": [
       "ACC features:   0%|          | 0/56 [00:00<?, ?it/s]"
      ]
     },
     "metadata": {},
     "output_type": "display_data"
    },
    {
     "name": "stdout",
     "output_type": "stream",
     "text": [
      "Unable to remove memmapped file\n"
     ]
    },
    {
     "data": {
      "application/vnd.jupyter.widget-view+json": {
       "model_id": "aecbd320626f42cc8659214ba9f566a4",
       "version_major": 2,
       "version_minor": 0
      },
      "text/plain": [
       "ACC features:   0%|          | 0/56 [00:00<?, ?it/s]"
      ]
     },
     "metadata": {},
     "output_type": "display_data"
    },
    {
     "name": "stdout",
     "output_type": "stream",
     "text": [
      "Unable to remove memmapped file\n"
     ]
    },
    {
     "data": {
      "application/vnd.jupyter.widget-view+json": {
       "model_id": "2df8d538e31c40bc981183bdfbaf0e50",
       "version_major": 2,
       "version_minor": 0
      },
      "text/plain": [
       "ACC features:   0%|          | 0/150 [00:00<?, ?it/s]"
      ]
     },
     "metadata": {},
     "output_type": "display_data"
    },
    {
     "name": "stdout",
     "output_type": "stream",
     "text": [
      "Unable to remove memmapped file\n"
     ]
    },
    {
     "data": {
      "application/vnd.jupyter.widget-view+json": {
       "model_id": "81b81ad4878d4e7ca93f534c39b61469",
       "version_major": 2,
       "version_minor": 0
      },
      "text/plain": [
       "ACC features:   0%|          | 0/150 [00:00<?, ?it/s]"
      ]
     },
     "metadata": {},
     "output_type": "display_data"
    },
    {
     "name": "stdout",
     "output_type": "stream",
     "text": [
      "Unable to remove memmapped file\n"
     ]
    },
    {
     "data": {
      "application/vnd.jupyter.widget-view+json": {
       "model_id": "33b25f2471f44bfeaed7b70fec09b21b",
       "version_major": 2,
       "version_minor": 0
      },
      "text/plain": [
       "ACC features:   0%|          | 0/150 [00:00<?, ?it/s]"
      ]
     },
     "metadata": {},
     "output_type": "display_data"
    },
    {
     "name": "stdout",
     "output_type": "stream",
     "text": [
      "Unable to remove memmapped file\n"
     ]
    },
    {
     "data": {
      "application/vnd.jupyter.widget-view+json": {
       "model_id": "8cb726ea5cfb495893ba2967db7e0cbe",
       "version_major": 2,
       "version_minor": 0
      },
      "text/plain": [
       "ACC features:   0%|          | 0/150 [00:00<?, ?it/s]"
      ]
     },
     "metadata": {},
     "output_type": "display_data"
    },
    {
     "name": "stdout",
     "output_type": "stream",
     "text": [
      "Unable to remove memmapped file\n"
     ]
    },
    {
     "data": {
      "application/vnd.jupyter.widget-view+json": {
       "model_id": "4dea376efe884f71867af36e2babb9d1",
       "version_major": 2,
       "version_minor": 0
      },
      "text/plain": [
       "ACC features:   0%|          | 0/150 [00:00<?, ?it/s]"
      ]
     },
     "metadata": {},
     "output_type": "display_data"
    },
    {
     "name": "stdout",
     "output_type": "stream",
     "text": [
      "Unable to remove memmapped file\n"
     ]
    },
    {
     "data": {
      "application/vnd.jupyter.widget-view+json": {
       "model_id": "dc2531a7b31443089abfb8632dfbfdc1",
       "version_major": 2,
       "version_minor": 0
      },
      "text/plain": [
       "ACC features:   0%|          | 0/192 [00:00<?, ?it/s]"
      ]
     },
     "metadata": {},
     "output_type": "display_data"
    },
    {
     "name": "stdout",
     "output_type": "stream",
     "text": [
      "Unable to remove memmapped file\n"
     ]
    },
    {
     "data": {
      "application/vnd.jupyter.widget-view+json": {
       "model_id": "7d8d24455ee74cad9e3c7b10c001396f",
       "version_major": 2,
       "version_minor": 0
      },
      "text/plain": [
       "ACC features:   0%|          | 0/192 [00:00<?, ?it/s]"
      ]
     },
     "metadata": {},
     "output_type": "display_data"
    },
    {
     "name": "stdout",
     "output_type": "stream",
     "text": [
      "Unable to remove memmapped file\n"
     ]
    },
    {
     "data": {
      "application/vnd.jupyter.widget-view+json": {
       "model_id": "8792075a716b464881f21ce16fe8e9a3",
       "version_major": 2,
       "version_minor": 0
      },
      "text/plain": [
       "ACC features:   0%|          | 0/192 [00:00<?, ?it/s]"
      ]
     },
     "metadata": {},
     "output_type": "display_data"
    },
    {
     "name": "stdout",
     "output_type": "stream",
     "text": [
      "Unable to remove memmapped file\n"
     ]
    },
    {
     "data": {
      "application/vnd.jupyter.widget-view+json": {
       "model_id": "85ad3127200341c0b432f8d9a6290548",
       "version_major": 2,
       "version_minor": 0
      },
      "text/plain": [
       "ACC features:   0%|          | 0/192 [00:00<?, ?it/s]"
      ]
     },
     "metadata": {},
     "output_type": "display_data"
    },
    {
     "name": "stdout",
     "output_type": "stream",
     "text": [
      "Unable to remove memmapped file\n"
     ]
    },
    {
     "data": {
      "application/vnd.jupyter.widget-view+json": {
       "model_id": "73ae5d5e877c40688460dda1ec16e270",
       "version_major": 2,
       "version_minor": 0
      },
      "text/plain": [
       "ACC features:   0%|          | 0/192 [00:00<?, ?it/s]"
      ]
     },
     "metadata": {},
     "output_type": "display_data"
    },
    {
     "name": "stdout",
     "output_type": "stream",
     "text": [
      "Unable to remove memmapped file\n"
     ]
    },
    {
     "data": {
      "application/vnd.jupyter.widget-view+json": {
       "model_id": "60c374d289b2486e8288912e45c17d31",
       "version_major": 2,
       "version_minor": 0
      },
      "text/plain": [
       "ACC features:   0%|          | 0/318 [00:00<?, ?it/s]"
      ]
     },
     "metadata": {},
     "output_type": "display_data"
    },
    {
     "name": "stdout",
     "output_type": "stream",
     "text": [
      "Unable to remove memmapped file\n"
     ]
    },
    {
     "data": {
      "application/vnd.jupyter.widget-view+json": {
       "model_id": "8ed17c85589f4c80bd02abacf6f83a36",
       "version_major": 2,
       "version_minor": 0
      },
      "text/plain": [
       "ACC features:   0%|          | 0/318 [00:00<?, ?it/s]"
      ]
     },
     "metadata": {},
     "output_type": "display_data"
    },
    {
     "name": "stdout",
     "output_type": "stream",
     "text": [
      "Unable to remove memmapped file\n"
     ]
    },
    {
     "data": {
      "application/vnd.jupyter.widget-view+json": {
       "model_id": "daf0ab1845184339b0e4971727eb5fe4",
       "version_major": 2,
       "version_minor": 0
      },
      "text/plain": [
       "ACC features:   0%|          | 0/318 [00:00<?, ?it/s]"
      ]
     },
     "metadata": {},
     "output_type": "display_data"
    },
    {
     "name": "stdout",
     "output_type": "stream",
     "text": [
      "Unable to remove memmapped file\n"
     ]
    },
    {
     "data": {
      "application/vnd.jupyter.widget-view+json": {
       "model_id": "47e5cfced4bb409c8f96a43f0a782b55",
       "version_major": 2,
       "version_minor": 0
      },
      "text/plain": [
       "ACC features:   0%|          | 0/318 [00:00<?, ?it/s]"
      ]
     },
     "metadata": {},
     "output_type": "display_data"
    },
    {
     "name": "stdout",
     "output_type": "stream",
     "text": [
      "Unable to remove memmapped file\n"
     ]
    },
    {
     "data": {
      "application/vnd.jupyter.widget-view+json": {
       "model_id": "944ea3e04fb6459a83c3b3b24dfc9555",
       "version_major": 2,
       "version_minor": 0
      },
      "text/plain": [
       "ACC features:   0%|          | 0/318 [00:00<?, ?it/s]"
      ]
     },
     "metadata": {},
     "output_type": "display_data"
    },
    {
     "name": "stdout",
     "output_type": "stream",
     "text": [
      "Unable to remove memmapped file\n"
     ]
    },
    {
     "data": {
      "application/vnd.jupyter.widget-view+json": {
       "model_id": "cd89591d38b14aa9a7952cbe8e9104ce",
       "version_major": 2,
       "version_minor": 0
      },
      "text/plain": [
       "ACC features:   0%|          | 0/78 [00:00<?, ?it/s]"
      ]
     },
     "metadata": {},
     "output_type": "display_data"
    },
    {
     "name": "stdout",
     "output_type": "stream",
     "text": [
      "Unable to remove memmapped file\n"
     ]
    },
    {
     "data": {
      "application/vnd.jupyter.widget-view+json": {
       "model_id": "e60fbb58b88348da8e9868a6a8ff96af",
       "version_major": 2,
       "version_minor": 0
      },
      "text/plain": [
       "ACC features:   0%|          | 0/78 [00:00<?, ?it/s]"
      ]
     },
     "metadata": {},
     "output_type": "display_data"
    },
    {
     "name": "stdout",
     "output_type": "stream",
     "text": [
      "Unable to remove memmapped file\n"
     ]
    },
    {
     "data": {
      "application/vnd.jupyter.widget-view+json": {
       "model_id": "36eaef81407f4c558140ea4b961e9693",
       "version_major": 2,
       "version_minor": 0
      },
      "text/plain": [
       "ACC features:   0%|          | 0/78 [00:00<?, ?it/s]"
      ]
     },
     "metadata": {},
     "output_type": "display_data"
    },
    {
     "name": "stdout",
     "output_type": "stream",
     "text": [
      "Unable to remove memmapped file\n"
     ]
    },
    {
     "data": {
      "application/vnd.jupyter.widget-view+json": {
       "model_id": "8e5d297070ee4e8d9680a72a7f087f46",
       "version_major": 2,
       "version_minor": 0
      },
      "text/plain": [
       "ACC features:   0%|          | 0/78 [00:00<?, ?it/s]"
      ]
     },
     "metadata": {},
     "output_type": "display_data"
    },
    {
     "name": "stdout",
     "output_type": "stream",
     "text": [
      "Unable to remove memmapped file\n"
     ]
    },
    {
     "data": {
      "application/vnd.jupyter.widget-view+json": {
       "model_id": "6d44ae8afc7748bbbec5c648d4c7ef4c",
       "version_major": 2,
       "version_minor": 0
      },
      "text/plain": [
       "ACC features:   0%|          | 0/78 [00:00<?, ?it/s]"
      ]
     },
     "metadata": {},
     "output_type": "display_data"
    },
    {
     "name": "stdout",
     "output_type": "stream",
     "text": [
      "Unable to remove memmapped file\n"
     ]
    },
    {
     "data": {
      "application/vnd.jupyter.widget-view+json": {
       "model_id": "8b8766d5900545edaaa08a8013bc130d",
       "version_major": 2,
       "version_minor": 0
      },
      "text/plain": [
       "ACC features:   0%|          | 0/96 [00:00<?, ?it/s]"
      ]
     },
     "metadata": {},
     "output_type": "display_data"
    },
    {
     "name": "stdout",
     "output_type": "stream",
     "text": [
      "Unable to remove memmapped file\n"
     ]
    },
    {
     "data": {
      "application/vnd.jupyter.widget-view+json": {
       "model_id": "c1fba6d7a8364df99aa5e91a008cc8fa",
       "version_major": 2,
       "version_minor": 0
      },
      "text/plain": [
       "ACC features:   0%|          | 0/96 [00:00<?, ?it/s]"
      ]
     },
     "metadata": {},
     "output_type": "display_data"
    },
    {
     "name": "stdout",
     "output_type": "stream",
     "text": [
      "Unable to remove memmapped file\n"
     ]
    },
    {
     "data": {
      "application/vnd.jupyter.widget-view+json": {
       "model_id": "bbafcf5c608e421da69bd50ab228b3a0",
       "version_major": 2,
       "version_minor": 0
      },
      "text/plain": [
       "ACC features:   0%|          | 0/96 [00:00<?, ?it/s]"
      ]
     },
     "metadata": {},
     "output_type": "display_data"
    },
    {
     "name": "stdout",
     "output_type": "stream",
     "text": [
      "Unable to remove memmapped file\n"
     ]
    },
    {
     "data": {
      "application/vnd.jupyter.widget-view+json": {
       "model_id": "df6ef94eea964b578f4fd7c6612e46b7",
       "version_major": 2,
       "version_minor": 0
      },
      "text/plain": [
       "ACC features:   0%|          | 0/96 [00:00<?, ?it/s]"
      ]
     },
     "metadata": {},
     "output_type": "display_data"
    },
    {
     "name": "stdout",
     "output_type": "stream",
     "text": [
      "Unable to remove memmapped file\n"
     ]
    },
    {
     "data": {
      "application/vnd.jupyter.widget-view+json": {
       "model_id": "a3e7835392f84e34ad5257764e9aa8de",
       "version_major": 2,
       "version_minor": 0
      },
      "text/plain": [
       "ACC features:   0%|          | 0/96 [00:00<?, ?it/s]"
      ]
     },
     "metadata": {},
     "output_type": "display_data"
    },
    {
     "name": "stdout",
     "output_type": "stream",
     "text": [
      "Unable to remove memmapped file\n"
     ]
    },
    {
     "data": {
      "application/vnd.jupyter.widget-view+json": {
       "model_id": "d1160da133264c9687e7f69f29bebede",
       "version_major": 2,
       "version_minor": 0
      },
      "text/plain": [
       "ACC features:   0%|          | 0/108 [00:00<?, ?it/s]"
      ]
     },
     "metadata": {},
     "output_type": "display_data"
    },
    {
     "name": "stdout",
     "output_type": "stream",
     "text": [
      "Unable to remove memmapped file\n"
     ]
    },
    {
     "data": {
      "application/vnd.jupyter.widget-view+json": {
       "model_id": "d275cebe97c24882a3269ebd919a5f29",
       "version_major": 2,
       "version_minor": 0
      },
      "text/plain": [
       "ACC features:   0%|          | 0/108 [00:00<?, ?it/s]"
      ]
     },
     "metadata": {},
     "output_type": "display_data"
    },
    {
     "name": "stdout",
     "output_type": "stream",
     "text": [
      "Unable to remove memmapped file\n"
     ]
    },
    {
     "data": {
      "application/vnd.jupyter.widget-view+json": {
       "model_id": "ed3c593476bf41aa813990e96b2caa0b",
       "version_major": 2,
       "version_minor": 0
      },
      "text/plain": [
       "ACC features:   0%|          | 0/108 [00:00<?, ?it/s]"
      ]
     },
     "metadata": {},
     "output_type": "display_data"
    },
    {
     "name": "stdout",
     "output_type": "stream",
     "text": [
      "Unable to remove memmapped file\n"
     ]
    },
    {
     "data": {
      "application/vnd.jupyter.widget-view+json": {
       "model_id": "7ecb99dabdf7420a81752d03c8eee523",
       "version_major": 2,
       "version_minor": 0
      },
      "text/plain": [
       "ACC features:   0%|          | 0/108 [00:00<?, ?it/s]"
      ]
     },
     "metadata": {},
     "output_type": "display_data"
    },
    {
     "name": "stdout",
     "output_type": "stream",
     "text": [
      "Unable to remove memmapped file\n"
     ]
    },
    {
     "data": {
      "application/vnd.jupyter.widget-view+json": {
       "model_id": "6111b85abf9248d5b6fa71dbe6eeea10",
       "version_major": 2,
       "version_minor": 0
      },
      "text/plain": [
       "ACC features:   0%|          | 0/108 [00:00<?, ?it/s]"
      ]
     },
     "metadata": {},
     "output_type": "display_data"
    },
    {
     "name": "stdout",
     "output_type": "stream",
     "text": [
      "Unable to remove memmapped file\n"
     ]
    },
    {
     "data": {
      "application/vnd.jupyter.widget-view+json": {
       "model_id": "f1c150a22344431584015e776937f05a",
       "version_major": 2,
       "version_minor": 0
      },
      "text/plain": [
       "ACC features:   0%|          | 0/48 [00:00<?, ?it/s]"
      ]
     },
     "metadata": {},
     "output_type": "display_data"
    },
    {
     "name": "stdout",
     "output_type": "stream",
     "text": [
      "Unable to remove memmapped file\n"
     ]
    },
    {
     "data": {
      "application/vnd.jupyter.widget-view+json": {
       "model_id": "d1f3f1e93ae7401bbfbcd61366c88f27",
       "version_major": 2,
       "version_minor": 0
      },
      "text/plain": [
       "ACC features:   0%|          | 0/48 [00:00<?, ?it/s]"
      ]
     },
     "metadata": {},
     "output_type": "display_data"
    },
    {
     "name": "stdout",
     "output_type": "stream",
     "text": [
      "Unable to remove memmapped file\n"
     ]
    },
    {
     "data": {
      "application/vnd.jupyter.widget-view+json": {
       "model_id": "61c21fe622264579845ca6cf9e113abb",
       "version_major": 2,
       "version_minor": 0
      },
      "text/plain": [
       "ACC features:   0%|          | 0/48 [00:00<?, ?it/s]"
      ]
     },
     "metadata": {},
     "output_type": "display_data"
    },
    {
     "name": "stdout",
     "output_type": "stream",
     "text": [
      "Unable to remove memmapped file\n"
     ]
    },
    {
     "data": {
      "application/vnd.jupyter.widget-view+json": {
       "model_id": "5b71bb2dc96e430b950adf868295687e",
       "version_major": 2,
       "version_minor": 0
      },
      "text/plain": [
       "ACC features:   0%|          | 0/48 [00:00<?, ?it/s]"
      ]
     },
     "metadata": {},
     "output_type": "display_data"
    },
    {
     "name": "stdout",
     "output_type": "stream",
     "text": [
      "Unable to remove memmapped file\n"
     ]
    },
    {
     "data": {
      "application/vnd.jupyter.widget-view+json": {
       "model_id": "bd1d3752b632443e80fe35527cd01a05",
       "version_major": 2,
       "version_minor": 0
      },
      "text/plain": [
       "ACC features:   0%|          | 0/48 [00:00<?, ?it/s]"
      ]
     },
     "metadata": {},
     "output_type": "display_data"
    },
    {
     "name": "stdout",
     "output_type": "stream",
     "text": [
      "Unable to remove memmapped file\n"
     ]
    },
    {
     "data": {
      "application/vnd.jupyter.widget-view+json": {
       "model_id": "f9f75740232a40108672b525caa136b6",
       "version_major": 2,
       "version_minor": 0
      },
      "text/plain": [
       "ACC features:   0%|          | 0/18 [00:00<?, ?it/s]"
      ]
     },
     "metadata": {},
     "output_type": "display_data"
    },
    {
     "name": "stdout",
     "output_type": "stream",
     "text": [
      "Unable to remove memmapped file\n"
     ]
    },
    {
     "data": {
      "application/vnd.jupyter.widget-view+json": {
       "model_id": "b17ddb8b5f9d4591b47f5b213bc36d5c",
       "version_major": 2,
       "version_minor": 0
      },
      "text/plain": [
       "ACC features:   0%|          | 0/18 [00:00<?, ?it/s]"
      ]
     },
     "metadata": {},
     "output_type": "display_data"
    },
    {
     "name": "stdout",
     "output_type": "stream",
     "text": [
      "Unable to remove memmapped file\n"
     ]
    },
    {
     "data": {
      "application/vnd.jupyter.widget-view+json": {
       "model_id": "d3a7d071fe9a46bebed4242caa6c2e40",
       "version_major": 2,
       "version_minor": 0
      },
      "text/plain": [
       "ACC features:   0%|          | 0/18 [00:00<?, ?it/s]"
      ]
     },
     "metadata": {},
     "output_type": "display_data"
    },
    {
     "name": "stdout",
     "output_type": "stream",
     "text": [
      "Unable to remove memmapped file\n"
     ]
    },
    {
     "data": {
      "application/vnd.jupyter.widget-view+json": {
       "model_id": "2998184b81244a488fe933a579750a22",
       "version_major": 2,
       "version_minor": 0
      },
      "text/plain": [
       "ACC features:   0%|          | 0/18 [00:00<?, ?it/s]"
      ]
     },
     "metadata": {},
     "output_type": "display_data"
    },
    {
     "name": "stdout",
     "output_type": "stream",
     "text": [
      "Unable to remove memmapped file\n"
     ]
    },
    {
     "data": {
      "application/vnd.jupyter.widget-view+json": {
       "model_id": "512af4ab36464355ad789f39dec12d5b",
       "version_major": 2,
       "version_minor": 0
      },
      "text/plain": [
       "ACC features:   0%|          | 0/18 [00:00<?, ?it/s]"
      ]
     },
     "metadata": {},
     "output_type": "display_data"
    },
    {
     "name": "stdout",
     "output_type": "stream",
     "text": [
      "Unable to remove memmapped file\n"
     ]
    },
    {
     "data": {
      "application/vnd.jupyter.widget-view+json": {
       "model_id": "ba01d5de4eb04c7589c2acf4e4eb735f",
       "version_major": 2,
       "version_minor": 0
      },
      "text/plain": [
       "ACC features:   0%|          | 0/186 [00:00<?, ?it/s]"
      ]
     },
     "metadata": {},
     "output_type": "display_data"
    },
    {
     "name": "stdout",
     "output_type": "stream",
     "text": [
      "Unable to remove memmapped file\n"
     ]
    },
    {
     "data": {
      "application/vnd.jupyter.widget-view+json": {
       "model_id": "76285ae15b604c3a98425578284f2a91",
       "version_major": 2,
       "version_minor": 0
      },
      "text/plain": [
       "ACC features:   0%|          | 0/186 [00:00<?, ?it/s]"
      ]
     },
     "metadata": {},
     "output_type": "display_data"
    },
    {
     "name": "stdout",
     "output_type": "stream",
     "text": [
      "Unable to remove memmapped file\n"
     ]
    },
    {
     "data": {
      "application/vnd.jupyter.widget-view+json": {
       "model_id": "b3d2ae94301645178d94aba31d82b7cd",
       "version_major": 2,
       "version_minor": 0
      },
      "text/plain": [
       "ACC features:   0%|          | 0/186 [00:00<?, ?it/s]"
      ]
     },
     "metadata": {},
     "output_type": "display_data"
    },
    {
     "name": "stdout",
     "output_type": "stream",
     "text": [
      "Unable to remove memmapped file\n"
     ]
    },
    {
     "data": {
      "application/vnd.jupyter.widget-view+json": {
       "model_id": "fc862af88b6c42a1af2ccca28151d0ec",
       "version_major": 2,
       "version_minor": 0
      },
      "text/plain": [
       "ACC features:   0%|          | 0/186 [00:00<?, ?it/s]"
      ]
     },
     "metadata": {},
     "output_type": "display_data"
    },
    {
     "name": "stdout",
     "output_type": "stream",
     "text": [
      "Unable to remove memmapped file\n"
     ]
    },
    {
     "data": {
      "application/vnd.jupyter.widget-view+json": {
       "model_id": "ff2c3813ca4049258837a555ed3125df",
       "version_major": 2,
       "version_minor": 0
      },
      "text/plain": [
       "ACC features:   0%|          | 0/186 [00:00<?, ?it/s]"
      ]
     },
     "metadata": {},
     "output_type": "display_data"
    },
    {
     "name": "stdout",
     "output_type": "stream",
     "text": [
      "Unable to remove memmapped file\n"
     ]
    },
    {
     "data": {
      "application/vnd.jupyter.widget-view+json": {
       "model_id": "3c7d2fba860e440489bcc0a26b1f70cc",
       "version_major": 2,
       "version_minor": 0
      },
      "text/plain": [
       "ACC features:   0%|          | 0/42 [00:00<?, ?it/s]"
      ]
     },
     "metadata": {},
     "output_type": "display_data"
    },
    {
     "name": "stdout",
     "output_type": "stream",
     "text": [
      "Unable to remove memmapped file\n"
     ]
    },
    {
     "data": {
      "application/vnd.jupyter.widget-view+json": {
       "model_id": "8558590cbaaa42cfa6e9e164b5a5f8ab",
       "version_major": 2,
       "version_minor": 0
      },
      "text/plain": [
       "ACC features:   0%|          | 0/42 [00:00<?, ?it/s]"
      ]
     },
     "metadata": {},
     "output_type": "display_data"
    },
    {
     "name": "stdout",
     "output_type": "stream",
     "text": [
      "Unable to remove memmapped file\n"
     ]
    },
    {
     "data": {
      "application/vnd.jupyter.widget-view+json": {
       "model_id": "831c073054114f888479f7baf13a836a",
       "version_major": 2,
       "version_minor": 0
      },
      "text/plain": [
       "ACC features:   0%|          | 0/42 [00:00<?, ?it/s]"
      ]
     },
     "metadata": {},
     "output_type": "display_data"
    },
    {
     "name": "stdout",
     "output_type": "stream",
     "text": [
      "Unable to remove memmapped file\n"
     ]
    },
    {
     "data": {
      "application/vnd.jupyter.widget-view+json": {
       "model_id": "8b0b7a66accb4724a5b5e56bd12e56e1",
       "version_major": 2,
       "version_minor": 0
      },
      "text/plain": [
       "ACC features:   0%|          | 0/42 [00:00<?, ?it/s]"
      ]
     },
     "metadata": {},
     "output_type": "display_data"
    },
    {
     "name": "stdout",
     "output_type": "stream",
     "text": [
      "Unable to remove memmapped file\n"
     ]
    },
    {
     "data": {
      "application/vnd.jupyter.widget-view+json": {
       "model_id": "3d6072bce0fa46f0a19f2ac6598bb712",
       "version_major": 2,
       "version_minor": 0
      },
      "text/plain": [
       "ACC features:   0%|          | 0/42 [00:00<?, ?it/s]"
      ]
     },
     "metadata": {},
     "output_type": "display_data"
    },
    {
     "name": "stdout",
     "output_type": "stream",
     "text": [
      "Unable to remove memmapped file\n"
     ]
    },
    {
     "data": {
      "application/vnd.jupyter.widget-view+json": {
       "model_id": "33ed8d88d3c44769bd7d29a926580f03",
       "version_major": 2,
       "version_minor": 0
      },
      "text/plain": [
       "ACC features:   0%|          | 0/60 [00:00<?, ?it/s]"
      ]
     },
     "metadata": {},
     "output_type": "display_data"
    },
    {
     "name": "stdout",
     "output_type": "stream",
     "text": [
      "Unable to remove memmapped file\n"
     ]
    },
    {
     "data": {
      "application/vnd.jupyter.widget-view+json": {
       "model_id": "9ae11ee75bb0474e8e0334fedcbc77bf",
       "version_major": 2,
       "version_minor": 0
      },
      "text/plain": [
       "ACC features:   0%|          | 0/60 [00:00<?, ?it/s]"
      ]
     },
     "metadata": {},
     "output_type": "display_data"
    },
    {
     "name": "stdout",
     "output_type": "stream",
     "text": [
      "Unable to remove memmapped file\n"
     ]
    },
    {
     "data": {
      "application/vnd.jupyter.widget-view+json": {
       "model_id": "45e01deb8d57496c8fd1ff86b0e33cfc",
       "version_major": 2,
       "version_minor": 0
      },
      "text/plain": [
       "ACC features:   0%|          | 0/60 [00:00<?, ?it/s]"
      ]
     },
     "metadata": {},
     "output_type": "display_data"
    },
    {
     "name": "stdout",
     "output_type": "stream",
     "text": [
      "Unable to remove memmapped file\n"
     ]
    },
    {
     "data": {
      "application/vnd.jupyter.widget-view+json": {
       "model_id": "a64f007b178e40b6ada68ca984f1a365",
       "version_major": 2,
       "version_minor": 0
      },
      "text/plain": [
       "ACC features:   0%|          | 0/60 [00:00<?, ?it/s]"
      ]
     },
     "metadata": {},
     "output_type": "display_data"
    },
    {
     "name": "stdout",
     "output_type": "stream",
     "text": [
      "Unable to remove memmapped file\n"
     ]
    },
    {
     "data": {
      "application/vnd.jupyter.widget-view+json": {
       "model_id": "9ccbfe8bd2ec4c5a82fb8b543e2ec712",
       "version_major": 2,
       "version_minor": 0
      },
      "text/plain": [
       "ACC features:   0%|          | 0/60 [00:00<?, ?it/s]"
      ]
     },
     "metadata": {},
     "output_type": "display_data"
    },
    {
     "name": "stdout",
     "output_type": "stream",
     "text": [
      "Unable to remove memmapped file\n"
     ]
    },
    {
     "data": {
      "application/vnd.jupyter.widget-view+json": {
       "model_id": "a7dd0c6e823e4f4fab975a2a724b2340",
       "version_major": 2,
       "version_minor": 0
      },
      "text/plain": [
       "ACC features:   0%|          | 0/78 [00:00<?, ?it/s]"
      ]
     },
     "metadata": {},
     "output_type": "display_data"
    },
    {
     "name": "stdout",
     "output_type": "stream",
     "text": [
      "Unable to remove memmapped file\n"
     ]
    },
    {
     "data": {
      "application/vnd.jupyter.widget-view+json": {
       "model_id": "6ac9275b991045d2a2494496722bf2fa",
       "version_major": 2,
       "version_minor": 0
      },
      "text/plain": [
       "ACC features:   0%|          | 0/78 [00:00<?, ?it/s]"
      ]
     },
     "metadata": {},
     "output_type": "display_data"
    },
    {
     "name": "stdout",
     "output_type": "stream",
     "text": [
      "Unable to remove memmapped file\n"
     ]
    },
    {
     "data": {
      "application/vnd.jupyter.widget-view+json": {
       "model_id": "6fe5c23cc8ad45ffa3782468672af472",
       "version_major": 2,
       "version_minor": 0
      },
      "text/plain": [
       "ACC features:   0%|          | 0/78 [00:00<?, ?it/s]"
      ]
     },
     "metadata": {},
     "output_type": "display_data"
    },
    {
     "name": "stdout",
     "output_type": "stream",
     "text": [
      "Unable to remove memmapped file\n"
     ]
    },
    {
     "data": {
      "application/vnd.jupyter.widget-view+json": {
       "model_id": "b17bd0198a464f228708fe1c7292f9f7",
       "version_major": 2,
       "version_minor": 0
      },
      "text/plain": [
       "ACC features:   0%|          | 0/78 [00:00<?, ?it/s]"
      ]
     },
     "metadata": {},
     "output_type": "display_data"
    },
    {
     "name": "stdout",
     "output_type": "stream",
     "text": [
      "Unable to remove memmapped file\n"
     ]
    },
    {
     "data": {
      "application/vnd.jupyter.widget-view+json": {
       "model_id": "20a0b618153341bbadd6da2295f3cc7a",
       "version_major": 2,
       "version_minor": 0
      },
      "text/plain": [
       "ACC features:   0%|          | 0/78 [00:00<?, ?it/s]"
      ]
     },
     "metadata": {},
     "output_type": "display_data"
    },
    {
     "name": "stdout",
     "output_type": "stream",
     "text": [
      "Unable to remove memmapped file\n"
     ]
    },
    {
     "data": {
      "application/vnd.jupyter.widget-view+json": {
       "model_id": "e32a5531a4fe42d196c4318a76a5a954",
       "version_major": 2,
       "version_minor": 0
      },
      "text/plain": [
       "ACC features:   0%|          | 0/156 [00:00<?, ?it/s]"
      ]
     },
     "metadata": {},
     "output_type": "display_data"
    },
    {
     "name": "stdout",
     "output_type": "stream",
     "text": [
      "Unable to remove memmapped file\n"
     ]
    },
    {
     "data": {
      "application/vnd.jupyter.widget-view+json": {
       "model_id": "533944063edb43388570e940ab7365be",
       "version_major": 2,
       "version_minor": 0
      },
      "text/plain": [
       "ACC features:   0%|          | 0/156 [00:00<?, ?it/s]"
      ]
     },
     "metadata": {},
     "output_type": "display_data"
    },
    {
     "name": "stdout",
     "output_type": "stream",
     "text": [
      "Unable to remove memmapped file\n"
     ]
    },
    {
     "data": {
      "application/vnd.jupyter.widget-view+json": {
       "model_id": "03134b58bccc497cbf27c8a00a6dbd62",
       "version_major": 2,
       "version_minor": 0
      },
      "text/plain": [
       "ACC features:   0%|          | 0/156 [00:00<?, ?it/s]"
      ]
     },
     "metadata": {},
     "output_type": "display_data"
    },
    {
     "name": "stdout",
     "output_type": "stream",
     "text": [
      "Unable to remove memmapped file\n"
     ]
    },
    {
     "data": {
      "application/vnd.jupyter.widget-view+json": {
       "model_id": "6550642aba24470794b18a7cc45f1fdc",
       "version_major": 2,
       "version_minor": 0
      },
      "text/plain": [
       "ACC features:   0%|          | 0/156 [00:00<?, ?it/s]"
      ]
     },
     "metadata": {},
     "output_type": "display_data"
    },
    {
     "name": "stdout",
     "output_type": "stream",
     "text": [
      "Unable to remove memmapped file\n"
     ]
    },
    {
     "data": {
      "application/vnd.jupyter.widget-view+json": {
       "model_id": "be5962fede774c47ba778cc13b1e1ce7",
       "version_major": 2,
       "version_minor": 0
      },
      "text/plain": [
       "ACC features:   0%|          | 0/156 [00:00<?, ?it/s]"
      ]
     },
     "metadata": {},
     "output_type": "display_data"
    },
    {
     "name": "stdout",
     "output_type": "stream",
     "text": [
      "Unable to remove memmapped file\n"
     ]
    },
    {
     "data": {
      "application/vnd.jupyter.widget-view+json": {
       "model_id": "ffeaff4e95b540129419e99bda9f5cf6",
       "version_major": 2,
       "version_minor": 0
      },
      "text/plain": [
       "ACC features:   0%|          | 0/264 [00:00<?, ?it/s]"
      ]
     },
     "metadata": {},
     "output_type": "display_data"
    },
    {
     "name": "stdout",
     "output_type": "stream",
     "text": [
      "Unable to remove memmapped file\n"
     ]
    },
    {
     "data": {
      "application/vnd.jupyter.widget-view+json": {
       "model_id": "70a7cab1a6eb46d2970e75cb60a27e4a",
       "version_major": 2,
       "version_minor": 0
      },
      "text/plain": [
       "ACC features:   0%|          | 0/264 [00:00<?, ?it/s]"
      ]
     },
     "metadata": {},
     "output_type": "display_data"
    },
    {
     "name": "stdout",
     "output_type": "stream",
     "text": [
      "Unable to remove memmapped file\n"
     ]
    },
    {
     "data": {
      "application/vnd.jupyter.widget-view+json": {
       "model_id": "7f0763f2c65b4b338b7b238ae308db9e",
       "version_major": 2,
       "version_minor": 0
      },
      "text/plain": [
       "ACC features:   0%|          | 0/264 [00:00<?, ?it/s]"
      ]
     },
     "metadata": {},
     "output_type": "display_data"
    },
    {
     "name": "stdout",
     "output_type": "stream",
     "text": [
      "Unable to remove memmapped file\n"
     ]
    },
    {
     "data": {
      "application/vnd.jupyter.widget-view+json": {
       "model_id": "5ffa12f67a8f4ef784d703c823ee1e6a",
       "version_major": 2,
       "version_minor": 0
      },
      "text/plain": [
       "ACC features:   0%|          | 0/264 [00:00<?, ?it/s]"
      ]
     },
     "metadata": {},
     "output_type": "display_data"
    },
    {
     "name": "stdout",
     "output_type": "stream",
     "text": [
      "Unable to remove memmapped file\n"
     ]
    },
    {
     "data": {
      "application/vnd.jupyter.widget-view+json": {
       "model_id": "bb21246879284e5680f5796a6a419cef",
       "version_major": 2,
       "version_minor": 0
      },
      "text/plain": [
       "ACC features:   0%|          | 0/264 [00:00<?, ?it/s]"
      ]
     },
     "metadata": {},
     "output_type": "display_data"
    },
    {
     "name": "stdout",
     "output_type": "stream",
     "text": [
      "Unable to remove memmapped file\n"
     ]
    },
    {
     "data": {
      "application/vnd.jupyter.widget-view+json": {
       "model_id": "5954bb2e18f145d2b1fde4735ccd00f0",
       "version_major": 2,
       "version_minor": 0
      },
      "text/plain": [
       "ACC features:   0%|          | 0/108 [00:00<?, ?it/s]"
      ]
     },
     "metadata": {},
     "output_type": "display_data"
    },
    {
     "name": "stdout",
     "output_type": "stream",
     "text": [
      "Unable to remove memmapped file\n"
     ]
    },
    {
     "data": {
      "application/vnd.jupyter.widget-view+json": {
       "model_id": "ff92a4323bc14b509ecc05f6a9a654e1",
       "version_major": 2,
       "version_minor": 0
      },
      "text/plain": [
       "ACC features:   0%|          | 0/108 [00:00<?, ?it/s]"
      ]
     },
     "metadata": {},
     "output_type": "display_data"
    },
    {
     "name": "stdout",
     "output_type": "stream",
     "text": [
      "Unable to remove memmapped file\n"
     ]
    },
    {
     "data": {
      "application/vnd.jupyter.widget-view+json": {
       "model_id": "c17f4886822c4bc084cba8915b11043a",
       "version_major": 2,
       "version_minor": 0
      },
      "text/plain": [
       "ACC features:   0%|          | 0/108 [00:00<?, ?it/s]"
      ]
     },
     "metadata": {},
     "output_type": "display_data"
    },
    {
     "name": "stdout",
     "output_type": "stream",
     "text": [
      "Unable to remove memmapped file\n"
     ]
    },
    {
     "data": {
      "application/vnd.jupyter.widget-view+json": {
       "model_id": "23ef4253b8c54e62a7979bf6f29206c8",
       "version_major": 2,
       "version_minor": 0
      },
      "text/plain": [
       "ACC features:   0%|          | 0/108 [00:00<?, ?it/s]"
      ]
     },
     "metadata": {},
     "output_type": "display_data"
    },
    {
     "name": "stdout",
     "output_type": "stream",
     "text": [
      "Unable to remove memmapped file\n"
     ]
    },
    {
     "data": {
      "application/vnd.jupyter.widget-view+json": {
       "model_id": "3f3e56d5495c46a699adab0bbbbf8723",
       "version_major": 2,
       "version_minor": 0
      },
      "text/plain": [
       "ACC features:   0%|          | 0/108 [00:00<?, ?it/s]"
      ]
     },
     "metadata": {},
     "output_type": "display_data"
    },
    {
     "name": "stdout",
     "output_type": "stream",
     "text": [
      "Unable to remove memmapped file\n"
     ]
    },
    {
     "data": {
      "application/vnd.jupyter.widget-view+json": {
       "model_id": "31488884f39e47318f9d04f303cc2366",
       "version_major": 2,
       "version_minor": 0
      },
      "text/plain": [
       "ACC features:   0%|          | 0/78 [00:00<?, ?it/s]"
      ]
     },
     "metadata": {},
     "output_type": "display_data"
    },
    {
     "name": "stdout",
     "output_type": "stream",
     "text": [
      "Unable to remove memmapped file\n"
     ]
    },
    {
     "data": {
      "application/vnd.jupyter.widget-view+json": {
       "model_id": "31726bd483474ae1b7fc3eedfae28598",
       "version_major": 2,
       "version_minor": 0
      },
      "text/plain": [
       "ACC features:   0%|          | 0/78 [00:00<?, ?it/s]"
      ]
     },
     "metadata": {},
     "output_type": "display_data"
    },
    {
     "name": "stdout",
     "output_type": "stream",
     "text": [
      "Unable to remove memmapped file\n"
     ]
    },
    {
     "data": {
      "application/vnd.jupyter.widget-view+json": {
       "model_id": "42ace86f12a543ac860d10b075b018e5",
       "version_major": 2,
       "version_minor": 0
      },
      "text/plain": [
       "ACC features:   0%|          | 0/78 [00:00<?, ?it/s]"
      ]
     },
     "metadata": {},
     "output_type": "display_data"
    },
    {
     "name": "stdout",
     "output_type": "stream",
     "text": [
      "Unable to remove memmapped file\n"
     ]
    },
    {
     "data": {
      "application/vnd.jupyter.widget-view+json": {
       "model_id": "adaa0d8fac2a4631ab54556514674fa2",
       "version_major": 2,
       "version_minor": 0
      },
      "text/plain": [
       "ACC features:   0%|          | 0/78 [00:00<?, ?it/s]"
      ]
     },
     "metadata": {},
     "output_type": "display_data"
    },
    {
     "name": "stdout",
     "output_type": "stream",
     "text": [
      "Unable to remove memmapped file\n"
     ]
    },
    {
     "data": {
      "application/vnd.jupyter.widget-view+json": {
       "model_id": "86dfad8ae33e474ab1dd778ca48f6683",
       "version_major": 2,
       "version_minor": 0
      },
      "text/plain": [
       "ACC features:   0%|          | 0/78 [00:00<?, ?it/s]"
      ]
     },
     "metadata": {},
     "output_type": "display_data"
    },
    {
     "name": "stdout",
     "output_type": "stream",
     "text": [
      "Unable to remove memmapped file\n"
     ]
    },
    {
     "data": {
      "application/vnd.jupyter.widget-view+json": {
       "model_id": "60c65ec6015c465ca76e88dac8143aeb",
       "version_major": 2,
       "version_minor": 0
      },
      "text/plain": [
       "ACC features:   0%|          | 0/127 [00:00<?, ?it/s]"
      ]
     },
     "metadata": {},
     "output_type": "display_data"
    },
    {
     "name": "stdout",
     "output_type": "stream",
     "text": [
      "Unable to remove memmapped file\n"
     ]
    },
    {
     "data": {
      "application/vnd.jupyter.widget-view+json": {
       "model_id": "de9762e1ab074e1eb24ca8efcb160805",
       "version_major": 2,
       "version_minor": 0
      },
      "text/plain": [
       "ACC features:   0%|          | 0/127 [00:00<?, ?it/s]"
      ]
     },
     "metadata": {},
     "output_type": "display_data"
    },
    {
     "name": "stdout",
     "output_type": "stream",
     "text": [
      "Unable to remove memmapped file\n"
     ]
    },
    {
     "data": {
      "application/vnd.jupyter.widget-view+json": {
       "model_id": "a874abf2d0af47c5bfb21419048b8553",
       "version_major": 2,
       "version_minor": 0
      },
      "text/plain": [
       "ACC features:   0%|          | 0/127 [00:00<?, ?it/s]"
      ]
     },
     "metadata": {},
     "output_type": "display_data"
    },
    {
     "name": "stdout",
     "output_type": "stream",
     "text": [
      "Unable to remove memmapped file\n"
     ]
    },
    {
     "data": {
      "application/vnd.jupyter.widget-view+json": {
       "model_id": "b526a4a55acf42608c48d070c4b1c956",
       "version_major": 2,
       "version_minor": 0
      },
      "text/plain": [
       "ACC features:   0%|          | 0/127 [00:00<?, ?it/s]"
      ]
     },
     "metadata": {},
     "output_type": "display_data"
    },
    {
     "name": "stdout",
     "output_type": "stream",
     "text": [
      "Unable to remove memmapped file\n"
     ]
    },
    {
     "data": {
      "application/vnd.jupyter.widget-view+json": {
       "model_id": "746d7f85b45c436b8170130fc3adc14f",
       "version_major": 2,
       "version_minor": 0
      },
      "text/plain": [
       "ACC features:   0%|          | 0/127 [00:00<?, ?it/s]"
      ]
     },
     "metadata": {},
     "output_type": "display_data"
    },
    {
     "name": "stdout",
     "output_type": "stream",
     "text": [
      "Unable to remove memmapped file\n"
     ]
    },
    {
     "data": {
      "application/vnd.jupyter.widget-view+json": {
       "model_id": "4a0a7941dad947138c11d687d422c0da",
       "version_major": 2,
       "version_minor": 0
      },
      "text/plain": [
       "ACC features:   0%|          | 0/78 [00:00<?, ?it/s]"
      ]
     },
     "metadata": {},
     "output_type": "display_data"
    },
    {
     "name": "stdout",
     "output_type": "stream",
     "text": [
      "Unable to remove memmapped file\n"
     ]
    },
    {
     "data": {
      "application/vnd.jupyter.widget-view+json": {
       "model_id": "1dae948d922b4ff096d1a68b44dd41f3",
       "version_major": 2,
       "version_minor": 0
      },
      "text/plain": [
       "ACC features:   0%|          | 0/78 [00:00<?, ?it/s]"
      ]
     },
     "metadata": {},
     "output_type": "display_data"
    },
    {
     "name": "stdout",
     "output_type": "stream",
     "text": [
      "Unable to remove memmapped file\n"
     ]
    },
    {
     "data": {
      "application/vnd.jupyter.widget-view+json": {
       "model_id": "f1ea991aa27f436cb457c33a67e4bc55",
       "version_major": 2,
       "version_minor": 0
      },
      "text/plain": [
       "ACC features:   0%|          | 0/78 [00:00<?, ?it/s]"
      ]
     },
     "metadata": {},
     "output_type": "display_data"
    },
    {
     "name": "stdout",
     "output_type": "stream",
     "text": [
      "Unable to remove memmapped file\n"
     ]
    },
    {
     "data": {
      "application/vnd.jupyter.widget-view+json": {
       "model_id": "20adae7fb79f4eab95c8a328a3d56505",
       "version_major": 2,
       "version_minor": 0
      },
      "text/plain": [
       "ACC features:   0%|          | 0/78 [00:00<?, ?it/s]"
      ]
     },
     "metadata": {},
     "output_type": "display_data"
    },
    {
     "name": "stdout",
     "output_type": "stream",
     "text": [
      "Unable to remove memmapped file\n"
     ]
    },
    {
     "data": {
      "application/vnd.jupyter.widget-view+json": {
       "model_id": "8a5d93ec06f24594aa93fb3b62943f37",
       "version_major": 2,
       "version_minor": 0
      },
      "text/plain": [
       "ACC features:   0%|          | 0/78 [00:00<?, ?it/s]"
      ]
     },
     "metadata": {},
     "output_type": "display_data"
    },
    {
     "name": "stdout",
     "output_type": "stream",
     "text": [
      "Unable to remove memmapped file\n"
     ]
    },
    {
     "data": {
      "application/vnd.jupyter.widget-view+json": {
       "model_id": "5d54a34a2f2241a8bf661bcac6960352",
       "version_major": 2,
       "version_minor": 0
      },
      "text/plain": [
       "ACC features:   0%|          | 0/1600 [00:00<?, ?it/s]"
      ]
     },
     "metadata": {},
     "output_type": "display_data"
    },
    {
     "name": "stdout",
     "output_type": "stream",
     "text": [
      "Unable to remove memmapped file\n"
     ]
    },
    {
     "data": {
      "application/vnd.jupyter.widget-view+json": {
       "model_id": "927613e8046f4745b96a646b54256ba3",
       "version_major": 2,
       "version_minor": 0
      },
      "text/plain": [
       "ACC features:   0%|          | 0/1600 [00:00<?, ?it/s]"
      ]
     },
     "metadata": {},
     "output_type": "display_data"
    },
    {
     "name": "stdout",
     "output_type": "stream",
     "text": [
      "Unable to remove memmapped file\n"
     ]
    },
    {
     "data": {
      "application/vnd.jupyter.widget-view+json": {
       "model_id": "1d5cdc55553f4b3496726e64042ec803",
       "version_major": 2,
       "version_minor": 0
      },
      "text/plain": [
       "ACC features:   0%|          | 0/1600 [00:00<?, ?it/s]"
      ]
     },
     "metadata": {},
     "output_type": "display_data"
    },
    {
     "name": "stdout",
     "output_type": "stream",
     "text": [
      "Unable to remove memmapped file\n"
     ]
    },
    {
     "data": {
      "application/vnd.jupyter.widget-view+json": {
       "model_id": "ff4f9f18f4a94f38a6bbc251b5a35120",
       "version_major": 2,
       "version_minor": 0
      },
      "text/plain": [
       "ACC features:   0%|          | 0/1600 [00:00<?, ?it/s]"
      ]
     },
     "metadata": {},
     "output_type": "display_data"
    },
    {
     "name": "stdout",
     "output_type": "stream",
     "text": [
      "Unable to remove memmapped file\n"
     ]
    },
    {
     "data": {
      "application/vnd.jupyter.widget-view+json": {
       "model_id": "9c330d619c694eb4ade0fdfa2938579e",
       "version_major": 2,
       "version_minor": 0
      },
      "text/plain": [
       "ACC features:   0%|          | 0/1600 [00:00<?, ?it/s]"
      ]
     },
     "metadata": {},
     "output_type": "display_data"
    },
    {
     "name": "stdout",
     "output_type": "stream",
     "text": [
      "Unable to remove memmapped file\n"
     ]
    },
    {
     "data": {
      "application/vnd.jupyter.widget-view+json": {
       "model_id": "1be5c6f290974338be2628f296e4bb4b",
       "version_major": 2,
       "version_minor": 0
      },
      "text/plain": [
       "ACC features:   0%|          | 0/36 [00:00<?, ?it/s]"
      ]
     },
     "metadata": {},
     "output_type": "display_data"
    },
    {
     "name": "stdout",
     "output_type": "stream",
     "text": [
      "Unable to remove memmapped file\n"
     ]
    },
    {
     "data": {
      "application/vnd.jupyter.widget-view+json": {
       "model_id": "f2580221bb114f058f9eb64eb1f8b062",
       "version_major": 2,
       "version_minor": 0
      },
      "text/plain": [
       "ACC features:   0%|          | 0/36 [00:00<?, ?it/s]"
      ]
     },
     "metadata": {},
     "output_type": "display_data"
    },
    {
     "name": "stdout",
     "output_type": "stream",
     "text": [
      "Unable to remove memmapped file\n"
     ]
    },
    {
     "data": {
      "application/vnd.jupyter.widget-view+json": {
       "model_id": "12fda29d9edf44e28f081e8b5b3df824",
       "version_major": 2,
       "version_minor": 0
      },
      "text/plain": [
       "ACC features:   0%|          | 0/36 [00:00<?, ?it/s]"
      ]
     },
     "metadata": {},
     "output_type": "display_data"
    },
    {
     "name": "stdout",
     "output_type": "stream",
     "text": [
      "Unable to remove memmapped file\n"
     ]
    },
    {
     "data": {
      "application/vnd.jupyter.widget-view+json": {
       "model_id": "91f393454df94ceda1c15afb4a3bb897",
       "version_major": 2,
       "version_minor": 0
      },
      "text/plain": [
       "ACC features:   0%|          | 0/36 [00:00<?, ?it/s]"
      ]
     },
     "metadata": {},
     "output_type": "display_data"
    },
    {
     "name": "stdout",
     "output_type": "stream",
     "text": [
      "Unable to remove memmapped file\n"
     ]
    },
    {
     "data": {
      "application/vnd.jupyter.widget-view+json": {
       "model_id": "ad97b353bd6f440790587c30bb87ac77",
       "version_major": 2,
       "version_minor": 0
      },
      "text/plain": [
       "ACC features:   0%|          | 0/36 [00:00<?, ?it/s]"
      ]
     },
     "metadata": {},
     "output_type": "display_data"
    },
    {
     "name": "stdout",
     "output_type": "stream",
     "text": [
      "Unable to remove memmapped file\n"
     ]
    },
    {
     "data": {
      "application/vnd.jupyter.widget-view+json": {
       "model_id": "47b0a9e42dd14d709b0de03352086e7b",
       "version_major": 2,
       "version_minor": 0
      },
      "text/plain": [
       "ACC features:   0%|          | 0/24 [00:00<?, ?it/s]"
      ]
     },
     "metadata": {},
     "output_type": "display_data"
    },
    {
     "name": "stdout",
     "output_type": "stream",
     "text": [
      "Unable to remove memmapped file\n"
     ]
    },
    {
     "data": {
      "application/vnd.jupyter.widget-view+json": {
       "model_id": "f31219c9105848ee8581c2c619358024",
       "version_major": 2,
       "version_minor": 0
      },
      "text/plain": [
       "ACC features:   0%|          | 0/24 [00:00<?, ?it/s]"
      ]
     },
     "metadata": {},
     "output_type": "display_data"
    },
    {
     "name": "stdout",
     "output_type": "stream",
     "text": [
      "Unable to remove memmapped file\n"
     ]
    },
    {
     "data": {
      "application/vnd.jupyter.widget-view+json": {
       "model_id": "5e623c128927458ca95577316b1847e9",
       "version_major": 2,
       "version_minor": 0
      },
      "text/plain": [
       "ACC features:   0%|          | 0/24 [00:00<?, ?it/s]"
      ]
     },
     "metadata": {},
     "output_type": "display_data"
    },
    {
     "name": "stdout",
     "output_type": "stream",
     "text": [
      "Unable to remove memmapped file\n"
     ]
    },
    {
     "data": {
      "application/vnd.jupyter.widget-view+json": {
       "model_id": "e82bbb7cf7a040b9bd410d525db14d71",
       "version_major": 2,
       "version_minor": 0
      },
      "text/plain": [
       "ACC features:   0%|          | 0/24 [00:00<?, ?it/s]"
      ]
     },
     "metadata": {},
     "output_type": "display_data"
    },
    {
     "name": "stdout",
     "output_type": "stream",
     "text": [
      "Unable to remove memmapped file\n"
     ]
    },
    {
     "data": {
      "application/vnd.jupyter.widget-view+json": {
       "model_id": "5be0682c2be14c028f3f86a97ae39a2f",
       "version_major": 2,
       "version_minor": 0
      },
      "text/plain": [
       "ACC features:   0%|          | 0/24 [00:00<?, ?it/s]"
      ]
     },
     "metadata": {},
     "output_type": "display_data"
    },
    {
     "name": "stdout",
     "output_type": "stream",
     "text": [
      "Unable to remove memmapped file\n"
     ]
    },
    {
     "data": {
      "application/vnd.jupyter.widget-view+json": {
       "model_id": "6589f5bb2ccf40a0965141faffff6823",
       "version_major": 2,
       "version_minor": 0
      },
      "text/plain": [
       "ACC features:   0%|          | 0/84 [00:00<?, ?it/s]"
      ]
     },
     "metadata": {},
     "output_type": "display_data"
    },
    {
     "name": "stdout",
     "output_type": "stream",
     "text": [
      "Unable to remove memmapped file\n"
     ]
    },
    {
     "data": {
      "application/vnd.jupyter.widget-view+json": {
       "model_id": "fe7360b0f0de4aaeb934a48b41b311cc",
       "version_major": 2,
       "version_minor": 0
      },
      "text/plain": [
       "ACC features:   0%|          | 0/84 [00:00<?, ?it/s]"
      ]
     },
     "metadata": {},
     "output_type": "display_data"
    },
    {
     "name": "stdout",
     "output_type": "stream",
     "text": [
      "Unable to remove memmapped file\n"
     ]
    },
    {
     "data": {
      "application/vnd.jupyter.widget-view+json": {
       "model_id": "2b8cf7b47b73486cb11bd6f7c13b95e8",
       "version_major": 2,
       "version_minor": 0
      },
      "text/plain": [
       "ACC features:   0%|          | 0/84 [00:00<?, ?it/s]"
      ]
     },
     "metadata": {},
     "output_type": "display_data"
    },
    {
     "name": "stdout",
     "output_type": "stream",
     "text": [
      "Unable to remove memmapped file\n"
     ]
    },
    {
     "data": {
      "application/vnd.jupyter.widget-view+json": {
       "model_id": "c818913ecdb848d4a9e975e7db6f6305",
       "version_major": 2,
       "version_minor": 0
      },
      "text/plain": [
       "ACC features:   0%|          | 0/84 [00:00<?, ?it/s]"
      ]
     },
     "metadata": {},
     "output_type": "display_data"
    },
    {
     "name": "stdout",
     "output_type": "stream",
     "text": [
      "Unable to remove memmapped file\n"
     ]
    },
    {
     "data": {
      "application/vnd.jupyter.widget-view+json": {
       "model_id": "7a1473d8b0a84e908bdb7b450b7f0ca7",
       "version_major": 2,
       "version_minor": 0
      },
      "text/plain": [
       "ACC features:   0%|          | 0/84 [00:00<?, ?it/s]"
      ]
     },
     "metadata": {},
     "output_type": "display_data"
    },
    {
     "name": "stdout",
     "output_type": "stream",
     "text": [
      "Unable to remove memmapped file\n"
     ]
    },
    {
     "data": {
      "application/vnd.jupyter.widget-view+json": {
       "model_id": "753dd72384dd4cb8b49572577b37af22",
       "version_major": 2,
       "version_minor": 0
      },
      "text/plain": [
       "ACC features:   0%|          | 0/1242 [00:00<?, ?it/s]"
      ]
     },
     "metadata": {},
     "output_type": "display_data"
    },
    {
     "name": "stdout",
     "output_type": "stream",
     "text": [
      "Unable to remove memmapped file\n"
     ]
    },
    {
     "data": {
      "application/vnd.jupyter.widget-view+json": {
       "model_id": "249587f444474d47a788f5fc49e7dcb7",
       "version_major": 2,
       "version_minor": 0
      },
      "text/plain": [
       "ACC features:   0%|          | 0/1242 [00:00<?, ?it/s]"
      ]
     },
     "metadata": {},
     "output_type": "display_data"
    },
    {
     "name": "stdout",
     "output_type": "stream",
     "text": [
      "Unable to remove memmapped file\n"
     ]
    },
    {
     "data": {
      "application/vnd.jupyter.widget-view+json": {
       "model_id": "48ec849fda914f58a593911830b4db89",
       "version_major": 2,
       "version_minor": 0
      },
      "text/plain": [
       "ACC features:   0%|          | 0/1242 [00:00<?, ?it/s]"
      ]
     },
     "metadata": {},
     "output_type": "display_data"
    },
    {
     "name": "stdout",
     "output_type": "stream",
     "text": [
      "Unable to remove memmapped file\n"
     ]
    },
    {
     "data": {
      "application/vnd.jupyter.widget-view+json": {
       "model_id": "e015771fb59842ffb345997e97402e6d",
       "version_major": 2,
       "version_minor": 0
      },
      "text/plain": [
       "ACC features:   0%|          | 0/1242 [00:00<?, ?it/s]"
      ]
     },
     "metadata": {},
     "output_type": "display_data"
    },
    {
     "name": "stdout",
     "output_type": "stream",
     "text": [
      "Unable to remove memmapped file\n"
     ]
    },
    {
     "data": {
      "application/vnd.jupyter.widget-view+json": {
       "model_id": "dbe3a76466b04ce49a4c73adfed1130d",
       "version_major": 2,
       "version_minor": 0
      },
      "text/plain": [
       "ACC features:   0%|          | 0/1242 [00:00<?, ?it/s]"
      ]
     },
     "metadata": {},
     "output_type": "display_data"
    },
    {
     "name": "stdout",
     "output_type": "stream",
     "text": [
      "Unable to remove memmapped file\n"
     ]
    },
    {
     "data": {
      "application/vnd.jupyter.widget-view+json": {
       "model_id": "dafa9069a8f44278aaf518513504f9ac",
       "version_major": 2,
       "version_minor": 0
      },
      "text/plain": [
       "ACC features:   0%|          | 0/120 [00:00<?, ?it/s]"
      ]
     },
     "metadata": {},
     "output_type": "display_data"
    },
    {
     "name": "stdout",
     "output_type": "stream",
     "text": [
      "Unable to remove memmapped file\n"
     ]
    },
    {
     "data": {
      "application/vnd.jupyter.widget-view+json": {
       "model_id": "4b9621337f744bca83fc5919bb666e0f",
       "version_major": 2,
       "version_minor": 0
      },
      "text/plain": [
       "ACC features:   0%|          | 0/120 [00:00<?, ?it/s]"
      ]
     },
     "metadata": {},
     "output_type": "display_data"
    },
    {
     "name": "stdout",
     "output_type": "stream",
     "text": [
      "Unable to remove memmapped file\n"
     ]
    },
    {
     "data": {
      "application/vnd.jupyter.widget-view+json": {
       "model_id": "381937e1502049598fb3b46fbcde1d2a",
       "version_major": 2,
       "version_minor": 0
      },
      "text/plain": [
       "ACC features:   0%|          | 0/120 [00:00<?, ?it/s]"
      ]
     },
     "metadata": {},
     "output_type": "display_data"
    },
    {
     "name": "stdout",
     "output_type": "stream",
     "text": [
      "Unable to remove memmapped file\n"
     ]
    },
    {
     "data": {
      "application/vnd.jupyter.widget-view+json": {
       "model_id": "704bfe8cb1d147f8b31e59edf06a2ead",
       "version_major": 2,
       "version_minor": 0
      },
      "text/plain": [
       "ACC features:   0%|          | 0/120 [00:00<?, ?it/s]"
      ]
     },
     "metadata": {},
     "output_type": "display_data"
    },
    {
     "name": "stdout",
     "output_type": "stream",
     "text": [
      "Unable to remove memmapped file\n"
     ]
    },
    {
     "data": {
      "application/vnd.jupyter.widget-view+json": {
       "model_id": "2eac9786532e4ce2be54d3f712d932c3",
       "version_major": 2,
       "version_minor": 0
      },
      "text/plain": [
       "ACC features:   0%|          | 0/120 [00:00<?, ?it/s]"
      ]
     },
     "metadata": {},
     "output_type": "display_data"
    },
    {
     "name": "stdout",
     "output_type": "stream",
     "text": [
      "Unable to remove memmapped file\n"
     ]
    },
    {
     "data": {
      "application/vnd.jupyter.widget-view+json": {
       "model_id": "98f84577425c4e9c8715ba23be2cd126",
       "version_major": 2,
       "version_minor": 0
      },
      "text/plain": [
       "ACC features:   0%|          | 0/18 [00:00<?, ?it/s]"
      ]
     },
     "metadata": {},
     "output_type": "display_data"
    },
    {
     "name": "stdout",
     "output_type": "stream",
     "text": [
      "Unable to remove memmapped file\n"
     ]
    },
    {
     "data": {
      "application/vnd.jupyter.widget-view+json": {
       "model_id": "7d0b23312f8f40ebb8dc0dc703ca4905",
       "version_major": 2,
       "version_minor": 0
      },
      "text/plain": [
       "ACC features:   0%|          | 0/18 [00:00<?, ?it/s]"
      ]
     },
     "metadata": {},
     "output_type": "display_data"
    },
    {
     "name": "stdout",
     "output_type": "stream",
     "text": [
      "Unable to remove memmapped file\n"
     ]
    },
    {
     "data": {
      "application/vnd.jupyter.widget-view+json": {
       "model_id": "6ffa6b66f14046b29da1c96c10c68e75",
       "version_major": 2,
       "version_minor": 0
      },
      "text/plain": [
       "ACC features:   0%|          | 0/18 [00:00<?, ?it/s]"
      ]
     },
     "metadata": {},
     "output_type": "display_data"
    },
    {
     "name": "stdout",
     "output_type": "stream",
     "text": [
      "Unable to remove memmapped file\n"
     ]
    },
    {
     "data": {
      "application/vnd.jupyter.widget-view+json": {
       "model_id": "0ca2a6002f5746e6a1b19be28f0720ae",
       "version_major": 2,
       "version_minor": 0
      },
      "text/plain": [
       "ACC features:   0%|          | 0/18 [00:00<?, ?it/s]"
      ]
     },
     "metadata": {},
     "output_type": "display_data"
    },
    {
     "name": "stdout",
     "output_type": "stream",
     "text": [
      "Unable to remove memmapped file\n"
     ]
    },
    {
     "data": {
      "application/vnd.jupyter.widget-view+json": {
       "model_id": "53f0117ebdc44ea28cff6e78bb38f441",
       "version_major": 2,
       "version_minor": 0
      },
      "text/plain": [
       "ACC features:   0%|          | 0/18 [00:00<?, ?it/s]"
      ]
     },
     "metadata": {},
     "output_type": "display_data"
    },
    {
     "name": "stdout",
     "output_type": "stream",
     "text": [
      "Unable to remove memmapped file\n"
     ]
    },
    {
     "data": {
      "application/vnd.jupyter.widget-view+json": {
       "model_id": "33033b8e68c54424924364c9a25cca5f",
       "version_major": 2,
       "version_minor": 0
      },
      "text/plain": [
       "ACC features:   0%|          | 0/36 [00:00<?, ?it/s]"
      ]
     },
     "metadata": {},
     "output_type": "display_data"
    },
    {
     "name": "stdout",
     "output_type": "stream",
     "text": [
      "Unable to remove memmapped file\n"
     ]
    },
    {
     "data": {
      "application/vnd.jupyter.widget-view+json": {
       "model_id": "ea1595cd4c704771837f4d3316008c2e",
       "version_major": 2,
       "version_minor": 0
      },
      "text/plain": [
       "ACC features:   0%|          | 0/36 [00:00<?, ?it/s]"
      ]
     },
     "metadata": {},
     "output_type": "display_data"
    },
    {
     "name": "stdout",
     "output_type": "stream",
     "text": [
      "Unable to remove memmapped file\n"
     ]
    },
    {
     "data": {
      "application/vnd.jupyter.widget-view+json": {
       "model_id": "f9479f175dd841e58e5588c054605f5d",
       "version_major": 2,
       "version_minor": 0
      },
      "text/plain": [
       "ACC features:   0%|          | 0/36 [00:00<?, ?it/s]"
      ]
     },
     "metadata": {},
     "output_type": "display_data"
    },
    {
     "name": "stdout",
     "output_type": "stream",
     "text": [
      "Unable to remove memmapped file\n"
     ]
    },
    {
     "data": {
      "application/vnd.jupyter.widget-view+json": {
       "model_id": "a6278f09c7ea45cba1aca5625ccbd2e1",
       "version_major": 2,
       "version_minor": 0
      },
      "text/plain": [
       "ACC features:   0%|          | 0/36 [00:00<?, ?it/s]"
      ]
     },
     "metadata": {},
     "output_type": "display_data"
    },
    {
     "name": "stdout",
     "output_type": "stream",
     "text": [
      "Unable to remove memmapped file\n"
     ]
    },
    {
     "data": {
      "application/vnd.jupyter.widget-view+json": {
       "model_id": "529f74fe3cdd406fb9d219b653d64ed7",
       "version_major": 2,
       "version_minor": 0
      },
      "text/plain": [
       "ACC features:   0%|          | 0/36 [00:00<?, ?it/s]"
      ]
     },
     "metadata": {},
     "output_type": "display_data"
    },
    {
     "name": "stdout",
     "output_type": "stream",
     "text": [
      "Unable to remove memmapped file\n"
     ]
    },
    {
     "data": {
      "application/vnd.jupyter.widget-view+json": {
       "model_id": "f30d17980b7d4628ac3a4d4508c01668",
       "version_major": 2,
       "version_minor": 0
      },
      "text/plain": [
       "ACC features:   0%|          | 0/18 [00:00<?, ?it/s]"
      ]
     },
     "metadata": {},
     "output_type": "display_data"
    },
    {
     "name": "stdout",
     "output_type": "stream",
     "text": [
      "Unable to remove memmapped file\n"
     ]
    },
    {
     "data": {
      "application/vnd.jupyter.widget-view+json": {
       "model_id": "b9f7d49ee3a84bf1a4a0597ae237f080",
       "version_major": 2,
       "version_minor": 0
      },
      "text/plain": [
       "ACC features:   0%|          | 0/18 [00:00<?, ?it/s]"
      ]
     },
     "metadata": {},
     "output_type": "display_data"
    },
    {
     "name": "stdout",
     "output_type": "stream",
     "text": [
      "Unable to remove memmapped file\n"
     ]
    },
    {
     "data": {
      "application/vnd.jupyter.widget-view+json": {
       "model_id": "933440d086a8443fa388e33f9b01e09a",
       "version_major": 2,
       "version_minor": 0
      },
      "text/plain": [
       "ACC features:   0%|          | 0/18 [00:00<?, ?it/s]"
      ]
     },
     "metadata": {},
     "output_type": "display_data"
    },
    {
     "name": "stdout",
     "output_type": "stream",
     "text": [
      "Unable to remove memmapped file\n"
     ]
    },
    {
     "data": {
      "application/vnd.jupyter.widget-view+json": {
       "model_id": "333a672a59dc47dba22efd91c54a6894",
       "version_major": 2,
       "version_minor": 0
      },
      "text/plain": [
       "ACC features:   0%|          | 0/18 [00:00<?, ?it/s]"
      ]
     },
     "metadata": {},
     "output_type": "display_data"
    },
    {
     "name": "stdout",
     "output_type": "stream",
     "text": [
      "Unable to remove memmapped file\n"
     ]
    },
    {
     "data": {
      "application/vnd.jupyter.widget-view+json": {
       "model_id": "e6e472cd1abf4a05897ef436df5523eb",
       "version_major": 2,
       "version_minor": 0
      },
      "text/plain": [
       "ACC features:   0%|          | 0/18 [00:00<?, ?it/s]"
      ]
     },
     "metadata": {},
     "output_type": "display_data"
    },
    {
     "name": "stdout",
     "output_type": "stream",
     "text": [
      "Unable to remove memmapped file\n"
     ]
    },
    {
     "data": {
      "application/vnd.jupyter.widget-view+json": {
       "model_id": "b01fb5a592bf44c6a67ccc84bb7108e4",
       "version_major": 2,
       "version_minor": 0
      },
      "text/plain": [
       "ACC features:   0%|          | 0/1071 [00:00<?, ?it/s]"
      ]
     },
     "metadata": {},
     "output_type": "display_data"
    },
    {
     "name": "stdout",
     "output_type": "stream",
     "text": [
      "Unable to remove memmapped file\n"
     ]
    },
    {
     "data": {
      "application/vnd.jupyter.widget-view+json": {
       "model_id": "8376ad5a11f64678b257ec2a2cff1a8e",
       "version_major": 2,
       "version_minor": 0
      },
      "text/plain": [
       "ACC features:   0%|          | 0/1071 [00:00<?, ?it/s]"
      ]
     },
     "metadata": {},
     "output_type": "display_data"
    },
    {
     "name": "stdout",
     "output_type": "stream",
     "text": [
      "Unable to remove memmapped file\n"
     ]
    },
    {
     "data": {
      "application/vnd.jupyter.widget-view+json": {
       "model_id": "95398f0eab424ef096177a84efdad93d",
       "version_major": 2,
       "version_minor": 0
      },
      "text/plain": [
       "ACC features:   0%|          | 0/1071 [00:00<?, ?it/s]"
      ]
     },
     "metadata": {},
     "output_type": "display_data"
    },
    {
     "name": "stdout",
     "output_type": "stream",
     "text": [
      "Unable to remove memmapped file\n"
     ]
    },
    {
     "data": {
      "application/vnd.jupyter.widget-view+json": {
       "model_id": "135f10245fdc438aa57c040fcce09f7b",
       "version_major": 2,
       "version_minor": 0
      },
      "text/plain": [
       "ACC features:   0%|          | 0/1071 [00:00<?, ?it/s]"
      ]
     },
     "metadata": {},
     "output_type": "display_data"
    },
    {
     "name": "stdout",
     "output_type": "stream",
     "text": [
      "Unable to remove memmapped file\n"
     ]
    },
    {
     "data": {
      "application/vnd.jupyter.widget-view+json": {
       "model_id": "ae9f05830a104fb1892cedd2b28e4fdb",
       "version_major": 2,
       "version_minor": 0
      },
      "text/plain": [
       "ACC features:   0%|          | 0/1071 [00:00<?, ?it/s]"
      ]
     },
     "metadata": {},
     "output_type": "display_data"
    },
    {
     "name": "stdout",
     "output_type": "stream",
     "text": [
      "Unable to remove memmapped file\n"
     ]
    },
    {
     "data": {
      "application/vnd.jupyter.widget-view+json": {
       "model_id": "894f9c200ceb44bdb0787fa922ddb503",
       "version_major": 2,
       "version_minor": 0
      },
      "text/plain": [
       "ACC features:   0%|          | 0/54 [00:00<?, ?it/s]"
      ]
     },
     "metadata": {},
     "output_type": "display_data"
    },
    {
     "name": "stdout",
     "output_type": "stream",
     "text": [
      "Unable to remove memmapped file\n"
     ]
    },
    {
     "data": {
      "application/vnd.jupyter.widget-view+json": {
       "model_id": "e593d872b7a74520a378f4dabf7b000a",
       "version_major": 2,
       "version_minor": 0
      },
      "text/plain": [
       "ACC features:   0%|          | 0/54 [00:00<?, ?it/s]"
      ]
     },
     "metadata": {},
     "output_type": "display_data"
    },
    {
     "name": "stdout",
     "output_type": "stream",
     "text": [
      "Unable to remove memmapped file\n"
     ]
    },
    {
     "data": {
      "application/vnd.jupyter.widget-view+json": {
       "model_id": "33f2f96b3faf4646ac7f763137df9a8f",
       "version_major": 2,
       "version_minor": 0
      },
      "text/plain": [
       "ACC features:   0%|          | 0/54 [00:00<?, ?it/s]"
      ]
     },
     "metadata": {},
     "output_type": "display_data"
    },
    {
     "name": "stdout",
     "output_type": "stream",
     "text": [
      "Unable to remove memmapped file\n"
     ]
    },
    {
     "data": {
      "application/vnd.jupyter.widget-view+json": {
       "model_id": "763533a9343c4b5781ce032bfdf138cd",
       "version_major": 2,
       "version_minor": 0
      },
      "text/plain": [
       "ACC features:   0%|          | 0/54 [00:00<?, ?it/s]"
      ]
     },
     "metadata": {},
     "output_type": "display_data"
    },
    {
     "name": "stdout",
     "output_type": "stream",
     "text": [
      "Unable to remove memmapped file\n"
     ]
    },
    {
     "data": {
      "application/vnd.jupyter.widget-view+json": {
       "model_id": "8c010172939444178895e4e2685900c1",
       "version_major": 2,
       "version_minor": 0
      },
      "text/plain": [
       "ACC features:   0%|          | 0/54 [00:00<?, ?it/s]"
      ]
     },
     "metadata": {},
     "output_type": "display_data"
    },
    {
     "name": "stdout",
     "output_type": "stream",
     "text": [
      "Unable to remove memmapped file\n"
     ]
    },
    {
     "data": {
      "application/vnd.jupyter.widget-view+json": {
       "model_id": "61e84ab71dba47218b728b3ca8816f4b",
       "version_major": 2,
       "version_minor": 0
      },
      "text/plain": [
       "ACC features:   0%|          | 0/30 [00:00<?, ?it/s]"
      ]
     },
     "metadata": {},
     "output_type": "display_data"
    },
    {
     "name": "stdout",
     "output_type": "stream",
     "text": [
      "Unable to remove memmapped file\n"
     ]
    },
    {
     "data": {
      "application/vnd.jupyter.widget-view+json": {
       "model_id": "e00c25cbb3a64aebbb07c28a90fb1e0f",
       "version_major": 2,
       "version_minor": 0
      },
      "text/plain": [
       "ACC features:   0%|          | 0/30 [00:00<?, ?it/s]"
      ]
     },
     "metadata": {},
     "output_type": "display_data"
    },
    {
     "name": "stdout",
     "output_type": "stream",
     "text": [
      "Unable to remove memmapped file\n"
     ]
    },
    {
     "data": {
      "application/vnd.jupyter.widget-view+json": {
       "model_id": "c6a16ede23cd4331a7f4a83659c21b55",
       "version_major": 2,
       "version_minor": 0
      },
      "text/plain": [
       "ACC features:   0%|          | 0/30 [00:00<?, ?it/s]"
      ]
     },
     "metadata": {},
     "output_type": "display_data"
    },
    {
     "name": "stdout",
     "output_type": "stream",
     "text": [
      "Unable to remove memmapped file\n"
     ]
    },
    {
     "data": {
      "application/vnd.jupyter.widget-view+json": {
       "model_id": "8cc5b097e0df4f6dacc2b08003d38312",
       "version_major": 2,
       "version_minor": 0
      },
      "text/plain": [
       "ACC features:   0%|          | 0/30 [00:00<?, ?it/s]"
      ]
     },
     "metadata": {},
     "output_type": "display_data"
    },
    {
     "name": "stdout",
     "output_type": "stream",
     "text": [
      "Unable to remove memmapped file\n"
     ]
    },
    {
     "data": {
      "application/vnd.jupyter.widget-view+json": {
       "model_id": "0b6d2bf4716d48d58457e4847f947243",
       "version_major": 2,
       "version_minor": 0
      },
      "text/plain": [
       "ACC features:   0%|          | 0/30 [00:00<?, ?it/s]"
      ]
     },
     "metadata": {},
     "output_type": "display_data"
    },
    {
     "name": "stdout",
     "output_type": "stream",
     "text": [
      "Unable to remove memmapped file\n"
     ]
    },
    {
     "data": {
      "application/vnd.jupyter.widget-view+json": {
       "model_id": "ba8606f9a9d14b7ea7e5541b600fa9f4",
       "version_major": 2,
       "version_minor": 0
      },
      "text/plain": [
       "ACC features:   0%|          | 0/96 [00:00<?, ?it/s]"
      ]
     },
     "metadata": {},
     "output_type": "display_data"
    },
    {
     "name": "stdout",
     "output_type": "stream",
     "text": [
      "Unable to remove memmapped file\n"
     ]
    },
    {
     "data": {
      "application/vnd.jupyter.widget-view+json": {
       "model_id": "74a5b19afde94f3d865b1a487eaa5da9",
       "version_major": 2,
       "version_minor": 0
      },
      "text/plain": [
       "ACC features:   0%|          | 0/96 [00:00<?, ?it/s]"
      ]
     },
     "metadata": {},
     "output_type": "display_data"
    },
    {
     "name": "stdout",
     "output_type": "stream",
     "text": [
      "Unable to remove memmapped file\n"
     ]
    },
    {
     "data": {
      "application/vnd.jupyter.widget-view+json": {
       "model_id": "0f26ceb303734d7e93b928f6ed41b219",
       "version_major": 2,
       "version_minor": 0
      },
      "text/plain": [
       "ACC features:   0%|          | 0/96 [00:00<?, ?it/s]"
      ]
     },
     "metadata": {},
     "output_type": "display_data"
    },
    {
     "name": "stdout",
     "output_type": "stream",
     "text": [
      "Unable to remove memmapped file\n"
     ]
    },
    {
     "data": {
      "application/vnd.jupyter.widget-view+json": {
       "model_id": "e68e4571cc864b5f8d98bda4d19ce941",
       "version_major": 2,
       "version_minor": 0
      },
      "text/plain": [
       "ACC features:   0%|          | 0/96 [00:00<?, ?it/s]"
      ]
     },
     "metadata": {},
     "output_type": "display_data"
    },
    {
     "name": "stdout",
     "output_type": "stream",
     "text": [
      "Unable to remove memmapped file\n"
     ]
    },
    {
     "data": {
      "application/vnd.jupyter.widget-view+json": {
       "model_id": "41439c78b77946ebb3ffb976a615c3bb",
       "version_major": 2,
       "version_minor": 0
      },
      "text/plain": [
       "ACC features:   0%|          | 0/96 [00:00<?, ?it/s]"
      ]
     },
     "metadata": {},
     "output_type": "display_data"
    },
    {
     "name": "stdout",
     "output_type": "stream",
     "text": [
      "Unable to remove memmapped file\n"
     ]
    },
    {
     "data": {
      "application/vnd.jupyter.widget-view+json": {
       "model_id": "1a858c4e77ba43ba9e62addbbdd943f4",
       "version_major": 2,
       "version_minor": 0
      },
      "text/plain": [
       "ACC features:   0%|          | 0/54 [00:00<?, ?it/s]"
      ]
     },
     "metadata": {},
     "output_type": "display_data"
    },
    {
     "name": "stdout",
     "output_type": "stream",
     "text": [
      "Unable to remove memmapped file\n"
     ]
    },
    {
     "data": {
      "application/vnd.jupyter.widget-view+json": {
       "model_id": "4b62d2324f12449ca860c9f998bcf717",
       "version_major": 2,
       "version_minor": 0
      },
      "text/plain": [
       "ACC features:   0%|          | 0/54 [00:00<?, ?it/s]"
      ]
     },
     "metadata": {},
     "output_type": "display_data"
    },
    {
     "name": "stdout",
     "output_type": "stream",
     "text": [
      "Unable to remove memmapped file\n"
     ]
    },
    {
     "data": {
      "application/vnd.jupyter.widget-view+json": {
       "model_id": "cd8b4a2bc52e42eebe9cd56f9383634e",
       "version_major": 2,
       "version_minor": 0
      },
      "text/plain": [
       "ACC features:   0%|          | 0/54 [00:00<?, ?it/s]"
      ]
     },
     "metadata": {},
     "output_type": "display_data"
    },
    {
     "name": "stdout",
     "output_type": "stream",
     "text": [
      "Unable to remove memmapped file\n"
     ]
    },
    {
     "data": {
      "application/vnd.jupyter.widget-view+json": {
       "model_id": "b3a72733f0234192bcbf1e215c938711",
       "version_major": 2,
       "version_minor": 0
      },
      "text/plain": [
       "ACC features:   0%|          | 0/54 [00:00<?, ?it/s]"
      ]
     },
     "metadata": {},
     "output_type": "display_data"
    },
    {
     "name": "stdout",
     "output_type": "stream",
     "text": [
      "Unable to remove memmapped file\n"
     ]
    },
    {
     "data": {
      "application/vnd.jupyter.widget-view+json": {
       "model_id": "93d86ba8d1a94be495ee9860eb989922",
       "version_major": 2,
       "version_minor": 0
      },
      "text/plain": [
       "ACC features:   0%|          | 0/54 [00:00<?, ?it/s]"
      ]
     },
     "metadata": {},
     "output_type": "display_data"
    },
    {
     "name": "stdout",
     "output_type": "stream",
     "text": [
      "Unable to remove memmapped file\n"
     ]
    },
    {
     "data": {
      "application/vnd.jupyter.widget-view+json": {
       "model_id": "39bba253f14c4197a5e7650ec98c4c0c",
       "version_major": 2,
       "version_minor": 0
      },
      "text/plain": [
       "ACC features:   0%|          | 0/188 [00:00<?, ?it/s]"
      ]
     },
     "metadata": {},
     "output_type": "display_data"
    },
    {
     "name": "stdout",
     "output_type": "stream",
     "text": [
      "Unable to remove memmapped file\n"
     ]
    },
    {
     "data": {
      "application/vnd.jupyter.widget-view+json": {
       "model_id": "0e608990f4e64b378c917e68b2086096",
       "version_major": 2,
       "version_minor": 0
      },
      "text/plain": [
       "ACC features:   0%|          | 0/188 [00:00<?, ?it/s]"
      ]
     },
     "metadata": {},
     "output_type": "display_data"
    },
    {
     "name": "stdout",
     "output_type": "stream",
     "text": [
      "Unable to remove memmapped file\n"
     ]
    },
    {
     "data": {
      "application/vnd.jupyter.widget-view+json": {
       "model_id": "541b0f8cab434d8f83665f7fb8903a48",
       "version_major": 2,
       "version_minor": 0
      },
      "text/plain": [
       "ACC features:   0%|          | 0/188 [00:00<?, ?it/s]"
      ]
     },
     "metadata": {},
     "output_type": "display_data"
    },
    {
     "name": "stdout",
     "output_type": "stream",
     "text": [
      "Unable to remove memmapped file\n"
     ]
    },
    {
     "data": {
      "application/vnd.jupyter.widget-view+json": {
       "model_id": "9a247f7cbdb649dab1374d075f2a6a67",
       "version_major": 2,
       "version_minor": 0
      },
      "text/plain": [
       "ACC features:   0%|          | 0/188 [00:00<?, ?it/s]"
      ]
     },
     "metadata": {},
     "output_type": "display_data"
    },
    {
     "name": "stdout",
     "output_type": "stream",
     "text": [
      "Unable to remove memmapped file\n"
     ]
    },
    {
     "data": {
      "application/vnd.jupyter.widget-view+json": {
       "model_id": "0978b2366fda4da3b055a25f20b70f2e",
       "version_major": 2,
       "version_minor": 0
      },
      "text/plain": [
       "ACC features:   0%|          | 0/188 [00:00<?, ?it/s]"
      ]
     },
     "metadata": {},
     "output_type": "display_data"
    },
    {
     "name": "stdout",
     "output_type": "stream",
     "text": [
      "Unable to remove memmapped file\n"
     ]
    },
    {
     "data": {
      "application/vnd.jupyter.widget-view+json": {
       "model_id": "3bd18c0aac9b410d9d870096cf3af5b7",
       "version_major": 2,
       "version_minor": 0
      },
      "text/plain": [
       "ACC features:   0%|          | 0/258 [00:00<?, ?it/s]"
      ]
     },
     "metadata": {},
     "output_type": "display_data"
    },
    {
     "name": "stdout",
     "output_type": "stream",
     "text": [
      "Unable to remove memmapped file\n"
     ]
    },
    {
     "data": {
      "application/vnd.jupyter.widget-view+json": {
       "model_id": "f2fd3920e1df400ab4ff72f50e7b7d55",
       "version_major": 2,
       "version_minor": 0
      },
      "text/plain": [
       "ACC features:   0%|          | 0/258 [00:00<?, ?it/s]"
      ]
     },
     "metadata": {},
     "output_type": "display_data"
    },
    {
     "name": "stdout",
     "output_type": "stream",
     "text": [
      "Unable to remove memmapped file\n"
     ]
    },
    {
     "data": {
      "application/vnd.jupyter.widget-view+json": {
       "model_id": "c96ec728528248a897bfe210ee66a078",
       "version_major": 2,
       "version_minor": 0
      },
      "text/plain": [
       "ACC features:   0%|          | 0/258 [00:00<?, ?it/s]"
      ]
     },
     "metadata": {},
     "output_type": "display_data"
    },
    {
     "name": "stdout",
     "output_type": "stream",
     "text": [
      "Unable to remove memmapped file\n"
     ]
    },
    {
     "data": {
      "application/vnd.jupyter.widget-view+json": {
       "model_id": "5bbf11ca7a6a4939964f982bc0fdb008",
       "version_major": 2,
       "version_minor": 0
      },
      "text/plain": [
       "ACC features:   0%|          | 0/258 [00:00<?, ?it/s]"
      ]
     },
     "metadata": {},
     "output_type": "display_data"
    },
    {
     "name": "stdout",
     "output_type": "stream",
     "text": [
      "Unable to remove memmapped file\n"
     ]
    },
    {
     "data": {
      "application/vnd.jupyter.widget-view+json": {
       "model_id": "8a32c4e1517247728ed4ca0691c60f29",
       "version_major": 2,
       "version_minor": 0
      },
      "text/plain": [
       "ACC features:   0%|          | 0/258 [00:00<?, ?it/s]"
      ]
     },
     "metadata": {},
     "output_type": "display_data"
    },
    {
     "name": "stdout",
     "output_type": "stream",
     "text": [
      "Unable to remove memmapped file\n"
     ]
    },
    {
     "data": {
      "application/vnd.jupyter.widget-view+json": {
       "model_id": "453d5ec234474de4b6ae3158a5f29344",
       "version_major": 2,
       "version_minor": 0
      },
      "text/plain": [
       "ACC features:   0%|          | 0/48 [00:00<?, ?it/s]"
      ]
     },
     "metadata": {},
     "output_type": "display_data"
    },
    {
     "name": "stdout",
     "output_type": "stream",
     "text": [
      "Unable to remove memmapped file\n"
     ]
    },
    {
     "data": {
      "application/vnd.jupyter.widget-view+json": {
       "model_id": "a44df583cbd340818424e75ed3ce5ac8",
       "version_major": 2,
       "version_minor": 0
      },
      "text/plain": [
       "ACC features:   0%|          | 0/48 [00:00<?, ?it/s]"
      ]
     },
     "metadata": {},
     "output_type": "display_data"
    },
    {
     "name": "stdout",
     "output_type": "stream",
     "text": [
      "Unable to remove memmapped file\n"
     ]
    },
    {
     "data": {
      "application/vnd.jupyter.widget-view+json": {
       "model_id": "f670389a1b5b46b9b58f28d42e142234",
       "version_major": 2,
       "version_minor": 0
      },
      "text/plain": [
       "ACC features:   0%|          | 0/48 [00:00<?, ?it/s]"
      ]
     },
     "metadata": {},
     "output_type": "display_data"
    },
    {
     "name": "stdout",
     "output_type": "stream",
     "text": [
      "Unable to remove memmapped file\n"
     ]
    },
    {
     "data": {
      "application/vnd.jupyter.widget-view+json": {
       "model_id": "b85d3d575c46462fa9063cbdedc742d3",
       "version_major": 2,
       "version_minor": 0
      },
      "text/plain": [
       "ACC features:   0%|          | 0/48 [00:00<?, ?it/s]"
      ]
     },
     "metadata": {},
     "output_type": "display_data"
    },
    {
     "name": "stdout",
     "output_type": "stream",
     "text": [
      "Unable to remove memmapped file\n"
     ]
    },
    {
     "data": {
      "application/vnd.jupyter.widget-view+json": {
       "model_id": "08ffadee5f44407188cd623f280cb340",
       "version_major": 2,
       "version_minor": 0
      },
      "text/plain": [
       "ACC features:   0%|          | 0/48 [00:00<?, ?it/s]"
      ]
     },
     "metadata": {},
     "output_type": "display_data"
    },
    {
     "name": "stdout",
     "output_type": "stream",
     "text": [
      "Unable to remove memmapped file\n"
     ]
    },
    {
     "data": {
      "application/vnd.jupyter.widget-view+json": {
       "model_id": "bf5aab2baa074d65b010eea8821b2d7f",
       "version_major": 2,
       "version_minor": 0
      },
      "text/plain": [
       "ACC features:   0%|          | 0/78 [00:00<?, ?it/s]"
      ]
     },
     "metadata": {},
     "output_type": "display_data"
    },
    {
     "name": "stdout",
     "output_type": "stream",
     "text": [
      "Unable to remove memmapped file\n"
     ]
    },
    {
     "data": {
      "application/vnd.jupyter.widget-view+json": {
       "model_id": "4b3e2c4c7ac645a0ae55d48cffa59041",
       "version_major": 2,
       "version_minor": 0
      },
      "text/plain": [
       "ACC features:   0%|          | 0/78 [00:00<?, ?it/s]"
      ]
     },
     "metadata": {},
     "output_type": "display_data"
    },
    {
     "name": "stdout",
     "output_type": "stream",
     "text": [
      "Unable to remove memmapped file\n"
     ]
    },
    {
     "data": {
      "application/vnd.jupyter.widget-view+json": {
       "model_id": "8fa9bbf50eb741e59a73bc8e96b092af",
       "version_major": 2,
       "version_minor": 0
      },
      "text/plain": [
       "ACC features:   0%|          | 0/78 [00:00<?, ?it/s]"
      ]
     },
     "metadata": {},
     "output_type": "display_data"
    },
    {
     "name": "stdout",
     "output_type": "stream",
     "text": [
      "Unable to remove memmapped file\n"
     ]
    },
    {
     "data": {
      "application/vnd.jupyter.widget-view+json": {
       "model_id": "3f9fbf229f594062a322a1449b3cc716",
       "version_major": 2,
       "version_minor": 0
      },
      "text/plain": [
       "ACC features:   0%|          | 0/78 [00:00<?, ?it/s]"
      ]
     },
     "metadata": {},
     "output_type": "display_data"
    },
    {
     "name": "stdout",
     "output_type": "stream",
     "text": [
      "Unable to remove memmapped file\n"
     ]
    },
    {
     "data": {
      "application/vnd.jupyter.widget-view+json": {
       "model_id": "ba04c89410b641b6b075722e391aa696",
       "version_major": 2,
       "version_minor": 0
      },
      "text/plain": [
       "ACC features:   0%|          | 0/78 [00:00<?, ?it/s]"
      ]
     },
     "metadata": {},
     "output_type": "display_data"
    },
    {
     "name": "stdout",
     "output_type": "stream",
     "text": [
      "Unable to remove memmapped file\n"
     ]
    },
    {
     "data": {
      "application/vnd.jupyter.widget-view+json": {
       "model_id": "c5ce11e3924e4477bc686e2d848f6e4e",
       "version_major": 2,
       "version_minor": 0
      },
      "text/plain": [
       "ACC features:   0%|          | 0/168 [00:00<?, ?it/s]"
      ]
     },
     "metadata": {},
     "output_type": "display_data"
    },
    {
     "name": "stdout",
     "output_type": "stream",
     "text": [
      "Unable to remove memmapped file\n"
     ]
    },
    {
     "data": {
      "application/vnd.jupyter.widget-view+json": {
       "model_id": "7412add031834991a0570882a15e0b5d",
       "version_major": 2,
       "version_minor": 0
      },
      "text/plain": [
       "ACC features:   0%|          | 0/168 [00:00<?, ?it/s]"
      ]
     },
     "metadata": {},
     "output_type": "display_data"
    },
    {
     "name": "stdout",
     "output_type": "stream",
     "text": [
      "Unable to remove memmapped file\n"
     ]
    },
    {
     "data": {
      "application/vnd.jupyter.widget-view+json": {
       "model_id": "90bd6496bde145b6950c1977c013a39e",
       "version_major": 2,
       "version_minor": 0
      },
      "text/plain": [
       "ACC features:   0%|          | 0/168 [00:00<?, ?it/s]"
      ]
     },
     "metadata": {},
     "output_type": "display_data"
    },
    {
     "name": "stdout",
     "output_type": "stream",
     "text": [
      "Unable to remove memmapped file\n"
     ]
    },
    {
     "data": {
      "application/vnd.jupyter.widget-view+json": {
       "model_id": "0387c8c3cad9498d8431db958900c8ad",
       "version_major": 2,
       "version_minor": 0
      },
      "text/plain": [
       "ACC features:   0%|          | 0/168 [00:00<?, ?it/s]"
      ]
     },
     "metadata": {},
     "output_type": "display_data"
    },
    {
     "name": "stdout",
     "output_type": "stream",
     "text": [
      "Unable to remove memmapped file\n"
     ]
    },
    {
     "data": {
      "application/vnd.jupyter.widget-view+json": {
       "model_id": "9931867cc24b45c8b90c100670bca2dd",
       "version_major": 2,
       "version_minor": 0
      },
      "text/plain": [
       "ACC features:   0%|          | 0/168 [00:00<?, ?it/s]"
      ]
     },
     "metadata": {},
     "output_type": "display_data"
    },
    {
     "name": "stdout",
     "output_type": "stream",
     "text": [
      "Unable to remove memmapped file\n"
     ]
    },
    {
     "data": {
      "application/vnd.jupyter.widget-view+json": {
       "model_id": "09b12207ed6b47e595ac766009b62d5c",
       "version_major": 2,
       "version_minor": 0
      },
      "text/plain": [
       "ACC features:   0%|          | 0/912 [00:00<?, ?it/s]"
      ]
     },
     "metadata": {},
     "output_type": "display_data"
    },
    {
     "name": "stdout",
     "output_type": "stream",
     "text": [
      "Unable to remove memmapped file\n"
     ]
    },
    {
     "data": {
      "application/vnd.jupyter.widget-view+json": {
       "model_id": "e375216fae1440a38c40786b2636a918",
       "version_major": 2,
       "version_minor": 0
      },
      "text/plain": [
       "ACC features:   0%|          | 0/912 [00:00<?, ?it/s]"
      ]
     },
     "metadata": {},
     "output_type": "display_data"
    },
    {
     "name": "stdout",
     "output_type": "stream",
     "text": [
      "Unable to remove memmapped file\n"
     ]
    },
    {
     "data": {
      "application/vnd.jupyter.widget-view+json": {
       "model_id": "4aa32b9a61bc4327b8a034fd02d0e68e",
       "version_major": 2,
       "version_minor": 0
      },
      "text/plain": [
       "ACC features:   0%|          | 0/912 [00:00<?, ?it/s]"
      ]
     },
     "metadata": {},
     "output_type": "display_data"
    },
    {
     "name": "stdout",
     "output_type": "stream",
     "text": [
      "Unable to remove memmapped file\n"
     ]
    },
    {
     "data": {
      "application/vnd.jupyter.widget-view+json": {
       "model_id": "cd27be1cfc04418198a0f73216e2bcdf",
       "version_major": 2,
       "version_minor": 0
      },
      "text/plain": [
       "ACC features:   0%|          | 0/912 [00:00<?, ?it/s]"
      ]
     },
     "metadata": {},
     "output_type": "display_data"
    },
    {
     "name": "stdout",
     "output_type": "stream",
     "text": [
      "Unable to remove memmapped file\n"
     ]
    },
    {
     "data": {
      "application/vnd.jupyter.widget-view+json": {
       "model_id": "2852c56a2b0f4c1d8d73184496e29398",
       "version_major": 2,
       "version_minor": 0
      },
      "text/plain": [
       "ACC features:   0%|          | 0/912 [00:00<?, ?it/s]"
      ]
     },
     "metadata": {},
     "output_type": "display_data"
    },
    {
     "name": "stdout",
     "output_type": "stream",
     "text": [
      "Unable to remove memmapped file\n"
     ]
    },
    {
     "data": {
      "application/vnd.jupyter.widget-view+json": {
       "model_id": "207950df63df4846adc531f20bb411df",
       "version_major": 2,
       "version_minor": 0
      },
      "text/plain": [
       "ACC features:   0%|          | 0/63 [00:00<?, ?it/s]"
      ]
     },
     "metadata": {},
     "output_type": "display_data"
    },
    {
     "name": "stdout",
     "output_type": "stream",
     "text": [
      "Unable to remove memmapped file\n"
     ]
    },
    {
     "data": {
      "application/vnd.jupyter.widget-view+json": {
       "model_id": "2cd7cefb1afd45c28f153245e487469e",
       "version_major": 2,
       "version_minor": 0
      },
      "text/plain": [
       "ACC features:   0%|          | 0/63 [00:00<?, ?it/s]"
      ]
     },
     "metadata": {},
     "output_type": "display_data"
    },
    {
     "name": "stdout",
     "output_type": "stream",
     "text": [
      "Unable to remove memmapped file\n"
     ]
    },
    {
     "data": {
      "application/vnd.jupyter.widget-view+json": {
       "model_id": "9a10c785fec9479fb9feebb6ad27bc10",
       "version_major": 2,
       "version_minor": 0
      },
      "text/plain": [
       "ACC features:   0%|          | 0/63 [00:00<?, ?it/s]"
      ]
     },
     "metadata": {},
     "output_type": "display_data"
    },
    {
     "name": "stdout",
     "output_type": "stream",
     "text": [
      "Unable to remove memmapped file\n"
     ]
    },
    {
     "data": {
      "application/vnd.jupyter.widget-view+json": {
       "model_id": "0a44b2827af442efab46629030c14ee9",
       "version_major": 2,
       "version_minor": 0
      },
      "text/plain": [
       "ACC features:   0%|          | 0/63 [00:00<?, ?it/s]"
      ]
     },
     "metadata": {},
     "output_type": "display_data"
    },
    {
     "name": "stdout",
     "output_type": "stream",
     "text": [
      "Unable to remove memmapped file\n"
     ]
    },
    {
     "data": {
      "application/vnd.jupyter.widget-view+json": {
       "model_id": "2cf4e35339284fb69c6d44be9a4a7c28",
       "version_major": 2,
       "version_minor": 0
      },
      "text/plain": [
       "ACC features:   0%|          | 0/63 [00:00<?, ?it/s]"
      ]
     },
     "metadata": {},
     "output_type": "display_data"
    },
    {
     "name": "stdout",
     "output_type": "stream",
     "text": [
      "Unable to remove memmapped file\n"
     ]
    },
    {
     "data": {
      "application/vnd.jupyter.widget-view+json": {
       "model_id": "522791ad1e3741f1a440c4452721ca10",
       "version_major": 2,
       "version_minor": 0
      },
      "text/plain": [
       "ACC features:   0%|          | 0/480 [00:00<?, ?it/s]"
      ]
     },
     "metadata": {},
     "output_type": "display_data"
    },
    {
     "name": "stdout",
     "output_type": "stream",
     "text": [
      "Unable to remove memmapped file\n"
     ]
    },
    {
     "data": {
      "application/vnd.jupyter.widget-view+json": {
       "model_id": "ba47574989e74c2c8ef68533fa1b1fd4",
       "version_major": 2,
       "version_minor": 0
      },
      "text/plain": [
       "ACC features:   0%|          | 0/480 [00:00<?, ?it/s]"
      ]
     },
     "metadata": {},
     "output_type": "display_data"
    },
    {
     "name": "stdout",
     "output_type": "stream",
     "text": [
      "Unable to remove memmapped file\n"
     ]
    },
    {
     "data": {
      "application/vnd.jupyter.widget-view+json": {
       "model_id": "ff7c833835a34674af0a9656710759ca",
       "version_major": 2,
       "version_minor": 0
      },
      "text/plain": [
       "ACC features:   0%|          | 0/480 [00:00<?, ?it/s]"
      ]
     },
     "metadata": {},
     "output_type": "display_data"
    },
    {
     "name": "stdout",
     "output_type": "stream",
     "text": [
      "Unable to remove memmapped file\n"
     ]
    },
    {
     "data": {
      "application/vnd.jupyter.widget-view+json": {
       "model_id": "f1aa40f9284f4589b9b99a10f660aa15",
       "version_major": 2,
       "version_minor": 0
      },
      "text/plain": [
       "ACC features:   0%|          | 0/480 [00:00<?, ?it/s]"
      ]
     },
     "metadata": {},
     "output_type": "display_data"
    },
    {
     "name": "stdout",
     "output_type": "stream",
     "text": [
      "Unable to remove memmapped file\n"
     ]
    },
    {
     "data": {
      "application/vnd.jupyter.widget-view+json": {
       "model_id": "6daec01bb44d42ad80c6b5eff0a0495b",
       "version_major": 2,
       "version_minor": 0
      },
      "text/plain": [
       "ACC features:   0%|          | 0/480 [00:00<?, ?it/s]"
      ]
     },
     "metadata": {},
     "output_type": "display_data"
    },
    {
     "name": "stdout",
     "output_type": "stream",
     "text": [
      "Unable to remove memmapped file\n"
     ]
    },
    {
     "data": {
      "application/vnd.jupyter.widget-view+json": {
       "model_id": "d809e5172d574928ac29d7b2f56dfc69",
       "version_major": 2,
       "version_minor": 0
      },
      "text/plain": [
       "ACC features:   0%|          | 0/204 [00:00<?, ?it/s]"
      ]
     },
     "metadata": {},
     "output_type": "display_data"
    },
    {
     "name": "stdout",
     "output_type": "stream",
     "text": [
      "Unable to remove memmapped file\n"
     ]
    },
    {
     "data": {
      "application/vnd.jupyter.widget-view+json": {
       "model_id": "17912130beb54a56a825b8f018ddd616",
       "version_major": 2,
       "version_minor": 0
      },
      "text/plain": [
       "ACC features:   0%|          | 0/204 [00:00<?, ?it/s]"
      ]
     },
     "metadata": {},
     "output_type": "display_data"
    },
    {
     "name": "stdout",
     "output_type": "stream",
     "text": [
      "Unable to remove memmapped file\n"
     ]
    },
    {
     "data": {
      "application/vnd.jupyter.widget-view+json": {
       "model_id": "4b80f792e22c4c65997cfb330e4331e9",
       "version_major": 2,
       "version_minor": 0
      },
      "text/plain": [
       "ACC features:   0%|          | 0/204 [00:00<?, ?it/s]"
      ]
     },
     "metadata": {},
     "output_type": "display_data"
    },
    {
     "name": "stdout",
     "output_type": "stream",
     "text": [
      "Unable to remove memmapped file\n"
     ]
    },
    {
     "data": {
      "application/vnd.jupyter.widget-view+json": {
       "model_id": "9dfd20edfa8f49c7bcf292753fe779f2",
       "version_major": 2,
       "version_minor": 0
      },
      "text/plain": [
       "ACC features:   0%|          | 0/204 [00:00<?, ?it/s]"
      ]
     },
     "metadata": {},
     "output_type": "display_data"
    },
    {
     "name": "stdout",
     "output_type": "stream",
     "text": [
      "Unable to remove memmapped file\n"
     ]
    },
    {
     "data": {
      "application/vnd.jupyter.widget-view+json": {
       "model_id": "68beaab8dd274a47a3dfd22205cdc8fd",
       "version_major": 2,
       "version_minor": 0
      },
      "text/plain": [
       "ACC features:   0%|          | 0/204 [00:00<?, ?it/s]"
      ]
     },
     "metadata": {},
     "output_type": "display_data"
    },
    {
     "name": "stdout",
     "output_type": "stream",
     "text": [
      "Unable to remove memmapped file\n"
     ]
    },
    {
     "data": {
      "application/vnd.jupyter.widget-view+json": {
       "model_id": "6fb65808bb134048afd896857b489c5b",
       "version_major": 2,
       "version_minor": 0
      },
      "text/plain": [
       "ACC features:   0%|          | 0/99 [00:00<?, ?it/s]"
      ]
     },
     "metadata": {},
     "output_type": "display_data"
    },
    {
     "name": "stdout",
     "output_type": "stream",
     "text": [
      "Unable to remove memmapped file\n"
     ]
    },
    {
     "data": {
      "application/vnd.jupyter.widget-view+json": {
       "model_id": "3131b76b047a4718a1c114e779361c66",
       "version_major": 2,
       "version_minor": 0
      },
      "text/plain": [
       "ACC features:   0%|          | 0/99 [00:00<?, ?it/s]"
      ]
     },
     "metadata": {},
     "output_type": "display_data"
    },
    {
     "name": "stdout",
     "output_type": "stream",
     "text": [
      "Unable to remove memmapped file\n"
     ]
    },
    {
     "data": {
      "application/vnd.jupyter.widget-view+json": {
       "model_id": "fe4399df82674278b1aa428188711e3a",
       "version_major": 2,
       "version_minor": 0
      },
      "text/plain": [
       "ACC features:   0%|          | 0/99 [00:00<?, ?it/s]"
      ]
     },
     "metadata": {},
     "output_type": "display_data"
    },
    {
     "name": "stdout",
     "output_type": "stream",
     "text": [
      "Unable to remove memmapped file\n"
     ]
    },
    {
     "data": {
      "application/vnd.jupyter.widget-view+json": {
       "model_id": "268865945c7745c6b544e0aecd9fc25e",
       "version_major": 2,
       "version_minor": 0
      },
      "text/plain": [
       "ACC features:   0%|          | 0/99 [00:00<?, ?it/s]"
      ]
     },
     "metadata": {},
     "output_type": "display_data"
    },
    {
     "name": "stdout",
     "output_type": "stream",
     "text": [
      "Unable to remove memmapped file\n"
     ]
    },
    {
     "data": {
      "application/vnd.jupyter.widget-view+json": {
       "model_id": "4a1173b637994277a27b63832353c873",
       "version_major": 2,
       "version_minor": 0
      },
      "text/plain": [
       "ACC features:   0%|          | 0/99 [00:00<?, ?it/s]"
      ]
     },
     "metadata": {},
     "output_type": "display_data"
    },
    {
     "name": "stdout",
     "output_type": "stream",
     "text": [
      "Unable to remove memmapped file\n"
     ]
    },
    {
     "data": {
      "application/vnd.jupyter.widget-view+json": {
       "model_id": "d1ed6bd0984d4809955ccd106e7f6c94",
       "version_major": 2,
       "version_minor": 0
      },
      "text/plain": [
       "ACC features:   0%|          | 0/35 [00:00<?, ?it/s]"
      ]
     },
     "metadata": {},
     "output_type": "display_data"
    },
    {
     "name": "stdout",
     "output_type": "stream",
     "text": [
      "Unable to remove memmapped file\n"
     ]
    },
    {
     "data": {
      "application/vnd.jupyter.widget-view+json": {
       "model_id": "473bd7d7860247d2835ef5142f5d05ee",
       "version_major": 2,
       "version_minor": 0
      },
      "text/plain": [
       "ACC features:   0%|          | 0/35 [00:00<?, ?it/s]"
      ]
     },
     "metadata": {},
     "output_type": "display_data"
    },
    {
     "name": "stdout",
     "output_type": "stream",
     "text": [
      "Unable to remove memmapped file\n"
     ]
    },
    {
     "data": {
      "application/vnd.jupyter.widget-view+json": {
       "model_id": "56023aac611b43a3a3d772a4f815a2c9",
       "version_major": 2,
       "version_minor": 0
      },
      "text/plain": [
       "ACC features:   0%|          | 0/35 [00:00<?, ?it/s]"
      ]
     },
     "metadata": {},
     "output_type": "display_data"
    },
    {
     "name": "stdout",
     "output_type": "stream",
     "text": [
      "Unable to remove memmapped file\n"
     ]
    },
    {
     "data": {
      "application/vnd.jupyter.widget-view+json": {
       "model_id": "84efc379f9dc4f5fb1f27a882a3da612",
       "version_major": 2,
       "version_minor": 0
      },
      "text/plain": [
       "ACC features:   0%|          | 0/35 [00:00<?, ?it/s]"
      ]
     },
     "metadata": {},
     "output_type": "display_data"
    },
    {
     "name": "stdout",
     "output_type": "stream",
     "text": [
      "Unable to remove memmapped file\n"
     ]
    },
    {
     "data": {
      "application/vnd.jupyter.widget-view+json": {
       "model_id": "200d7208dea34e2c9bd951ce33e58772",
       "version_major": 2,
       "version_minor": 0
      },
      "text/plain": [
       "ACC features:   0%|          | 0/35 [00:00<?, ?it/s]"
      ]
     },
     "metadata": {},
     "output_type": "display_data"
    },
    {
     "name": "stdout",
     "output_type": "stream",
     "text": [
      "Unable to remove memmapped file\n"
     ]
    },
    {
     "data": {
      "application/vnd.jupyter.widget-view+json": {
       "model_id": "78c2ae9eeaba48a7bb9df8a1d1680351",
       "version_major": 2,
       "version_minor": 0
      },
      "text/plain": [
       "ACC features:   0%|          | 0/36 [00:00<?, ?it/s]"
      ]
     },
     "metadata": {},
     "output_type": "display_data"
    },
    {
     "name": "stdout",
     "output_type": "stream",
     "text": [
      "Unable to remove memmapped file\n"
     ]
    },
    {
     "data": {
      "application/vnd.jupyter.widget-view+json": {
       "model_id": "bc6c1f9e8f614788b8af850b3938039c",
       "version_major": 2,
       "version_minor": 0
      },
      "text/plain": [
       "ACC features:   0%|          | 0/36 [00:00<?, ?it/s]"
      ]
     },
     "metadata": {},
     "output_type": "display_data"
    },
    {
     "name": "stdout",
     "output_type": "stream",
     "text": [
      "Unable to remove memmapped file\n"
     ]
    },
    {
     "data": {
      "application/vnd.jupyter.widget-view+json": {
       "model_id": "e567892355104ad7b5ed473f91694eb8",
       "version_major": 2,
       "version_minor": 0
      },
      "text/plain": [
       "ACC features:   0%|          | 0/36 [00:00<?, ?it/s]"
      ]
     },
     "metadata": {},
     "output_type": "display_data"
    },
    {
     "name": "stdout",
     "output_type": "stream",
     "text": [
      "Unable to remove memmapped file\n"
     ]
    },
    {
     "data": {
      "application/vnd.jupyter.widget-view+json": {
       "model_id": "b853bb4b8c184f6aa72d6ca6397d530d",
       "version_major": 2,
       "version_minor": 0
      },
      "text/plain": [
       "ACC features:   0%|          | 0/36 [00:00<?, ?it/s]"
      ]
     },
     "metadata": {},
     "output_type": "display_data"
    },
    {
     "name": "stdout",
     "output_type": "stream",
     "text": [
      "Unable to remove memmapped file\n"
     ]
    },
    {
     "data": {
      "application/vnd.jupyter.widget-view+json": {
       "model_id": "5461f41d424744298933ac5cbc827aac",
       "version_major": 2,
       "version_minor": 0
      },
      "text/plain": [
       "ACC features:   0%|          | 0/36 [00:00<?, ?it/s]"
      ]
     },
     "metadata": {},
     "output_type": "display_data"
    },
    {
     "name": "stdout",
     "output_type": "stream",
     "text": [
      "Unable to remove memmapped file\n"
     ]
    },
    {
     "data": {
      "application/vnd.jupyter.widget-view+json": {
       "model_id": "f7514ac487794347a77aa03eec02ffef",
       "version_major": 2,
       "version_minor": 0
      },
      "text/plain": [
       "ACC features:   0%|          | 0/348 [00:00<?, ?it/s]"
      ]
     },
     "metadata": {},
     "output_type": "display_data"
    },
    {
     "name": "stdout",
     "output_type": "stream",
     "text": [
      "Unable to remove memmapped file\n"
     ]
    },
    {
     "data": {
      "application/vnd.jupyter.widget-view+json": {
       "model_id": "35a2adfaab0b494384b8047444e863d5",
       "version_major": 2,
       "version_minor": 0
      },
      "text/plain": [
       "ACC features:   0%|          | 0/348 [00:00<?, ?it/s]"
      ]
     },
     "metadata": {},
     "output_type": "display_data"
    },
    {
     "name": "stdout",
     "output_type": "stream",
     "text": [
      "Unable to remove memmapped file\n"
     ]
    },
    {
     "data": {
      "application/vnd.jupyter.widget-view+json": {
       "model_id": "9dc1c3a9fa1e47c89806958554dca4cc",
       "version_major": 2,
       "version_minor": 0
      },
      "text/plain": [
       "ACC features:   0%|          | 0/348 [00:00<?, ?it/s]"
      ]
     },
     "metadata": {},
     "output_type": "display_data"
    },
    {
     "name": "stdout",
     "output_type": "stream",
     "text": [
      "Unable to remove memmapped file\n"
     ]
    },
    {
     "data": {
      "application/vnd.jupyter.widget-view+json": {
       "model_id": "f904db7d6c214e46af88e103a3693011",
       "version_major": 2,
       "version_minor": 0
      },
      "text/plain": [
       "ACC features:   0%|          | 0/348 [00:00<?, ?it/s]"
      ]
     },
     "metadata": {},
     "output_type": "display_data"
    },
    {
     "name": "stdout",
     "output_type": "stream",
     "text": [
      "Unable to remove memmapped file\n"
     ]
    },
    {
     "data": {
      "application/vnd.jupyter.widget-view+json": {
       "model_id": "77c89c1dad8845acbb7d1ff78ce4604b",
       "version_major": 2,
       "version_minor": 0
      },
      "text/plain": [
       "ACC features:   0%|          | 0/348 [00:00<?, ?it/s]"
      ]
     },
     "metadata": {},
     "output_type": "display_data"
    },
    {
     "name": "stdout",
     "output_type": "stream",
     "text": [
      "Unable to remove memmapped file\n"
     ]
    },
    {
     "data": {
      "application/vnd.jupyter.widget-view+json": {
       "model_id": "0543f80df61d4c8e8a07a748762b29d7",
       "version_major": 2,
       "version_minor": 0
      },
      "text/plain": [
       "ACC features:   0%|          | 0/50 [00:00<?, ?it/s]"
      ]
     },
     "metadata": {},
     "output_type": "display_data"
    },
    {
     "name": "stdout",
     "output_type": "stream",
     "text": [
      "Unable to remove memmapped file\n"
     ]
    },
    {
     "data": {
      "application/vnd.jupyter.widget-view+json": {
       "model_id": "5bed4734b18249ba93561ddf75f3ace6",
       "version_major": 2,
       "version_minor": 0
      },
      "text/plain": [
       "ACC features:   0%|          | 0/50 [00:00<?, ?it/s]"
      ]
     },
     "metadata": {},
     "output_type": "display_data"
    },
    {
     "name": "stdout",
     "output_type": "stream",
     "text": [
      "Unable to remove memmapped file\n"
     ]
    },
    {
     "data": {
      "application/vnd.jupyter.widget-view+json": {
       "model_id": "712e1149fbd245c58fbef21fecc0c2f8",
       "version_major": 2,
       "version_minor": 0
      },
      "text/plain": [
       "ACC features:   0%|          | 0/50 [00:00<?, ?it/s]"
      ]
     },
     "metadata": {},
     "output_type": "display_data"
    },
    {
     "name": "stdout",
     "output_type": "stream",
     "text": [
      "Unable to remove memmapped file\n"
     ]
    },
    {
     "data": {
      "application/vnd.jupyter.widget-view+json": {
       "model_id": "56145b176f1347df9cd70c636cb969a4",
       "version_major": 2,
       "version_minor": 0
      },
      "text/plain": [
       "ACC features:   0%|          | 0/50 [00:00<?, ?it/s]"
      ]
     },
     "metadata": {},
     "output_type": "display_data"
    },
    {
     "name": "stdout",
     "output_type": "stream",
     "text": [
      "Unable to remove memmapped file\n"
     ]
    },
    {
     "data": {
      "application/vnd.jupyter.widget-view+json": {
       "model_id": "ad4b85207a1c4376b7e32c85b27c87f1",
       "version_major": 2,
       "version_minor": 0
      },
      "text/plain": [
       "ACC features:   0%|          | 0/50 [00:00<?, ?it/s]"
      ]
     },
     "metadata": {},
     "output_type": "display_data"
    },
    {
     "name": "stdout",
     "output_type": "stream",
     "text": [
      "Unable to remove memmapped file\n"
     ]
    },
    {
     "data": {
      "application/vnd.jupyter.widget-view+json": {
       "model_id": "eb69661826184457a5bb7d856e9245b2",
       "version_major": 2,
       "version_minor": 0
      },
      "text/plain": [
       "ACC features:   0%|          | 0/61 [00:00<?, ?it/s]"
      ]
     },
     "metadata": {},
     "output_type": "display_data"
    },
    {
     "name": "stdout",
     "output_type": "stream",
     "text": [
      "Unable to remove memmapped file\n"
     ]
    },
    {
     "data": {
      "application/vnd.jupyter.widget-view+json": {
       "model_id": "e9e76d623165448ab47b235db37d4ed6",
       "version_major": 2,
       "version_minor": 0
      },
      "text/plain": [
       "ACC features:   0%|          | 0/61 [00:00<?, ?it/s]"
      ]
     },
     "metadata": {},
     "output_type": "display_data"
    },
    {
     "name": "stdout",
     "output_type": "stream",
     "text": [
      "Unable to remove memmapped file\n"
     ]
    },
    {
     "data": {
      "application/vnd.jupyter.widget-view+json": {
       "model_id": "e6642076e4a74f6ca94f05c4e37a73d3",
       "version_major": 2,
       "version_minor": 0
      },
      "text/plain": [
       "ACC features:   0%|          | 0/61 [00:00<?, ?it/s]"
      ]
     },
     "metadata": {},
     "output_type": "display_data"
    },
    {
     "name": "stdout",
     "output_type": "stream",
     "text": [
      "Unable to remove memmapped file\n"
     ]
    },
    {
     "data": {
      "application/vnd.jupyter.widget-view+json": {
       "model_id": "d83092bb218349eeb8834c9855c432b4",
       "version_major": 2,
       "version_minor": 0
      },
      "text/plain": [
       "ACC features:   0%|          | 0/61 [00:00<?, ?it/s]"
      ]
     },
     "metadata": {},
     "output_type": "display_data"
    },
    {
     "name": "stdout",
     "output_type": "stream",
     "text": [
      "Unable to remove memmapped file\n"
     ]
    },
    {
     "data": {
      "application/vnd.jupyter.widget-view+json": {
       "model_id": "c4ca6608864041fbb76552d385863263",
       "version_major": 2,
       "version_minor": 0
      },
      "text/plain": [
       "ACC features:   0%|          | 0/61 [00:00<?, ?it/s]"
      ]
     },
     "metadata": {},
     "output_type": "display_data"
    },
    {
     "name": "stdout",
     "output_type": "stream",
     "text": [
      "Unable to remove memmapped file\n"
     ]
    },
    {
     "data": {
      "application/vnd.jupyter.widget-view+json": {
       "model_id": "c2d550e92dab4855b958378816b10010",
       "version_major": 2,
       "version_minor": 0
      },
      "text/plain": [
       "ACC features:   0%|          | 0/258 [00:00<?, ?it/s]"
      ]
     },
     "metadata": {},
     "output_type": "display_data"
    },
    {
     "name": "stdout",
     "output_type": "stream",
     "text": [
      "Unable to remove memmapped file\n"
     ]
    },
    {
     "data": {
      "application/vnd.jupyter.widget-view+json": {
       "model_id": "a84edafda669454db84400441861644b",
       "version_major": 2,
       "version_minor": 0
      },
      "text/plain": [
       "ACC features:   0%|          | 0/258 [00:00<?, ?it/s]"
      ]
     },
     "metadata": {},
     "output_type": "display_data"
    },
    {
     "name": "stdout",
     "output_type": "stream",
     "text": [
      "Unable to remove memmapped file\n"
     ]
    },
    {
     "data": {
      "application/vnd.jupyter.widget-view+json": {
       "model_id": "1072653c33be459eabd3e7c95053f5da",
       "version_major": 2,
       "version_minor": 0
      },
      "text/plain": [
       "ACC features:   0%|          | 0/258 [00:00<?, ?it/s]"
      ]
     },
     "metadata": {},
     "output_type": "display_data"
    },
    {
     "name": "stdout",
     "output_type": "stream",
     "text": [
      "Unable to remove memmapped file\n"
     ]
    },
    {
     "data": {
      "application/vnd.jupyter.widget-view+json": {
       "model_id": "5a3454757a93404e9c001e46d9bf18eb",
       "version_major": 2,
       "version_minor": 0
      },
      "text/plain": [
       "ACC features:   0%|          | 0/258 [00:00<?, ?it/s]"
      ]
     },
     "metadata": {},
     "output_type": "display_data"
    },
    {
     "name": "stdout",
     "output_type": "stream",
     "text": [
      "Unable to remove memmapped file\n"
     ]
    },
    {
     "data": {
      "application/vnd.jupyter.widget-view+json": {
       "model_id": "cf3ef2be20ac4c6eaac2ca81f5f896bb",
       "version_major": 2,
       "version_minor": 0
      },
      "text/plain": [
       "ACC features:   0%|          | 0/258 [00:00<?, ?it/s]"
      ]
     },
     "metadata": {},
     "output_type": "display_data"
    },
    {
     "name": "stdout",
     "output_type": "stream",
     "text": [
      "Unable to remove memmapped file\n"
     ]
    },
    {
     "data": {
      "application/vnd.jupyter.widget-view+json": {
       "model_id": "07ea93433dd5464ca44620d10f75f7ec",
       "version_major": 2,
       "version_minor": 0
      },
      "text/plain": [
       "ACC features:   0%|          | 0/258 [00:00<?, ?it/s]"
      ]
     },
     "metadata": {},
     "output_type": "display_data"
    },
    {
     "name": "stdout",
     "output_type": "stream",
     "text": [
      "Unable to remove memmapped file\n"
     ]
    },
    {
     "data": {
      "application/vnd.jupyter.widget-view+json": {
       "model_id": "b39a09777c42494ca76751e6ae58e32d",
       "version_major": 2,
       "version_minor": 0
      },
      "text/plain": [
       "ACC features:   0%|          | 0/258 [00:00<?, ?it/s]"
      ]
     },
     "metadata": {},
     "output_type": "display_data"
    },
    {
     "name": "stdout",
     "output_type": "stream",
     "text": [
      "Unable to remove memmapped file\n"
     ]
    },
    {
     "data": {
      "application/vnd.jupyter.widget-view+json": {
       "model_id": "a7797aaa0bfb44899cddf85d9f2f4478",
       "version_major": 2,
       "version_minor": 0
      },
      "text/plain": [
       "ACC features:   0%|          | 0/258 [00:00<?, ?it/s]"
      ]
     },
     "metadata": {},
     "output_type": "display_data"
    },
    {
     "name": "stdout",
     "output_type": "stream",
     "text": [
      "Unable to remove memmapped file\n"
     ]
    },
    {
     "data": {
      "application/vnd.jupyter.widget-view+json": {
       "model_id": "dfe95d14000c4829b6f0f4d487c9c52c",
       "version_major": 2,
       "version_minor": 0
      },
      "text/plain": [
       "ACC features:   0%|          | 0/258 [00:00<?, ?it/s]"
      ]
     },
     "metadata": {},
     "output_type": "display_data"
    },
    {
     "name": "stdout",
     "output_type": "stream",
     "text": [
      "Unable to remove memmapped file\n"
     ]
    },
    {
     "data": {
      "application/vnd.jupyter.widget-view+json": {
       "model_id": "e76e443db98e4efea2403b4f7a1c430e",
       "version_major": 2,
       "version_minor": 0
      },
      "text/plain": [
       "ACC features:   0%|          | 0/258 [00:00<?, ?it/s]"
      ]
     },
     "metadata": {},
     "output_type": "display_data"
    },
    {
     "name": "stdout",
     "output_type": "stream",
     "text": [
      "Unable to remove memmapped file\n"
     ]
    },
    {
     "data": {
      "application/vnd.jupyter.widget-view+json": {
       "model_id": "5f19ff3065844cffb3be034ee64802ce",
       "version_major": 2,
       "version_minor": 0
      },
      "text/plain": [
       "ACC features:   0%|          | 0/702 [00:00<?, ?it/s]"
      ]
     },
     "metadata": {},
     "output_type": "display_data"
    },
    {
     "name": "stdout",
     "output_type": "stream",
     "text": [
      "Unable to remove memmapped file\n"
     ]
    },
    {
     "data": {
      "application/vnd.jupyter.widget-view+json": {
       "model_id": "1b6ccd5008924e05a4369bbc6796c913",
       "version_major": 2,
       "version_minor": 0
      },
      "text/plain": [
       "ACC features:   0%|          | 0/702 [00:00<?, ?it/s]"
      ]
     },
     "metadata": {},
     "output_type": "display_data"
    },
    {
     "name": "stdout",
     "output_type": "stream",
     "text": [
      "Unable to remove memmapped file\n"
     ]
    },
    {
     "data": {
      "application/vnd.jupyter.widget-view+json": {
       "model_id": "f9992c3d0ff742b4bc034b37a21798d1",
       "version_major": 2,
       "version_minor": 0
      },
      "text/plain": [
       "ACC features:   0%|          | 0/702 [00:00<?, ?it/s]"
      ]
     },
     "metadata": {},
     "output_type": "display_data"
    },
    {
     "name": "stdout",
     "output_type": "stream",
     "text": [
      "Unable to remove memmapped file\n"
     ]
    },
    {
     "data": {
      "application/vnd.jupyter.widget-view+json": {
       "model_id": "23062b3f3eb94bef93a279d99d2390ad",
       "version_major": 2,
       "version_minor": 0
      },
      "text/plain": [
       "ACC features:   0%|          | 0/702 [00:00<?, ?it/s]"
      ]
     },
     "metadata": {},
     "output_type": "display_data"
    },
    {
     "name": "stdout",
     "output_type": "stream",
     "text": [
      "Unable to remove memmapped file\n"
     ]
    },
    {
     "data": {
      "application/vnd.jupyter.widget-view+json": {
       "model_id": "3463cc75e0594e29aeda7cdb6566195a",
       "version_major": 2,
       "version_minor": 0
      },
      "text/plain": [
       "ACC features:   0%|          | 0/702 [00:00<?, ?it/s]"
      ]
     },
     "metadata": {},
     "output_type": "display_data"
    },
    {
     "name": "stdout",
     "output_type": "stream",
     "text": [
      "Unable to remove memmapped file\n"
     ]
    },
    {
     "data": {
      "application/vnd.jupyter.widget-view+json": {
       "model_id": "7cf0d0e5cef942cc938164478633cd50",
       "version_major": 2,
       "version_minor": 0
      },
      "text/plain": [
       "ACC features:   0%|          | 0/636 [00:00<?, ?it/s]"
      ]
     },
     "metadata": {},
     "output_type": "display_data"
    },
    {
     "name": "stdout",
     "output_type": "stream",
     "text": [
      "Unable to remove memmapped file\n"
     ]
    },
    {
     "data": {
      "application/vnd.jupyter.widget-view+json": {
       "model_id": "f8f3f2d302ff44dea6c575a937938677",
       "version_major": 2,
       "version_minor": 0
      },
      "text/plain": [
       "ACC features:   0%|          | 0/636 [00:00<?, ?it/s]"
      ]
     },
     "metadata": {},
     "output_type": "display_data"
    },
    {
     "name": "stdout",
     "output_type": "stream",
     "text": [
      "Unable to remove memmapped file\n"
     ]
    },
    {
     "data": {
      "application/vnd.jupyter.widget-view+json": {
       "model_id": "b2ad89e36eee4071a9f25fab3eac01c3",
       "version_major": 2,
       "version_minor": 0
      },
      "text/plain": [
       "ACC features:   0%|          | 0/636 [00:00<?, ?it/s]"
      ]
     },
     "metadata": {},
     "output_type": "display_data"
    },
    {
     "name": "stdout",
     "output_type": "stream",
     "text": [
      "Unable to remove memmapped file\n"
     ]
    },
    {
     "data": {
      "application/vnd.jupyter.widget-view+json": {
       "model_id": "463753d875bc421d96ea4e50881603d4",
       "version_major": 2,
       "version_minor": 0
      },
      "text/plain": [
       "ACC features:   0%|          | 0/636 [00:00<?, ?it/s]"
      ]
     },
     "metadata": {},
     "output_type": "display_data"
    },
    {
     "name": "stdout",
     "output_type": "stream",
     "text": [
      "Unable to remove memmapped file\n"
     ]
    },
    {
     "data": {
      "application/vnd.jupyter.widget-view+json": {
       "model_id": "c6fc68fe439d4d0aabbc4811720eb234",
       "version_major": 2,
       "version_minor": 0
      },
      "text/plain": [
       "ACC features:   0%|          | 0/636 [00:00<?, ?it/s]"
      ]
     },
     "metadata": {},
     "output_type": "display_data"
    },
    {
     "name": "stdout",
     "output_type": "stream",
     "text": [
      "Unable to remove memmapped file\n"
     ]
    },
    {
     "data": {
      "application/vnd.jupyter.widget-view+json": {
       "model_id": "489333fd6a92443997e261c139a9290e",
       "version_major": 2,
       "version_minor": 0
      },
      "text/plain": [
       "ACC features:   0%|          | 0/120 [00:00<?, ?it/s]"
      ]
     },
     "metadata": {},
     "output_type": "display_data"
    },
    {
     "name": "stdout",
     "output_type": "stream",
     "text": [
      "Unable to remove memmapped file\n"
     ]
    },
    {
     "data": {
      "application/vnd.jupyter.widget-view+json": {
       "model_id": "cf1e34e485f44b10a14fa40f936352e1",
       "version_major": 2,
       "version_minor": 0
      },
      "text/plain": [
       "ACC features:   0%|          | 0/120 [00:00<?, ?it/s]"
      ]
     },
     "metadata": {},
     "output_type": "display_data"
    },
    {
     "name": "stdout",
     "output_type": "stream",
     "text": [
      "Unable to remove memmapped file\n"
     ]
    },
    {
     "data": {
      "application/vnd.jupyter.widget-view+json": {
       "model_id": "b01358bcc7fc4d839d6c63fcd3f41c76",
       "version_major": 2,
       "version_minor": 0
      },
      "text/plain": [
       "ACC features:   0%|          | 0/120 [00:00<?, ?it/s]"
      ]
     },
     "metadata": {},
     "output_type": "display_data"
    },
    {
     "name": "stdout",
     "output_type": "stream",
     "text": [
      "Unable to remove memmapped file\n"
     ]
    },
    {
     "data": {
      "application/vnd.jupyter.widget-view+json": {
       "model_id": "3e24fdd05ed6440bbfebd38298688944",
       "version_major": 2,
       "version_minor": 0
      },
      "text/plain": [
       "ACC features:   0%|          | 0/120 [00:00<?, ?it/s]"
      ]
     },
     "metadata": {},
     "output_type": "display_data"
    },
    {
     "name": "stdout",
     "output_type": "stream",
     "text": [
      "Unable to remove memmapped file\n"
     ]
    },
    {
     "data": {
      "application/vnd.jupyter.widget-view+json": {
       "model_id": "36ab651bf52d46eeb539db610b4c8758",
       "version_major": 2,
       "version_minor": 0
      },
      "text/plain": [
       "ACC features:   0%|          | 0/120 [00:00<?, ?it/s]"
      ]
     },
     "metadata": {},
     "output_type": "display_data"
    },
    {
     "name": "stdout",
     "output_type": "stream",
     "text": [
      "Unable to remove memmapped file\n"
     ]
    },
    {
     "data": {
      "application/vnd.jupyter.widget-view+json": {
       "model_id": "a332011d111c48cd95443a6308cfb71e",
       "version_major": 2,
       "version_minor": 0
      },
      "text/plain": [
       "ACC features:   0%|          | 0/36 [00:00<?, ?it/s]"
      ]
     },
     "metadata": {},
     "output_type": "display_data"
    },
    {
     "name": "stdout",
     "output_type": "stream",
     "text": [
      "Unable to remove memmapped file\n"
     ]
    },
    {
     "data": {
      "application/vnd.jupyter.widget-view+json": {
       "model_id": "6ba50b2ce18a442193e8988eca039d7a",
       "version_major": 2,
       "version_minor": 0
      },
      "text/plain": [
       "ACC features:   0%|          | 0/36 [00:00<?, ?it/s]"
      ]
     },
     "metadata": {},
     "output_type": "display_data"
    },
    {
     "name": "stdout",
     "output_type": "stream",
     "text": [
      "Unable to remove memmapped file\n"
     ]
    },
    {
     "data": {
      "application/vnd.jupyter.widget-view+json": {
       "model_id": "3e5b5138ce104514a121fce9706096a3",
       "version_major": 2,
       "version_minor": 0
      },
      "text/plain": [
       "ACC features:   0%|          | 0/36 [00:00<?, ?it/s]"
      ]
     },
     "metadata": {},
     "output_type": "display_data"
    },
    {
     "name": "stdout",
     "output_type": "stream",
     "text": [
      "Unable to remove memmapped file\n"
     ]
    },
    {
     "data": {
      "application/vnd.jupyter.widget-view+json": {
       "model_id": "78acfe83c36e4f26918c1dba6ddc62b1",
       "version_major": 2,
       "version_minor": 0
      },
      "text/plain": [
       "ACC features:   0%|          | 0/36 [00:00<?, ?it/s]"
      ]
     },
     "metadata": {},
     "output_type": "display_data"
    },
    {
     "name": "stdout",
     "output_type": "stream",
     "text": [
      "Unable to remove memmapped file\n"
     ]
    },
    {
     "data": {
      "application/vnd.jupyter.widget-view+json": {
       "model_id": "9ffa77d28fa9455aa5ea610099beff21",
       "version_major": 2,
       "version_minor": 0
      },
      "text/plain": [
       "ACC features:   0%|          | 0/36 [00:00<?, ?it/s]"
      ]
     },
     "metadata": {},
     "output_type": "display_data"
    },
    {
     "name": "stdout",
     "output_type": "stream",
     "text": [
      "Unable to remove memmapped file\n"
     ]
    },
    {
     "data": {
      "application/vnd.jupyter.widget-view+json": {
       "model_id": "b6351742c3324a709655e238cc233070",
       "version_major": 2,
       "version_minor": 0
      },
      "text/plain": [
       "ACC features:   0%|          | 0/30 [00:00<?, ?it/s]"
      ]
     },
     "metadata": {},
     "output_type": "display_data"
    },
    {
     "name": "stdout",
     "output_type": "stream",
     "text": [
      "Unable to remove memmapped file\n"
     ]
    },
    {
     "data": {
      "application/vnd.jupyter.widget-view+json": {
       "model_id": "f644a8bac16a4253bf58eb9f2051f3c7",
       "version_major": 2,
       "version_minor": 0
      },
      "text/plain": [
       "ACC features:   0%|          | 0/30 [00:00<?, ?it/s]"
      ]
     },
     "metadata": {},
     "output_type": "display_data"
    },
    {
     "name": "stdout",
     "output_type": "stream",
     "text": [
      "Unable to remove memmapped file\n"
     ]
    },
    {
     "data": {
      "application/vnd.jupyter.widget-view+json": {
       "model_id": "816cfd1d028b4afc825594e97793a577",
       "version_major": 2,
       "version_minor": 0
      },
      "text/plain": [
       "ACC features:   0%|          | 0/30 [00:00<?, ?it/s]"
      ]
     },
     "metadata": {},
     "output_type": "display_data"
    },
    {
     "name": "stdout",
     "output_type": "stream",
     "text": [
      "Unable to remove memmapped file\n"
     ]
    },
    {
     "data": {
      "application/vnd.jupyter.widget-view+json": {
       "model_id": "25e25f2284c04df3ab31807af1893c67",
       "version_major": 2,
       "version_minor": 0
      },
      "text/plain": [
       "ACC features:   0%|          | 0/30 [00:00<?, ?it/s]"
      ]
     },
     "metadata": {},
     "output_type": "display_data"
    },
    {
     "name": "stdout",
     "output_type": "stream",
     "text": [
      "Unable to remove memmapped file\n"
     ]
    },
    {
     "data": {
      "application/vnd.jupyter.widget-view+json": {
       "model_id": "1b776b7bed884316a125abab66e19180",
       "version_major": 2,
       "version_minor": 0
      },
      "text/plain": [
       "ACC features:   0%|          | 0/30 [00:00<?, ?it/s]"
      ]
     },
     "metadata": {},
     "output_type": "display_data"
    },
    {
     "name": "stdout",
     "output_type": "stream",
     "text": [
      "Unable to remove memmapped file\n"
     ]
    },
    {
     "data": {
      "application/vnd.jupyter.widget-view+json": {
       "model_id": "4ccccd35e8844cddadda7a415cda2ae2",
       "version_major": 2,
       "version_minor": 0
      },
      "text/plain": [
       "ACC features:   0%|          | 0/36 [00:00<?, ?it/s]"
      ]
     },
     "metadata": {},
     "output_type": "display_data"
    },
    {
     "name": "stdout",
     "output_type": "stream",
     "text": [
      "Unable to remove memmapped file\n"
     ]
    },
    {
     "data": {
      "application/vnd.jupyter.widget-view+json": {
       "model_id": "d3c83c33b9ab496f96861d7c93777b69",
       "version_major": 2,
       "version_minor": 0
      },
      "text/plain": [
       "ACC features:   0%|          | 0/36 [00:00<?, ?it/s]"
      ]
     },
     "metadata": {},
     "output_type": "display_data"
    },
    {
     "name": "stdout",
     "output_type": "stream",
     "text": [
      "Unable to remove memmapped file\n"
     ]
    },
    {
     "data": {
      "application/vnd.jupyter.widget-view+json": {
       "model_id": "7b13fdd980f34047886b041eb0712f20",
       "version_major": 2,
       "version_minor": 0
      },
      "text/plain": [
       "ACC features:   0%|          | 0/36 [00:00<?, ?it/s]"
      ]
     },
     "metadata": {},
     "output_type": "display_data"
    },
    {
     "name": "stdout",
     "output_type": "stream",
     "text": [
      "Unable to remove memmapped file\n"
     ]
    },
    {
     "data": {
      "application/vnd.jupyter.widget-view+json": {
       "model_id": "252bd6626bdf40ec93c649edd8de1b30",
       "version_major": 2,
       "version_minor": 0
      },
      "text/plain": [
       "ACC features:   0%|          | 0/36 [00:00<?, ?it/s]"
      ]
     },
     "metadata": {},
     "output_type": "display_data"
    },
    {
     "name": "stdout",
     "output_type": "stream",
     "text": [
      "Unable to remove memmapped file\n"
     ]
    },
    {
     "data": {
      "application/vnd.jupyter.widget-view+json": {
       "model_id": "a3d0f06c05cb4e8a85d55623215a2e01",
       "version_major": 2,
       "version_minor": 0
      },
      "text/plain": [
       "ACC features:   0%|          | 0/36 [00:00<?, ?it/s]"
      ]
     },
     "metadata": {},
     "output_type": "display_data"
    },
    {
     "name": "stdout",
     "output_type": "stream",
     "text": [
      "Unable to remove memmapped file\n"
     ]
    },
    {
     "data": {
      "application/vnd.jupyter.widget-view+json": {
       "model_id": "a7250f863c654afc8efe244192c93427",
       "version_major": 2,
       "version_minor": 0
      },
      "text/plain": [
       "ACC features:   0%|          | 0/24 [00:00<?, ?it/s]"
      ]
     },
     "metadata": {},
     "output_type": "display_data"
    },
    {
     "name": "stdout",
     "output_type": "stream",
     "text": [
      "Unable to remove memmapped file\n"
     ]
    },
    {
     "data": {
      "application/vnd.jupyter.widget-view+json": {
       "model_id": "1c5b7ec92e7a472584bc5cf081a49e77",
       "version_major": 2,
       "version_minor": 0
      },
      "text/plain": [
       "ACC features:   0%|          | 0/24 [00:00<?, ?it/s]"
      ]
     },
     "metadata": {},
     "output_type": "display_data"
    },
    {
     "name": "stdout",
     "output_type": "stream",
     "text": [
      "Unable to remove memmapped file\n"
     ]
    },
    {
     "data": {
      "application/vnd.jupyter.widget-view+json": {
       "model_id": "01d4e49205f54886b0c4e9a02b66a7f4",
       "version_major": 2,
       "version_minor": 0
      },
      "text/plain": [
       "ACC features:   0%|          | 0/24 [00:00<?, ?it/s]"
      ]
     },
     "metadata": {},
     "output_type": "display_data"
    },
    {
     "name": "stdout",
     "output_type": "stream",
     "text": [
      "Unable to remove memmapped file\n"
     ]
    },
    {
     "data": {
      "application/vnd.jupyter.widget-view+json": {
       "model_id": "4486a0d4ede340eda010f5ac984f10f4",
       "version_major": 2,
       "version_minor": 0
      },
      "text/plain": [
       "ACC features:   0%|          | 0/24 [00:00<?, ?it/s]"
      ]
     },
     "metadata": {},
     "output_type": "display_data"
    },
    {
     "name": "stdout",
     "output_type": "stream",
     "text": [
      "Unable to remove memmapped file\n"
     ]
    },
    {
     "data": {
      "application/vnd.jupyter.widget-view+json": {
       "model_id": "5c70f27c52214216a2bf25281f6b532c",
       "version_major": 2,
       "version_minor": 0
      },
      "text/plain": [
       "ACC features:   0%|          | 0/24 [00:00<?, ?it/s]"
      ]
     },
     "metadata": {},
     "output_type": "display_data"
    },
    {
     "name": "stdout",
     "output_type": "stream",
     "text": [
      "Unable to remove memmapped file\n"
     ]
    },
    {
     "data": {
      "application/vnd.jupyter.widget-view+json": {
       "model_id": "9fa9a83abbce4c939777df940ff6606b",
       "version_major": 2,
       "version_minor": 0
      },
      "text/plain": [
       "ACC features:   0%|          | 0/33 [00:00<?, ?it/s]"
      ]
     },
     "metadata": {},
     "output_type": "display_data"
    },
    {
     "name": "stdout",
     "output_type": "stream",
     "text": [
      "Unable to remove memmapped file\n"
     ]
    },
    {
     "data": {
      "application/vnd.jupyter.widget-view+json": {
       "model_id": "d4aa895f2c9c4e08966d74e392362278",
       "version_major": 2,
       "version_minor": 0
      },
      "text/plain": [
       "ACC features:   0%|          | 0/33 [00:00<?, ?it/s]"
      ]
     },
     "metadata": {},
     "output_type": "display_data"
    },
    {
     "name": "stdout",
     "output_type": "stream",
     "text": [
      "Unable to remove memmapped file\n"
     ]
    },
    {
     "data": {
      "application/vnd.jupyter.widget-view+json": {
       "model_id": "95012049045f46258ce3a53e8687d2ad",
       "version_major": 2,
       "version_minor": 0
      },
      "text/plain": [
       "ACC features:   0%|          | 0/33 [00:00<?, ?it/s]"
      ]
     },
     "metadata": {},
     "output_type": "display_data"
    },
    {
     "name": "stdout",
     "output_type": "stream",
     "text": [
      "Unable to remove memmapped file\n"
     ]
    },
    {
     "data": {
      "application/vnd.jupyter.widget-view+json": {
       "model_id": "ca1b7dc394474bb084d80f4d57de1633",
       "version_major": 2,
       "version_minor": 0
      },
      "text/plain": [
       "ACC features:   0%|          | 0/33 [00:00<?, ?it/s]"
      ]
     },
     "metadata": {},
     "output_type": "display_data"
    },
    {
     "name": "stdout",
     "output_type": "stream",
     "text": [
      "Unable to remove memmapped file\n"
     ]
    },
    {
     "data": {
      "application/vnd.jupyter.widget-view+json": {
       "model_id": "b4980e0ceb164f168624400437924b81",
       "version_major": 2,
       "version_minor": 0
      },
      "text/plain": [
       "ACC features:   0%|          | 0/33 [00:00<?, ?it/s]"
      ]
     },
     "metadata": {},
     "output_type": "display_data"
    },
    {
     "name": "stdout",
     "output_type": "stream",
     "text": [
      "Unable to remove memmapped file\n"
     ]
    },
    {
     "data": {
      "application/vnd.jupyter.widget-view+json": {
       "model_id": "29d21f5305394e19b20744dbfe5aa6bd",
       "version_major": 2,
       "version_minor": 0
      },
      "text/plain": [
       "ACC features:   0%|          | 0/36 [00:00<?, ?it/s]"
      ]
     },
     "metadata": {},
     "output_type": "display_data"
    },
    {
     "name": "stdout",
     "output_type": "stream",
     "text": [
      "Unable to remove memmapped file\n"
     ]
    },
    {
     "data": {
      "application/vnd.jupyter.widget-view+json": {
       "model_id": "0959119af6f44079aa4d433387560735",
       "version_major": 2,
       "version_minor": 0
      },
      "text/plain": [
       "ACC features:   0%|          | 0/36 [00:00<?, ?it/s]"
      ]
     },
     "metadata": {},
     "output_type": "display_data"
    },
    {
     "name": "stdout",
     "output_type": "stream",
     "text": [
      "Unable to remove memmapped file\n"
     ]
    },
    {
     "data": {
      "application/vnd.jupyter.widget-view+json": {
       "model_id": "f5df3ff573fc493890e1353a3b9b4964",
       "version_major": 2,
       "version_minor": 0
      },
      "text/plain": [
       "ACC features:   0%|          | 0/36 [00:00<?, ?it/s]"
      ]
     },
     "metadata": {},
     "output_type": "display_data"
    },
    {
     "name": "stdout",
     "output_type": "stream",
     "text": [
      "Unable to remove memmapped file\n"
     ]
    },
    {
     "data": {
      "application/vnd.jupyter.widget-view+json": {
       "model_id": "1f02f9216bb34816a2056fcdc6f6dcee",
       "version_major": 2,
       "version_minor": 0
      },
      "text/plain": [
       "ACC features:   0%|          | 0/36 [00:00<?, ?it/s]"
      ]
     },
     "metadata": {},
     "output_type": "display_data"
    },
    {
     "name": "stdout",
     "output_type": "stream",
     "text": [
      "Unable to remove memmapped file\n"
     ]
    },
    {
     "data": {
      "application/vnd.jupyter.widget-view+json": {
       "model_id": "79fe4394cfc241d9aba4bae5b029c0bb",
       "version_major": 2,
       "version_minor": 0
      },
      "text/plain": [
       "ACC features:   0%|          | 0/36 [00:00<?, ?it/s]"
      ]
     },
     "metadata": {},
     "output_type": "display_data"
    },
    {
     "name": "stdout",
     "output_type": "stream",
     "text": [
      "Unable to remove memmapped file\n"
     ]
    },
    {
     "data": {
      "application/vnd.jupyter.widget-view+json": {
       "model_id": "e979de6a65634f8594e9fe160d4648cd",
       "version_major": 2,
       "version_minor": 0
      },
      "text/plain": [
       "ACC features:   0%|          | 0/66 [00:00<?, ?it/s]"
      ]
     },
     "metadata": {},
     "output_type": "display_data"
    },
    {
     "name": "stdout",
     "output_type": "stream",
     "text": [
      "Unable to remove memmapped file\n"
     ]
    },
    {
     "data": {
      "application/vnd.jupyter.widget-view+json": {
       "model_id": "e4855c5f801248b69691e2fe3e13c81d",
       "version_major": 2,
       "version_minor": 0
      },
      "text/plain": [
       "ACC features:   0%|          | 0/66 [00:00<?, ?it/s]"
      ]
     },
     "metadata": {},
     "output_type": "display_data"
    },
    {
     "name": "stdout",
     "output_type": "stream",
     "text": [
      "Unable to remove memmapped file\n"
     ]
    },
    {
     "data": {
      "application/vnd.jupyter.widget-view+json": {
       "model_id": "90469b99b90542bc8cf50f93ac39131f",
       "version_major": 2,
       "version_minor": 0
      },
      "text/plain": [
       "ACC features:   0%|          | 0/66 [00:00<?, ?it/s]"
      ]
     },
     "metadata": {},
     "output_type": "display_data"
    },
    {
     "name": "stdout",
     "output_type": "stream",
     "text": [
      "Unable to remove memmapped file\n"
     ]
    },
    {
     "data": {
      "application/vnd.jupyter.widget-view+json": {
       "model_id": "76f25097b95043d6bafd51df9f7581fa",
       "version_major": 2,
       "version_minor": 0
      },
      "text/plain": [
       "ACC features:   0%|          | 0/66 [00:00<?, ?it/s]"
      ]
     },
     "metadata": {},
     "output_type": "display_data"
    },
    {
     "name": "stdout",
     "output_type": "stream",
     "text": [
      "Unable to remove memmapped file\n"
     ]
    },
    {
     "data": {
      "application/vnd.jupyter.widget-view+json": {
       "model_id": "0f071144c3234167af51c1d9499b264f",
       "version_major": 2,
       "version_minor": 0
      },
      "text/plain": [
       "ACC features:   0%|          | 0/66 [00:00<?, ?it/s]"
      ]
     },
     "metadata": {},
     "output_type": "display_data"
    },
    {
     "name": "stdout",
     "output_type": "stream",
     "text": [
      "Unable to remove memmapped file\n"
     ]
    },
    {
     "data": {
      "application/vnd.jupyter.widget-view+json": {
       "model_id": "42ec1dcb68f94e9f90e52013b7d14b14",
       "version_major": 2,
       "version_minor": 0
      },
      "text/plain": [
       "ACC features:   0%|          | 0/14 [00:00<?, ?it/s]"
      ]
     },
     "metadata": {},
     "output_type": "display_data"
    },
    {
     "name": "stdout",
     "output_type": "stream",
     "text": [
      "Unable to remove memmapped file\n"
     ]
    },
    {
     "data": {
      "application/vnd.jupyter.widget-view+json": {
       "model_id": "aa4985a16785428c9f90547c5eea7af2",
       "version_major": 2,
       "version_minor": 0
      },
      "text/plain": [
       "ACC features:   0%|          | 0/14 [00:00<?, ?it/s]"
      ]
     },
     "metadata": {},
     "output_type": "display_data"
    },
    {
     "name": "stdout",
     "output_type": "stream",
     "text": [
      "Unable to remove memmapped file\n"
     ]
    },
    {
     "data": {
      "application/vnd.jupyter.widget-view+json": {
       "model_id": "a2528a3d99804f0190b47c702a407869",
       "version_major": 2,
       "version_minor": 0
      },
      "text/plain": [
       "ACC features:   0%|          | 0/14 [00:00<?, ?it/s]"
      ]
     },
     "metadata": {},
     "output_type": "display_data"
    },
    {
     "name": "stdout",
     "output_type": "stream",
     "text": [
      "Unable to remove memmapped file\n"
     ]
    },
    {
     "data": {
      "application/vnd.jupyter.widget-view+json": {
       "model_id": "2762a4e1389d4062aa160b0578260c5f",
       "version_major": 2,
       "version_minor": 0
      },
      "text/plain": [
       "ACC features:   0%|          | 0/14 [00:00<?, ?it/s]"
      ]
     },
     "metadata": {},
     "output_type": "display_data"
    },
    {
     "name": "stdout",
     "output_type": "stream",
     "text": [
      "Unable to remove memmapped file\n"
     ]
    },
    {
     "data": {
      "application/vnd.jupyter.widget-view+json": {
       "model_id": "097bdcbaa6e643dab9b5822ef631f9dc",
       "version_major": 2,
       "version_minor": 0
      },
      "text/plain": [
       "ACC features:   0%|          | 0/14 [00:00<?, ?it/s]"
      ]
     },
     "metadata": {},
     "output_type": "display_data"
    },
    {
     "name": "stdout",
     "output_type": "stream",
     "text": [
      "Unable to remove memmapped file\n"
     ]
    },
    {
     "data": {
      "application/vnd.jupyter.widget-view+json": {
       "model_id": "a9aa35ca6a7c4464bd04102f8e23a531",
       "version_major": 2,
       "version_minor": 0
      },
      "text/plain": [
       "ACC features:   0%|          | 0/78 [00:00<?, ?it/s]"
      ]
     },
     "metadata": {},
     "output_type": "display_data"
    },
    {
     "name": "stdout",
     "output_type": "stream",
     "text": [
      "Unable to remove memmapped file\n"
     ]
    },
    {
     "data": {
      "application/vnd.jupyter.widget-view+json": {
       "model_id": "be37b7535c114248b59e196b0c807c7e",
       "version_major": 2,
       "version_minor": 0
      },
      "text/plain": [
       "ACC features:   0%|          | 0/78 [00:00<?, ?it/s]"
      ]
     },
     "metadata": {},
     "output_type": "display_data"
    },
    {
     "name": "stdout",
     "output_type": "stream",
     "text": [
      "Unable to remove memmapped file\n"
     ]
    },
    {
     "data": {
      "application/vnd.jupyter.widget-view+json": {
       "model_id": "d5d763bd500a41169e6e821e0fa35c1c",
       "version_major": 2,
       "version_minor": 0
      },
      "text/plain": [
       "ACC features:   0%|          | 0/78 [00:00<?, ?it/s]"
      ]
     },
     "metadata": {},
     "output_type": "display_data"
    },
    {
     "name": "stdout",
     "output_type": "stream",
     "text": [
      "Unable to remove memmapped file\n"
     ]
    },
    {
     "data": {
      "application/vnd.jupyter.widget-view+json": {
       "model_id": "2d6a74565c2e404285dce982e026985b",
       "version_major": 2,
       "version_minor": 0
      },
      "text/plain": [
       "ACC features:   0%|          | 0/78 [00:00<?, ?it/s]"
      ]
     },
     "metadata": {},
     "output_type": "display_data"
    },
    {
     "name": "stdout",
     "output_type": "stream",
     "text": [
      "Unable to remove memmapped file\n"
     ]
    },
    {
     "data": {
      "application/vnd.jupyter.widget-view+json": {
       "model_id": "7cd36cbd568d4fdfb8b8603b044ff135",
       "version_major": 2,
       "version_minor": 0
      },
      "text/plain": [
       "ACC features:   0%|          | 0/78 [00:00<?, ?it/s]"
      ]
     },
     "metadata": {},
     "output_type": "display_data"
    },
    {
     "name": "stdout",
     "output_type": "stream",
     "text": [
      "Unable to remove memmapped file\n"
     ]
    },
    {
     "data": {
      "application/vnd.jupyter.widget-view+json": {
       "model_id": "7482413e788040e2942ea3433eaad464",
       "version_major": 2,
       "version_minor": 0
      },
      "text/plain": [
       "ACC features:   0%|          | 0/84 [00:00<?, ?it/s]"
      ]
     },
     "metadata": {},
     "output_type": "display_data"
    },
    {
     "name": "stdout",
     "output_type": "stream",
     "text": [
      "Unable to remove memmapped file\n"
     ]
    },
    {
     "data": {
      "application/vnd.jupyter.widget-view+json": {
       "model_id": "7a8a8774d5c042ea9fdced25c8207621",
       "version_major": 2,
       "version_minor": 0
      },
      "text/plain": [
       "ACC features:   0%|          | 0/84 [00:00<?, ?it/s]"
      ]
     },
     "metadata": {},
     "output_type": "display_data"
    },
    {
     "name": "stdout",
     "output_type": "stream",
     "text": [
      "Unable to remove memmapped file\n"
     ]
    },
    {
     "data": {
      "application/vnd.jupyter.widget-view+json": {
       "model_id": "b48356bb9c38409496f9233ee993123d",
       "version_major": 2,
       "version_minor": 0
      },
      "text/plain": [
       "ACC features:   0%|          | 0/84 [00:00<?, ?it/s]"
      ]
     },
     "metadata": {},
     "output_type": "display_data"
    },
    {
     "name": "stdout",
     "output_type": "stream",
     "text": [
      "Unable to remove memmapped file\n"
     ]
    },
    {
     "data": {
      "application/vnd.jupyter.widget-view+json": {
       "model_id": "9be711cff9db44acb2c850e29fb5e36f",
       "version_major": 2,
       "version_minor": 0
      },
      "text/plain": [
       "ACC features:   0%|          | 0/84 [00:00<?, ?it/s]"
      ]
     },
     "metadata": {},
     "output_type": "display_data"
    },
    {
     "name": "stdout",
     "output_type": "stream",
     "text": [
      "Unable to remove memmapped file\n"
     ]
    },
    {
     "data": {
      "application/vnd.jupyter.widget-view+json": {
       "model_id": "60ce1db623bc4309b1e38993ac72d1e3",
       "version_major": 2,
       "version_minor": 0
      },
      "text/plain": [
       "ACC features:   0%|          | 0/84 [00:00<?, ?it/s]"
      ]
     },
     "metadata": {},
     "output_type": "display_data"
    },
    {
     "name": "stdout",
     "output_type": "stream",
     "text": [
      "Unable to remove memmapped file\n"
     ]
    },
    {
     "data": {
      "application/vnd.jupyter.widget-view+json": {
       "model_id": "9406e1eec7674ae29a6c38c149dcafa9",
       "version_major": 2,
       "version_minor": 0
      },
      "text/plain": [
       "ACC features:   0%|          | 0/144 [00:00<?, ?it/s]"
      ]
     },
     "metadata": {},
     "output_type": "display_data"
    },
    {
     "name": "stdout",
     "output_type": "stream",
     "text": [
      "Unable to remove memmapped file\n"
     ]
    },
    {
     "data": {
      "application/vnd.jupyter.widget-view+json": {
       "model_id": "185a0e52e6d44a1ea528947cc1302add",
       "version_major": 2,
       "version_minor": 0
      },
      "text/plain": [
       "ACC features:   0%|          | 0/144 [00:00<?, ?it/s]"
      ]
     },
     "metadata": {},
     "output_type": "display_data"
    },
    {
     "name": "stdout",
     "output_type": "stream",
     "text": [
      "Unable to remove memmapped file\n"
     ]
    },
    {
     "data": {
      "application/vnd.jupyter.widget-view+json": {
       "model_id": "85e8127aa0064a168de85e3ab4a00cb9",
       "version_major": 2,
       "version_minor": 0
      },
      "text/plain": [
       "ACC features:   0%|          | 0/144 [00:00<?, ?it/s]"
      ]
     },
     "metadata": {},
     "output_type": "display_data"
    },
    {
     "name": "stdout",
     "output_type": "stream",
     "text": [
      "Unable to remove memmapped file\n"
     ]
    },
    {
     "data": {
      "application/vnd.jupyter.widget-view+json": {
       "model_id": "dfa571292df6405b9c8cc2fdbc11f1c0",
       "version_major": 2,
       "version_minor": 0
      },
      "text/plain": [
       "ACC features:   0%|          | 0/144 [00:00<?, ?it/s]"
      ]
     },
     "metadata": {},
     "output_type": "display_data"
    },
    {
     "name": "stdout",
     "output_type": "stream",
     "text": [
      "Unable to remove memmapped file\n"
     ]
    },
    {
     "data": {
      "application/vnd.jupyter.widget-view+json": {
       "model_id": "2e241053ee5148d6895d66cdfc6346cd",
       "version_major": 2,
       "version_minor": 0
      },
      "text/plain": [
       "ACC features:   0%|          | 0/144 [00:00<?, ?it/s]"
      ]
     },
     "metadata": {},
     "output_type": "display_data"
    },
    {
     "name": "stdout",
     "output_type": "stream",
     "text": [
      "Unable to remove memmapped file\n"
     ]
    },
    {
     "data": {
      "application/vnd.jupyter.widget-view+json": {
       "model_id": "f02b425e4a5445b690e072f0bd8054ed",
       "version_major": 2,
       "version_minor": 0
      },
      "text/plain": [
       "ACC features:   0%|          | 0/162 [00:00<?, ?it/s]"
      ]
     },
     "metadata": {},
     "output_type": "display_data"
    },
    {
     "name": "stdout",
     "output_type": "stream",
     "text": [
      "Unable to remove memmapped file\n"
     ]
    },
    {
     "data": {
      "application/vnd.jupyter.widget-view+json": {
       "model_id": "105cefe4bdcb45a2bb022cbccbae8eed",
       "version_major": 2,
       "version_minor": 0
      },
      "text/plain": [
       "ACC features:   0%|          | 0/162 [00:00<?, ?it/s]"
      ]
     },
     "metadata": {},
     "output_type": "display_data"
    },
    {
     "name": "stdout",
     "output_type": "stream",
     "text": [
      "Unable to remove memmapped file\n"
     ]
    },
    {
     "data": {
      "application/vnd.jupyter.widget-view+json": {
       "model_id": "ffb594e4fa6844a0b46d00eb02364b06",
       "version_major": 2,
       "version_minor": 0
      },
      "text/plain": [
       "ACC features:   0%|          | 0/162 [00:00<?, ?it/s]"
      ]
     },
     "metadata": {},
     "output_type": "display_data"
    },
    {
     "name": "stdout",
     "output_type": "stream",
     "text": [
      "Unable to remove memmapped file\n"
     ]
    },
    {
     "data": {
      "application/vnd.jupyter.widget-view+json": {
       "model_id": "a0e5700c2e19483d80bede76390bc373",
       "version_major": 2,
       "version_minor": 0
      },
      "text/plain": [
       "ACC features:   0%|          | 0/162 [00:00<?, ?it/s]"
      ]
     },
     "metadata": {},
     "output_type": "display_data"
    },
    {
     "name": "stdout",
     "output_type": "stream",
     "text": [
      "Unable to remove memmapped file\n"
     ]
    },
    {
     "data": {
      "application/vnd.jupyter.widget-view+json": {
       "model_id": "8abb9f8fdb004b3cae00ab6c55dd44e9",
       "version_major": 2,
       "version_minor": 0
      },
      "text/plain": [
       "ACC features:   0%|          | 0/162 [00:00<?, ?it/s]"
      ]
     },
     "metadata": {},
     "output_type": "display_data"
    },
    {
     "name": "stdout",
     "output_type": "stream",
     "text": [
      "Unable to remove memmapped file\n"
     ]
    },
    {
     "data": {
      "application/vnd.jupyter.widget-view+json": {
       "model_id": "a1128d9a54bc45e2850fa3454ce5d25e",
       "version_major": 2,
       "version_minor": 0
      },
      "text/plain": [
       "ACC features:   0%|          | 0/162 [00:00<?, ?it/s]"
      ]
     },
     "metadata": {},
     "output_type": "display_data"
    },
    {
     "name": "stdout",
     "output_type": "stream",
     "text": [
      "Unable to remove memmapped file\n"
     ]
    },
    {
     "data": {
      "application/vnd.jupyter.widget-view+json": {
       "model_id": "cf6456e12a914b47b05e4c7ee65ec6cf",
       "version_major": 2,
       "version_minor": 0
      },
      "text/plain": [
       "ACC features:   0%|          | 0/162 [00:00<?, ?it/s]"
      ]
     },
     "metadata": {},
     "output_type": "display_data"
    },
    {
     "name": "stdout",
     "output_type": "stream",
     "text": [
      "Unable to remove memmapped file\n"
     ]
    },
    {
     "data": {
      "application/vnd.jupyter.widget-view+json": {
       "model_id": "ea4c4db385f6444d9162aa85c29c07db",
       "version_major": 2,
       "version_minor": 0
      },
      "text/plain": [
       "ACC features:   0%|          | 0/162 [00:00<?, ?it/s]"
      ]
     },
     "metadata": {},
     "output_type": "display_data"
    },
    {
     "name": "stdout",
     "output_type": "stream",
     "text": [
      "Unable to remove memmapped file\n"
     ]
    },
    {
     "data": {
      "application/vnd.jupyter.widget-view+json": {
       "model_id": "faaac0ea12ee4bbd9df838f6e8bc91f7",
       "version_major": 2,
       "version_minor": 0
      },
      "text/plain": [
       "ACC features:   0%|          | 0/162 [00:00<?, ?it/s]"
      ]
     },
     "metadata": {},
     "output_type": "display_data"
    },
    {
     "name": "stdout",
     "output_type": "stream",
     "text": [
      "Unable to remove memmapped file\n"
     ]
    },
    {
     "data": {
      "application/vnd.jupyter.widget-view+json": {
       "model_id": "8377ae5eec9d41c89be634ebceb1e37b",
       "version_major": 2,
       "version_minor": 0
      },
      "text/plain": [
       "ACC features:   0%|          | 0/162 [00:00<?, ?it/s]"
      ]
     },
     "metadata": {},
     "output_type": "display_data"
    },
    {
     "name": "stdout",
     "output_type": "stream",
     "text": [
      "Unable to remove memmapped file\n"
     ]
    },
    {
     "data": {
      "application/vnd.jupyter.widget-view+json": {
       "model_id": "5dc046feeed34aeb8910dc7cfc26277c",
       "version_major": 2,
       "version_minor": 0
      },
      "text/plain": [
       "ACC features:   0%|          | 0/60 [00:00<?, ?it/s]"
      ]
     },
     "metadata": {},
     "output_type": "display_data"
    },
    {
     "name": "stdout",
     "output_type": "stream",
     "text": [
      "Unable to remove memmapped file\n"
     ]
    },
    {
     "data": {
      "application/vnd.jupyter.widget-view+json": {
       "model_id": "85136c30a01840c190c34a8a66bffe3b",
       "version_major": 2,
       "version_minor": 0
      },
      "text/plain": [
       "ACC features:   0%|          | 0/60 [00:00<?, ?it/s]"
      ]
     },
     "metadata": {},
     "output_type": "display_data"
    },
    {
     "name": "stdout",
     "output_type": "stream",
     "text": [
      "Unable to remove memmapped file\n"
     ]
    },
    {
     "data": {
      "application/vnd.jupyter.widget-view+json": {
       "model_id": "45fc5c5990aa4f668bc9bfbcaa2304a4",
       "version_major": 2,
       "version_minor": 0
      },
      "text/plain": [
       "ACC features:   0%|          | 0/60 [00:00<?, ?it/s]"
      ]
     },
     "metadata": {},
     "output_type": "display_data"
    },
    {
     "name": "stdout",
     "output_type": "stream",
     "text": [
      "Unable to remove memmapped file\n"
     ]
    },
    {
     "data": {
      "application/vnd.jupyter.widget-view+json": {
       "model_id": "30d49b42dd804a499816c5be11f0c8e3",
       "version_major": 2,
       "version_minor": 0
      },
      "text/plain": [
       "ACC features:   0%|          | 0/60 [00:00<?, ?it/s]"
      ]
     },
     "metadata": {},
     "output_type": "display_data"
    },
    {
     "name": "stdout",
     "output_type": "stream",
     "text": [
      "Unable to remove memmapped file\n"
     ]
    },
    {
     "data": {
      "application/vnd.jupyter.widget-view+json": {
       "model_id": "d89d80e0d8344596a8c926b11a1a36a8",
       "version_major": 2,
       "version_minor": 0
      },
      "text/plain": [
       "ACC features:   0%|          | 0/60 [00:00<?, ?it/s]"
      ]
     },
     "metadata": {},
     "output_type": "display_data"
    },
    {
     "name": "stdout",
     "output_type": "stream",
     "text": [
      "Unable to remove memmapped file\n"
     ]
    },
    {
     "data": {
      "application/vnd.jupyter.widget-view+json": {
       "model_id": "27ebb64a274f4ca99a59a067ec67e1ee",
       "version_major": 2,
       "version_minor": 0
      },
      "text/plain": [
       "ACC features:   0%|          | 0/78 [00:00<?, ?it/s]"
      ]
     },
     "metadata": {},
     "output_type": "display_data"
    },
    {
     "name": "stdout",
     "output_type": "stream",
     "text": [
      "Unable to remove memmapped file\n"
     ]
    },
    {
     "data": {
      "application/vnd.jupyter.widget-view+json": {
       "model_id": "acaca3b235b8492b9d6ad83c92214814",
       "version_major": 2,
       "version_minor": 0
      },
      "text/plain": [
       "ACC features:   0%|          | 0/78 [00:00<?, ?it/s]"
      ]
     },
     "metadata": {},
     "output_type": "display_data"
    },
    {
     "name": "stdout",
     "output_type": "stream",
     "text": [
      "Unable to remove memmapped file\n"
     ]
    },
    {
     "data": {
      "application/vnd.jupyter.widget-view+json": {
       "model_id": "24de0af603b146c0ba44811f2d7e154e",
       "version_major": 2,
       "version_minor": 0
      },
      "text/plain": [
       "ACC features:   0%|          | 0/78 [00:00<?, ?it/s]"
      ]
     },
     "metadata": {},
     "output_type": "display_data"
    },
    {
     "name": "stdout",
     "output_type": "stream",
     "text": [
      "Unable to remove memmapped file\n"
     ]
    },
    {
     "data": {
      "application/vnd.jupyter.widget-view+json": {
       "model_id": "3f756696a2604b58b812f07f7c1188d3",
       "version_major": 2,
       "version_minor": 0
      },
      "text/plain": [
       "ACC features:   0%|          | 0/78 [00:00<?, ?it/s]"
      ]
     },
     "metadata": {},
     "output_type": "display_data"
    },
    {
     "name": "stdout",
     "output_type": "stream",
     "text": [
      "Unable to remove memmapped file\n"
     ]
    },
    {
     "data": {
      "application/vnd.jupyter.widget-view+json": {
       "model_id": "c8344a5ed431435c84b0beb7a3940a19",
       "version_major": 2,
       "version_minor": 0
      },
      "text/plain": [
       "ACC features:   0%|          | 0/78 [00:00<?, ?it/s]"
      ]
     },
     "metadata": {},
     "output_type": "display_data"
    },
    {
     "name": "stdout",
     "output_type": "stream",
     "text": [
      "Unable to remove memmapped file\n"
     ]
    },
    {
     "data": {
      "application/vnd.jupyter.widget-view+json": {
       "model_id": "228bef13a40745bb8f5f5034566800a9",
       "version_major": 2,
       "version_minor": 0
      },
      "text/plain": [
       "ACC features:   0%|          | 0/84 [00:00<?, ?it/s]"
      ]
     },
     "metadata": {},
     "output_type": "display_data"
    },
    {
     "name": "stdout",
     "output_type": "stream",
     "text": [
      "Unable to remove memmapped file\n"
     ]
    },
    {
     "data": {
      "application/vnd.jupyter.widget-view+json": {
       "model_id": "eb7d610263814e61a62cd1070b0840eb",
       "version_major": 2,
       "version_minor": 0
      },
      "text/plain": [
       "ACC features:   0%|          | 0/84 [00:00<?, ?it/s]"
      ]
     },
     "metadata": {},
     "output_type": "display_data"
    },
    {
     "name": "stdout",
     "output_type": "stream",
     "text": [
      "Unable to remove memmapped file\n"
     ]
    },
    {
     "data": {
      "application/vnd.jupyter.widget-view+json": {
       "model_id": "3b395548717d4673aeebe2f323d08a4e",
       "version_major": 2,
       "version_minor": 0
      },
      "text/plain": [
       "ACC features:   0%|          | 0/84 [00:00<?, ?it/s]"
      ]
     },
     "metadata": {},
     "output_type": "display_data"
    },
    {
     "name": "stdout",
     "output_type": "stream",
     "text": [
      "Unable to remove memmapped file\n"
     ]
    },
    {
     "data": {
      "application/vnd.jupyter.widget-view+json": {
       "model_id": "b2c93015c9e24026b4ac3ac43b26c23e",
       "version_major": 2,
       "version_minor": 0
      },
      "text/plain": [
       "ACC features:   0%|          | 0/84 [00:00<?, ?it/s]"
      ]
     },
     "metadata": {},
     "output_type": "display_data"
    },
    {
     "name": "stdout",
     "output_type": "stream",
     "text": [
      "Unable to remove memmapped file\n"
     ]
    },
    {
     "data": {
      "application/vnd.jupyter.widget-view+json": {
       "model_id": "fdfeb47888984b32a2ad47921001d213",
       "version_major": 2,
       "version_minor": 0
      },
      "text/plain": [
       "ACC features:   0%|          | 0/84 [00:00<?, ?it/s]"
      ]
     },
     "metadata": {},
     "output_type": "display_data"
    },
    {
     "name": "stdout",
     "output_type": "stream",
     "text": [
      "Unable to remove memmapped file\n"
     ]
    },
    {
     "data": {
      "application/vnd.jupyter.widget-view+json": {
       "model_id": "4e87faecf9d845f78de45443635dd1f1",
       "version_major": 2,
       "version_minor": 0
      },
      "text/plain": [
       "ACC features:   0%|          | 0/21 [00:00<?, ?it/s]"
      ]
     },
     "metadata": {},
     "output_type": "display_data"
    },
    {
     "name": "stdout",
     "output_type": "stream",
     "text": [
      "Unable to remove memmapped file\n"
     ]
    },
    {
     "data": {
      "application/vnd.jupyter.widget-view+json": {
       "model_id": "b34c75c5e9d54d7e828e8efb5104aa39",
       "version_major": 2,
       "version_minor": 0
      },
      "text/plain": [
       "ACC features:   0%|          | 0/21 [00:00<?, ?it/s]"
      ]
     },
     "metadata": {},
     "output_type": "display_data"
    },
    {
     "name": "stdout",
     "output_type": "stream",
     "text": [
      "Unable to remove memmapped file\n"
     ]
    },
    {
     "data": {
      "application/vnd.jupyter.widget-view+json": {
       "model_id": "15e9675fd48f4d43bc47d472f5175987",
       "version_major": 2,
       "version_minor": 0
      },
      "text/plain": [
       "ACC features:   0%|          | 0/21 [00:00<?, ?it/s]"
      ]
     },
     "metadata": {},
     "output_type": "display_data"
    },
    {
     "name": "stdout",
     "output_type": "stream",
     "text": [
      "Unable to remove memmapped file\n"
     ]
    },
    {
     "data": {
      "application/vnd.jupyter.widget-view+json": {
       "model_id": "9a2a3dadaca44dc9803dcc64903d3129",
       "version_major": 2,
       "version_minor": 0
      },
      "text/plain": [
       "ACC features:   0%|          | 0/21 [00:00<?, ?it/s]"
      ]
     },
     "metadata": {},
     "output_type": "display_data"
    },
    {
     "name": "stdout",
     "output_type": "stream",
     "text": [
      "Unable to remove memmapped file\n"
     ]
    },
    {
     "data": {
      "application/vnd.jupyter.widget-view+json": {
       "model_id": "29327f0e8f9a410d88d96352697b030b",
       "version_major": 2,
       "version_minor": 0
      },
      "text/plain": [
       "ACC features:   0%|          | 0/21 [00:00<?, ?it/s]"
      ]
     },
     "metadata": {},
     "output_type": "display_data"
    },
    {
     "name": "stdout",
     "output_type": "stream",
     "text": [
      "Unable to remove memmapped file\n"
     ]
    },
    {
     "data": {
      "application/vnd.jupyter.widget-view+json": {
       "model_id": "b958bab6e6d04aa88eb2f73b5d560b46",
       "version_major": 2,
       "version_minor": 0
      },
      "text/plain": [
       "ACC features:   0%|          | 0/30 [00:00<?, ?it/s]"
      ]
     },
     "metadata": {},
     "output_type": "display_data"
    },
    {
     "name": "stdout",
     "output_type": "stream",
     "text": [
      "Unable to remove memmapped file\n"
     ]
    },
    {
     "data": {
      "application/vnd.jupyter.widget-view+json": {
       "model_id": "bc30ffd487f74ebeb9f94f98c407e6ad",
       "version_major": 2,
       "version_minor": 0
      },
      "text/plain": [
       "ACC features:   0%|          | 0/30 [00:00<?, ?it/s]"
      ]
     },
     "metadata": {},
     "output_type": "display_data"
    },
    {
     "name": "stdout",
     "output_type": "stream",
     "text": [
      "Unable to remove memmapped file\n"
     ]
    },
    {
     "data": {
      "application/vnd.jupyter.widget-view+json": {
       "model_id": "6cf634cefdb548dc9f5982f4b3152e25",
       "version_major": 2,
       "version_minor": 0
      },
      "text/plain": [
       "ACC features:   0%|          | 0/30 [00:00<?, ?it/s]"
      ]
     },
     "metadata": {},
     "output_type": "display_data"
    },
    {
     "name": "stdout",
     "output_type": "stream",
     "text": [
      "Unable to remove memmapped file\n"
     ]
    },
    {
     "data": {
      "application/vnd.jupyter.widget-view+json": {
       "model_id": "02ae1bffc9644c6ebafb62998c43e6da",
       "version_major": 2,
       "version_minor": 0
      },
      "text/plain": [
       "ACC features:   0%|          | 0/30 [00:00<?, ?it/s]"
      ]
     },
     "metadata": {},
     "output_type": "display_data"
    },
    {
     "name": "stdout",
     "output_type": "stream",
     "text": [
      "Unable to remove memmapped file\n"
     ]
    },
    {
     "data": {
      "application/vnd.jupyter.widget-view+json": {
       "model_id": "d5d502d33c3744e6b861312633a381a9",
       "version_major": 2,
       "version_minor": 0
      },
      "text/plain": [
       "ACC features:   0%|          | 0/30 [00:00<?, ?it/s]"
      ]
     },
     "metadata": {},
     "output_type": "display_data"
    },
    {
     "name": "stdout",
     "output_type": "stream",
     "text": [
      "Unable to remove memmapped file\n"
     ]
    },
    {
     "data": {
      "application/vnd.jupyter.widget-view+json": {
       "model_id": "8d77c242fd134fad91ed6d302dc6d80b",
       "version_major": 2,
       "version_minor": 0
      },
      "text/plain": [
       "ACC features:   0%|          | 0/22 [00:00<?, ?it/s]"
      ]
     },
     "metadata": {},
     "output_type": "display_data"
    },
    {
     "name": "stdout",
     "output_type": "stream",
     "text": [
      "Unable to remove memmapped file\n"
     ]
    },
    {
     "data": {
      "application/vnd.jupyter.widget-view+json": {
       "model_id": "1535aa0abf6049f0ac9c992288f5c4e5",
       "version_major": 2,
       "version_minor": 0
      },
      "text/plain": [
       "ACC features:   0%|          | 0/22 [00:00<?, ?it/s]"
      ]
     },
     "metadata": {},
     "output_type": "display_data"
    },
    {
     "name": "stdout",
     "output_type": "stream",
     "text": [
      "Unable to remove memmapped file\n"
     ]
    },
    {
     "data": {
      "application/vnd.jupyter.widget-view+json": {
       "model_id": "77267713ab5246f3acf101e5071454ab",
       "version_major": 2,
       "version_minor": 0
      },
      "text/plain": [
       "ACC features:   0%|          | 0/22 [00:00<?, ?it/s]"
      ]
     },
     "metadata": {},
     "output_type": "display_data"
    },
    {
     "name": "stdout",
     "output_type": "stream",
     "text": [
      "Unable to remove memmapped file\n"
     ]
    },
    {
     "data": {
      "application/vnd.jupyter.widget-view+json": {
       "model_id": "af5d042ea3384e3cba059e80f67eef6b",
       "version_major": 2,
       "version_minor": 0
      },
      "text/plain": [
       "ACC features:   0%|          | 0/22 [00:00<?, ?it/s]"
      ]
     },
     "metadata": {},
     "output_type": "display_data"
    },
    {
     "name": "stdout",
     "output_type": "stream",
     "text": [
      "Unable to remove memmapped file\n"
     ]
    },
    {
     "data": {
      "application/vnd.jupyter.widget-view+json": {
       "model_id": "bb9afe7a67d543228f133be3e97ebda4",
       "version_major": 2,
       "version_minor": 0
      },
      "text/plain": [
       "ACC features:   0%|          | 0/22 [00:00<?, ?it/s]"
      ]
     },
     "metadata": {},
     "output_type": "display_data"
    },
    {
     "name": "stdout",
     "output_type": "stream",
     "text": [
      "Unable to remove memmapped file\n",
      "CPU times: total: 4min 40s\n",
      "Wall time: 31min 9s\n"
     ]
    }
   ],
   "source": [
    "%%time\n",
    "\n",
    "result_dfs = []\n",
    "\n",
    "window_length = 60\n",
    "window_step_size = 10\n",
    "\n",
    "# loop over groups\n",
    "for i in df['groups'].unique().tolist():\n",
    "    df_chunk = df[df['groups'] == i]\n",
    "    \n",
    "    subject = df_chunk['subject'][0]\n",
    "    label = df_chunk['label'][0]\n",
    "    \n",
    "    df_chunk = df_chunk.drop(columns=['groups', 'subject', 'label'])\n",
    "    \n",
    "    res_df_chunk = get_features(subject, label, df_chunk, window_length, window_step_size)\n",
    "    result_dfs.append(res_df_chunk)\n",
    "\n",
    "res = pd.concat(result_dfs)"
   ]
  },
  {
   "cell_type": "code",
   "execution_count": 57,
   "id": "d25ee8a9",
   "metadata": {},
   "outputs": [
    {
     "data": {
      "text/html": [
       "<div>\n",
       "<style scoped>\n",
       "    .dataframe tbody tr th:only-of-type {\n",
       "        vertical-align: middle;\n",
       "    }\n",
       "\n",
       "    .dataframe tbody tr th {\n",
       "        vertical-align: top;\n",
       "    }\n",
       "\n",
       "    .dataframe thead th {\n",
       "        text-align: right;\n",
       "    }\n",
       "</style>\n",
       "<table border=\"1\" class=\"dataframe\">\n",
       "  <thead>\n",
       "    <tr style=\"text-align: right;\">\n",
       "      <th></th>\n",
       "      <th>bvp_BVP_mean</th>\n",
       "      <th>bvp_BVP_std</th>\n",
       "      <th>bvp_BVP_min</th>\n",
       "      <th>bvp_BVP_max</th>\n",
       "      <th>bvp_BVP_ptp</th>\n",
       "      <th>bvp_BVP_sum</th>\n",
       "      <th>bvp_BVP_energy</th>\n",
       "      <th>bvp_BVP_skewness</th>\n",
       "      <th>bvp_BVP_kurtosis</th>\n",
       "      <th>bvp_BVP_peaks</th>\n",
       "      <th>...</th>\n",
       "      <th>hr_l2_n_sign_changes</th>\n",
       "      <th>hr_l2_iqr</th>\n",
       "      <th>hr_l2_iqr_5_95</th>\n",
       "      <th>hr_l2_pct_5</th>\n",
       "      <th>hr_l2_pct_95</th>\n",
       "      <th>hr_l2_entropy</th>\n",
       "      <th>hr_l2_perm_entropy</th>\n",
       "      <th>hr_l2_svd_entropy</th>\n",
       "      <th>subject</th>\n",
       "      <th>label</th>\n",
       "    </tr>\n",
       "    <tr>\n",
       "      <th>datetime</th>\n",
       "      <th></th>\n",
       "      <th></th>\n",
       "      <th></th>\n",
       "      <th></th>\n",
       "      <th></th>\n",
       "      <th></th>\n",
       "      <th></th>\n",
       "      <th></th>\n",
       "      <th></th>\n",
       "      <th></th>\n",
       "      <th></th>\n",
       "      <th></th>\n",
       "      <th></th>\n",
       "      <th></th>\n",
       "      <th></th>\n",
       "      <th></th>\n",
       "      <th></th>\n",
       "      <th></th>\n",
       "      <th></th>\n",
       "      <th></th>\n",
       "      <th></th>\n",
       "    </tr>\n",
       "  </thead>\n",
       "  <tbody>\n",
       "    <tr>\n",
       "      <th>2020-07-08 08:31:00</th>\n",
       "      <td>0.376078</td>\n",
       "      <td>207.186980</td>\n",
       "      <td>-1336.28</td>\n",
       "      <td>1333.44</td>\n",
       "      <td>2669.72</td>\n",
       "      <td>1444.14</td>\n",
       "      <td>1.648381e+08</td>\n",
       "      <td>-0.210934</td>\n",
       "      <td>8.208982</td>\n",
       "      <td>174</td>\n",
       "      <td>...</td>\n",
       "      <td>0.0</td>\n",
       "      <td>16.1900</td>\n",
       "      <td>20.1850</td>\n",
       "      <td>78.669</td>\n",
       "      <td>98.8540</td>\n",
       "      <td>4.090539</td>\n",
       "      <td>0.537376</td>\n",
       "      <td>0.040885</td>\n",
       "      <td>15</td>\n",
       "      <td>1</td>\n",
       "    </tr>\n",
       "    <tr>\n",
       "      <th>2020-07-08 08:31:10</th>\n",
       "      <td>0.813401</td>\n",
       "      <td>205.085789</td>\n",
       "      <td>-1336.28</td>\n",
       "      <td>1470.89</td>\n",
       "      <td>2807.17</td>\n",
       "      <td>3123.46</td>\n",
       "      <td>1.615136e+08</td>\n",
       "      <td>0.453604</td>\n",
       "      <td>10.256058</td>\n",
       "      <td>172</td>\n",
       "      <td>...</td>\n",
       "      <td>0.0</td>\n",
       "      <td>11.9525</td>\n",
       "      <td>18.4160</td>\n",
       "      <td>78.669</td>\n",
       "      <td>97.0850</td>\n",
       "      <td>4.091445</td>\n",
       "      <td>0.879136</td>\n",
       "      <td>0.054576</td>\n",
       "      <td>15</td>\n",
       "      <td>1</td>\n",
       "    </tr>\n",
       "    <tr>\n",
       "      <th>2020-07-08 08:31:20</th>\n",
       "      <td>-1.458391</td>\n",
       "      <td>183.187930</td>\n",
       "      <td>-823.18</td>\n",
       "      <td>1470.89</td>\n",
       "      <td>2294.07</td>\n",
       "      <td>-5600.22</td>\n",
       "      <td>1.288702e+08</td>\n",
       "      <td>1.219684</td>\n",
       "      <td>12.753530</td>\n",
       "      <td>178</td>\n",
       "      <td>...</td>\n",
       "      <td>0.0</td>\n",
       "      <td>6.7350</td>\n",
       "      <td>14.3385</td>\n",
       "      <td>78.669</td>\n",
       "      <td>93.0075</td>\n",
       "      <td>4.092899</td>\n",
       "      <td>0.998001</td>\n",
       "      <td>0.068318</td>\n",
       "      <td>15</td>\n",
       "      <td>1</td>\n",
       "    </tr>\n",
       "    <tr>\n",
       "      <th>2020-07-08 08:31:30</th>\n",
       "      <td>-3.841466</td>\n",
       "      <td>157.598661</td>\n",
       "      <td>-823.18</td>\n",
       "      <td>1470.89</td>\n",
       "      <td>2294.07</td>\n",
       "      <td>-14751.23</td>\n",
       "      <td>9.543204e+07</td>\n",
       "      <td>0.723881</td>\n",
       "      <td>14.803648</td>\n",
       "      <td>188</td>\n",
       "      <td>...</td>\n",
       "      <td>0.0</td>\n",
       "      <td>6.7350</td>\n",
       "      <td>13.9260</td>\n",
       "      <td>78.669</td>\n",
       "      <td>92.5950</td>\n",
       "      <td>4.092931</td>\n",
       "      <td>0.934849</td>\n",
       "      <td>0.067763</td>\n",
       "      <td>15</td>\n",
       "      <td>1</td>\n",
       "    </tr>\n",
       "    <tr>\n",
       "      <th>2020-07-08 08:31:40</th>\n",
       "      <td>-1.048693</td>\n",
       "      <td>194.983749</td>\n",
       "      <td>-1061.23</td>\n",
       "      <td>1470.89</td>\n",
       "      <td>2532.12</td>\n",
       "      <td>-4026.98</td>\n",
       "      <td>1.459959e+08</td>\n",
       "      <td>0.870929</td>\n",
       "      <td>11.565500</td>\n",
       "      <td>181</td>\n",
       "      <td>...</td>\n",
       "      <td>0.0</td>\n",
       "      <td>11.0850</td>\n",
       "      <td>21.9930</td>\n",
       "      <td>78.669</td>\n",
       "      <td>100.6620</td>\n",
       "      <td>4.090714</td>\n",
       "      <td>0.669996</td>\n",
       "      <td>0.055197</td>\n",
       "      <td>15</td>\n",
       "      <td>1</td>\n",
       "    </tr>\n",
       "    <tr>\n",
       "      <th>...</th>\n",
       "      <td>...</td>\n",
       "      <td>...</td>\n",
       "      <td>...</td>\n",
       "      <td>...</td>\n",
       "      <td>...</td>\n",
       "      <td>...</td>\n",
       "      <td>...</td>\n",
       "      <td>...</td>\n",
       "      <td>...</td>\n",
       "      <td>...</td>\n",
       "      <td>...</td>\n",
       "      <td>...</td>\n",
       "      <td>...</td>\n",
       "      <td>...</td>\n",
       "      <td>...</td>\n",
       "      <td>...</td>\n",
       "      <td>...</td>\n",
       "      <td>...</td>\n",
       "      <td>...</td>\n",
       "      <td>...</td>\n",
       "      <td>...</td>\n",
       "    </tr>\n",
       "    <tr>\n",
       "      <th>2020-07-23 12:25:50</th>\n",
       "      <td>-0.073785</td>\n",
       "      <td>72.309958</td>\n",
       "      <td>-311.70</td>\n",
       "      <td>362.36</td>\n",
       "      <td>674.06</td>\n",
       "      <td>-220.84</td>\n",
       "      <td>1.564961e+07</td>\n",
       "      <td>-0.293683</td>\n",
       "      <td>3.663040</td>\n",
       "      <td>175</td>\n",
       "      <td>...</td>\n",
       "      <td>0.0</td>\n",
       "      <td>5.6750</td>\n",
       "      <td>7.4300</td>\n",
       "      <td>115.000</td>\n",
       "      <td>122.4300</td>\n",
       "      <td>3.849875</td>\n",
       "      <td>0.439497</td>\n",
       "      <td>0.014628</td>\n",
       "      <td>F5</td>\n",
       "      <td>1</td>\n",
       "    </tr>\n",
       "    <tr>\n",
       "      <th>2020-07-23 12:26:00</th>\n",
       "      <td>-0.189541</td>\n",
       "      <td>77.083182</td>\n",
       "      <td>-311.70</td>\n",
       "      <td>362.36</td>\n",
       "      <td>674.06</td>\n",
       "      <td>-445.99</td>\n",
       "      <td>1.398118e+07</td>\n",
       "      <td>-0.180828</td>\n",
       "      <td>3.137394</td>\n",
       "      <td>136</td>\n",
       "      <td>...</td>\n",
       "      <td>0.0</td>\n",
       "      <td>4.0000</td>\n",
       "      <td>5.9700</td>\n",
       "      <td>116.474</td>\n",
       "      <td>122.4440</td>\n",
       "      <td>3.610759</td>\n",
       "      <td>0.522559</td>\n",
       "      <td>0.015543</td>\n",
       "      <td>F5</td>\n",
       "      <td>1</td>\n",
       "    </tr>\n",
       "    <tr>\n",
       "      <th>2020-07-23 12:26:10</th>\n",
       "      <td>-0.291518</td>\n",
       "      <td>82.407074</td>\n",
       "      <td>-311.70</td>\n",
       "      <td>362.36</td>\n",
       "      <td>674.06</td>\n",
       "      <td>-499.37</td>\n",
       "      <td>1.163300e+07</td>\n",
       "      <td>-0.139853</td>\n",
       "      <td>2.919981</td>\n",
       "      <td>103</td>\n",
       "      <td>...</td>\n",
       "      <td>0.0</td>\n",
       "      <td>2.0750</td>\n",
       "      <td>3.5680</td>\n",
       "      <td>118.911</td>\n",
       "      <td>122.4790</td>\n",
       "      <td>3.295781</td>\n",
       "      <td>0.650022</td>\n",
       "      <td>0.015997</td>\n",
       "      <td>F5</td>\n",
       "      <td>1</td>\n",
       "    </tr>\n",
       "    <tr>\n",
       "      <th>2020-07-23 12:26:20</th>\n",
       "      <td>0.048136</td>\n",
       "      <td>84.062968</td>\n",
       "      <td>-311.70</td>\n",
       "      <td>316.97</td>\n",
       "      <td>628.67</td>\n",
       "      <td>51.65</td>\n",
       "      <td>7.582446e+06</td>\n",
       "      <td>-0.305319</td>\n",
       "      <td>2.115793</td>\n",
       "      <td>66</td>\n",
       "      <td>...</td>\n",
       "      <td>0.0</td>\n",
       "      <td>0.3900</td>\n",
       "      <td>1.2540</td>\n",
       "      <td>121.256</td>\n",
       "      <td>122.5100</td>\n",
       "      <td>2.833207</td>\n",
       "      <td>0.863121</td>\n",
       "      <td>0.014176</td>\n",
       "      <td>F5</td>\n",
       "      <td>1</td>\n",
       "    </tr>\n",
       "    <tr>\n",
       "      <th>2020-07-23 12:26:30</th>\n",
       "      <td>-1.979630</td>\n",
       "      <td>83.184371</td>\n",
       "      <td>-311.70</td>\n",
       "      <td>185.39</td>\n",
       "      <td>497.09</td>\n",
       "      <td>-857.18</td>\n",
       "      <td>2.997901e+06</td>\n",
       "      <td>-1.098620</td>\n",
       "      <td>1.425061</td>\n",
       "      <td>29</td>\n",
       "      <td>...</td>\n",
       "      <td>0.0</td>\n",
       "      <td>0.0200</td>\n",
       "      <td>0.0890</td>\n",
       "      <td>122.323</td>\n",
       "      <td>122.4120</td>\n",
       "      <td>1.945910</td>\n",
       "      <td>1.000000</td>\n",
       "      <td>0.002920</td>\n",
       "      <td>F5</td>\n",
       "      <td>1</td>\n",
       "    </tr>\n",
       "  </tbody>\n",
       "</table>\n",
       "<p>26699 rows × 266 columns</p>\n",
       "</div>"
      ],
      "text/plain": [
       "                     bvp_BVP_mean  bvp_BVP_std  bvp_BVP_min  bvp_BVP_max  \\\n",
       "datetime                                                                   \n",
       "2020-07-08 08:31:00      0.376078   207.186980     -1336.28      1333.44   \n",
       "2020-07-08 08:31:10      0.813401   205.085789     -1336.28      1470.89   \n",
       "2020-07-08 08:31:20     -1.458391   183.187930      -823.18      1470.89   \n",
       "2020-07-08 08:31:30     -3.841466   157.598661      -823.18      1470.89   \n",
       "2020-07-08 08:31:40     -1.048693   194.983749     -1061.23      1470.89   \n",
       "...                           ...          ...          ...          ...   \n",
       "2020-07-23 12:25:50     -0.073785    72.309958      -311.70       362.36   \n",
       "2020-07-23 12:26:00     -0.189541    77.083182      -311.70       362.36   \n",
       "2020-07-23 12:26:10     -0.291518    82.407074      -311.70       362.36   \n",
       "2020-07-23 12:26:20      0.048136    84.062968      -311.70       316.97   \n",
       "2020-07-23 12:26:30     -1.979630    83.184371      -311.70       185.39   \n",
       "\n",
       "                     bvp_BVP_ptp  bvp_BVP_sum  bvp_BVP_energy  \\\n",
       "datetime                                                        \n",
       "2020-07-08 08:31:00      2669.72      1444.14    1.648381e+08   \n",
       "2020-07-08 08:31:10      2807.17      3123.46    1.615136e+08   \n",
       "2020-07-08 08:31:20      2294.07     -5600.22    1.288702e+08   \n",
       "2020-07-08 08:31:30      2294.07    -14751.23    9.543204e+07   \n",
       "2020-07-08 08:31:40      2532.12     -4026.98    1.459959e+08   \n",
       "...                          ...          ...             ...   \n",
       "2020-07-23 12:25:50       674.06      -220.84    1.564961e+07   \n",
       "2020-07-23 12:26:00       674.06      -445.99    1.398118e+07   \n",
       "2020-07-23 12:26:10       674.06      -499.37    1.163300e+07   \n",
       "2020-07-23 12:26:20       628.67        51.65    7.582446e+06   \n",
       "2020-07-23 12:26:30       497.09      -857.18    2.997901e+06   \n",
       "\n",
       "                     bvp_BVP_skewness  bvp_BVP_kurtosis  bvp_BVP_peaks  ...  \\\n",
       "datetime                                                                ...   \n",
       "2020-07-08 08:31:00         -0.210934          8.208982            174  ...   \n",
       "2020-07-08 08:31:10          0.453604         10.256058            172  ...   \n",
       "2020-07-08 08:31:20          1.219684         12.753530            178  ...   \n",
       "2020-07-08 08:31:30          0.723881         14.803648            188  ...   \n",
       "2020-07-08 08:31:40          0.870929         11.565500            181  ...   \n",
       "...                               ...               ...            ...  ...   \n",
       "2020-07-23 12:25:50         -0.293683          3.663040            175  ...   \n",
       "2020-07-23 12:26:00         -0.180828          3.137394            136  ...   \n",
       "2020-07-23 12:26:10         -0.139853          2.919981            103  ...   \n",
       "2020-07-23 12:26:20         -0.305319          2.115793             66  ...   \n",
       "2020-07-23 12:26:30         -1.098620          1.425061             29  ...   \n",
       "\n",
       "                     hr_l2_n_sign_changes  hr_l2_iqr  hr_l2_iqr_5_95  \\\n",
       "datetime                                                               \n",
       "2020-07-08 08:31:00                   0.0    16.1900         20.1850   \n",
       "2020-07-08 08:31:10                   0.0    11.9525         18.4160   \n",
       "2020-07-08 08:31:20                   0.0     6.7350         14.3385   \n",
       "2020-07-08 08:31:30                   0.0     6.7350         13.9260   \n",
       "2020-07-08 08:31:40                   0.0    11.0850         21.9930   \n",
       "...                                   ...        ...             ...   \n",
       "2020-07-23 12:25:50                   0.0     5.6750          7.4300   \n",
       "2020-07-23 12:26:00                   0.0     4.0000          5.9700   \n",
       "2020-07-23 12:26:10                   0.0     2.0750          3.5680   \n",
       "2020-07-23 12:26:20                   0.0     0.3900          1.2540   \n",
       "2020-07-23 12:26:30                   0.0     0.0200          0.0890   \n",
       "\n",
       "                     hr_l2_pct_5  hr_l2_pct_95  hr_l2_entropy  \\\n",
       "datetime                                                        \n",
       "2020-07-08 08:31:00       78.669       98.8540       4.090539   \n",
       "2020-07-08 08:31:10       78.669       97.0850       4.091445   \n",
       "2020-07-08 08:31:20       78.669       93.0075       4.092899   \n",
       "2020-07-08 08:31:30       78.669       92.5950       4.092931   \n",
       "2020-07-08 08:31:40       78.669      100.6620       4.090714   \n",
       "...                          ...           ...            ...   \n",
       "2020-07-23 12:25:50      115.000      122.4300       3.849875   \n",
       "2020-07-23 12:26:00      116.474      122.4440       3.610759   \n",
       "2020-07-23 12:26:10      118.911      122.4790       3.295781   \n",
       "2020-07-23 12:26:20      121.256      122.5100       2.833207   \n",
       "2020-07-23 12:26:30      122.323      122.4120       1.945910   \n",
       "\n",
       "                     hr_l2_perm_entropy  hr_l2_svd_entropy  subject  label  \n",
       "datetime                                                                    \n",
       "2020-07-08 08:31:00            0.537376           0.040885       15      1  \n",
       "2020-07-08 08:31:10            0.879136           0.054576       15      1  \n",
       "2020-07-08 08:31:20            0.998001           0.068318       15      1  \n",
       "2020-07-08 08:31:30            0.934849           0.067763       15      1  \n",
       "2020-07-08 08:31:40            0.669996           0.055197       15      1  \n",
       "...                                 ...                ...      ...    ...  \n",
       "2020-07-23 12:25:50            0.439497           0.014628       F5      1  \n",
       "2020-07-23 12:26:00            0.522559           0.015543       F5      1  \n",
       "2020-07-23 12:26:10            0.650022           0.015997       F5      1  \n",
       "2020-07-23 12:26:20            0.863121           0.014176       F5      1  \n",
       "2020-07-23 12:26:30            1.000000           0.002920       F5      1  \n",
       "\n",
       "[26699 rows x 266 columns]"
      ]
     },
     "execution_count": 57,
     "metadata": {},
     "output_type": "execute_result"
    }
   ],
   "source": [
    "res"
   ]
  },
  {
   "cell_type": "code",
   "execution_count": 58,
   "id": "bfe80d3a",
   "metadata": {},
   "outputs": [],
   "source": [
    "# handle NANs\n",
    "res = res.dropna()"
   ]
  },
  {
   "cell_type": "code",
   "execution_count": 59,
   "id": "f6ea19d9",
   "metadata": {},
   "outputs": [
    {
     "data": {
      "text/html": [
       "<div>\n",
       "<style scoped>\n",
       "    .dataframe tbody tr th:only-of-type {\n",
       "        vertical-align: middle;\n",
       "    }\n",
       "\n",
       "    .dataframe tbody tr th {\n",
       "        vertical-align: top;\n",
       "    }\n",
       "\n",
       "    .dataframe thead th {\n",
       "        text-align: right;\n",
       "    }\n",
       "</style>\n",
       "<table border=\"1\" class=\"dataframe\">\n",
       "  <thead>\n",
       "    <tr style=\"text-align: right;\">\n",
       "      <th></th>\n",
       "      <th>bvp_BVP_mean</th>\n",
       "      <th>bvp_BVP_std</th>\n",
       "      <th>bvp_BVP_min</th>\n",
       "      <th>bvp_BVP_max</th>\n",
       "      <th>bvp_BVP_ptp</th>\n",
       "      <th>bvp_BVP_sum</th>\n",
       "      <th>bvp_BVP_energy</th>\n",
       "      <th>bvp_BVP_skewness</th>\n",
       "      <th>bvp_BVP_kurtosis</th>\n",
       "      <th>bvp_BVP_peaks</th>\n",
       "      <th>...</th>\n",
       "      <th>hr_l2_n_sign_changes</th>\n",
       "      <th>hr_l2_iqr</th>\n",
       "      <th>hr_l2_iqr_5_95</th>\n",
       "      <th>hr_l2_pct_5</th>\n",
       "      <th>hr_l2_pct_95</th>\n",
       "      <th>hr_l2_entropy</th>\n",
       "      <th>hr_l2_perm_entropy</th>\n",
       "      <th>hr_l2_svd_entropy</th>\n",
       "      <th>subject</th>\n",
       "      <th>label</th>\n",
       "    </tr>\n",
       "    <tr>\n",
       "      <th>datetime</th>\n",
       "      <th></th>\n",
       "      <th></th>\n",
       "      <th></th>\n",
       "      <th></th>\n",
       "      <th></th>\n",
       "      <th></th>\n",
       "      <th></th>\n",
       "      <th></th>\n",
       "      <th></th>\n",
       "      <th></th>\n",
       "      <th></th>\n",
       "      <th></th>\n",
       "      <th></th>\n",
       "      <th></th>\n",
       "      <th></th>\n",
       "      <th></th>\n",
       "      <th></th>\n",
       "      <th></th>\n",
       "      <th></th>\n",
       "      <th></th>\n",
       "      <th></th>\n",
       "    </tr>\n",
       "  </thead>\n",
       "  <tbody>\n",
       "    <tr>\n",
       "      <th>2020-07-08 08:31:00</th>\n",
       "      <td>0.376078</td>\n",
       "      <td>207.186980</td>\n",
       "      <td>-1336.28</td>\n",
       "      <td>1333.44</td>\n",
       "      <td>2669.72</td>\n",
       "      <td>1444.14</td>\n",
       "      <td>1.648381e+08</td>\n",
       "      <td>-0.210934</td>\n",
       "      <td>8.208982</td>\n",
       "      <td>174</td>\n",
       "      <td>...</td>\n",
       "      <td>0.0</td>\n",
       "      <td>16.1900</td>\n",
       "      <td>20.1850</td>\n",
       "      <td>78.669</td>\n",
       "      <td>98.8540</td>\n",
       "      <td>4.090539</td>\n",
       "      <td>0.537376</td>\n",
       "      <td>0.040885</td>\n",
       "      <td>15</td>\n",
       "      <td>1</td>\n",
       "    </tr>\n",
       "    <tr>\n",
       "      <th>2020-07-08 08:31:10</th>\n",
       "      <td>0.813401</td>\n",
       "      <td>205.085789</td>\n",
       "      <td>-1336.28</td>\n",
       "      <td>1470.89</td>\n",
       "      <td>2807.17</td>\n",
       "      <td>3123.46</td>\n",
       "      <td>1.615136e+08</td>\n",
       "      <td>0.453604</td>\n",
       "      <td>10.256058</td>\n",
       "      <td>172</td>\n",
       "      <td>...</td>\n",
       "      <td>0.0</td>\n",
       "      <td>11.9525</td>\n",
       "      <td>18.4160</td>\n",
       "      <td>78.669</td>\n",
       "      <td>97.0850</td>\n",
       "      <td>4.091445</td>\n",
       "      <td>0.879136</td>\n",
       "      <td>0.054576</td>\n",
       "      <td>15</td>\n",
       "      <td>1</td>\n",
       "    </tr>\n",
       "    <tr>\n",
       "      <th>2020-07-08 08:31:20</th>\n",
       "      <td>-1.458391</td>\n",
       "      <td>183.187930</td>\n",
       "      <td>-823.18</td>\n",
       "      <td>1470.89</td>\n",
       "      <td>2294.07</td>\n",
       "      <td>-5600.22</td>\n",
       "      <td>1.288702e+08</td>\n",
       "      <td>1.219684</td>\n",
       "      <td>12.753530</td>\n",
       "      <td>178</td>\n",
       "      <td>...</td>\n",
       "      <td>0.0</td>\n",
       "      <td>6.7350</td>\n",
       "      <td>14.3385</td>\n",
       "      <td>78.669</td>\n",
       "      <td>93.0075</td>\n",
       "      <td>4.092899</td>\n",
       "      <td>0.998001</td>\n",
       "      <td>0.068318</td>\n",
       "      <td>15</td>\n",
       "      <td>1</td>\n",
       "    </tr>\n",
       "    <tr>\n",
       "      <th>2020-07-08 08:31:30</th>\n",
       "      <td>-3.841466</td>\n",
       "      <td>157.598661</td>\n",
       "      <td>-823.18</td>\n",
       "      <td>1470.89</td>\n",
       "      <td>2294.07</td>\n",
       "      <td>-14751.23</td>\n",
       "      <td>9.543204e+07</td>\n",
       "      <td>0.723881</td>\n",
       "      <td>14.803648</td>\n",
       "      <td>188</td>\n",
       "      <td>...</td>\n",
       "      <td>0.0</td>\n",
       "      <td>6.7350</td>\n",
       "      <td>13.9260</td>\n",
       "      <td>78.669</td>\n",
       "      <td>92.5950</td>\n",
       "      <td>4.092931</td>\n",
       "      <td>0.934849</td>\n",
       "      <td>0.067763</td>\n",
       "      <td>15</td>\n",
       "      <td>1</td>\n",
       "    </tr>\n",
       "    <tr>\n",
       "      <th>2020-07-08 08:31:40</th>\n",
       "      <td>-1.048693</td>\n",
       "      <td>194.983749</td>\n",
       "      <td>-1061.23</td>\n",
       "      <td>1470.89</td>\n",
       "      <td>2532.12</td>\n",
       "      <td>-4026.98</td>\n",
       "      <td>1.459959e+08</td>\n",
       "      <td>0.870929</td>\n",
       "      <td>11.565500</td>\n",
       "      <td>181</td>\n",
       "      <td>...</td>\n",
       "      <td>0.0</td>\n",
       "      <td>11.0850</td>\n",
       "      <td>21.9930</td>\n",
       "      <td>78.669</td>\n",
       "      <td>100.6620</td>\n",
       "      <td>4.090714</td>\n",
       "      <td>0.669996</td>\n",
       "      <td>0.055197</td>\n",
       "      <td>15</td>\n",
       "      <td>1</td>\n",
       "    </tr>\n",
       "    <tr>\n",
       "      <th>...</th>\n",
       "      <td>...</td>\n",
       "      <td>...</td>\n",
       "      <td>...</td>\n",
       "      <td>...</td>\n",
       "      <td>...</td>\n",
       "      <td>...</td>\n",
       "      <td>...</td>\n",
       "      <td>...</td>\n",
       "      <td>...</td>\n",
       "      <td>...</td>\n",
       "      <td>...</td>\n",
       "      <td>...</td>\n",
       "      <td>...</td>\n",
       "      <td>...</td>\n",
       "      <td>...</td>\n",
       "      <td>...</td>\n",
       "      <td>...</td>\n",
       "      <td>...</td>\n",
       "      <td>...</td>\n",
       "      <td>...</td>\n",
       "      <td>...</td>\n",
       "    </tr>\n",
       "    <tr>\n",
       "      <th>2020-07-23 12:25:50</th>\n",
       "      <td>-0.073785</td>\n",
       "      <td>72.309958</td>\n",
       "      <td>-311.70</td>\n",
       "      <td>362.36</td>\n",
       "      <td>674.06</td>\n",
       "      <td>-220.84</td>\n",
       "      <td>1.564961e+07</td>\n",
       "      <td>-0.293683</td>\n",
       "      <td>3.663040</td>\n",
       "      <td>175</td>\n",
       "      <td>...</td>\n",
       "      <td>0.0</td>\n",
       "      <td>5.6750</td>\n",
       "      <td>7.4300</td>\n",
       "      <td>115.000</td>\n",
       "      <td>122.4300</td>\n",
       "      <td>3.849875</td>\n",
       "      <td>0.439497</td>\n",
       "      <td>0.014628</td>\n",
       "      <td>F5</td>\n",
       "      <td>1</td>\n",
       "    </tr>\n",
       "    <tr>\n",
       "      <th>2020-07-23 12:26:00</th>\n",
       "      <td>-0.189541</td>\n",
       "      <td>77.083182</td>\n",
       "      <td>-311.70</td>\n",
       "      <td>362.36</td>\n",
       "      <td>674.06</td>\n",
       "      <td>-445.99</td>\n",
       "      <td>1.398118e+07</td>\n",
       "      <td>-0.180828</td>\n",
       "      <td>3.137394</td>\n",
       "      <td>136</td>\n",
       "      <td>...</td>\n",
       "      <td>0.0</td>\n",
       "      <td>4.0000</td>\n",
       "      <td>5.9700</td>\n",
       "      <td>116.474</td>\n",
       "      <td>122.4440</td>\n",
       "      <td>3.610759</td>\n",
       "      <td>0.522559</td>\n",
       "      <td>0.015543</td>\n",
       "      <td>F5</td>\n",
       "      <td>1</td>\n",
       "    </tr>\n",
       "    <tr>\n",
       "      <th>2020-07-23 12:26:10</th>\n",
       "      <td>-0.291518</td>\n",
       "      <td>82.407074</td>\n",
       "      <td>-311.70</td>\n",
       "      <td>362.36</td>\n",
       "      <td>674.06</td>\n",
       "      <td>-499.37</td>\n",
       "      <td>1.163300e+07</td>\n",
       "      <td>-0.139853</td>\n",
       "      <td>2.919981</td>\n",
       "      <td>103</td>\n",
       "      <td>...</td>\n",
       "      <td>0.0</td>\n",
       "      <td>2.0750</td>\n",
       "      <td>3.5680</td>\n",
       "      <td>118.911</td>\n",
       "      <td>122.4790</td>\n",
       "      <td>3.295781</td>\n",
       "      <td>0.650022</td>\n",
       "      <td>0.015997</td>\n",
       "      <td>F5</td>\n",
       "      <td>1</td>\n",
       "    </tr>\n",
       "    <tr>\n",
       "      <th>2020-07-23 12:26:20</th>\n",
       "      <td>0.048136</td>\n",
       "      <td>84.062968</td>\n",
       "      <td>-311.70</td>\n",
       "      <td>316.97</td>\n",
       "      <td>628.67</td>\n",
       "      <td>51.65</td>\n",
       "      <td>7.582446e+06</td>\n",
       "      <td>-0.305319</td>\n",
       "      <td>2.115793</td>\n",
       "      <td>66</td>\n",
       "      <td>...</td>\n",
       "      <td>0.0</td>\n",
       "      <td>0.3900</td>\n",
       "      <td>1.2540</td>\n",
       "      <td>121.256</td>\n",
       "      <td>122.5100</td>\n",
       "      <td>2.833207</td>\n",
       "      <td>0.863121</td>\n",
       "      <td>0.014176</td>\n",
       "      <td>F5</td>\n",
       "      <td>1</td>\n",
       "    </tr>\n",
       "    <tr>\n",
       "      <th>2020-07-23 12:26:30</th>\n",
       "      <td>-1.979630</td>\n",
       "      <td>83.184371</td>\n",
       "      <td>-311.70</td>\n",
       "      <td>185.39</td>\n",
       "      <td>497.09</td>\n",
       "      <td>-857.18</td>\n",
       "      <td>2.997901e+06</td>\n",
       "      <td>-1.098620</td>\n",
       "      <td>1.425061</td>\n",
       "      <td>29</td>\n",
       "      <td>...</td>\n",
       "      <td>0.0</td>\n",
       "      <td>0.0200</td>\n",
       "      <td>0.0890</td>\n",
       "      <td>122.323</td>\n",
       "      <td>122.4120</td>\n",
       "      <td>1.945910</td>\n",
       "      <td>1.000000</td>\n",
       "      <td>0.002920</td>\n",
       "      <td>F5</td>\n",
       "      <td>1</td>\n",
       "    </tr>\n",
       "  </tbody>\n",
       "</table>\n",
       "<p>26654 rows × 266 columns</p>\n",
       "</div>"
      ],
      "text/plain": [
       "                     bvp_BVP_mean  bvp_BVP_std  bvp_BVP_min  bvp_BVP_max  \\\n",
       "datetime                                                                   \n",
       "2020-07-08 08:31:00      0.376078   207.186980     -1336.28      1333.44   \n",
       "2020-07-08 08:31:10      0.813401   205.085789     -1336.28      1470.89   \n",
       "2020-07-08 08:31:20     -1.458391   183.187930      -823.18      1470.89   \n",
       "2020-07-08 08:31:30     -3.841466   157.598661      -823.18      1470.89   \n",
       "2020-07-08 08:31:40     -1.048693   194.983749     -1061.23      1470.89   \n",
       "...                           ...          ...          ...          ...   \n",
       "2020-07-23 12:25:50     -0.073785    72.309958      -311.70       362.36   \n",
       "2020-07-23 12:26:00     -0.189541    77.083182      -311.70       362.36   \n",
       "2020-07-23 12:26:10     -0.291518    82.407074      -311.70       362.36   \n",
       "2020-07-23 12:26:20      0.048136    84.062968      -311.70       316.97   \n",
       "2020-07-23 12:26:30     -1.979630    83.184371      -311.70       185.39   \n",
       "\n",
       "                     bvp_BVP_ptp  bvp_BVP_sum  bvp_BVP_energy  \\\n",
       "datetime                                                        \n",
       "2020-07-08 08:31:00      2669.72      1444.14    1.648381e+08   \n",
       "2020-07-08 08:31:10      2807.17      3123.46    1.615136e+08   \n",
       "2020-07-08 08:31:20      2294.07     -5600.22    1.288702e+08   \n",
       "2020-07-08 08:31:30      2294.07    -14751.23    9.543204e+07   \n",
       "2020-07-08 08:31:40      2532.12     -4026.98    1.459959e+08   \n",
       "...                          ...          ...             ...   \n",
       "2020-07-23 12:25:50       674.06      -220.84    1.564961e+07   \n",
       "2020-07-23 12:26:00       674.06      -445.99    1.398118e+07   \n",
       "2020-07-23 12:26:10       674.06      -499.37    1.163300e+07   \n",
       "2020-07-23 12:26:20       628.67        51.65    7.582446e+06   \n",
       "2020-07-23 12:26:30       497.09      -857.18    2.997901e+06   \n",
       "\n",
       "                     bvp_BVP_skewness  bvp_BVP_kurtosis  bvp_BVP_peaks  ...  \\\n",
       "datetime                                                                ...   \n",
       "2020-07-08 08:31:00         -0.210934          8.208982            174  ...   \n",
       "2020-07-08 08:31:10          0.453604         10.256058            172  ...   \n",
       "2020-07-08 08:31:20          1.219684         12.753530            178  ...   \n",
       "2020-07-08 08:31:30          0.723881         14.803648            188  ...   \n",
       "2020-07-08 08:31:40          0.870929         11.565500            181  ...   \n",
       "...                               ...               ...            ...  ...   \n",
       "2020-07-23 12:25:50         -0.293683          3.663040            175  ...   \n",
       "2020-07-23 12:26:00         -0.180828          3.137394            136  ...   \n",
       "2020-07-23 12:26:10         -0.139853          2.919981            103  ...   \n",
       "2020-07-23 12:26:20         -0.305319          2.115793             66  ...   \n",
       "2020-07-23 12:26:30         -1.098620          1.425061             29  ...   \n",
       "\n",
       "                     hr_l2_n_sign_changes  hr_l2_iqr  hr_l2_iqr_5_95  \\\n",
       "datetime                                                               \n",
       "2020-07-08 08:31:00                   0.0    16.1900         20.1850   \n",
       "2020-07-08 08:31:10                   0.0    11.9525         18.4160   \n",
       "2020-07-08 08:31:20                   0.0     6.7350         14.3385   \n",
       "2020-07-08 08:31:30                   0.0     6.7350         13.9260   \n",
       "2020-07-08 08:31:40                   0.0    11.0850         21.9930   \n",
       "...                                   ...        ...             ...   \n",
       "2020-07-23 12:25:50                   0.0     5.6750          7.4300   \n",
       "2020-07-23 12:26:00                   0.0     4.0000          5.9700   \n",
       "2020-07-23 12:26:10                   0.0     2.0750          3.5680   \n",
       "2020-07-23 12:26:20                   0.0     0.3900          1.2540   \n",
       "2020-07-23 12:26:30                   0.0     0.0200          0.0890   \n",
       "\n",
       "                     hr_l2_pct_5  hr_l2_pct_95  hr_l2_entropy  \\\n",
       "datetime                                                        \n",
       "2020-07-08 08:31:00       78.669       98.8540       4.090539   \n",
       "2020-07-08 08:31:10       78.669       97.0850       4.091445   \n",
       "2020-07-08 08:31:20       78.669       93.0075       4.092899   \n",
       "2020-07-08 08:31:30       78.669       92.5950       4.092931   \n",
       "2020-07-08 08:31:40       78.669      100.6620       4.090714   \n",
       "...                          ...           ...            ...   \n",
       "2020-07-23 12:25:50      115.000      122.4300       3.849875   \n",
       "2020-07-23 12:26:00      116.474      122.4440       3.610759   \n",
       "2020-07-23 12:26:10      118.911      122.4790       3.295781   \n",
       "2020-07-23 12:26:20      121.256      122.5100       2.833207   \n",
       "2020-07-23 12:26:30      122.323      122.4120       1.945910   \n",
       "\n",
       "                     hr_l2_perm_entropy  hr_l2_svd_entropy  subject  label  \n",
       "datetime                                                                    \n",
       "2020-07-08 08:31:00            0.537376           0.040885       15      1  \n",
       "2020-07-08 08:31:10            0.879136           0.054576       15      1  \n",
       "2020-07-08 08:31:20            0.998001           0.068318       15      1  \n",
       "2020-07-08 08:31:30            0.934849           0.067763       15      1  \n",
       "2020-07-08 08:31:40            0.669996           0.055197       15      1  \n",
       "...                                 ...                ...      ...    ...  \n",
       "2020-07-23 12:25:50            0.439497           0.014628       F5      1  \n",
       "2020-07-23 12:26:00            0.522559           0.015543       F5      1  \n",
       "2020-07-23 12:26:10            0.650022           0.015997       F5      1  \n",
       "2020-07-23 12:26:20            0.863121           0.014176       F5      1  \n",
       "2020-07-23 12:26:30            1.000000           0.002920       F5      1  \n",
       "\n",
       "[26654 rows x 266 columns]"
      ]
     },
     "execution_count": 59,
     "metadata": {},
     "output_type": "execute_result"
    }
   ],
   "source": [
    "res"
   ]
  },
  {
   "cell_type": "code",
   "execution_count": 60,
   "id": "48583b61",
   "metadata": {},
   "outputs": [],
   "source": [
    "# store as parquet\n",
    "\n",
    "if not os.path.isdir('data-input'):\n",
    "    os.makedirs('data-input')\n",
    "\n",
    "res.to_parquet('data-input/flirt-nurse-acc-bvp-eda-hr-temp-'+str(window_length)+'-'+str(window_step_size)+'.parquet')"
   ]
  }
 ],
 "metadata": {
  "kernelspec": {
   "display_name": "Python 3 (ipykernel)",
   "language": "python",
   "name": "python3"
  },
  "language_info": {
   "codemirror_mode": {
    "name": "ipython",
    "version": 3
   },
   "file_extension": ".py",
   "mimetype": "text/x-python",
   "name": "python",
   "nbconvert_exporter": "python",
   "pygments_lexer": "ipython3",
   "version": "3.9.15"
  },
  "vscode": {
   "interpreter": {
    "hash": "ac3862ffb0994221057f03ad1f57f6630f2090f9565041b0fb3dd1e2ccbab05e"
   }
  }
 },
 "nbformat": 4,
 "nbformat_minor": 5
}
