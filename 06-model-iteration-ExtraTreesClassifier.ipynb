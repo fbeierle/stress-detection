{
 "cells": [
  {
   "cell_type": "markdown",
   "id": "8bfa3c80",
   "metadata": {},
   "source": [
    "# Model Iteration - ExtraTreesClassifier\n",
    "Based on the results of the previous script, we perform hyperparameter search for a model with an ExtraTreesClassifier."
   ]
  },
  {
   "cell_type": "markdown",
   "id": "4f9ca893",
   "metadata": {},
   "source": [
    "# Imports"
   ]
  },
  {
   "cell_type": "code",
   "execution_count": 1,
   "id": "2dfc5b63",
   "metadata": {},
   "outputs": [],
   "source": [
    "import pandas as pd\n",
    "import numpy as np\n",
    "import matplotlib.pyplot as plt\n",
    "\n",
    "from sklearn.metrics import recall_score, precision_score, f1_score, confusion_matrix, roc_auc_score, average_precision_score, accuracy_score, ConfusionMatrixDisplay\n",
    "from sklearn.preprocessing import MaxAbsScaler\n",
    "from sklearn.ensemble import ExtraTreesClassifier\n",
    "from sklearn.pipeline import Pipeline\n",
    "from skopt import BayesSearchCV\n",
    "from sklearn.metrics import PrecisionRecallDisplay\n",
    "\n",
    "import utils"
   ]
  },
  {
   "cell_type": "markdown",
   "id": "842c8b03",
   "metadata": {},
   "source": [
    "# Functions"
   ]
  },
  {
   "cell_type": "code",
   "execution_count": 2,
   "id": "42593d60",
   "metadata": {},
   "outputs": [],
   "source": [
    "def run_etc(windowsize, stepsize, X_train, y_train, groups_train, X_test, y_test, groups_test):\n",
    "    '''\n",
    "    Takes the prepared data and group indication for training and testing a ExtraTreesClassifier pipeline.\n",
    "    Returns X_train, y_train, groups_train, X_test, y_test, groups_test.\n",
    "    Prints out info during creation.\n",
    "    '''\n",
    "    \n",
    "    pipe = Pipeline(\n",
    "    steps=[\n",
    "           ('scaler', MaxAbsScaler()),\n",
    "           ('etc', ExtraTreesClassifier())\n",
    "    ]\n",
    "    )\n",
    "    \n",
    "    search_space = {'scaler': [MaxAbsScaler()],\n",
    "                    'etc__bootstrap': [True, False],\n",
    "                    'etc__criterion': ['gini', 'entropy', 'log_loss'],\n",
    "                    'etc__max_features': [0.3,0.4,0.5,0.6,0.7,0.8,0.9,1.0],\n",
    "                    'etc__min_samples_leaf': [4,5,6,7,8,9,10,11,12,13,14,15],\n",
    "                    'etc__min_samples_split': [4,5,6,7,8,9,10,11,12,13,14,15],\n",
    "                    'etc__n_estimators': [10,25,50,75,100,150,200,250,300,350]\n",
    "    }\n",
    "    \n",
    "    bayes = BayesSearchCV(estimator = pipe, \n",
    "                      search_spaces = search_space, \n",
    "                      scoring = 'f1', \n",
    "                      refit = 'f1',\n",
    "                      n_jobs = -1, \n",
    "                      #n_points = 5,\n",
    "                      pre_dispatch = 'n_jobs*2',\n",
    "                      #cv=inner_cv,\n",
    "                      verbose = 10,\n",
    "                      n_iter = 200,\n",
    "                      random_state=0)\n",
    "    \n",
    "    bayes.fit(X_train, y_train.values.ravel(), groups=groups_train.values.ravel())\n",
    "    \n",
    "    print('Best training params and score:')\n",
    "    print(bayes.best_params_)\n",
    "    print(bayes.best_score_)\n",
    "\n",
    "    print(f\"Score (F1) on test data: {bayes.score(X_test, y_test.values.ravel()):.2f}\")\n",
    "\n",
    "    y_test_predict = bayes.predict(X_test)\n",
    "    y_test_predict_proba = bayes.predict_proba(X_test)[:,1]\n",
    "\n",
    "    print('accuracy: '+str(accuracy_score(y_test, y_test_predict)))\n",
    "    print('precision: '+str(precision_score(y_test, y_test_predict)))\n",
    "    print('recall: '+str(recall_score(y_test, y_test_predict)))\n",
    "    print('f1_score: '+str(f1_score(y_test, y_test_predict)))\n",
    "    print('roc_auc: '+str(roc_auc_score(y_test, y_test_predict)))\n",
    "    print('Class distribution in test set: \\n', y_test['label'].value_counts(normalize=True), '\\n')\n",
    "    print('average_precision: '+str(average_precision_score(y_test, y_test_predict_proba)))\n",
    "\n",
    "    confusion_matrix(y_test, y_test_predict)\n",
    "\n",
    "    prd = PrecisionRecallDisplay.from_predictions(y_test, y_test_predict_proba, name='Model')\n",
    "    _ = prd.ax_.set_title('2-class Precision-Recall curve')\n",
    "    print('The baseline to beat is the percentage of positive cases:', y_test['label'].value_counts(normalize=True)[1])\n",
    "    plt.show()\n",
    "\n",
    "    print('===============================================\\n\\n')"
   ]
  },
  {
   "cell_type": "code",
   "execution_count": 3,
   "id": "9f5b9ca9",
   "metadata": {},
   "outputs": [],
   "source": [
    "def full_run_etc(windowsize, stepsize):\n",
    "    '''\n",
    "    Reads data and runs ExtraTreesClassifier pipeline.\n",
    "    '''\n",
    "\n",
    "    X_train, y_train, groups_train, X_test, y_test, groups_test = utils.read_data(windowsize, stepsize)\n",
    "    run_etc(windowsize, stepsize, X_train, y_train, groups_train, X_test, y_test, groups_test)"
   ]
  },
  {
   "cell_type": "markdown",
   "id": "340b836b",
   "metadata": {},
   "source": [
    "# Run ExtraTreesClassifier Pipelines"
   ]
  },
  {
   "cell_type": "code",
   "execution_count": 4,
   "id": "cbb6be6c",
   "metadata": {
    "scrolled": false
   },
   "outputs": [
    {
     "name": "stdout",
     "output_type": "stream",
     "text": [
      "Window Size:  30   Stepsize:  1\n",
      "train shape:  (22038, 71)\n",
      "test shape:  (5509, 71)\n",
      "test columns:  Index(['bvp_BVP_mean', 'bvp_BVP_std', 'bvp_BVP_sum', 'bvp_BVP_skewness',\n",
      "       'bvp_BVP_kurtosis', 'bvp_BVP_peaks', 'bvp_BVP_n_above_mean',\n",
      "       'bvp_BVP_n_below_mean', 'bvp_BVP_n_sign_changes',\n",
      "       'bvp_BVP_perm_entropy', 'bvp_BVP_svd_entropy', 'bvp_l2_min',\n",
      "       'bvp_l2_n_above_mean', 'bvp_l2_n_below_mean', 'bvp_l2_n_sign_changes',\n",
      "       'bvp_l2_perm_entropy', 'acc_x_mean', 'acc_x_std', 'acc_x_energy',\n",
      "       'acc_x_skewness', 'acc_x_kurtosis', 'acc_x_peaks', 'acc_x_lineintegral',\n",
      "       'acc_x_n_above_mean', 'acc_x_n_sign_changes', 'acc_x_iqr', 'acc_y_mean',\n",
      "       'acc_y_std', 'acc_y_energy', 'acc_y_skewness', 'acc_y_kurtosis',\n",
      "       'acc_y_peaks', 'acc_y_n_above_mean', 'acc_y_n_sign_changes',\n",
      "       'acc_y_iqr', 'acc_y_svd_entropy', 'acc_z_mean', 'acc_z_std',\n",
      "       'acc_z_min', 'acc_z_max', 'acc_z_energy', 'acc_z_skewness',\n",
      "       'acc_z_kurtosis', 'acc_z_peaks', 'acc_z_n_above_mean',\n",
      "       'acc_z_n_sign_changes', 'acc_z_svd_entropy', 'acc_l2_skewness',\n",
      "       'acc_l2_kurtosis', 'acc_l2_n_above_mean', 'acc_l2_n_below_mean',\n",
      "       'eda_EDA_mean', 'eda_EDA_std', 'eda_EDA_skewness', 'eda_EDA_kurtosis',\n",
      "       'eda_EDA_peaks', 'eda_EDA_n_above_mean', 'eda_EDA_n_below_mean',\n",
      "       'eda_EDA_perm_entropy', 'eda_EDA_svd_entropy', 'temp_TEMP_mean',\n",
      "       'temp_TEMP_std', 'temp_TEMP_skewness', 'temp_TEMP_kurtosis',\n",
      "       'temp_TEMP_lineintegral', 'temp_TEMP_n_above_mean',\n",
      "       'temp_TEMP_n_below_mean', 'temp_TEMP_iqr', 'temp_TEMP_perm_entropy',\n",
      "       'temp_TEMP_svd_entropy', 'temp_l2_svd_entropy'],\n",
      "      dtype='object')\n",
      "Percentage train set: 0.800014520637456\n",
      "Percentage test set: 0.19998547936254402\n",
      "\n",
      "Class distribution in train set: \n",
      " 0    0.639759\n",
      "1    0.360241\n",
      "Name: label, dtype: float64 \n",
      "\n",
      "Class distribution in test set: \n",
      " 0    0.634779\n",
      "1    0.365221\n",
      "Name: label, dtype: float64 \n",
      "\n",
      "Fitting 5 folds for each of 1 candidates, totalling 5 fits\n",
      "Fitting 5 folds for each of 1 candidates, totalling 5 fits\n",
      "Fitting 5 folds for each of 1 candidates, totalling 5 fits\n",
      "Fitting 5 folds for each of 1 candidates, totalling 5 fits\n",
      "Fitting 5 folds for each of 1 candidates, totalling 5 fits\n",
      "Fitting 5 folds for each of 1 candidates, totalling 5 fits\n",
      "Fitting 5 folds for each of 1 candidates, totalling 5 fits\n",
      "Fitting 5 folds for each of 1 candidates, totalling 5 fits\n",
      "Fitting 5 folds for each of 1 candidates, totalling 5 fits\n",
      "Fitting 5 folds for each of 1 candidates, totalling 5 fits\n",
      "Fitting 5 folds for each of 1 candidates, totalling 5 fits\n",
      "Fitting 5 folds for each of 1 candidates, totalling 5 fits\n",
      "Fitting 5 folds for each of 1 candidates, totalling 5 fits\n",
      "Fitting 5 folds for each of 1 candidates, totalling 5 fits\n",
      "Fitting 5 folds for each of 1 candidates, totalling 5 fits\n",
      "Fitting 5 folds for each of 1 candidates, totalling 5 fits\n",
      "Fitting 5 folds for each of 1 candidates, totalling 5 fits\n",
      "Fitting 5 folds for each of 1 candidates, totalling 5 fits\n",
      "Fitting 5 folds for each of 1 candidates, totalling 5 fits\n",
      "Fitting 5 folds for each of 1 candidates, totalling 5 fits\n",
      "Fitting 5 folds for each of 1 candidates, totalling 5 fits\n",
      "Fitting 5 folds for each of 1 candidates, totalling 5 fits\n",
      "Fitting 5 folds for each of 1 candidates, totalling 5 fits\n",
      "Fitting 5 folds for each of 1 candidates, totalling 5 fits\n",
      "Fitting 5 folds for each of 1 candidates, totalling 5 fits\n",
      "Fitting 5 folds for each of 1 candidates, totalling 5 fits\n",
      "Fitting 5 folds for each of 1 candidates, totalling 5 fits\n",
      "Fitting 5 folds for each of 1 candidates, totalling 5 fits\n",
      "Fitting 5 folds for each of 1 candidates, totalling 5 fits\n",
      "Fitting 5 folds for each of 1 candidates, totalling 5 fits\n",
      "Fitting 5 folds for each of 1 candidates, totalling 5 fits\n",
      "Fitting 5 folds for each of 1 candidates, totalling 5 fits\n",
      "Fitting 5 folds for each of 1 candidates, totalling 5 fits\n",
      "Fitting 5 folds for each of 1 candidates, totalling 5 fits\n",
      "Fitting 5 folds for each of 1 candidates, totalling 5 fits\n",
      "Fitting 5 folds for each of 1 candidates, totalling 5 fits\n",
      "Fitting 5 folds for each of 1 candidates, totalling 5 fits\n",
      "Fitting 5 folds for each of 1 candidates, totalling 5 fits\n",
      "Fitting 5 folds for each of 1 candidates, totalling 5 fits\n",
      "Fitting 5 folds for each of 1 candidates, totalling 5 fits\n",
      "Fitting 5 folds for each of 1 candidates, totalling 5 fits\n",
      "Fitting 5 folds for each of 1 candidates, totalling 5 fits\n",
      "Fitting 5 folds for each of 1 candidates, totalling 5 fits\n",
      "Fitting 5 folds for each of 1 candidates, totalling 5 fits\n",
      "Fitting 5 folds for each of 1 candidates, totalling 5 fits\n",
      "Fitting 5 folds for each of 1 candidates, totalling 5 fits\n",
      "Fitting 5 folds for each of 1 candidates, totalling 5 fits\n",
      "Fitting 5 folds for each of 1 candidates, totalling 5 fits\n",
      "Fitting 5 folds for each of 1 candidates, totalling 5 fits\n",
      "Fitting 5 folds for each of 1 candidates, totalling 5 fits\n",
      "Fitting 5 folds for each of 1 candidates, totalling 5 fits\n",
      "Fitting 5 folds for each of 1 candidates, totalling 5 fits\n",
      "Fitting 5 folds for each of 1 candidates, totalling 5 fits\n",
      "Fitting 5 folds for each of 1 candidates, totalling 5 fits\n",
      "Fitting 5 folds for each of 1 candidates, totalling 5 fits\n",
      "Fitting 5 folds for each of 1 candidates, totalling 5 fits\n",
      "Fitting 5 folds for each of 1 candidates, totalling 5 fits\n",
      "Fitting 5 folds for each of 1 candidates, totalling 5 fits\n",
      "Fitting 5 folds for each of 1 candidates, totalling 5 fits\n",
      "Fitting 5 folds for each of 1 candidates, totalling 5 fits\n",
      "Fitting 5 folds for each of 1 candidates, totalling 5 fits\n",
      "Fitting 5 folds for each of 1 candidates, totalling 5 fits\n",
      "Fitting 5 folds for each of 1 candidates, totalling 5 fits\n",
      "Fitting 5 folds for each of 1 candidates, totalling 5 fits\n",
      "Fitting 5 folds for each of 1 candidates, totalling 5 fits\n",
      "Fitting 5 folds for each of 1 candidates, totalling 5 fits\n",
      "Fitting 5 folds for each of 1 candidates, totalling 5 fits\n",
      "Fitting 5 folds for each of 1 candidates, totalling 5 fits\n",
      "Fitting 5 folds for each of 1 candidates, totalling 5 fits\n",
      "Fitting 5 folds for each of 1 candidates, totalling 5 fits\n",
      "Fitting 5 folds for each of 1 candidates, totalling 5 fits\n",
      "Fitting 5 folds for each of 1 candidates, totalling 5 fits\n",
      "Fitting 5 folds for each of 1 candidates, totalling 5 fits\n",
      "Fitting 5 folds for each of 1 candidates, totalling 5 fits\n",
      "Fitting 5 folds for each of 1 candidates, totalling 5 fits\n",
      "Fitting 5 folds for each of 1 candidates, totalling 5 fits\n",
      "Fitting 5 folds for each of 1 candidates, totalling 5 fits\n",
      "Fitting 5 folds for each of 1 candidates, totalling 5 fits\n",
      "Fitting 5 folds for each of 1 candidates, totalling 5 fits\n",
      "Fitting 5 folds for each of 1 candidates, totalling 5 fits\n",
      "Fitting 5 folds for each of 1 candidates, totalling 5 fits\n",
      "Fitting 5 folds for each of 1 candidates, totalling 5 fits\n",
      "Fitting 5 folds for each of 1 candidates, totalling 5 fits\n",
      "Fitting 5 folds for each of 1 candidates, totalling 5 fits\n",
      "Fitting 5 folds for each of 1 candidates, totalling 5 fits\n",
      "Fitting 5 folds for each of 1 candidates, totalling 5 fits\n",
      "Fitting 5 folds for each of 1 candidates, totalling 5 fits\n",
      "Fitting 5 folds for each of 1 candidates, totalling 5 fits\n",
      "Fitting 5 folds for each of 1 candidates, totalling 5 fits\n",
      "Fitting 5 folds for each of 1 candidates, totalling 5 fits\n",
      "Fitting 5 folds for each of 1 candidates, totalling 5 fits\n",
      "Fitting 5 folds for each of 1 candidates, totalling 5 fits\n",
      "Fitting 5 folds for each of 1 candidates, totalling 5 fits\n",
      "Fitting 5 folds for each of 1 candidates, totalling 5 fits\n",
      "Fitting 5 folds for each of 1 candidates, totalling 5 fits\n",
      "Fitting 5 folds for each of 1 candidates, totalling 5 fits\n",
      "Fitting 5 folds for each of 1 candidates, totalling 5 fits\n",
      "Fitting 5 folds for each of 1 candidates, totalling 5 fits\n",
      "Fitting 5 folds for each of 1 candidates, totalling 5 fits\n",
      "Fitting 5 folds for each of 1 candidates, totalling 5 fits\n",
      "Fitting 5 folds for each of 1 candidates, totalling 5 fits\n",
      "Fitting 5 folds for each of 1 candidates, totalling 5 fits\n",
      "Fitting 5 folds for each of 1 candidates, totalling 5 fits\n",
      "Fitting 5 folds for each of 1 candidates, totalling 5 fits\n",
      "Fitting 5 folds for each of 1 candidates, totalling 5 fits\n",
      "Fitting 5 folds for each of 1 candidates, totalling 5 fits\n",
      "Fitting 5 folds for each of 1 candidates, totalling 5 fits\n",
      "Fitting 5 folds for each of 1 candidates, totalling 5 fits\n",
      "Fitting 5 folds for each of 1 candidates, totalling 5 fits\n",
      "Fitting 5 folds for each of 1 candidates, totalling 5 fits\n",
      "Fitting 5 folds for each of 1 candidates, totalling 5 fits\n",
      "Fitting 5 folds for each of 1 candidates, totalling 5 fits\n",
      "Fitting 5 folds for each of 1 candidates, totalling 5 fits\n",
      "Fitting 5 folds for each of 1 candidates, totalling 5 fits\n",
      "Fitting 5 folds for each of 1 candidates, totalling 5 fits\n",
      "Fitting 5 folds for each of 1 candidates, totalling 5 fits\n",
      "Fitting 5 folds for each of 1 candidates, totalling 5 fits\n",
      "Fitting 5 folds for each of 1 candidates, totalling 5 fits\n",
      "Fitting 5 folds for each of 1 candidates, totalling 5 fits\n",
      "Fitting 5 folds for each of 1 candidates, totalling 5 fits\n",
      "Fitting 5 folds for each of 1 candidates, totalling 5 fits\n",
      "Fitting 5 folds for each of 1 candidates, totalling 5 fits\n",
      "Fitting 5 folds for each of 1 candidates, totalling 5 fits\n",
      "Fitting 5 folds for each of 1 candidates, totalling 5 fits\n",
      "Fitting 5 folds for each of 1 candidates, totalling 5 fits\n",
      "Fitting 5 folds for each of 1 candidates, totalling 5 fits\n",
      "Fitting 5 folds for each of 1 candidates, totalling 5 fits\n",
      "Fitting 5 folds for each of 1 candidates, totalling 5 fits\n",
      "Fitting 5 folds for each of 1 candidates, totalling 5 fits\n",
      "Fitting 5 folds for each of 1 candidates, totalling 5 fits\n",
      "Fitting 5 folds for each of 1 candidates, totalling 5 fits\n",
      "Fitting 5 folds for each of 1 candidates, totalling 5 fits\n",
      "Fitting 5 folds for each of 1 candidates, totalling 5 fits\n",
      "Fitting 5 folds for each of 1 candidates, totalling 5 fits\n",
      "Fitting 5 folds for each of 1 candidates, totalling 5 fits\n",
      "Fitting 5 folds for each of 1 candidates, totalling 5 fits\n",
      "Fitting 5 folds for each of 1 candidates, totalling 5 fits\n",
      "Fitting 5 folds for each of 1 candidates, totalling 5 fits\n"
     ]
    },
    {
     "name": "stderr",
     "output_type": "stream",
     "text": [
      "c:\\Tools\\anaconda3\\envs\\stress01\\lib\\site-packages\\skopt\\optimizer\\optimizer.py:449: UserWarning: The objective has been evaluated at this point before.\n",
      "  warnings.warn(\"The objective has been evaluated \"\n"
     ]
    },
    {
     "name": "stdout",
     "output_type": "stream",
     "text": [
      "Fitting 5 folds for each of 1 candidates, totalling 5 fits\n",
      "Fitting 5 folds for each of 1 candidates, totalling 5 fits\n",
      "Fitting 5 folds for each of 1 candidates, totalling 5 fits\n",
      "Fitting 5 folds for each of 1 candidates, totalling 5 fits\n",
      "Fitting 5 folds for each of 1 candidates, totalling 5 fits\n",
      "Fitting 5 folds for each of 1 candidates, totalling 5 fits\n",
      "Fitting 5 folds for each of 1 candidates, totalling 5 fits\n",
      "Fitting 5 folds for each of 1 candidates, totalling 5 fits\n",
      "Fitting 5 folds for each of 1 candidates, totalling 5 fits\n",
      "Fitting 5 folds for each of 1 candidates, totalling 5 fits\n",
      "Fitting 5 folds for each of 1 candidates, totalling 5 fits\n",
      "Fitting 5 folds for each of 1 candidates, totalling 5 fits\n",
      "Fitting 5 folds for each of 1 candidates, totalling 5 fits\n",
      "Fitting 5 folds for each of 1 candidates, totalling 5 fits\n",
      "Fitting 5 folds for each of 1 candidates, totalling 5 fits\n",
      "Fitting 5 folds for each of 1 candidates, totalling 5 fits\n",
      "Fitting 5 folds for each of 1 candidates, totalling 5 fits\n",
      "Fitting 5 folds for each of 1 candidates, totalling 5 fits\n",
      "Fitting 5 folds for each of 1 candidates, totalling 5 fits\n",
      "Fitting 5 folds for each of 1 candidates, totalling 5 fits\n"
     ]
    },
    {
     "name": "stderr",
     "output_type": "stream",
     "text": [
      "c:\\Tools\\anaconda3\\envs\\stress01\\lib\\site-packages\\skopt\\optimizer\\optimizer.py:449: UserWarning: The objective has been evaluated at this point before.\n",
      "  warnings.warn(\"The objective has been evaluated \"\n"
     ]
    },
    {
     "name": "stdout",
     "output_type": "stream",
     "text": [
      "Fitting 5 folds for each of 1 candidates, totalling 5 fits\n",
      "Fitting 5 folds for each of 1 candidates, totalling 5 fits\n",
      "Fitting 5 folds for each of 1 candidates, totalling 5 fits\n",
      "Fitting 5 folds for each of 1 candidates, totalling 5 fits\n",
      "Fitting 5 folds for each of 1 candidates, totalling 5 fits\n",
      "Fitting 5 folds for each of 1 candidates, totalling 5 fits\n",
      "Fitting 5 folds for each of 1 candidates, totalling 5 fits\n",
      "Fitting 5 folds for each of 1 candidates, totalling 5 fits\n",
      "Fitting 5 folds for each of 1 candidates, totalling 5 fits\n",
      "Fitting 5 folds for each of 1 candidates, totalling 5 fits\n",
      "Fitting 5 folds for each of 1 candidates, totalling 5 fits\n",
      "Fitting 5 folds for each of 1 candidates, totalling 5 fits\n",
      "Fitting 5 folds for each of 1 candidates, totalling 5 fits\n",
      "Fitting 5 folds for each of 1 candidates, totalling 5 fits\n"
     ]
    },
    {
     "name": "stderr",
     "output_type": "stream",
     "text": [
      "c:\\Tools\\anaconda3\\envs\\stress01\\lib\\site-packages\\skopt\\optimizer\\optimizer.py:449: UserWarning: The objective has been evaluated at this point before.\n",
      "  warnings.warn(\"The objective has been evaluated \"\n"
     ]
    },
    {
     "name": "stdout",
     "output_type": "stream",
     "text": [
      "Fitting 5 folds for each of 1 candidates, totalling 5 fits\n",
      "Fitting 5 folds for each of 1 candidates, totalling 5 fits\n",
      "Fitting 5 folds for each of 1 candidates, totalling 5 fits\n",
      "Fitting 5 folds for each of 1 candidates, totalling 5 fits\n",
      "Fitting 5 folds for each of 1 candidates, totalling 5 fits\n"
     ]
    },
    {
     "name": "stderr",
     "output_type": "stream",
     "text": [
      "c:\\Tools\\anaconda3\\envs\\stress01\\lib\\site-packages\\skopt\\optimizer\\optimizer.py:449: UserWarning: The objective has been evaluated at this point before.\n",
      "  warnings.warn(\"The objective has been evaluated \"\n"
     ]
    },
    {
     "name": "stdout",
     "output_type": "stream",
     "text": [
      "Fitting 5 folds for each of 1 candidates, totalling 5 fits\n",
      "Fitting 5 folds for each of 1 candidates, totalling 5 fits\n",
      "Fitting 5 folds for each of 1 candidates, totalling 5 fits\n",
      "Fitting 5 folds for each of 1 candidates, totalling 5 fits\n",
      "Fitting 5 folds for each of 1 candidates, totalling 5 fits\n",
      "Fitting 5 folds for each of 1 candidates, totalling 5 fits\n",
      "Fitting 5 folds for each of 1 candidates, totalling 5 fits\n",
      "Fitting 5 folds for each of 1 candidates, totalling 5 fits\n"
     ]
    },
    {
     "name": "stderr",
     "output_type": "stream",
     "text": [
      "c:\\Tools\\anaconda3\\envs\\stress01\\lib\\site-packages\\skopt\\optimizer\\optimizer.py:449: UserWarning: The objective has been evaluated at this point before.\n",
      "  warnings.warn(\"The objective has been evaluated \"\n"
     ]
    },
    {
     "name": "stdout",
     "output_type": "stream",
     "text": [
      "Fitting 5 folds for each of 1 candidates, totalling 5 fits\n",
      "Fitting 5 folds for each of 1 candidates, totalling 5 fits\n",
      "Fitting 5 folds for each of 1 candidates, totalling 5 fits\n"
     ]
    },
    {
     "name": "stderr",
     "output_type": "stream",
     "text": [
      "c:\\Tools\\anaconda3\\envs\\stress01\\lib\\site-packages\\skopt\\optimizer\\optimizer.py:449: UserWarning: The objective has been evaluated at this point before.\n",
      "  warnings.warn(\"The objective has been evaluated \"\n"
     ]
    },
    {
     "name": "stdout",
     "output_type": "stream",
     "text": [
      "Fitting 5 folds for each of 1 candidates, totalling 5 fits\n",
      "Fitting 5 folds for each of 1 candidates, totalling 5 fits\n",
      "Fitting 5 folds for each of 1 candidates, totalling 5 fits\n",
      "Fitting 5 folds for each of 1 candidates, totalling 5 fits\n",
      "Fitting 5 folds for each of 1 candidates, totalling 5 fits\n",
      "Fitting 5 folds for each of 1 candidates, totalling 5 fits\n",
      "Fitting 5 folds for each of 1 candidates, totalling 5 fits\n",
      "Fitting 5 folds for each of 1 candidates, totalling 5 fits\n",
      "Fitting 5 folds for each of 1 candidates, totalling 5 fits\n",
      "Fitting 5 folds for each of 1 candidates, totalling 5 fits\n",
      "Fitting 5 folds for each of 1 candidates, totalling 5 fits\n",
      "Fitting 5 folds for each of 1 candidates, totalling 5 fits\n",
      "Best training params and score:\n",
      "OrderedDict([('etc__bootstrap', True), ('etc__criterion', 'log_loss'), ('etc__max_features', 0.6), ('etc__min_samples_leaf', 5), ('etc__min_samples_split', 14), ('etc__n_estimators', 50), ('scaler', MaxAbsScaler())])\n",
      "0.9025261381041325\n",
      "Score (F1) on test data: 0.87\n",
      "accuracy: 0.914322018515157\n",
      "precision: 0.9410080183276059\n",
      "recall: 0.8166003976143141\n",
      "f1_score: 0.8744012772751464\n",
      "roc_auc: 0.8935732900282037\n",
      "Class distribution in test set: \n",
      " 0    0.634779\n",
      "1    0.365221\n",
      "Name: label, dtype: float64 \n",
      "\n",
      "average_precision: 0.9590759246241415\n",
      "The baseline to beat is the percentage of positive cases: 0.36522054819386457\n"
     ]
    },
    {
     "data": {
      "image/png": "[encoded data removed]",
      "text/plain": [
       "<Figure size 640x480 with 1 Axes>"
      ]
     },
     "metadata": {},
     "output_type": "display_data"
    },
    {
     "name": "stdout",
     "output_type": "stream",
     "text": [
      "===============================================\n",
      "\n",
      "\n",
      "CPU times: total: 1min 46s\n",
      "Wall time: 23min 3s\n"
     ]
    }
   ],
   "source": [
    "%%time\n",
    "\n",
    "full_run_etc(30, 1)"
   ]
  },
  {
   "cell_type": "markdown",
   "id": "b665a79e",
   "metadata": {},
   "source": [
    "# Interpretation"
   ]
  },
  {
   "cell_type": "markdown",
   "id": "53470ecd",
   "metadata": {},
   "source": [
    "We conducted hyperparameter search for an ExtraTreesClassifier on the dataset with windows size 30 and step size 1.\n",
    "\n",
    "The result is an F1 score of 0.87, with a precision of 0.94 and a recall of 0.82.\n",
    "\n",
    "The found hyperparameters of the model are:\n",
    "\n",
    "* 'bootstrap', True\n",
    "* 'etc__criterion', 'log_loss'\n",
    "* 'etc__max_features', 0.6\n",
    "* 'etc__min_samples_leaf', 5\n",
    "* 'etc__min_samples_split', 14\n",
    "* 'etc__n_estimators', 50)"
   ]
  }
 ],
 "metadata": {
  "kernelspec": {
   "display_name": "Python (stress01)",
   "language": "python",
   "name": "stress01"
  },
  "language_info": {
   "codemirror_mode": {
    "name": "ipython",
    "version": 3
   },
   "file_extension": ".py",
   "mimetype": "text/x-python",
   "name": "python",
   "nbconvert_exporter": "python",
   "pygments_lexer": "ipython3",
   "version": "3.10.8"
  }
 },
 "nbformat": 4,
 "nbformat_minor": 5
}
