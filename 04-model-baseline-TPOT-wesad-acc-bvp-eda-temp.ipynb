{
 "cells": [
  {
   "cell_type": "code",
   "execution_count": 1,
   "id": "e40191e7",
   "metadata": {},
   "outputs": [],
   "source": [
    "import pandas as pd\n",
    "import numpy as np\n",
    "from sklearn.model_selection import GroupKFold\n",
    "from tpot import TPOTClassifier\n",
    "from sklearn.metrics import recall_score, precision_score, f1_score, confusion_matrix, roc_auc_score, average_precision_score, accuracy_score, ConfusionMatrixDisplay\n",
    "from sklearn.metrics import PrecisionRecallDisplay\n",
    "\n",
    "import utils"
   ]
  },
  {
   "cell_type": "markdown",
   "id": "fdee9240",
   "metadata": {},
   "source": [
    "# Read data"
   ]
  },
  {
   "cell_type": "code",
   "execution_count": 2,
   "id": "aa5ec0db",
   "metadata": {},
   "outputs": [],
   "source": [
    "df = pd.read_parquet('data-input/flirt-wesad-acc-bvp-eda-temp-60-10.parquet')"
   ]
  },
  {
   "cell_type": "code",
   "execution_count": 3,
   "id": "bbee7d3b",
   "metadata": {},
   "outputs": [],
   "source": [
    "# remove columns (see EDA)\n",
    "columns_to_drop = ['eda_EDA_n_sign_changes',\n",
    " 'temp_TEMP_peaks',\n",
    " 'acc_y_entropy',\n",
    " 'acc_l2_n_sign_changes',\n",
    " 'acc_x_entropy',\n",
    " 'acc_z_entropy',\n",
    " 'temp_l2_n_sign_changes',\n",
    " 'bvp_BVP_entropy',\n",
    " 'temp_TEMP_n_sign_changes',\n",
    " 'temp_l2_peaks',\n",
    " 'eda_l2_n_sign_changes']\n",
    "\n",
    "df = df.drop(columns=columns_to_drop)"
   ]
  },
  {
   "cell_type": "code",
   "execution_count": 4,
   "id": "722f655e",
   "metadata": {},
   "outputs": [],
   "source": [
    "# split into train and test\n",
    "df_train, df_test = utils.create_train_test(df, 5, 'subject', 'label')\n",
    "\n",
    "X_train, y_train, groups_train = utils.split_df(df_train, 'subject', 'label')\n",
    "X_test, y_test, groups_test = utils.split_df(df_test, 'subject', 'label')\n",
    "\n",
    "# remove correlated features from train\n",
    "X_train, selected_features = utils.remove_correlated_features(X_train, 0.8)\n",
    "\n",
    "# remove the same columns from test\n",
    "X_test = X_test[selected_features]"
   ]
  },
  {
   "cell_type": "code",
   "execution_count": 5,
   "id": "e00295ca",
   "metadata": {},
   "outputs": [
    {
     "data": {
      "text/plain": [
       "(2213, 72)"
      ]
     },
     "execution_count": 5,
     "metadata": {},
     "output_type": "execute_result"
    }
   ],
   "source": [
    "X_train.shape"
   ]
  },
  {
   "cell_type": "code",
   "execution_count": 6,
   "id": "9ff8496e",
   "metadata": {},
   "outputs": [
    {
     "data": {
      "text/plain": [
       "(552, 72)"
      ]
     },
     "execution_count": 6,
     "metadata": {},
     "output_type": "execute_result"
    }
   ],
   "source": [
    "X_test.shape"
   ]
  },
  {
   "cell_type": "code",
   "execution_count": 7,
   "id": "61972427",
   "metadata": {},
   "outputs": [
    {
     "data": {
      "text/plain": [
       "Index(['bvp_BVP_mean', 'bvp_BVP_std', 'bvp_BVP_sum', 'bvp_BVP_skewness',\n",
       "       'bvp_BVP_kurtosis', 'bvp_BVP_peaks', 'bvp_BVP_n_above_mean',\n",
       "       'bvp_BVP_n_below_mean', 'bvp_BVP_n_sign_changes',\n",
       "       'bvp_BVP_perm_entropy', 'bvp_BVP_svd_entropy', 'bvp_l2_min',\n",
       "       'bvp_l2_n_above_mean', 'bvp_l2_n_below_mean', 'bvp_l2_n_sign_changes',\n",
       "       'bvp_l2_perm_entropy', 'acc_x_mean', 'acc_x_std', 'acc_x_ptp',\n",
       "       'acc_x_energy', 'acc_x_skewness', 'acc_x_kurtosis', 'acc_x_peaks',\n",
       "       'acc_x_lineintegral', 'acc_x_n_above_mean', 'acc_x_n_below_mean',\n",
       "       'acc_x_n_sign_changes', 'acc_y_mean', 'acc_y_std', 'acc_y_min',\n",
       "       'acc_y_max', 'acc_y_energy', 'acc_y_skewness', 'acc_y_kurtosis',\n",
       "       'acc_y_peaks', 'acc_y_n_above_mean', 'acc_y_n_sign_changes',\n",
       "       'acc_y_svd_entropy', 'acc_z_mean', 'acc_z_std', 'acc_z_min',\n",
       "       'acc_z_max', 'acc_z_energy', 'acc_z_skewness', 'acc_z_kurtosis',\n",
       "       'acc_z_n_above_mean', 'acc_z_n_below_mean', 'acc_z_n_sign_changes',\n",
       "       'acc_z_svd_entropy', 'acc_l2_skewness', 'acc_l2_kurtosis',\n",
       "       'acc_l2_n_above_mean', 'acc_l2_n_below_mean', 'eda_EDA_mean',\n",
       "       'eda_EDA_std', 'eda_EDA_skewness', 'eda_EDA_kurtosis', 'eda_EDA_peaks',\n",
       "       'eda_EDA_n_above_mean', 'eda_EDA_n_below_mean', 'eda_EDA_perm_entropy',\n",
       "       'eda_EDA_svd_entropy', 'temp_TEMP_mean', 'temp_TEMP_std',\n",
       "       'temp_TEMP_skewness', 'temp_TEMP_kurtosis', 'temp_TEMP_lineintegral',\n",
       "       'temp_TEMP_n_above_mean', 'temp_TEMP_n_below_mean',\n",
       "       'temp_TEMP_perm_entropy', 'temp_TEMP_svd_entropy',\n",
       "       'temp_l2_svd_entropy'],\n",
       "      dtype='object')"
      ]
     },
     "execution_count": 7,
     "metadata": {},
     "output_type": "execute_result"
    }
   ],
   "source": [
    "X_train.columns"
   ]
  },
  {
   "cell_type": "code",
   "execution_count": 8,
   "id": "d60b5548",
   "metadata": {},
   "outputs": [
    {
     "name": "stdout",
     "output_type": "stream",
     "text": [
      "Percentage train set: 0.8003616636528029\n",
      "Percentage test set: 0.1996383363471971\n",
      "\n",
      "Class distribution in train set: \n",
      " 0    0.6385\n",
      "1    0.3615\n",
      "Name: label, dtype: float64 \n",
      "\n",
      "Class distribution in test set: \n",
      " 0    0.634058\n",
      "1    0.365942\n",
      "Name: label, dtype: float64 \n",
      "\n"
     ]
    }
   ],
   "source": [
    "# Check train and test set sizes\n",
    "print('Percentage train set:', len(y_train)/(len(y_train)+len(y_test)))\n",
    "print('Percentage test set:', len(y_test)/(len(y_train)+len(y_test)))\n",
    "\n",
    "print('\\nClass distribution in train set: \\n', y_train['label'].value_counts(normalize=True), '\\n')\n",
    "\n",
    "print('Class distribution in test set: \\n', y_test['label'].value_counts(normalize=True), '\\n')"
   ]
  },
  {
   "cell_type": "markdown",
   "id": "82789e2f",
   "metadata": {},
   "source": [
    "# TPOT"
   ]
  },
  {
   "cell_type": "code",
   "execution_count": 9,
   "id": "75efe53b",
   "metadata": {},
   "outputs": [],
   "source": [
    "tpot = TPOTClassifier(generations=5,\n",
    "                      population_size=5,\n",
    "                      scoring='f1',\n",
    "                      cv=3,\n",
    "                      n_jobs=-1,\n",
    "                      verbosity=3,\n",
    "                      random_state=0)"
   ]
  },
  {
   "cell_type": "code",
   "execution_count": 10,
   "id": "0b683c39",
   "metadata": {},
   "outputs": [
    {
     "name": "stdout",
     "output_type": "stream",
     "text": [
      "32 operators have been imported by TPOT.\n"
     ]
    },
    {
     "name": "stderr",
     "output_type": "stream",
     "text": [
      "C:\\Tools\\anaconda3\\envs\\stress01\\lib\\site-packages\\xgboost\\compat.py:36: FutureWarning: pandas.Int64Index is deprecated and will be removed from pandas in a future version. Use pandas.Index with the appropriate dtype instead.\n",
      "  from pandas import MultiIndex, Int64Index\n"
     ]
    },
    {
     "data": {
      "application/vnd.jupyter.widget-view+json": {
       "model_id": "3c598b40dc0e40c1a8659bcc15dee116",
       "version_major": 2,
       "version_minor": 0
      },
      "text/plain": [
       "Optimization Progress:   0%|          | 0/30 [00:00<?, ?pipeline/s]"
      ]
     },
     "metadata": {},
     "output_type": "display_data"
    },
    {
     "name": "stdout",
     "output_type": "stream",
     "text": [
      "\n",
      "Generation 1 - Current Pareto front scores:\n",
      "\n",
      "-1\t0.8908177405779621\tXGBClassifier(input_matrix, XGBClassifier__learning_rate=0.1, XGBClassifier__max_depth=2, XGBClassifier__min_child_weight=7, XGBClassifier__n_estimators=100, XGBClassifier__n_jobs=1, XGBClassifier__subsample=0.4, XGBClassifier__verbosity=0)\n",
      "Pipeline encountered that has previously been evaluated during the optimization process. Using the score from the previous evaluation.\n",
      "\n",
      "Generation 2 - Current Pareto front scores:\n",
      "\n",
      "-1\t0.8908177405779621\tXGBClassifier(input_matrix, XGBClassifier__learning_rate=0.1, XGBClassifier__max_depth=2, XGBClassifier__min_child_weight=7, XGBClassifier__n_estimators=100, XGBClassifier__n_jobs=1, XGBClassifier__subsample=0.4, XGBClassifier__verbosity=0)\n",
      "_pre_test decorator: _random_mutation_operator: num_test=0 Negative values in data passed to MultinomialNB (input X).\n",
      "\n",
      "Generation 3 - Current Pareto front scores:\n",
      "\n",
      "-1\t0.8908177405779621\tXGBClassifier(input_matrix, XGBClassifier__learning_rate=0.1, XGBClassifier__max_depth=2, XGBClassifier__min_child_weight=7, XGBClassifier__n_estimators=100, XGBClassifier__n_jobs=1, XGBClassifier__subsample=0.4, XGBClassifier__verbosity=0)\n",
      "\n",
      "-2\t0.8930207545704679\tXGBClassifier(SGDClassifier(input_matrix, SGDClassifier__alpha=0.0, SGDClassifier__eta0=1.0, SGDClassifier__fit_intercept=False, SGDClassifier__l1_ratio=0.25, SGDClassifier__learning_rate=invscaling, SGDClassifier__loss=hinge, SGDClassifier__penalty=elasticnet, SGDClassifier__power_t=0.5), XGBClassifier__learning_rate=0.1, XGBClassifier__max_depth=2, XGBClassifier__min_child_weight=7, XGBClassifier__n_estimators=100, XGBClassifier__n_jobs=1, XGBClassifier__subsample=0.4, XGBClassifier__verbosity=0)\n",
      "Pipeline encountered that has previously been evaluated during the optimization process. Using the score from the previous evaluation.\n",
      "\n",
      "Generation 4 - Current Pareto front scores:\n",
      "\n",
      "-1\t0.8908177405779621\tXGBClassifier(input_matrix, XGBClassifier__learning_rate=0.1, XGBClassifier__max_depth=2, XGBClassifier__min_child_weight=7, XGBClassifier__n_estimators=100, XGBClassifier__n_jobs=1, XGBClassifier__subsample=0.4, XGBClassifier__verbosity=0)\n",
      "\n",
      "-2\t0.8930207545704679\tXGBClassifier(SGDClassifier(input_matrix, SGDClassifier__alpha=0.0, SGDClassifier__eta0=1.0, SGDClassifier__fit_intercept=False, SGDClassifier__l1_ratio=0.25, SGDClassifier__learning_rate=invscaling, SGDClassifier__loss=hinge, SGDClassifier__penalty=elasticnet, SGDClassifier__power_t=0.5), XGBClassifier__learning_rate=0.1, XGBClassifier__max_depth=2, XGBClassifier__min_child_weight=7, XGBClassifier__n_estimators=100, XGBClassifier__n_jobs=1, XGBClassifier__subsample=0.4, XGBClassifier__verbosity=0)\n",
      "\n",
      "Generation 5 - Current Pareto front scores:\n",
      "\n",
      "-1\t0.8908177405779621\tXGBClassifier(input_matrix, XGBClassifier__learning_rate=0.1, XGBClassifier__max_depth=2, XGBClassifier__min_child_weight=7, XGBClassifier__n_estimators=100, XGBClassifier__n_jobs=1, XGBClassifier__subsample=0.4, XGBClassifier__verbosity=0)\n",
      "\n",
      "-2\t0.8930207545704679\tXGBClassifier(SGDClassifier(input_matrix, SGDClassifier__alpha=0.0, SGDClassifier__eta0=1.0, SGDClassifier__fit_intercept=False, SGDClassifier__l1_ratio=0.25, SGDClassifier__learning_rate=invscaling, SGDClassifier__loss=hinge, SGDClassifier__penalty=elasticnet, SGDClassifier__power_t=0.5), XGBClassifier__learning_rate=0.1, XGBClassifier__max_depth=2, XGBClassifier__min_child_weight=7, XGBClassifier__n_estimators=100, XGBClassifier__n_jobs=1, XGBClassifier__subsample=0.4, XGBClassifier__verbosity=0)\n",
      "CPU times: total: 578 ms\n",
      "Wall time: 24.7 s\n"
     ]
    },
    {
     "data": {
      "text/plain": [
       "TPOTClassifier(cv=3, generations=5, n_jobs=-1, population_size=5,\n",
       "               random_state=0, scoring='f1', verbosity=3)"
      ]
     },
     "execution_count": 10,
     "metadata": {},
     "output_type": "execute_result"
    }
   ],
   "source": [
    "%%time\n",
    "tpot.fit(X_train, y_train.values.ravel(), groups=groups_train.values.ravel())"
   ]
  },
  {
   "cell_type": "code",
   "execution_count": 11,
   "id": "af59570f",
   "metadata": {},
   "outputs": [
    {
     "name": "stdout",
     "output_type": "stream",
     "text": [
      "TPOT score (F1) on test data: 0.88\n"
     ]
    },
    {
     "name": "stderr",
     "output_type": "stream",
     "text": [
      "C:\\Tools\\anaconda3\\envs\\stress01\\lib\\site-packages\\sklearn\\base.py:450: UserWarning: X does not have valid feature names, but SGDClassifier was fitted with feature names\n",
      "  warnings.warn(\n"
     ]
    }
   ],
   "source": [
    "print(f\"TPOT score (F1) on test data: {tpot.score(X_test, y_test.values.ravel()):.2f}\")"
   ]
  },
  {
   "cell_type": "code",
   "execution_count": 12,
   "id": "d96d2f7b",
   "metadata": {},
   "outputs": [
    {
     "name": "stderr",
     "output_type": "stream",
     "text": [
      "C:\\Tools\\anaconda3\\envs\\stress01\\lib\\site-packages\\sklearn\\base.py:450: UserWarning: X does not have valid feature names, but SGDClassifier was fitted with feature names\n",
      "  warnings.warn(\n",
      "C:\\Tools\\anaconda3\\envs\\stress01\\lib\\site-packages\\sklearn\\base.py:450: UserWarning: X does not have valid feature names, but SGDClassifier was fitted with feature names\n",
      "  warnings.warn(\n"
     ]
    }
   ],
   "source": [
    "y_test_predict = tpot.predict(X_test)\n",
    "y_test_predict_proba = tpot.predict_proba(X_test)[:,1]"
   ]
  },
  {
   "cell_type": "code",
   "execution_count": 13,
   "id": "c97ed7c7",
   "metadata": {},
   "outputs": [
    {
     "name": "stdout",
     "output_type": "stream",
     "text": [
      "accuracy: 0.9112318840579711\n",
      "precision: 0.8558139534883721\n",
      "recall: 0.9108910891089109\n",
      "f1_score: 0.882494004796163\n",
      "roc_auc: 0.9111598302687411\n",
      "Class distribution in test set: \n",
      " 0    0.634058\n",
      "1    0.365942\n",
      "Name: label, dtype: float64 \n",
      "\n",
      "average_precision: 0.9570895587694306\n"
     ]
    }
   ],
   "source": [
    "print('accuracy: '+str(accuracy_score(y_test, y_test_predict)))\n",
    "print('precision: '+str(precision_score(y_test, y_test_predict)))\n",
    "print('recall: '+str(recall_score(y_test, y_test_predict)))\n",
    "print('f1_score: '+str(f1_score(y_test, y_test_predict)))\n",
    "print('roc_auc: '+str(roc_auc_score(y_test, y_test_predict)))\n",
    "print('Class distribution in test set: \\n', y_test['label'].value_counts(normalize=True), '\\n')\n",
    "print('average_precision: '+str(average_precision_score(y_test, y_test_predict_proba)))"
   ]
  },
  {
   "cell_type": "code",
   "execution_count": 14,
   "id": "ec467ab5",
   "metadata": {},
   "outputs": [
    {
     "data": {
      "text/plain": [
       "array([[319,  31],\n",
       "       [ 18, 184]], dtype=int64)"
      ]
     },
     "execution_count": 14,
     "metadata": {},
     "output_type": "execute_result"
    }
   ],
   "source": [
    "confusion_matrix(y_test, y_test_predict)"
   ]
  },
  {
   "cell_type": "code",
   "execution_count": 15,
   "id": "7104c3f4",
   "metadata": {},
   "outputs": [
    {
     "name": "stdout",
     "output_type": "stream",
     "text": [
      "The baseline to beat is the percentage of positive cases: 0.36594202898550726\n"
     ]
    },
    {
     "data": {
      "image/png": "[encoded data removed]",
      "text/plain": [
       "<Figure size 640x480 with 1 Axes>"
      ]
     },
     "metadata": {},
     "output_type": "display_data"
    }
   ],
   "source": [
    "prd = PrecisionRecallDisplay.from_predictions(y_test, y_test_predict_proba, name='Model')\n",
    "_ = prd.ax_.set_title('2-class Precision-Recall curve')\n",
    "print('The baseline to beat is the percentage of positive cases:', y_test['label'].value_counts(normalize=True)[1])"
   ]
  },
  {
   "cell_type": "markdown",
   "id": "a503a878",
   "metadata": {},
   "source": [
    "# Interpretation"
   ]
  },
  {
   "cell_type": "markdown",
   "id": "75ce21d6",
   "metadata": {},
   "source": [
    "I created a TPOT baseline model in this notebook.\n",
    "\n",
    "The data used was created with ```FLIRT``` with a ```window_size``` of ```60``` and a step size of ```10```.\n",
    "\n",
    "The data of each user is either in the train or in the test set. Internally, TPOT does a cross-validation with the training data, and again only uses the data of each user in either training or validation set.\n",
    "\n",
    "Hyperparameters, i.e., aspects that could be changed in future iterations:\n",
    "* Calculating the features with another library instead of FLIRT.\n",
    "* Using different window_sizes and step sizes.\n",
    "* Test if we can predict stress by only using a subset of the available sensors.\n",
    "\n",
    "The results so far are very promising: TPOT returned a pipeline with a performance on the test set of F1=0.88."
   ]
  }
 ],
 "metadata": {
  "kernelspec": {
   "display_name": "Python (stress01)",
   "language": "python",
   "name": "stress01"
  },
  "language_info": {
   "codemirror_mode": {
    "name": "ipython",
    "version": 3
   },
   "file_extension": ".py",
   "mimetype": "text/x-python",
   "name": "python",
   "nbconvert_exporter": "python",
   "pygments_lexer": "ipython3",
   "version": "3.10.8"
  },
  "vscode": {
   "interpreter": {
    "hash": "7faeafcdb7b1476f711d2dd1a59a238cf05b963035646615ec88d1898d9d931a"
   }
  }
 },
 "nbformat": 4,
 "nbformat_minor": 5
}
