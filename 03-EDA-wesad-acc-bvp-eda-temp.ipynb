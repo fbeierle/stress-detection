{
 "cells": [
  {
   "cell_type": "code",
   "execution_count": 11,
   "id": "eaa85061",
   "metadata": {},
   "outputs": [],
   "source": [
    "import pandas as pd\n",
    "# import sweetviz as sv\n",
    "import matplotlib.pyplot as plt\n",
    "import numpy as np\n",
    "from sklearn.model_selection import train_test_split\n",
    "import seaborn as sns\n",
    "#from pandas_profiling import ProfileReport\n",
    "import utils"
   ]
  },
  {
   "cell_type": "code",
   "execution_count": 2,
   "id": "c2ceb686",
   "metadata": {},
   "outputs": [
    {
     "data": {
      "text/html": [
       "<style>.container { width:90% !important; }</style>"
      ],
      "text/plain": [
       "<IPython.core.display.HTML object>"
      ]
     },
     "metadata": {},
     "output_type": "display_data"
    }
   ],
   "source": [
    "from IPython.display import display, HTML\n",
    "display(HTML(\"<style>.container { width:90% !important; }</style>\"))"
   ]
  },
  {
   "cell_type": "markdown",
   "id": "9139520b",
   "metadata": {},
   "source": [
    "# 1. Description\n",
    "The data we have is from the WESAD study and contains labled data (stress/no stress). The data contains data from differente sensors: ACC (accelerometer), BVP (blood volume pulse), EDA (electrodermal activity), TEMP (temperature). In the following, we look at the features created with the FLIRT (https://flirt.readthedocs.io/en/latest/) library (see other script).\n",
    "\n",
    "Note: there might be other potential features to be calculated on the raw data, for example via tsfresh (https://tsfresh.readthedocs.io/en/latest/index.html) or TSFEL (https://tsfel.readthedocs.io/en/latest/). However, FLIRT was specifically developed with the wrist sensor used in the two dataset used here, so we can reasonably expect it to produce meaningful features based on the available data."
   ]
  },
  {
   "cell_type": "markdown",
   "id": "15a9f250",
   "metadata": {},
   "source": [
    "# 2. Data Source"
   ]
  },
  {
   "cell_type": "code",
   "execution_count": 3,
   "id": "4a445cc5",
   "metadata": {},
   "outputs": [],
   "source": [
    "# load data - features calculated with Flirt with\n",
    "# window_length = 60 and\n",
    "# window_step_size = 10\n",
    "df = pd.read_parquet('data-input/flirt-wesad-acc-bvp-eda-temp60-10.parquet')"
   ]
  },
  {
   "cell_type": "code",
   "execution_count": 4,
   "id": "788a9096",
   "metadata": {},
   "outputs": [
    {
     "data": {
      "text/plain": [
       "(2765, 222)"
      ]
     },
     "execution_count": 4,
     "metadata": {},
     "output_type": "execute_result"
    }
   ],
   "source": [
    "df.shape"
   ]
  },
  {
   "cell_type": "code",
   "execution_count": 5,
   "id": "83931fc3",
   "metadata": {},
   "outputs": [
    {
     "data": {
      "text/html": [
       "<div>\n",
       "<style scoped>\n",
       "    .dataframe tbody tr th:only-of-type {\n",
       "        vertical-align: middle;\n",
       "    }\n",
       "\n",
       "    .dataframe tbody tr th {\n",
       "        vertical-align: top;\n",
       "    }\n",
       "\n",
       "    .dataframe thead th {\n",
       "        text-align: right;\n",
       "    }\n",
       "</style>\n",
       "<table border=\"1\" class=\"dataframe\">\n",
       "  <thead>\n",
       "    <tr style=\"text-align: right;\">\n",
       "      <th></th>\n",
       "      <th>bvp_BVP_mean</th>\n",
       "      <th>bvp_BVP_std</th>\n",
       "      <th>bvp_BVP_min</th>\n",
       "      <th>bvp_BVP_max</th>\n",
       "      <th>bvp_BVP_ptp</th>\n",
       "      <th>bvp_BVP_sum</th>\n",
       "      <th>bvp_BVP_energy</th>\n",
       "      <th>bvp_BVP_skewness</th>\n",
       "      <th>bvp_BVP_kurtosis</th>\n",
       "      <th>bvp_BVP_peaks</th>\n",
       "      <th>...</th>\n",
       "      <th>temp_l2_n_sign_changes</th>\n",
       "      <th>temp_l2_iqr</th>\n",
       "      <th>temp_l2_iqr_5_95</th>\n",
       "      <th>temp_l2_pct_5</th>\n",
       "      <th>temp_l2_pct_95</th>\n",
       "      <th>temp_l2_entropy</th>\n",
       "      <th>temp_l2_perm_entropy</th>\n",
       "      <th>temp_l2_svd_entropy</th>\n",
       "      <th>subject</th>\n",
       "      <th>label</th>\n",
       "    </tr>\n",
       "    <tr>\n",
       "      <th>datetime</th>\n",
       "      <th></th>\n",
       "      <th></th>\n",
       "      <th></th>\n",
       "      <th></th>\n",
       "      <th></th>\n",
       "      <th></th>\n",
       "      <th></th>\n",
       "      <th></th>\n",
       "      <th></th>\n",
       "      <th></th>\n",
       "      <th></th>\n",
       "      <th></th>\n",
       "      <th></th>\n",
       "      <th></th>\n",
       "      <th></th>\n",
       "      <th></th>\n",
       "      <th></th>\n",
       "      <th></th>\n",
       "      <th></th>\n",
       "      <th></th>\n",
       "      <th></th>\n",
       "    </tr>\n",
       "  </thead>\n",
       "  <tbody>\n",
       "    <tr>\n",
       "      <th>1970-01-01 00:01:00</th>\n",
       "      <td>0.124318</td>\n",
       "      <td>66.395699</td>\n",
       "      <td>-264.71</td>\n",
       "      <td>272.99</td>\n",
       "      <td>537.7</td>\n",
       "      <td>477.38</td>\n",
       "      <td>1.692827e+07</td>\n",
       "      <td>0.023441</td>\n",
       "      <td>2.820353</td>\n",
       "      <td>145.0</td>\n",
       "      <td>...</td>\n",
       "      <td>0</td>\n",
       "      <td>0.04</td>\n",
       "      <td>0.09</td>\n",
       "      <td>33.25</td>\n",
       "      <td>33.34</td>\n",
       "      <td>5.480639</td>\n",
       "      <td>0.802811</td>\n",
       "      <td>0.003120</td>\n",
       "      <td>10</td>\n",
       "      <td>0</td>\n",
       "    </tr>\n",
       "    <tr>\n",
       "      <th>1970-01-01 00:01:10</th>\n",
       "      <td>0.843435</td>\n",
       "      <td>58.168574</td>\n",
       "      <td>-264.71</td>\n",
       "      <td>272.99</td>\n",
       "      <td>537.7</td>\n",
       "      <td>3238.79</td>\n",
       "      <td>1.299569e+07</td>\n",
       "      <td>0.112281</td>\n",
       "      <td>4.464214</td>\n",
       "      <td>149.0</td>\n",
       "      <td>...</td>\n",
       "      <td>0</td>\n",
       "      <td>0.02</td>\n",
       "      <td>0.05</td>\n",
       "      <td>33.29</td>\n",
       "      <td>33.34</td>\n",
       "      <td>5.480639</td>\n",
       "      <td>0.795881</td>\n",
       "      <td>0.003081</td>\n",
       "      <td>10</td>\n",
       "      <td>0</td>\n",
       "    </tr>\n",
       "    <tr>\n",
       "      <th>1970-01-01 00:01:20</th>\n",
       "      <td>0.111445</td>\n",
       "      <td>53.332683</td>\n",
       "      <td>-264.71</td>\n",
       "      <td>272.99</td>\n",
       "      <td>537.7</td>\n",
       "      <td>427.95</td>\n",
       "      <td>1.092245e+07</td>\n",
       "      <td>-0.007924</td>\n",
       "      <td>6.198772</td>\n",
       "      <td>153.0</td>\n",
       "      <td>...</td>\n",
       "      <td>0</td>\n",
       "      <td>0.02</td>\n",
       "      <td>0.03</td>\n",
       "      <td>33.31</td>\n",
       "      <td>33.34</td>\n",
       "      <td>5.480639</td>\n",
       "      <td>0.795881</td>\n",
       "      <td>0.002733</td>\n",
       "      <td>10</td>\n",
       "      <td>0</td>\n",
       "    </tr>\n",
       "  </tbody>\n",
       "</table>\n",
       "<p>3 rows × 222 columns</p>\n",
       "</div>"
      ],
      "text/plain": [
       "                     bvp_BVP_mean  bvp_BVP_std  bvp_BVP_min  bvp_BVP_max  \\\n",
       "datetime                                                                   \n",
       "1970-01-01 00:01:00      0.124318    66.395699      -264.71       272.99   \n",
       "1970-01-01 00:01:10      0.843435    58.168574      -264.71       272.99   \n",
       "1970-01-01 00:01:20      0.111445    53.332683      -264.71       272.99   \n",
       "\n",
       "                     bvp_BVP_ptp  bvp_BVP_sum  bvp_BVP_energy  \\\n",
       "datetime                                                        \n",
       "1970-01-01 00:01:00        537.7       477.38    1.692827e+07   \n",
       "1970-01-01 00:01:10        537.7      3238.79    1.299569e+07   \n",
       "1970-01-01 00:01:20        537.7       427.95    1.092245e+07   \n",
       "\n",
       "                     bvp_BVP_skewness  bvp_BVP_kurtosis  bvp_BVP_peaks  ...  \\\n",
       "datetime                                                                ...   \n",
       "1970-01-01 00:01:00          0.023441          2.820353          145.0  ...   \n",
       "1970-01-01 00:01:10          0.112281          4.464214          149.0  ...   \n",
       "1970-01-01 00:01:20         -0.007924          6.198772          153.0  ...   \n",
       "\n",
       "                     temp_l2_n_sign_changes  temp_l2_iqr  temp_l2_iqr_5_95  \\\n",
       "datetime                                                                     \n",
       "1970-01-01 00:01:00                       0         0.04              0.09   \n",
       "1970-01-01 00:01:10                       0         0.02              0.05   \n",
       "1970-01-01 00:01:20                       0         0.02              0.03   \n",
       "\n",
       "                     temp_l2_pct_5  temp_l2_pct_95  temp_l2_entropy  \\\n",
       "datetime                                                              \n",
       "1970-01-01 00:01:00          33.25           33.34         5.480639   \n",
       "1970-01-01 00:01:10          33.29           33.34         5.480639   \n",
       "1970-01-01 00:01:20          33.31           33.34         5.480639   \n",
       "\n",
       "                     temp_l2_perm_entropy  temp_l2_svd_entropy  subject  label  \n",
       "datetime                                                                        \n",
       "1970-01-01 00:01:00              0.802811             0.003120       10      0  \n",
       "1970-01-01 00:01:10              0.795881             0.003081       10      0  \n",
       "1970-01-01 00:01:20              0.795881             0.002733       10      0  \n",
       "\n",
       "[3 rows x 222 columns]"
      ]
     },
     "execution_count": 5,
     "metadata": {},
     "output_type": "execute_result"
    }
   ],
   "source": [
    "df.head(3)"
   ]
  },
  {
   "cell_type": "code",
   "execution_count": 6,
   "id": "a086ccef",
   "metadata": {},
   "outputs": [
    {
     "data": {
      "text/plain": [
       "0    222\n",
       "dtype: int64"
      ]
     },
     "execution_count": 6,
     "metadata": {},
     "output_type": "execute_result"
    }
   ],
   "source": [
    "# there are no missing values in the dataset\n",
    "df.isnull().sum().value_counts()"
   ]
  },
  {
   "cell_type": "code",
   "execution_count": 7,
   "id": "d9cf5543",
   "metadata": {},
   "outputs": [
    {
     "data": {
      "text/plain": [
       "10    191\n",
       "17    191\n",
       "15    187\n",
       "11    186\n",
       "14    186\n",
       "16    186\n",
       "13    185\n",
       "5     185\n",
       "8     184\n",
       "6     183\n",
       "7     183\n",
       "9     183\n",
       "4     180\n",
       "3     178\n",
       "2     177\n",
       "Name: subject, dtype: int64"
      ]
     },
     "execution_count": 7,
     "metadata": {},
     "output_type": "execute_result"
    }
   ],
   "source": [
    "df['subject'].value_counts()"
   ]
  },
  {
   "cell_type": "code",
   "execution_count": 8,
   "id": "9c77b753",
   "metadata": {},
   "outputs": [
    {
     "data": {
      "text/plain": [
       "0    0.637613\n",
       "1    0.362387\n",
       "Name: label, dtype: float64"
      ]
     },
     "execution_count": 8,
     "metadata": {},
     "output_type": "execute_result"
    }
   ],
   "source": [
    "df['label'].value_counts(normalize=True)"
   ]
  },
  {
   "cell_type": "markdown",
   "id": "bd5ee305",
   "metadata": {},
   "source": [
    "# 3. Train-test split\n",
    "We perform the train-test split before we conduct EDA on the train set. Thus, we avoid data leakage from the test set."
   ]
  },
  {
   "cell_type": "code",
   "execution_count": 13,
   "id": "9f598315",
   "metadata": {},
   "outputs": [],
   "source": [
    "df_train, df_test = utils.create_train_test(df, 5, 'subject', 'label')"
   ]
  },
  {
   "cell_type": "code",
   "execution_count": 20,
   "id": "12451b90",
   "metadata": {},
   "outputs": [
    {
     "data": {
      "text/plain": [
       "(2213, 222)"
      ]
     },
     "execution_count": 20,
     "metadata": {},
     "output_type": "execute_result"
    }
   ],
   "source": [
    "df_train.shape"
   ]
  },
  {
   "cell_type": "code",
   "execution_count": 21,
   "id": "1235cdda",
   "metadata": {},
   "outputs": [
    {
     "data": {
      "text/plain": [
       "(552, 222)"
      ]
     },
     "execution_count": 21,
     "metadata": {},
     "output_type": "execute_result"
    }
   ],
   "source": [
    "df_test.shape"
   ]
  },
  {
   "cell_type": "code",
   "execution_count": 19,
   "id": "383581e8",
   "metadata": {},
   "outputs": [
    {
     "data": {
      "text/plain": [
       "0    0.6385\n",
       "1    0.3615\n",
       "Name: label, dtype: float64"
      ]
     },
     "execution_count": 19,
     "metadata": {},
     "output_type": "execute_result"
    }
   ],
   "source": [
    "df_train['label'].value_counts(normalize=True)"
   ]
  },
  {
   "cell_type": "code",
   "execution_count": 18,
   "id": "f52d1c7a",
   "metadata": {},
   "outputs": [
    {
     "data": {
      "text/plain": [
       "0    0.634058\n",
       "1    0.365942\n",
       "Name: label, dtype: float64"
      ]
     },
     "execution_count": 18,
     "metadata": {},
     "output_type": "execute_result"
    }
   ],
   "source": [
    "df_test['label'].value_counts(normalize=True)"
   ]
  },
  {
   "cell_type": "markdown",
   "id": "11af7e6a",
   "metadata": {},
   "source": [
    "# 4. EDA"
   ]
  },
  {
   "cell_type": "markdown",
   "id": "c26ed9fc",
   "metadata": {},
   "source": [
    "## 4.1 Looking into data"
   ]
  },
  {
   "cell_type": "code",
   "execution_count": 22,
   "id": "c0493468",
   "metadata": {},
   "outputs": [
    {
     "data": {
      "text/plain": [
       "float64    204\n",
       "int32       13\n",
       "int64        5\n",
       "dtype: int64"
      ]
     },
     "execution_count": 22,
     "metadata": {},
     "output_type": "execute_result"
    }
   ],
   "source": [
    "# we do not have categorical features, only int (count) and float\n",
    "df_train.dtypes.value_counts()"
   ]
  },
  {
   "cell_type": "code",
   "execution_count": 23,
   "id": "1de8e083",
   "metadata": {},
   "outputs": [
    {
     "name": "stderr",
     "output_type": "stream",
     "text": [
      "C:\\Tools\\anaconda3\\envs\\stress01\\lib\\site-packages\\numpy\\lib\\function_base.py:4486: RuntimeWarning: invalid value encountered in subtract\n",
      "  diff_b_a = subtract(b, a)\n",
      "C:\\Tools\\anaconda3\\envs\\stress01\\lib\\site-packages\\numpy\\lib\\function_base.py:4486: RuntimeWarning: invalid value encountered in subtract\n",
      "  diff_b_a = subtract(b, a)\n",
      "C:\\Tools\\anaconda3\\envs\\stress01\\lib\\site-packages\\numpy\\lib\\function_base.py:4486: RuntimeWarning: invalid value encountered in subtract\n",
      "  diff_b_a = subtract(b, a)\n",
      "C:\\Tools\\anaconda3\\envs\\stress01\\lib\\site-packages\\numpy\\lib\\function_base.py:4486: RuntimeWarning: invalid value encountered in subtract\n",
      "  diff_b_a = subtract(b, a)\n"
     ]
    },
    {
     "data": {
      "text/html": [
       "<div>\n",
       "<style scoped>\n",
       "    .dataframe tbody tr th:only-of-type {\n",
       "        vertical-align: middle;\n",
       "    }\n",
       "\n",
       "    .dataframe tbody tr th {\n",
       "        vertical-align: top;\n",
       "    }\n",
       "\n",
       "    .dataframe thead th {\n",
       "        text-align: right;\n",
       "    }\n",
       "</style>\n",
       "<table border=\"1\" class=\"dataframe\">\n",
       "  <thead>\n",
       "    <tr style=\"text-align: right;\">\n",
       "      <th></th>\n",
       "      <th>bvp_BVP_mean</th>\n",
       "      <th>bvp_BVP_std</th>\n",
       "      <th>bvp_BVP_min</th>\n",
       "      <th>bvp_BVP_max</th>\n",
       "      <th>bvp_BVP_ptp</th>\n",
       "      <th>bvp_BVP_sum</th>\n",
       "      <th>bvp_BVP_energy</th>\n",
       "      <th>bvp_BVP_skewness</th>\n",
       "      <th>bvp_BVP_kurtosis</th>\n",
       "      <th>bvp_BVP_peaks</th>\n",
       "      <th>...</th>\n",
       "      <th>temp_l2_n_sign_changes</th>\n",
       "      <th>temp_l2_iqr</th>\n",
       "      <th>temp_l2_iqr_5_95</th>\n",
       "      <th>temp_l2_pct_5</th>\n",
       "      <th>temp_l2_pct_95</th>\n",
       "      <th>temp_l2_entropy</th>\n",
       "      <th>temp_l2_perm_entropy</th>\n",
       "      <th>temp_l2_svd_entropy</th>\n",
       "      <th>subject</th>\n",
       "      <th>label</th>\n",
       "    </tr>\n",
       "  </thead>\n",
       "  <tbody>\n",
       "    <tr>\n",
       "      <th>count</th>\n",
       "      <td>2213.000000</td>\n",
       "      <td>2213.000000</td>\n",
       "      <td>2213.000000</td>\n",
       "      <td>2213.000000</td>\n",
       "      <td>2213.000000</td>\n",
       "      <td>2213.000000</td>\n",
       "      <td>2.213000e+03</td>\n",
       "      <td>2213.000000</td>\n",
       "      <td>2213.000000</td>\n",
       "      <td>2213.000000</td>\n",
       "      <td>...</td>\n",
       "      <td>2213.0</td>\n",
       "      <td>2213.000000</td>\n",
       "      <td>2213.000000</td>\n",
       "      <td>2213.000000</td>\n",
       "      <td>2213.000000</td>\n",
       "      <td>2213.000000</td>\n",
       "      <td>2213.000000</td>\n",
       "      <td>2213.000000</td>\n",
       "      <td>2213.000000</td>\n",
       "      <td>2213.000000</td>\n",
       "    </tr>\n",
       "    <tr>\n",
       "      <th>mean</th>\n",
       "      <td>0.065898</td>\n",
       "      <td>52.491254</td>\n",
       "      <td>-297.012503</td>\n",
       "      <td>267.730547</td>\n",
       "      <td>564.743050</td>\n",
       "      <td>60.119232</td>\n",
       "      <td>1.671780e+07</td>\n",
       "      <td>-0.429217</td>\n",
       "      <td>8.766843</td>\n",
       "      <td>125.206055</td>\n",
       "      <td>...</td>\n",
       "      <td>0.0</td>\n",
       "      <td>0.052746</td>\n",
       "      <td>0.103395</td>\n",
       "      <td>32.893762</td>\n",
       "      <td>32.997157</td>\n",
       "      <td>5.428066</td>\n",
       "      <td>0.730105</td>\n",
       "      <td>0.003381</td>\n",
       "      <td>9.467239</td>\n",
       "      <td>0.361500</td>\n",
       "    </tr>\n",
       "    <tr>\n",
       "      <th>std</th>\n",
       "      <td>2.112547</td>\n",
       "      <td>42.297807</td>\n",
       "      <td>252.941324</td>\n",
       "      <td>225.661887</td>\n",
       "      <td>459.450578</td>\n",
       "      <td>2134.374816</td>\n",
       "      <td>3.355718e+07</td>\n",
       "      <td>0.976006</td>\n",
       "      <td>12.518595</td>\n",
       "      <td>31.708195</td>\n",
       "      <td>...</td>\n",
       "      <td>0.0</td>\n",
       "      <td>0.054605</td>\n",
       "      <td>0.088293</td>\n",
       "      <td>1.459188</td>\n",
       "      <td>1.471113</td>\n",
       "      <td>0.271013</td>\n",
       "      <td>0.084469</td>\n",
       "      <td>0.001157</td>\n",
       "      <td>4.260657</td>\n",
       "      <td>0.480544</td>\n",
       "    </tr>\n",
       "    <tr>\n",
       "      <th>min</th>\n",
       "      <td>-8.031469</td>\n",
       "      <td>2.985483</td>\n",
       "      <td>-1617.860000</td>\n",
       "      <td>6.350000</td>\n",
       "      <td>14.860000</td>\n",
       "      <td>-12746.100000</td>\n",
       "      <td>5.776164e+03</td>\n",
       "      <td>-8.923326</td>\n",
       "      <td>-1.129112</td>\n",
       "      <td>6.000000</td>\n",
       "      <td>...</td>\n",
       "      <td>0.0</td>\n",
       "      <td>0.000000</td>\n",
       "      <td>0.010000</td>\n",
       "      <td>29.350000</td>\n",
       "      <td>29.430000</td>\n",
       "      <td>2.484907</td>\n",
       "      <td>0.286397</td>\n",
       "      <td>0.001383</td>\n",
       "      <td>3.000000</td>\n",
       "      <td>0.000000</td>\n",
       "    </tr>\n",
       "    <tr>\n",
       "      <th>25%</th>\n",
       "      <td>-0.120737</td>\n",
       "      <td>27.294612</td>\n",
       "      <td>-382.280000</td>\n",
       "      <td>115.320000</td>\n",
       "      <td>238.200000</td>\n",
       "      <td>-443.830000</td>\n",
       "      <td>2.697575e+06</td>\n",
       "      <td>-0.739812</td>\n",
       "      <td>2.080863</td>\n",
       "      <td>111.000000</td>\n",
       "      <td>...</td>\n",
       "      <td>0.0</td>\n",
       "      <td>0.020000</td>\n",
       "      <td>0.050000</td>\n",
       "      <td>32.249000</td>\n",
       "      <td>32.291000</td>\n",
       "      <td>5.480638</td>\n",
       "      <td>0.673947</td>\n",
       "      <td>0.003001</td>\n",
       "      <td>6.000000</td>\n",
       "      <td>0.000000</td>\n",
       "    </tr>\n",
       "    <tr>\n",
       "      <th>50%</th>\n",
       "      <td>-0.000122</td>\n",
       "      <td>39.260683</td>\n",
       "      <td>-224.110000</td>\n",
       "      <td>212.850000</td>\n",
       "      <td>435.900000</td>\n",
       "      <td>-0.470000</td>\n",
       "      <td>5.849316e+06</td>\n",
       "      <td>-0.378886</td>\n",
       "      <td>4.990000</td>\n",
       "      <td>124.000000</td>\n",
       "      <td>...</td>\n",
       "      <td>0.0</td>\n",
       "      <td>0.040000</td>\n",
       "      <td>0.080000</td>\n",
       "      <td>33.070000</td>\n",
       "      <td>33.150000</td>\n",
       "      <td>5.480639</td>\n",
       "      <td>0.743334</td>\n",
       "      <td>0.003252</td>\n",
       "      <td>10.000000</td>\n",
       "      <td>0.000000</td>\n",
       "    </tr>\n",
       "    <tr>\n",
       "      <th>75%</th>\n",
       "      <td>0.124318</td>\n",
       "      <td>64.733161</td>\n",
       "      <td>-115.160000</td>\n",
       "      <td>339.800000</td>\n",
       "      <td>739.430000</td>\n",
       "      <td>451.850000</td>\n",
       "      <td>1.574123e+07</td>\n",
       "      <td>0.054329</td>\n",
       "      <td>10.338357</td>\n",
       "      <td>142.000000</td>\n",
       "      <td>...</td>\n",
       "      <td>0.0</td>\n",
       "      <td>0.060000</td>\n",
       "      <td>0.120000</td>\n",
       "      <td>33.970000</td>\n",
       "      <td>34.090000</td>\n",
       "      <td>5.480639</td>\n",
       "      <td>0.795881</td>\n",
       "      <td>0.003552</td>\n",
       "      <td>14.000000</td>\n",
       "      <td>1.000000</td>\n",
       "    </tr>\n",
       "    <tr>\n",
       "      <th>max</th>\n",
       "      <td>90.985016</td>\n",
       "      <td>307.465280</td>\n",
       "      <td>-8.510000</td>\n",
       "      <td>1789.000000</td>\n",
       "      <td>3406.860000</td>\n",
       "      <td>29024.220000</td>\n",
       "      <td>3.630259e+08</td>\n",
       "      <td>4.361864</td>\n",
       "      <td>138.047003</td>\n",
       "      <td>271.000000</td>\n",
       "      <td>...</td>\n",
       "      <td>0.0</td>\n",
       "      <td>0.407500</td>\n",
       "      <td>0.700000</td>\n",
       "      <td>35.610000</td>\n",
       "      <td>35.680000</td>\n",
       "      <td>5.480639</td>\n",
       "      <td>0.973835</td>\n",
       "      <td>0.028596</td>\n",
       "      <td>16.000000</td>\n",
       "      <td>1.000000</td>\n",
       "    </tr>\n",
       "  </tbody>\n",
       "</table>\n",
       "<p>8 rows × 222 columns</p>\n",
       "</div>"
      ],
      "text/plain": [
       "       bvp_BVP_mean  bvp_BVP_std  bvp_BVP_min  bvp_BVP_max  bvp_BVP_ptp  \\\n",
       "count   2213.000000  2213.000000  2213.000000  2213.000000  2213.000000   \n",
       "mean       0.065898    52.491254  -297.012503   267.730547   564.743050   \n",
       "std        2.112547    42.297807   252.941324   225.661887   459.450578   \n",
       "min       -8.031469     2.985483 -1617.860000     6.350000    14.860000   \n",
       "25%       -0.120737    27.294612  -382.280000   115.320000   238.200000   \n",
       "50%       -0.000122    39.260683  -224.110000   212.850000   435.900000   \n",
       "75%        0.124318    64.733161  -115.160000   339.800000   739.430000   \n",
       "max       90.985016   307.465280    -8.510000  1789.000000  3406.860000   \n",
       "\n",
       "        bvp_BVP_sum  bvp_BVP_energy  bvp_BVP_skewness  bvp_BVP_kurtosis  \\\n",
       "count   2213.000000    2.213000e+03       2213.000000       2213.000000   \n",
       "mean      60.119232    1.671780e+07         -0.429217          8.766843   \n",
       "std     2134.374816    3.355718e+07          0.976006         12.518595   \n",
       "min   -12746.100000    5.776164e+03         -8.923326         -1.129112   \n",
       "25%     -443.830000    2.697575e+06         -0.739812          2.080863   \n",
       "50%       -0.470000    5.849316e+06         -0.378886          4.990000   \n",
       "75%      451.850000    1.574123e+07          0.054329         10.338357   \n",
       "max    29024.220000    3.630259e+08          4.361864        138.047003   \n",
       "\n",
       "       bvp_BVP_peaks  ...  temp_l2_n_sign_changes  temp_l2_iqr  \\\n",
       "count    2213.000000  ...                  2213.0  2213.000000   \n",
       "mean      125.206055  ...                     0.0     0.052746   \n",
       "std        31.708195  ...                     0.0     0.054605   \n",
       "min         6.000000  ...                     0.0     0.000000   \n",
       "25%       111.000000  ...                     0.0     0.020000   \n",
       "50%       124.000000  ...                     0.0     0.040000   \n",
       "75%       142.000000  ...                     0.0     0.060000   \n",
       "max       271.000000  ...                     0.0     0.407500   \n",
       "\n",
       "       temp_l2_iqr_5_95  temp_l2_pct_5  temp_l2_pct_95  temp_l2_entropy  \\\n",
       "count       2213.000000    2213.000000     2213.000000      2213.000000   \n",
       "mean           0.103395      32.893762       32.997157         5.428066   \n",
       "std            0.088293       1.459188        1.471113         0.271013   \n",
       "min            0.010000      29.350000       29.430000         2.484907   \n",
       "25%            0.050000      32.249000       32.291000         5.480638   \n",
       "50%            0.080000      33.070000       33.150000         5.480639   \n",
       "75%            0.120000      33.970000       34.090000         5.480639   \n",
       "max            0.700000      35.610000       35.680000         5.480639   \n",
       "\n",
       "       temp_l2_perm_entropy  temp_l2_svd_entropy      subject        label  \n",
       "count           2213.000000          2213.000000  2213.000000  2213.000000  \n",
       "mean               0.730105             0.003381     9.467239     0.361500  \n",
       "std                0.084469             0.001157     4.260657     0.480544  \n",
       "min                0.286397             0.001383     3.000000     0.000000  \n",
       "25%                0.673947             0.003001     6.000000     0.000000  \n",
       "50%                0.743334             0.003252    10.000000     0.000000  \n",
       "75%                0.795881             0.003552    14.000000     1.000000  \n",
       "max                0.973835             0.028596    16.000000     1.000000  \n",
       "\n",
       "[8 rows x 222 columns]"
      ]
     },
     "execution_count": 23,
     "metadata": {},
     "output_type": "execute_result"
    }
   ],
   "source": [
    "df_train.describe()"
   ]
  },
  {
   "cell_type": "code",
   "execution_count": 24,
   "id": "905f3e06",
   "metadata": {},
   "outputs": [],
   "source": [
    "# remove rows with only one value for each row\n",
    "#overall_length = len(df_train)\n",
    "columns = df_train.columns.tolist()\n",
    "constant_columns = []\n",
    "\n",
    "for c in columns:\n",
    "    unique_in_column = len(df_train[c].unique())\n",
    "    \n",
    "    #if unique_in_column/overall_length < 0.1 and c != 'label' and c != 'subject':\n",
    "    if unique_in_column == 1:\n",
    "        constant_columns.append(c)"
   ]
  },
  {
   "cell_type": "code",
   "execution_count": 25,
   "id": "c7ae3490",
   "metadata": {},
   "outputs": [
    {
     "data": {
      "text/plain": [
       "['bvp_BVP_entropy',\n",
       " 'acc_l2_n_sign_changes',\n",
       " 'eda_EDA_n_sign_changes',\n",
       " 'eda_l2_n_sign_changes',\n",
       " 'temp_TEMP_peaks',\n",
       " 'temp_TEMP_n_sign_changes',\n",
       " 'temp_l2_peaks',\n",
       " 'temp_l2_n_sign_changes']"
      ]
     },
     "execution_count": 25,
     "metadata": {},
     "output_type": "execute_result"
    }
   ],
   "source": [
    "constant_columns"
   ]
  },
  {
   "cell_type": "code",
   "execution_count": 26,
   "id": "c1a6f2f3",
   "metadata": {},
   "outputs": [
    {
     "name": "stderr",
     "output_type": "stream",
     "text": [
      "C:\\Tools\\anaconda3\\envs\\stress01\\lib\\site-packages\\numpy\\lib\\function_base.py:4486: RuntimeWarning: invalid value encountered in subtract\n",
      "  diff_b_a = subtract(b, a)\n",
      "C:\\Tools\\anaconda3\\envs\\stress01\\lib\\site-packages\\numpy\\lib\\function_base.py:4486: RuntimeWarning: invalid value encountered in subtract\n",
      "  diff_b_a = subtract(b, a)\n",
      "C:\\Tools\\anaconda3\\envs\\stress01\\lib\\site-packages\\numpy\\lib\\function_base.py:4486: RuntimeWarning: invalid value encountered in subtract\n",
      "  diff_b_a = subtract(b, a)\n",
      "C:\\Tools\\anaconda3\\envs\\stress01\\lib\\site-packages\\numpy\\lib\\function_base.py:4486: RuntimeWarning: invalid value encountered in subtract\n",
      "  diff_b_a = subtract(b, a)\n",
      "C:\\Tools\\anaconda3\\envs\\stress01\\lib\\site-packages\\numpy\\lib\\function_base.py:4486: RuntimeWarning: invalid value encountered in subtract\n",
      "  diff_b_a = subtract(b, a)\n",
      "C:\\Tools\\anaconda3\\envs\\stress01\\lib\\site-packages\\numpy\\lib\\function_base.py:4486: RuntimeWarning: invalid value encountered in subtract\n",
      "  diff_b_a = subtract(b, a)\n",
      "C:\\Tools\\anaconda3\\envs\\stress01\\lib\\site-packages\\numpy\\lib\\function_base.py:4486: RuntimeWarning: invalid value encountered in subtract\n",
      "  diff_b_a = subtract(b, a)\n",
      "C:\\Tools\\anaconda3\\envs\\stress01\\lib\\site-packages\\numpy\\lib\\function_base.py:4486: RuntimeWarning: invalid value encountered in subtract\n",
      "  diff_b_a = subtract(b, a)\n"
     ]
    }
   ],
   "source": [
    "# remove rows where we cannot calculate sandard deviation of the column\n",
    "\n",
    "df_desc = df_train.describe()\n",
    "columns_describe = df_train.describe().columns.tolist()\n",
    "no_std_columns = []\n",
    "\n",
    "for c in columns:\n",
    "    std = df_desc[c]['std']\n",
    "\n",
    "    #if unique_in_column/overall_length < 0.1 and c != 'label' and c != 'subject':\n",
    "    if np.isnan(std):\n",
    "        no_std_columns.append(c)"
   ]
  },
  {
   "cell_type": "code",
   "execution_count": 27,
   "id": "618bb577",
   "metadata": {},
   "outputs": [
    {
     "data": {
      "text/plain": [
       "['bvp_BVP_entropy', 'acc_x_entropy', 'acc_y_entropy', 'acc_z_entropy']"
      ]
     },
     "execution_count": 27,
     "metadata": {},
     "output_type": "execute_result"
    }
   ],
   "source": [
    "no_std_columns"
   ]
  },
  {
   "cell_type": "code",
   "execution_count": 28,
   "id": "75bbf76c",
   "metadata": {},
   "outputs": [],
   "source": [
    "columns_to_drop = list((set(constant_columns).union(set(no_std_columns))))"
   ]
  },
  {
   "cell_type": "code",
   "execution_count": 29,
   "id": "304970b1",
   "metadata": {},
   "outputs": [
    {
     "data": {
      "text/plain": [
       "['eda_EDA_n_sign_changes',\n",
       " 'temp_TEMP_peaks',\n",
       " 'acc_y_entropy',\n",
       " 'acc_l2_n_sign_changes',\n",
       " 'acc_x_entropy',\n",
       " 'acc_z_entropy',\n",
       " 'temp_l2_n_sign_changes',\n",
       " 'bvp_BVP_entropy',\n",
       " 'temp_TEMP_n_sign_changes',\n",
       " 'temp_l2_peaks',\n",
       " 'eda_l2_n_sign_changes']"
      ]
     },
     "execution_count": 29,
     "metadata": {},
     "output_type": "execute_result"
    }
   ],
   "source": [
    "columns_to_drop"
   ]
  },
  {
   "cell_type": "code",
   "execution_count": 30,
   "id": "733a6aac",
   "metadata": {},
   "outputs": [],
   "source": [
    "df_train = df_train.drop(columns=columns_to_drop)"
   ]
  },
  {
   "cell_type": "markdown",
   "id": "25dce44f",
   "metadata": {},
   "source": [
    "## 4.2 Correlations"
   ]
  },
  {
   "cell_type": "code",
   "execution_count": null,
   "id": "e8b70a4a",
   "metadata": {},
   "outputs": [],
   "source": [
    "plt.figure(figsize=(35, 35))\n",
    "corr = df_train.corr(method='spearman')\n",
    "heatmap = sns.heatmap(corr.sort_values(by='label', ascending=False),\n",
    "                      vmin=-1, vmax=1, annot=True, fmt='.1g', cmap='BrBG')\n",
    "heatmap.set_title('Features correlating with stress label', fontdict={'fontsize':15}, pad=16);"
   ]
  },
  {
   "cell_type": "markdown",
   "id": "5295b321",
   "metadata": {},
   "source": [
    "The image is really large, so we load a screenshot here\n",
    "![alt text](eda-wesad-acc-bvp-eda-temp.jpg)"
   ]
  },
  {
   "cell_type": "markdown",
   "id": "bbb84a10",
   "metadata": {},
   "source": [
    "# 5. Documenting data lineage\n",
    "\n",
    "The dataset contains\n",
    "* BVP (blood volume pulse) sensor data in 64hz\n",
    "* ACC: accelerometer data (x, y, z values) in 32hz\n",
    "* EDA (electrodermal activity) in 4hz\n",
    "* TEMP (temperature) in 4hz\n",
    "\n",
    "The dataset is labeled (stress/no stress).\n",
    "\n",
    "Script ```01-extract-data-from-wesad-dataset``` downloads the wesad study dataset. It unzips all included files. The raw data is stored in a pickle file provided from the researchers publishing the dataset. We load it from there, as well as the labels (stress/no stress). The results of the extraction are stored as a parquet file.\n",
    "\n",
    "In script ```02-calculate-features```, we calculate features with the FLIRT library (https://flirt.readthedocs.io/en/latest/). In this notebook you're currently reading, we perform EDA. In the following steps, we might want to go back to feature calculation and calculate other/more features."
   ]
  },
  {
   "cell_type": "markdown",
   "id": "07c19870",
   "metadata": {},
   "source": [
    "# 6. Observations from EDA\n",
    "\n",
    "### Looking into the dataset\n",
    "* Given the windows size and step size, we have 2765 rows and 264 features.\n",
    "* We could also calculate feature via tsfresh and/or TSFEL; and we could try different parameters for window_length and window_step_size when using FLIRT.\n",
    "* There are no missing values.\n",
    "* We have 64% of negative cases (no stress) and 36% of positive cases (stress) in our data - we have to account for this when building and evaluating the model, e.g., by using appropriate evaluation metrics for imbalanced data.\n",
    "* We do not have categorical variables, only numerical (count and float).\n",
    "\n",
    "* There are a some columns that we drop, because they either have have the same value for each row, or it is impossible to calculate the standard deviation on them:\n",
    "    * eda_EDA_n_sign_changes\n",
    "    * temp_TEMP_peaks\n",
    "    * acc_y_entropy\n",
    "    * acc_l2_n_sign_changes\n",
    "    * acc_x_entropy\n",
    "    * acc_z_entropy\n",
    "    * temp_l2_n_sign_changes\n",
    "    * bvp_BVP_entropy\n",
    "    * temp_TEMP_n_sign_changes\n",
    "    * temp_l2_peaks\n",
    "    * eda_l2_n_sign_changes\n",
    "* The ranges of the values are quite far from each other - we should normalize/standardize.\n",
    "\n",
    "### Correlations\n",
    "* There are several correlated features. Because of the amount of features, we should apply an automated method for deciding which features to keep."
   ]
  }
 ],
 "metadata": {
  "kernelspec": {
   "display_name": "Python (stress01)",
   "language": "python",
   "name": "stress01"
  },
  "language_info": {
   "codemirror_mode": {
    "name": "ipython",
    "version": 3
   },
   "file_extension": ".py",
   "mimetype": "text/x-python",
   "name": "python",
   "nbconvert_exporter": "python",
   "pygments_lexer": "ipython3",
   "version": "3.10.8"
  },
  "vscode": {
   "interpreter": {
    "hash": "7faeafcdb7b1476f711d2dd1a59a238cf05b963035646615ec88d1898d9d931a"
   }
  }
 },
 "nbformat": 4,
 "nbformat_minor": 5
}
