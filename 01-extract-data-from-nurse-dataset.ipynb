{
 "cells": [
  {
   "cell_type": "code",
   "execution_count": 1,
   "id": "dd1a8f42",
   "metadata": {},
   "outputs": [],
   "source": [
    "import numpy as np\n",
    "import pandas as pd\n",
    "import pickle\n",
    "from scipy import signal\n",
    "import os\n",
    "import devicely\n",
    "import zipfile\n",
    "import re\n",
    "import urllib.request\n",
    "import openpyxl"
   ]
  },
  {
   "cell_type": "markdown",
   "id": "6b733f28",
   "metadata": {},
   "source": [
    "# 1. Download nurses dataset\n",
    "Download the dataset and extract it. The website is: https://datadryad.org/stash/dataset/doi:10.5061/dryad.5hqbzkh6f"
   ]
  },
  {
   "cell_type": "code",
   "execution_count": 15,
   "id": "73581408",
   "metadata": {},
   "outputs": [
    {
     "name": "stdout",
     "output_type": "stream",
     "text": [
      "Wall time: 0 ns\n"
     ]
    }
   ],
   "source": [
    "%%time\n",
    "\n",
    "# download if not already available\n",
    "filename = 'doi_10.5061_dryad.5hqbzkh6f__v6.zip'\n",
    "if not os.path.isfile(filename):\n",
    "    print('downloading')\n",
    "    urllib.request.urlretrieve('http://datadryad.org/api/v2/datasets/doi%253A10.5061%252Fdryad.5hqbzkh6f/download',\n",
    "                               filename)"
   ]
  },
  {
   "cell_type": "code",
   "execution_count": 4,
   "id": "5b14b61a",
   "metadata": {},
   "outputs": [
    {
     "name": "stdout",
     "output_type": "stream",
     "text": [
      "Wall time: 0 ns\n"
     ]
    }
   ],
   "source": [
    "%%time\n",
    "\n",
    "# exctract if folder is not present\n",
    "toFolder = 'doi_10.5061_dryad.5hqbzkh6f__v6'\n",
    "if not os.path.isdir(toFolder):\n",
    "    print('extracting')\n",
    "    with zipfile.ZipFile(filename, 'r') as zfile:\n",
    "        zfile.extractall(path=toFolder)"
   ]
  },
  {
   "cell_type": "markdown",
   "id": "8b4d55d6",
   "metadata": {},
   "source": [
    "# 2. Settings and extracting data"
   ]
  },
  {
   "cell_type": "code",
   "execution_count": 5,
   "id": "465f7344",
   "metadata": {},
   "outputs": [],
   "source": [
    "# supress warning that is not relevant for the code here\n",
    "pd.options.mode.chained_assignment = None"
   ]
  },
  {
   "cell_type": "code",
   "execution_count": 6,
   "id": "ecfed489",
   "metadata": {},
   "outputs": [],
   "source": [
    "# constant for time that need to be shifted for ACC data\n",
    "cst = pd.Timedelta(hours=-6)"
   ]
  },
  {
   "cell_type": "code",
   "execution_count": 10,
   "id": "ade1f339",
   "metadata": {},
   "outputs": [],
   "source": [
    "# function for extracting all data from the nurse dataset\n",
    "def extract_nested_zip(zippedFile, toFolder):\n",
    "    \"\"\" Extract a zip file including any nested zip files\n",
    "        Delete the zip file(s) after extraction\n",
    "    \"\"\"\n",
    "    with zipfile.ZipFile(zippedFile, 'r') as zfile:\n",
    "        zfile.extractall(path=toFolder)\n",
    "    os.remove(zippedFile)\n",
    "    for root, dirs, files in os.walk(toFolder):\n",
    "        for filename in files:\n",
    "            if re.search(r'\\.zip$', filename):\n",
    "                zip_file = root+'/'+filename\n",
    "                folder_name = zip_file[:-4]\n",
    "                extract_nested_zip(zip_file, folder_name)"
   ]
  },
  {
   "cell_type": "code",
   "execution_count": 11,
   "id": "afbe714e",
   "metadata": {},
   "outputs": [
    {
     "name": "stdout",
     "output_type": "stream",
     "text": [
      "Wall time: 1.01 ms\n"
     ]
    }
   ],
   "source": [
    "%%time\n",
    "\n",
    "# unzip all folders\n",
    "extract_folder = 'doi_10.5061_dryad.5hqbzkh6f__v6/Stress_dataset/'\n",
    "\n",
    "if not os.path.isdir(extract_folder):\n",
    "    os.makedirs(extract_folder)\n",
    "\n",
    "file_to_extract = 'doi_10.5061_dryad.5hqbzkh6f__v6/Stress_dataset.zip'\n",
    "\n",
    "if os.path.isfile(file_to_extract):\n",
    "    extract_nested_zip(file_to_extract, extract_folder)"
   ]
  },
  {
   "cell_type": "markdown",
   "id": "51feddd3",
   "metadata": {},
   "source": [
    "# 3. Extract all data from nurses dataset"
   ]
  },
  {
   "cell_type": "code",
   "execution_count": 12,
   "id": "985e7dba",
   "metadata": {},
   "outputs": [],
   "source": [
    "# read survey excel file with labels\n",
    "survey = pd.read_excel('doi_10.5061_dryad.5hqbzkh6f__v6/SurveyResults.xlsx',\n",
    "                parse_dates=[['date', 'Start time'], ['date', 'End time']],\n",
    "                dtype={'ID':str, 'Stress level':str})\n",
    "survey = survey[['ID', 'date_Start time', 'date_End time', 'Stress level']]\n",
    "survey = survey[survey['Stress level'] != 'na']\n",
    "survey = survey[survey['Stress level'] != '1']\n",
    "survey['Stress level'] = survey['Stress level'].replace({'2': '1'})\n",
    "survey = survey.astype({'Stress level': int})\n",
    "survey = survey.rename(columns={'ID':'subject', 'date_Start time':'dateStart', 'date_End time':'dateEnd', 'Stress level':'label'})"
   ]
  },
  {
   "cell_type": "code",
   "execution_count": 294,
   "id": "608d9ea9",
   "metadata": {},
   "outputs": [],
   "source": [
    "# function for getting a labeled dataframe from a subject's folder\n",
    "# utilized the survey df\n",
    "def get_df_from_folder(subject, folder):\n",
    "    empatica_reader = devicely.EmpaticaReader(folder)\n",
    "    empatica_reader.timeshift(cst)\n",
    "    df = empatica_reader.data\n",
    "    df = df[['ACC_X', 'ACC_Y', 'ACC_Z']]\n",
    "    df = df.rename(columns={'ACC_X':'x', 'ACC_Y':'y', 'ACC_Z':'z'})\n",
    "    df = df.dropna()\n",
    "    df['label'] = np.nan\n",
    "    df['subject'] = subject\n",
    "\n",
    "    # get subject-df with all labels\n",
    "    subject_labels_df = survey[survey['subject'] == subject]\n",
    "\n",
    "    subject_df_list = []\n",
    "\n",
    "    # iterate over each line of the subject-df and set labels in df\n",
    "    for index, row in subject_labels_df.iterrows():\n",
    "        start = row['dateStart']\n",
    "        end = row['dateEnd']\n",
    "        label = row['label']\n",
    "        relevant_df = df.loc[start:end]\n",
    "        relevant_df['label'] = label\n",
    "        subject_df_list.append(relevant_df)\n",
    "        \n",
    "    subject_df = pd.concat(subject_df_list)\n",
    "    return subject_df"
   ]
  },
  {
   "cell_type": "code",
   "execution_count": 295,
   "id": "64e10b03",
   "metadata": {},
   "outputs": [
    {
     "name": "stdout",
     "output_type": "stream",
     "text": [
      "Not reading tags because the file doi_10.5061_dryad.5hqbzkh6f__v6/Stress_dataset/15/15_1594140175\\tags.csv is empty.\n",
      "Not reading tags because the file doi_10.5061_dryad.5hqbzkh6f__v6/Stress_dataset/15/15_1594149654\\tags.csv is empty.\n",
      "Not reading tags because the file doi_10.5061_dryad.5hqbzkh6f__v6/Stress_dataset/15/15_1594213322\\tags.csv is empty.\n",
      "Not reading tags because the file doi_10.5061_dryad.5hqbzkh6f__v6/Stress_dataset/15/15_1594220239\\tags.csv is empty.\n",
      "Not reading tags because the file doi_10.5061_dryad.5hqbzkh6f__v6/Stress_dataset/15/15_1594238057\\tags.csv is empty.\n",
      "Not reading tags because the file doi_10.5061_dryad.5hqbzkh6f__v6/Stress_dataset/15/15_1594298975\\tags.csv is empty.\n",
      "Not reading tags because the file doi_10.5061_dryad.5hqbzkh6f__v6/Stress_dataset/15/15_1594311202\\tags.csv is empty.\n",
      "Not reading tags because the file doi_10.5061_dryad.5hqbzkh6f__v6/Stress_dataset/15/15_1594325201\\tags.csv is empty.\n",
      "Not reading tags because the file doi_10.5061_dryad.5hqbzkh6f__v6/Stress_dataset/15/15_1594378283\\tags.csv is empty.\n",
      "Not reading tags because the file doi_10.5061_dryad.5hqbzkh6f__v6/Stress_dataset/15/15_1594380033\\tags.csv is empty.\n",
      "Not reading tags because the file doi_10.5061_dryad.5hqbzkh6f__v6/Stress_dataset/15/15_1595334888\\tags.csv is empty.\n",
      "Not reading tags because the file doi_10.5061_dryad.5hqbzkh6f__v6/Stress_dataset/15/15_1595347920\\tags.csv is empty.\n",
      "Not reading tags because the file doi_10.5061_dryad.5hqbzkh6f__v6/Stress_dataset/15/15_1595360012\\tags.csv is empty.\n",
      "Not reading tags because the file doi_10.5061_dryad.5hqbzkh6f__v6/Stress_dataset/15/15_1595425036\\tags.csv is empty.\n",
      "Not reading tags because the file doi_10.5061_dryad.5hqbzkh6f__v6/Stress_dataset/15/15_1595433234\\tags.csv is empty.\n"
     ]
    },
    {
     "name": "stderr",
     "output_type": "stream",
     "text": [
      "c:\\Tools\\anaconda3\\envs\\base2\\lib\\site-packages\\devicely\\empatica.py:187: FutureWarning: The squeeze argument has been deprecated and will be removed in a future version. Append .squeeze(\"columns\") to the call to squeeze.\n",
      "\n",
      "\n",
      "  return pd.read_csv(path, header=None,\n"
     ]
    },
    {
     "name": "stdout",
     "output_type": "stream",
     "text": [
      "Not reading tags because the file doi_10.5061_dryad.5hqbzkh6f__v6/Stress_dataset/15/15_1595592772\\tags.csv is empty.\n",
      "Not reading tags because the file doi_10.5061_dryad.5hqbzkh6f__v6/Stress_dataset/15/15_1595600598\\tags.csv is empty.\n",
      "Not reading tags because the file doi_10.5061_dryad.5hqbzkh6f__v6/Stress_dataset/15/15_1595604812\\tags.csv is empty.\n",
      "Not reading tags because the file doi_10.5061_dryad.5hqbzkh6f__v6/Stress_dataset/15/15_1595608145\\tags.csv is empty.\n",
      "Not reading tags because the file doi_10.5061_dryad.5hqbzkh6f__v6/Stress_dataset/15/15_1595854651\\tags.csv is empty.\n",
      "Not reading tags because the file doi_10.5061_dryad.5hqbzkh6f__v6/Stress_dataset/15/15_1595857850\\tags.csv is empty.\n",
      "Not reading signal because the file doi_10.5061_dryad.5hqbzkh6f__v6/Stress_dataset/15/15_1595862148\\IBI.csv is empty.\n",
      "Not reading tags because the file doi_10.5061_dryad.5hqbzkh6f__v6/Stress_dataset/15/15_1595862148\\tags.csv is empty.\n",
      "Not reading signal because the file doi_10.5061_dryad.5hqbzkh6f__v6/Stress_dataset/15/15_1595866250\\IBI.csv is empty.\n",
      "Not reading tags because the file doi_10.5061_dryad.5hqbzkh6f__v6/Stress_dataset/15/15_1595866250\\tags.csv is empty.\n",
      "Not reading signal because the file doi_10.5061_dryad.5hqbzkh6f__v6/Stress_dataset/15/15_1595869772\\IBI.csv is empty.\n",
      "Not reading tags because the file doi_10.5061_dryad.5hqbzkh6f__v6/Stress_dataset/15/15_1595869772\\tags.csv is empty.\n",
      "Not reading tags because the file doi_10.5061_dryad.5hqbzkh6f__v6/Stress_dataset/15/15_1595871983\\tags.csv is empty.\n",
      "Not reading tags because the file doi_10.5061_dryad.5hqbzkh6f__v6/Stress_dataset/15/15_1595940277\\tags.csv is empty.\n",
      "Not reading tags because the file doi_10.5061_dryad.5hqbzkh6f__v6/Stress_dataset/15/15_1595947283\\tags.csv is empty.\n",
      "Not reading tags because the file doi_10.5061_dryad.5hqbzkh6f__v6/Stress_dataset/15/15_1595953571\\tags.csv is empty.\n",
      "Not reading signal because the file doi_10.5061_dryad.5hqbzkh6f__v6/Stress_dataset/15/15_1595970459\\IBI.csv is empty.\n",
      "Not reading tags because the file doi_10.5061_dryad.5hqbzkh6f__v6/Stress_dataset/15/15_1595970459\\tags.csv is empty.\n",
      "Not reading tags because the file doi_10.5061_dryad.5hqbzkh6f__v6/Stress_dataset/15/15_1596027852\\tags.csv is empty.\n",
      "Not reading tags because the file doi_10.5061_dryad.5hqbzkh6f__v6/Stress_dataset/15/15_1596037241\\tags.csv is empty.\n",
      "Not reading tags because the file doi_10.5061_dryad.5hqbzkh6f__v6/Stress_dataset/15/15_1596204744\\tags.csv is empty.\n",
      "Not reading signal because the file doi_10.5061_dryad.5hqbzkh6f__v6/Stress_dataset/15/15_1596219716\\IBI.csv is empty.\n",
      "Not reading tags because the file doi_10.5061_dryad.5hqbzkh6f__v6/Stress_dataset/15/15_1596219716\\tags.csv is empty.\n",
      "Not reading tags because the file doi_10.5061_dryad.5hqbzkh6f__v6/Stress_dataset/15/15_1596222922\\tags.csv is empty.\n",
      "Not reading tags because the file doi_10.5061_dryad.5hqbzkh6f__v6/Stress_dataset/15/15_1596546369\\tags.csv is empty.\n",
      "Not reading tags because the file doi_10.5061_dryad.5hqbzkh6f__v6/Stress_dataset/15/15_1596547439\\tags.csv is empty.\n",
      "Not reading tags because the file doi_10.5061_dryad.5hqbzkh6f__v6/Stress_dataset/15/15_1596551659\\tags.csv is empty.\n",
      "Not reading tags because the file doi_10.5061_dryad.5hqbzkh6f__v6/Stress_dataset/15/15_1596564517\\tags.csv is empty.\n",
      "Not reading signal because the file doi_10.5061_dryad.5hqbzkh6f__v6/Stress_dataset/15/15_1596634348\\IBI.csv is empty.\n",
      "Not reading tags because the file doi_10.5061_dryad.5hqbzkh6f__v6/Stress_dataset/15/15_1596634348\\tags.csv is empty.\n",
      "Not reading tags because the file doi_10.5061_dryad.5hqbzkh6f__v6/Stress_dataset/15/15_1596636683\\tags.csv is empty.\n",
      "Not reading tags because the file doi_10.5061_dryad.5hqbzkh6f__v6/Stress_dataset/15/15_1596648020\\tags.csv is empty.\n",
      "Not reading tags because the file doi_10.5061_dryad.5hqbzkh6f__v6/Stress_dataset/15/15_1596653112\\tags.csv is empty.\n",
      "Not reading signal because the file doi_10.5061_dryad.5hqbzkh6f__v6/Stress_dataset/5C/5C_1586886626\\IBI.csv is empty.\n",
      "Not reading tags because the file doi_10.5061_dryad.5hqbzkh6f__v6/Stress_dataset/5C/5C_1586886626\\tags.csv is empty.\n"
     ]
    },
    {
     "name": "stderr",
     "output_type": "stream",
     "text": [
      "c:\\Tools\\anaconda3\\envs\\base2\\lib\\site-packages\\devicely\\empatica.py:187: FutureWarning: The squeeze argument has been deprecated and will be removed in a future version. Append .squeeze(\"columns\") to the call to squeeze.\n",
      "\n",
      "\n",
      "  return pd.read_csv(path, header=None,\n"
     ]
    },
    {
     "name": "stdout",
     "output_type": "stream",
     "text": [
      "Not reading tags because the file doi_10.5061_dryad.5hqbzkh6f__v6/Stress_dataset/5C/5C_1587297777\\tags.csv is empty.\n",
      "Not reading tags because the file doi_10.5061_dryad.5hqbzkh6f__v6/Stress_dataset/5C/5C_1587336033\\tags.csv is empty.\n",
      "Not reading signal because the file doi_10.5061_dryad.5hqbzkh6f__v6/Stress_dataset/5C/5C_1587338580\\IBI.csv is empty.\n",
      "Not reading tags because the file doi_10.5061_dryad.5hqbzkh6f__v6/Stress_dataset/5C/5C_1587338580\\tags.csv is empty.\n",
      "Not reading tags because the file doi_10.5061_dryad.5hqbzkh6f__v6/Stress_dataset/5C/5C_1587569014\\tags.csv is empty.\n",
      "Not reading signal because the file doi_10.5061_dryad.5hqbzkh6f__v6/Stress_dataset/5C/5C_1587593082\\IBI.csv is empty.\n",
      "Not reading tags because the file doi_10.5061_dryad.5hqbzkh6f__v6/Stress_dataset/5C/5C_1587593082\\tags.csv is empty.\n",
      "Not reading tags because the file doi_10.5061_dryad.5hqbzkh6f__v6/Stress_dataset/5C/5C_1587593875\\tags.csv is empty.\n",
      "Not reading signal because the file doi_10.5061_dryad.5hqbzkh6f__v6/Stress_dataset/5C/5C_1587649438\\IBI.csv is empty.\n",
      "Not reading tags because the file doi_10.5061_dryad.5hqbzkh6f__v6/Stress_dataset/5C/5C_1587649438\\tags.csv is empty.\n",
      "Not reading tags because the file doi_10.5061_dryad.5hqbzkh6f__v6/Stress_dataset/5C/5C_1587661745\\tags.csv is empty.\n",
      "Not reading tags because the file doi_10.5061_dryad.5hqbzkh6f__v6/Stress_dataset/5C/5C_1587674047\\tags.csv is empty.\n"
     ]
    },
    {
     "name": "stderr",
     "output_type": "stream",
     "text": [
      "c:\\Tools\\anaconda3\\envs\\base2\\lib\\site-packages\\devicely\\empatica.py:187: FutureWarning: The squeeze argument has been deprecated and will be removed in a future version. Append .squeeze(\"columns\") to the call to squeeze.\n",
      "\n",
      "\n",
      "  return pd.read_csv(path, header=None,\n",
      "c:\\Tools\\anaconda3\\envs\\base2\\lib\\site-packages\\devicely\\empatica.py:187: FutureWarning: The squeeze argument has been deprecated and will be removed in a future version. Append .squeeze(\"columns\") to the call to squeeze.\n",
      "\n",
      "\n",
      "  return pd.read_csv(path, header=None,\n"
     ]
    },
    {
     "name": "stdout",
     "output_type": "stream",
     "text": [
      "Not reading signal because the file doi_10.5061_dryad.5hqbzkh6f__v6/Stress_dataset/5C/5C_1589199819\\IBI.csv is empty.\n",
      "Not reading tags because the file doi_10.5061_dryad.5hqbzkh6f__v6/Stress_dataset/5C/5C_1589199819\\tags.csv is empty.\n",
      "Not reading tags because the file doi_10.5061_dryad.5hqbzkh6f__v6/Stress_dataset/5C/5C_1589199875\\tags.csv is empty.\n",
      "Not reading tags because the file doi_10.5061_dryad.5hqbzkh6f__v6/Stress_dataset/5C/5C_1589286789\\tags.csv is empty.\n",
      "Not reading tags because the file doi_10.5061_dryad.5hqbzkh6f__v6/Stress_dataset/5C/5C_1589298448\\tags.csv is empty.\n",
      "Not reading tags because the file doi_10.5061_dryad.5hqbzkh6f__v6/Stress_dataset/5C/5C_1589803857\\tags.csv is empty.\n",
      "Not reading tags because the file doi_10.5061_dryad.5hqbzkh6f__v6/Stress_dataset/5C/5C_1589889161\\tags.csv is empty.\n",
      "Not reading signal because the file doi_10.5061_dryad.5hqbzkh6f__v6/Stress_dataset/5C/5C_1592925628\\IBI.csv is empty.\n"
     ]
    },
    {
     "name": "stderr",
     "output_type": "stream",
     "text": [
      "c:\\Tools\\anaconda3\\envs\\base2\\lib\\site-packages\\devicely\\empatica.py:187: FutureWarning: The squeeze argument has been deprecated and will be removed in a future version. Append .squeeze(\"columns\") to the call to squeeze.\n",
      "\n",
      "\n",
      "  return pd.read_csv(path, header=None,\n"
     ]
    },
    {
     "name": "stdout",
     "output_type": "stream",
     "text": [
      "Not reading signal because the file doi_10.5061_dryad.5hqbzkh6f__v6/Stress_dataset/5C/5C_1592925705\\IBI.csv is empty.\n",
      "Not reading tags because the file doi_10.5061_dryad.5hqbzkh6f__v6/Stress_dataset/5C/5C_1592925705\\tags.csv is empty.\n",
      "Not reading tags because the file doi_10.5061_dryad.5hqbzkh6f__v6/Stress_dataset/5C/5C_1592926305\\tags.csv is empty.\n",
      "Not reading tags because the file doi_10.5061_dryad.5hqbzkh6f__v6/Stress_dataset/5C/5C_1593006542\\tags.csv is empty.\n",
      "Not reading signal because the file doi_10.5061_dryad.5hqbzkh6f__v6/Stress_dataset/5C/5C_1593018203\\IBI.csv is empty.\n"
     ]
    },
    {
     "name": "stderr",
     "output_type": "stream",
     "text": [
      "c:\\Tools\\anaconda3\\envs\\base2\\lib\\site-packages\\devicely\\empatica.py:187: FutureWarning: The squeeze argument has been deprecated and will be removed in a future version. Append .squeeze(\"columns\") to the call to squeeze.\n",
      "\n",
      "\n",
      "  return pd.read_csv(path, header=None,\n"
     ]
    },
    {
     "name": "stdout",
     "output_type": "stream",
     "text": [
      "Not reading tags because the file doi_10.5061_dryad.5hqbzkh6f__v6/Stress_dataset/5C/5C_1593018622\\tags.csv is empty.\n",
      "Not reading tags because the file doi_10.5061_dryad.5hqbzkh6f__v6/Stress_dataset/5C/5C_1593094946\\tags.csv is empty.\n",
      "Not reading tags because the file doi_10.5061_dryad.5hqbzkh6f__v6/Stress_dataset/6B/6B_1587569373\\tags.csv is empty.\n",
      "Not reading tags because the file doi_10.5061_dryad.5hqbzkh6f__v6/Stress_dataset/6B/6B_1587585327\\tags.csv is empty.\n",
      "Not reading tags because the file doi_10.5061_dryad.5hqbzkh6f__v6/Stress_dataset/6B/6B_1587653438\\tags.csv is empty.\n",
      "Not reading signal because the file doi_10.5061_dryad.5hqbzkh6f__v6/Stress_dataset/6B/6B_1587661095\\IBI.csv is empty.\n",
      "Not reading tags because the file doi_10.5061_dryad.5hqbzkh6f__v6/Stress_dataset/6B/6B_1587661095\\tags.csv is empty.\n",
      "Not reading signal because the file doi_10.5061_dryad.5hqbzkh6f__v6/Stress_dataset/6B/6B_1587662477\\IBI.csv is empty.\n",
      "Not reading tags because the file doi_10.5061_dryad.5hqbzkh6f__v6/Stress_dataset/6B/6B_1587662477\\tags.csv is empty.\n"
     ]
    },
    {
     "name": "stderr",
     "output_type": "stream",
     "text": [
      "c:\\Tools\\anaconda3\\envs\\base2\\lib\\site-packages\\devicely\\empatica.py:187: FutureWarning: The squeeze argument has been deprecated and will be removed in a future version. Append .squeeze(\"columns\") to the call to squeeze.\n",
      "\n",
      "\n",
      "  return pd.read_csv(path, header=None,\n"
     ]
    },
    {
     "name": "stdout",
     "output_type": "stream",
     "text": [
      "Not reading tags because the file doi_10.5061_dryad.5hqbzkh6f__v6/Stress_dataset/6B/6B_1588970444\\tags.csv is empty.\n"
     ]
    },
    {
     "name": "stderr",
     "output_type": "stream",
     "text": [
      "c:\\Tools\\anaconda3\\envs\\base2\\lib\\site-packages\\devicely\\empatica.py:187: FutureWarning: The squeeze argument has been deprecated and will be removed in a future version. Append .squeeze(\"columns\") to the call to squeeze.\n",
      "\n",
      "\n",
      "  return pd.read_csv(path, header=None,\n"
     ]
    },
    {
     "name": "stdout",
     "output_type": "stream",
     "text": [
      "Not reading tags because the file doi_10.5061_dryad.5hqbzkh6f__v6/Stress_dataset/6B/6B_1589901451\\tags.csv is empty.\n"
     ]
    },
    {
     "name": "stderr",
     "output_type": "stream",
     "text": [
      "c:\\Tools\\anaconda3\\envs\\base2\\lib\\site-packages\\devicely\\empatica.py:187: FutureWarning: The squeeze argument has been deprecated and will be removed in a future version. Append .squeeze(\"columns\") to the call to squeeze.\n",
      "\n",
      "\n",
      "  return pd.read_csv(path, header=None,\n"
     ]
    },
    {
     "name": "stdout",
     "output_type": "stream",
     "text": [
      "Not reading tags because the file doi_10.5061_dryad.5hqbzkh6f__v6/Stress_dataset/6B/6B_1590239123\\tags.csv is empty.\n",
      "Not reading tags because the file doi_10.5061_dryad.5hqbzkh6f__v6/Stress_dataset/6B/6B_1592925729\\tags.csv is empty.\n",
      "Not reading tags because the file doi_10.5061_dryad.5hqbzkh6f__v6/Stress_dataset/6B/6B_1592996203\\tags.csv is empty.\n",
      "Not reading tags because the file doi_10.5061_dryad.5hqbzkh6f__v6/Stress_dataset/6B/6B_1593024104\\tags.csv is empty.\n",
      "Not reading signal because the file doi_10.5061_dryad.5hqbzkh6f__v6/Stress_dataset/6B/6B_1593083317\\IBI.csv is empty.\n",
      "Not reading tags because the file doi_10.5061_dryad.5hqbzkh6f__v6/Stress_dataset/6B/6B_1593083317\\tags.csv is empty.\n",
      "Not reading signal because the file doi_10.5061_dryad.5hqbzkh6f__v6/Stress_dataset/6B/6B_1593086670\\IBI.csv is empty.\n",
      "Not reading tags because the file doi_10.5061_dryad.5hqbzkh6f__v6/Stress_dataset/6B/6B_1593086670\\tags.csv is empty.\n",
      "Not reading tags because the file doi_10.5061_dryad.5hqbzkh6f__v6/Stress_dataset/6B/6B_1593091155\\tags.csv is empty.\n",
      "Not reading tags because the file doi_10.5061_dryad.5hqbzkh6f__v6/Stress_dataset/6B/6B_1593101741\\tags.csv is empty.\n"
     ]
    },
    {
     "name": "stderr",
     "output_type": "stream",
     "text": [
      "c:\\Tools\\anaconda3\\envs\\base2\\lib\\site-packages\\devicely\\empatica.py:187: FutureWarning: The squeeze argument has been deprecated and will be removed in a future version. Append .squeeze(\"columns\") to the call to squeeze.\n",
      "\n",
      "\n",
      "  return pd.read_csv(path, header=None,\n"
     ]
    },
    {
     "name": "stdout",
     "output_type": "stream",
     "text": [
      "Not reading tags because the file doi_10.5061_dryad.5hqbzkh6f__v6/Stress_dataset/6B/6B_1593168956\\tags.csv is empty.\n",
      "Not reading tags because the file doi_10.5061_dryad.5hqbzkh6f__v6/Stress_dataset/6B/6B_1593176942\\tags.csv is empty.\n",
      "Not reading tags because the file doi_10.5061_dryad.5hqbzkh6f__v6/Stress_dataset/6B/6B_1593191957\\tags.csv is empty.\n",
      "Not reading tags because the file doi_10.5061_dryad.5hqbzkh6f__v6/Stress_dataset/6B/6B_1593427701\\tags.csv is empty.\n",
      "Not reading tags because the file doi_10.5061_dryad.5hqbzkh6f__v6/Stress_dataset/6B/6B_1593437366\\tags.csv is empty.\n",
      "Not reading tags because the file doi_10.5061_dryad.5hqbzkh6f__v6/Stress_dataset/6B/6B_1593446044\\tags.csv is empty.\n",
      "Not reading tags because the file doi_10.5061_dryad.5hqbzkh6f__v6/Stress_dataset/6B/6B_1593455714\\tags.csv is empty.\n",
      "Not reading tags because the file doi_10.5061_dryad.5hqbzkh6f__v6/Stress_dataset/6B/6B_1593514692\\tags.csv is empty.\n",
      "Not reading signal because the file doi_10.5061_dryad.5hqbzkh6f__v6/Stress_dataset/6B/6B_1593535767\\IBI.csv is empty.\n",
      "Not reading tags because the file doi_10.5061_dryad.5hqbzkh6f__v6/Stress_dataset/6B/6B_1593535767\\tags.csv is empty.\n",
      "Not reading signal because the file doi_10.5061_dryad.5hqbzkh6f__v6/Stress_dataset/6D/6D_1594751512\\IBI.csv is empty.\n",
      "Not reading tags because the file doi_10.5061_dryad.5hqbzkh6f__v6/Stress_dataset/6D/6D_1594751512\\tags.csv is empty.\n",
      "Not reading tags because the file doi_10.5061_dryad.5hqbzkh6f__v6/Stress_dataset/6D/6D_1594757863\\tags.csv is empty.\n"
     ]
    },
    {
     "name": "stderr",
     "output_type": "stream",
     "text": [
      "c:\\Tools\\anaconda3\\envs\\base2\\lib\\site-packages\\devicely\\empatica.py:187: FutureWarning: The squeeze argument has been deprecated and will be removed in a future version. Append .squeeze(\"columns\") to the call to squeeze.\n",
      "\n",
      "\n",
      "  return pd.read_csv(path, header=None,\n"
     ]
    },
    {
     "name": "stdout",
     "output_type": "stream",
     "text": [
      "Not reading tags because the file doi_10.5061_dryad.5hqbzkh6f__v6/Stress_dataset/6D/6D_1594910470\\tags.csv is empty.\n",
      "Not reading tags because the file doi_10.5061_dryad.5hqbzkh6f__v6/Stress_dataset/6D/6D_1594998483\\tags.csv is empty.\n",
      "Not reading signal because the file doi_10.5061_dryad.5hqbzkh6f__v6/Stress_dataset/6D/6D_1595252734\\IBI.csv is empty.\n",
      "Not reading tags because the file doi_10.5061_dryad.5hqbzkh6f__v6/Stress_dataset/6D/6D_1595252734\\tags.csv is empty.\n",
      "Not reading tags because the file doi_10.5061_dryad.5hqbzkh6f__v6/Stress_dataset/6D/6D_1595339521\\tags.csv is empty.\n",
      "Not reading tags because the file doi_10.5061_dryad.5hqbzkh6f__v6/Stress_dataset/6D/6D_1595523837\\tags.csv is empty.\n",
      "Not reading tags because the file doi_10.5061_dryad.5hqbzkh6f__v6/Stress_dataset/6D/6D_1595604487\\tags.csv is empty.\n",
      "Not reading signal because the file doi_10.5061_dryad.5hqbzkh6f__v6/Stress_dataset/7A/7A_1587212302\\IBI.csv is empty.\n",
      "Not reading tags because the file doi_10.5061_dryad.5hqbzkh6f__v6/Stress_dataset/7A/7A_1587212302\\tags.csv is empty.\n",
      "Not reading tags because the file doi_10.5061_dryad.5hqbzkh6f__v6/Stress_dataset/7A/7A_1587228286\\tags.csv is empty.\n",
      "Not reading tags because the file doi_10.5061_dryad.5hqbzkh6f__v6/Stress_dataset/7A/7A_1587298286\\tags.csv is empty.\n",
      "Not reading tags because the file doi_10.5061_dryad.5hqbzkh6f__v6/Stress_dataset/7A/7A_1587326219\\tags.csv is empty.\n",
      "Not reading tags because the file doi_10.5061_dryad.5hqbzkh6f__v6/Stress_dataset/7A/7A_1587556854\\tags.csv is empty.\n",
      "Not reading tags because the file doi_10.5061_dryad.5hqbzkh6f__v6/Stress_dataset/7A/7A_1587583295\\tags.csv is empty.\n",
      "Not reading tags because the file doi_10.5061_dryad.5hqbzkh6f__v6/Stress_dataset/7A/7A_1587643240\\tags.csv is empty.\n",
      "Not reading signal because the file doi_10.5061_dryad.5hqbzkh6f__v6/Stress_dataset/7A/7A_1587734399\\IBI.csv is empty.\n",
      "Not reading tags because the file doi_10.5061_dryad.5hqbzkh6f__v6/Stress_dataset/7A/7A_1587734399\\tags.csv is empty.\n",
      "Not reading tags because the file doi_10.5061_dryad.5hqbzkh6f__v6/Stress_dataset/7A/7A_1588977047\\tags.csv is empty.\n",
      "Not reading tags because the file doi_10.5061_dryad.5hqbzkh6f__v6/Stress_dataset/7A/7A_1589022077\\tags.csv is empty.\n"
     ]
    },
    {
     "name": "stderr",
     "output_type": "stream",
     "text": [
      "c:\\Tools\\anaconda3\\envs\\base2\\lib\\site-packages\\devicely\\empatica.py:187: FutureWarning: The squeeze argument has been deprecated and will be removed in a future version. Append .squeeze(\"columns\") to the call to squeeze.\n",
      "\n",
      "\n",
      "  return pd.read_csv(path, header=None,\n"
     ]
    },
    {
     "name": "stdout",
     "output_type": "stream",
     "text": [
      "Not reading tags because the file doi_10.5061_dryad.5hqbzkh6f__v6/Stress_dataset/7A/7A_1589055551\\tags.csv is empty.\n",
      "Not reading tags because the file doi_10.5061_dryad.5hqbzkh6f__v6/Stress_dataset/7A/7A_1589141032\\tags.csv is empty.\n",
      "Not reading signal because the file doi_10.5061_dryad.5hqbzkh6f__v6/Stress_dataset/7A/7A_1592752730\\IBI.csv is empty.\n",
      "Not reading tags because the file doi_10.5061_dryad.5hqbzkh6f__v6/Stress_dataset/7A/7A_1592752730\\tags.csv is empty.\n",
      "Not reading signal because the file doi_10.5061_dryad.5hqbzkh6f__v6/Stress_dataset/7A/7A_1592925663\\IBI.csv is empty.\n",
      "Not reading tags because the file doi_10.5061_dryad.5hqbzkh6f__v6/Stress_dataset/7A/7A_1592925663\\tags.csv is empty.\n",
      "Not reading signal because the file doi_10.5061_dryad.5hqbzkh6f__v6/Stress_dataset/7A/7A_1592926011\\IBI.csv is empty.\n",
      "Not reading tags because the file doi_10.5061_dryad.5hqbzkh6f__v6/Stress_dataset/7A/7A_1592926011\\tags.csv is empty.\n",
      "Not reading tags because the file doi_10.5061_dryad.5hqbzkh6f__v6/Stress_dataset/7A/7A_1592926372\\tags.csv is empty.\n",
      "Not reading tags because the file doi_10.5061_dryad.5hqbzkh6f__v6/Stress_dataset/7A/7A_1592933285\\tags.csv is empty.\n",
      "Not reading tags because the file doi_10.5061_dryad.5hqbzkh6f__v6/Stress_dataset/7A/7A_1592941276\\tags.csv is empty.\n",
      "Not reading tags because the file doi_10.5061_dryad.5hqbzkh6f__v6/Stress_dataset/7A/7A_1593091052\\tags.csv is empty.\n",
      "Not reading tags because the file doi_10.5061_dryad.5hqbzkh6f__v6/Stress_dataset/7A/7A_1593101633\\tags.csv is empty.\n",
      "Not reading tags because the file doi_10.5061_dryad.5hqbzkh6f__v6/Stress_dataset/7A/7A_1593104418\\tags.csv is empty.\n",
      "Not reading tags because the file doi_10.5061_dryad.5hqbzkh6f__v6/Stress_dataset/7A/7A_1593115159\\tags.csv is empty.\n",
      "Not reading tags because the file doi_10.5061_dryad.5hqbzkh6f__v6/Stress_dataset/7A/7A_1593177044\\tags.csv is empty.\n",
      "Not reading tags because the file doi_10.5061_dryad.5hqbzkh6f__v6/Stress_dataset/7A/7A_1593192268\\tags.csv is empty.\n",
      "Not reading signal because the file doi_10.5061_dryad.5hqbzkh6f__v6/Stress_dataset/7A/7A_1593203567\\IBI.csv is empty.\n",
      "Not reading tags because the file doi_10.5061_dryad.5hqbzkh6f__v6/Stress_dataset/7A/7A_1593203567\\tags.csv is empty.\n",
      "Not reading tags because the file doi_10.5061_dryad.5hqbzkh6f__v6/Stress_dataset/7A/7A_1593436174\\tags.csv is empty.\n",
      "Not reading tags because the file doi_10.5061_dryad.5hqbzkh6f__v6/Stress_dataset/7A/7A_1593439820\\tags.csv is empty.\n",
      "Not reading tags because the file doi_10.5061_dryad.5hqbzkh6f__v6/Stress_dataset/7A/7A_1593450967\\tags.csv is empty.\n",
      "Not reading tags because the file doi_10.5061_dryad.5hqbzkh6f__v6/Stress_dataset/7A/7A_1593521778\\tags.csv is empty.\n",
      "Not reading tags because the file doi_10.5061_dryad.5hqbzkh6f__v6/Stress_dataset/7A/7A_1593527735\\tags.csv is empty.\n",
      "Not reading tags because the file doi_10.5061_dryad.5hqbzkh6f__v6/Stress_dataset/7A/7A_1593534070\\tags.csv is empty.\n",
      "Not reading tags because the file doi_10.5061_dryad.5hqbzkh6f__v6/Stress_dataset/7A/7A_1593547182\\tags.csv is empty.\n",
      "Not reading signal because the file doi_10.5061_dryad.5hqbzkh6f__v6/Stress_dataset/7A/7A_1593551081\\IBI.csv is empty.\n",
      "Not reading tags because the file doi_10.5061_dryad.5hqbzkh6f__v6/Stress_dataset/7A/7A_1593551081\\tags.csv is empty.\n",
      "Not reading tags because the file doi_10.5061_dryad.5hqbzkh6f__v6/Stress_dataset/7A/7A_1593609973\\tags.csv is empty.\n",
      "Not reading tags because the file doi_10.5061_dryad.5hqbzkh6f__v6/Stress_dataset/7A/7A_1593620516\\tags.csv is empty.\n",
      "Not reading tags because the file doi_10.5061_dryad.5hqbzkh6f__v6/Stress_dataset/7A/7A_1593624975\\tags.csv is empty.\n",
      "Not reading tags because the file doi_10.5061_dryad.5hqbzkh6f__v6/Stress_dataset/7A/7A_1593633083\\tags.csv is empty.\n",
      "Not reading signal because the file doi_10.5061_dryad.5hqbzkh6f__v6/Stress_dataset/7A/7A_1593637327\\IBI.csv is empty.\n",
      "Not reading tags because the file doi_10.5061_dryad.5hqbzkh6f__v6/Stress_dataset/7A/7A_1593637327\\tags.csv is empty.\n",
      "Not reading tags because the file doi_10.5061_dryad.5hqbzkh6f__v6/Stress_dataset/7A/7A_1593696872\\tags.csv is empty.\n",
      "Not reading tags because the file doi_10.5061_dryad.5hqbzkh6f__v6/Stress_dataset/7A/7A_1593701029\\tags.csv is empty.\n",
      "Not reading signal because the file doi_10.5061_dryad.5hqbzkh6f__v6/Stress_dataset/7A/7A_1593708143\\IBI.csv is empty.\n",
      "Not reading tags because the file doi_10.5061_dryad.5hqbzkh6f__v6/Stress_dataset/7A/7A_1593708143\\tags.csv is empty.\n",
      "Not reading tags because the file doi_10.5061_dryad.5hqbzkh6f__v6/Stress_dataset/7A/7A_1593709119\\tags.csv is empty.\n",
      "Not reading tags because the file doi_10.5061_dryad.5hqbzkh6f__v6/Stress_dataset/7A/7A_1594043417\\tags.csv is empty.\n",
      "Not reading tags because the file doi_10.5061_dryad.5hqbzkh6f__v6/Stress_dataset/7A/7A_1594061634\\tags.csv is empty.\n",
      "Not reading tags because the file doi_10.5061_dryad.5hqbzkh6f__v6/Stress_dataset/7A/7A_1594068355\\tags.csv is empty.\n",
      "Not reading tags because the file doi_10.5061_dryad.5hqbzkh6f__v6/Stress_dataset/7A/7A_1594128392\\tags.csv is empty.\n",
      "Not reading tags because the file doi_10.5061_dryad.5hqbzkh6f__v6/Stress_dataset/7E/7E_1603292452\\tags.csv is empty.\n",
      "Not reading tags because the file doi_10.5061_dryad.5hqbzkh6f__v6/Stress_dataset/7E/7E_1603309557\\tags.csv is empty.\n",
      "Not reading signal because the file doi_10.5061_dryad.5hqbzkh6f__v6/Stress_dataset/7E/7E_1603314547\\IBI.csv is empty.\n",
      "Not reading tags because the file doi_10.5061_dryad.5hqbzkh6f__v6/Stress_dataset/7E/7E_1603314547\\tags.csv is empty.\n",
      "Not reading signal because the file doi_10.5061_dryad.5hqbzkh6f__v6/Stress_dataset/7E/7E_1603321625\\IBI.csv is empty.\n",
      "Not reading tags because the file doi_10.5061_dryad.5hqbzkh6f__v6/Stress_dataset/7E/7E_1603321625\\tags.csv is empty.\n",
      "Not reading signal because the file doi_10.5061_dryad.5hqbzkh6f__v6/Stress_dataset/7E/7E_1603327234\\IBI.csv is empty.\n",
      "Not reading tags because the file doi_10.5061_dryad.5hqbzkh6f__v6/Stress_dataset/7E/7E_1603327234\\tags.csv is empty.\n",
      "Not reading tags because the file doi_10.5061_dryad.5hqbzkh6f__v6/Stress_dataset/7E/7E_1603373768\\tags.csv is empty.\n",
      "Not reading tags because the file doi_10.5061_dryad.5hqbzkh6f__v6/Stress_dataset/7E/7E_1603406377\\tags.csv is empty.\n",
      "Not reading signal because the file doi_10.5061_dryad.5hqbzkh6f__v6/Stress_dataset/7E/7E_1603409208\\IBI.csv is empty.\n",
      "Not reading tags because the file doi_10.5061_dryad.5hqbzkh6f__v6/Stress_dataset/7E/7E_1603409208\\tags.csv is empty.\n",
      "Not reading tags because the file doi_10.5061_dryad.5hqbzkh6f__v6/Stress_dataset/7E/7E_1603719136\\tags.csv is empty.\n",
      "Not reading signal because the file doi_10.5061_dryad.5hqbzkh6f__v6/Stress_dataset/7E/7E_1603737490\\IBI.csv is empty.\n",
      "Not reading tags because the file doi_10.5061_dryad.5hqbzkh6f__v6/Stress_dataset/7E/7E_1603737490\\tags.csv is empty.\n",
      "Not reading tags because the file doi_10.5061_dryad.5hqbzkh6f__v6/Stress_dataset/7E/7E_1603746501\\tags.csv is empty.\n",
      "Not reading tags because the file doi_10.5061_dryad.5hqbzkh6f__v6/Stress_dataset/7E/7E_1603808368\\tags.csv is empty.\n",
      "Not reading tags because the file doi_10.5061_dryad.5hqbzkh6f__v6/Stress_dataset/7E/7E_1603834287\\tags.csv is empty.\n",
      "Not reading signal because the file doi_10.5061_dryad.5hqbzkh6f__v6/Stress_dataset/7E/7E_1604073279\\IBI.csv is empty.\n",
      "Not reading tags because the file doi_10.5061_dryad.5hqbzkh6f__v6/Stress_dataset/7E/7E_1604073279\\tags.csv is empty.\n",
      "Not reading tags because the file doi_10.5061_dryad.5hqbzkh6f__v6/Stress_dataset/7E/7E_1604086539\\tags.csv is empty.\n",
      "Not reading signal because the file doi_10.5061_dryad.5hqbzkh6f__v6/Stress_dataset/7E/7E_1604104386\\IBI.csv is empty.\n",
      "Not reading tags because the file doi_10.5061_dryad.5hqbzkh6f__v6/Stress_dataset/7E/7E_1604104386\\tags.csv is empty.\n",
      "Not reading tags because the file doi_10.5061_dryad.5hqbzkh6f__v6/Stress_dataset/7E/7E_1604146270\\tags.csv is empty.\n",
      "Not reading tags because the file doi_10.5061_dryad.5hqbzkh6f__v6/Stress_dataset/7E/7E_1604174806\\tags.csv is empty.\n",
      "Not reading tags because the file doi_10.5061_dryad.5hqbzkh6f__v6/Stress_dataset/7E/7E_1604508455\\tags.csv is empty.\n",
      "Not reading tags because the file doi_10.5061_dryad.5hqbzkh6f__v6/Stress_dataset/7E/7E_1604522224\\tags.csv is empty.\n"
     ]
    },
    {
     "name": "stderr",
     "output_type": "stream",
     "text": [
      "c:\\Tools\\anaconda3\\envs\\base2\\lib\\site-packages\\devicely\\empatica.py:187: FutureWarning: The squeeze argument has been deprecated and will be removed in a future version. Append .squeeze(\"columns\") to the call to squeeze.\n",
      "\n",
      "\n",
      "  return pd.read_csv(path, header=None,\n"
     ]
    },
    {
     "name": "stdout",
     "output_type": "stream",
     "text": [
      "Not reading tags because the file doi_10.5061_dryad.5hqbzkh6f__v6/Stress_dataset/7E/7E_1604587428\\tags.csv is empty.\n",
      "Not reading tags because the file doi_10.5061_dryad.5hqbzkh6f__v6/Stress_dataset/7E/7E_1604935657\\tags.csv is empty.\n"
     ]
    },
    {
     "name": "stderr",
     "output_type": "stream",
     "text": [
      "c:\\Tools\\anaconda3\\envs\\base2\\lib\\site-packages\\devicely\\empatica.py:187: FutureWarning: The squeeze argument has been deprecated and will be removed in a future version. Append .squeeze(\"columns\") to the call to squeeze.\n",
      "\n",
      "\n",
      "  return pd.read_csv(path, header=None,\n"
     ]
    },
    {
     "name": "stdout",
     "output_type": "stream",
     "text": [
      "Not reading tags because the file doi_10.5061_dryad.5hqbzkh6f__v6/Stress_dataset/7E/7E_1605285176\\tags.csv is empty.\n",
      "Not reading tags because the file doi_10.5061_dryad.5hqbzkh6f__v6/Stress_dataset/7E/7E_1605305267\\tags.csv is empty.\n",
      "Not reading tags because the file doi_10.5061_dryad.5hqbzkh6f__v6/Stress_dataset/7E/7E_1605315982\\tags.csv is empty.\n",
      "Not reading tags because the file doi_10.5061_dryad.5hqbzkh6f__v6/Stress_dataset/7E/7E_1605889226\\tags.csv is empty.\n",
      "Not reading tags because the file doi_10.5061_dryad.5hqbzkh6f__v6/Stress_dataset/83/83_1603929757\\tags.csv is empty.\n",
      "Not reading tags because the file doi_10.5061_dryad.5hqbzkh6f__v6/Stress_dataset/83/83_1603966680\\tags.csv is empty.\n",
      "Not reading tags because the file doi_10.5061_dryad.5hqbzkh6f__v6/Stress_dataset/83/83_1604016419\\tags.csv is empty.\n",
      "Not reading tags because the file doi_10.5061_dryad.5hqbzkh6f__v6/Stress_dataset/83/83_1604103283\\tags.csv is empty.\n",
      "Not reading signal because the file doi_10.5061_dryad.5hqbzkh6f__v6/Stress_dataset/83/83_1604147386\\IBI.csv is empty.\n",
      "Not reading tags because the file doi_10.5061_dryad.5hqbzkh6f__v6/Stress_dataset/83/83_1604147386\\tags.csv is empty.\n",
      "Not reading tags because the file doi_10.5061_dryad.5hqbzkh6f__v6/Stress_dataset/83/83_1604190038\\tags.csv is empty.\n",
      "Not reading tags because the file doi_10.5061_dryad.5hqbzkh6f__v6/Stress_dataset/83/83_1604214785\\tags.csv is empty.\n",
      "Not reading tags because the file doi_10.5061_dryad.5hqbzkh6f__v6/Stress_dataset/83/83_1604224222\\tags.csv is empty.\n",
      "Not reading tags because the file doi_10.5061_dryad.5hqbzkh6f__v6/Stress_dataset/83/83_1604278781\\tags.csv is empty.\n",
      "Not reading tags because the file doi_10.5061_dryad.5hqbzkh6f__v6/Stress_dataset/83/83_1604314003\\tags.csv is empty.\n",
      "Not reading tags because the file doi_10.5061_dryad.5hqbzkh6f__v6/Stress_dataset/83/83_1604538637\\tags.csv is empty.\n",
      "Not reading tags because the file doi_10.5061_dryad.5hqbzkh6f__v6/Stress_dataset/83/83_1604565269\\tags.csv is empty.\n",
      "Not reading signal because the file doi_10.5061_dryad.5hqbzkh6f__v6/Stress_dataset/83/83_1604589439\\IBI.csv is empty.\n",
      "Not reading tags because the file doi_10.5061_dryad.5hqbzkh6f__v6/Stress_dataset/83/83_1604589439\\tags.csv is empty.\n",
      "Not reading tags because the file doi_10.5061_dryad.5hqbzkh6f__v6/Stress_dataset/83/83_1604630543\\tags.csv is empty.\n",
      "Not reading tags because the file doi_10.5061_dryad.5hqbzkh6f__v6/Stress_dataset/83/83_1604658728\\tags.csv is empty.\n",
      "Not reading tags because the file doi_10.5061_dryad.5hqbzkh6f__v6/Stress_dataset/83/83_1604666276\\tags.csv is empty.\n",
      "Not reading tags because the file doi_10.5061_dryad.5hqbzkh6f__v6/Stress_dataset/83/83_1605230607\\tags.csv is empty.\n",
      "Not reading tags because the file doi_10.5061_dryad.5hqbzkh6f__v6/Stress_dataset/83/83_1605254008\\tags.csv is empty.\n",
      "Not reading tags because the file doi_10.5061_dryad.5hqbzkh6f__v6/Stress_dataset/83/83_1605262502\\tags.csv is empty.\n",
      "Not reading tags because the file doi_10.5061_dryad.5hqbzkh6f__v6/Stress_dataset/83/83_1605317390\\tags.csv is empty.\n",
      "Not reading tags because the file doi_10.5061_dryad.5hqbzkh6f__v6/Stress_dataset/83/83_1605336146\\tags.csv is empty.\n",
      "Not reading tags because the file doi_10.5061_dryad.5hqbzkh6f__v6/Stress_dataset/83/83_1605401907\\tags.csv is empty.\n",
      "Not reading tags because the file doi_10.5061_dryad.5hqbzkh6f__v6/Stress_dataset/83/83_1605422619\\tags.csv is empty.\n",
      "Not reading tags because the file doi_10.5061_dryad.5hqbzkh6f__v6/Stress_dataset/83/83_1605428200\\tags.csv is empty.\n",
      "Not reading tags because the file doi_10.5061_dryad.5hqbzkh6f__v6/Stress_dataset/83/83_1605438437\\tags.csv is empty.\n",
      "Not reading tags because the file doi_10.5061_dryad.5hqbzkh6f__v6/Stress_dataset/83/83_1605488271\\tags.csv is empty.\n",
      "Not reading tags because the file doi_10.5061_dryad.5hqbzkh6f__v6/Stress_dataset/83/83_1605522674\\tags.csv is empty.\n",
      "Not reading tags because the file doi_10.5061_dryad.5hqbzkh6f__v6/Stress_dataset/83/83_1607582006\\tags.csv is empty.\n",
      "Not reading tags because the file doi_10.5061_dryad.5hqbzkh6f__v6/Stress_dataset/83/83_1607590102\\tags.csv is empty.\n",
      "Not reading tags because the file doi_10.5061_dryad.5hqbzkh6f__v6/Stress_dataset/83/83_1607649094\\tags.csv is empty.\n",
      "Not reading tags because the file doi_10.5061_dryad.5hqbzkh6f__v6/Stress_dataset/83/83_1607663116\\tags.csv is empty.\n",
      "Not reading tags because the file doi_10.5061_dryad.5hqbzkh6f__v6/Stress_dataset/83/83_1607735993\\tags.csv is empty.\n",
      "Not reading signal because the file doi_10.5061_dryad.5hqbzkh6f__v6/Stress_dataset/83/83_1607755141\\IBI.csv is empty.\n",
      "Not reading tags because the file doi_10.5061_dryad.5hqbzkh6f__v6/Stress_dataset/83/83_1607755141\\tags.csv is empty.\n",
      "Not reading signal because the file doi_10.5061_dryad.5hqbzkh6f__v6/Stress_dataset/83/83_1607769127\\IBI.csv is empty.\n",
      "Not reading tags because the file doi_10.5061_dryad.5hqbzkh6f__v6/Stress_dataset/83/83_1607769127\\tags.csv is empty.\n",
      "Not reading tags because the file doi_10.5061_dryad.5hqbzkh6f__v6/Stress_dataset/83/83_1607822759\\tags.csv is empty.\n",
      "Not reading signal because the file doi_10.5061_dryad.5hqbzkh6f__v6/Stress_dataset/83/83_1607908668\\IBI.csv is empty.\n",
      "Not reading tags because the file doi_10.5061_dryad.5hqbzkh6f__v6/Stress_dataset/83/83_1607908668\\tags.csv is empty.\n",
      "Not reading signal because the file doi_10.5061_dryad.5hqbzkh6f__v6/Stress_dataset/83/83_1607944061\\IBI.csv is empty.\n",
      "Not reading tags because the file doi_10.5061_dryad.5hqbzkh6f__v6/Stress_dataset/83/83_1607944061\\tags.csv is empty.\n",
      "Not reading tags because the file doi_10.5061_dryad.5hqbzkh6f__v6/Stress_dataset/83/83_1608176003\\tags.csv is empty.\n",
      "Not reading signal because the file doi_10.5061_dryad.5hqbzkh6f__v6/Stress_dataset/83/83_1608196385\\IBI.csv is empty.\n",
      "Not reading tags because the file doi_10.5061_dryad.5hqbzkh6f__v6/Stress_dataset/83/83_1608196385\\tags.csv is empty.\n",
      "Not reading tags because the file doi_10.5061_dryad.5hqbzkh6f__v6/Stress_dataset/83/83_1608203746\\tags.csv is empty.\n",
      "Not reading tags because the file doi_10.5061_dryad.5hqbzkh6f__v6/Stress_dataset/83/83_1608272959\\tags.csv is empty.\n",
      "Not reading tags because the file doi_10.5061_dryad.5hqbzkh6f__v6/Stress_dataset/83/83_1608296659\\tags.csv is empty.\n",
      "Not reading tags because the file doi_10.5061_dryad.5hqbzkh6f__v6/Stress_dataset/83/83_1608862601\\tags.csv is empty.\n",
      "Not reading signal because the file doi_10.5061_dryad.5hqbzkh6f__v6/Stress_dataset/83/83_1608887726\\IBI.csv is empty.\n",
      "Not reading tags because the file doi_10.5061_dryad.5hqbzkh6f__v6/Stress_dataset/83/83_1608887726\\tags.csv is empty.\n",
      "Not reading tags because the file doi_10.5061_dryad.5hqbzkh6f__v6/Stress_dataset/83/83_1608947368\\tags.csv is empty.\n",
      "Not reading tags because the file doi_10.5061_dryad.5hqbzkh6f__v6/Stress_dataset/83/83_1608955073\\tags.csv is empty.\n",
      "Not reading signal because the file doi_10.5061_dryad.5hqbzkh6f__v6/Stress_dataset/8B/8B_1594138963\\IBI.csv is empty.\n",
      "Not reading tags because the file doi_10.5061_dryad.5hqbzkh6f__v6/Stress_dataset/8B/8B_1594138963\\tags.csv is empty.\n",
      "Not reading tags because the file doi_10.5061_dryad.5hqbzkh6f__v6/Stress_dataset/8B/8B_1594153037\\tags.csv is empty.\n",
      "Not reading tags because the file doi_10.5061_dryad.5hqbzkh6f__v6/Stress_dataset/8B/8B_1594225495\\tags.csv is empty.\n",
      "Not reading signal because the file doi_10.5061_dryad.5hqbzkh6f__v6/Stress_dataset/8B/8B_1594300582\\IBI.csv is empty.\n",
      "Not reading tags because the file doi_10.5061_dryad.5hqbzkh6f__v6/Stress_dataset/8B/8B_1594300582\\tags.csv is empty.\n",
      "Not reading tags because the file doi_10.5061_dryad.5hqbzkh6f__v6/Stress_dataset/8B/8B_1594300904\\tags.csv is empty.\n",
      "Not reading tags because the file doi_10.5061_dryad.5hqbzkh6f__v6/Stress_dataset/8B/8B_1594313953\\tags.csv is empty.\n",
      "Not reading tags because the file doi_10.5061_dryad.5hqbzkh6f__v6/Stress_dataset/8B/8B_1594320348\\tags.csv is empty.\n",
      "Not reading signal because the file doi_10.5061_dryad.5hqbzkh6f__v6/Stress_dataset/8B/8B_1594328622\\IBI.csv is empty.\n",
      "Not reading tags because the file doi_10.5061_dryad.5hqbzkh6f__v6/Stress_dataset/8B/8B_1594328622\\tags.csv is empty.\n",
      "Not reading tags because the file doi_10.5061_dryad.5hqbzkh6f__v6/Stress_dataset/8B/8B_1594644905\\tags.csv is empty.\n",
      "Not reading signal because the file doi_10.5061_dryad.5hqbzkh6f__v6/Stress_dataset/8B/8B_1594674624\\IBI.csv is empty.\n",
      "Not reading tags because the file doi_10.5061_dryad.5hqbzkh6f__v6/Stress_dataset/8B/8B_1594674624\\tags.csv is empty.\n",
      "Not reading tags because the file doi_10.5061_dryad.5hqbzkh6f__v6/Stress_dataset/8B/8B_1594731698\\tags.csv is empty.\n",
      "Not reading tags because the file doi_10.5061_dryad.5hqbzkh6f__v6/Stress_dataset/8B/8B_1594757712\\tags.csv is empty.\n",
      "Not reading signal because the file doi_10.5061_dryad.5hqbzkh6f__v6/Stress_dataset/8B/8B_1594763406\\IBI.csv is empty.\n",
      "Not reading tags because the file doi_10.5061_dryad.5hqbzkh6f__v6/Stress_dataset/8B/8B_1594763406\\tags.csv is empty.\n"
     ]
    },
    {
     "name": "stderr",
     "output_type": "stream",
     "text": [
      "c:\\Tools\\anaconda3\\envs\\base2\\lib\\site-packages\\devicely\\empatica.py:187: FutureWarning: The squeeze argument has been deprecated and will be removed in a future version. Append .squeeze(\"columns\") to the call to squeeze.\n",
      "\n",
      "\n",
      "  return pd.read_csv(path, header=None,\n"
     ]
    },
    {
     "name": "stdout",
     "output_type": "stream",
     "text": [
      "Not reading tags because the file doi_10.5061_dryad.5hqbzkh6f__v6/Stress_dataset/8B/8B_1594818336\\tags.csv is empty.\n",
      "Not reading tags because the file doi_10.5061_dryad.5hqbzkh6f__v6/Stress_dataset/8B/8B_1594831573\\tags.csv is empty.\n",
      "Not reading signal because the file doi_10.5061_dryad.5hqbzkh6f__v6/Stress_dataset/8B/8B_1594848059\\IBI.csv is empty.\n",
      "Not reading tags because the file doi_10.5061_dryad.5hqbzkh6f__v6/Stress_dataset/8B/8B_1594848059\\tags.csv is empty.\n",
      "Not reading signal because the file doi_10.5061_dryad.5hqbzkh6f__v6/Stress_dataset/8B/8B_1594904937\\IBI.csv is empty.\n",
      "Not reading tags because the file doi_10.5061_dryad.5hqbzkh6f__v6/Stress_dataset/8B/8B_1594904937\\tags.csv is empty.\n",
      "Not reading tags because the file doi_10.5061_dryad.5hqbzkh6f__v6/Stress_dataset/8B/8B_1594914137\\tags.csv is empty.\n",
      "Not reading tags because the file doi_10.5061_dryad.5hqbzkh6f__v6/Stress_dataset/8B/8B_1594927003\\tags.csv is empty.\n",
      "Not reading tags because the file doi_10.5061_dryad.5hqbzkh6f__v6/Stress_dataset/8B/8B_1594993425\\tags.csv is empty.\n",
      "Not reading tags because the file doi_10.5061_dryad.5hqbzkh6f__v6/Stress_dataset/8B/8B_1595015366\\tags.csv is empty.\n",
      "Not reading tags because the file doi_10.5061_dryad.5hqbzkh6f__v6/Stress_dataset/8B/8B_1595252880\\tags.csv is empty.\n",
      "Not reading tags because the file doi_10.5061_dryad.5hqbzkh6f__v6/Stress_dataset/8B/8B_1595262366\\tags.csv is empty.\n",
      "Not reading tags because the file doi_10.5061_dryad.5hqbzkh6f__v6/Stress_dataset/8B/8B_1595277964\\tags.csv is empty.\n",
      "Not reading tags because the file doi_10.5061_dryad.5hqbzkh6f__v6/Stress_dataset/8B/8B_1595437580\\tags.csv is empty.\n",
      "Not reading signal because the file doi_10.5061_dryad.5hqbzkh6f__v6/Stress_dataset/8B/8B_1595450243\\IBI.csv is empty.\n",
      "Not reading tags because the file doi_10.5061_dryad.5hqbzkh6f__v6/Stress_dataset/8B/8B_1595450243\\tags.csv is empty.\n",
      "Not reading tags because the file doi_10.5061_dryad.5hqbzkh6f__v6/Stress_dataset/8B/8B_1595523613\\tags.csv is empty.\n",
      "Not reading tags because the file doi_10.5061_dryad.5hqbzkh6f__v6/Stress_dataset/8B/8B_1595530690\\tags.csv is empty.\n",
      "Not reading signal because the file doi_10.5061_dryad.5hqbzkh6f__v6/Stress_dataset/8B/8B_1595538351\\IBI.csv is empty.\n",
      "Not reading tags because the file doi_10.5061_dryad.5hqbzkh6f__v6/Stress_dataset/8B/8B_1595538351\\tags.csv is empty.\n",
      "Not reading signal because the file doi_10.5061_dryad.5hqbzkh6f__v6/Stress_dataset/94/94_1587166335\\IBI.csv is empty.\n"
     ]
    },
    {
     "name": "stderr",
     "output_type": "stream",
     "text": [
      "c:\\Tools\\anaconda3\\envs\\base2\\lib\\site-packages\\devicely\\empatica.py:187: FutureWarning: The squeeze argument has been deprecated and will be removed in a future version. Append .squeeze(\"columns\") to the call to squeeze.\n",
      "\n",
      "\n",
      "  return pd.read_csv(path, header=None,\n"
     ]
    },
    {
     "name": "stdout",
     "output_type": "stream",
     "text": [
      "Not reading tags because the file doi_10.5061_dryad.5hqbzkh6f__v6/Stress_dataset/94/94_1587167248\\tags.csv is empty.\n"
     ]
    },
    {
     "name": "stderr",
     "output_type": "stream",
     "text": [
      "c:\\Tools\\anaconda3\\envs\\base2\\lib\\site-packages\\devicely\\empatica.py:187: FutureWarning: The squeeze argument has been deprecated and will be removed in a future version. Append .squeeze(\"columns\") to the call to squeeze.\n",
      "\n",
      "\n",
      "  return pd.read_csv(path, header=None,\n"
     ]
    },
    {
     "name": "stdout",
     "output_type": "stream",
     "text": [
      "Not reading tags because the file doi_10.5061_dryad.5hqbzkh6f__v6/Stress_dataset/94/94_1587293342\\tags.csv is empty.\n",
      "Not reading tags because the file doi_10.5061_dryad.5hqbzkh6f__v6/Stress_dataset/94/94_1587305684\\tags.csv is empty.\n"
     ]
    },
    {
     "name": "stderr",
     "output_type": "stream",
     "text": [
      "c:\\Tools\\anaconda3\\envs\\base2\\lib\\site-packages\\devicely\\empatica.py:187: FutureWarning: The squeeze argument has been deprecated and will be removed in a future version. Append .squeeze(\"columns\") to the call to squeeze.\n",
      "\n",
      "\n",
      "  return pd.read_csv(path, header=None,\n"
     ]
    },
    {
     "name": "stdout",
     "output_type": "stream",
     "text": [
      "Not reading tags because the file doi_10.5061_dryad.5hqbzkh6f__v6/Stress_dataset/94/94_1587312802\\tags.csv is empty.\n",
      "Not reading tags because the file doi_10.5061_dryad.5hqbzkh6f__v6/Stress_dataset/94/94_1587314078\\tags.csv is empty.\n",
      "Not reading signal because the file doi_10.5061_dryad.5hqbzkh6f__v6/Stress_dataset/94/94_1587319047\\IBI.csv is empty.\n",
      "Not reading tags because the file doi_10.5061_dryad.5hqbzkh6f__v6/Stress_dataset/94/94_1587319047\\tags.csv is empty.\n",
      "Not reading tags because the file doi_10.5061_dryad.5hqbzkh6f__v6/Stress_dataset/94/94_1587327523\\tags.csv is empty.\n",
      "Not reading tags because the file doi_10.5061_dryad.5hqbzkh6f__v6/Stress_dataset/94/94_1587334951\\tags.csv is empty.\n",
      "Not reading signal because the file doi_10.5061_dryad.5hqbzkh6f__v6/Stress_dataset/94/94_1588544695\\IBI.csv is empty.\n",
      "Not reading tags because the file doi_10.5061_dryad.5hqbzkh6f__v6/Stress_dataset/94/94_1588544695\\tags.csv is empty.\n"
     ]
    },
    {
     "name": "stderr",
     "output_type": "stream",
     "text": [
      "c:\\Tools\\anaconda3\\envs\\base2\\lib\\site-packages\\devicely\\empatica.py:187: FutureWarning: The squeeze argument has been deprecated and will be removed in a future version. Append .squeeze(\"columns\") to the call to squeeze.\n",
      "\n",
      "\n",
      "  return pd.read_csv(path, header=None,\n"
     ]
    },
    {
     "name": "stdout",
     "output_type": "stream",
     "text": [
      "Not reading tags because the file doi_10.5061_dryad.5hqbzkh6f__v6/Stress_dataset/94/94_1589039387\\tags.csv is empty.\n",
      "Not reading tags because the file doi_10.5061_dryad.5hqbzkh6f__v6/Stress_dataset/94/94_1589050691\\tags.csv is empty.\n"
     ]
    },
    {
     "name": "stderr",
     "output_type": "stream",
     "text": [
      "c:\\Tools\\anaconda3\\envs\\base2\\lib\\site-packages\\devicely\\empatica.py:187: FutureWarning: The squeeze argument has been deprecated and will be removed in a future version. Append .squeeze(\"columns\") to the call to squeeze.\n",
      "\n",
      "\n",
      "  return pd.read_csv(path, header=None,\n",
      "c:\\Tools\\anaconda3\\envs\\base2\\lib\\site-packages\\devicely\\empatica.py:187: FutureWarning: The squeeze argument has been deprecated and will be removed in a future version. Append .squeeze(\"columns\") to the call to squeeze.\n",
      "\n",
      "\n",
      "  return pd.read_csv(path, header=None,\n"
     ]
    },
    {
     "name": "stdout",
     "output_type": "stream",
     "text": [
      "Not reading tags because the file doi_10.5061_dryad.5hqbzkh6f__v6/Stress_dataset/94/94_1589200299\\tags.csv is empty.\n",
      "Not reading tags because the file doi_10.5061_dryad.5hqbzkh6f__v6/Stress_dataset/94/94_1589211970\\tags.csv is empty.\n",
      "Not reading tags because the file doi_10.5061_dryad.5hqbzkh6f__v6/Stress_dataset/94/94_1589228684\\tags.csv is empty.\n",
      "Not reading signal because the file doi_10.5061_dryad.5hqbzkh6f__v6/Stress_dataset/94/94_1589282081\\IBI.csv is empty.\n",
      "Not reading tags because the file doi_10.5061_dryad.5hqbzkh6f__v6/Stress_dataset/94/94_1589282081\\tags.csv is empty.\n",
      "Not reading signal because the file doi_10.5061_dryad.5hqbzkh6f__v6/Stress_dataset/94/94_1592752519\\IBI.csv is empty.\n",
      "Not reading signal because the file doi_10.5061_dryad.5hqbzkh6f__v6/Stress_dataset/94/94_1592752658\\IBI.csv is empty.\n",
      "Not reading tags because the file doi_10.5061_dryad.5hqbzkh6f__v6/Stress_dataset/94/94_1592752658\\tags.csv is empty.\n"
     ]
    },
    {
     "name": "stderr",
     "output_type": "stream",
     "text": [
      "c:\\Tools\\anaconda3\\envs\\base2\\lib\\site-packages\\devicely\\empatica.py:187: FutureWarning: The squeeze argument has been deprecated and will be removed in a future version. Append .squeeze(\"columns\") to the call to squeeze.\n",
      "\n",
      "\n",
      "  return pd.read_csv(path, header=None,\n"
     ]
    },
    {
     "name": "stdout",
     "output_type": "stream",
     "text": [
      "Not reading tags because the file doi_10.5061_dryad.5hqbzkh6f__v6/Stress_dataset/94/94_1592925429\\tags.csv is empty.\n",
      "Not reading tags because the file doi_10.5061_dryad.5hqbzkh6f__v6/Stress_dataset/94/94_1592929503\\tags.csv is empty.\n",
      "Not reading tags because the file doi_10.5061_dryad.5hqbzkh6f__v6/Stress_dataset/94/94_1592936512\\tags.csv is empty.\n",
      "Not reading tags because the file doi_10.5061_dryad.5hqbzkh6f__v6/Stress_dataset/94/94_1592942711\\tags.csv is empty.\n",
      "Not reading signal because the file doi_10.5061_dryad.5hqbzkh6f__v6/Stress_dataset/94/94_1592945172\\IBI.csv is empty.\n",
      "Not reading tags because the file doi_10.5061_dryad.5hqbzkh6f__v6/Stress_dataset/94/94_1592945172\\tags.csv is empty.\n",
      "Not reading tags because the file doi_10.5061_dryad.5hqbzkh6f__v6/Stress_dataset/94/94_1593002737\\tags.csv is empty.\n",
      "Not reading tags because the file doi_10.5061_dryad.5hqbzkh6f__v6/Stress_dataset/94/94_1593006245\\tags.csv is empty.\n",
      "Not reading tags because the file doi_10.5061_dryad.5hqbzkh6f__v6/Stress_dataset/94/94_1593009834\\tags.csv is empty.\n",
      "Not reading tags because the file doi_10.5061_dryad.5hqbzkh6f__v6/Stress_dataset/94/94_1593014546\\tags.csv is empty.\n",
      "Not reading tags because the file doi_10.5061_dryad.5hqbzkh6f__v6/Stress_dataset/94/94_1593019043\\tags.csv is empty.\n",
      "Not reading signal because the file doi_10.5061_dryad.5hqbzkh6f__v6/Stress_dataset/94/94_1593021522\\IBI.csv is empty.\n",
      "Not reading tags because the file doi_10.5061_dryad.5hqbzkh6f__v6/Stress_dataset/94/94_1593021522\\tags.csv is empty.\n",
      "Not reading tags because the file doi_10.5061_dryad.5hqbzkh6f__v6/Stress_dataset/94/94_1593029038\\tags.csv is empty.\n",
      "Not reading tags because the file doi_10.5061_dryad.5hqbzkh6f__v6/Stress_dataset/94/94_1593091230\\tags.csv is empty.\n",
      "Not reading tags because the file doi_10.5061_dryad.5hqbzkh6f__v6/Stress_dataset/94/94_1593092855\\tags.csv is empty.\n",
      "Not reading tags because the file doi_10.5061_dryad.5hqbzkh6f__v6/Stress_dataset/94/94_1593098565\\tags.csv is empty.\n",
      "Not reading tags because the file doi_10.5061_dryad.5hqbzkh6f__v6/Stress_dataset/94/94_1593107532\\tags.csv is empty.\n",
      "Not reading tags because the file doi_10.5061_dryad.5hqbzkh6f__v6/Stress_dataset/94/94_1593110482\\tags.csv is empty.\n",
      "Not reading signal because the file doi_10.5061_dryad.5hqbzkh6f__v6/Stress_dataset/94/94_1593113840\\IBI.csv is empty.\n",
      "Not reading tags because the file doi_10.5061_dryad.5hqbzkh6f__v6/Stress_dataset/94/94_1593113840\\tags.csv is empty.\n",
      "Not reading signal because the file doi_10.5061_dryad.5hqbzkh6f__v6/Stress_dataset/94/94_1593115664\\IBI.csv is empty.\n",
      "Not reading tags because the file doi_10.5061_dryad.5hqbzkh6f__v6/Stress_dataset/94/94_1593115664\\tags.csv is empty.\n",
      "Not reading tags because the file doi_10.5061_dryad.5hqbzkh6f__v6/Stress_dataset/94/94_1593116487\\tags.csv is empty.\n",
      "Not reading signal because the file doi_10.5061_dryad.5hqbzkh6f__v6/Stress_dataset/94/94_1593118700\\IBI.csv is empty.\n",
      "Not reading tags because the file doi_10.5061_dryad.5hqbzkh6f__v6/Stress_dataset/94/94_1593118700\\tags.csv is empty.\n",
      "Not reading tags because the file doi_10.5061_dryad.5hqbzkh6f__v6/Stress_dataset/94/94_1593175365\\tags.csv is empty.\n",
      "Not reading tags because the file doi_10.5061_dryad.5hqbzkh6f__v6/Stress_dataset/94/94_1593182334\\tags.csv is empty.\n",
      "Not reading signal because the file doi_10.5061_dryad.5hqbzkh6f__v6/Stress_dataset/94/94_1593434552\\IBI.csv is empty.\n",
      "Not reading tags because the file doi_10.5061_dryad.5hqbzkh6f__v6/Stress_dataset/94/94_1593434552\\tags.csv is empty.\n",
      "Not reading tags because the file doi_10.5061_dryad.5hqbzkh6f__v6/Stress_dataset/94/94_1593436507\\tags.csv is empty.\n",
      "Not reading tags because the file doi_10.5061_dryad.5hqbzkh6f__v6/Stress_dataset/94/94_1593441535\\tags.csv is empty.\n",
      "Not reading signal because the file doi_10.5061_dryad.5hqbzkh6f__v6/Stress_dataset/94/94_1593443104\\IBI.csv is empty.\n",
      "Not reading tags because the file doi_10.5061_dryad.5hqbzkh6f__v6/Stress_dataset/94/94_1593443104\\tags.csv is empty.\n",
      "Not reading signal because the file doi_10.5061_dryad.5hqbzkh6f__v6/Stress_dataset/94/94_1593443279\\IBI.csv is empty.\n",
      "Not reading tags because the file doi_10.5061_dryad.5hqbzkh6f__v6/Stress_dataset/94/94_1593443279\\tags.csv is empty.\n",
      "Not reading tags because the file doi_10.5061_dryad.5hqbzkh6f__v6/Stress_dataset/94/94_1593446429\\tags.csv is empty.\n",
      "Not reading tags because the file doi_10.5061_dryad.5hqbzkh6f__v6/Stress_dataset/94/94_1593451003\\tags.csv is empty.\n",
      "Not reading tags because the file doi_10.5061_dryad.5hqbzkh6f__v6/Stress_dataset/94/94_1593453273\\tags.csv is empty.\n",
      "Not reading tags because the file doi_10.5061_dryad.5hqbzkh6f__v6/Stress_dataset/94/94_1593454489\\tags.csv is empty.\n",
      "Not reading signal because the file doi_10.5061_dryad.5hqbzkh6f__v6/Stress_dataset/94/94_1593458351\\IBI.csv is empty.\n",
      "Not reading tags because the file doi_10.5061_dryad.5hqbzkh6f__v6/Stress_dataset/94/94_1593458351\\tags.csv is empty.\n",
      "Not reading tags because the file doi_10.5061_dryad.5hqbzkh6f__v6/Stress_dataset/94/94_1593523361\\tags.csv is empty.\n",
      "Not reading tags because the file doi_10.5061_dryad.5hqbzkh6f__v6/Stress_dataset/94/94_1593608450\\tags.csv is empty.\n",
      "Not reading tags because the file doi_10.5061_dryad.5hqbzkh6f__v6/Stress_dataset/94/94_1593611980\\tags.csv is empty.\n",
      "Not reading tags because the file doi_10.5061_dryad.5hqbzkh6f__v6/Stress_dataset/94/94_1593623016\\tags.csv is empty.\n",
      "Not reading tags because the file doi_10.5061_dryad.5hqbzkh6f__v6/Stress_dataset/94/94_1593635623\\tags.csv is empty.\n",
      "Not reading tags because the file doi_10.5061_dryad.5hqbzkh6f__v6/Stress_dataset/94/94_1593694830\\tags.csv is empty.\n",
      "Not reading tags because the file doi_10.5061_dryad.5hqbzkh6f__v6/Stress_dataset/94/94_1593703320\\tags.csv is empty.\n",
      "Not reading tags because the file doi_10.5061_dryad.5hqbzkh6f__v6/Stress_dataset/94/94_1593710745\\tags.csv is empty.\n",
      "Not reading tags because the file doi_10.5061_dryad.5hqbzkh6f__v6/Stress_dataset/94/94_1593720218\\tags.csv is empty.\n",
      "Not reading tags because the file doi_10.5061_dryad.5hqbzkh6f__v6/Stress_dataset/94/94_1594125017\\tags.csv is empty.\n",
      "Not reading tags because the file doi_10.5061_dryad.5hqbzkh6f__v6/Stress_dataset/94/94_1594129474\\tags.csv is empty.\n",
      "Not reading signal because the file doi_10.5061_dryad.5hqbzkh6f__v6/Stress_dataset/BG/BG_1603671305\\IBI.csv is empty.\n",
      "Not reading tags because the file doi_10.5061_dryad.5hqbzkh6f__v6/Stress_dataset/BG/BG_1603671305\\tags.csv is empty.\n",
      "Not reading tags because the file doi_10.5061_dryad.5hqbzkh6f__v6/Stress_dataset/BG/BG_1603681317\\tags.csv is empty.\n",
      "Not reading tags because the file doi_10.5061_dryad.5hqbzkh6f__v6/Stress_dataset/BG/BG_1603685056\\tags.csv is empty.\n",
      "Not reading tags because the file doi_10.5061_dryad.5hqbzkh6f__v6/Stress_dataset/BG/BG_1603692429\\tags.csv is empty.\n",
      "Not reading signal because the file doi_10.5061_dryad.5hqbzkh6f__v6/Stress_dataset/BG/BG_1603693197\\IBI.csv is empty.\n",
      "Not reading tags because the file doi_10.5061_dryad.5hqbzkh6f__v6/Stress_dataset/BG/BG_1603693197\\tags.csv is empty.\n"
     ]
    },
    {
     "name": "stderr",
     "output_type": "stream",
     "text": [
      "c:\\Tools\\anaconda3\\envs\\base2\\lib\\site-packages\\devicely\\empatica.py:187: FutureWarning: The squeeze argument has been deprecated and will be removed in a future version. Append .squeeze(\"columns\") to the call to squeeze.\n",
      "\n",
      "\n",
      "  return pd.read_csv(path, header=None,\n"
     ]
    },
    {
     "name": "stdout",
     "output_type": "stream",
     "text": [
      "Not reading signal because the file doi_10.5061_dryad.5hqbzkh6f__v6/Stress_dataset/BG/BG_1603929535\\IBI.csv is empty.\n",
      "Not reading tags because the file doi_10.5061_dryad.5hqbzkh6f__v6/Stress_dataset/BG/BG_1603929535\\tags.csv is empty.\n",
      "Not reading tags because the file doi_10.5061_dryad.5hqbzkh6f__v6/Stress_dataset/BG/BG_1603929659\\tags.csv is empty.\n",
      "Not reading tags because the file doi_10.5061_dryad.5hqbzkh6f__v6/Stress_dataset/BG/BG_1603933213\\tags.csv is empty.\n",
      "Not reading tags because the file doi_10.5061_dryad.5hqbzkh6f__v6/Stress_dataset/BG/BG_1603934355\\tags.csv is empty.\n"
     ]
    },
    {
     "name": "stderr",
     "output_type": "stream",
     "text": [
      "c:\\Tools\\anaconda3\\envs\\base2\\lib\\site-packages\\devicely\\empatica.py:187: FutureWarning: The squeeze argument has been deprecated and will be removed in a future version. Append .squeeze(\"columns\") to the call to squeeze.\n",
      "\n",
      "\n",
      "  return pd.read_csv(path, header=None,\n"
     ]
    },
    {
     "name": "stdout",
     "output_type": "stream",
     "text": [
      "Not reading tags because the file doi_10.5061_dryad.5hqbzkh6f__v6/Stress_dataset/BG/BG_1603950453\\tags.csv is empty.\n",
      "Not reading tags because the file doi_10.5061_dryad.5hqbzkh6f__v6/Stress_dataset/BG/BG_1603951073\\tags.csv is empty.\n",
      "Not reading tags because the file doi_10.5061_dryad.5hqbzkh6f__v6/Stress_dataset/BG/BG_1603952237\\tags.csv is empty.\n",
      "Not reading signal because the file doi_10.5061_dryad.5hqbzkh6f__v6/Stress_dataset/BG/BG_1604018298\\IBI.csv is empty.\n",
      "Not reading signal because the file doi_10.5061_dryad.5hqbzkh6f__v6/Stress_dataset/BG/BG_1604018860\\IBI.csv is empty.\n",
      "Not reading tags because the file doi_10.5061_dryad.5hqbzkh6f__v6/Stress_dataset/BG/BG_1604018860\\tags.csv is empty.\n",
      "Not reading signal because the file doi_10.5061_dryad.5hqbzkh6f__v6/Stress_dataset/BG/BG_1604020604\\IBI.csv is empty.\n"
     ]
    },
    {
     "name": "stderr",
     "output_type": "stream",
     "text": [
      "c:\\Tools\\anaconda3\\envs\\base2\\lib\\site-packages\\devicely\\empatica.py:187: FutureWarning: The squeeze argument has been deprecated and will be removed in a future version. Append .squeeze(\"columns\") to the call to squeeze.\n",
      "\n",
      "\n",
      "  return pd.read_csv(path, header=None,\n"
     ]
    },
    {
     "name": "stdout",
     "output_type": "stream",
     "text": [
      "Not reading tags because the file doi_10.5061_dryad.5hqbzkh6f__v6/Stress_dataset/BG/BG_1604020604\\tags.csv is empty.\n",
      "Not reading signal because the file doi_10.5061_dryad.5hqbzkh6f__v6/Stress_dataset/BG/BG_1604026527\\IBI.csv is empty.\n",
      "Not reading tags because the file doi_10.5061_dryad.5hqbzkh6f__v6/Stress_dataset/BG/BG_1604026527\\tags.csv is empty.\n",
      "Not reading signal because the file doi_10.5061_dryad.5hqbzkh6f__v6/Stress_dataset/BG/BG_1604028580\\IBI.csv is empty.\n",
      "Not reading tags because the file doi_10.5061_dryad.5hqbzkh6f__v6/Stress_dataset/BG/BG_1604028580\\tags.csv is empty.\n",
      "Not reading tags because the file doi_10.5061_dryad.5hqbzkh6f__v6/Stress_dataset/BG/BG_1604029600\\tags.csv is empty.\n",
      "Not reading tags because the file doi_10.5061_dryad.5hqbzkh6f__v6/Stress_dataset/BG/BG_1604032944\\tags.csv is empty.\n",
      "Not reading signal because the file doi_10.5061_dryad.5hqbzkh6f__v6/Stress_dataset/BG/BG_1604036907\\IBI.csv is empty.\n",
      "Not reading tags because the file doi_10.5061_dryad.5hqbzkh6f__v6/Stress_dataset/BG/BG_1604036907\\tags.csv is empty.\n",
      "Not reading signal because the file doi_10.5061_dryad.5hqbzkh6f__v6/Stress_dataset/BG/BG_1604037255\\IBI.csv is empty.\n",
      "Not reading tags because the file doi_10.5061_dryad.5hqbzkh6f__v6/Stress_dataset/BG/BG_1604037255\\tags.csv is empty.\n",
      "Not reading signal because the file doi_10.5061_dryad.5hqbzkh6f__v6/Stress_dataset/BG/BG_1604041261\\IBI.csv is empty.\n",
      "Not reading tags because the file doi_10.5061_dryad.5hqbzkh6f__v6/Stress_dataset/BG/BG_1604041261\\tags.csv is empty.\n",
      "Not reading signal because the file doi_10.5061_dryad.5hqbzkh6f__v6/Stress_dataset/BG/BG_1604043352\\IBI.csv is empty.\n",
      "Not reading tags because the file doi_10.5061_dryad.5hqbzkh6f__v6/Stress_dataset/BG/BG_1604043352\\tags.csv is empty.\n",
      "Not reading tags because the file doi_10.5061_dryad.5hqbzkh6f__v6/Stress_dataset/BG/BG_1604046977\\tags.csv is empty.\n",
      "Not reading signal because the file doi_10.5061_dryad.5hqbzkh6f__v6/Stress_dataset/BG/BG_1604196392\\IBI.csv is empty.\n",
      "Not reading tags because the file doi_10.5061_dryad.5hqbzkh6f__v6/Stress_dataset/BG/BG_1604196392\\tags.csv is empty.\n",
      "Not reading signal because the file doi_10.5061_dryad.5hqbzkh6f__v6/Stress_dataset/BG/BG_1604197220\\IBI.csv is empty.\n",
      "Not reading tags because the file doi_10.5061_dryad.5hqbzkh6f__v6/Stress_dataset/BG/BG_1604197220\\tags.csv is empty.\n",
      "Not reading tags because the file doi_10.5061_dryad.5hqbzkh6f__v6/Stress_dataset/BG/BG_1604211037\\tags.csv is empty.\n",
      "Not reading signal because the file doi_10.5061_dryad.5hqbzkh6f__v6/Stress_dataset/BG/BG_1604212249\\IBI.csv is empty.\n",
      "Not reading tags because the file doi_10.5061_dryad.5hqbzkh6f__v6/Stress_dataset/BG/BG_1604212249\\tags.csv is empty.\n",
      "Not reading tags because the file doi_10.5061_dryad.5hqbzkh6f__v6/Stress_dataset/BG/BG_1604569017\\tags.csv is empty.\n",
      "Not reading tags because the file doi_10.5061_dryad.5hqbzkh6f__v6/Stress_dataset/BG/BG_1604624541\\tags.csv is empty.\n",
      "Not reading tags because the file doi_10.5061_dryad.5hqbzkh6f__v6/Stress_dataset/BG/BG_1604625917\\tags.csv is empty.\n",
      "Not reading tags because the file doi_10.5061_dryad.5hqbzkh6f__v6/Stress_dataset/BG/BG_1604637443\\tags.csv is empty.\n",
      "Not reading signal because the file doi_10.5061_dryad.5hqbzkh6f__v6/Stress_dataset/BG/BG_1604640819\\IBI.csv is empty.\n",
      "Not reading tags because the file doi_10.5061_dryad.5hqbzkh6f__v6/Stress_dataset/BG/BG_1604640819\\tags.csv is empty.\n",
      "Not reading tags because the file doi_10.5061_dryad.5hqbzkh6f__v6/Stress_dataset/BG/BG_1604641179\\tags.csv is empty.\n",
      "Not reading tags because the file doi_10.5061_dryad.5hqbzkh6f__v6/Stress_dataset/BG/BG_1604646790\\tags.csv is empty.\n",
      "Not reading signal because the file doi_10.5061_dryad.5hqbzkh6f__v6/Stress_dataset/BG/BG_1604652152\\IBI.csv is empty.\n",
      "Not reading tags because the file doi_10.5061_dryad.5hqbzkh6f__v6/Stress_dataset/BG/BG_1604652152\\tags.csv is empty.\n",
      "Not reading tags because the file doi_10.5061_dryad.5hqbzkh6f__v6/Stress_dataset/BG/BG_1604652324\\tags.csv is empty.\n",
      "Not reading tags because the file doi_10.5061_dryad.5hqbzkh6f__v6/Stress_dataset/BG/BG_1604654730\\tags.csv is empty.\n",
      "Not reading tags because the file doi_10.5061_dryad.5hqbzkh6f__v6/Stress_dataset/BG/BG_1605144876\\tags.csv is empty.\n",
      "Not reading signal because the file doi_10.5061_dryad.5hqbzkh6f__v6/Stress_dataset/BG/BG_1605162029\\IBI.csv is empty.\n",
      "Not reading tags because the file doi_10.5061_dryad.5hqbzkh6f__v6/Stress_dataset/BG/BG_1605162029\\tags.csv is empty.\n",
      "Not reading tags because the file doi_10.5061_dryad.5hqbzkh6f__v6/Stress_dataset/BG/BG_1605168600\\tags.csv is empty.\n",
      "Not reading tags because the file doi_10.5061_dryad.5hqbzkh6f__v6/Stress_dataset/BG/BG_1605177819\\tags.csv is empty.\n",
      "Not reading tags because the file doi_10.5061_dryad.5hqbzkh6f__v6/Stress_dataset/BG/BG_1605182166\\tags.csv is empty.\n",
      "Not reading signal because the file doi_10.5061_dryad.5hqbzkh6f__v6/Stress_dataset/BG/BG_1605240943\\IBI.csv is empty.\n",
      "Not reading tags because the file doi_10.5061_dryad.5hqbzkh6f__v6/Stress_dataset/BG/BG_1605240943\\tags.csv is empty.\n",
      "Not reading signal because the file doi_10.5061_dryad.5hqbzkh6f__v6/Stress_dataset/BG/BG_1605241050\\IBI.csv is empty.\n",
      "Not reading tags because the file doi_10.5061_dryad.5hqbzkh6f__v6/Stress_dataset/BG/BG_1605241050\\tags.csv is empty.\n",
      "Not reading tags because the file doi_10.5061_dryad.5hqbzkh6f__v6/Stress_dataset/BG/BG_1605241814\\tags.csv is empty.\n",
      "Not reading tags because the file doi_10.5061_dryad.5hqbzkh6f__v6/Stress_dataset/BG/BG_1605246857\\tags.csv is empty.\n",
      "Not reading signal because the file doi_10.5061_dryad.5hqbzkh6f__v6/Stress_dataset/BG/BG_1605406957\\IBI.csv is empty.\n",
      "Not reading tags because the file doi_10.5061_dryad.5hqbzkh6f__v6/Stress_dataset/BG/BG_1605406957\\tags.csv is empty.\n",
      "Not reading signal because the file doi_10.5061_dryad.5hqbzkh6f__v6/Stress_dataset/BG/BG_1605407143\\IBI.csv is empty.\n",
      "Not reading tags because the file doi_10.5061_dryad.5hqbzkh6f__v6/Stress_dataset/BG/BG_1605407143\\tags.csv is empty.\n",
      "Not reading tags because the file doi_10.5061_dryad.5hqbzkh6f__v6/Stress_dataset/BG/BG_1605407666\\tags.csv is empty.\n",
      "Not reading tags because the file doi_10.5061_dryad.5hqbzkh6f__v6/Stress_dataset/BG/BG_1605417734\\tags.csv is empty.\n",
      "Not reading tags because the file doi_10.5061_dryad.5hqbzkh6f__v6/Stress_dataset/BG/BG_1606958133\\tags.csv is empty.\n",
      "Not reading tags because the file doi_10.5061_dryad.5hqbzkh6f__v6/Stress_dataset/BG/BG_1606959940\\tags.csv is empty.\n",
      "Not reading tags because the file doi_10.5061_dryad.5hqbzkh6f__v6/Stress_dataset/BG/BG_1606972127\\tags.csv is empty.\n",
      "Not reading tags because the file doi_10.5061_dryad.5hqbzkh6f__v6/Stress_dataset/BG/BG_1606972651\\tags.csv is empty.\n",
      "Not reading tags because the file doi_10.5061_dryad.5hqbzkh6f__v6/Stress_dataset/BG/BG_1606973939\\tags.csv is empty.\n",
      "Not reading tags because the file doi_10.5061_dryad.5hqbzkh6f__v6/Stress_dataset/BG/BG_1606976272\\tags.csv is empty.\n",
      "Not reading tags because the file doi_10.5061_dryad.5hqbzkh6f__v6/Stress_dataset/BG/BG_1606983743\\tags.csv is empty.\n",
      "Not reading tags because the file doi_10.5061_dryad.5hqbzkh6f__v6/Stress_dataset/BG/BG_1606985234\\tags.csv is empty.\n",
      "Not reading tags because the file doi_10.5061_dryad.5hqbzkh6f__v6/Stress_dataset/BG/BG_1606987563\\tags.csv is empty.\n",
      "Not reading tags because the file doi_10.5061_dryad.5hqbzkh6f__v6/Stress_dataset/BG/BG_1607043192\\tags.csv is empty.\n",
      "Not reading tags because the file doi_10.5061_dryad.5hqbzkh6f__v6/Stress_dataset/BG/BG_1607045808\\tags.csv is empty.\n",
      "Not reading tags because the file doi_10.5061_dryad.5hqbzkh6f__v6/Stress_dataset/BG/BG_1607131158\\tags.csv is empty.\n",
      "Not reading tags because the file doi_10.5061_dryad.5hqbzkh6f__v6/Stress_dataset/BG/BG_1607144946\\tags.csv is empty.\n",
      "Not reading tags because the file doi_10.5061_dryad.5hqbzkh6f__v6/Stress_dataset/BG/BG_1607147439\\tags.csv is empty.\n",
      "Not reading tags because the file doi_10.5061_dryad.5hqbzkh6f__v6/Stress_dataset/BG/BG_1607150884\\tags.csv is empty.\n",
      "Not reading tags because the file doi_10.5061_dryad.5hqbzkh6f__v6/Stress_dataset/BG/BG_1607215814\\tags.csv is empty.\n",
      "Not reading tags because the file doi_10.5061_dryad.5hqbzkh6f__v6/Stress_dataset/BG/BG_1607218219\\tags.csv is empty.\n",
      "Not reading tags because the file doi_10.5061_dryad.5hqbzkh6f__v6/Stress_dataset/BG/BG_1607219762\\tags.csv is empty.\n",
      "Not reading signal because the file doi_10.5061_dryad.5hqbzkh6f__v6/Stress_dataset/BG/BG_1607229325\\IBI.csv is empty.\n",
      "Not reading tags because the file doi_10.5061_dryad.5hqbzkh6f__v6/Stress_dataset/BG/BG_1607229325\\tags.csv is empty.\n",
      "Not reading tags because the file doi_10.5061_dryad.5hqbzkh6f__v6/Stress_dataset/BG/BG_1607229558\\tags.csv is empty.\n",
      "Not reading tags because the file doi_10.5061_dryad.5hqbzkh6f__v6/Stress_dataset/BG/BG_1607232172\\tags.csv is empty.\n",
      "Not reading tags because the file doi_10.5061_dryad.5hqbzkh6f__v6/Stress_dataset/BG/BG_1607561446\\tags.csv is empty.\n",
      "Not reading tags because the file doi_10.5061_dryad.5hqbzkh6f__v6/Stress_dataset/BG/BG_1607576785\\tags.csv is empty.\n",
      "Not reading signal because the file doi_10.5061_dryad.5hqbzkh6f__v6/Stress_dataset/BG/BG_1607585026\\IBI.csv is empty.\n",
      "Not reading tags because the file doi_10.5061_dryad.5hqbzkh6f__v6/Stress_dataset/BG/BG_1607585026\\tags.csv is empty.\n",
      "Not reading tags because the file doi_10.5061_dryad.5hqbzkh6f__v6/Stress_dataset/BG/BG_1607648493\\tags.csv is empty.\n",
      "Not reading tags because the file doi_10.5061_dryad.5hqbzkh6f__v6/Stress_dataset/BG/BG_1607652757\\tags.csv is empty.\n",
      "Not reading tags because the file doi_10.5061_dryad.5hqbzkh6f__v6/Stress_dataset/BG/BG_1607664323\\tags.csv is empty.\n",
      "Not reading tags because the file doi_10.5061_dryad.5hqbzkh6f__v6/Stress_dataset/BG/BG_1607672427\\tags.csv is empty.\n",
      "Not reading tags because the file doi_10.5061_dryad.5hqbzkh6f__v6/Stress_dataset/BG/BG_1607673482\\tags.csv is empty.\n",
      "Not reading tags because the file doi_10.5061_dryad.5hqbzkh6f__v6/Stress_dataset/BG/BG_1607676959\\tags.csv is empty.\n",
      "Not reading tags because the file doi_10.5061_dryad.5hqbzkh6f__v6/Stress_dataset/BG/BG_1607681888\\tags.csv is empty.\n",
      "Not reading tags because the file doi_10.5061_dryad.5hqbzkh6f__v6/Stress_dataset/BG/BG_1607735684\\tags.csv is empty.\n",
      "Not reading signal because the file doi_10.5061_dryad.5hqbzkh6f__v6/Stress_dataset/BG/BG_1607751901\\IBI.csv is empty.\n",
      "Not reading tags because the file doi_10.5061_dryad.5hqbzkh6f__v6/Stress_dataset/BG/BG_1607751901\\tags.csv is empty.\n",
      "Not reading tags because the file doi_10.5061_dryad.5hqbzkh6f__v6/Stress_dataset/BG/BG_1607752220\\tags.csv is empty.\n",
      "Not reading tags because the file doi_10.5061_dryad.5hqbzkh6f__v6/Stress_dataset/BG/BG_1607755833\\tags.csv is empty.\n",
      "Not reading tags because the file doi_10.5061_dryad.5hqbzkh6f__v6/Stress_dataset/BG/BG_1607760334\\tags.csv is empty.\n",
      "Not reading tags because the file doi_10.5061_dryad.5hqbzkh6f__v6/Stress_dataset/BG/BG_1607770986\\tags.csv is empty.\n",
      "Not reading tags because the file doi_10.5061_dryad.5hqbzkh6f__v6/Stress_dataset/CE/CE_1586788313\\tags.csv is empty.\n",
      "Not reading signal because the file doi_10.5061_dryad.5hqbzkh6f__v6/Stress_dataset/CE/CE_1587567895\\IBI.csv is empty.\n"
     ]
    },
    {
     "name": "stderr",
     "output_type": "stream",
     "text": [
      "c:\\Tools\\anaconda3\\envs\\base2\\lib\\site-packages\\devicely\\empatica.py:187: FutureWarning: The squeeze argument has been deprecated and will be removed in a future version. Append .squeeze(\"columns\") to the call to squeeze.\n",
      "\n",
      "\n",
      "  return pd.read_csv(path, header=None,\n"
     ]
    },
    {
     "name": "stdout",
     "output_type": "stream",
     "text": [
      "Not reading tags because the file doi_10.5061_dryad.5hqbzkh6f__v6/Stress_dataset/CE/CE_1587568353\\tags.csv is empty.\n",
      "Not reading tags because the file doi_10.5061_dryad.5hqbzkh6f__v6/Stress_dataset/CE/CE_1587640779\\tags.csv is empty.\n",
      "Not reading tags because the file doi_10.5061_dryad.5hqbzkh6f__v6/Stress_dataset/CE/CE_1587646985\\tags.csv is empty.\n",
      "Not reading tags because the file doi_10.5061_dryad.5hqbzkh6f__v6/Stress_dataset/CE/CE_1587647855\\tags.csv is empty.\n",
      "Not reading tags because the file doi_10.5061_dryad.5hqbzkh6f__v6/Stress_dataset/CE/CE_1587660308\\tags.csv is empty.\n",
      "Not reading signal because the file doi_10.5061_dryad.5hqbzkh6f__v6/Stress_dataset/CE/CE_1587687471\\IBI.csv is empty.\n",
      "Not reading tags because the file doi_10.5061_dryad.5hqbzkh6f__v6/Stress_dataset/CE/CE_1587687471\\tags.csv is empty.\n",
      "Not reading tags because the file doi_10.5061_dryad.5hqbzkh6f__v6/Stress_dataset/CE/CE_1588162715\\tags.csv is empty.\n",
      "Not reading tags because the file doi_10.5061_dryad.5hqbzkh6f__v6/Stress_dataset/CE/CE_1588172175\\tags.csv is empty.\n",
      "Not reading tags because the file doi_10.5061_dryad.5hqbzkh6f__v6/Stress_dataset/CE/CE_1588189759\\tags.csv is empty.\n",
      "Not reading signal because the file doi_10.5061_dryad.5hqbzkh6f__v6/Stress_dataset/CE/CE_1588205936\\IBI.csv is empty.\n",
      "Not reading tags because the file doi_10.5061_dryad.5hqbzkh6f__v6/Stress_dataset/CE/CE_1588205936\\tags.csv is empty.\n",
      "Not reading tags because the file doi_10.5061_dryad.5hqbzkh6f__v6/Stress_dataset/CE/CE_1588536145\\tags.csv is empty.\n",
      "Not reading signal because the file doi_10.5061_dryad.5hqbzkh6f__v6/Stress_dataset/CE/CE_1588548635\\IBI.csv is empty.\n",
      "Not reading tags because the file doi_10.5061_dryad.5hqbzkh6f__v6/Stress_dataset/CE/CE_1588548635\\tags.csv is empty.\n",
      "Not reading tags because the file doi_10.5061_dryad.5hqbzkh6f__v6/Stress_dataset/CE/CE_1588972583\\tags.csv is empty.\n",
      "Not reading signal because the file doi_10.5061_dryad.5hqbzkh6f__v6/Stress_dataset/CE/CE_1588981607\\IBI.csv is empty.\n",
      "Not reading tags because the file doi_10.5061_dryad.5hqbzkh6f__v6/Stress_dataset/CE/CE_1588981607\\tags.csv is empty.\n",
      "Not reading signal because the file doi_10.5061_dryad.5hqbzkh6f__v6/Stress_dataset/CE/CE_1588981804\\IBI.csv is empty.\n",
      "Not reading tags because the file doi_10.5061_dryad.5hqbzkh6f__v6/Stress_dataset/CE/CE_1588981804\\tags.csv is empty.\n",
      "Not reading tags because the file doi_10.5061_dryad.5hqbzkh6f__v6/Stress_dataset/CE/CE_1589026517\\tags.csv is empty.\n",
      "Not reading tags because the file doi_10.5061_dryad.5hqbzkh6f__v6/Stress_dataset/CE/CE_1589034718\\tags.csv is empty.\n",
      "Not reading signal because the file doi_10.5061_dryad.5hqbzkh6f__v6/Stress_dataset/CE/CE_1589052103\\IBI.csv is empty.\n",
      "Not reading tags because the file doi_10.5061_dryad.5hqbzkh6f__v6/Stress_dataset/CE/CE_1589052103\\tags.csv is empty.\n",
      "Not reading tags because the file doi_10.5061_dryad.5hqbzkh6f__v6/Stress_dataset/CE/CE_1589052154\\tags.csv is empty.\n",
      "Not reading tags because the file doi_10.5061_dryad.5hqbzkh6f__v6/Stress_dataset/CE/CE_1589113933\\tags.csv is empty.\n",
      "Not reading tags because the file doi_10.5061_dryad.5hqbzkh6f__v6/Stress_dataset/CE/CE_1589202513\\tags.csv is empty.\n",
      "Not reading tags because the file doi_10.5061_dryad.5hqbzkh6f__v6/Stress_dataset/CE/CE_1589216580\\tags.csv is empty.\n",
      "Not reading tags because the file doi_10.5061_dryad.5hqbzkh6f__v6/Stress_dataset/CE/CE_1589228164\\tags.csv is empty.\n",
      "Not reading tags because the file doi_10.5061_dryad.5hqbzkh6f__v6/Stress_dataset/CE/CE_1589292074\\tags.csv is empty.\n",
      "Not reading signal because the file doi_10.5061_dryad.5hqbzkh6f__v6/Stress_dataset/CE/CE_1589831911\\IBI.csv is empty.\n",
      "Not reading tags because the file doi_10.5061_dryad.5hqbzkh6f__v6/Stress_dataset/CE/CE_1589831911\\tags.csv is empty.\n",
      "Not reading tags because the file doi_10.5061_dryad.5hqbzkh6f__v6/Stress_dataset/CE/CE_1589901374\\tags.csv is empty.\n"
     ]
    },
    {
     "name": "stderr",
     "output_type": "stream",
     "text": [
      "c:\\Tools\\anaconda3\\envs\\base2\\lib\\site-packages\\devicely\\empatica.py:187: FutureWarning: The squeeze argument has been deprecated and will be removed in a future version. Append .squeeze(\"columns\") to the call to squeeze.\n",
      "\n",
      "\n",
      "  return pd.read_csv(path, header=None,\n"
     ]
    },
    {
     "name": "stdout",
     "output_type": "stream",
     "text": [
      "Not reading signal because the file doi_10.5061_dryad.5hqbzkh6f__v6/Stress_dataset/CE/CE_1590237729\\IBI.csv is empty.\n",
      "Not reading tags because the file doi_10.5061_dryad.5hqbzkh6f__v6/Stress_dataset/CE/CE_1590237729\\tags.csv is empty.\n",
      "Not reading signal because the file doi_10.5061_dryad.5hqbzkh6f__v6/Stress_dataset/CE/CE_1592752859\\IBI.csv is empty.\n",
      "Not reading tags because the file doi_10.5061_dryad.5hqbzkh6f__v6/Stress_dataset/CE/CE_1592752859\\tags.csv is empty.\n"
     ]
    },
    {
     "name": "stderr",
     "output_type": "stream",
     "text": [
      "c:\\Tools\\anaconda3\\envs\\base2\\lib\\site-packages\\devicely\\empatica.py:187: FutureWarning: The squeeze argument has been deprecated and will be removed in a future version. Append .squeeze(\"columns\") to the call to squeeze.\n",
      "\n",
      "\n",
      "  return pd.read_csv(path, header=None,\n"
     ]
    },
    {
     "name": "stdout",
     "output_type": "stream",
     "text": [
      "Not reading tags because the file doi_10.5061_dryad.5hqbzkh6f__v6/Stress_dataset/CE/CE_1593004524\\tags.csv is empty.\n",
      "Not reading tags because the file doi_10.5061_dryad.5hqbzkh6f__v6/Stress_dataset/CE/CE_1593023688\\tags.csv is empty.\n",
      "Not reading tags because the file doi_10.5061_dryad.5hqbzkh6f__v6/Stress_dataset/CE/CE_1593088528\\tags.csv is empty.\n",
      "Not reading tags because the file doi_10.5061_dryad.5hqbzkh6f__v6/Stress_dataset/CE/CE_1593106218\\tags.csv is empty.\n"
     ]
    },
    {
     "name": "stderr",
     "output_type": "stream",
     "text": [
      "c:\\Tools\\anaconda3\\envs\\base2\\lib\\site-packages\\devicely\\empatica.py:187: FutureWarning: The squeeze argument has been deprecated and will be removed in a future version. Append .squeeze(\"columns\") to the call to squeeze.\n",
      "\n",
      "\n",
      "  return pd.read_csv(path, header=None,\n"
     ]
    },
    {
     "name": "stdout",
     "output_type": "stream",
     "text": [
      "Not reading tags because the file doi_10.5061_dryad.5hqbzkh6f__v6/Stress_dataset/CE/CE_1593437835\\tags.csv is empty.\n",
      "Not reading tags because the file doi_10.5061_dryad.5hqbzkh6f__v6/Stress_dataset/CE/CE_1593536265\\tags.csv is empty.\n",
      "Not reading tags because the file doi_10.5061_dryad.5hqbzkh6f__v6/Stress_dataset/CE/CE_1593632057\\tags.csv is empty.\n",
      "Not reading tags because the file doi_10.5061_dryad.5hqbzkh6f__v6/Stress_dataset/CE/CE_1593694242\\tags.csv is empty.\n",
      "Not reading tags because the file doi_10.5061_dryad.5hqbzkh6f__v6/Stress_dataset/CE/CE_1593697107\\tags.csv is empty.\n",
      "Not reading tags because the file doi_10.5061_dryad.5hqbzkh6f__v6/Stress_dataset/CE/CE_1593783290\\tags.csv is empty.\n",
      "Not reading tags because the file doi_10.5061_dryad.5hqbzkh6f__v6/Stress_dataset/CE/CE_1594059133\\tags.csv is empty.\n",
      "Not reading tags because the file doi_10.5061_dryad.5hqbzkh6f__v6/Stress_dataset/CE/CE_1594129814\\tags.csv is empty.\n",
      "Not reading tags because the file doi_10.5061_dryad.5hqbzkh6f__v6/Stress_dataset/DF/DF_1594231189\\tags.csv is empty.\n",
      "Not reading tags because the file doi_10.5061_dryad.5hqbzkh6f__v6/Stress_dataset/DF/DF_1594296700\\tags.csv is empty.\n",
      "Not reading tags because the file doi_10.5061_dryad.5hqbzkh6f__v6/Stress_dataset/DF/DF_1594305457\\tags.csv is empty.\n",
      "Not reading tags because the file doi_10.5061_dryad.5hqbzkh6f__v6/Stress_dataset/DF/DF_1594385893\\tags.csv is empty.\n",
      "Not reading tags because the file doi_10.5061_dryad.5hqbzkh6f__v6/Stress_dataset/DF/DF_1594662154\\tags.csv is empty.\n",
      "Not reading tags because the file doi_10.5061_dryad.5hqbzkh6f__v6/Stress_dataset/DF/DF_1594757884\\tags.csv is empty.\n",
      "Not reading tags because the file doi_10.5061_dryad.5hqbzkh6f__v6/Stress_dataset/DF/DF_1594907019\\tags.csv is empty.\n"
     ]
    },
    {
     "name": "stderr",
     "output_type": "stream",
     "text": [
      "c:\\Tools\\anaconda3\\envs\\base2\\lib\\site-packages\\devicely\\empatica.py:187: FutureWarning: The squeeze argument has been deprecated and will be removed in a future version. Append .squeeze(\"columns\") to the call to squeeze.\n",
      "\n",
      "\n",
      "  return pd.read_csv(path, header=None,\n",
      "c:\\Tools\\anaconda3\\envs\\base2\\lib\\site-packages\\devicely\\empatica.py:187: FutureWarning: The squeeze argument has been deprecated and will be removed in a future version. Append .squeeze(\"columns\") to the call to squeeze.\n",
      "\n",
      "\n",
      "  return pd.read_csv(path, header=None,\n"
     ]
    },
    {
     "name": "stdout",
     "output_type": "stream",
     "text": [
      "Not reading tags because the file doi_10.5061_dryad.5hqbzkh6f__v6/Stress_dataset/DF/DF_1595337957\\tags.csv is empty.\n",
      "Not reading tags because the file doi_10.5061_dryad.5hqbzkh6f__v6/Stress_dataset/DF/DF_1595429921\\tags.csv is empty.\n",
      "Not reading tags because the file doi_10.5061_dryad.5hqbzkh6f__v6/Stress_dataset/DF/DF_1595512329\\tags.csv is empty.\n",
      "Not reading tags because the file doi_10.5061_dryad.5hqbzkh6f__v6/Stress_dataset/DF/DF_1595526948\\tags.csv is empty.\n",
      "Not reading tags because the file doi_10.5061_dryad.5hqbzkh6f__v6/Stress_dataset/DF/DF_1595617578\\tags.csv is empty.\n",
      "Not reading tags because the file doi_10.5061_dryad.5hqbzkh6f__v6/Stress_dataset/DF/DF_1595854003\\tags.csv is empty.\n",
      "Not reading tags because the file doi_10.5061_dryad.5hqbzkh6f__v6/Stress_dataset/DF/DF_1595941102\\tags.csv is empty.\n"
     ]
    },
    {
     "name": "stderr",
     "output_type": "stream",
     "text": [
      "c:\\Tools\\anaconda3\\envs\\base2\\lib\\site-packages\\devicely\\empatica.py:187: FutureWarning: The squeeze argument has been deprecated and will be removed in a future version. Append .squeeze(\"columns\") to the call to squeeze.\n",
      "\n",
      "\n",
      "  return pd.read_csv(path, header=None,\n"
     ]
    },
    {
     "name": "stdout",
     "output_type": "stream",
     "text": [
      "Not reading tags because the file doi_10.5061_dryad.5hqbzkh6f__v6/Stress_dataset/DF/DF_1596114677\\tags.csv is empty.\n",
      "Not reading tags because the file doi_10.5061_dryad.5hqbzkh6f__v6/Stress_dataset/DF/DF_1596205551\\tags.csv is empty.\n",
      "Not reading tags because the file doi_10.5061_dryad.5hqbzkh6f__v6/Stress_dataset/DF/DF_1596476007\\tags.csv is empty.\n",
      "Not reading tags because the file doi_10.5061_dryad.5hqbzkh6f__v6/Stress_dataset/DF/DF_1596543989\\tags.csv is empty.\n",
      "Not reading tags because the file doi_10.5061_dryad.5hqbzkh6f__v6/Stress_dataset/DF/DF_1596630398\\tags.csv is empty.\n",
      "Not reading tags because the file doi_10.5061_dryad.5hqbzkh6f__v6/Stress_dataset/DF/DF_1596719209\\tags.csv is empty.\n",
      "Not reading tags because the file doi_10.5061_dryad.5hqbzkh6f__v6/Stress_dataset/DF/DF_1596735393\\tags.csv is empty.\n",
      "Not reading tags because the file doi_10.5061_dryad.5hqbzkh6f__v6/Stress_dataset/DF/DF_1596802799\\tags.csv is empty.\n",
      "Not reading tags because the file doi_10.5061_dryad.5hqbzkh6f__v6/Stress_dataset/DF/DF_1596814961\\tags.csv is empty.\n",
      "Not reading tags because the file doi_10.5061_dryad.5hqbzkh6f__v6/Stress_dataset/E4/E4_1587206108\\tags.csv is empty.\n",
      "Not reading tags because the file doi_10.5061_dryad.5hqbzkh6f__v6/Stress_dataset/E4/E4_1587236732\\tags.csv is empty.\n",
      "Not reading tags because the file doi_10.5061_dryad.5hqbzkh6f__v6/Stress_dataset/E4/E4_1587241555\\tags.csv is empty.\n",
      "Not reading tags because the file doi_10.5061_dryad.5hqbzkh6f__v6/Stress_dataset/E4/E4_1587294299\\tags.csv is empty.\n",
      "Not reading tags because the file doi_10.5061_dryad.5hqbzkh6f__v6/Stress_dataset/E4/E4_1587298478\\tags.csv is empty.\n"
     ]
    },
    {
     "name": "stderr",
     "output_type": "stream",
     "text": [
      "c:\\Tools\\anaconda3\\envs\\base2\\lib\\site-packages\\devicely\\empatica.py:187: FutureWarning: The squeeze argument has been deprecated and will be removed in a future version. Append .squeeze(\"columns\") to the call to squeeze.\n",
      "\n",
      "\n",
      "  return pd.read_csv(path, header=None,\n",
      "c:\\Tools\\anaconda3\\envs\\base2\\lib\\site-packages\\devicely\\empatica.py:187: FutureWarning: The squeeze argument has been deprecated and will be removed in a future version. Append .squeeze(\"columns\") to the call to squeeze.\n",
      "\n",
      "\n",
      "  return pd.read_csv(path, header=None,\n"
     ]
    },
    {
     "name": "stdout",
     "output_type": "stream",
     "text": [
      "Not reading tags because the file doi_10.5061_dryad.5hqbzkh6f__v6/Stress_dataset/E4/E4_1587315090\\tags.csv is empty.\n",
      "Not reading tags because the file doi_10.5061_dryad.5hqbzkh6f__v6/Stress_dataset/E4/E4_1587318394\\tags.csv is empty.\n",
      "Not reading tags because the file doi_10.5061_dryad.5hqbzkh6f__v6/Stress_dataset/E4/E4_1587324331\\tags.csv is empty.\n",
      "Not reading tags because the file doi_10.5061_dryad.5hqbzkh6f__v6/Stress_dataset/E4/E4_1587329010\\tags.csv is empty.\n",
      "Not reading tags because the file doi_10.5061_dryad.5hqbzkh6f__v6/Stress_dataset/E4/E4_1587383217\\tags.csv is empty.\n"
     ]
    },
    {
     "name": "stderr",
     "output_type": "stream",
     "text": [
      "c:\\Tools\\anaconda3\\envs\\base2\\lib\\site-packages\\devicely\\empatica.py:187: FutureWarning: The squeeze argument has been deprecated and will be removed in a future version. Append .squeeze(\"columns\") to the call to squeeze.\n",
      "\n",
      "\n",
      "  return pd.read_csv(path, header=None,\n"
     ]
    },
    {
     "name": "stdout",
     "output_type": "stream",
     "text": [
      "Not reading tags because the file doi_10.5061_dryad.5hqbzkh6f__v6/Stress_dataset/E4/E4_1587409032\\tags.csv is empty.\n",
      "Not reading signal because the file doi_10.5061_dryad.5hqbzkh6f__v6/Stress_dataset/E4/E4_1587409707\\IBI.csv is empty.\n"
     ]
    },
    {
     "name": "stderr",
     "output_type": "stream",
     "text": [
      "c:\\Tools\\anaconda3\\envs\\base2\\lib\\site-packages\\devicely\\empatica.py:187: FutureWarning: The squeeze argument has been deprecated and will be removed in a future version. Append .squeeze(\"columns\") to the call to squeeze.\n",
      "\n",
      "\n",
      "  return pd.read_csv(path, header=None,\n"
     ]
    },
    {
     "name": "stdout",
     "output_type": "stream",
     "text": [
      "Not reading tags because the file doi_10.5061_dryad.5hqbzkh6f__v6/Stress_dataset/E4/E4_1587417188\\tags.csv is empty.\n",
      "Not reading signal because the file doi_10.5061_dryad.5hqbzkh6f__v6/Stress_dataset/E4/E4_1588984019\\IBI.csv is empty.\n",
      "Not reading tags because the file doi_10.5061_dryad.5hqbzkh6f__v6/Stress_dataset/E4/E4_1588984019\\tags.csv is empty.\n",
      "Not reading signal because the file doi_10.5061_dryad.5hqbzkh6f__v6/Stress_dataset/E4/E4_1589028644\\IBI.csv is empty.\n",
      "Not reading tags because the file doi_10.5061_dryad.5hqbzkh6f__v6/Stress_dataset/E4/E4_1589028644\\tags.csv is empty.\n"
     ]
    },
    {
     "name": "stderr",
     "output_type": "stream",
     "text": [
      "c:\\Tools\\anaconda3\\envs\\base2\\lib\\site-packages\\devicely\\empatica.py:187: FutureWarning: The squeeze argument has been deprecated and will be removed in a future version. Append .squeeze(\"columns\") to the call to squeeze.\n",
      "\n",
      "\n",
      "  return pd.read_csv(path, header=None,\n",
      "c:\\Tools\\anaconda3\\envs\\base2\\lib\\site-packages\\devicely\\empatica.py:187: FutureWarning: The squeeze argument has been deprecated and will be removed in a future version. Append .squeeze(\"columns\") to the call to squeeze.\n",
      "\n",
      "\n",
      "  return pd.read_csv(path, header=None,\n",
      "c:\\Tools\\anaconda3\\envs\\base2\\lib\\site-packages\\devicely\\empatica.py:187: FutureWarning: The squeeze argument has been deprecated and will be removed in a future version. Append .squeeze(\"columns\") to the call to squeeze.\n",
      "\n",
      "\n",
      "  return pd.read_csv(path, header=None,\n"
     ]
    },
    {
     "name": "stdout",
     "output_type": "stream",
     "text": [
      "Not reading signal because the file doi_10.5061_dryad.5hqbzkh6f__v6/Stress_dataset/E4/E4_1589200218\\IBI.csv is empty.\n",
      "Not reading tags because the file doi_10.5061_dryad.5hqbzkh6f__v6/Stress_dataset/E4/E4_1589200218\\tags.csv is empty.\n",
      "Not reading signal because the file doi_10.5061_dryad.5hqbzkh6f__v6/Stress_dataset/E4/E4_1589306182\\IBI.csv is empty.\n",
      "Not reading tags because the file doi_10.5061_dryad.5hqbzkh6f__v6/Stress_dataset/E4/E4_1589306182\\tags.csv is empty.\n",
      "Not reading signal because the file doi_10.5061_dryad.5hqbzkh6f__v6/Stress_dataset/E4/E4_1589306729\\IBI.csv is empty.\n",
      "Not reading tags because the file doi_10.5061_dryad.5hqbzkh6f__v6/Stress_dataset/E4/E4_1589306729\\tags.csv is empty.\n",
      "Not reading signal because the file doi_10.5061_dryad.5hqbzkh6f__v6/Stress_dataset/E4/E4_1589312746\\IBI.csv is empty.\n",
      "Not reading tags because the file doi_10.5061_dryad.5hqbzkh6f__v6/Stress_dataset/E4/E4_1589312746\\tags.csv is empty.\n",
      "Not reading tags because the file doi_10.5061_dryad.5hqbzkh6f__v6/Stress_dataset/E4/E4_1589802835\\tags.csv is empty.\n",
      "Not reading tags because the file doi_10.5061_dryad.5hqbzkh6f__v6/Stress_dataset/E4/E4_1589811508\\tags.csv is empty.\n",
      "Not reading signal because the file doi_10.5061_dryad.5hqbzkh6f__v6/Stress_dataset/E4/E4_1589839893\\IBI.csv is empty.\n",
      "Not reading tags because the file doi_10.5061_dryad.5hqbzkh6f__v6/Stress_dataset/E4/E4_1589839893\\tags.csv is empty.\n",
      "Not reading tags because the file doi_10.5061_dryad.5hqbzkh6f__v6/Stress_dataset/E4/E4_1589889235\\tags.csv is empty.\n",
      "Not reading tags because the file doi_10.5061_dryad.5hqbzkh6f__v6/Stress_dataset/E4/E4_1589917617\\tags.csv is empty.\n",
      "Not reading tags because the file doi_10.5061_dryad.5hqbzkh6f__v6/Stress_dataset/E4/E4_1590149482\\tags.csv is empty.\n",
      "Not reading signal because the file doi_10.5061_dryad.5hqbzkh6f__v6/Stress_dataset/E4/E4_1592752787\\IBI.csv is empty.\n",
      "Not reading tags because the file doi_10.5061_dryad.5hqbzkh6f__v6/Stress_dataset/E4/E4_1592752787\\tags.csv is empty.\n",
      "Not reading tags because the file doi_10.5061_dryad.5hqbzkh6f__v6/Stress_dataset/E4/E4_1592937530\\tags.csv is empty.\n",
      "Not reading signal because the file doi_10.5061_dryad.5hqbzkh6f__v6/Stress_dataset/E4/E4_1592937902\\IBI.csv is empty.\n",
      "Not reading tags because the file doi_10.5061_dryad.5hqbzkh6f__v6/Stress_dataset/E4/E4_1592937902\\tags.csv is empty.\n",
      "Not reading tags because the file doi_10.5061_dryad.5hqbzkh6f__v6/Stress_dataset/E4/E4_1592938003\\tags.csv is empty.\n",
      "Not reading signal because the file doi_10.5061_dryad.5hqbzkh6f__v6/Stress_dataset/E4/E4_1592939478\\IBI.csv is empty.\n",
      "Not reading tags because the file doi_10.5061_dryad.5hqbzkh6f__v6/Stress_dataset/E4/E4_1592939478\\tags.csv is empty.\n",
      "Not reading tags because the file doi_10.5061_dryad.5hqbzkh6f__v6/Stress_dataset/E4/E4_1592945524\\tags.csv is empty.\n",
      "Not reading tags because the file doi_10.5061_dryad.5hqbzkh6f__v6/Stress_dataset/E4/E4_1593002275\\tags.csv is empty.\n",
      "Not reading tags because the file doi_10.5061_dryad.5hqbzkh6f__v6/Stress_dataset/E4/E4_1593015418\\tags.csv is empty.\n",
      "Not reading tags because the file doi_10.5061_dryad.5hqbzkh6f__v6/Stress_dataset/E4/E4_1593021695\\tags.csv is empty.\n"
     ]
    },
    {
     "name": "stderr",
     "output_type": "stream",
     "text": [
      "c:\\Tools\\anaconda3\\envs\\base2\\lib\\site-packages\\devicely\\empatica.py:187: FutureWarning: The squeeze argument has been deprecated and will be removed in a future version. Append .squeeze(\"columns\") to the call to squeeze.\n",
      "\n",
      "\n",
      "  return pd.read_csv(path, header=None,\n"
     ]
    },
    {
     "name": "stdout",
     "output_type": "stream",
     "text": [
      "Not reading tags because the file doi_10.5061_dryad.5hqbzkh6f__v6/Stress_dataset/E4/E4_1593439701\\tags.csv is empty.\n",
      "Not reading tags because the file doi_10.5061_dryad.5hqbzkh6f__v6/Stress_dataset/E4/E4_1593461673\\tags.csv is empty.\n",
      "Not reading tags because the file doi_10.5061_dryad.5hqbzkh6f__v6/Stress_dataset/E4/E4_1593538007\\tags.csv is empty.\n",
      "Not reading tags because the file doi_10.5061_dryad.5hqbzkh6f__v6/Stress_dataset/E4/E4_1593543088\\tags.csv is empty.\n"
     ]
    },
    {
     "name": "stderr",
     "output_type": "stream",
     "text": [
      "c:\\Tools\\anaconda3\\envs\\base2\\lib\\site-packages\\devicely\\empatica.py:187: FutureWarning: The squeeze argument has been deprecated and will be removed in a future version. Append .squeeze(\"columns\") to the call to squeeze.\n",
      "\n",
      "\n",
      "  return pd.read_csv(path, header=None,\n"
     ]
    },
    {
     "name": "stdout",
     "output_type": "stream",
     "text": [
      "Not reading tags because the file doi_10.5061_dryad.5hqbzkh6f__v6/Stress_dataset/E4/E4_1593612140\\tags.csv is empty.\n",
      "Not reading tags because the file doi_10.5061_dryad.5hqbzkh6f__v6/Stress_dataset/E4/E4_1593624124\\tags.csv is empty.\n"
     ]
    },
    {
     "name": "stderr",
     "output_type": "stream",
     "text": [
      "c:\\Tools\\anaconda3\\envs\\base2\\lib\\site-packages\\devicely\\empatica.py:187: FutureWarning: The squeeze argument has been deprecated and will be removed in a future version. Append .squeeze(\"columns\") to the call to squeeze.\n",
      "\n",
      "\n",
      "  return pd.read_csv(path, header=None,\n"
     ]
    },
    {
     "name": "stdout",
     "output_type": "stream",
     "text": [
      "Not reading tags because the file doi_10.5061_dryad.5hqbzkh6f__v6/Stress_dataset/E4/E4_1593711228\\tags.csv is empty.\n",
      "Not reading tags because the file doi_10.5061_dryad.5hqbzkh6f__v6/Stress_dataset/E4/E4_1593726493\\tags.csv is empty.\n",
      "Not reading tags because the file doi_10.5061_dryad.5hqbzkh6f__v6/Stress_dataset/E4/E4_1593786145\\tags.csv is empty.\n",
      "Not reading tags because the file doi_10.5061_dryad.5hqbzkh6f__v6/Stress_dataset/E4/E4_1593809250\\tags.csv is empty.\n",
      "Not reading tags because the file doi_10.5061_dryad.5hqbzkh6f__v6/Stress_dataset/E4/E4_1594043080\\tags.csv is empty.\n",
      "Not reading tags because the file doi_10.5061_dryad.5hqbzkh6f__v6/Stress_dataset/E4/E4_1594049696\\tags.csv is empty.\n",
      "Not reading tags because the file doi_10.5061_dryad.5hqbzkh6f__v6/Stress_dataset/E4/E4_1594051892\\tags.csv is empty.\n",
      "Not reading tags because the file doi_10.5061_dryad.5hqbzkh6f__v6/Stress_dataset/E4/E4_1594057956\\tags.csv is empty.\n",
      "Not reading tags because the file doi_10.5061_dryad.5hqbzkh6f__v6/Stress_dataset/EG/EG_1603463571\\tags.csv is empty.\n",
      "Not reading signal because the file doi_10.5061_dryad.5hqbzkh6f__v6/Stress_dataset/EG/EG_1603543833\\IBI.csv is empty.\n",
      "Not reading tags because the file doi_10.5061_dryad.5hqbzkh6f__v6/Stress_dataset/EG/EG_1603543833\\tags.csv is empty.\n",
      "Not reading signal because the file doi_10.5061_dryad.5hqbzkh6f__v6/Stress_dataset/EG/EG_1603574437\\IBI.csv is empty.\n",
      "Not reading tags because the file doi_10.5061_dryad.5hqbzkh6f__v6/Stress_dataset/EG/EG_1603574437\\tags.csv is empty.\n",
      "Not reading tags because the file doi_10.5061_dryad.5hqbzkh6f__v6/Stress_dataset/EG/EG_1603574790\\tags.csv is empty.\n"
     ]
    },
    {
     "name": "stderr",
     "output_type": "stream",
     "text": [
      "c:\\Tools\\anaconda3\\envs\\base2\\lib\\site-packages\\devicely\\empatica.py:187: FutureWarning: The squeeze argument has been deprecated and will be removed in a future version. Append .squeeze(\"columns\") to the call to squeeze.\n",
      "\n",
      "\n",
      "  return pd.read_csv(path, header=None,\n"
     ]
    },
    {
     "name": "stdout",
     "output_type": "stream",
     "text": [
      "Not reading signal because the file doi_10.5061_dryad.5hqbzkh6f__v6/Stress_dataset/EG/EG_1603884903\\IBI.csv is empty.\n",
      "Not reading tags because the file doi_10.5061_dryad.5hqbzkh6f__v6/Stress_dataset/EG/EG_1603884903\\tags.csv is empty.\n",
      "Not reading tags because the file doi_10.5061_dryad.5hqbzkh6f__v6/Stress_dataset/EG/EG_1603895434\\tags.csv is empty.\n",
      "Not reading signal because the file doi_10.5061_dryad.5hqbzkh6f__v6/Stress_dataset/EG/EG_1603931405\\IBI.csv is empty.\n",
      "Not reading tags because the file doi_10.5061_dryad.5hqbzkh6f__v6/Stress_dataset/EG/EG_1603931405\\tags.csv is empty.\n",
      "Not reading tags because the file doi_10.5061_dryad.5hqbzkh6f__v6/Stress_dataset/EG/EG_1603972494\\tags.csv is empty.\n",
      "Not reading tags because the file doi_10.5061_dryad.5hqbzkh6f__v6/Stress_dataset/EG/EG_1603993236\\tags.csv is empty.\n",
      "Not reading tags because the file doi_10.5061_dryad.5hqbzkh6f__v6/Stress_dataset/EG/EG_1604323585\\tags.csv is empty.\n",
      "Not reading tags because the file doi_10.5061_dryad.5hqbzkh6f__v6/Stress_dataset/EG/EG_1604342951\\tags.csv is empty.\n",
      "Not reading tags because the file doi_10.5061_dryad.5hqbzkh6f__v6/Stress_dataset/EG/EG_1604767157\\tags.csv is empty.\n"
     ]
    },
    {
     "name": "stderr",
     "output_type": "stream",
     "text": [
      "c:\\Tools\\anaconda3\\envs\\base2\\lib\\site-packages\\devicely\\empatica.py:187: FutureWarning: The squeeze argument has been deprecated and will be removed in a future version. Append .squeeze(\"columns\") to the call to squeeze.\n",
      "\n",
      "\n",
      "  return pd.read_csv(path, header=None,\n"
     ]
    },
    {
     "name": "stdout",
     "output_type": "stream",
     "text": [
      "Not reading tags because the file doi_10.5061_dryad.5hqbzkh6f__v6/Stress_dataset/EG/EG_1605101659\\tags.csv is empty.\n",
      "Not reading signal because the file doi_10.5061_dryad.5hqbzkh6f__v6/Stress_dataset/EG/EG_1605118411\\IBI.csv is empty.\n",
      "Not reading tags because the file doi_10.5061_dryad.5hqbzkh6f__v6/Stress_dataset/EG/EG_1605118411\\tags.csv is empty.\n",
      "Not reading tags because the file doi_10.5061_dryad.5hqbzkh6f__v6/Stress_dataset/EG/EG_1605118579\\tags.csv is empty.\n",
      "Not reading tags because the file doi_10.5061_dryad.5hqbzkh6f__v6/Stress_dataset/EG/EG_1605186788\\tags.csv is empty.\n",
      "Not reading tags because the file doi_10.5061_dryad.5hqbzkh6f__v6/Stress_dataset/EG/EG_1605533971\\tags.csv is empty.\n",
      "Not reading tags because the file doi_10.5061_dryad.5hqbzkh6f__v6/Stress_dataset/EG/EG_1605625156\\tags.csv is empty.\n",
      "Not reading tags because the file doi_10.5061_dryad.5hqbzkh6f__v6/Stress_dataset/EG/EG_1605881234\\tags.csv is empty.\n",
      "Not reading tags because the file doi_10.5061_dryad.5hqbzkh6f__v6/Stress_dataset/EG/EG_1605972254\\tags.csv is empty.\n",
      "Not reading tags because the file doi_10.5061_dryad.5hqbzkh6f__v6/Stress_dataset/EG/EG_1606052378\\tags.csv is empty.\n",
      "Not reading tags because the file doi_10.5061_dryad.5hqbzkh6f__v6/Stress_dataset/EG/EG_1606762920\\tags.csv is empty.\n",
      "Not reading tags because the file doi_10.5061_dryad.5hqbzkh6f__v6/Stress_dataset/EG/EG_1607528704\\tags.csv is empty.\n",
      "Not reading tags because the file doi_10.5061_dryad.5hqbzkh6f__v6/Stress_dataset/EG/EG_1607559497\\tags.csv is empty.\n"
     ]
    },
    {
     "name": "stderr",
     "output_type": "stream",
     "text": [
      "c:\\Tools\\anaconda3\\envs\\base2\\lib\\site-packages\\devicely\\empatica.py:187: FutureWarning: The squeeze argument has been deprecated and will be removed in a future version. Append .squeeze(\"columns\") to the call to squeeze.\n",
      "\n",
      "\n",
      "  return pd.read_csv(path, header=None,\n"
     ]
    },
    {
     "name": "stdout",
     "output_type": "stream",
     "text": [
      "Not reading signal because the file doi_10.5061_dryad.5hqbzkh6f__v6/Stress_dataset/EG/EG_1607634439\\IBI.csv is empty.\n",
      "Not reading tags because the file doi_10.5061_dryad.5hqbzkh6f__v6/Stress_dataset/EG/EG_1607634439\\tags.csv is empty.\n",
      "Not reading tags because the file doi_10.5061_dryad.5hqbzkh6f__v6/Stress_dataset/EG/EG_1607644800\\tags.csv is empty.\n"
     ]
    },
    {
     "name": "stderr",
     "output_type": "stream",
     "text": [
      "c:\\Tools\\anaconda3\\envs\\base2\\lib\\site-packages\\devicely\\empatica.py:187: FutureWarning: The squeeze argument has been deprecated and will be removed in a future version. Append .squeeze(\"columns\") to the call to squeeze.\n",
      "\n",
      "\n",
      "  return pd.read_csv(path, header=None,\n"
     ]
    },
    {
     "name": "stdout",
     "output_type": "stream",
     "text": [
      "Not reading signal because the file doi_10.5061_dryad.5hqbzkh6f__v6/Stress_dataset/EG/EG_1608048804\\IBI.csv is empty.\n",
      "Not reading tags because the file doi_10.5061_dryad.5hqbzkh6f__v6/Stress_dataset/EG/EG_1608048804\\tags.csv is empty.\n",
      "Not reading signal because the file doi_10.5061_dryad.5hqbzkh6f__v6/Stress_dataset/EG/EG_1608049371\\IBI.csv is empty.\n",
      "Not reading tags because the file doi_10.5061_dryad.5hqbzkh6f__v6/Stress_dataset/EG/EG_1608049371\\tags.csv is empty.\n",
      "Not reading tags because the file doi_10.5061_dryad.5hqbzkh6f__v6/Stress_dataset/F5/F5_1594141473\\tags.csv is empty.\n",
      "Not reading tags because the file doi_10.5061_dryad.5hqbzkh6f__v6/Stress_dataset/F5/F5_1594217466\\tags.csv is empty.\n",
      "Not reading tags because the file doi_10.5061_dryad.5hqbzkh6f__v6/Stress_dataset/F5/F5_1594218280\\tags.csv is empty.\n",
      "Not reading tags because the file doi_10.5061_dryad.5hqbzkh6f__v6/Stress_dataset/F5/F5_1594223270\\tags.csv is empty.\n",
      "Not reading tags because the file doi_10.5061_dryad.5hqbzkh6f__v6/Stress_dataset/F5/F5_1594235058\\tags.csv is empty.\n",
      "Not reading tags because the file doi_10.5061_dryad.5hqbzkh6f__v6/Stress_dataset/F5/F5_1594390055\\tags.csv is empty.\n",
      "Not reading tags because the file doi_10.5061_dryad.5hqbzkh6f__v6/Stress_dataset/F5/F5_1594402134\\tags.csv is empty.\n",
      "Not reading tags because the file doi_10.5061_dryad.5hqbzkh6f__v6/Stress_dataset/F5/F5_1594403655\\tags.csv is empty.\n",
      "Not reading tags because the file doi_10.5061_dryad.5hqbzkh6f__v6/Stress_dataset/F5/F5_1594647650\\tags.csv is empty.\n",
      "Not reading tags because the file doi_10.5061_dryad.5hqbzkh6f__v6/Stress_dataset/F5/F5_1594671025\\tags.csv is empty.\n",
      "Not reading tags because the file doi_10.5061_dryad.5hqbzkh6f__v6/Stress_dataset/F5/F5_1594746945\\tags.csv is empty.\n",
      "Not reading tags because the file doi_10.5061_dryad.5hqbzkh6f__v6/Stress_dataset/F5/F5_1594758671\\tags.csv is empty.\n",
      "Not reading tags because the file doi_10.5061_dryad.5hqbzkh6f__v6/Stress_dataset/F5/F5_1594820907\\tags.csv is empty.\n",
      "Not reading tags because the file doi_10.5061_dryad.5hqbzkh6f__v6/Stress_dataset/F5/F5_1594825280\\tags.csv is empty.\n",
      "Not reading tags because the file doi_10.5061_dryad.5hqbzkh6f__v6/Stress_dataset/F5/F5_1594830652\\tags.csv is empty.\n",
      "Not reading tags because the file doi_10.5061_dryad.5hqbzkh6f__v6/Stress_dataset/F5/F5_1594843057\\tags.csv is empty.\n",
      "Not reading tags because the file doi_10.5061_dryad.5hqbzkh6f__v6/Stress_dataset/F5/F5_1594920460\\tags.csv is empty.\n",
      "Not reading tags because the file doi_10.5061_dryad.5hqbzkh6f__v6/Stress_dataset/F5/F5_1594927034\\tags.csv is empty.\n",
      "Not reading tags because the file doi_10.5061_dryad.5hqbzkh6f__v6/Stress_dataset/F5/F5_1594932553\\tags.csv is empty.\n",
      "Not reading signal because the file doi_10.5061_dryad.5hqbzkh6f__v6/Stress_dataset/F5/F5_1594934714\\IBI.csv is empty.\n",
      "Not reading tags because the file doi_10.5061_dryad.5hqbzkh6f__v6/Stress_dataset/F5/F5_1594934714\\tags.csv is empty.\n",
      "Not reading tags because the file doi_10.5061_dryad.5hqbzkh6f__v6/Stress_dataset/F5/F5_1594934801\\tags.csv is empty.\n",
      "Not reading tags because the file doi_10.5061_dryad.5hqbzkh6f__v6/Stress_dataset/F5/F5_1594996818\\tags.csv is empty.\n",
      "Not reading tags because the file doi_10.5061_dryad.5hqbzkh6f__v6/Stress_dataset/F5/F5_1595014348\\tags.csv is empty.\n",
      "Not reading tags because the file doi_10.5061_dryad.5hqbzkh6f__v6/Stress_dataset/F5/F5_1595254546\\tags.csv is empty.\n",
      "Not reading tags because the file doi_10.5061_dryad.5hqbzkh6f__v6/Stress_dataset/F5/F5_1595272717\\tags.csv is empty.\n",
      "Not reading tags because the file doi_10.5061_dryad.5hqbzkh6f__v6/Stress_dataset/F5/F5_1595337790\\tags.csv is empty.\n",
      "Not reading tags because the file doi_10.5061_dryad.5hqbzkh6f__v6/Stress_dataset/F5/F5_1595344020\\tags.csv is empty.\n",
      "Not reading tags because the file doi_10.5061_dryad.5hqbzkh6f__v6/Stress_dataset/F5/F5_1595351362\\tags.csv is empty.\n",
      "Not reading tags because the file doi_10.5061_dryad.5hqbzkh6f__v6/Stress_dataset/F5/F5_1595358823\\tags.csv is empty.\n",
      "Not reading tags because the file doi_10.5061_dryad.5hqbzkh6f__v6/Stress_dataset/F5/F5_1595421778\\tags.csv is empty.\n",
      "Not reading tags because the file doi_10.5061_dryad.5hqbzkh6f__v6/Stress_dataset/F5/F5_1595438005\\tags.csv is empty.\n",
      "Not reading tags because the file doi_10.5061_dryad.5hqbzkh6f__v6/Stress_dataset/F5/F5_1595439251\\tags.csv is empty.\n",
      "Not reading signal because the file doi_10.5061_dryad.5hqbzkh6f__v6/Stress_dataset/F5/F5_1595514881\\IBI.csv is empty.\n",
      "Not reading tags because the file doi_10.5061_dryad.5hqbzkh6f__v6/Stress_dataset/F5/F5_1595514881\\tags.csv is empty.\n",
      "Not reading tags because the file doi_10.5061_dryad.5hqbzkh6f__v6/Stress_dataset/F5/F5_1595515035\\tags.csv is empty.\n",
      "Not reading tags because the file doi_10.5061_dryad.5hqbzkh6f__v6/Stress_dataset/F5/F5_1595533978\\tags.csv is empty.\n"
     ]
    }
   ],
   "source": [
    "%%time\n",
    "\n",
    "# loop over all participants and all their folders and create the labled dfs\n",
    "# concat all resulting dfs together into one\n",
    "participants = [name for name in os.listdir('doi_10.5061_dryad.5hqbzkh6f__v6/Stress_dataset/')\n",
    "                if os.path.isdir('doi_10.5061_dryad.5hqbzkh6f__v6/Stress_dataset/'+name)]\n",
    "\n",
    "df_results_list = []\n",
    "\n",
    "for p in participants:\n",
    "    subfolders = [name for name in os.listdir('doi_10.5061_dryad.5hqbzkh6f__v6/Stress_dataset/'+p)\n",
    "                if os.path.isdir('doi_10.5061_dryad.5hqbzkh6f__v6/Stress_dataset/'+p+'/'+name)]\n",
    "    for sf in subfolders:\n",
    "        folder = 'doi_10.5061_dryad.5hqbzkh6f__v6/Stress_dataset/'+p+'/'+sf\n",
    "        df_curr = get_df_from_folder(p, folder)\n",
    "        df_results_list.append(df_curr)\n",
    "\n",
    "df_results = pd.concat(df_results_list)"
   ]
  },
  {
   "cell_type": "code",
   "execution_count": 304,
   "id": "c6d81b5d",
   "metadata": {},
   "outputs": [],
   "source": [
    "# drop index because we don't need it\n",
    "df = df_results.reset_index()"
   ]
  },
  {
   "cell_type": "code",
   "execution_count": 306,
   "id": "b8c88f2d",
   "metadata": {},
   "outputs": [],
   "source": [
    "df = df.drop(columns=['index'])"
   ]
  },
  {
   "cell_type": "code",
   "execution_count": 307,
   "id": "b1cf7860",
   "metadata": {},
   "outputs": [
    {
     "data": {
      "text/html": [
       "<div>\n",
       "<style scoped>\n",
       "    .dataframe tbody tr th:only-of-type {\n",
       "        vertical-align: middle;\n",
       "    }\n",
       "\n",
       "    .dataframe tbody tr th {\n",
       "        vertical-align: top;\n",
       "    }\n",
       "\n",
       "    .dataframe thead th {\n",
       "        text-align: right;\n",
       "    }\n",
       "</style>\n",
       "<table border=\"1\" class=\"dataframe\">\n",
       "  <thead>\n",
       "    <tr style=\"text-align: right;\">\n",
       "      <th></th>\n",
       "      <th>x</th>\n",
       "      <th>y</th>\n",
       "      <th>z</th>\n",
       "      <th>label</th>\n",
       "      <th>subject</th>\n",
       "    </tr>\n",
       "  </thead>\n",
       "  <tbody>\n",
       "    <tr>\n",
       "      <th>0</th>\n",
       "      <td>-52.0</td>\n",
       "      <td>15.0</td>\n",
       "      <td>-35.0</td>\n",
       "      <td>1</td>\n",
       "      <td>15</td>\n",
       "    </tr>\n",
       "    <tr>\n",
       "      <th>1</th>\n",
       "      <td>-52.0</td>\n",
       "      <td>15.0</td>\n",
       "      <td>-35.0</td>\n",
       "      <td>1</td>\n",
       "      <td>15</td>\n",
       "    </tr>\n",
       "    <tr>\n",
       "      <th>2</th>\n",
       "      <td>-52.0</td>\n",
       "      <td>15.0</td>\n",
       "      <td>-35.0</td>\n",
       "      <td>1</td>\n",
       "      <td>15</td>\n",
       "    </tr>\n",
       "    <tr>\n",
       "      <th>3</th>\n",
       "      <td>-56.0</td>\n",
       "      <td>15.0</td>\n",
       "      <td>-35.0</td>\n",
       "      <td>1</td>\n",
       "      <td>15</td>\n",
       "    </tr>\n",
       "    <tr>\n",
       "      <th>4</th>\n",
       "      <td>-56.0</td>\n",
       "      <td>14.0</td>\n",
       "      <td>-35.0</td>\n",
       "      <td>1</td>\n",
       "      <td>15</td>\n",
       "    </tr>\n",
       "    <tr>\n",
       "      <th>...</th>\n",
       "      <td>...</td>\n",
       "      <td>...</td>\n",
       "      <td>...</td>\n",
       "      <td>...</td>\n",
       "      <td>...</td>\n",
       "    </tr>\n",
       "    <tr>\n",
       "      <th>8543804</th>\n",
       "      <td>-28.0</td>\n",
       "      <td>-58.0</td>\n",
       "      <td>10.0</td>\n",
       "      <td>1</td>\n",
       "      <td>F5</td>\n",
       "    </tr>\n",
       "    <tr>\n",
       "      <th>8543805</th>\n",
       "      <td>-15.0</td>\n",
       "      <td>-60.0</td>\n",
       "      <td>21.0</td>\n",
       "      <td>1</td>\n",
       "      <td>F5</td>\n",
       "    </tr>\n",
       "    <tr>\n",
       "      <th>8543806</th>\n",
       "      <td>-10.0</td>\n",
       "      <td>-42.0</td>\n",
       "      <td>33.0</td>\n",
       "      <td>1</td>\n",
       "      <td>F5</td>\n",
       "    </tr>\n",
       "    <tr>\n",
       "      <th>8543807</th>\n",
       "      <td>-13.0</td>\n",
       "      <td>-31.0</td>\n",
       "      <td>35.0</td>\n",
       "      <td>1</td>\n",
       "      <td>F5</td>\n",
       "    </tr>\n",
       "    <tr>\n",
       "      <th>8543808</th>\n",
       "      <td>-16.0</td>\n",
       "      <td>-22.0</td>\n",
       "      <td>24.0</td>\n",
       "      <td>1</td>\n",
       "      <td>F5</td>\n",
       "    </tr>\n",
       "  </tbody>\n",
       "</table>\n",
       "<p>8543809 rows × 5 columns</p>\n",
       "</div>"
      ],
      "text/plain": [
       "            x     y     z  label subject\n",
       "0       -52.0  15.0 -35.0      1      15\n",
       "1       -52.0  15.0 -35.0      1      15\n",
       "2       -52.0  15.0 -35.0      1      15\n",
       "3       -56.0  15.0 -35.0      1      15\n",
       "4       -56.0  14.0 -35.0      1      15\n",
       "...       ...   ...   ...    ...     ...\n",
       "8543804 -28.0 -58.0  10.0      1      F5\n",
       "8543805 -15.0 -60.0  21.0      1      F5\n",
       "8543806 -10.0 -42.0  33.0      1      F5\n",
       "8543807 -13.0 -31.0  35.0      1      F5\n",
       "8543808 -16.0 -22.0  24.0      1      F5\n",
       "\n",
       "[8543809 rows x 5 columns]"
      ]
     },
     "execution_count": 307,
     "metadata": {},
     "output_type": "execute_result"
    }
   ],
   "source": [
    "df"
   ]
  },
  {
   "cell_type": "markdown",
   "id": "c2fbe1a5",
   "metadata": {},
   "source": [
    "# 4. Store to Parquet file"
   ]
  },
  {
   "cell_type": "code",
   "execution_count": 308,
   "id": "ade2368a",
   "metadata": {},
   "outputs": [],
   "source": [
    "# store as parquet\n",
    "\n",
    "if not os.path.isdir('data-input'):\n",
    "    os.makedirs('data-input')\n",
    "\n",
    "df.to_parquet('data-input/dataset_nurses.parquet')"
   ]
  }
 ],
 "metadata": {
  "kernelspec": {
   "display_name": "Python [conda env:base2]",
   "language": "python",
   "name": "conda-env-base2-py"
  },
  "language_info": {
   "codemirror_mode": {
    "name": "ipython",
    "version": 3
   },
   "file_extension": ".py",
   "mimetype": "text/x-python",
   "name": "python",
   "nbconvert_exporter": "python",
   "pygments_lexer": "ipython3",
   "version": "3.9.7"
  },
  "vscode": {
   "interpreter": {
    "hash": "7faeafcdb7b1476f711d2dd1a59a238cf05b963035646615ec88d1898d9d931a"
   }
  }
 },
 "nbformat": 4,
 "nbformat_minor": 5
}
