{
 "cells": [
  {
   "cell_type": "code",
   "execution_count": 1,
   "id": "6504b31a",
   "metadata": {},
   "outputs": [],
   "source": [
    "import pandas as pd\n",
    "import numpy as np\n",
    "import flirt\n",
    "import os\n",
    "import jupyter\n",
    "import ipywidgets"
   ]
  },
  {
   "cell_type": "markdown",
   "id": "1bd9db47",
   "metadata": {},
   "source": [
    "# 1. Load WESAD and nurses dataset"
   ]
  },
  {
   "cell_type": "code",
   "execution_count": 2,
   "id": "971663d6",
   "metadata": {},
   "outputs": [],
   "source": [
    "# load data\n",
    "df_acc = pd.read_parquet('data-input/dataset_wesad_wrist_acc.parquet')\n",
    "df_bvp = pd.read_parquet('data-input/dataset_wesad_wrist_bvp.parquet')\n",
    "df_eda = pd.read_parquet('data-input/dataset_wesad_wrist_eda.parquet')\n",
    "df_temp = pd.read_parquet('data-input/dataset_wesad_wrist_temp.parquet')"
   ]
  },
  {
   "cell_type": "markdown",
   "id": "b0e3cb61",
   "metadata": {},
   "source": [
    "# 2. Function for getting features from FLIRT"
   ]
  },
  {
   "cell_type": "code",
   "execution_count": 3,
   "id": "537cf957",
   "metadata": {},
   "outputs": [],
   "source": [
    "def get_features_inner(df, columns_list, prefix, window_length, window_step_size, frequency):\n",
    "     \n",
    "    # we need to set a correct datetime index (nanoseconds calculated from frequency)\n",
    "    # otherwise Flirt will create a wrong timeindex\n",
    "    ns = '250000000N'\n",
    "    if frequency == 64:\n",
    "        ns = '15625000N'\n",
    "    elif frequency == 32:\n",
    "        ns = '31250000N'\n",
    "    time_index = pd.date_range(start=0, periods=len(df), freq=ns)\n",
    "    df = df.set_index(time_index)\n",
    "    \n",
    "    df = df[columns_list]\n",
    "    df = df.dropna()\n",
    "\n",
    "    features = flirt.get_acc_features(df,\n",
    "                                      window_length=window_length, \n",
    "                                      window_step_size=window_step_size,\n",
    "                                      data_frequency=frequency)\n",
    "    features = features.add_prefix(prefix)\n",
    "    return features"
   ]
  },
  {
   "cell_type": "code",
   "execution_count": 4,
   "id": "0c63214b",
   "metadata": {},
   "outputs": [],
   "source": [
    "def get_features(subject, label, df_acc, df_bvp, df_eda, df_temp, window_length, window_step_size):\n",
    "    \n",
    "    # calculate features\n",
    "    acc_features = get_features_inner(df_acc, ['x', 'y', 'z'], 'acc_', window_length, window_step_size, 32)\n",
    "    bvp_features = get_features_inner(df_bvp, ['BVP'], 'bvp_', window_length, window_step_size, 64)\n",
    "    eda_features = get_features_inner(df_eda, ['EDA'], 'eda_', window_length, window_step_size, 4)\n",
    "    temp_features = get_features_inner(df_temp, ['TEMP'], 'temp_', window_length, window_step_size, 4)\n",
    "\n",
    "    # merge\n",
    "    res = pd.concat([bvp_features, acc_features, eda_features, temp_features], axis=1)\n",
    "    \n",
    "    # add subject and label column\n",
    "    res['subject'] = subject\n",
    "    res['label'] = label\n",
    "\n",
    "    return res"
   ]
  },
  {
   "cell_type": "markdown",
   "id": "afd0b9d7",
   "metadata": {},
   "source": [
    "# 3. Calculate features for the whole dataset"
   ]
  },
  {
   "cell_type": "code",
   "execution_count": 5,
   "id": "0b03c7b8",
   "metadata": {},
   "outputs": [
    {
     "data": {
      "text/plain": [
       "(882470, 6)"
      ]
     },
     "execution_count": 5,
     "metadata": {},
     "output_type": "execute_result"
    }
   ],
   "source": [
    "df_acc.shape"
   ]
  },
  {
   "cell_type": "code",
   "execution_count": 6,
   "id": "41c20acc",
   "metadata": {
    "scrolled": false
   },
   "outputs": [
    {
     "data": {
      "text/html": [
       "<div>\n",
       "<style scoped>\n",
       "    .dataframe tbody tr th:only-of-type {\n",
       "        vertical-align: middle;\n",
       "    }\n",
       "\n",
       "    .dataframe tbody tr th {\n",
       "        vertical-align: top;\n",
       "    }\n",
       "\n",
       "    .dataframe thead th {\n",
       "        text-align: right;\n",
       "    }\n",
       "</style>\n",
       "<table border=\"1\" class=\"dataframe\">\n",
       "  <thead>\n",
       "    <tr style=\"text-align: right;\">\n",
       "      <th></th>\n",
       "      <th>x</th>\n",
       "      <th>y</th>\n",
       "      <th>z</th>\n",
       "      <th>subject</th>\n",
       "      <th>label</th>\n",
       "      <th>session</th>\n",
       "    </tr>\n",
       "  </thead>\n",
       "  <tbody>\n",
       "    <tr>\n",
       "      <th>2972</th>\n",
       "      <td>23.0</td>\n",
       "      <td>-1.0</td>\n",
       "      <td>59.0</td>\n",
       "      <td>10</td>\n",
       "      <td>0</td>\n",
       "      <td>1</td>\n",
       "    </tr>\n",
       "    <tr>\n",
       "      <th>2973</th>\n",
       "      <td>24.0</td>\n",
       "      <td>0.0</td>\n",
       "      <td>59.0</td>\n",
       "      <td>10</td>\n",
       "      <td>0</td>\n",
       "      <td>1</td>\n",
       "    </tr>\n",
       "    <tr>\n",
       "      <th>2974</th>\n",
       "      <td>25.0</td>\n",
       "      <td>0.0</td>\n",
       "      <td>58.0</td>\n",
       "      <td>10</td>\n",
       "      <td>0</td>\n",
       "      <td>1</td>\n",
       "    </tr>\n",
       "    <tr>\n",
       "      <th>2975</th>\n",
       "      <td>23.0</td>\n",
       "      <td>-1.0</td>\n",
       "      <td>57.0</td>\n",
       "      <td>10</td>\n",
       "      <td>0</td>\n",
       "      <td>1</td>\n",
       "    </tr>\n",
       "    <tr>\n",
       "      <th>2976</th>\n",
       "      <td>24.0</td>\n",
       "      <td>0.0</td>\n",
       "      <td>59.0</td>\n",
       "      <td>10</td>\n",
       "      <td>0</td>\n",
       "      <td>1</td>\n",
       "    </tr>\n",
       "    <tr>\n",
       "      <th>...</th>\n",
       "      <td>...</td>\n",
       "      <td>...</td>\n",
       "      <td>...</td>\n",
       "      <td>...</td>\n",
       "      <td>...</td>\n",
       "      <td>...</td>\n",
       "    </tr>\n",
       "    <tr>\n",
       "      <th>80547</th>\n",
       "      <td>59.0</td>\n",
       "      <td>-11.0</td>\n",
       "      <td>17.0</td>\n",
       "      <td>9</td>\n",
       "      <td>1</td>\n",
       "      <td>2</td>\n",
       "    </tr>\n",
       "    <tr>\n",
       "      <th>80548</th>\n",
       "      <td>61.0</td>\n",
       "      <td>-13.0</td>\n",
       "      <td>16.0</td>\n",
       "      <td>9</td>\n",
       "      <td>1</td>\n",
       "      <td>2</td>\n",
       "    </tr>\n",
       "    <tr>\n",
       "      <th>80549</th>\n",
       "      <td>59.0</td>\n",
       "      <td>-13.0</td>\n",
       "      <td>16.0</td>\n",
       "      <td>9</td>\n",
       "      <td>1</td>\n",
       "      <td>2</td>\n",
       "    </tr>\n",
       "    <tr>\n",
       "      <th>80550</th>\n",
       "      <td>59.0</td>\n",
       "      <td>-11.0</td>\n",
       "      <td>16.0</td>\n",
       "      <td>9</td>\n",
       "      <td>1</td>\n",
       "      <td>2</td>\n",
       "    </tr>\n",
       "    <tr>\n",
       "      <th>80551</th>\n",
       "      <td>60.0</td>\n",
       "      <td>-11.0</td>\n",
       "      <td>16.0</td>\n",
       "      <td>9</td>\n",
       "      <td>1</td>\n",
       "      <td>2</td>\n",
       "    </tr>\n",
       "  </tbody>\n",
       "</table>\n",
       "<p>882470 rows × 6 columns</p>\n",
       "</div>"
      ],
      "text/plain": [
       "          x     y     z  subject  label  session\n",
       "2972   23.0  -1.0  59.0       10      0        1\n",
       "2973   24.0   0.0  59.0       10      0        1\n",
       "2974   25.0   0.0  58.0       10      0        1\n",
       "2975   23.0  -1.0  57.0       10      0        1\n",
       "2976   24.0   0.0  59.0       10      0        1\n",
       "...     ...   ...   ...      ...    ...      ...\n",
       "80547  59.0 -11.0  17.0        9      1        2\n",
       "80548  61.0 -13.0  16.0        9      1        2\n",
       "80549  59.0 -13.0  16.0        9      1        2\n",
       "80550  59.0 -11.0  16.0        9      1        2\n",
       "80551  60.0 -11.0  16.0        9      1        2\n",
       "\n",
       "[882470 rows x 6 columns]"
      ]
     },
     "execution_count": 6,
     "metadata": {},
     "output_type": "execute_result"
    }
   ],
   "source": [
    "df_acc"
   ]
  },
  {
   "cell_type": "code",
   "execution_count": 7,
   "id": "47b1b2fa",
   "metadata": {},
   "outputs": [],
   "source": [
    "iterlist = [(i, j)\n",
    "    for i in df_acc.subject.unique()\n",
    "    for j in df_acc.label.unique()]"
   ]
  },
  {
   "cell_type": "code",
   "execution_count": 8,
   "id": "a2bbe05f",
   "metadata": {},
   "outputs": [],
   "source": [
    "def get_all_chunks(df_acc, df_bvp, df_eda, df_temp, subject, label):\n",
    "    df_acc_chunk = get_chunks(df_acc, subject, label)\n",
    "    df_bvp_chunk = get_chunks(df_bvp, subject, label)\n",
    "    df_eda_chunk = get_chunks(df_eda, subject, label)\n",
    "    df_temp_chunk = get_chunks(df_temp, subject, label)\n",
    "    return df_acc_chunk, df_bvp_chunk, df_eda_chunk, df_temp_chunk"
   ]
  },
  {
   "cell_type": "code",
   "execution_count": 9,
   "id": "75be32d2",
   "metadata": {},
   "outputs": [],
   "source": [
    "def get_chunks(df, subject, label):\n",
    "    df_chunk = df[df['subject'] == subject]\n",
    "    df_chunk = df_chunk[df_chunk['label'] == label]\n",
    "    df_chunk = df_chunk.drop(columns=['session', 'subject', 'label'])\n",
    "    return df_chunk"
   ]
  },
  {
   "cell_type": "code",
   "execution_count": 10,
   "id": "e6e4a6e1",
   "metadata": {},
   "outputs": [
    {
     "data": {
      "application/vnd.jupyter.widget-view+json": {
       "model_id": "931859cdad32427792bfbbdf22c7a7d3",
       "version_major": 2,
       "version_minor": 0
      },
      "text/plain": [
       "ACC features:   0%|          | 0/119 [00:00<?, ?it/s]"
      ]
     },
     "metadata": {},
     "output_type": "display_data"
    },
    {
     "name": "stdout",
     "output_type": "stream",
     "text": [
      "Unable to remove memmapped file\n"
     ]
    },
    {
     "data": {
      "application/vnd.jupyter.widget-view+json": {
       "model_id": "60aea475b6a24d0ca5b19fc04b748f38",
       "version_major": 2,
       "version_minor": 0
      },
      "text/plain": [
       "ACC features:   0%|          | 0/118 [00:00<?, ?it/s]"
      ]
     },
     "metadata": {},
     "output_type": "display_data"
    },
    {
     "name": "stdout",
     "output_type": "stream",
     "text": [
      "Unable to remove memmapped file\n"
     ]
    },
    {
     "data": {
      "application/vnd.jupyter.widget-view+json": {
       "model_id": "dad1a36a1eae48c4be439e70457a6bb1",
       "version_major": 2,
       "version_minor": 0
      },
      "text/plain": [
       "ACC features:   0%|          | 0/119 [00:00<?, ?it/s]"
      ]
     },
     "metadata": {},
     "output_type": "display_data"
    },
    {
     "name": "stdout",
     "output_type": "stream",
     "text": [
      "Unable to remove memmapped file\n"
     ]
    },
    {
     "data": {
      "application/vnd.jupyter.widget-view+json": {
       "model_id": "479510d34d5648599959fe1e4cad51f3",
       "version_major": 2,
       "version_minor": 0
      },
      "text/plain": [
       "ACC features:   0%|          | 0/119 [00:00<?, ?it/s]"
      ]
     },
     "metadata": {},
     "output_type": "display_data"
    },
    {
     "name": "stdout",
     "output_type": "stream",
     "text": [
      "Unable to remove memmapped file\n"
     ]
    },
    {
     "data": {
      "application/vnd.jupyter.widget-view+json": {
       "model_id": "5bfb5970f1fe41288b6d7c80ae51e9da",
       "version_major": 2,
       "version_minor": 0
      },
      "text/plain": [
       "ACC features:   0%|          | 0/73 [00:00<?, ?it/s]"
      ]
     },
     "metadata": {},
     "output_type": "display_data"
    },
    {
     "name": "stdout",
     "output_type": "stream",
     "text": [
      "Unable to remove memmapped file\n"
     ]
    },
    {
     "data": {
      "application/vnd.jupyter.widget-view+json": {
       "model_id": "958b4fc161874e5ca13bf7d1e5fa57f6",
       "version_major": 2,
       "version_minor": 0
      },
      "text/plain": [
       "ACC features:   0%|          | 0/73 [00:00<?, ?it/s]"
      ]
     },
     "metadata": {},
     "output_type": "display_data"
    },
    {
     "name": "stdout",
     "output_type": "stream",
     "text": [
      "Unable to remove memmapped file\n"
     ]
    },
    {
     "data": {
      "application/vnd.jupyter.widget-view+json": {
       "model_id": "3ef65ffaeadb4766ba05a79c50b97102",
       "version_major": 2,
       "version_minor": 0
      },
      "text/plain": [
       "ACC features:   0%|          | 0/73 [00:00<?, ?it/s]"
      ]
     },
     "metadata": {},
     "output_type": "display_data"
    },
    {
     "name": "stdout",
     "output_type": "stream",
     "text": [
      "Unable to remove memmapped file\n"
     ]
    },
    {
     "data": {
      "application/vnd.jupyter.widget-view+json": {
       "model_id": "53d6bd2db4be41fda7cb6bed7a70554b",
       "version_major": 2,
       "version_minor": 0
      },
      "text/plain": [
       "ACC features:   0%|          | 0/73 [00:00<?, ?it/s]"
      ]
     },
     "metadata": {},
     "output_type": "display_data"
    },
    {
     "name": "stdout",
     "output_type": "stream",
     "text": [
      "Unable to remove memmapped file\n"
     ]
    },
    {
     "data": {
      "application/vnd.jupyter.widget-view+json": {
       "model_id": "e329e071f1384304a13b58537e017a8d",
       "version_major": 2,
       "version_minor": 0
      },
      "text/plain": [
       "ACC features:   0%|          | 0/118 [00:00<?, ?it/s]"
      ]
     },
     "metadata": {},
     "output_type": "display_data"
    },
    {
     "name": "stdout",
     "output_type": "stream",
     "text": [
      "Unable to remove memmapped file\n"
     ]
    },
    {
     "data": {
      "application/vnd.jupyter.widget-view+json": {
       "model_id": "7f27bda966384923be786c53980081ed",
       "version_major": 2,
       "version_minor": 0
      },
      "text/plain": [
       "ACC features:   0%|          | 0/118 [00:00<?, ?it/s]"
      ]
     },
     "metadata": {},
     "output_type": "display_data"
    },
    {
     "name": "stdout",
     "output_type": "stream",
     "text": [
      "Unable to remove memmapped file\n"
     ]
    },
    {
     "data": {
      "application/vnd.jupyter.widget-view+json": {
       "model_id": "e291cede07984606b190e07eee73e332",
       "version_major": 2,
       "version_minor": 0
      },
      "text/plain": [
       "ACC features:   0%|          | 0/118 [00:00<?, ?it/s]"
      ]
     },
     "metadata": {},
     "output_type": "display_data"
    },
    {
     "name": "stdout",
     "output_type": "stream",
     "text": [
      "Unable to remove memmapped file\n"
     ]
    },
    {
     "data": {
      "application/vnd.jupyter.widget-view+json": {
       "model_id": "7ac31c2cb5104a8bbb53c530fd3d54bb",
       "version_major": 2,
       "version_minor": 0
      },
      "text/plain": [
       "ACC features:   0%|          | 0/118 [00:00<?, ?it/s]"
      ]
     },
     "metadata": {},
     "output_type": "display_data"
    },
    {
     "name": "stdout",
     "output_type": "stream",
     "text": [
      "Unable to remove memmapped file\n"
     ]
    },
    {
     "data": {
      "application/vnd.jupyter.widget-view+json": {
       "model_id": "8b85122e1d4c4feaae6769f1758550e9",
       "version_major": 2,
       "version_minor": 0
      },
      "text/plain": [
       "ACC features:   0%|          | 0/68 [00:00<?, ?it/s]"
      ]
     },
     "metadata": {},
     "output_type": "display_data"
    },
    {
     "name": "stdout",
     "output_type": "stream",
     "text": [
      "Unable to remove memmapped file\n"
     ]
    },
    {
     "data": {
      "application/vnd.jupyter.widget-view+json": {
       "model_id": "2f6d9bfdf2e84a35830874e4c3b6f392",
       "version_major": 2,
       "version_minor": 0
      },
      "text/plain": [
       "ACC features:   0%|          | 0/68 [00:00<?, ?it/s]"
      ]
     },
     "metadata": {},
     "output_type": "display_data"
    },
    {
     "name": "stdout",
     "output_type": "stream",
     "text": [
      "Unable to remove memmapped file\n"
     ]
    },
    {
     "data": {
      "application/vnd.jupyter.widget-view+json": {
       "model_id": "5d001cd4d41d41989edb745fecedd318",
       "version_major": 2,
       "version_minor": 0
      },
      "text/plain": [
       "ACC features:   0%|          | 0/68 [00:00<?, ?it/s]"
      ]
     },
     "metadata": {},
     "output_type": "display_data"
    },
    {
     "name": "stdout",
     "output_type": "stream",
     "text": [
      "Unable to remove memmapped file\n"
     ]
    },
    {
     "data": {
      "application/vnd.jupyter.widget-view+json": {
       "model_id": "9f8f7dfb6208423db9de91b31665e335",
       "version_major": 2,
       "version_minor": 0
      },
      "text/plain": [
       "ACC features:   0%|          | 0/68 [00:00<?, ?it/s]"
      ]
     },
     "metadata": {},
     "output_type": "display_data"
    },
    {
     "name": "stdout",
     "output_type": "stream",
     "text": [
      "Unable to remove memmapped file\n"
     ]
    },
    {
     "data": {
      "application/vnd.jupyter.widget-view+json": {
       "model_id": "6cdd958df2574518a47b4a158da1658f",
       "version_major": 2,
       "version_minor": 0
      },
      "text/plain": [
       "ACC features:   0%|          | 0/118 [00:00<?, ?it/s]"
      ]
     },
     "metadata": {},
     "output_type": "display_data"
    },
    {
     "name": "stdout",
     "output_type": "stream",
     "text": [
      "Unable to remove memmapped file\n"
     ]
    },
    {
     "data": {
      "application/vnd.jupyter.widget-view+json": {
       "model_id": "437fcacb63d448f2b785eacd066e8f00",
       "version_major": 2,
       "version_minor": 0
      },
      "text/plain": [
       "ACC features:   0%|          | 0/118 [00:00<?, ?it/s]"
      ]
     },
     "metadata": {},
     "output_type": "display_data"
    },
    {
     "name": "stdout",
     "output_type": "stream",
     "text": [
      "Unable to remove memmapped file\n"
     ]
    },
    {
     "data": {
      "application/vnd.jupyter.widget-view+json": {
       "model_id": "61c01774eaa142b9930348c09a7d2309",
       "version_major": 2,
       "version_minor": 0
      },
      "text/plain": [
       "ACC features:   0%|          | 0/119 [00:00<?, ?it/s]"
      ]
     },
     "metadata": {},
     "output_type": "display_data"
    },
    {
     "name": "stdout",
     "output_type": "stream",
     "text": [
      "Unable to remove memmapped file\n"
     ]
    },
    {
     "data": {
      "application/vnd.jupyter.widget-view+json": {
       "model_id": "4a1825d3f559480080d3291e7774c0f0",
       "version_major": 2,
       "version_minor": 0
      },
      "text/plain": [
       "ACC features:   0%|          | 0/119 [00:00<?, ?it/s]"
      ]
     },
     "metadata": {},
     "output_type": "display_data"
    },
    {
     "name": "stdout",
     "output_type": "stream",
     "text": [
      "Unable to remove memmapped file\n"
     ]
    },
    {
     "data": {
      "application/vnd.jupyter.widget-view+json": {
       "model_id": "598ff9cc66484cff9f9042e76461efda",
       "version_major": 2,
       "version_minor": 0
      },
      "text/plain": [
       "ACC features:   0%|          | 0/67 [00:00<?, ?it/s]"
      ]
     },
     "metadata": {},
     "output_type": "display_data"
    },
    {
     "name": "stdout",
     "output_type": "stream",
     "text": [
      "Unable to remove memmapped file\n"
     ]
    },
    {
     "data": {
      "application/vnd.jupyter.widget-view+json": {
       "model_id": "b84348541de94090b1b2dbd8ee4fc28a",
       "version_major": 2,
       "version_minor": 0
      },
      "text/plain": [
       "ACC features:   0%|          | 0/67 [00:00<?, ?it/s]"
      ]
     },
     "metadata": {},
     "output_type": "display_data"
    },
    {
     "name": "stdout",
     "output_type": "stream",
     "text": [
      "Unable to remove memmapped file\n"
     ]
    },
    {
     "data": {
      "application/vnd.jupyter.widget-view+json": {
       "model_id": "e6a5dda9cbd24e42a976f23fa7697121",
       "version_major": 2,
       "version_minor": 0
      },
      "text/plain": [
       "ACC features:   0%|          | 0/67 [00:00<?, ?it/s]"
      ]
     },
     "metadata": {},
     "output_type": "display_data"
    },
    {
     "name": "stdout",
     "output_type": "stream",
     "text": [
      "Unable to remove memmapped file\n"
     ]
    },
    {
     "data": {
      "application/vnd.jupyter.widget-view+json": {
       "model_id": "9cb5232e015d405e8985c9b1c33fc11e",
       "version_major": 2,
       "version_minor": 0
      },
      "text/plain": [
       "ACC features:   0%|          | 0/67 [00:00<?, ?it/s]"
      ]
     },
     "metadata": {},
     "output_type": "display_data"
    },
    {
     "name": "stdout",
     "output_type": "stream",
     "text": [
      "Unable to remove memmapped file\n"
     ]
    },
    {
     "data": {
      "application/vnd.jupyter.widget-view+json": {
       "model_id": "54ac3bb24dc34a689fe4f9793c7ffd90",
       "version_major": 2,
       "version_minor": 0
      },
      "text/plain": [
       "ACC features:   0%|          | 0/119 [00:00<?, ?it/s]"
      ]
     },
     "metadata": {},
     "output_type": "display_data"
    },
    {
     "name": "stdout",
     "output_type": "stream",
     "text": [
      "Unable to remove memmapped file\n"
     ]
    },
    {
     "data": {
      "application/vnd.jupyter.widget-view+json": {
       "model_id": "71b6118cc694426cb2eb5677d571a16a",
       "version_major": 2,
       "version_minor": 0
      },
      "text/plain": [
       "ACC features:   0%|          | 0/118 [00:00<?, ?it/s]"
      ]
     },
     "metadata": {},
     "output_type": "display_data"
    },
    {
     "name": "stdout",
     "output_type": "stream",
     "text": [
      "Unable to remove memmapped file\n"
     ]
    },
    {
     "data": {
      "application/vnd.jupyter.widget-view+json": {
       "model_id": "4b127a503de3492ebd66e9363afac3b2",
       "version_major": 2,
       "version_minor": 0
      },
      "text/plain": [
       "ACC features:   0%|          | 0/119 [00:00<?, ?it/s]"
      ]
     },
     "metadata": {},
     "output_type": "display_data"
    },
    {
     "name": "stdout",
     "output_type": "stream",
     "text": [
      "Unable to remove memmapped file\n"
     ]
    },
    {
     "data": {
      "application/vnd.jupyter.widget-view+json": {
       "model_id": "1f46c18c4f894b28b520293bc04a78ce",
       "version_major": 2,
       "version_minor": 0
      },
      "text/plain": [
       "ACC features:   0%|          | 0/119 [00:00<?, ?it/s]"
      ]
     },
     "metadata": {},
     "output_type": "display_data"
    },
    {
     "name": "stdout",
     "output_type": "stream",
     "text": [
      "Unable to remove memmapped file\n"
     ]
    },
    {
     "data": {
      "application/vnd.jupyter.widget-view+json": {
       "model_id": "4e2658f4e6454827b4418b6280f3bdbe",
       "version_major": 2,
       "version_minor": 0
      },
      "text/plain": [
       "ACC features:   0%|          | 0/68 [00:00<?, ?it/s]"
      ]
     },
     "metadata": {},
     "output_type": "display_data"
    },
    {
     "name": "stdout",
     "output_type": "stream",
     "text": [
      "Unable to remove memmapped file\n"
     ]
    },
    {
     "data": {
      "application/vnd.jupyter.widget-view+json": {
       "model_id": "6d0357728de64cb2aec4f9da48c54f32",
       "version_major": 2,
       "version_minor": 0
      },
      "text/plain": [
       "ACC features:   0%|          | 0/68 [00:00<?, ?it/s]"
      ]
     },
     "metadata": {},
     "output_type": "display_data"
    },
    {
     "name": "stdout",
     "output_type": "stream",
     "text": [
      "Unable to remove memmapped file\n"
     ]
    },
    {
     "data": {
      "application/vnd.jupyter.widget-view+json": {
       "model_id": "4fa6f8f544d14c0b9c4b3861bb44923a",
       "version_major": 2,
       "version_minor": 0
      },
      "text/plain": [
       "ACC features:   0%|          | 0/68 [00:00<?, ?it/s]"
      ]
     },
     "metadata": {},
     "output_type": "display_data"
    },
    {
     "name": "stdout",
     "output_type": "stream",
     "text": [
      "Unable to remove memmapped file\n"
     ]
    },
    {
     "data": {
      "application/vnd.jupyter.widget-view+json": {
       "model_id": "6f077b0d33e147b78550673a3cabcc9f",
       "version_major": 2,
       "version_minor": 0
      },
      "text/plain": [
       "ACC features:   0%|          | 0/68 [00:00<?, ?it/s]"
      ]
     },
     "metadata": {},
     "output_type": "display_data"
    },
    {
     "name": "stdout",
     "output_type": "stream",
     "text": [
      "Unable to remove memmapped file\n"
     ]
    },
    {
     "data": {
      "application/vnd.jupyter.widget-view+json": {
       "model_id": "76518bea949f42ee877074fac3b86dfc",
       "version_major": 2,
       "version_minor": 0
      },
      "text/plain": [
       "ACC features:   0%|          | 0/118 [00:00<?, ?it/s]"
      ]
     },
     "metadata": {},
     "output_type": "display_data"
    },
    {
     "name": "stdout",
     "output_type": "stream",
     "text": [
      "Unable to remove memmapped file\n"
     ]
    },
    {
     "data": {
      "application/vnd.jupyter.widget-view+json": {
       "model_id": "0bbcf9408cf04ae8a9b1935ecdddcb85",
       "version_major": 2,
       "version_minor": 0
      },
      "text/plain": [
       "ACC features:   0%|          | 0/118 [00:00<?, ?it/s]"
      ]
     },
     "metadata": {},
     "output_type": "display_data"
    },
    {
     "name": "stdout",
     "output_type": "stream",
     "text": [
      "Unable to remove memmapped file\n"
     ]
    },
    {
     "data": {
      "application/vnd.jupyter.widget-view+json": {
       "model_id": "3e1ad70e0793472b8a068f0ce918dc94",
       "version_major": 2,
       "version_minor": 0
      },
      "text/plain": [
       "ACC features:   0%|          | 0/118 [00:00<?, ?it/s]"
      ]
     },
     "metadata": {},
     "output_type": "display_data"
    },
    {
     "name": "stdout",
     "output_type": "stream",
     "text": [
      "Unable to remove memmapped file\n"
     ]
    },
    {
     "data": {
      "application/vnd.jupyter.widget-view+json": {
       "model_id": "37430089bb5c4596b46b4462ac86abfc",
       "version_major": 2,
       "version_minor": 0
      },
      "text/plain": [
       "ACC features:   0%|          | 0/118 [00:00<?, ?it/s]"
      ]
     },
     "metadata": {},
     "output_type": "display_data"
    },
    {
     "name": "stdout",
     "output_type": "stream",
     "text": [
      "Unable to remove memmapped file\n"
     ]
    },
    {
     "data": {
      "application/vnd.jupyter.widget-view+json": {
       "model_id": "aff9e4768fe24c33bff16e6a78d0f443",
       "version_major": 2,
       "version_minor": 0
      },
      "text/plain": [
       "ACC features:   0%|          | 0/69 [00:00<?, ?it/s]"
      ]
     },
     "metadata": {},
     "output_type": "display_data"
    },
    {
     "name": "stdout",
     "output_type": "stream",
     "text": [
      "Unable to remove memmapped file\n"
     ]
    },
    {
     "data": {
      "application/vnd.jupyter.widget-view+json": {
       "model_id": "7a9a6cd72a764b678ba9f42db31c0cd4",
       "version_major": 2,
       "version_minor": 0
      },
      "text/plain": [
       "ACC features:   0%|          | 0/69 [00:00<?, ?it/s]"
      ]
     },
     "metadata": {},
     "output_type": "display_data"
    },
    {
     "name": "stdout",
     "output_type": "stream",
     "text": [
      "Unable to remove memmapped file\n"
     ]
    },
    {
     "data": {
      "application/vnd.jupyter.widget-view+json": {
       "model_id": "7d0920c1b3734d5e9ca88929dd7e7093",
       "version_major": 2,
       "version_minor": 0
      },
      "text/plain": [
       "ACC features:   0%|          | 0/69 [00:00<?, ?it/s]"
      ]
     },
     "metadata": {},
     "output_type": "display_data"
    },
    {
     "name": "stdout",
     "output_type": "stream",
     "text": [
      "Unable to remove memmapped file\n"
     ]
    },
    {
     "data": {
      "application/vnd.jupyter.widget-view+json": {
       "model_id": "6c47677eca5c4ac7a5aa16269c338acb",
       "version_major": 2,
       "version_minor": 0
      },
      "text/plain": [
       "ACC features:   0%|          | 0/69 [00:00<?, ?it/s]"
      ]
     },
     "metadata": {},
     "output_type": "display_data"
    },
    {
     "name": "stdout",
     "output_type": "stream",
     "text": [
      "Unable to remove memmapped file\n"
     ]
    },
    {
     "data": {
      "application/vnd.jupyter.widget-view+json": {
       "model_id": "ed049d3641de45e6a4101482022348ae",
       "version_major": 2,
       "version_minor": 0
      },
      "text/plain": [
       "ACC features:   0%|          | 0/118 [00:00<?, ?it/s]"
      ]
     },
     "metadata": {},
     "output_type": "display_data"
    },
    {
     "name": "stdout",
     "output_type": "stream",
     "text": [
      "Unable to remove memmapped file\n"
     ]
    },
    {
     "data": {
      "application/vnd.jupyter.widget-view+json": {
       "model_id": "52f156c1c1b84c6993f8c5473a529d4e",
       "version_major": 2,
       "version_minor": 0
      },
      "text/plain": [
       "ACC features:   0%|          | 0/118 [00:00<?, ?it/s]"
      ]
     },
     "metadata": {},
     "output_type": "display_data"
    },
    {
     "name": "stdout",
     "output_type": "stream",
     "text": [
      "Unable to remove memmapped file\n"
     ]
    },
    {
     "data": {
      "application/vnd.jupyter.widget-view+json": {
       "model_id": "4b06e75c222f44c5af398f2528535817",
       "version_major": 2,
       "version_minor": 0
      },
      "text/plain": [
       "ACC features:   0%|          | 0/118 [00:00<?, ?it/s]"
      ]
     },
     "metadata": {},
     "output_type": "display_data"
    },
    {
     "name": "stdout",
     "output_type": "stream",
     "text": [
      "Unable to remove memmapped file\n"
     ]
    },
    {
     "data": {
      "application/vnd.jupyter.widget-view+json": {
       "model_id": "d0704795baff4fecae83b9d25907ae8c",
       "version_major": 2,
       "version_minor": 0
      },
      "text/plain": [
       "ACC features:   0%|          | 0/118 [00:00<?, ?it/s]"
      ]
     },
     "metadata": {},
     "output_type": "display_data"
    },
    {
     "name": "stdout",
     "output_type": "stream",
     "text": [
      "Unable to remove memmapped file\n"
     ]
    },
    {
     "data": {
      "application/vnd.jupyter.widget-view+json": {
       "model_id": "bbd312837f124c7f9b48979f74e5566d",
       "version_major": 2,
       "version_minor": 0
      },
      "text/plain": [
       "ACC features:   0%|          | 0/68 [00:00<?, ?it/s]"
      ]
     },
     "metadata": {},
     "output_type": "display_data"
    },
    {
     "name": "stdout",
     "output_type": "stream",
     "text": [
      "Unable to remove memmapped file\n"
     ]
    },
    {
     "data": {
      "application/vnd.jupyter.widget-view+json": {
       "model_id": "0317f1721d164a51a0cd05078b287bdc",
       "version_major": 2,
       "version_minor": 0
      },
      "text/plain": [
       "ACC features:   0%|          | 0/68 [00:00<?, ?it/s]"
      ]
     },
     "metadata": {},
     "output_type": "display_data"
    },
    {
     "name": "stdout",
     "output_type": "stream",
     "text": [
      "Unable to remove memmapped file\n"
     ]
    },
    {
     "data": {
      "application/vnd.jupyter.widget-view+json": {
       "model_id": "a6c8545b7b704653994713e2f588075d",
       "version_major": 2,
       "version_minor": 0
      },
      "text/plain": [
       "ACC features:   0%|          | 0/68 [00:00<?, ?it/s]"
      ]
     },
     "metadata": {},
     "output_type": "display_data"
    },
    {
     "name": "stdout",
     "output_type": "stream",
     "text": [
      "Unable to remove memmapped file\n"
     ]
    },
    {
     "data": {
      "application/vnd.jupyter.widget-view+json": {
       "model_id": "db73925ae25b40d4b7a6b84c52d30351",
       "version_major": 2,
       "version_minor": 0
      },
      "text/plain": [
       "ACC features:   0%|          | 0/68 [00:00<?, ?it/s]"
      ]
     },
     "metadata": {},
     "output_type": "display_data"
    },
    {
     "name": "stdout",
     "output_type": "stream",
     "text": [
      "Unable to remove memmapped file\n"
     ]
    },
    {
     "data": {
      "application/vnd.jupyter.widget-view+json": {
       "model_id": "d6341174f2154896b651ef9b4a984337",
       "version_major": 2,
       "version_minor": 0
      },
      "text/plain": [
       "ACC features:   0%|          | 0/119 [00:00<?, ?it/s]"
      ]
     },
     "metadata": {},
     "output_type": "display_data"
    },
    {
     "name": "stdout",
     "output_type": "stream",
     "text": [
      "Unable to remove memmapped file\n"
     ]
    },
    {
     "data": {
      "application/vnd.jupyter.widget-view+json": {
       "model_id": "c769d3d592d4473a8441154f81cb505d",
       "version_major": 2,
       "version_minor": 0
      },
      "text/plain": [
       "ACC features:   0%|          | 0/119 [00:00<?, ?it/s]"
      ]
     },
     "metadata": {},
     "output_type": "display_data"
    },
    {
     "name": "stdout",
     "output_type": "stream",
     "text": [
      "Unable to remove memmapped file\n"
     ]
    },
    {
     "data": {
      "application/vnd.jupyter.widget-view+json": {
       "model_id": "05bceff609fb45cfaa0d1c32151c24c6",
       "version_major": 2,
       "version_minor": 0
      },
      "text/plain": [
       "ACC features:   0%|          | 0/119 [00:00<?, ?it/s]"
      ]
     },
     "metadata": {},
     "output_type": "display_data"
    },
    {
     "name": "stdout",
     "output_type": "stream",
     "text": [
      "Unable to remove memmapped file\n"
     ]
    },
    {
     "data": {
      "application/vnd.jupyter.widget-view+json": {
       "model_id": "15a4e9ce8583410687ceb57a24cd4226",
       "version_major": 2,
       "version_minor": 0
      },
      "text/plain": [
       "ACC features:   0%|          | 0/119 [00:00<?, ?it/s]"
      ]
     },
     "metadata": {},
     "output_type": "display_data"
    },
    {
     "name": "stdout",
     "output_type": "stream",
     "text": [
      "Unable to remove memmapped file\n"
     ]
    },
    {
     "data": {
      "application/vnd.jupyter.widget-view+json": {
       "model_id": "e08fc8c17bcf40e8b43145eaa0e31036",
       "version_major": 2,
       "version_minor": 0
      },
      "text/plain": [
       "ACC features:   0%|          | 0/73 [00:00<?, ?it/s]"
      ]
     },
     "metadata": {},
     "output_type": "display_data"
    },
    {
     "name": "stdout",
     "output_type": "stream",
     "text": [
      "Unable to remove memmapped file\n"
     ]
    },
    {
     "data": {
      "application/vnd.jupyter.widget-view+json": {
       "model_id": "fe52110ef27c46d1b8dbed6884ab3bf9",
       "version_major": 2,
       "version_minor": 0
      },
      "text/plain": [
       "ACC features:   0%|          | 0/73 [00:00<?, ?it/s]"
      ]
     },
     "metadata": {},
     "output_type": "display_data"
    },
    {
     "name": "stdout",
     "output_type": "stream",
     "text": [
      "Unable to remove memmapped file\n"
     ]
    },
    {
     "data": {
      "application/vnd.jupyter.widget-view+json": {
       "model_id": "8a2023cd2a5b485dab9ead8597e46751",
       "version_major": 2,
       "version_minor": 0
      },
      "text/plain": [
       "ACC features:   0%|          | 0/73 [00:00<?, ?it/s]"
      ]
     },
     "metadata": {},
     "output_type": "display_data"
    },
    {
     "name": "stdout",
     "output_type": "stream",
     "text": [
      "Unable to remove memmapped file\n"
     ]
    },
    {
     "data": {
      "application/vnd.jupyter.widget-view+json": {
       "model_id": "cf07ba16b876403fb79f40179139711c",
       "version_major": 2,
       "version_minor": 0
      },
      "text/plain": [
       "ACC features:   0%|          | 0/73 [00:00<?, ?it/s]"
      ]
     },
     "metadata": {},
     "output_type": "display_data"
    },
    {
     "name": "stdout",
     "output_type": "stream",
     "text": [
      "Unable to remove memmapped file\n"
     ]
    },
    {
     "data": {
      "application/vnd.jupyter.widget-view+json": {
       "model_id": "2a89b62bcd5a478ab078c1f1bba7ee65",
       "version_major": 2,
       "version_minor": 0
      },
      "text/plain": [
       "ACC features:   0%|          | 0/115 [00:00<?, ?it/s]"
      ]
     },
     "metadata": {},
     "output_type": "display_data"
    },
    {
     "name": "stdout",
     "output_type": "stream",
     "text": [
      "Unable to remove memmapped file\n"
     ]
    },
    {
     "data": {
      "application/vnd.jupyter.widget-view+json": {
       "model_id": "cadf380f3a74420ba83fd551a5c2baa3",
       "version_major": 2,
       "version_minor": 0
      },
      "text/plain": [
       "ACC features:   0%|          | 0/115 [00:00<?, ?it/s]"
      ]
     },
     "metadata": {},
     "output_type": "display_data"
    },
    {
     "name": "stdout",
     "output_type": "stream",
     "text": [
      "Unable to remove memmapped file\n"
     ]
    },
    {
     "data": {
      "application/vnd.jupyter.widget-view+json": {
       "model_id": "07bdf8b9da114d15bcf71c4afa8b1756",
       "version_major": 2,
       "version_minor": 0
      },
      "text/plain": [
       "ACC features:   0%|          | 0/115 [00:00<?, ?it/s]"
      ]
     },
     "metadata": {},
     "output_type": "display_data"
    },
    {
     "name": "stdout",
     "output_type": "stream",
     "text": [
      "Unable to remove memmapped file\n"
     ]
    },
    {
     "data": {
      "application/vnd.jupyter.widget-view+json": {
       "model_id": "c785a73be7064e4cb06331fba32bbb9f",
       "version_major": 2,
       "version_minor": 0
      },
      "text/plain": [
       "ACC features:   0%|          | 0/115 [00:00<?, ?it/s]"
      ]
     },
     "metadata": {},
     "output_type": "display_data"
    },
    {
     "name": "stdout",
     "output_type": "stream",
     "text": [
      "Unable to remove memmapped file\n"
     ]
    },
    {
     "data": {
      "application/vnd.jupyter.widget-view+json": {
       "model_id": "b261b12053e4446fba6895a4d8b475a4",
       "version_major": 2,
       "version_minor": 0
      },
      "text/plain": [
       "ACC features:   0%|          | 0/62 [00:00<?, ?it/s]"
      ]
     },
     "metadata": {},
     "output_type": "display_data"
    },
    {
     "name": "stdout",
     "output_type": "stream",
     "text": [
      "Unable to remove memmapped file\n"
     ]
    },
    {
     "data": {
      "application/vnd.jupyter.widget-view+json": {
       "model_id": "6e581333862f4da2882fc425975ec8b7",
       "version_major": 2,
       "version_minor": 0
      },
      "text/plain": [
       "ACC features:   0%|          | 0/62 [00:00<?, ?it/s]"
      ]
     },
     "metadata": {},
     "output_type": "display_data"
    },
    {
     "name": "stdout",
     "output_type": "stream",
     "text": [
      "Unable to remove memmapped file\n"
     ]
    },
    {
     "data": {
      "application/vnd.jupyter.widget-view+json": {
       "model_id": "aef673252ee94b0194be90449ffb5069",
       "version_major": 2,
       "version_minor": 0
      },
      "text/plain": [
       "ACC features:   0%|          | 0/62 [00:00<?, ?it/s]"
      ]
     },
     "metadata": {},
     "output_type": "display_data"
    },
    {
     "name": "stdout",
     "output_type": "stream",
     "text": [
      "Unable to remove memmapped file\n"
     ]
    },
    {
     "data": {
      "application/vnd.jupyter.widget-view+json": {
       "model_id": "0d2165e37e5a4a3b9a85402ef04ff799",
       "version_major": 2,
       "version_minor": 0
      },
      "text/plain": [
       "ACC features:   0%|          | 0/62 [00:00<?, ?it/s]"
      ]
     },
     "metadata": {},
     "output_type": "display_data"
    },
    {
     "name": "stdout",
     "output_type": "stream",
     "text": [
      "Unable to remove memmapped file\n"
     ]
    },
    {
     "data": {
      "application/vnd.jupyter.widget-view+json": {
       "model_id": "e2f7e22eee5046a18515015020e5bbce",
       "version_major": 2,
       "version_minor": 0
      },
      "text/plain": [
       "ACC features:   0%|          | 0/114 [00:00<?, ?it/s]"
      ]
     },
     "metadata": {},
     "output_type": "display_data"
    },
    {
     "name": "stdout",
     "output_type": "stream",
     "text": [
      "Unable to remove memmapped file\n"
     ]
    },
    {
     "data": {
      "application/vnd.jupyter.widget-view+json": {
       "model_id": "6bd51a4f507a4a47a9d6506875987ea8",
       "version_major": 2,
       "version_minor": 0
      },
      "text/plain": [
       "ACC features:   0%|          | 0/114 [00:00<?, ?it/s]"
      ]
     },
     "metadata": {},
     "output_type": "display_data"
    },
    {
     "name": "stdout",
     "output_type": "stream",
     "text": [
      "Unable to remove memmapped file\n"
     ]
    },
    {
     "data": {
      "application/vnd.jupyter.widget-view+json": {
       "model_id": "be7d9485a8304cc88a896eeea788c31f",
       "version_major": 2,
       "version_minor": 0
      },
      "text/plain": [
       "ACC features:   0%|          | 0/114 [00:00<?, ?it/s]"
      ]
     },
     "metadata": {},
     "output_type": "display_data"
    },
    {
     "name": "stdout",
     "output_type": "stream",
     "text": [
      "Unable to remove memmapped file\n"
     ]
    },
    {
     "data": {
      "application/vnd.jupyter.widget-view+json": {
       "model_id": "e642d18d6a364785a3e15f26e4bef7b2",
       "version_major": 2,
       "version_minor": 0
      },
      "text/plain": [
       "ACC features:   0%|          | 0/114 [00:00<?, ?it/s]"
      ]
     },
     "metadata": {},
     "output_type": "display_data"
    },
    {
     "name": "stdout",
     "output_type": "stream",
     "text": [
      "Unable to remove memmapped file\n"
     ]
    },
    {
     "data": {
      "application/vnd.jupyter.widget-view+json": {
       "model_id": "5f53415f8600410188fe46d2835bb8ce",
       "version_major": 2,
       "version_minor": 0
      },
      "text/plain": [
       "ACC features:   0%|          | 0/64 [00:00<?, ?it/s]"
      ]
     },
     "metadata": {},
     "output_type": "display_data"
    },
    {
     "name": "stdout",
     "output_type": "stream",
     "text": [
      "Unable to remove memmapped file\n"
     ]
    },
    {
     "data": {
      "application/vnd.jupyter.widget-view+json": {
       "model_id": "af1ed1fbda8b484fbe4021e6db532ca6",
       "version_major": 2,
       "version_minor": 0
      },
      "text/plain": [
       "ACC features:   0%|          | 0/64 [00:00<?, ?it/s]"
      ]
     },
     "metadata": {},
     "output_type": "display_data"
    },
    {
     "name": "stdout",
     "output_type": "stream",
     "text": [
      "Unable to remove memmapped file\n"
     ]
    },
    {
     "data": {
      "application/vnd.jupyter.widget-view+json": {
       "model_id": "c081404d19c94c9faf59ba1b75c8a4a4",
       "version_major": 2,
       "version_minor": 0
      },
      "text/plain": [
       "ACC features:   0%|          | 0/64 [00:00<?, ?it/s]"
      ]
     },
     "metadata": {},
     "output_type": "display_data"
    },
    {
     "name": "stdout",
     "output_type": "stream",
     "text": [
      "Unable to remove memmapped file\n"
     ]
    },
    {
     "data": {
      "application/vnd.jupyter.widget-view+json": {
       "model_id": "ac375cb7b0aa4253ad89c8bf009f31b2",
       "version_major": 2,
       "version_minor": 0
      },
      "text/plain": [
       "ACC features:   0%|          | 0/64 [00:00<?, ?it/s]"
      ]
     },
     "metadata": {},
     "output_type": "display_data"
    },
    {
     "name": "stdout",
     "output_type": "stream",
     "text": [
      "Unable to remove memmapped file\n"
     ]
    },
    {
     "data": {
      "application/vnd.jupyter.widget-view+json": {
       "model_id": "11837e33a51346f5b835b6ddc72dd4c8",
       "version_major": 2,
       "version_minor": 0
      },
      "text/plain": [
       "ACC features:   0%|          | 0/116 [00:00<?, ?it/s]"
      ]
     },
     "metadata": {},
     "output_type": "display_data"
    },
    {
     "name": "stdout",
     "output_type": "stream",
     "text": [
      "Unable to remove memmapped file\n"
     ]
    },
    {
     "data": {
      "application/vnd.jupyter.widget-view+json": {
       "model_id": "1b21b4e242654cd8ae962eb25250fa66",
       "version_major": 2,
       "version_minor": 0
      },
      "text/plain": [
       "ACC features:   0%|          | 0/116 [00:00<?, ?it/s]"
      ]
     },
     "metadata": {},
     "output_type": "display_data"
    },
    {
     "name": "stdout",
     "output_type": "stream",
     "text": [
      "Unable to remove memmapped file\n"
     ]
    },
    {
     "data": {
      "application/vnd.jupyter.widget-view+json": {
       "model_id": "e4a11711948a4463b931d68a151b42a8",
       "version_major": 2,
       "version_minor": 0
      },
      "text/plain": [
       "ACC features:   0%|          | 0/116 [00:00<?, ?it/s]"
      ]
     },
     "metadata": {},
     "output_type": "display_data"
    },
    {
     "name": "stdout",
     "output_type": "stream",
     "text": [
      "Unable to remove memmapped file\n"
     ]
    },
    {
     "data": {
      "application/vnd.jupyter.widget-view+json": {
       "model_id": "6e7e101bca6947dfb772b04c3300a239",
       "version_major": 2,
       "version_minor": 0
      },
      "text/plain": [
       "ACC features:   0%|          | 0/116 [00:00<?, ?it/s]"
      ]
     },
     "metadata": {},
     "output_type": "display_data"
    },
    {
     "name": "stdout",
     "output_type": "stream",
     "text": [
      "Unable to remove memmapped file\n"
     ]
    },
    {
     "data": {
      "application/vnd.jupyter.widget-view+json": {
       "model_id": "c48fdf0c44b74968a63e9664d0af753d",
       "version_major": 2,
       "version_minor": 0
      },
      "text/plain": [
       "ACC features:   0%|          | 0/64 [00:00<?, ?it/s]"
      ]
     },
     "metadata": {},
     "output_type": "display_data"
    },
    {
     "name": "stdout",
     "output_type": "stream",
     "text": [
      "Unable to remove memmapped file\n"
     ]
    },
    {
     "data": {
      "application/vnd.jupyter.widget-view+json": {
       "model_id": "cbe8357cdcab4923a6557e7a0682badd",
       "version_major": 2,
       "version_minor": 0
      },
      "text/plain": [
       "ACC features:   0%|          | 0/64 [00:00<?, ?it/s]"
      ]
     },
     "metadata": {},
     "output_type": "display_data"
    },
    {
     "name": "stdout",
     "output_type": "stream",
     "text": [
      "Unable to remove memmapped file\n"
     ]
    },
    {
     "data": {
      "application/vnd.jupyter.widget-view+json": {
       "model_id": "977d2dc45cf54e9a828817406030b354",
       "version_major": 2,
       "version_minor": 0
      },
      "text/plain": [
       "ACC features:   0%|          | 0/64 [00:00<?, ?it/s]"
      ]
     },
     "metadata": {},
     "output_type": "display_data"
    },
    {
     "name": "stdout",
     "output_type": "stream",
     "text": [
      "Unable to remove memmapped file\n"
     ]
    },
    {
     "data": {
      "application/vnd.jupyter.widget-view+json": {
       "model_id": "8604ac30c25744f7b8cc515600ed2097",
       "version_major": 2,
       "version_minor": 0
      },
      "text/plain": [
       "ACC features:   0%|          | 0/64 [00:00<?, ?it/s]"
      ]
     },
     "metadata": {},
     "output_type": "display_data"
    },
    {
     "name": "stdout",
     "output_type": "stream",
     "text": [
      "Unable to remove memmapped file\n"
     ]
    },
    {
     "data": {
      "application/vnd.jupyter.widget-view+json": {
       "model_id": "dcfa8cc3a1554861b9793d49467f5f4d",
       "version_major": 2,
       "version_minor": 0
      },
      "text/plain": [
       "ACC features:   0%|          | 0/120 [00:00<?, ?it/s]"
      ]
     },
     "metadata": {},
     "output_type": "display_data"
    },
    {
     "name": "stdout",
     "output_type": "stream",
     "text": [
      "Unable to remove memmapped file\n"
     ]
    },
    {
     "data": {
      "application/vnd.jupyter.widget-view+json": {
       "model_id": "2247bf6aaac24d708de43fa09ab22b12",
       "version_major": 2,
       "version_minor": 0
      },
      "text/plain": [
       "ACC features:   0%|          | 0/120 [00:00<?, ?it/s]"
      ]
     },
     "metadata": {},
     "output_type": "display_data"
    },
    {
     "name": "stdout",
     "output_type": "stream",
     "text": [
      "Unable to remove memmapped file\n"
     ]
    },
    {
     "data": {
      "application/vnd.jupyter.widget-view+json": {
       "model_id": "bed15eafe9c248a998ad49ed64921d8c",
       "version_major": 2,
       "version_minor": 0
      },
      "text/plain": [
       "ACC features:   0%|          | 0/120 [00:00<?, ?it/s]"
      ]
     },
     "metadata": {},
     "output_type": "display_data"
    },
    {
     "name": "stdout",
     "output_type": "stream",
     "text": [
      "Unable to remove memmapped file\n"
     ]
    },
    {
     "data": {
      "application/vnd.jupyter.widget-view+json": {
       "model_id": "aba2d91f372d48eab4eebeda8c17f331",
       "version_major": 2,
       "version_minor": 0
      },
      "text/plain": [
       "ACC features:   0%|          | 0/120 [00:00<?, ?it/s]"
      ]
     },
     "metadata": {},
     "output_type": "display_data"
    },
    {
     "name": "stdout",
     "output_type": "stream",
     "text": [
      "Unable to remove memmapped file\n"
     ]
    },
    {
     "data": {
      "application/vnd.jupyter.widget-view+json": {
       "model_id": "77a247a1f6ce4408bdf593bc0259a4dd",
       "version_major": 2,
       "version_minor": 0
      },
      "text/plain": [
       "ACC features:   0%|          | 0/65 [00:00<?, ?it/s]"
      ]
     },
     "metadata": {},
     "output_type": "display_data"
    },
    {
     "name": "stdout",
     "output_type": "stream",
     "text": [
      "Unable to remove memmapped file\n"
     ]
    },
    {
     "data": {
      "application/vnd.jupyter.widget-view+json": {
       "model_id": "e8469b38bda540a6827d379d6a5c960d",
       "version_major": 2,
       "version_minor": 0
      },
      "text/plain": [
       "ACC features:   0%|          | 0/65 [00:00<?, ?it/s]"
      ]
     },
     "metadata": {},
     "output_type": "display_data"
    },
    {
     "name": "stdout",
     "output_type": "stream",
     "text": [
      "Unable to remove memmapped file\n"
     ]
    },
    {
     "data": {
      "application/vnd.jupyter.widget-view+json": {
       "model_id": "e344934174234ad8b54fd89c67f2b5be",
       "version_major": 2,
       "version_minor": 0
      },
      "text/plain": [
       "ACC features:   0%|          | 0/65 [00:00<?, ?it/s]"
      ]
     },
     "metadata": {},
     "output_type": "display_data"
    },
    {
     "name": "stdout",
     "output_type": "stream",
     "text": [
      "Unable to remove memmapped file\n"
     ]
    },
    {
     "data": {
      "application/vnd.jupyter.widget-view+json": {
       "model_id": "bc0ecd43cfda4ab493338bff071ad7c2",
       "version_major": 2,
       "version_minor": 0
      },
      "text/plain": [
       "ACC features:   0%|          | 0/65 [00:00<?, ?it/s]"
      ]
     },
     "metadata": {},
     "output_type": "display_data"
    },
    {
     "name": "stdout",
     "output_type": "stream",
     "text": [
      "Unable to remove memmapped file\n"
     ]
    },
    {
     "data": {
      "application/vnd.jupyter.widget-view+json": {
       "model_id": "e8d233497c5c4cf880df0969350dad46",
       "version_major": 2,
       "version_minor": 0
      },
      "text/plain": [
       "ACC features:   0%|          | 0/119 [00:00<?, ?it/s]"
      ]
     },
     "metadata": {},
     "output_type": "display_data"
    },
    {
     "name": "stdout",
     "output_type": "stream",
     "text": [
      "Unable to remove memmapped file\n"
     ]
    },
    {
     "data": {
      "application/vnd.jupyter.widget-view+json": {
       "model_id": "e7750bca6b80419cbc8b29a88a36f957",
       "version_major": 2,
       "version_minor": 0
      },
      "text/plain": [
       "ACC features:   0%|          | 0/118 [00:00<?, ?it/s]"
      ]
     },
     "metadata": {},
     "output_type": "display_data"
    },
    {
     "name": "stdout",
     "output_type": "stream",
     "text": [
      "Unable to remove memmapped file\n"
     ]
    },
    {
     "data": {
      "application/vnd.jupyter.widget-view+json": {
       "model_id": "19faf9094f334c2eb0fbcd991a3b97a0",
       "version_major": 2,
       "version_minor": 0
      },
      "text/plain": [
       "ACC features:   0%|          | 0/119 [00:00<?, ?it/s]"
      ]
     },
     "metadata": {},
     "output_type": "display_data"
    },
    {
     "name": "stdout",
     "output_type": "stream",
     "text": [
      "Unable to remove memmapped file\n"
     ]
    },
    {
     "data": {
      "application/vnd.jupyter.widget-view+json": {
       "model_id": "ff22e68243834f1cb35711f774953674",
       "version_major": 2,
       "version_minor": 0
      },
      "text/plain": [
       "ACC features:   0%|          | 0/119 [00:00<?, ?it/s]"
      ]
     },
     "metadata": {},
     "output_type": "display_data"
    },
    {
     "name": "stdout",
     "output_type": "stream",
     "text": [
      "Unable to remove memmapped file\n"
     ]
    },
    {
     "data": {
      "application/vnd.jupyter.widget-view+json": {
       "model_id": "0b543a000dd44cda910529940f54b3ed",
       "version_major": 2,
       "version_minor": 0
      },
      "text/plain": [
       "ACC features:   0%|          | 0/65 [00:00<?, ?it/s]"
      ]
     },
     "metadata": {},
     "output_type": "display_data"
    },
    {
     "name": "stdout",
     "output_type": "stream",
     "text": [
      "Unable to remove memmapped file\n"
     ]
    },
    {
     "data": {
      "application/vnd.jupyter.widget-view+json": {
       "model_id": "1497008bb9d04262b67f072d465a5724",
       "version_major": 2,
       "version_minor": 0
      },
      "text/plain": [
       "ACC features:   0%|          | 0/65 [00:00<?, ?it/s]"
      ]
     },
     "metadata": {},
     "output_type": "display_data"
    },
    {
     "name": "stdout",
     "output_type": "stream",
     "text": [
      "Unable to remove memmapped file\n"
     ]
    },
    {
     "data": {
      "application/vnd.jupyter.widget-view+json": {
       "model_id": "9ecec76b26d142c98ea1ec21fe6d3f38",
       "version_major": 2,
       "version_minor": 0
      },
      "text/plain": [
       "ACC features:   0%|          | 0/65 [00:00<?, ?it/s]"
      ]
     },
     "metadata": {},
     "output_type": "display_data"
    },
    {
     "name": "stdout",
     "output_type": "stream",
     "text": [
      "Unable to remove memmapped file\n"
     ]
    },
    {
     "data": {
      "application/vnd.jupyter.widget-view+json": {
       "model_id": "2745cf41e8a449648d4edb7d9607ddae",
       "version_major": 2,
       "version_minor": 0
      },
      "text/plain": [
       "ACC features:   0%|          | 0/65 [00:00<?, ?it/s]"
      ]
     },
     "metadata": {},
     "output_type": "display_data"
    },
    {
     "name": "stdout",
     "output_type": "stream",
     "text": [
      "Unable to remove memmapped file\n"
     ]
    },
    {
     "data": {
      "application/vnd.jupyter.widget-view+json": {
       "model_id": "330cac656d70452483b7c529d2ce8a0f",
       "version_major": 2,
       "version_minor": 0
      },
      "text/plain": [
       "ACC features:   0%|          | 0/119 [00:00<?, ?it/s]"
      ]
     },
     "metadata": {},
     "output_type": "display_data"
    },
    {
     "name": "stdout",
     "output_type": "stream",
     "text": [
      "Unable to remove memmapped file\n"
     ]
    },
    {
     "data": {
      "application/vnd.jupyter.widget-view+json": {
       "model_id": "4403bd75d14f451299d32787e19cc0d4",
       "version_major": 2,
       "version_minor": 0
      },
      "text/plain": [
       "ACC features:   0%|          | 0/119 [00:00<?, ?it/s]"
      ]
     },
     "metadata": {},
     "output_type": "display_data"
    },
    {
     "name": "stdout",
     "output_type": "stream",
     "text": [
      "Unable to remove memmapped file\n"
     ]
    },
    {
     "data": {
      "application/vnd.jupyter.widget-view+json": {
       "model_id": "4ce6ec1727c74bc2895dc1828323c56e",
       "version_major": 2,
       "version_minor": 0
      },
      "text/plain": [
       "ACC features:   0%|          | 0/119 [00:00<?, ?it/s]"
      ]
     },
     "metadata": {},
     "output_type": "display_data"
    },
    {
     "name": "stdout",
     "output_type": "stream",
     "text": [
      "Unable to remove memmapped file\n"
     ]
    },
    {
     "data": {
      "application/vnd.jupyter.widget-view+json": {
       "model_id": "923b8287e05a4691910777c37ccc9f7e",
       "version_major": 2,
       "version_minor": 0
      },
      "text/plain": [
       "ACC features:   0%|          | 0/119 [00:00<?, ?it/s]"
      ]
     },
     "metadata": {},
     "output_type": "display_data"
    },
    {
     "name": "stdout",
     "output_type": "stream",
     "text": [
      "Unable to remove memmapped file\n"
     ]
    },
    {
     "data": {
      "application/vnd.jupyter.widget-view+json": {
       "model_id": "44d74451a288438bb959b0281d299f08",
       "version_major": 2,
       "version_minor": 0
      },
      "text/plain": [
       "ACC features:   0%|          | 0/64 [00:00<?, ?it/s]"
      ]
     },
     "metadata": {},
     "output_type": "display_data"
    },
    {
     "name": "stdout",
     "output_type": "stream",
     "text": [
      "Unable to remove memmapped file\n"
     ]
    },
    {
     "data": {
      "application/vnd.jupyter.widget-view+json": {
       "model_id": "5b9315a8815a4627b05ba27f1ed05112",
       "version_major": 2,
       "version_minor": 0
      },
      "text/plain": [
       "ACC features:   0%|          | 0/64 [00:00<?, ?it/s]"
      ]
     },
     "metadata": {},
     "output_type": "display_data"
    },
    {
     "name": "stdout",
     "output_type": "stream",
     "text": [
      "Unable to remove memmapped file\n"
     ]
    },
    {
     "data": {
      "application/vnd.jupyter.widget-view+json": {
       "model_id": "4e15a246fb604be6922c2abbd8dbac86",
       "version_major": 2,
       "version_minor": 0
      },
      "text/plain": [
       "ACC features:   0%|          | 0/64 [00:00<?, ?it/s]"
      ]
     },
     "metadata": {},
     "output_type": "display_data"
    },
    {
     "name": "stdout",
     "output_type": "stream",
     "text": [
      "Unable to remove memmapped file\n"
     ]
    },
    {
     "data": {
      "application/vnd.jupyter.widget-view+json": {
       "model_id": "9142c98eb7be43fcacfe44f18eeafd44",
       "version_major": 2,
       "version_minor": 0
      },
      "text/plain": [
       "ACC features:   0%|          | 0/64 [00:00<?, ?it/s]"
      ]
     },
     "metadata": {},
     "output_type": "display_data"
    },
    {
     "name": "stdout",
     "output_type": "stream",
     "text": [
      "Unable to remove memmapped file\n"
     ]
    },
    {
     "data": {
      "application/vnd.jupyter.widget-view+json": {
       "model_id": "48fd12e12b984af78a4becad43750951",
       "version_major": 2,
       "version_minor": 0
      },
      "text/plain": [
       "ACC features:   0%|          | 0/117 [00:00<?, ?it/s]"
      ]
     },
     "metadata": {},
     "output_type": "display_data"
    },
    {
     "name": "stdout",
     "output_type": "stream",
     "text": [
      "Unable to remove memmapped file\n"
     ]
    },
    {
     "data": {
      "application/vnd.jupyter.widget-view+json": {
       "model_id": "6b7ba98c557e41a5a6cd2b619a9eeb86",
       "version_major": 2,
       "version_minor": 0
      },
      "text/plain": [
       "ACC features:   0%|          | 0/117 [00:00<?, ?it/s]"
      ]
     },
     "metadata": {},
     "output_type": "display_data"
    },
    {
     "name": "stdout",
     "output_type": "stream",
     "text": [
      "Unable to remove memmapped file\n"
     ]
    },
    {
     "data": {
      "application/vnd.jupyter.widget-view+json": {
       "model_id": "60ccc5925e294b7f88250883e1bf2f38",
       "version_major": 2,
       "version_minor": 0
      },
      "text/plain": [
       "ACC features:   0%|          | 0/117 [00:00<?, ?it/s]"
      ]
     },
     "metadata": {},
     "output_type": "display_data"
    },
    {
     "name": "stdout",
     "output_type": "stream",
     "text": [
      "Unable to remove memmapped file\n"
     ]
    },
    {
     "data": {
      "application/vnd.jupyter.widget-view+json": {
       "model_id": "0beb4cd2b9a446969ccf0b4623b76e42",
       "version_major": 2,
       "version_minor": 0
      },
      "text/plain": [
       "ACC features:   0%|          | 0/117 [00:00<?, ?it/s]"
      ]
     },
     "metadata": {},
     "output_type": "display_data"
    },
    {
     "name": "stdout",
     "output_type": "stream",
     "text": [
      "Unable to remove memmapped file\n"
     ]
    },
    {
     "data": {
      "application/vnd.jupyter.widget-view+json": {
       "model_id": "5f6fe5b97d3a41738a14d82e228bbc5e",
       "version_major": 2,
       "version_minor": 0
      },
      "text/plain": [
       "ACC features:   0%|          | 0/67 [00:00<?, ?it/s]"
      ]
     },
     "metadata": {},
     "output_type": "display_data"
    },
    {
     "name": "stdout",
     "output_type": "stream",
     "text": [
      "Unable to remove memmapped file\n"
     ]
    },
    {
     "data": {
      "application/vnd.jupyter.widget-view+json": {
       "model_id": "a162e830b67441659e8e5c0856f23a49",
       "version_major": 2,
       "version_minor": 0
      },
      "text/plain": [
       "ACC features:   0%|          | 0/67 [00:00<?, ?it/s]"
      ]
     },
     "metadata": {},
     "output_type": "display_data"
    },
    {
     "name": "stdout",
     "output_type": "stream",
     "text": [
      "Unable to remove memmapped file\n"
     ]
    },
    {
     "data": {
      "application/vnd.jupyter.widget-view+json": {
       "model_id": "28dfc03a5a954773841bc9a64630788c",
       "version_major": 2,
       "version_minor": 0
      },
      "text/plain": [
       "ACC features:   0%|          | 0/67 [00:00<?, ?it/s]"
      ]
     },
     "metadata": {},
     "output_type": "display_data"
    },
    {
     "name": "stdout",
     "output_type": "stream",
     "text": [
      "Unable to remove memmapped file\n"
     ]
    },
    {
     "data": {
      "application/vnd.jupyter.widget-view+json": {
       "model_id": "78f320c4c6d345acb93f05a9e1885f33",
       "version_major": 2,
       "version_minor": 0
      },
      "text/plain": [
       "ACC features:   0%|          | 0/67 [00:00<?, ?it/s]"
      ]
     },
     "metadata": {},
     "output_type": "display_data"
    },
    {
     "name": "stdout",
     "output_type": "stream",
     "text": [
      "Unable to remove memmapped file\n"
     ]
    },
    {
     "data": {
      "application/vnd.jupyter.widget-view+json": {
       "model_id": "cc1a7ecd526f4767bf8a37a183bfebef",
       "version_major": 2,
       "version_minor": 0
      },
      "text/plain": [
       "ACC features:   0%|          | 0/118 [00:00<?, ?it/s]"
      ]
     },
     "metadata": {},
     "output_type": "display_data"
    },
    {
     "name": "stdout",
     "output_type": "stream",
     "text": [
      "Unable to remove memmapped file\n"
     ]
    },
    {
     "data": {
      "application/vnd.jupyter.widget-view+json": {
       "model_id": "5c71eb4da423402da9e9bfebf77ce7ca",
       "version_major": 2,
       "version_minor": 0
      },
      "text/plain": [
       "ACC features:   0%|          | 0/118 [00:00<?, ?it/s]"
      ]
     },
     "metadata": {},
     "output_type": "display_data"
    },
    {
     "name": "stdout",
     "output_type": "stream",
     "text": [
      "Unable to remove memmapped file\n"
     ]
    },
    {
     "data": {
      "application/vnd.jupyter.widget-view+json": {
       "model_id": "17f108232c20473c9a86f3f82cff0010",
       "version_major": 2,
       "version_minor": 0
      },
      "text/plain": [
       "ACC features:   0%|          | 0/118 [00:00<?, ?it/s]"
      ]
     },
     "metadata": {},
     "output_type": "display_data"
    },
    {
     "name": "stdout",
     "output_type": "stream",
     "text": [
      "Unable to remove memmapped file\n"
     ]
    },
    {
     "data": {
      "application/vnd.jupyter.widget-view+json": {
       "model_id": "9e5f63fb3f5b48b2b81fa5788b81559d",
       "version_major": 2,
       "version_minor": 0
      },
      "text/plain": [
       "ACC features:   0%|          | 0/118 [00:00<?, ?it/s]"
      ]
     },
     "metadata": {},
     "output_type": "display_data"
    },
    {
     "name": "stdout",
     "output_type": "stream",
     "text": [
      "Unable to remove memmapped file\n"
     ]
    },
    {
     "data": {
      "application/vnd.jupyter.widget-view+json": {
       "model_id": "e8adea5168c243af9c1067040e800602",
       "version_major": 2,
       "version_minor": 0
      },
      "text/plain": [
       "ACC features:   0%|          | 0/65 [00:00<?, ?it/s]"
      ]
     },
     "metadata": {},
     "output_type": "display_data"
    },
    {
     "name": "stdout",
     "output_type": "stream",
     "text": [
      "Unable to remove memmapped file\n"
     ]
    },
    {
     "data": {
      "application/vnd.jupyter.widget-view+json": {
       "model_id": "4ed10c1fbc354cfd830ec4c319dad7a5",
       "version_major": 2,
       "version_minor": 0
      },
      "text/plain": [
       "ACC features:   0%|          | 0/65 [00:00<?, ?it/s]"
      ]
     },
     "metadata": {},
     "output_type": "display_data"
    },
    {
     "name": "stdout",
     "output_type": "stream",
     "text": [
      "Unable to remove memmapped file\n"
     ]
    },
    {
     "data": {
      "application/vnd.jupyter.widget-view+json": {
       "model_id": "a032c053f207446fa7d1976ea90e527f",
       "version_major": 2,
       "version_minor": 0
      },
      "text/plain": [
       "ACC features:   0%|          | 0/65 [00:00<?, ?it/s]"
      ]
     },
     "metadata": {},
     "output_type": "display_data"
    },
    {
     "name": "stdout",
     "output_type": "stream",
     "text": [
      "Unable to remove memmapped file\n"
     ]
    },
    {
     "data": {
      "application/vnd.jupyter.widget-view+json": {
       "model_id": "dcda1cf5a44f441d86b922e9f0d230a6",
       "version_major": 2,
       "version_minor": 0
      },
      "text/plain": [
       "ACC features:   0%|          | 0/65 [00:00<?, ?it/s]"
      ]
     },
     "metadata": {},
     "output_type": "display_data"
    },
    {
     "name": "stdout",
     "output_type": "stream",
     "text": [
      "Unable to remove memmapped file\n",
      "CPU times: total: 2.17 s\n",
      "Wall time: 4min 3s\n"
     ]
    }
   ],
   "source": [
    "%%time\n",
    "\n",
    "result_dfs = []\n",
    "\n",
    "window_length = 60\n",
    "window_step_size = 10\n",
    "\n",
    "# loop over all subject-label combinations (all subjects have 2 sessions with 1 label each)\n",
    "for (subject, label) in iterlist:\n",
    "    \n",
    "    df_acc_chunk, df_bvp_chunk, df_eda_chunk, df_temp_chunk = get_all_chunks(df_acc, df_bvp, df_eda, df_temp, subject, label)\n",
    "    \n",
    "    res_df_chunks = get_features(subject, label, df_acc_chunk, df_bvp_chunk, df_eda_chunk, df_temp_chunk, window_length, window_step_size)\n",
    "    result_dfs.append(res_df_chunks)\n",
    "\n",
    "res = pd.concat(result_dfs)"
   ]
  },
  {
   "cell_type": "code",
   "execution_count": 11,
   "id": "d25ee8a9",
   "metadata": {},
   "outputs": [
    {
     "data": {
      "text/html": [
       "<div>\n",
       "<style scoped>\n",
       "    .dataframe tbody tr th:only-of-type {\n",
       "        vertical-align: middle;\n",
       "    }\n",
       "\n",
       "    .dataframe tbody tr th {\n",
       "        vertical-align: top;\n",
       "    }\n",
       "\n",
       "    .dataframe thead th {\n",
       "        text-align: right;\n",
       "    }\n",
       "</style>\n",
       "<table border=\"1\" class=\"dataframe\">\n",
       "  <thead>\n",
       "    <tr style=\"text-align: right;\">\n",
       "      <th></th>\n",
       "      <th>bvp_BVP_mean</th>\n",
       "      <th>bvp_BVP_std</th>\n",
       "      <th>bvp_BVP_min</th>\n",
       "      <th>bvp_BVP_max</th>\n",
       "      <th>bvp_BVP_ptp</th>\n",
       "      <th>bvp_BVP_sum</th>\n",
       "      <th>bvp_BVP_energy</th>\n",
       "      <th>bvp_BVP_skewness</th>\n",
       "      <th>bvp_BVP_kurtosis</th>\n",
       "      <th>bvp_BVP_peaks</th>\n",
       "      <th>...</th>\n",
       "      <th>temp_l2_n_sign_changes</th>\n",
       "      <th>temp_l2_iqr</th>\n",
       "      <th>temp_l2_iqr_5_95</th>\n",
       "      <th>temp_l2_pct_5</th>\n",
       "      <th>temp_l2_pct_95</th>\n",
       "      <th>temp_l2_entropy</th>\n",
       "      <th>temp_l2_perm_entropy</th>\n",
       "      <th>temp_l2_svd_entropy</th>\n",
       "      <th>subject</th>\n",
       "      <th>label</th>\n",
       "    </tr>\n",
       "    <tr>\n",
       "      <th>datetime</th>\n",
       "      <th></th>\n",
       "      <th></th>\n",
       "      <th></th>\n",
       "      <th></th>\n",
       "      <th></th>\n",
       "      <th></th>\n",
       "      <th></th>\n",
       "      <th></th>\n",
       "      <th></th>\n",
       "      <th></th>\n",
       "      <th></th>\n",
       "      <th></th>\n",
       "      <th></th>\n",
       "      <th></th>\n",
       "      <th></th>\n",
       "      <th></th>\n",
       "      <th></th>\n",
       "      <th></th>\n",
       "      <th></th>\n",
       "      <th></th>\n",
       "      <th></th>\n",
       "    </tr>\n",
       "  </thead>\n",
       "  <tbody>\n",
       "    <tr>\n",
       "      <th>1970-01-01 00:01:00</th>\n",
       "      <td>0.124318</td>\n",
       "      <td>66.395699</td>\n",
       "      <td>-264.71</td>\n",
       "      <td>272.99</td>\n",
       "      <td>537.70</td>\n",
       "      <td>477.38</td>\n",
       "      <td>1.692827e+07</td>\n",
       "      <td>0.023441</td>\n",
       "      <td>2.820353</td>\n",
       "      <td>145.0</td>\n",
       "      <td>...</td>\n",
       "      <td>0</td>\n",
       "      <td>0.04</td>\n",
       "      <td>0.09</td>\n",
       "      <td>33.25</td>\n",
       "      <td>33.34</td>\n",
       "      <td>5.480639</td>\n",
       "      <td>0.802811</td>\n",
       "      <td>0.003120</td>\n",
       "      <td>10</td>\n",
       "      <td>0</td>\n",
       "    </tr>\n",
       "    <tr>\n",
       "      <th>1970-01-01 00:01:10</th>\n",
       "      <td>0.843435</td>\n",
       "      <td>58.168574</td>\n",
       "      <td>-264.71</td>\n",
       "      <td>272.99</td>\n",
       "      <td>537.70</td>\n",
       "      <td>3238.79</td>\n",
       "      <td>1.299569e+07</td>\n",
       "      <td>0.112281</td>\n",
       "      <td>4.464214</td>\n",
       "      <td>149.0</td>\n",
       "      <td>...</td>\n",
       "      <td>0</td>\n",
       "      <td>0.02</td>\n",
       "      <td>0.05</td>\n",
       "      <td>33.29</td>\n",
       "      <td>33.34</td>\n",
       "      <td>5.480639</td>\n",
       "      <td>0.795881</td>\n",
       "      <td>0.003081</td>\n",
       "      <td>10</td>\n",
       "      <td>0</td>\n",
       "    </tr>\n",
       "    <tr>\n",
       "      <th>1970-01-01 00:01:20</th>\n",
       "      <td>0.111445</td>\n",
       "      <td>53.332683</td>\n",
       "      <td>-264.71</td>\n",
       "      <td>272.99</td>\n",
       "      <td>537.70</td>\n",
       "      <td>427.95</td>\n",
       "      <td>1.092245e+07</td>\n",
       "      <td>-0.007924</td>\n",
       "      <td>6.198772</td>\n",
       "      <td>153.0</td>\n",
       "      <td>...</td>\n",
       "      <td>0</td>\n",
       "      <td>0.02</td>\n",
       "      <td>0.03</td>\n",
       "      <td>33.31</td>\n",
       "      <td>33.34</td>\n",
       "      <td>5.480639</td>\n",
       "      <td>0.795881</td>\n",
       "      <td>0.002733</td>\n",
       "      <td>10</td>\n",
       "      <td>0</td>\n",
       "    </tr>\n",
       "    <tr>\n",
       "      <th>1970-01-01 00:01:30</th>\n",
       "      <td>0.032427</td>\n",
       "      <td>51.826682</td>\n",
       "      <td>-264.71</td>\n",
       "      <td>272.99</td>\n",
       "      <td>537.70</td>\n",
       "      <td>124.52</td>\n",
       "      <td>1.031426e+07</td>\n",
       "      <td>-0.025424</td>\n",
       "      <td>7.110108</td>\n",
       "      <td>158.0</td>\n",
       "      <td>...</td>\n",
       "      <td>0</td>\n",
       "      <td>0.00</td>\n",
       "      <td>0.03</td>\n",
       "      <td>33.31</td>\n",
       "      <td>33.34</td>\n",
       "      <td>5.480639</td>\n",
       "      <td>0.774241</td>\n",
       "      <td>0.002471</td>\n",
       "      <td>10</td>\n",
       "      <td>0</td>\n",
       "    </tr>\n",
       "    <tr>\n",
       "      <th>1970-01-01 00:01:40</th>\n",
       "      <td>0.798964</td>\n",
       "      <td>55.666698</td>\n",
       "      <td>-324.07</td>\n",
       "      <td>474.78</td>\n",
       "      <td>798.85</td>\n",
       "      <td>3068.02</td>\n",
       "      <td>1.190177e+07</td>\n",
       "      <td>1.471325</td>\n",
       "      <td>19.029749</td>\n",
       "      <td>160.0</td>\n",
       "      <td>...</td>\n",
       "      <td>0</td>\n",
       "      <td>0.01</td>\n",
       "      <td>0.03</td>\n",
       "      <td>33.31</td>\n",
       "      <td>33.34</td>\n",
       "      <td>5.480639</td>\n",
       "      <td>0.774241</td>\n",
       "      <td>0.002282</td>\n",
       "      <td>10</td>\n",
       "      <td>0</td>\n",
       "    </tr>\n",
       "    <tr>\n",
       "      <th>...</th>\n",
       "      <td>...</td>\n",
       "      <td>...</td>\n",
       "      <td>...</td>\n",
       "      <td>...</td>\n",
       "      <td>...</td>\n",
       "      <td>...</td>\n",
       "      <td>...</td>\n",
       "      <td>...</td>\n",
       "      <td>...</td>\n",
       "      <td>...</td>\n",
       "      <td>...</td>\n",
       "      <td>...</td>\n",
       "      <td>...</td>\n",
       "      <td>...</td>\n",
       "      <td>...</td>\n",
       "      <td>...</td>\n",
       "      <td>...</td>\n",
       "      <td>...</td>\n",
       "      <td>...</td>\n",
       "      <td>...</td>\n",
       "      <td>...</td>\n",
       "    </tr>\n",
       "    <tr>\n",
       "      <th>1970-01-01 00:11:00</th>\n",
       "      <td>-0.071424</td>\n",
       "      <td>61.958522</td>\n",
       "      <td>-755.34</td>\n",
       "      <td>331.38</td>\n",
       "      <td>1086.72</td>\n",
       "      <td>-205.70</td>\n",
       "      <td>1.105593e+07</td>\n",
       "      <td>-3.706059</td>\n",
       "      <td>42.373726</td>\n",
       "      <td>98.0</td>\n",
       "      <td>...</td>\n",
       "      <td>0</td>\n",
       "      <td>0.01</td>\n",
       "      <td>0.03</td>\n",
       "      <td>32.81</td>\n",
       "      <td>32.84</td>\n",
       "      <td>5.187386</td>\n",
       "      <td>0.658744</td>\n",
       "      <td>0.002815</td>\n",
       "      <td>9</td>\n",
       "      <td>1</td>\n",
       "    </tr>\n",
       "    <tr>\n",
       "      <th>1970-01-01 00:11:10</th>\n",
       "      <td>-0.538152</td>\n",
       "      <td>20.536645</td>\n",
       "      <td>-87.61</td>\n",
       "      <td>77.53</td>\n",
       "      <td>165.14</td>\n",
       "      <td>-1205.46</td>\n",
       "      <td>9.453772e+05</td>\n",
       "      <td>-0.257402</td>\n",
       "      <td>0.571205</td>\n",
       "      <td>70.0</td>\n",
       "      <td>...</td>\n",
       "      <td>0</td>\n",
       "      <td>0.01</td>\n",
       "      <td>0.03</td>\n",
       "      <td>32.81</td>\n",
       "      <td>32.84</td>\n",
       "      <td>4.934474</td>\n",
       "      <td>0.563856</td>\n",
       "      <td>0.002711</td>\n",
       "      <td>9</td>\n",
       "      <td>1</td>\n",
       "    </tr>\n",
       "    <tr>\n",
       "      <th>1970-01-01 00:11:20</th>\n",
       "      <td>-0.865300</td>\n",
       "      <td>20.354221</td>\n",
       "      <td>-87.61</td>\n",
       "      <td>66.83</td>\n",
       "      <td>154.44</td>\n",
       "      <td>-1384.48</td>\n",
       "      <td>6.640689e+05</td>\n",
       "      <td>-0.312787</td>\n",
       "      <td>0.550581</td>\n",
       "      <td>49.0</td>\n",
       "      <td>...</td>\n",
       "      <td>0</td>\n",
       "      <td>0.01</td>\n",
       "      <td>0.01</td>\n",
       "      <td>32.83</td>\n",
       "      <td>32.84</td>\n",
       "      <td>4.595120</td>\n",
       "      <td>0.448864</td>\n",
       "      <td>0.002230</td>\n",
       "      <td>9</td>\n",
       "      <td>1</td>\n",
       "    </tr>\n",
       "    <tr>\n",
       "      <th>1970-01-01 00:11:30</th>\n",
       "      <td>-0.946281</td>\n",
       "      <td>20.475788</td>\n",
       "      <td>-87.61</td>\n",
       "      <td>57.67</td>\n",
       "      <td>145.28</td>\n",
       "      <td>-908.43</td>\n",
       "      <td>4.033472e+05</td>\n",
       "      <td>-0.490447</td>\n",
       "      <td>0.814513</td>\n",
       "      <td>29.0</td>\n",
       "      <td>...</td>\n",
       "      <td>0</td>\n",
       "      <td>0.01</td>\n",
       "      <td>0.04</td>\n",
       "      <td>32.83</td>\n",
       "      <td>32.87</td>\n",
       "      <td>4.077537</td>\n",
       "      <td>0.636016</td>\n",
       "      <td>0.002660</td>\n",
       "      <td>9</td>\n",
       "      <td>1</td>\n",
       "    </tr>\n",
       "    <tr>\n",
       "      <th>1970-01-01 00:11:40</th>\n",
       "      <td>-3.677438</td>\n",
       "      <td>23.833424</td>\n",
       "      <td>-87.61</td>\n",
       "      <td>57.67</td>\n",
       "      <td>145.28</td>\n",
       "      <td>-1176.78</td>\n",
       "      <td>1.860978e+05</td>\n",
       "      <td>-0.376120</td>\n",
       "      <td>1.282037</td>\n",
       "      <td>12.0</td>\n",
       "      <td>...</td>\n",
       "      <td>0</td>\n",
       "      <td>0.01</td>\n",
       "      <td>0.01</td>\n",
       "      <td>32.83</td>\n",
       "      <td>32.84</td>\n",
       "      <td>2.944439</td>\n",
       "      <td>0.696212</td>\n",
       "      <td>0.001383</td>\n",
       "      <td>9</td>\n",
       "      <td>1</td>\n",
       "    </tr>\n",
       "  </tbody>\n",
       "</table>\n",
       "<p>2770 rows × 222 columns</p>\n",
       "</div>"
      ],
      "text/plain": [
       "                     bvp_BVP_mean  bvp_BVP_std  bvp_BVP_min  bvp_BVP_max  \\\n",
       "datetime                                                                   \n",
       "1970-01-01 00:01:00      0.124318    66.395699      -264.71       272.99   \n",
       "1970-01-01 00:01:10      0.843435    58.168574      -264.71       272.99   \n",
       "1970-01-01 00:01:20      0.111445    53.332683      -264.71       272.99   \n",
       "1970-01-01 00:01:30      0.032427    51.826682      -264.71       272.99   \n",
       "1970-01-01 00:01:40      0.798964    55.666698      -324.07       474.78   \n",
       "...                           ...          ...          ...          ...   \n",
       "1970-01-01 00:11:00     -0.071424    61.958522      -755.34       331.38   \n",
       "1970-01-01 00:11:10     -0.538152    20.536645       -87.61        77.53   \n",
       "1970-01-01 00:11:20     -0.865300    20.354221       -87.61        66.83   \n",
       "1970-01-01 00:11:30     -0.946281    20.475788       -87.61        57.67   \n",
       "1970-01-01 00:11:40     -3.677438    23.833424       -87.61        57.67   \n",
       "\n",
       "                     bvp_BVP_ptp  bvp_BVP_sum  bvp_BVP_energy  \\\n",
       "datetime                                                        \n",
       "1970-01-01 00:01:00       537.70       477.38    1.692827e+07   \n",
       "1970-01-01 00:01:10       537.70      3238.79    1.299569e+07   \n",
       "1970-01-01 00:01:20       537.70       427.95    1.092245e+07   \n",
       "1970-01-01 00:01:30       537.70       124.52    1.031426e+07   \n",
       "1970-01-01 00:01:40       798.85      3068.02    1.190177e+07   \n",
       "...                          ...          ...             ...   \n",
       "1970-01-01 00:11:00      1086.72      -205.70    1.105593e+07   \n",
       "1970-01-01 00:11:10       165.14     -1205.46    9.453772e+05   \n",
       "1970-01-01 00:11:20       154.44     -1384.48    6.640689e+05   \n",
       "1970-01-01 00:11:30       145.28      -908.43    4.033472e+05   \n",
       "1970-01-01 00:11:40       145.28     -1176.78    1.860978e+05   \n",
       "\n",
       "                     bvp_BVP_skewness  bvp_BVP_kurtosis  bvp_BVP_peaks  ...  \\\n",
       "datetime                                                                ...   \n",
       "1970-01-01 00:01:00          0.023441          2.820353          145.0  ...   \n",
       "1970-01-01 00:01:10          0.112281          4.464214          149.0  ...   \n",
       "1970-01-01 00:01:20         -0.007924          6.198772          153.0  ...   \n",
       "1970-01-01 00:01:30         -0.025424          7.110108          158.0  ...   \n",
       "1970-01-01 00:01:40          1.471325         19.029749          160.0  ...   \n",
       "...                               ...               ...            ...  ...   \n",
       "1970-01-01 00:11:00         -3.706059         42.373726           98.0  ...   \n",
       "1970-01-01 00:11:10         -0.257402          0.571205           70.0  ...   \n",
       "1970-01-01 00:11:20         -0.312787          0.550581           49.0  ...   \n",
       "1970-01-01 00:11:30         -0.490447          0.814513           29.0  ...   \n",
       "1970-01-01 00:11:40         -0.376120          1.282037           12.0  ...   \n",
       "\n",
       "                     temp_l2_n_sign_changes  temp_l2_iqr  temp_l2_iqr_5_95  \\\n",
       "datetime                                                                     \n",
       "1970-01-01 00:01:00                       0         0.04              0.09   \n",
       "1970-01-01 00:01:10                       0         0.02              0.05   \n",
       "1970-01-01 00:01:20                       0         0.02              0.03   \n",
       "1970-01-01 00:01:30                       0         0.00              0.03   \n",
       "1970-01-01 00:01:40                       0         0.01              0.03   \n",
       "...                                     ...          ...               ...   \n",
       "1970-01-01 00:11:00                       0         0.01              0.03   \n",
       "1970-01-01 00:11:10                       0         0.01              0.03   \n",
       "1970-01-01 00:11:20                       0         0.01              0.01   \n",
       "1970-01-01 00:11:30                       0         0.01              0.04   \n",
       "1970-01-01 00:11:40                       0         0.01              0.01   \n",
       "\n",
       "                     temp_l2_pct_5  temp_l2_pct_95  temp_l2_entropy  \\\n",
       "datetime                                                              \n",
       "1970-01-01 00:01:00          33.25           33.34         5.480639   \n",
       "1970-01-01 00:01:10          33.29           33.34         5.480639   \n",
       "1970-01-01 00:01:20          33.31           33.34         5.480639   \n",
       "1970-01-01 00:01:30          33.31           33.34         5.480639   \n",
       "1970-01-01 00:01:40          33.31           33.34         5.480639   \n",
       "...                            ...             ...              ...   \n",
       "1970-01-01 00:11:00          32.81           32.84         5.187386   \n",
       "1970-01-01 00:11:10          32.81           32.84         4.934474   \n",
       "1970-01-01 00:11:20          32.83           32.84         4.595120   \n",
       "1970-01-01 00:11:30          32.83           32.87         4.077537   \n",
       "1970-01-01 00:11:40          32.83           32.84         2.944439   \n",
       "\n",
       "                     temp_l2_perm_entropy  temp_l2_svd_entropy  subject  label  \n",
       "datetime                                                                        \n",
       "1970-01-01 00:01:00              0.802811             0.003120       10      0  \n",
       "1970-01-01 00:01:10              0.795881             0.003081       10      0  \n",
       "1970-01-01 00:01:20              0.795881             0.002733       10      0  \n",
       "1970-01-01 00:01:30              0.774241             0.002471       10      0  \n",
       "1970-01-01 00:01:40              0.774241             0.002282       10      0  \n",
       "...                                   ...                  ...      ...    ...  \n",
       "1970-01-01 00:11:00              0.658744             0.002815        9      1  \n",
       "1970-01-01 00:11:10              0.563856             0.002711        9      1  \n",
       "1970-01-01 00:11:20              0.448864             0.002230        9      1  \n",
       "1970-01-01 00:11:30              0.636016             0.002660        9      1  \n",
       "1970-01-01 00:11:40              0.696212             0.001383        9      1  \n",
       "\n",
       "[2770 rows x 222 columns]"
      ]
     },
     "execution_count": 11,
     "metadata": {},
     "output_type": "execute_result"
    }
   ],
   "source": [
    "res"
   ]
  },
  {
   "cell_type": "code",
   "execution_count": 12,
   "id": "bfe80d3a",
   "metadata": {},
   "outputs": [],
   "source": [
    "# handle NANs\n",
    "res = res.dropna()"
   ]
  },
  {
   "cell_type": "code",
   "execution_count": 13,
   "id": "f6ea19d9",
   "metadata": {},
   "outputs": [
    {
     "data": {
      "text/html": [
       "<div>\n",
       "<style scoped>\n",
       "    .dataframe tbody tr th:only-of-type {\n",
       "        vertical-align: middle;\n",
       "    }\n",
       "\n",
       "    .dataframe tbody tr th {\n",
       "        vertical-align: top;\n",
       "    }\n",
       "\n",
       "    .dataframe thead th {\n",
       "        text-align: right;\n",
       "    }\n",
       "</style>\n",
       "<table border=\"1\" class=\"dataframe\">\n",
       "  <thead>\n",
       "    <tr style=\"text-align: right;\">\n",
       "      <th></th>\n",
       "      <th>bvp_BVP_mean</th>\n",
       "      <th>bvp_BVP_std</th>\n",
       "      <th>bvp_BVP_min</th>\n",
       "      <th>bvp_BVP_max</th>\n",
       "      <th>bvp_BVP_ptp</th>\n",
       "      <th>bvp_BVP_sum</th>\n",
       "      <th>bvp_BVP_energy</th>\n",
       "      <th>bvp_BVP_skewness</th>\n",
       "      <th>bvp_BVP_kurtosis</th>\n",
       "      <th>bvp_BVP_peaks</th>\n",
       "      <th>...</th>\n",
       "      <th>temp_l2_n_sign_changes</th>\n",
       "      <th>temp_l2_iqr</th>\n",
       "      <th>temp_l2_iqr_5_95</th>\n",
       "      <th>temp_l2_pct_5</th>\n",
       "      <th>temp_l2_pct_95</th>\n",
       "      <th>temp_l2_entropy</th>\n",
       "      <th>temp_l2_perm_entropy</th>\n",
       "      <th>temp_l2_svd_entropy</th>\n",
       "      <th>subject</th>\n",
       "      <th>label</th>\n",
       "    </tr>\n",
       "    <tr>\n",
       "      <th>datetime</th>\n",
       "      <th></th>\n",
       "      <th></th>\n",
       "      <th></th>\n",
       "      <th></th>\n",
       "      <th></th>\n",
       "      <th></th>\n",
       "      <th></th>\n",
       "      <th></th>\n",
       "      <th></th>\n",
       "      <th></th>\n",
       "      <th></th>\n",
       "      <th></th>\n",
       "      <th></th>\n",
       "      <th></th>\n",
       "      <th></th>\n",
       "      <th></th>\n",
       "      <th></th>\n",
       "      <th></th>\n",
       "      <th></th>\n",
       "      <th></th>\n",
       "      <th></th>\n",
       "    </tr>\n",
       "  </thead>\n",
       "  <tbody>\n",
       "    <tr>\n",
       "      <th>1970-01-01 00:01:00</th>\n",
       "      <td>0.124318</td>\n",
       "      <td>66.395699</td>\n",
       "      <td>-264.71</td>\n",
       "      <td>272.99</td>\n",
       "      <td>537.70</td>\n",
       "      <td>477.38</td>\n",
       "      <td>1.692827e+07</td>\n",
       "      <td>0.023441</td>\n",
       "      <td>2.820353</td>\n",
       "      <td>145.0</td>\n",
       "      <td>...</td>\n",
       "      <td>0</td>\n",
       "      <td>0.04</td>\n",
       "      <td>0.09</td>\n",
       "      <td>33.25</td>\n",
       "      <td>33.34</td>\n",
       "      <td>5.480639</td>\n",
       "      <td>0.802811</td>\n",
       "      <td>0.003120</td>\n",
       "      <td>10</td>\n",
       "      <td>0</td>\n",
       "    </tr>\n",
       "    <tr>\n",
       "      <th>1970-01-01 00:01:10</th>\n",
       "      <td>0.843435</td>\n",
       "      <td>58.168574</td>\n",
       "      <td>-264.71</td>\n",
       "      <td>272.99</td>\n",
       "      <td>537.70</td>\n",
       "      <td>3238.79</td>\n",
       "      <td>1.299569e+07</td>\n",
       "      <td>0.112281</td>\n",
       "      <td>4.464214</td>\n",
       "      <td>149.0</td>\n",
       "      <td>...</td>\n",
       "      <td>0</td>\n",
       "      <td>0.02</td>\n",
       "      <td>0.05</td>\n",
       "      <td>33.29</td>\n",
       "      <td>33.34</td>\n",
       "      <td>5.480639</td>\n",
       "      <td>0.795881</td>\n",
       "      <td>0.003081</td>\n",
       "      <td>10</td>\n",
       "      <td>0</td>\n",
       "    </tr>\n",
       "    <tr>\n",
       "      <th>1970-01-01 00:01:20</th>\n",
       "      <td>0.111445</td>\n",
       "      <td>53.332683</td>\n",
       "      <td>-264.71</td>\n",
       "      <td>272.99</td>\n",
       "      <td>537.70</td>\n",
       "      <td>427.95</td>\n",
       "      <td>1.092245e+07</td>\n",
       "      <td>-0.007924</td>\n",
       "      <td>6.198772</td>\n",
       "      <td>153.0</td>\n",
       "      <td>...</td>\n",
       "      <td>0</td>\n",
       "      <td>0.02</td>\n",
       "      <td>0.03</td>\n",
       "      <td>33.31</td>\n",
       "      <td>33.34</td>\n",
       "      <td>5.480639</td>\n",
       "      <td>0.795881</td>\n",
       "      <td>0.002733</td>\n",
       "      <td>10</td>\n",
       "      <td>0</td>\n",
       "    </tr>\n",
       "    <tr>\n",
       "      <th>1970-01-01 00:01:30</th>\n",
       "      <td>0.032427</td>\n",
       "      <td>51.826682</td>\n",
       "      <td>-264.71</td>\n",
       "      <td>272.99</td>\n",
       "      <td>537.70</td>\n",
       "      <td>124.52</td>\n",
       "      <td>1.031426e+07</td>\n",
       "      <td>-0.025424</td>\n",
       "      <td>7.110108</td>\n",
       "      <td>158.0</td>\n",
       "      <td>...</td>\n",
       "      <td>0</td>\n",
       "      <td>0.00</td>\n",
       "      <td>0.03</td>\n",
       "      <td>33.31</td>\n",
       "      <td>33.34</td>\n",
       "      <td>5.480639</td>\n",
       "      <td>0.774241</td>\n",
       "      <td>0.002471</td>\n",
       "      <td>10</td>\n",
       "      <td>0</td>\n",
       "    </tr>\n",
       "    <tr>\n",
       "      <th>1970-01-01 00:01:40</th>\n",
       "      <td>0.798964</td>\n",
       "      <td>55.666698</td>\n",
       "      <td>-324.07</td>\n",
       "      <td>474.78</td>\n",
       "      <td>798.85</td>\n",
       "      <td>3068.02</td>\n",
       "      <td>1.190177e+07</td>\n",
       "      <td>1.471325</td>\n",
       "      <td>19.029749</td>\n",
       "      <td>160.0</td>\n",
       "      <td>...</td>\n",
       "      <td>0</td>\n",
       "      <td>0.01</td>\n",
       "      <td>0.03</td>\n",
       "      <td>33.31</td>\n",
       "      <td>33.34</td>\n",
       "      <td>5.480639</td>\n",
       "      <td>0.774241</td>\n",
       "      <td>0.002282</td>\n",
       "      <td>10</td>\n",
       "      <td>0</td>\n",
       "    </tr>\n",
       "    <tr>\n",
       "      <th>...</th>\n",
       "      <td>...</td>\n",
       "      <td>...</td>\n",
       "      <td>...</td>\n",
       "      <td>...</td>\n",
       "      <td>...</td>\n",
       "      <td>...</td>\n",
       "      <td>...</td>\n",
       "      <td>...</td>\n",
       "      <td>...</td>\n",
       "      <td>...</td>\n",
       "      <td>...</td>\n",
       "      <td>...</td>\n",
       "      <td>...</td>\n",
       "      <td>...</td>\n",
       "      <td>...</td>\n",
       "      <td>...</td>\n",
       "      <td>...</td>\n",
       "      <td>...</td>\n",
       "      <td>...</td>\n",
       "      <td>...</td>\n",
       "      <td>...</td>\n",
       "    </tr>\n",
       "    <tr>\n",
       "      <th>1970-01-01 00:11:00</th>\n",
       "      <td>-0.071424</td>\n",
       "      <td>61.958522</td>\n",
       "      <td>-755.34</td>\n",
       "      <td>331.38</td>\n",
       "      <td>1086.72</td>\n",
       "      <td>-205.70</td>\n",
       "      <td>1.105593e+07</td>\n",
       "      <td>-3.706059</td>\n",
       "      <td>42.373726</td>\n",
       "      <td>98.0</td>\n",
       "      <td>...</td>\n",
       "      <td>0</td>\n",
       "      <td>0.01</td>\n",
       "      <td>0.03</td>\n",
       "      <td>32.81</td>\n",
       "      <td>32.84</td>\n",
       "      <td>5.187386</td>\n",
       "      <td>0.658744</td>\n",
       "      <td>0.002815</td>\n",
       "      <td>9</td>\n",
       "      <td>1</td>\n",
       "    </tr>\n",
       "    <tr>\n",
       "      <th>1970-01-01 00:11:10</th>\n",
       "      <td>-0.538152</td>\n",
       "      <td>20.536645</td>\n",
       "      <td>-87.61</td>\n",
       "      <td>77.53</td>\n",
       "      <td>165.14</td>\n",
       "      <td>-1205.46</td>\n",
       "      <td>9.453772e+05</td>\n",
       "      <td>-0.257402</td>\n",
       "      <td>0.571205</td>\n",
       "      <td>70.0</td>\n",
       "      <td>...</td>\n",
       "      <td>0</td>\n",
       "      <td>0.01</td>\n",
       "      <td>0.03</td>\n",
       "      <td>32.81</td>\n",
       "      <td>32.84</td>\n",
       "      <td>4.934474</td>\n",
       "      <td>0.563856</td>\n",
       "      <td>0.002711</td>\n",
       "      <td>9</td>\n",
       "      <td>1</td>\n",
       "    </tr>\n",
       "    <tr>\n",
       "      <th>1970-01-01 00:11:20</th>\n",
       "      <td>-0.865300</td>\n",
       "      <td>20.354221</td>\n",
       "      <td>-87.61</td>\n",
       "      <td>66.83</td>\n",
       "      <td>154.44</td>\n",
       "      <td>-1384.48</td>\n",
       "      <td>6.640689e+05</td>\n",
       "      <td>-0.312787</td>\n",
       "      <td>0.550581</td>\n",
       "      <td>49.0</td>\n",
       "      <td>...</td>\n",
       "      <td>0</td>\n",
       "      <td>0.01</td>\n",
       "      <td>0.01</td>\n",
       "      <td>32.83</td>\n",
       "      <td>32.84</td>\n",
       "      <td>4.595120</td>\n",
       "      <td>0.448864</td>\n",
       "      <td>0.002230</td>\n",
       "      <td>9</td>\n",
       "      <td>1</td>\n",
       "    </tr>\n",
       "    <tr>\n",
       "      <th>1970-01-01 00:11:30</th>\n",
       "      <td>-0.946281</td>\n",
       "      <td>20.475788</td>\n",
       "      <td>-87.61</td>\n",
       "      <td>57.67</td>\n",
       "      <td>145.28</td>\n",
       "      <td>-908.43</td>\n",
       "      <td>4.033472e+05</td>\n",
       "      <td>-0.490447</td>\n",
       "      <td>0.814513</td>\n",
       "      <td>29.0</td>\n",
       "      <td>...</td>\n",
       "      <td>0</td>\n",
       "      <td>0.01</td>\n",
       "      <td>0.04</td>\n",
       "      <td>32.83</td>\n",
       "      <td>32.87</td>\n",
       "      <td>4.077537</td>\n",
       "      <td>0.636016</td>\n",
       "      <td>0.002660</td>\n",
       "      <td>9</td>\n",
       "      <td>1</td>\n",
       "    </tr>\n",
       "    <tr>\n",
       "      <th>1970-01-01 00:11:40</th>\n",
       "      <td>-3.677438</td>\n",
       "      <td>23.833424</td>\n",
       "      <td>-87.61</td>\n",
       "      <td>57.67</td>\n",
       "      <td>145.28</td>\n",
       "      <td>-1176.78</td>\n",
       "      <td>1.860978e+05</td>\n",
       "      <td>-0.376120</td>\n",
       "      <td>1.282037</td>\n",
       "      <td>12.0</td>\n",
       "      <td>...</td>\n",
       "      <td>0</td>\n",
       "      <td>0.01</td>\n",
       "      <td>0.01</td>\n",
       "      <td>32.83</td>\n",
       "      <td>32.84</td>\n",
       "      <td>2.944439</td>\n",
       "      <td>0.696212</td>\n",
       "      <td>0.001383</td>\n",
       "      <td>9</td>\n",
       "      <td>1</td>\n",
       "    </tr>\n",
       "  </tbody>\n",
       "</table>\n",
       "<p>2765 rows × 222 columns</p>\n",
       "</div>"
      ],
      "text/plain": [
       "                     bvp_BVP_mean  bvp_BVP_std  bvp_BVP_min  bvp_BVP_max  \\\n",
       "datetime                                                                   \n",
       "1970-01-01 00:01:00      0.124318    66.395699      -264.71       272.99   \n",
       "1970-01-01 00:01:10      0.843435    58.168574      -264.71       272.99   \n",
       "1970-01-01 00:01:20      0.111445    53.332683      -264.71       272.99   \n",
       "1970-01-01 00:01:30      0.032427    51.826682      -264.71       272.99   \n",
       "1970-01-01 00:01:40      0.798964    55.666698      -324.07       474.78   \n",
       "...                           ...          ...          ...          ...   \n",
       "1970-01-01 00:11:00     -0.071424    61.958522      -755.34       331.38   \n",
       "1970-01-01 00:11:10     -0.538152    20.536645       -87.61        77.53   \n",
       "1970-01-01 00:11:20     -0.865300    20.354221       -87.61        66.83   \n",
       "1970-01-01 00:11:30     -0.946281    20.475788       -87.61        57.67   \n",
       "1970-01-01 00:11:40     -3.677438    23.833424       -87.61        57.67   \n",
       "\n",
       "                     bvp_BVP_ptp  bvp_BVP_sum  bvp_BVP_energy  \\\n",
       "datetime                                                        \n",
       "1970-01-01 00:01:00       537.70       477.38    1.692827e+07   \n",
       "1970-01-01 00:01:10       537.70      3238.79    1.299569e+07   \n",
       "1970-01-01 00:01:20       537.70       427.95    1.092245e+07   \n",
       "1970-01-01 00:01:30       537.70       124.52    1.031426e+07   \n",
       "1970-01-01 00:01:40       798.85      3068.02    1.190177e+07   \n",
       "...                          ...          ...             ...   \n",
       "1970-01-01 00:11:00      1086.72      -205.70    1.105593e+07   \n",
       "1970-01-01 00:11:10       165.14     -1205.46    9.453772e+05   \n",
       "1970-01-01 00:11:20       154.44     -1384.48    6.640689e+05   \n",
       "1970-01-01 00:11:30       145.28      -908.43    4.033472e+05   \n",
       "1970-01-01 00:11:40       145.28     -1176.78    1.860978e+05   \n",
       "\n",
       "                     bvp_BVP_skewness  bvp_BVP_kurtosis  bvp_BVP_peaks  ...  \\\n",
       "datetime                                                                ...   \n",
       "1970-01-01 00:01:00          0.023441          2.820353          145.0  ...   \n",
       "1970-01-01 00:01:10          0.112281          4.464214          149.0  ...   \n",
       "1970-01-01 00:01:20         -0.007924          6.198772          153.0  ...   \n",
       "1970-01-01 00:01:30         -0.025424          7.110108          158.0  ...   \n",
       "1970-01-01 00:01:40          1.471325         19.029749          160.0  ...   \n",
       "...                               ...               ...            ...  ...   \n",
       "1970-01-01 00:11:00         -3.706059         42.373726           98.0  ...   \n",
       "1970-01-01 00:11:10         -0.257402          0.571205           70.0  ...   \n",
       "1970-01-01 00:11:20         -0.312787          0.550581           49.0  ...   \n",
       "1970-01-01 00:11:30         -0.490447          0.814513           29.0  ...   \n",
       "1970-01-01 00:11:40         -0.376120          1.282037           12.0  ...   \n",
       "\n",
       "                     temp_l2_n_sign_changes  temp_l2_iqr  temp_l2_iqr_5_95  \\\n",
       "datetime                                                                     \n",
       "1970-01-01 00:01:00                       0         0.04              0.09   \n",
       "1970-01-01 00:01:10                       0         0.02              0.05   \n",
       "1970-01-01 00:01:20                       0         0.02              0.03   \n",
       "1970-01-01 00:01:30                       0         0.00              0.03   \n",
       "1970-01-01 00:01:40                       0         0.01              0.03   \n",
       "...                                     ...          ...               ...   \n",
       "1970-01-01 00:11:00                       0         0.01              0.03   \n",
       "1970-01-01 00:11:10                       0         0.01              0.03   \n",
       "1970-01-01 00:11:20                       0         0.01              0.01   \n",
       "1970-01-01 00:11:30                       0         0.01              0.04   \n",
       "1970-01-01 00:11:40                       0         0.01              0.01   \n",
       "\n",
       "                     temp_l2_pct_5  temp_l2_pct_95  temp_l2_entropy  \\\n",
       "datetime                                                              \n",
       "1970-01-01 00:01:00          33.25           33.34         5.480639   \n",
       "1970-01-01 00:01:10          33.29           33.34         5.480639   \n",
       "1970-01-01 00:01:20          33.31           33.34         5.480639   \n",
       "1970-01-01 00:01:30          33.31           33.34         5.480639   \n",
       "1970-01-01 00:01:40          33.31           33.34         5.480639   \n",
       "...                            ...             ...              ...   \n",
       "1970-01-01 00:11:00          32.81           32.84         5.187386   \n",
       "1970-01-01 00:11:10          32.81           32.84         4.934474   \n",
       "1970-01-01 00:11:20          32.83           32.84         4.595120   \n",
       "1970-01-01 00:11:30          32.83           32.87         4.077537   \n",
       "1970-01-01 00:11:40          32.83           32.84         2.944439   \n",
       "\n",
       "                     temp_l2_perm_entropy  temp_l2_svd_entropy  subject  label  \n",
       "datetime                                                                        \n",
       "1970-01-01 00:01:00              0.802811             0.003120       10      0  \n",
       "1970-01-01 00:01:10              0.795881             0.003081       10      0  \n",
       "1970-01-01 00:01:20              0.795881             0.002733       10      0  \n",
       "1970-01-01 00:01:30              0.774241             0.002471       10      0  \n",
       "1970-01-01 00:01:40              0.774241             0.002282       10      0  \n",
       "...                                   ...                  ...      ...    ...  \n",
       "1970-01-01 00:11:00              0.658744             0.002815        9      1  \n",
       "1970-01-01 00:11:10              0.563856             0.002711        9      1  \n",
       "1970-01-01 00:11:20              0.448864             0.002230        9      1  \n",
       "1970-01-01 00:11:30              0.636016             0.002660        9      1  \n",
       "1970-01-01 00:11:40              0.696212             0.001383        9      1  \n",
       "\n",
       "[2765 rows x 222 columns]"
      ]
     },
     "execution_count": 13,
     "metadata": {},
     "output_type": "execute_result"
    }
   ],
   "source": [
    "res"
   ]
  },
  {
   "cell_type": "code",
   "execution_count": 14,
   "id": "48583b61",
   "metadata": {},
   "outputs": [],
   "source": [
    "# store as parquet\n",
    "\n",
    "if not os.path.isdir('data-input'):\n",
    "    os.makedirs('data-input')\n",
    "\n",
    "res.to_parquet('data-input/flirt-wesad-acc-bvp-eda-temp-'+str(window_length)+'-'+str(window_step_size)+'.parquet')"
   ]
  }
 ],
 "metadata": {
  "kernelspec": {
   "display_name": "Python (stress01)",
   "language": "python",
   "name": "stress01"
  },
  "language_info": {
   "codemirror_mode": {
    "name": "ipython",
    "version": 3
   },
   "file_extension": ".py",
   "mimetype": "text/x-python",
   "name": "python",
   "nbconvert_exporter": "python",
   "pygments_lexer": "ipython3",
   "version": "3.10.8"
  },
  "vscode": {
   "interpreter": {
    "hash": "ac3862ffb0994221057f03ad1f57f6630f2090f9565041b0fb3dd1e2ccbab05e"
   }
  }
 },
 "nbformat": 4,
 "nbformat_minor": 5
}
