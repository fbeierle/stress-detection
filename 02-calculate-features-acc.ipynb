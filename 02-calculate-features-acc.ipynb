{
 "cells": [
  {
   "cell_type": "code",
   "execution_count": 7,
   "id": "6504b31a",
   "metadata": {},
   "outputs": [],
   "source": [
    "import pandas as pd\n",
    "import numpy as np\n",
    "import flirt\n",
    "import os\n",
    "import jupyter\n",
    "import ipywidgets"
   ]
  },
  {
   "cell_type": "markdown",
   "id": "1bd9db47",
   "metadata": {},
   "source": [
    "# 1. Load WESAD and nurses dataset"
   ]
  },
  {
   "cell_type": "code",
   "execution_count": null,
   "id": "971663d6",
   "metadata": {},
   "outputs": [],
   "source": [
    "# load data\n",
    "df_wesad = pd.read_parquet('data-input/dataset_wesad.parquet')\n",
    "df_nurses = pd.read_parquet('data-input/dataset_nurses.parquet')\n",
    "\n",
    "df = pd.concat([df_wesad, df_nurses])"
   ]
  },
  {
   "cell_type": "markdown",
   "id": "b0e3cb61",
   "metadata": {},
   "source": [
    "# 2. Function for getting features from FLIRT"
   ]
  },
  {
   "cell_type": "code",
   "execution_count": null,
   "id": "0c63214b",
   "metadata": {},
   "outputs": [],
   "source": [
    "def get_acc_features(subject, label, data, window_length, window_step_size):\n",
    "\n",
    "    # we need to set a correct datetime index with 32hz, which is 3125000 nanoseconds,\n",
    "    # otherwise Flirt will create a wrong timeindex\n",
    "    time_index = pd.date_range(start=0, periods=len(data), freq='31250000N')\n",
    "    data = data.set_index(time_index)\n",
    "    \n",
    "    # calculate features\n",
    "    acc_features = flirt.get_acc_features(data,\n",
    "                                      window_length = window_length, \n",
    "                                      window_step_size = window_step_size,\n",
    "                                      data_frequency = 32)\n",
    "\n",
    "    # remove index\n",
    "    acc_features = acc_features.reset_index()\n",
    "    acc_features = acc_features.drop(columns=['datetime'])\n",
    "\n",
    "    # add subject and label column\n",
    "    acc_features['subject'] = subject\n",
    "    acc_features['label'] = label\n",
    "\n",
    "    return acc_features"
   ]
  },
  {
   "cell_type": "markdown",
   "id": "afd0b9d7",
   "metadata": {},
   "source": [
    "# 3. Calculate features for the whole dataset"
   ]
  },
  {
   "cell_type": "code",
   "execution_count": null,
   "id": "0b03c7b8",
   "metadata": {},
   "outputs": [],
   "source": [
    "df.shape"
   ]
  },
  {
   "cell_type": "code",
   "execution_count": null,
   "id": "41c20acc",
   "metadata": {},
   "outputs": [],
   "source": [
    "df.describe()"
   ]
  },
  {
   "cell_type": "code",
   "execution_count": null,
   "id": "de1ddd23",
   "metadata": {},
   "outputs": [],
   "source": [
    "%%time\n",
    "\n",
    "result_dfs = []\n",
    "\n",
    "window_length = 60\n",
    "window_step_size = 1\n",
    "\n",
    "# loop over subject and label groups\n",
    "for key, df_chunk in df.groupby(['subject', 'label']):\n",
    "\n",
    "    subject = key[0]\n",
    "    label = key[1]\n",
    "    df_chunk = df_chunk.drop(columns=['subject', 'label'])\n",
    "\n",
    "    # each subject-label combination might have multiple inner chunks\n",
    "    # consecutive index means consecutive measurements. We split each df_chunk if the\n",
    "    # index is more than one (1/32 second) away\n",
    "    list_of_df_chunk_inner = np.split(df_chunk, np.flatnonzero(np.diff(df_chunk.index) != 1) + 1)\n",
    "\n",
    "    # calculate features\n",
    "    for df_chunk_inner in list_of_df_chunk_inner:\n",
    "        #display(df_chunk_inner)\n",
    "        res_df_chunk_inner = get_acc_features(subject, label, df_chunk_inner, window_length, window_step_size)\n",
    "        result_dfs.append(res_df_chunk_inner)\n",
    "\n",
    "res = pd.concat(result_dfs)"
   ]
  },
  {
   "cell_type": "code",
   "execution_count": null,
   "id": "bfe80d3a",
   "metadata": {},
   "outputs": [],
   "source": [
    "# handle NANs\n",
    "res = res.dropna()"
   ]
  },
  {
   "cell_type": "code",
   "execution_count": null,
   "id": "48583b61",
   "metadata": {},
   "outputs": [],
   "source": [
    "# store as parquet\n",
    "\n",
    "if not os.path.isdir('data-input'):\n",
    "    os.makedirs('data-input')\n",
    "\n",
    "res.to_parquet('data-input/flirt-'+str(window_length)+'-'+str(window_step_size)+'.parquet')"
   ]
  },
  {
   "cell_type": "code",
   "execution_count": null,
   "id": "6d25ab01",
   "metadata": {},
   "outputs": [],
   "source": [
    "res"
   ]
  }
 ],
 "metadata": {
  "kernelspec": {
   "display_name": "Python 3 (ipykernel)",
   "language": "python",
   "name": "python3"
  },
  "language_info": {
   "codemirror_mode": {
    "name": "ipython",
    "version": 3
   },
   "file_extension": ".py",
   "mimetype": "text/x-python",
   "name": "python",
   "nbconvert_exporter": "python",
   "pygments_lexer": "ipython3",
   "version": "3.9.7"
  },
  "vscode": {
   "interpreter": {
    "hash": "7faeafcdb7b1476f711d2dd1a59a238cf05b963035646615ec88d1898d9d931a"
   }
  }
 },
 "nbformat": 4,
 "nbformat_minor": 5
}
